{
 "cells": [
  {
   "cell_type": "markdown",
   "metadata": {},
   "source": [
    "# Exploring Python\n",
    "\n",
    "\n",
    "## What's in this section?\n",
    "\n",
    "In this section we will overview the python programming language, and how to install the Anaconda Python distribution. We will then cover how to use python like a calculator and apply that to estimate how large of a  colony a single bacterium would produce after two weeks of growth without resource limitation.\n",
    "\n",
    "To complete this section you will need:\n",
    "* A computer with a recent Mac OSX, Windows, or Linux operating system installed\n",
    "* The capability to install software onto your computer (e.g. administrative permissions)\n",
    "* A working internet connection"
   ]
  },
  {
   "cell_type": "markdown",
   "metadata": {},
   "source": [
    "## Overview of the python programming language\n",
    "\n",
    "Many programming languages including Python, the R statistical programming language, C, and Java are commonly used in Bioinformatics research. This project introduces bioinformatics research using python. This general-purpose programming language was created by Guido van Rossum and first released in 1991. It runs on Windows, Mac OSX and Linux.\n",
    "\n",
    "If you are just getting started with coding, python is an excellent language to learn. If you are already experienced with other programming languages, you will find much that is familiar.\n",
    "\n",
    "So what makes distinguishes these different languages? One way programming languages are distinguished is by how they fall into certain common categories. Python, for example, is an interpreted, high-level, general-purpose, dynamically-typed programming language. Let's unpack what those terms mean in order to better understand python.\n",
    "\n",
    "**interpreted**. Python is described as an interpreted language. This means that python itself is a program on your computer. When you write a python script, that script is *simply a text file*. By running the python program on your text file, you can tell it to do all sorts of things - run calculations on a genome, generate a graph, etc. This is in contrast to *compiled* languages like C. In those languages, a compiler converts your code into a runnable program. Generally, compiled languages can run faster than interpreted languages. However, being able to rapidly test each version of your script without an extra compiling step can make developing new programs faster. Folks sometimes refer to this as a tradeoff between development time (time spent writing your code) and run time (time the computer spends actually running your code). In many scientific applications, where the number of users is small and new code must be continuously developed, development time is very long compared to run time, and therefore interpreted languages are widely used. (It should also be noted that there are ways to partially achieve some of the speed advantages of compiled languages - check out e.g. PyPy if interested)\n",
    "\n",
    "**high-level**. High level languages mean that the language has many automated methods that automatically handle aspects of how the code you write is implemented by your computer. For example, when we define a variable in python we don't have to worry about allocating memory to store the contents of that variable - python does it for us. This contrasts with other languages like C where memory allocation must be performed manually. Generally speaking, it is much easier to quickly write a working program in a high-level language. However, low-level languages can provide fine-grained control that can help optimize very computationally-intensive programs. \n",
    "\n",
    "**dynamically-typed**. In python, a name like x or my_genome can be associated with objects of any type. This contrasts with statically-typed languages like C or Java. In those languages we must decide that the variable x will always be an integer when we create the variable. \n",
    "\n",
    "So this is what we mean when we say python is an interpreted, high-level, dynamically-typed language. You may notice that many of these features make python scripts fast (and I think *fun*) to write, but slower for your computer to run than some other languages. This is largely why you will find many bioinformatic programs written in python, but few best-selling video games written in the language."
   ]
  },
  {
   "cell_type": "markdown",
   "metadata": {},
   "source": [
    "## Installing python\n",
    "\n",
    "There are many different versions of python available. This project is written in the Anaconda Python distribution of Python 3.7. This version of python is designed with bioinformatics and other types of data analytics in mind. It comes with many libraries (extensions to the core language) that allow for making custom graphs, using matrices to perform large-scale calculations rapidly, etc. \n",
    "\n",
    "A python installer can be found at https://www.anaconda.com/download. The exact link and appearance of the Donwload page unfortunately changes from time to time when the website updates. If that happens, just search 'anaconda python' in a search engine and follow links for the download or distribution page. \n",
    "<img src=\"./resources/Anaconda_download_page.png\" width=\"800\"  description=\"A picture of the Anaconda download page\">\n",
    "\n",
    "Normally, the website will automatically default to the right version of Anaconda python for your computer. If you need a different one, you can pick manually.\n",
    "\n",
    "The installer can be opened in the standard way to install python (e.g. by double-clicking on it). On Mac you may be warned that this is external software that can't be opened. If so, right-click or two-finger click on the installer, then pick open from the dialogue box that pops up.\n",
    "\n",
    "During installation, a dialogue box will appear asking if you would like to make this version of python your default, and another asking if you would like to add python to your path. If you have never used python before, I strongly recommend checking both boxes.\n",
    "\n",
    "(If you are already an experienced programmer / systems administrator, you will be able to make your own determination.)\n",
    "\n",
    "Once installed, if you checked the box to add python to your path, python can be run from the command line. (See the previous chapter if you need to learn how to use the command line, or need a refresher). "
   ]
  },
  {
   "cell_type": "markdown",
   "metadata": {},
   "source": [
    "## Starting python\n",
    "\n",
    "**On Mac**, your Anaconda distribution of python can be accessed by open Terminal (Mac), typing `python` and hitting enter. \n",
    "\n",
    "**On Windows**, search for Anaconda PowerShell in the Windows menu, open it, then type `python` and hit enter. If you checked the box to add python to your path, you can also open it in regular PowerShell. \n",
    "\n",
    "after typing `python` and hitting enter, you may see something like this:\n",
    "\n",
    "Python 3.7.2 (default, Dec 29 2018, 00:00:04) \n",
    "[Clang 4.0.1 (tags/RELEASE_401/final)] :: Anaconda custom (64-bit) on darwin\n",
    "Type \"help\", \"copyright\", \"credits\" or \"license\" for more information.\n",
    "\n",
    ">\n",
    "\n",
    "That indicates that an interactive session has begun! You can now type python code and hit enter, and get either a result, or an error message (don't worry if you get errors - they're just feedback to help fix your code, and we'll talk about how to interpret them down below). "
   ]
  },
  {
   "cell_type": "markdown",
   "metadata": {},
   "source": [
    "### Note about python vs. command line commands\n",
    "\n",
    "Note that once you start the python interpreter, everything else you type until you in that window will be interpreted as python code, not command line commands like `ls` or `mkdir`. Conversely, before you start python, python commands like `print(\"Hello World\")` that we'll learn about below won't work, since they are not valid BASH or PowerShell commands. When you are in python you can quit at any time by typing `quit()` and hitting enter. Type `python` to go back into python."
   ]
  },
  {
   "cell_type": "markdown",
   "metadata": {},
   "source": [
    "### Troubleshooting common installation issues\n",
    "\n",
    "If you get an error message indicating that python wasn't found, you may need to retart your Terminal or PowerShell and try again (this allows the changes the installer made to be detected).\n",
    "\n",
    "If that doesn't work, you might try reinstalling from scratch, being sure to check the two dialog boxes to make Anaconda Python your default python and to add it to your path.\n",
    "\n",
    "If that *still* doesn't work, you should get in touch with a computer-savvy friend, instructor, or colleague who can help sort out any issues you might be having. \n",
    "\n",
    "Python normally installs easily, but if you have trouble, the most important thing to remember is: \n",
    "\n",
    "DON'T PUT THIS OFF OR GIVE UP! \n",
    "\n",
    "Getting set up to *start* programming is often the hardest part for folks who are just learning. It's very normal, and a very good idea, to ask for lots of help at the start of the process. Don't worry - it will get much easier to learn on your own as you get further along. "
   ]
  },
  {
   "cell_type": "markdown",
   "metadata": {},
   "source": [
    "# Taking python for a spin\n",
    "\n",
    "Before diving into a more formal discussion of how python is structured, I'd like us to try a few simple examples. You can follow along by typing these into your python interpreter and hitting enter after each line.\n",
    "\n",
    "Note that spelling, capitalization and spacing matters (python will interpret x as a totally different variable from X).\n",
    "\n",
    "These will start off very general and non-biological, but by the end of the page we will apply these basics to recreate a famous calculation regarding population growth from Darwin's *On the Origin of Species*, using bacteria as our example.\n",
    "\n",
    "## Hello World!\n",
    "\n",
    "It is traditional to start learning any new programming language by printing the phrase \"Hello World!\" to the screen. We can do that in python as follows:"
   ]
  },
  {
   "cell_type": "code",
   "execution_count": 1,
   "metadata": {},
   "outputs": [
    {
     "name": "stdout",
     "output_type": "stream",
     "text": [
      "Hello World!\n"
     ]
    }
   ],
   "source": [
    "print(\"Hello World!\")"
   ]
  },
  {
   "cell_type": "markdown",
   "metadata": {},
   "source": [
    "If that worked, then congratulations! You've entered your first python command."
   ]
  },
  {
   "cell_type": "markdown",
   "metadata": {},
   "source": [
    "## Your First Error Message in Python\n",
    "\n",
    "If you give python input that it can't interpret, it will try to help by stopping execution of your commands and sending you an **error message** that explains what went wrong. If you get one, don't panic! You don't get any penalty for getting error messages. Beginning programmers sometimes think that getting an error message means they have failed - but experienced programmers get them all the time! In fact, most experienced programmers have gotten so many over the years that they can often rapidly figure out why and how to fix it. It's just another form of feedback. Let's get our first error message in python out of the way right now. Let's say we wanted to figure out if python cares about whether the commands we type are UPPERCASE or lowercase. We could test that by retyping our same command above, but replacing print(\"Hello World!\") with PRINT(\"Hellow World!\"). If python is *case-sensitive* then it will not know what PRINT means and will likely give us an error message.\n"
   ]
  },
  {
   "cell_type": "code",
   "execution_count": 2,
   "metadata": {},
   "outputs": [
    {
     "ename": "NameError",
     "evalue": "name 'PRINT' is not defined",
     "output_type": "error",
     "traceback": [
      "\u001b[0;31m---------------------------------------------------------------------------\u001b[0m",
      "\u001b[0;31mNameError\u001b[0m                                 Traceback (most recent call last)",
      "\u001b[0;32m<ipython-input-2-b431a2b05b4c>\u001b[0m in \u001b[0;36m<module>\u001b[0;34m\u001b[0m\n\u001b[0;32m----> 1\u001b[0;31m \u001b[0mPRINT\u001b[0m\u001b[0;34m(\u001b[0m\u001b[0;34m\"Hello World!\"\u001b[0m\u001b[0;34m)\u001b[0m\u001b[0;34m\u001b[0m\u001b[0;34m\u001b[0m\u001b[0m\n\u001b[0m",
      "\u001b[0;31mNameError\u001b[0m: name 'PRINT' is not defined"
     ]
    }
   ],
   "source": [
    "PRINT(\"Hello World!\")"
   ]
  },
  {
   "cell_type": "markdown",
   "metadata": {},
   "source": [
    "We changed the case of the word print and got an error. It may help to read it from bottom to top. It may also help to read it out loud. I read, \"NameError: name 'PRINT' is not defined\". By comparing the text that produced the error to the text up above that works, we might conclude that python commands are *case sensitive* - print is not the same as PRINT.\n",
    "\n",
    "If you like, you can try to get other errors to test out what's important. What type of error do you get if you leave off the parentheses? What about if you use only one rather than both of them? What if you leave off the quotation marks around \"Hello world\"?\n",
    "\n",
    "I hope you're getting the idea that errors in python *work for you*. Feel free to intentionally get errors to help you understand the limits of the language.\n",
    "\n",
    "Now that we have called our first python command and gotten our first error message, let's break down what we just did.\n",
    "\n",
    "###  Calling Python Functions\n",
    "When we typed print, python interpreted that as a *function*. Functions take input and do things with it. They may in some cases give us back a result. The way they take input is based on what we put inside the parentheses after we call the function. Variables we pass to a function when we call it are known as the *arguments* of that function.\n",
    "\n",
    "So in our example \"Hello World!\" would be an argument we are passing to the print function. Why is \"Hello World!\" in quotation marks? When we put that text inside quotation marks, we told python to create a new string object. String objects hold text within python. We'll consider them in much more depth shortly.\n",
    "\n",
    "We can print a number instead of \"Hello world!\" as follows: "
   ]
  },
  {
   "cell_type": "code",
   "execution_count": 3,
   "metadata": {},
   "outputs": [
    {
     "name": "stdout",
     "output_type": "stream",
     "text": [
      "42\n"
     ]
    }
   ],
   "source": [
    "print(42)"
   ]
  },
  {
   "cell_type": "markdown",
   "metadata": {},
   "source": [
    "We used the same function -- print -- but now changed the argument we gave it to a number. This caused the number to be printed to the screen. The input that we have given the print function inside its parentheses (42 or \"Hello World!\") is called a **positional argument** to that function. \n",
    "\n",
    "The whole thing - the function plus any arguments inside parentheses - is called the **function call**. \n",
    "\n",
    "print() is just one of many [built in functions](https://docs.python.org/3/library/functions.html) that come with python. "
   ]
  },
  {
   "cell_type": "markdown",
   "metadata": {},
   "source": [
    "## Simple Mathematical Expressions let you use Python like a Calculator\n",
    "\n",
    "If we like, we can pass an **expression** rather than just a number or string to python functions. Here's an example:"
   ]
  },
  {
   "cell_type": "code",
   "execution_count": 7,
   "metadata": {},
   "outputs": [
    {
     "name": "stdout",
     "output_type": "stream",
     "text": [
      "84\n"
     ]
    }
   ],
   "source": [
    "print(42 + 42)"
   ]
  },
  {
   "cell_type": "markdown",
   "metadata": {},
   "source": [
    "Here 42 + 42 is our expression. Python has first *evaluated* our expression by adding these numbers. The result, 84, was then passed to the print function and shown on screen. \n",
    "\n",
    "We can combine print statements and mathematical expressions to use python as a simple calculator. \n",
    "\n",
    "Here are some common mathematical symbols used in these expressions are:\n",
    "```\n",
    "+ add two numbers\n",
    "* multiply two numbers\n",
    "** exponentiate the first number by the second. So x**2 is x squared.\n",
    "/ divide the first number by the second\n",
    "// divide the first number by the second, ignoring any remainder (e.g. 3//2 = 1)\n",
    "```\n",
    "\n",
    "Here are some examples:"
   ]
  },
  {
   "cell_type": "code",
   "execution_count": 8,
   "metadata": {},
   "outputs": [
    {
     "name": "stdout",
     "output_type": "stream",
     "text": [
      "Multiply 2 times 3:\n",
      "6\n",
      "Divide 100 by 10\n",
      "10.0\n",
      "Square 12:\n",
      "144\n",
      "2 to the 10th power\n",
      "1024\n"
     ]
    }
   ],
   "source": [
    "print(\"Multiply 2 times 3:\")\n",
    "print(2*3)\n",
    "\n",
    "print(\"Divide 100 by 10\")\n",
    "print(100/10)\n",
    "\n",
    "print(\"Square 12:\")\n",
    "print(12**2)\n",
    "\n",
    "print(\"2 to the 10th power\")\n",
    "print(2**10)"
   ]
  },
  {
   "cell_type": "markdown",
   "metadata": {},
   "source": [
    "We can combine multiple mathematical operations within the same expression."
   ]
  },
  {
   "cell_type": "code",
   "execution_count": 6,
   "metadata": {},
   "outputs": [
    {
     "name": "stdout",
     "output_type": "stream",
     "text": [
      "Raise 2 to the 10th power and add 3\n"
     ]
    },
    {
     "data": {
      "text/plain": [
       "1027"
      ]
     },
     "execution_count": 6,
     "metadata": {},
     "output_type": "execute_result"
    }
   ],
   "source": [
    "print(\"Raise 2 to the 10th power and add 3\")\n",
    "2**10+3"
   ]
  },
  {
   "cell_type": "markdown",
   "metadata": {},
   "source": [
    "## Order of operations\n",
    "\n",
    "Some of our earlier mathematical operations raise an important point: when evaluating more complex expressions, the **order of operation** matters. The order of operation in python is similar to that in mathematics. For example, exponentiation is evaluated before multiplication, which is in turn evaluated before addition. We have already seen that the entire expression passed to a function is evaluated before being sent off to the function.\n",
    "Like in mathematics, we can use parentheses () to change or clarify the order of operations if we need to.  Operations within parenthese will be performed before those outside parentheses.\n",
    "\n",
    "Let's say we really want to add 10+3, and then raise 2 to that power. We could accomplish this as follows:\n"
   ]
  },
  {
   "cell_type": "code",
   "execution_count": 7,
   "metadata": {},
   "outputs": [
    {
     "name": "stdout",
     "output_type": "stream",
     "text": [
      "Order of operations matters!\n",
      "8192\n"
     ]
    }
   ],
   "source": [
    "print(\"Order of operations matters!\")\n",
    "print(2**(10+3))"
   ]
  },
  {
   "cell_type": "markdown",
   "metadata": {},
   "source": [
    "Note that this is very different from the number obtained above, because our use of parentheses has caused python to first add 10+3 (getting 13), *then* raise 2 to the 13th power, rather than raising 2 to the 10th power and adding 2. "
   ]
  },
  {
   "cell_type": "markdown",
   "metadata": {},
   "source": [
    "## Defining variables in python\n",
    "\n",
    "In the above examples, we told python exactly what to print to the screen. However, we had to tell it exactly what to say, and no information was stored in python after it printed that text out to the screen.\n",
    "\n",
    "That isn't of course very useful.  Usually we will want to write a bunch of code, store some important result in a variable, and *then* do things with that variable like printing it to the screen or saving it to a results file.\n",
    "\n",
    "We can assign information to python variables using an equals sign (=), as follows:"
   ]
  },
  {
   "cell_type": "code",
   "execution_count": 9,
   "metadata": {},
   "outputs": [
    {
     "name": "stdout",
     "output_type": "stream",
     "text": [
      "9\n"
     ]
    }
   ],
   "source": [
    "x = 7 \n",
    "y = x + 2\n",
    "print(y)"
   ]
  },
  {
   "cell_type": "markdown",
   "metadata": {},
   "source": [
    "It is important to note that python evaluates everything on the right-hand side of the equals sign first, and only then assigns the result to the variable on the left-hand side. So when we write `y = x + 2`, python *first* calculates the result of adding 2 to x, and then assigns that result to the variable `y`.\n",
    "\n",
    "Therefore, the statements `x = x + 1`  just means that python should add one to the value of x, and assign the result to the x variable, updating it:"
   ]
  },
  {
   "cell_type": "code",
   "execution_count": 10,
   "metadata": {},
   "outputs": [
    {
     "name": "stdout",
     "output_type": "stream",
     "text": [
      "2\n"
     ]
    }
   ],
   "source": [
    "x = 0\n",
    "x = x + 1\n",
    "x = x + 1\n",
    "print(x)"
   ]
  },
  {
   "cell_type": "markdown",
   "metadata": {},
   "source": [
    "## Rules for naming python variables\n",
    "\n",
    "We can call our python variables whatever we want, subject to a couple of rules:\n",
    "\n",
    "- python variables can only be one word long. That means that no whitespace is allowed in a variable name. If we want to have a longer variable name, python programmers will often use an underscore character ```_``` to represent a space. For exampe, a variable holding the length of a genome might be called ```genome_size```. (You can type an underscore by holding down `shift` and hitting the dash `-` key in the upper right corner of your keyboard.)\n",
    "\n",
    "- python variables can be any length, and can include any upper or lowercase letters, numbers, and underscores (```_```). However, variables are not allowed to start with a number.\n",
    "\n",
    "- care should be taken to avoid calling your variables by names that are already used by [built in](https://docs.python.org/3/library/functions.html) python functions. Names you might want to use, but shouldn't, include ```type``` and ```input```. (You don't need to worry too much about this restriction when you are starting out)."
   ]
  },
  {
   "cell_type": "markdown",
   "metadata": {},
   "source": [
    "## Suggestions for naming python variables.\n",
    "\n",
    "While there are few *rules* for naming python variables, there are many suggestions that will save headaches down the road. Ideally python variable names should:\n",
    "\n",
    "- be clear. If you're recording the length of a genome use genome_length rather than ar123_len.\n",
    "- be as short as possible while still being clear. The variable name genome_length is preferred to length_of_the_genome_I_am_currently_studing_to_understand_its_antibiotic_production_genes\n",
    "\n",
    "- Use variable names to explain any numbers used in your script."
   ]
  },
  {
   "cell_type": "markdown",
   "metadata": {},
   "source": [
    "## Functions with more than one argument\n",
    "\n",
    "Many python functions take more than one positional argument. In such cases, you pass in the arguments to your function separated by commas. We have already encountered one example of a function that can take more than one argument - though we haven't yet taken advantage of that capability yet. \n",
    "\n",
    "If more than one positional argument is passed to the `print` function, it will try to print each in turn:\n"
   ]
  },
  {
   "cell_type": "code",
   "execution_count": 9,
   "metadata": {},
   "outputs": [
    {
     "name": "stdout",
     "output_type": "stream",
     "text": [
      "My favorite number is  42\n"
     ]
    }
   ],
   "source": [
    "print(\"My favorite number is \", 42)"
   ]
  },
  {
   "cell_type": "markdown",
   "metadata": {},
   "source": [
    "This capability of `print` is a useful way to label the results of your python code.\n",
    "\n",
    "Other functions assign special meaning to each argument based on the order they are passed in. For example, when you want to round a number, the `round` function requires that you tell it the number as the first positional argument, and how many places you want to round it to as the second. The code below rounds the value of pi to two decimal places:"
   ]
  },
  {
   "cell_type": "code",
   "execution_count": 11,
   "metadata": {},
   "outputs": [
    {
     "name": "stdout",
     "output_type": "stream",
     "text": [
      "An approximate value of pi is: 3.14\n"
     ]
    }
   ],
   "source": [
    "pi = 3.14159265359\n",
    "ndigits = 2\n",
    "pi_approx = round(pi,ndigits)\n",
    "print(\"An approximate value of pi is:\",pi_approx)"
   ]
  },
  {
   "cell_type": "markdown",
   "metadata": {},
   "source": [
    "Each function also typically defines names for its arguments. If so, we can also pass in arguments by name. This is called using a **keyword argument**. Keyword arguments can be supplied in any order, but **must always follow regular arguments** Python will remind you of this with an error message if you forget. Here is an example of the same code using a keyword argument:"
   ]
  },
  {
   "cell_type": "code",
   "execution_count": 12,
   "metadata": {},
   "outputs": [
    {
     "name": "stdout",
     "output_type": "stream",
     "text": [
      "An approximate value of pi is: 3.14\n"
     ]
    }
   ],
   "source": [
    "pi = 3.14159265359\n",
    "pi_approx = round(pi,ndigits=2)\n",
    "print(\"An approximate value of pi is:\",pi_approx)"
   ]
  },
  {
   "cell_type": "markdown",
   "metadata": {},
   "source": [
    "**Quick check of keyword argument syntax** Let's confirm by experimentation that keyword arguments must follow positional arguments. To test this, let's try modifying our command to round pi so the keyword argument goes first. If it's true that keyword arguments must go last then we should get an error message (if you tried intentionally getting some errors by modifying our print(\"Hello World!\") command, you may wish to stop and consider what kind of error message you expect to get here)"
   ]
  },
  {
   "cell_type": "code",
   "execution_count": 13,
   "metadata": {},
   "outputs": [
    {
     "ename": "SyntaxError",
     "evalue": "positional argument follows keyword argument (<ipython-input-13-883fd06d6dc3>, line 1)",
     "output_type": "error",
     "traceback": [
      "\u001b[0;36m  File \u001b[0;32m\"<ipython-input-13-883fd06d6dc3>\"\u001b[0;36m, line \u001b[0;32m1\u001b[0m\n\u001b[0;31m    pi_approx = round(ndigits=2,pi)\u001b[0m\n\u001b[0m                               ^\u001b[0m\n\u001b[0;31mSyntaxError\u001b[0m\u001b[0;31m:\u001b[0m positional argument follows keyword argument\n"
     ]
    }
   ],
   "source": [
    "pi_approx = round(ndigits=2,pi)"
   ]
  },
  {
   "cell_type": "markdown",
   "metadata": {},
   "source": [
    "The above confirms that our understanding of the rule about how to pass keyword arguments is correct."
   ]
  },
  {
   "cell_type": "markdown",
   "metadata": {},
   "source": [
    "## Getting help\n",
    "\n",
    "The above example only works because I knew that the name of the keyword argument that the round function requires is ndigits. How did I know that? There are usually two ways to figure this out: \n",
    "1. Google the function. In this case I knew what the ndigits variable was called by reading the help text for the function in the python documentation [here](https://docs.python.org/3.3/library/functions.html)\n",
    "2. Call the **help()** function on the function within python to look up what keyword arguments it accepts. Below is an example of how we might look up help for the **round()** function"
   ]
  },
  {
   "cell_type": "code",
   "execution_count": 14,
   "metadata": {},
   "outputs": [
    {
     "name": "stdout",
     "output_type": "stream",
     "text": [
      "Help on built-in function round in module builtins:\n",
      "\n",
      "round(number, ndigits=None)\n",
      "    Round a number to a given precision in decimal digits.\n",
      "    \n",
      "    The return value is an integer if ndigits is omitted or None.  Otherwise\n",
      "    the return value has the same type as the number.  ndigits may be negative.\n",
      "\n"
     ]
    }
   ],
   "source": [
    "help(round)"
   ]
  },
  {
   "cell_type": "markdown",
   "metadata": {},
   "source": [
    "It is a great idea to call help() on any new function before you use it so you can make sure you understand what it is doing and what information it requires"
   ]
  },
  {
   "cell_type": "markdown",
   "metadata": {},
   "source": [
    "# A simple biological calculation in python: one *Big* Ball of Bacteria\n",
    "\n",
    "Let's try putting together what we've learned to do some a simple biologial calculation.\n",
    "\n",
    "A key reason that evolutionary biologists understand natural selection to be inevitable in many real-world situations is that the reproductive rate of many species rapidly outstrips the carrying capacity of the earth. Thus, in most real ecosystems many individuals either die before reproducing or otherwise fail to reproduce. \n",
    "\n",
    "In *On the Origin of Species* Charles Darwin wrote:\n",
    "\n",
    ">“There is no exception to the rule that every organic being increases at so high a rate, that if not destroyed, the earth would soon be covered by the progeny of a single pair. Even slow-breeding man has doubled in twenty-five years, and at this rate, in a few thousand years, there would literally not be standing room for his progeny. Linnaeus has calculated that if an annual plant produced only two seeds – and there is no plant so unproductive as this – and their seedlings next year produced two, and so on, then in twenty years there would be a million plants. The elephant is reckoned to be the slowest breeder of all known animals, and I have taken some pains to estimate its probable minimum rate of natural increase: it will be under the mark to assume that it breeds when thirty years old, and goes on breeding till ninety years old, bringing forth three pairs of young in this interval; if this be so, at the end of the fifth century there would be alive fifteen million elephants, descended from the first pair.” \n",
    "\n",
    "(via https://digitalminds2016.wordpress.com/2016/10/06/darwin-and-the-elephants/)\n",
    "\n",
    "Let's use the python we've already learned to calculate something similar for bacteria to explore what would happen if there were no constraints on population growth. \n",
    "\n",
    "Imagine for a moment that a single bacterium inhabits the earth, and reproduces by division every 2 hours. Let's further imagine (just for a moment) that no bacteria die or fail to reproduce.\n",
    "\n",
    "If we start with one cell, then after two hours that first cell will split into 2 cells (1\\*2).\n",
    "After 4 hours, those 2 cells will split into 4 total cells (1\\*2\\*2).\n",
    "After 6 hours, those 4 cells will split into 8 total cells (1\\*2\\*2\\*2)\n",
    "\n",
    "As you've probably guessed, this is a case of exponential growth. The number of bacteria around after $g$ 2-hour generations, given starting population $p$, is given by $p\\times2^g$. Since generations happen every two hours, this is the same as $p\\times2^{h/2}$, if we let $h$ represent the number of hours that have passed.\n",
    "\n"
   ]
  },
  {
   "cell_type": "markdown",
   "metadata": {},
   "source": [
    "\n",
    "To start with let's use python to calculate how many bacteria will be present after just two weeks of unchecked growth. We'll have to figure out how many 2-hour generations will pass in the two week span, and then use the exponential growth equation to figure out how many bacteria we end up with.\n",
    "\n",
    "Let's try writing some code to calculate this with or without informative variable names.  \n",
    "\n",
    "**Without variable names we might write:**"
   ]
  },
  {
   "cell_type": "code",
   "execution_count": 1,
   "metadata": {},
   "outputs": [
    {
     "name": "stdout",
     "output_type": "stream",
     "text": [
      "3.7414441915671115e+50\n"
     ]
    }
   ],
   "source": [
    "total_bacteria = 1 * 2 **(2*7*24/2)\n",
    "print(total_bacteria)"
   ]
  },
  {
   "cell_type": "markdown",
   "metadata": {},
   "source": [
    "This gets us the right answer, and is quite short, but doesn't give a reader a lot of clues about how we got there. In this very simple example we may understand why we're calculating $1*2^{2*7*24/2}$ *right now* but if we come back in several months - or if we give the code to someone else - this may be less clear. The more complex code gets, the more of an issue this becomes.\n",
    "\n",
    "Therefore it is often better to use short but informative variable names to document what each number you use means. \n",
    "\n",
    "Numbers that appear without an informative variable name are sometimes called **magic numbers**. Using lots of magic numbers in your code is considered bad form, and should be avoided.\n",
    "\n",
    "\n",
    "In this  example let's also use comments inside the python code to note what key lines of code do. Python comments are anything on a line following a pound side  ```#```. Python simply ignores everything after the # sign, which means you can write freeform comments that help readers understand your code.\n",
    "\n",
    "Below we can modify our code using named variables and comments to make it a bit easier to follow.  \n"
   ]
  },
  {
   "cell_type": "code",
   "execution_count": 15,
   "metadata": {},
   "outputs": [
    {
     "name": "stdout",
     "output_type": "stream",
     "text": [
      "Total bacteria: 3.7414441915671115e+50\n"
     ]
    }
   ],
   "source": [
    "#Record the information given in the program\n",
    "\n",
    "division_time = 2 #division time in hours\n",
    "starting_bacteria = 1\n",
    "offspring_per_division = 2 #Each time a bacterium divides, it makes 2 new bacteria\n",
    "total_hours = 2 * 7 * 24 #2 weeks, with 7 days each, and 24 hours per day.\n",
    "total_divisions = total_hours/division_time\n",
    "\n",
    "#Now we can calculate how many bacteria will be present after a week.\n",
    "total_bacteria = starting_bacteria * offspring_per_division ** total_divisions\n",
    "\n",
    "print(\"Total bacteria:\",total_bacteria)\n"
   ]
  },
  {
   "cell_type": "markdown",
   "metadata": {},
   "source": [
    "#### Compare the mass of our bacteria to the mass of the  Sun.\n",
    "\n",
    "The mass of the sun is about 5.972 × 10^33 g.\n",
    "A single bacterial cell might weigh about 1 picogram or 1 * 10^-12g.\n",
    "\n",
    "Let's use python to compare the mass of our big ball of bacteria to the mass of the sun.\n",
    "\n"
   ]
  },
  {
   "cell_type": "code",
   "execution_count": 16,
   "metadata": {},
   "outputs": [
    {
     "name": "stdout",
     "output_type": "stream",
     "text": [
      "Our ball of bacteria weighs  3.7414441915671114e+38 g\n",
      "This is equivalent to roughly  188107 Suns!\n"
     ]
    }
   ],
   "source": [
    "sun_mass = 1.989 * 10**33 \n",
    "bacterium_mass = 1*10**-12\n",
    "total_bacteria_mass = total_bacteria * bacterium_mass\n",
    "print(\"Our ball of bacteria weighs \",total_bacteria_mass,\"g\")\n",
    "n_sun_masses = round(total_bacteria_mass / sun_mass) \n",
    "print(\"This is equivalent to roughly \", n_sun_masses, \"Suns!\")"
   ]
  },
  {
   "cell_type": "markdown",
   "metadata": {},
   "source": [
    "Thats ... a lot of bacteria.\n",
    "\n",
    "In real life, of course, our solar system is not overrun by an ever-growing mound of bacteria. One reason is that resources (space, food, etc) rapidly become limiting when bacteria reproduce. This can either cause some bacteria to die (e.g. due to the conditions created by overcrowing) or fail to reproduce (e.g. because they can't gather enough resources).\n",
    "\n",
    "So in reality, bacteria may reproduce extremely quickly under favorable conditions. But real conditions rapidly become so unfavorable that most fail to do so. This becomes relevant to evolution when we consider some trait that lets some bacteria survive better in a particular condition. If that trait varies among the bacteria in the population (variation), can be passed down from a parent to its offspring (heritability), and bacteria with the trait suceed at producing more offspring (increased fitness), then that trait will spread through the population by natural selection. However, it is worth keeping in mind that a trait that is favorable in one condition may not be favorable in others. Thus the traits natural selection favors will not necessarily be 'best' in an absolute sense, they will simply reflect what produced the most offspring in the conditions that were encountered by previous generations."
   ]
  },
  {
   "cell_type": "markdown",
   "metadata": {},
   "source": [
    "## Exercises\n",
    "\n",
    "\n",
    "\n",
    "**Exercise 1** Install Anaconda python on your computer following the directions above. In an interactive session, have python print to the screen the phrase \"Hello World!\". If you can do that you're over one of the critical hurdles in learning any new programming language.\n",
    "\n",
    "**Exercise 2** Try running the code for predicting how many bacteria there will be after a given number of divisions, as described above. Then, modify it to answer the following question:  how many bacteria would there be after just 1 day of reproduction? *Hint*: you can modify the part of the code that calculates the total hours of reproduction so it represents just one day instead of two weeks, then rerun the code to figure this out.\n",
    "\n",
    "**Exercise 3** If you started with 3 bacteria instead of 1, how would that change the number of bacteria present after 1 day?. \n",
    "\n",
    "**Exercise 4** Let's imagine that a tree starts from a seed that is roughly 1 cm tall, and grows at a fixed rate of 1 m per year. Write python code that will calculate how big the tree is after 7 years. *Hint*: you can use the math operations described above to write the equation for a line (y = mx + b), with the number of years being the x variable.\n",
    "\n",
    "**Exercise 5** Pick any simple equation that you have previously learned about. Write python code that calculates the result for you. Check that the answer your code is giving you is correct by comparing it against a hand-calculated answer.\n",
    "\n",
    "\n",
    "\n",
    "## Further reading\n",
    "\n",
    "**Order of operations** A complete list of the order of operations in python is available [here]. (https://docs.python.org/3/reference/expressions.html#operator-precedence) It will refer to many operations you haven't encountered yet, but might be useful for reference later on.\n",
    "\n",
    "**More on Darwin and the Elephants** Darwin conducted his example using elephants rather than bacteria. As you might imagine there are some important differences between the two that might influence the calculation. These include:\n",
    "\n",
    "- sexual reproduction, which requires both a male and a female elephant mate to produce offspring. Since only females can give birth, this implies that the ratio of males to females will influence how fast the population increases. To see why, consider a starting population of 5 females and 1 male (who can mate with more than one female) vs. 5 males and 1 female.\n",
    "- multiple reproductions per organisms. A single elephant can reproduce more than once.\n",
    "- delayed reproduction. Elephants cannot reproduce until a certain age.\n",
    "- intrinsic mortality due to aging. We must account for elephants that die due to old age.\n",
    "\n",
    "\n",
    "Overall, calculating the reproductive output of elephants requires a lot more information than for our bacteria, and although elephants reproducing unchecked would indeed cover the earth quite quickly, Darwin's exact number may only hold for certain narrow assumptions.\n",
    "\n",
    "If you're interested in reading a recent academic treatment of this problem using Leslie matrices (which track the survival and reproduction of different ages of elephants), and an extended discussion of the (surprisingly tricky) math behind Darwin's example, this paper may be of interest:\n",
    "\n",
    "\"How Fast Does Darwin's Elephant Population Grow?\" Podani *et al.* 2017. Journal of the History of Biology volume 51, pages 259–281(2018). A free preprint is available here: [Podani *et al* 2018](http://real.mtak.hu/72652/1/Podani_etal_DarwinElephants.pdf)   "
   ]
  },
  {
   "cell_type": "markdown",
   "metadata": {},
   "source": [
    "## [Reading Responses & Feedback](https://docs.google.com/forms/d/e/1FAIpQLSeUQPI_JbyKcX1juAFLt5z1CLzC2vTqaCYySUAYCNElNwZqqQ/viewform?usp=pp_url&entry.2118603224=Exploring+Python)\n",
    "\n"
   ]
  }
 ],
 "metadata": {
  "kernelspec": {
   "display_name": "Python 3",
   "language": "python",
   "name": "python3"
  },
  "language_info": {
   "codemirror_mode": {
    "name": "ipython",
    "version": 3
   },
   "file_extension": ".py",
   "mimetype": "text/x-python",
   "name": "python",
   "nbconvert_exporter": "python",
   "pygments_lexer": "ipython3",
   "version": "3.8.8"
  }
 },
 "nbformat": 4,
 "nbformat_minor": 2
}
