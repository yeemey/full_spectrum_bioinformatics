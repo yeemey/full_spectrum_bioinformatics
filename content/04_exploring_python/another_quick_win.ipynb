{
 "cells": [
  {
   "cell_type": "markdown",
   "metadata": {},
   "source": [
    "# Another Quick Win: Loading and Graphing Tabular Data in Python "
   ]
  },
  {
   "cell_type": "markdown",
   "metadata": {},
   "source": [
    "## In this section\n",
    "\n",
    "In this section, we will learn how to:\n",
    "\n",
    "- Understand the Tidy format for tabular data\n",
    "- Understand how comma separated values (.csv) and tab-separated values (.tsv) files store tabular data, like in an Excel sheet, in a simple plain-text format\n",
    "- Learn how to Tidy format comma separated values or tab-separated values files into python using pandas DataFrames.\n",
    "- Extract columns from a Pandas DataFrame and convert them to python `list` objects\n",
    "- Connect what you've learned here to the last lesson by using lists you loaded from a data file for making scatterplots, boxplots, or running stats. \n"
   ]
  },
  {
   "cell_type": "markdown",
   "metadata": {},
   "source": [
    "## Prerequisites\n",
    "\n",
    "- Have **Anaconda python installed**, and be able to run it\n",
    "- Understand how to **assign varaibles** in python (e.g. x = 7)\n",
    "- Understand how to **call functions** like `print` in python (e.g. `print(\"Hello World!\"))\n",
    "- Understand **relative paths** (like `./Data/my_data.txt` and **absolute paths** (like `/Users/zaneveld/Downloads`) on the command line, so that you can get a data file into the same working directory as you are running python from.\n",
    "- It's helpful to have completed the 'A Quick Win' chapter and have an example of how to **make scatterplots**  given python `list` objects like `x = [0,1,1,5,17,24,57]` or `y = [2,12,12,50,168,246,572`."
   ]
  },
  {
   "cell_type": "markdown",
   "metadata": {},
   "source": [
    "## Review of assigning data to python lists.\n",
    "\n",
    "So far, we've discussed working on the command line, opening python, and using some basic features of python coding including assigning variables, for example `greeting=\"Heya!\"`, calling functions, e.g. `boxplot(data,labels=treatments)`, holding data in lists, e.g. `gene_lengths = [3125,2745,3007,5678,3144])`, and using functions to make scatter and boxplots."
   ]
  },
  {
   "cell_type": "markdown",
   "metadata": {},
   "source": [
    "In the `A quick win` chapter, we started with our data in lists, already written out by hand as numbers. For example, before we made a boxplot we wrote out code like that below to build lists of x and y data and assign them to variables for later reference:"
   ]
  },
  {
   "cell_type": "code",
   "execution_count": 2,
   "metadata": {},
   "outputs": [],
   "source": [
    "#Make a list of the size of each control plant in centimeters\n",
    "control_plant_sizes = [4,7,9,3,4,1,1]\n",
    "\n",
    "#Make a list of the size of each treatment plant in centimeters\n",
    "treatment_plant_sizes = [5,4,10,8,5,9,9]"
   ]
  },
  {
   "cell_type": "markdown",
   "metadata": {},
   "source": [
    "Recall that everything after the `#` is a comment, and won't be 'read' by python. It's just to help us humans understand what the code does. This code creates two lists of numbers and assigns them to the control_plant_sizes and treatment_plant sizes variables. Remember that in variable names we have to use underscores instead of spaces (`control_plant_sizes` not `control plant sizes`) because python variables can only be one word long."
   ]
  },
  {
   "cell_type": "markdown",
   "metadata": {},
   "source": [
    "**Stop and try it yourself**: Open python, create two lists of numbers and assign each to variables. Make the variable names and the actual numbers different from those up above. Use the `print` function to print both lists out to the screen. If you were going to make a scatterplot out of these data, do you think the lists would have to be the same length?"
   ]
  },
  {
   "cell_type": "markdown",
   "metadata": {},
   "source": [
    "## Untidy data is harder for computers to process\n",
    "\n",
    "In practice, we rarely or never directly type data into a python interpreter or python script. Instead, these data are typically held in separate data files, which are then read into python to conduct analysis or make graphs. Therefore, it's worth discussing some typical, standard ways of organizing data so that it will be easy to read into python.\n",
    "\n",
    "There are many possible ways of organizing data. As humans we are very good at making inferences about the meaning of data when it is not structured in a standard way. However, these kinds of inferences are much harder to accomplish with traditional programming techniques.\n",
    "\n"
   ]
  },
  {
   "cell_type": "markdown",
   "metadata": {},
   "source": [
    "### Example messy data on *Nematostella* growth and survivorship\n",
    "\n",
    "<img src=\"./resources/Nematostella_icon_full_grown.png\" width=\"100\" align = \"left\" br clear=\"left\" description=\"A silhouette of a Nematostella anemone. It has tentacles at the top, and a thin body below.\">Take a moment to look at the spreadsheet below, which describes some data on survivorship and growth of *Nematostella vectensis* under either control or treatment conditions, as part of an investigation into the potential role of symbiotic bacteria in potentially promoting growth. (A silhouette of an adult *Nematostella* is to the left, if you were curious what they looked like).\n",
    "\n",
    "<img src=\"./resources/untidy_data.png\" width=\"1000\"  description=\"A picture of data in an Excel spreadsheet. The data are not in Tidy format. Instead, two data series are separated on the sheet. The number '187' is highlighted in the first series. The first entry in the first series is labelled 'antibiotics' in the first cell, but not any of the below cells.\">"
   ]
  },
  {
   "cell_type": "markdown",
   "metadata": {},
   "source": [
    "Pay particular attention to the number `187.23` highlighted in yellow. Based on this sheet, would you guess that this length measurement come from the control or antibiotics treatment? How sure are you of this conclusion?\n",
    "\n",
    "For a human reader able to look at this spreadsheet, it may be clear that everything in the left block of data is intended to reflect survivorship or growth in the antibiotic treatment, while everything in the right block refers to control. However, computers are not nearly as good at processing untidy data.\n",
    "\n",
    "### Tidy data is much easier to work with in `python`.\n",
    "\n",
    "There are many structured formats for data. One of the most important ones in bioinformatics is the [Tidy](https://vita.had.co.nz/papers/tidy-data.pdf) format. In the Tidy format, data are *structured* in a specific way to reduce ambiguity and allow easy processing in programming languages like python and R. \n",
    "\n",
    "In Tidy datasets, each column represents a single *variable*. Each row represents a single *observation*. The contents of each cell represent a measurement or value for that variable in that observation. Our example dataset could be rearranged into Tidy format as shown below:"
   ]
  },
  {
   "cell_type": "markdown",
   "metadata": {},
   "source": [
    "#### Tidy data on *Nematostella* growth and survivorship\n",
    "\n",
    "<img src=\"./resources/tidy_data.png\" align=\"center\" width=\"400\"  description=\"A picture of data in an Excel spreadsheet. The data are not in Tidy format. Instead, two data series are separated on the sheet. The number '187' is highlighted in the first series. The first entry in the first series is labelled 'antibiotics' in the first cell, but not any of the below cells.\">\n",
    "\n",
    "In this Tidy representation of the data, each row represents one measurement or replicate, and each column represents a specific measurement of survivorship or growth. Look again at the number `187.23`. It should now be unambiguously clear that this growth measurement was collected under antibiotic treatment conditions, because the 'treatment' column states this.\n",
    "\n",
    "The Tidy format can be counter-intuitive at first, because it requires duplication of some data, such as repeated entries stating that a particular row is from either antibiotic or control conditions. However, notice how this small increase in the amount of text (and storage space), vastly reduces ambiguity of the meaning of the data. Therefore **Tidy format is ideal for many common types of tabular data for analysis in python**."
   ]
  },
  {
   "cell_type": "markdown",
   "metadata": {},
   "source": [
    "#### Storying Tidy format data in comma-separated values (`.csv`) or tab-separated values (`.tsv`) files\n",
    "\n",
    "While it is possible to directly read in Excel files into python, it is more common to store tabular data in Tidy format as a simple text file. In order to preserve information about which text or numbers go in which column, text-based tabular formats insert special characters. Typically, these are either commas (`,`) or tab characters (tabs appear as white space, but is written out as `'\\t'` in python). If commas are used, the file becomes a comma-separated values (`.csv`) file, whereas if tab characters are used, the file becomes a tab-sepeated values file (`.tsv` or sometimes `.txt`)\n",
    "\n",
    "**Example 1**:\n",
    "\n",
    "The first row (which has the headers) in a `.csv` file would become:\n",
    "`treatment,survivors,length in mm`\n",
    "\n",
    "The second row of our Tidy data, translated into a `.csv` file would become:\n",
    "`antibiotics,0,303.6666667`\n",
    "\n",
    "**Example 2**:\n",
    "\n",
    "In a `.tsv` file would become:\n",
    "\n",
    "`treatment\\tsurvivors\\tlength in mm`\n",
    "\n",
    "However, the \\t characters would be translated into tabs when viewed:\n",
    "\n",
    "`treatment survivors length in mm`\n",
    "\n",
    "Finally, the second row of our Tidy data, translated into a `.tsv` file would become:\n",
    "\n",
    "`antibiotics\\t0\\t303.6666667`\n",
    "\n",
    "and appear as\n",
    "\n",
    "`antibiotics 0 303.6666667`\n"
   ]
  },
  {
   "cell_type": "markdown",
   "metadata": {},
   "source": [
    "## Loading Tidy format data into Python from a comma-separated values (`.csv`) file\n",
    "\n",
    "\n",
    "Now that we have an understanding of the Tidy format, and what a `.csv` file is, let's see how to load columns of data from a Tidy-format `.csv` file into python, and get out lists of data.\n",
    "\n",
    "In order to have something to work with, we will need an example `.csv` file. A much larger example `.csv` file is linked below. You can click on the link, then right-click (or on Mac two-finger click) the button marked 'raw' on GitHub to download the file.\n",
    "\n",
    "[nematostella_data.csv](./nematostella_data.csv)\n",
    "\n",
    "**Take a moment to download this data, taking careful note of where it is on your sytem. It will typically download by default to your `Downloads` folder.**\n",
    "\n",
    "In most real datasets, there will be many columns of data, and it may not always be obvious what each means. In addition to the Methods section of a paper, often a \"data dictionary\" is provided as a seperate file which maps each column name to a text description of what that column represents. While not necessary to complete the exercise, a data dictionary for this data is available at the link \n",
    "\n",
    "[nematostella_data_dictionary.csv](./nematostella_data_dictionary.csv)"
   ]
  },
  {
   "cell_type": "markdown",
   "metadata": {},
   "source": [
    "## Import the pandas package \n",
    "\n",
    "`pandas` is a python library for loading and working with tabular data, such as that in our `.csv` files. `pandas` is not a part of python itself, but is bundled and installed along with python in Anaconda python (the python distribution we installed in this text). If you didn't install Anaconda python, you may need to separately install pandas to follow along.\n",
    "\n",
    "The `read_csv` function in pandas allows you to read a `.csv` file, and load it into python as a `DataFrame` object - essentially a table.\n",
    "\n",
    "We will import the `read_csv` function from `pandas` using exactly the same syntax as we previously used to import functions like `boxplot` and `scatter` from `matplotlib` when we were making boxplots or scatterplots.\n",
    "\n"
   ]
  },
  {
   "cell_type": "code",
   "execution_count": null,
   "metadata": {},
   "outputs": [],
   "source": [
    "#import the read_csv function from pandas\n",
    "from pandas import read_csv"
   ]
  },
  {
   "cell_type": "markdown",
   "metadata": {},
   "source": [
    "## Load the Nematostella data\n",
    "\n",
    "We're now going to use the `read_csv` function to load the *Nematostella* data. \n",
    "\n",
    "*Hint:* the hard part here is making sure your data file is in the same current working directory as the one you ran your jupyter notebook from. If it isn't, this will cause the code below to produce a FileNotFound error (since the file isn't in the current folder!). This error will also happen if there is any kind of typo in the name of the file, since python will not try to guess that the two files are the same. If this happens, see Troubleshooting, below, for some ways we can use python to list what's in your current folder and check the spelling of the file, as well as to figure out which directory is your current working directory.\n",
    "\n",
    "*Hint 2*: The code below has to be run in python, ideally inside a jupyter notebook. It won't work if you try to run it directly on the command line.\n",
    "\n",
    "*Hint 3*: If you want to use this method with a `.tsv` file, you would set the separator or `sep` paramter of the read_csv function to the tab (`\\t`) character, like this: `data = read_csv(\"nematostella_data.csv\",sep=\"\\t\")`"
   ]
  },
  {
   "cell_type": "code",
   "execution_count": 22,
   "metadata": {},
   "outputs": [
    {
     "data": {
      "text/html": [
       "<div>\n",
       "<style scoped>\n",
       "    .dataframe tbody tr th:only-of-type {\n",
       "        vertical-align: middle;\n",
       "    }\n",
       "\n",
       "    .dataframe tbody tr th {\n",
       "        vertical-align: top;\n",
       "    }\n",
       "\n",
       "    .dataframe thead th {\n",
       "        text-align: right;\n",
       "    }\n",
       "</style>\n",
       "<table border=\"1\" class=\"dataframe\">\n",
       "  <thead>\n",
       "    <tr style=\"text-align: right;\">\n",
       "      <th></th>\n",
       "      <th>#SampleID</th>\n",
       "      <th>date</th>\n",
       "      <th>dpf</th>\n",
       "      <th>Microscope/ Camera/Objective/ Calibration</th>\n",
       "      <th>sample_type</th>\n",
       "      <th>plate</th>\n",
       "      <th>current_antibiotic_dose</th>\n",
       "      <th>well_Id</th>\n",
       "      <th>egg_sack_id</th>\n",
       "      <th>water_type</th>\n",
       "      <th>...</th>\n",
       "      <th>total_with_tentacle</th>\n",
       "      <th>total_unhealthy</th>\n",
       "      <th>unhealthy_nematostella_notes</th>\n",
       "      <th>photo_filename</th>\n",
       "      <th>average_length</th>\n",
       "      <th>stdev_length</th>\n",
       "      <th>FISH_sample_id</th>\n",
       "      <th>16S_sample_id</th>\n",
       "      <th>flikr link</th>\n",
       "      <th>remaining_nematostella</th>\n",
       "    </tr>\n",
       "  </thead>\n",
       "  <tbody>\n",
       "    <tr>\n",
       "      <th>0</th>\n",
       "      <td>NV_FL_G1_R_111617_A2_E2</td>\n",
       "      <td>11/16/17</td>\n",
       "      <td>52.0</td>\n",
       "      <td>NikonSMZ1500/DSRi1/ 1X by 1Xzoom ratio/0.5cm=5...</td>\n",
       "      <td>measurement in um</td>\n",
       "      <td>Rescue</td>\n",
       "      <td>None</td>\n",
       "      <td>A2</td>\n",
       "      <td>E2</td>\n",
       "      <td>1.5ml autoclaved ASW+500ul ASW from correspond...</td>\n",
       "      <td>...</td>\n",
       "      <td>0</td>\n",
       "      <td>1.0</td>\n",
       "      <td>fragmented pieces</td>\n",
       "      <td>NV_FL_G1_R_111617_A2_E2.png</td>\n",
       "      <td>93.500000</td>\n",
       "      <td>132.2289681</td>\n",
       "      <td>None</td>\n",
       "      <td>None</td>\n",
       "      <td>Unknown</td>\n",
       "      <td>NaN</td>\n",
       "    </tr>\n",
       "    <tr>\n",
       "      <th>1</th>\n",
       "      <td>NV_FL_G1_R_020118_B4_E2</td>\n",
       "      <td>2/5/18</td>\n",
       "      <td>130.0</td>\n",
       "      <td>NikonSMZ1500/DSRi1/ 1X by 1Xzoom ratio/0.5cm=5...</td>\n",
       "      <td>measurement in um</td>\n",
       "      <td>Gentamycin_Rescue</td>\n",
       "      <td>None</td>\n",
       "      <td>B4</td>\n",
       "      <td>E2</td>\n",
       "      <td>autoclaved ASW</td>\n",
       "      <td>...</td>\n",
       "      <td>0</td>\n",
       "      <td>1.0</td>\n",
       "      <td>NaN</td>\n",
       "      <td>NV_FL_G1_R_020118_B4_E2.png</td>\n",
       "      <td>128.300000</td>\n",
       "      <td>181.4436001</td>\n",
       "      <td>None</td>\n",
       "      <td>None</td>\n",
       "      <td>Unknown</td>\n",
       "      <td>1.0</td>\n",
       "    </tr>\n",
       "    <tr>\n",
       "      <th>2</th>\n",
       "      <td>NV_FL_G1_C_111617_C4_E6</td>\n",
       "      <td>11/16/17</td>\n",
       "      <td>52.0</td>\n",
       "      <td>NikonSMZ1500/DSRi1/ 1X by 1Xzoom ratio/0.5cm=5...</td>\n",
       "      <td>measurement in um</td>\n",
       "      <td>Control</td>\n",
       "      <td>None</td>\n",
       "      <td>C4</td>\n",
       "      <td>E6</td>\n",
       "      <td>autoclaved ASW (minus 500ul) +500ul fresh Auto...</td>\n",
       "      <td>...</td>\n",
       "      <td>0</td>\n",
       "      <td>1.0</td>\n",
       "      <td>NaN</td>\n",
       "      <td>NV_FL_G1_C_111617_C4_E6.png</td>\n",
       "      <td>131.400000</td>\n",
       "      <td>None</td>\n",
       "      <td>None</td>\n",
       "      <td>None</td>\n",
       "      <td>Unknown</td>\n",
       "      <td>1.0</td>\n",
       "    </tr>\n",
       "    <tr>\n",
       "      <th>3</th>\n",
       "      <td>NV_FL_G1_C_112917_B4_E2</td>\n",
       "      <td>11/29/17</td>\n",
       "      <td>68.0</td>\n",
       "      <td>NikonSMZ1500/DSRi1/ 1X by 1Xzoom ratio/0.5cm=5...</td>\n",
       "      <td>measurement in um</td>\n",
       "      <td>Control</td>\n",
       "      <td>None</td>\n",
       "      <td>B4</td>\n",
       "      <td>E2</td>\n",
       "      <td>autoclaved ASW (minus 500ul) +500ul fresh Auto...</td>\n",
       "      <td>...</td>\n",
       "      <td>1</td>\n",
       "      <td>0.0</td>\n",
       "      <td>NaN</td>\n",
       "      <td>NV_FL_G1_C_112917_B4_E2.png</td>\n",
       "      <td>135.500000</td>\n",
       "      <td>None</td>\n",
       "      <td>None</td>\n",
       "      <td>None</td>\n",
       "      <td>Unknown</td>\n",
       "      <td>1.0</td>\n",
       "    </tr>\n",
       "    <tr>\n",
       "      <th>4</th>\n",
       "      <td>NV_FL_G1_R_020818_A3_E3</td>\n",
       "      <td>2/8/18</td>\n",
       "      <td>138.0</td>\n",
       "      <td>NikonSMZ1500/DSRi1/ 1X by 1Xzoom ratio/0.5cm=5...</td>\n",
       "      <td>measurement in um</td>\n",
       "      <td>Gentamycin_Rescue</td>\n",
       "      <td>None</td>\n",
       "      <td>A3</td>\n",
       "      <td>E3</td>\n",
       "      <td>autoclaved ASW</td>\n",
       "      <td>...</td>\n",
       "      <td>0</td>\n",
       "      <td>1.0</td>\n",
       "      <td>NaN</td>\n",
       "      <td>NV_FL_G1_R_020818_A3_E3.png</td>\n",
       "      <td>137.850000</td>\n",
       "      <td>194.9493396</td>\n",
       "      <td>None</td>\n",
       "      <td>None</td>\n",
       "      <td>Unknown</td>\n",
       "      <td>1.0</td>\n",
       "    </tr>\n",
       "    <tr>\n",
       "      <th>...</th>\n",
       "      <td>...</td>\n",
       "      <td>...</td>\n",
       "      <td>...</td>\n",
       "      <td>...</td>\n",
       "      <td>...</td>\n",
       "      <td>...</td>\n",
       "      <td>...</td>\n",
       "      <td>...</td>\n",
       "      <td>...</td>\n",
       "      <td>...</td>\n",
       "      <td>...</td>\n",
       "      <td>...</td>\n",
       "      <td>...</td>\n",
       "      <td>...</td>\n",
       "      <td>...</td>\n",
       "      <td>...</td>\n",
       "      <td>...</td>\n",
       "      <td>...</td>\n",
       "      <td>...</td>\n",
       "      <td>...</td>\n",
       "      <td>...</td>\n",
       "    </tr>\n",
       "    <tr>\n",
       "      <th>331</th>\n",
       "      <td>NV_FL_G1_C_112917_C4_E6</td>\n",
       "      <td>11/29/17</td>\n",
       "      <td>68.0</td>\n",
       "      <td>NikonSMZ1500/DSRi1/ 1X by 1Xzoom ratio/0.5cm=5...</td>\n",
       "      <td>measurement in um</td>\n",
       "      <td>Control</td>\n",
       "      <td>None</td>\n",
       "      <td>C4</td>\n",
       "      <td>E6</td>\n",
       "      <td>autoclaved ASW</td>\n",
       "      <td>...</td>\n",
       "      <td>3</td>\n",
       "      <td>0.0</td>\n",
       "      <td>NaN</td>\n",
       "      <td>NV_FL_G1_C_112917_C4_E6.png</td>\n",
       "      <td>756.666667</td>\n",
       "      <td>248.1135493</td>\n",
       "      <td>None</td>\n",
       "      <td>None</td>\n",
       "      <td>Unknown</td>\n",
       "      <td>3.0</td>\n",
       "    </tr>\n",
       "    <tr>\n",
       "      <th>332</th>\n",
       "      <td>NV_FL_G1_G_112117_A4_E4</td>\n",
       "      <td>11/21/17</td>\n",
       "      <td>59.0</td>\n",
       "      <td>NikonSMZ1500/DSRi1/ 1X by 1Xzoom ratio/0.5cm=5...</td>\n",
       "      <td>measurement in um</td>\n",
       "      <td>Gentamycin</td>\n",
       "      <td>None</td>\n",
       "      <td>A4</td>\n",
       "      <td>E4</td>\n",
       "      <td>autoclaved ASW</td>\n",
       "      <td>...</td>\n",
       "      <td>1</td>\n",
       "      <td>0.0</td>\n",
       "      <td>NaN</td>\n",
       "      <td>NV_FL_G1_G_112117_A4_E4.png</td>\n",
       "      <td>763.600000</td>\n",
       "      <td>None</td>\n",
       "      <td>None</td>\n",
       "      <td>None</td>\n",
       "      <td>Unknown</td>\n",
       "      <td>1.0</td>\n",
       "    </tr>\n",
       "    <tr>\n",
       "      <th>333</th>\n",
       "      <td>NV_FL_G1_G_112917_B2_E6</td>\n",
       "      <td>11/29/17</td>\n",
       "      <td>68.0</td>\n",
       "      <td>NikonSMZ1500/DSRi1/ 1X by 1Xzoom ratio/0.5cm=5...</td>\n",
       "      <td>measurement in um</td>\n",
       "      <td>Gentamycin</td>\n",
       "      <td>None</td>\n",
       "      <td>B2</td>\n",
       "      <td>E6</td>\n",
       "      <td>autoclaved ASW</td>\n",
       "      <td>...</td>\n",
       "      <td>1</td>\n",
       "      <td>0.0</td>\n",
       "      <td>NaN</td>\n",
       "      <td>NV_FL_G1_G_112917_B2_E6.png</td>\n",
       "      <td>767.500000</td>\n",
       "      <td>None</td>\n",
       "      <td>None</td>\n",
       "      <td>None</td>\n",
       "      <td>Unknown</td>\n",
       "      <td>1.0</td>\n",
       "    </tr>\n",
       "    <tr>\n",
       "      <th>334</th>\n",
       "      <td>NV_FL_G1_G_112917_A4_E4</td>\n",
       "      <td>11/29/17</td>\n",
       "      <td>68.0</td>\n",
       "      <td>NikonSMZ1500/DSRi1/ 1X by 1Xzoom ratio/0.5cm=5...</td>\n",
       "      <td>measurement in um</td>\n",
       "      <td>Gentamycin</td>\n",
       "      <td>None</td>\n",
       "      <td>A4</td>\n",
       "      <td>E4</td>\n",
       "      <td>autoclaved ASW</td>\n",
       "      <td>...</td>\n",
       "      <td>1</td>\n",
       "      <td>0.0</td>\n",
       "      <td>NaN</td>\n",
       "      <td>NV_FL_G1_G_112917_A4_E4.png</td>\n",
       "      <td>779.200000</td>\n",
       "      <td>None</td>\n",
       "      <td>None</td>\n",
       "      <td>None</td>\n",
       "      <td>Unknown</td>\n",
       "      <td>1.0</td>\n",
       "    </tr>\n",
       "    <tr>\n",
       "      <th>335</th>\n",
       "      <td>NV_FL_G1_R_101317_B4_E2</td>\n",
       "      <td>10/13/17</td>\n",
       "      <td>21.0</td>\n",
       "      <td>NikonSMZ1500/DSRi1/ 1X by 1Xzoom ratio/0.5cm=5...</td>\n",
       "      <td>measurement in um</td>\n",
       "      <td>Gentamycin_Rescue</td>\n",
       "      <td>50ug/ml</td>\n",
       "      <td>B4</td>\n",
       "      <td>E2</td>\n",
       "      <td>autoclaved ASW</td>\n",
       "      <td>...</td>\n",
       "      <td>2</td>\n",
       "      <td>0.0</td>\n",
       "      <td>NaN</td>\n",
       "      <td>NV_FL_G1_R_101317_B4_E2.png</td>\n",
       "      <td>796.150000</td>\n",
       "      <td>229.4561505</td>\n",
       "      <td>None</td>\n",
       "      <td>101317_R_B4_E2</td>\n",
       "      <td>Unknown</td>\n",
       "      <td>1.0</td>\n",
       "    </tr>\n",
       "  </tbody>\n",
       "</table>\n",
       "<p>336 rows × 22 columns</p>\n",
       "</div>"
      ],
      "text/plain": [
       "                   #SampleID      date    dpf  \\\n",
       "0    NV_FL_G1_R_111617_A2_E2  11/16/17   52.0   \n",
       "1    NV_FL_G1_R_020118_B4_E2    2/5/18  130.0   \n",
       "2    NV_FL_G1_C_111617_C4_E6  11/16/17   52.0   \n",
       "3    NV_FL_G1_C_112917_B4_E2  11/29/17   68.0   \n",
       "4    NV_FL_G1_R_020818_A3_E3    2/8/18  138.0   \n",
       "..                       ...       ...    ...   \n",
       "331  NV_FL_G1_C_112917_C4_E6  11/29/17   68.0   \n",
       "332  NV_FL_G1_G_112117_A4_E4  11/21/17   59.0   \n",
       "333  NV_FL_G1_G_112917_B2_E6  11/29/17   68.0   \n",
       "334  NV_FL_G1_G_112917_A4_E4  11/29/17   68.0   \n",
       "335  NV_FL_G1_R_101317_B4_E2  10/13/17   21.0   \n",
       "\n",
       "             Microscope/ Camera/Objective/ Calibration        sample_type  \\\n",
       "0    NikonSMZ1500/DSRi1/ 1X by 1Xzoom ratio/0.5cm=5...  measurement in um   \n",
       "1    NikonSMZ1500/DSRi1/ 1X by 1Xzoom ratio/0.5cm=5...  measurement in um   \n",
       "2    NikonSMZ1500/DSRi1/ 1X by 1Xzoom ratio/0.5cm=5...  measurement in um   \n",
       "3    NikonSMZ1500/DSRi1/ 1X by 1Xzoom ratio/0.5cm=5...  measurement in um   \n",
       "4    NikonSMZ1500/DSRi1/ 1X by 1Xzoom ratio/0.5cm=5...  measurement in um   \n",
       "..                                                 ...                ...   \n",
       "331  NikonSMZ1500/DSRi1/ 1X by 1Xzoom ratio/0.5cm=5...  measurement in um   \n",
       "332  NikonSMZ1500/DSRi1/ 1X by 1Xzoom ratio/0.5cm=5...  measurement in um   \n",
       "333  NikonSMZ1500/DSRi1/ 1X by 1Xzoom ratio/0.5cm=5...  measurement in um   \n",
       "334  NikonSMZ1500/DSRi1/ 1X by 1Xzoom ratio/0.5cm=5...  measurement in um   \n",
       "335  NikonSMZ1500/DSRi1/ 1X by 1Xzoom ratio/0.5cm=5...  measurement in um   \n",
       "\n",
       "                 plate current_antibiotic_dose well_Id egg_sack_id  \\\n",
       "0               Rescue                    None      A2          E2   \n",
       "1    Gentamycin_Rescue                    None      B4          E2   \n",
       "2              Control                    None      C4          E6   \n",
       "3              Control                    None      B4          E2   \n",
       "4    Gentamycin_Rescue                    None      A3          E3   \n",
       "..                 ...                     ...     ...         ...   \n",
       "331            Control                    None      C4          E6   \n",
       "332         Gentamycin                    None      A4          E4   \n",
       "333         Gentamycin                    None      B2          E6   \n",
       "334         Gentamycin                    None      A4          E4   \n",
       "335  Gentamycin_Rescue                 50ug/ml      B4          E2   \n",
       "\n",
       "                                            water_type  ...  \\\n",
       "0    1.5ml autoclaved ASW+500ul ASW from correspond...  ...   \n",
       "1                                       autoclaved ASW  ...   \n",
       "2    autoclaved ASW (minus 500ul) +500ul fresh Auto...  ...   \n",
       "3    autoclaved ASW (minus 500ul) +500ul fresh Auto...  ...   \n",
       "4                                       autoclaved ASW  ...   \n",
       "..                                                 ...  ...   \n",
       "331                                     autoclaved ASW  ...   \n",
       "332                                     autoclaved ASW  ...   \n",
       "333                                     autoclaved ASW  ...   \n",
       "334                                     autoclaved ASW  ...   \n",
       "335                                     autoclaved ASW  ...   \n",
       "\n",
       "     total_with_tentacle  total_unhealthy  unhealthy_nematostella_notes  \\\n",
       "0                      0              1.0             fragmented pieces   \n",
       "1                      0              1.0                           NaN   \n",
       "2                      0              1.0                           NaN   \n",
       "3                      1              0.0                           NaN   \n",
       "4                      0              1.0                           NaN   \n",
       "..                   ...              ...                           ...   \n",
       "331                    3              0.0                           NaN   \n",
       "332                    1              0.0                           NaN   \n",
       "333                    1              0.0                           NaN   \n",
       "334                    1              0.0                           NaN   \n",
       "335                    2              0.0                           NaN   \n",
       "\n",
       "                  photo_filename average_length stdev_length  FISH_sample_id  \\\n",
       "0    NV_FL_G1_R_111617_A2_E2.png      93.500000  132.2289681            None   \n",
       "1    NV_FL_G1_R_020118_B4_E2.png     128.300000  181.4436001            None   \n",
       "2    NV_FL_G1_C_111617_C4_E6.png     131.400000         None            None   \n",
       "3    NV_FL_G1_C_112917_B4_E2.png     135.500000         None            None   \n",
       "4    NV_FL_G1_R_020818_A3_E3.png     137.850000  194.9493396            None   \n",
       "..                           ...            ...          ...             ...   \n",
       "331  NV_FL_G1_C_112917_C4_E6.png     756.666667  248.1135493            None   \n",
       "332  NV_FL_G1_G_112117_A4_E4.png     763.600000         None            None   \n",
       "333  NV_FL_G1_G_112917_B2_E6.png     767.500000         None            None   \n",
       "334  NV_FL_G1_G_112917_A4_E4.png     779.200000         None            None   \n",
       "335  NV_FL_G1_R_101317_B4_E2.png     796.150000  229.4561505            None   \n",
       "\n",
       "      16S_sample_id flikr link remaining_nematostella  \n",
       "0              None    Unknown                    NaN  \n",
       "1              None    Unknown                    1.0  \n",
       "2              None    Unknown                    1.0  \n",
       "3              None    Unknown                    1.0  \n",
       "4              None    Unknown                    1.0  \n",
       "..              ...        ...                    ...  \n",
       "331            None    Unknown                    3.0  \n",
       "332            None    Unknown                    1.0  \n",
       "333            None    Unknown                    1.0  \n",
       "334            None    Unknown                    1.0  \n",
       "335  101317_R_B4_E2    Unknown                    1.0  \n",
       "\n",
       "[336 rows x 22 columns]"
      ]
     },
     "execution_count": 22,
     "metadata": {},
     "output_type": "execute_result"
    }
   ],
   "source": [
    "#run the read_csv function \n",
    "data = read_csv(\"nematostella_data.csv\")\n",
    "\n",
    "#Just typing the name of the variable is enough to show the data once it was loaded within a Jupyter Notebook\n",
    "data\n"
   ]
  },
  {
   "cell_type": "markdown",
   "metadata": {},
   "source": [
    "### Troubleshooting `FileNotFound` errors\n",
    "\n",
    "The hardest part of loading data into python usually isn't actually the python part. Instead, it's understanding how to get a file into your current working directory. Therefore, the most common error you will get is due to the file not actually being in the same current working directory as you ran python from. This can also happen if you have a typo in the filename. \n",
    "\n",
    "For example, if you were to try to run read_csv on a file called `nematostella_dataaa.csv` (with extra `a`s in `data`), you would get a long error message, ending with: \n",
    "    `FileNotFoundError: [Errno 2] No such file or directory: 'nematostella_dataaa.csv'`"
   ]
  },
  {
   "cell_type": "markdown",
   "metadata": {},
   "source": [
    "### Double checking the contents of your current working directory\n",
    "\n",
    "To double check the correct spelling of the filename, you can run the code below to import the function `listdir` from pythons built in `os` module, and use it to double check that the file you want to open is really in the list of files from your current directory. \n",
    "\n",
    "Remember that any lines that start with a pound sign or hashtag symbol (`#`) are just comments, and not anything you have to type into python"
   ]
  },
  {
   "cell_type": "code",
   "execution_count": 23,
   "metadata": {},
   "outputs": [
    {
     "name": "stdout",
     "output_type": "stream",
     "text": [
      "The files in the current directory are: ['untidy_data_example.csv', '.DS_Store', 'exercise_answers_exploring_python_data_types.ipynb', 'tidy_data_example.csv', 'resources', 'another_quick_win.ipynb', 'A_Tour_of_Python_Syntax.ipynb', 'a_quick_win.ipynb', 'error_messages_in_python.ipynb', 'nematostella_data.csv', 'nematostella_data_dictionary.csv', 'exploring_python.ipynb', 'exploring_python_data_types.ipynb', 'template.ipynb', '.ipynb_checkpoints', 'exercise_error_bingo.ipynb']\n"
     ]
    }
   ],
   "source": [
    "#Import the list directory or listdir function\n",
    "from os import listdir\n",
    "\n",
    "#Run listdir and assign the list of filenames to a variable called\n",
    "#current_files\n",
    "current_files = listdir()\n",
    "\n",
    "#Check that 'nematostella_data.csv' is in the list of files\n",
    "#(It might be hard to spot if the list is super long)\n",
    "print(\"The files in the current directory are:\", current_files)"
   ]
  },
  {
   "cell_type": "markdown",
   "metadata": {},
   "source": [
    "If `nematostella_data.csv` is *not* in your current directory, you can figure out what your current directory is using the code below, then move it or re-download it into that directory by hand outside of python:"
   ]
  },
  {
   "cell_type": "code",
   "execution_count": 24,
   "metadata": {},
   "outputs": [
    {
     "name": "stdout",
     "output_type": "stream",
     "text": [
      "The current directory is: /Users/zaneveld/Dropbox/Zaneveld_Lab_Organization/Projects/Full_Spectrum_Bioinformatics/full_spectrum_bioinformatics/content/04_exploring_python\n"
     ]
    }
   ],
   "source": [
    "from os import getcwd\n",
    "current_dir = getcwd()\n",
    "print(\"The current directory is:\",current_dir)"
   ]
  },
  {
   "cell_type": "markdown",
   "metadata": {},
   "source": [
    "This is the absolute path for your directory. Using what you know about absolute paths, you should now be able to open this folder in your finder, and make sure you've downloaded the file into it (or move it there if you put it somewhere else)"
   ]
  },
  {
   "cell_type": "markdown",
   "metadata": {},
   "source": [
    "## Extracting data from the pandas dataframe\n",
    "\n",
    "If you were able to load the data and see a table, the hardest part is done! From here, only a few lines of code are needed to take columns of the `pandas` `DataFrame` object and convert them to basic python lists, similar to those that we used in the previous `quick win` section.\n",
    "\n",
    "We will later more comprehensively discuss pandas DataFrames and how to filter them, combine data across multiple tables, etc. For now, we need only to know two things:\n",
    "\n",
    "1. We can extract a column from a pandas DataFrame by following the name of the variable that holds the dataframe with square brackets containing a string with the name of the column you want. That sounds like a lot, but is simple enough when written out: `day = data['dpf']`.\n",
    "\n",
    "2. The resulting object is a pandas `Series` object. By calling the `list` function, we can convert this `Series` object into a standard python list. For example: `day = list(day)`.\n",
    "\n",
    "Let's try applying these two steps to our data to extract the `dpf` column, which holds time information on how many 'days post fertilization (dpf)' each observation was taken at. We'll then repeat the process to extract information on how large the average *Nematostella* was from the `average_length` column:"
   ]
  },
  {
   "cell_type": "code",
   "execution_count": 25,
   "metadata": {},
   "outputs": [
    {
     "name": "stdout",
     "output_type": "stream",
     "text": [
      "Days post fertilization: [52.0, 130.0, 52.0, 68.0, 138.0, 59.0, 138.0, 59.0, 52.0, 68.0, 8.0, 52.0, 112.0, 149.0, 52.0, 21.0, 4.0, 4.0, 130.0, 130.0, 4.0, 4.0, 17.0, 59.0, 4.0, 68.0, 4.0, 21.0, 4.0, 149.0, 149.0, 138.0, 8.0, 12.0, 4.0, 4.0, 4.0, 8.0, 12.0, 8.0, 4.0, 138.0, 52.0, 4.0, 4.0, 8.0, 4.0, 8.0, 4.0, 4.0, 4.0, 8.0, 4.0, 138.0, 8.0, 59.0, 8.0, 4.0, 4.0, 4.0, 4.0, 4.0, 4.0, 4.0, 8.0, 4.0, 138.0, 8.0, 4.0, 68.0, 130.0, 4.0, 4.0, 4.0, 21.0, 17.0, 112.0, 8.0, 8.0, 8.0, 8.0, 8.0, 17.0, 8.0, 8.0, 112.0, 4.0, 8.0, 4.0, 8.0, 4.0, 8.0, 12.0, 4.0, 4.0, 12.0, 8.0, 8.0, 130.0, 12.0, 4.0, 8.0, 8.0, 8.0, 149.0, 8.0, 112.0, 8.0, 112.0, 12.0, 21.0, 12.0, 8.0, 8.0, 8.0, 8.0, 12.0, 8.0, 8.0, 130.0, 149.0, 8.0, 12.0, 149.0, 17.0, 21.0, 12.0, 149.0, 59.0, 12.0, 138.0, 130.0, 12.0, 8.0, 52.0, 12.0, 12.0, 149.0, 112.0, 68.0, 17.0, 149.0, 68.0, 138.0, 59.0, 17.0, 12.0, 68.0, 130.0, 12.0, 21.0, 112.0, 138.0, 149.0, 59.0, 59.0, 112.0, 138.0, 68.0, 12.0, 138.0, 59.0, 17.0, 12.0, 12.0, 12.0, 21.0, 21.0, 17.0, 17.0, 68.0, 52.0, 12.0, 52.0, 130.0, 52.0, 112.0, 12.0, 59.0, 68.0, 12.0, 112.0, 12.0, 112.0, 59.0, 21.0, 12.0, 12.0, 17.0, 68.0, 149.0, 130.0, 52.0, 17.0, 149.0, 12.0, 52.0, 17.0, 17.0, 17.0, 130.0, 21.0, 12.0, 17.0, 112.0, 112.0, 149.0, 149.0, 12.0, 52.0, 17.0, 21.0, 21.0, 112.0, 130.0, 138.0, 52.0, 149.0, 12.0, 12.0, 138.0, 138.0, 17.0, 17.0, 68.0, 17.0, 12.0, 59.0, 59.0, 21.0, 52.0, 68.0, 149.0, 130.0, 112.0, 17.0, 17.0, 12.0, 12.0, 17.0, 59.0, 21.0, 17.0, 21.0, 59.0, 52.0, 17.0, 59.0, 68.0, 21.0, 68.0, 17.0, 21.0, 68.0, 17.0, 138.0, 21.0, 21.0, 21.0, 12.0, 21.0, 59.0, 52.0, 52.0, 59.0, 17.0, 68.0, 59.0, 68.0, 138.0, 59.0, 52.0, 68.0, 17.0, 52.0, 12.0, 68.0, 17.0, 21.0, 21.0, 59.0, 59.0, 21.0, 59.0, 52.0, 59.0, 68.0, 21.0, 68.0, 21.0, 68.0, 112.0, 112.0, 21.0, 59.0, 21.0, 59.0, 17.0, 17.0, 52.0, 17.0, 68.0, 68.0, 130.0, 21.0, 68.0, 59.0, 52.0, 52.0, 52.0, 68.0, 17.0, 52.0, 52.0, 17.0, 52.0, 52.0, 17.0, 17.0, 59.0, 21.0, 68.0, 52.0, 21.0, 21.0, 21.0, 21.0, 21.0, 52.0, 59.0, 59.0, 68.0, 59.0, 68.0, 68.0, 21.0]\n"
     ]
    }
   ],
   "source": [
    "#Extract the 'dpf' column from our DataFrame (i.e. the 'data' variable)\n",
    "#and save it in the day variable\n",
    "day = data['dpf']\n",
    "\n",
    "#Convert the column data to a list, and assign that list to the day variable\n",
    "day = list(day)\n",
    "\n",
    "print(\"Days post fertilization:\", day)"
   ]
  },
  {
   "cell_type": "code",
   "execution_count": 26,
   "metadata": {},
   "outputs": [
    {
     "name": "stdout",
     "output_type": "stream",
     "text": [
      "Average length: [93.5, 128.3, 131.4, 135.5, 137.85, 138.9, 143.4333333, 143.7, 144.7, 151.8, 163.4857143, 165.4, 168.4, 168.6, 175.2666667, 176.5, 177.95, 180.6625, 187.2333333, 190.55, 193.775, 194.15, 194.9, 197.9, 200.6625, 201.1, 202.825, 203.6, 204.8125, 205.4, 205.7, 208.0, 209.65, 212.0, 212.05, 212.1375, 213.775, 214.7714286, 216.2666667, 216.3285714, 216.4125, 216.45, 217.0, 217.175, 218.2125, 218.5, 218.8125, 219.2714286, 219.5714286, 219.875, 219.9, 220.9428571, 221.05, 221.3, 223.2428571, 224.1, 224.2857143, 225.2625, 225.3285714, 225.6714286, 225.8875, 226.2375, 226.3, 226.6125, 227.0666667, 227.325, 227.5, 228.4714286, 228.525, 229.7, 229.7, 229.9875, 230.025, 230.6, 230.8333333, 230.9666667, 232.8, 232.9, 234.3428571, 234.7, 235.4285714, 235.7142857, 237.875, 237.9571429, 238.0714286, 239.0, 239.3857143, 240.25, 241.425, 241.6142857, 241.8, 241.9666667, 242.3, 242.5875, 243.9, 244.95, 245.25, 246.3142857, 246.7333333, 246.78, 246.9875, 247.4714286, 247.5857143, 248.0571429, 251.4, 251.8428571, 252.0666667, 253.0333333, 254.2, 258.26, 258.3, 259.3333333, 259.5, 262.8, 265.3714286, 265.5857143, 267.6666667, 269.3142857, 273.2, 273.5, 274.1333333, 277.2, 277.85, 278.2, 278.82, 285.2666667, 293.6833333, 295.4, 295.6, 301.34, 301.5, 303.6666667, 304.8166667, 306.5285714, 306.6, 307.1666667, 307.96, 309.9, 310.7, 311.0, 312.46, 316.5, 319.2, 319.3, 324.0, 328.4, 328.94, 331.8, 333.5, 334.1333333, 334.6, 336.3, 340.1, 345.0, 348.4, 354.3, 359.4, 360.9333333, 361.6, 364.85, 370.75, 371.45, 373.8, 374.06, 375.675, 377.55, 379.5, 381.1, 382.3333333, 382.7, 383.5, 386.25, 396.1, 396.55, 396.9666667, 398.1, 398.65, 399.7166667, 399.9, 400.0, 402.3, 402.8, 406.45, 406.65, 409.45, 410.0666667, 411.0, 412.5666667, 413.95, 417.05, 419.0, 420.7, 423.2, 426.4, 427.45, 428.9333333, 430.32, 432.25, 434.475, 434.85, 435.9, 436.2333333, 436.82, 437.875, 438.35, 438.35, 442.1666667, 444.35, 447.4833333, 449.8, 452.85, 456.7, 459.12, 461.95, 464.1666667, 466.8, 466.825, 467.4, 470.5833333, 470.72, 473.0, 473.85, 474.6333333, 475.55, 480.05, 482.175, 482.5333333, 483.3, 484.02, 486.825, 487.2, 490.58, 493.6, 494.4, 494.6, 496.84, 500.175, 500.95, 501.25, 504.4333333, 505.375, 506.85, 507.075, 513.2666667, 513.7, 515.5, 516.65, 516.84, 517.9, 521.9, 522.8, 523.6666667, 525.16, 525.72, 529.3833333, 531.8, 534.1333333, 534.8666667, 534.9, 537.06, 537.85, 540.4333333, 540.5, 540.6666667, 540.95, 543.1, 544.05, 545.0333333, 546.3, 546.425, 547.0666667, 547.125, 550.3833333, 551.3666667, 552.26, 555.3, 556.6666667, 558.375, 562.26, 567.0, 567.6333333, 569.15, 570.7666667, 570.9, 571.3, 572.45, 572.6, 573.5666667, 574.55, 577.825, 582.6, 587.8, 589.1, 589.35, 590.4, 591.5, 592.3, 593.2666667, 594.875, 596.3, 596.32, 597.05, 597.05, 598.0, 601.0, 603.7, 606.7, 608.2, 609.75, 609.85, 613.25, 619.78, 624.6, 625.3, 637.92, 640.8, 647.7, 649.36, 656.875, 660.1666667, 660.6, 662.9333333, 667.6, 668.1666667, 669.25, 675.3, 720.3666667, 723.15, 743.9, 750.3666667, 753.6, 756.6666667, 763.6, 767.5, 779.2, 796.15]\n"
     ]
    }
   ],
   "source": [
    "#Extract the 'average_length' column from our DataFrame (i.e. the 'data' variable)\n",
    "#and save it in the day variable\n",
    "length = data['average_length']\n",
    "\n",
    "#Convert the column data to a list, and assign that list to the day variable\n",
    "length = list(length)\n",
    "\n",
    "print(\"Average length:\", length)"
   ]
  },
  {
   "cell_type": "markdown",
   "metadata": {},
   "source": [
    "**Stop and check:** if there are any non-numerical data in the list, later steps won't work. That shouldn't happen with this example data, but is very likely in real data. Later, we will learn how to filter pandas DataFrames within python to remove rows with non-numeric or missing data. For now, if you encounter this issue in your own data, you can make a 'clean' version by saving the datasheet, and deleting all columns that are not key to your analysis, then deleting rows that have missing data for your `x` or `y` variables. Finally, you would reload the data again with `read_csv`."
   ]
  },
  {
   "cell_type": "markdown",
   "metadata": {},
   "source": [
    "### Make a simple scatterplot in matplotlib\n",
    "\n",
    "\n",
    "Now that we have our key biological variables We will have to import a few functions from `matplotlib.pyplot` that we will need to make our graph. `scatter` is the function for making the scatterplot, while `xlabel` and `ylabel` are functions for setting the x and y axis labels."
   ]
  },
  {
   "cell_type": "code",
   "execution_count": 33,
   "metadata": {},
   "outputs": [
    {
     "data": {
      "text/plain": [
       "Text(0, 0.5, 'Average Nematostella length (mm)')"
      ]
     },
     "execution_count": 33,
     "metadata": {},
     "output_type": "execute_result"
    },
    {
     "data": {
      "image/png": "[encoded data removed]",
      "text/plain": [
       "<Figure size 432x288 with 1 Axes>"
      ]
     },
     "metadata": {
      "needs_background": "light"
     },
     "output_type": "display_data"
    }
   ],
   "source": [
    "from matplotlib.pyplot import scatter, xlabel, ylabel\n",
    "\n",
    "scatter(day,length)\n",
    "xlabel(\"Days post fertilization (dpf)\")\n",
    "ylabel(\"Average Nematostella length (mm)\")"
   ]
  },
  {
   "cell_type": "markdown",
   "metadata": {},
   "source": [
    "**Stop and think**: Up to 20 days post fertilization, do the *Nematostella* appear to be growing? What about after 20 dpf?"
   ]
  },
  {
   "cell_type": "markdown",
   "metadata": {},
   "source": [
    "## Running a simple linear regression in python\n",
    "\n",
    "As we saw in the previous 'Quick Win' chapter, the function `pearsonr` from the `scipy.stats` module will perform a Pearson regression. This take two lists of numbers, and tests whether the values of the first list are correlated with the corresponding values in the second list. As before, a Pearson regression is useful in comparing two continuous variables against each other, to see if they might be positively or negatively correlated.\n",
    "\n",
    "Since we have some data on the size of our *Nematostella* linked to particular points in time (measured in days post-fertilization), we can test whether they grew larger over the course of the experiment. \n",
    "\n",
    "Here's a complete example:"
   ]
  },
  {
   "cell_type": "code",
   "execution_count": 30,
   "metadata": {},
   "outputs": [
    {
     "name": "stdout",
     "output_type": "stream",
     "text": [
      "R2: 0.06744491167800551\n",
      "pvalue: 0.21754481322035318\n"
     ]
    }
   ],
   "source": [
    "#Import the pearsonr function \n",
    "from scipy.stats import pearsonr\n",
    "\n",
    "#We should already have our data in the day and length varaibles, so we do not need to \n",
    "#type out these lists by hand.\n",
    "\n",
    "#Run pearson regression, and assign the results to the variables R2 and pvalue\n",
    "R2, pvalue = pearsonr(day,length)\n",
    "\n",
    "#Print the results\n",
    "print(\"R2:\",R2)\n",
    "print(\"pvalue:\",pvalue)"
   ]
  },
  {
   "cell_type": "markdown",
   "metadata": {},
   "source": [
    "The Pearson regression produces two values. The R-squared (R2) value represents the proportion of the variation in the y variable that is explained by the value of the x variable. So in this case, 6.7% of the variation in the length of our *Nematostella* can be explained by growth over time.\n",
    "\n",
    "The p-value represents the chances of getting this strong of a pattern by chance. In the case of Pearson regression 'by chance' means under the null hypothesis of a flat relationship between the x and y variables (i.e. increasing x does not increase y on average).  In our case we get a p-value of 0.2175. This means it would be quite possible — about a 22% chance — that any apparent increase in size we see over the whole experiment could as easily happen under the null hypothesis of no relationship. Because 22% is much more than 5%, this means that the relationship between time and Nematostella length would not be considered statistically significant."
   ]
  },
  {
   "cell_type": "markdown",
   "metadata": {},
   "source": [
    "## Exercises\n",
    "\n",
    "1. **Respond to the following interpretation of the data**: \"Our results show no statistical significance. Therefore, we have ruled out the possibility that *Nematostella* anemones grow over time after fertilization\". Do you agree or disagree with this interpretation? Why?\n",
    "\n",
    "2. **Examine the graph showing *Nematostella* length over time.**. Does the pattern seem consistent, or do there seem to be contrasting patterns at different points in time?\n",
    "\n",
    "3. **Test whether *Nematostella* growth patterns differ before and after 20 dpf**. Open the `nematostella_data.csv` file, and save a copy called `nematostella_data_to_20dpf.csv`. In that copy, sort the data by days post fertilization in Excel or Google sheets. Then, save the data to a `.csv` in the same folder as the original data file, and try loading it up by adapting the code above. As before, plot a scatterplot and run a Pearson regression to compare days post fertilization against length. Up to 20 days post fertilization, is Nematostella length increasing over time?\n",
    "\n",
    "4. The opacity (opposite of transparency) of points in a matplotlib scatterplot can be adjusted using the `alpha` parameter to the `scatter` function. `alpha` takes a number between 0.0 and 1.0, with 1.0 being totally opaque (= solid, not see-through) and 0.0 being invisible. Try rerunning the scatter function with alpha = 0.25, like this: `scatter(day,length,alpha = 0.25)`. Then, experiment a little with different opacities. What, if anything does making the data points more transparent reveal about the *density* of the data? What alpha values seems best in this case? If you had thousands of data points on a graph, how do you suppose changing the opacity of your scatterplot points might change reader's ability to make sense of the graph?  \n"
   ]
  },
  {
   "cell_type": "markdown",
   "metadata": {},
   "source": [
    "## Reading Responses & Feedback \n",
    "\n",
    "^Make this a hyperlink using Google Forms"
   ]
  },
  {
   "cell_type": "markdown",
   "metadata": {},
   "source": [
    "## Further Reading"
   ]
  },
  {
   "cell_type": "markdown",
   "metadata": {},
   "source": [
    "## References"
   ]
  }
 ],
 "metadata": {
  "kernelspec": {
   "display_name": "Python 3",
   "language": "python",
   "name": "python3"
  },
  "language_info": {
   "codemirror_mode": {
    "name": "ipython",
    "version": 3
   },
   "file_extension": ".py",
   "mimetype": "text/x-python",
   "name": "python",
   "nbconvert_exporter": "python",
   "pygments_lexer": "ipython3",
   "version": "3.8.8"
  }
 },
 "nbformat": 4,
 "nbformat_minor": 2
}
