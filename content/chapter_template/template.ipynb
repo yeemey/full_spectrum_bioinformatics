{
 "cells": [
  {
   "cell_type": "markdown",
   "metadata": {},
   "source": [
    "# Full Spectrum Bioinformatics Section Template"
   ]
  },
  {
   "cell_type": "markdown",
   "metadata": {},
   "source": [
    "## In this section"
   ]
  },
  {
   "cell_type": "markdown",
   "metadata": {},
   "source": [
    "## Prerequisites"
   ]
  },
  {
   "cell_type": "markdown",
   "metadata": {},
   "source": [
    "## Table of Content"
   ]
  },
  {
   "cell_type": "markdown",
   "metadata": {},
   "source": [
    "## Main text\n",
    "\n",
    "#### Subheading\n",
    "\n",
    "An image **with description field for screen readers**\n",
    "\n",
    "<img src=\"./resources/linear_scatter_high_r2_linear_regression.png\" width=\"400\"  description=\"A cartoon of a scatter plot with x and y axes. A series of orange points is plotted. The points have some scatter to them, but roughly form a diagonal line from the lower left to the upper right of the plot. A black regression line runs diagonally through the points. \">\n",
    "\n",
    "A simple math symbol: (see https://sites.psu.edu/symbolcodes/codehtml/#math and https://www.keynotesupport.com/internet/special-characters-greek-letters-symbols.shtml\n",
    "\n",
    "y = &beta;<sub>0</sub>x<sub>0</sub>  + &beta;<sub>1</sub>x<sub>1</sub> + &beta;<sub>2</sub>x<sub>2</sub> + &beta;<sub>3\n",
    "  \n",
    "Split cells with cntrl-shift-minus"
   ]
  },
  {
   "cell_type": "markdown",
   "metadata": {},
   "source": [
    "#### 4-color palette\n",
    "- Bright green ( RGB 146,249,11)\n",
    "- Orange (RGB 253,173,1)\n",
    "- Magenta (RGB 255,19,170)\n",
    "- Deep Blue (RGB 11,79,175)"
   ]
  },
  {
   "cell_type": "markdown",
   "metadata": {},
   "source": [
    "## Exercises"
   ]
  },
  {
   "cell_type": "markdown",
   "metadata": {},
   "source": [
    "## Reading Responses & Feedback \n",
    "\n",
    "^Make this a hyperlink using Google Forms"
   ]
  },
  {
   "cell_type": "markdown",
   "metadata": {},
   "source": [
    "## Further Reading"
   ]
  },
  {
   "cell_type": "markdown",
   "metadata": {},
   "source": [
    "## References"
   ]
  }
 ],
 "metadata": {
  "kernelspec": {
   "display_name": "Python 3",
   "language": "python",
   "name": "python3"
  },
  "language_info": {
   "codemirror_mode": {
    "name": "ipython",
    "version": 3
   },
   "file_extension": ".py",
   "mimetype": "text/x-python",
   "name": "python",
   "nbconvert_exporter": "python",
   "pygments_lexer": "ipython3",
   "version": "3.7.2"
  }
 },
 "nbformat": 4,
 "nbformat_minor": 2
}
