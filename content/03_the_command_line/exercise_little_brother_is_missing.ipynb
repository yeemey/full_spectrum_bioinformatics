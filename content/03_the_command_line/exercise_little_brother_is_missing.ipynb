{
 "cells": [
  {
   "cell_type": "markdown",
   "metadata": {},
   "source": [
    "\n",
    "<img src=\"./resources/images/village_map_banner.jpg\" width=\"800\" align=\"Center\"  description=\"An image of a village map that shows the arrangement of directories. At the bottom is start_here, which connects to the_village. From the village, paths lead to home_sweet_home, the_path_to_the_mansion and the_zoo. Additional lines leading from the_path_to_the_mansion_are left blank\">\n",
    "\n",
    "\n",
    "# Exercise: Little Brother is Missing"
   ]
  },
  {
   "cell_type": "markdown",
   "metadata": {},
   "source": [
    "In this section we will practice navigating a file system using a command line interface. That could be pretty boring - and therefore hard to practice. I've tried to soup it up a little bit by putting together a set of files and folders that you can download that tell a story. In this case, it's a story of your little brother, who has left your village on his bike and headed for the spooooooooky mansion up the hill. \n",
    "\n",
    "Each directory will represent a certain place (the village, your house, a secret passageway, etc) and the text files in them will represent things you can find (a unicorn, a magical mushroom, your lost brother).\n",
    "\n",
    "Your goal is to map the mansion, find your brother, and move the little_brother.txt file back to the folder representing your home in the village. Along the way you can also find the sword Excaliber, return a lost animal to the zoo, and assemble ingredients for a tasty mushroom stew. \n",
    "\n",
    "In accomplishing this goal you are *only allowed to use commands that you type into your command line interface*. After all, that's the point :). "
   ]
  },
  {
   "cell_type": "markdown",
   "metadata": {},
   "source": [
    "## Getting Set up\n",
    "\n",
    "The goal of the getting set up section is to open a command line interface, and download a set of files and folders into the directory that you start out in in that interface. If you already know how to do that - go ahead! If not that's expected - I've detailed the steps down below. If you're new to this, try to follow them in order.\n",
    "\n",
    "As a side note, this first part is set up, not really part of the exercise, so if you need help from a friend or instructor getting going that's totally OK and won't impact what you get out of the exercise."
   ]
  },
  {
   "cell_type": "markdown",
   "metadata": {},
   "source": [
    "### Open Terminal (Mac OSX) or PowerShell (Windows) \n",
    "\n",
    "Follow the instructions in the section on [the command line](./the_commandline.ipynb) to open Terminal (if on Mac) or PowerShell (if you're on Windows). To save a click, here they are again:\n",
    "\n",
    "#### How to Open a Commandline Interface on Mac OSX\n",
    "\n",
    "On MacOSX you will either search your computer for 'Terminal', and open the application, or go to the 'Applications' folder, then 'Utilities', and then open the 'Terminal' Program.\n",
    "\n",
    "Here's an example of opening the MacOSX terminal. The pink boxes highlight the key steps:\n",
    "\n",
    "<img src=\"./resources/images/opening_macosx_terminal.png\" width=\"400\" align=\"center\"  description=\"An image of a MacOSX interface showing how to access the Terminal application by going first to Applications, then Utilities, and then selecting Terminal\">\n",
    "\n",
    "Once you double-click on the program a new window should pop up with some text in it. This is your command line interface. \n",
    "\n",
    "#### How to open a Command Line Interface on Windows 10\n",
    "\n",
    "On Windows, you can use PowerShell as your command line interface. To do so, you can click the Start menu, type PowerShell, and then click on Windows PowerShell.\n",
    "\n",
    "The pink boxes in the below image highlight the key steps:\n",
    "\n",
    "<img src=\"./resources/images/opening_windows_powershell.png\" width=\"200\" align=\"center\"  description=\"An image of a Windows 10 interface showing how to open the Start menu, then search for PowerShell\">\n",
    "\n",
    "Alternatively, if you would like a more similar experience to colleagues using BASH, you can download and install either [Cygwin](https://www.cygwin.com/) or [Git Bash](https://gitforwindows.org/). Once installed, run CygWin or Git Bash as administrator (by right clicking on them and then hitting 'run as administrator').\n"
   ]
  },
  {
   "cell_type": "markdown",
   "metadata": {},
   "source": [
    "###  Figure out your current working directory using pwd\n",
    "\n",
    "We want to practice moving around folders on our computer using a set of folders we download. To make this easiest, we'll have you download the folder into your 'home directory' - the place that you start out when you open a new command line interface. You've just opened a new command line interface now, so we can use the pwd command to figure out what directory you are in. That will be your home directory. \n",
    "\n",
    "So I'll now type:\n",
    "\n",
    "`\n",
    "pwd\n",
    "`\n",
    "\n",
    "Then hit enter. The output I see on my screen is:\n",
    "\n",
    "`\n",
    "/Users/jzaneveld/\n",
    "`\n",
    "\n",
    "This represents the absolute path from the root of my file system (the directory called `/` on Mac or Linux and typically `C:/` on Windows) to my current working directory. As we discussed in the chapter on  [the command line](./the_commandline.ipynb), this is just the set of steps I would need to take to go from the root of the file system to my current directory. In this case that would be equivalent to saying: \"from the root of the filesystem / go into the directroy Users/ then from there go into the directory jzaneveld/\"."
   ]
  },
  {
   "cell_type": "markdown",
   "metadata": {},
   "source": [
    "### Download the exercise materials **into** your current working directory\n",
    "\n",
    "Now that we know which directory we are in on our command line interface, we want to download the excercise materials into that directory.\n",
    "\n",
    "We want to save this file *directly* into the folder we identified as our home directory in the previous step (so `/Users/jzaneveld`) in my case."
   ]
  },
  {
   "cell_type": "markdown",
   "metadata": {},
   "source": [
    "Here's how to do so:\n",
    "\n",
    "1. Using right-click (Windows) and either a two-finger click or a click while holding down the Control key (Mac), click on this link:  [directory_treasure_hunt.zip](./resources/activity_2_treasure_hunt.zip)\n",
    "\n",
    "2. From the pop-up menu, choose Save Link As...\n",
    "\n",
    "3. On Mac, you should see a pop-up that looks a little like the one below. Click on the folder selection button (it should be right above the main part of the window - right where the word 'Dropbox' appears in the image below). A little menu should pop up. In it, select 'Macintosh' to get to the root of your file system. Once there, move through the set of directories in your absolute path (that you identified with the `pwd` command above) in order to save this file in your current working directory.\n",
    "\n",
    "<img src=\"./resources/images/select_directory_mac.png\" width=\"400\" align=\"center\"  description=\"An image of a Mac OSX interface showing the menu that pops up when you save a folder. The menu right above the main part of the view window has been clicked on, and dragged to select the word 'Macintosh', representing the root folder. \">\n",
    "\n",
    "On Windows, the process is similar, but the 'Save As...' window will look a little different. In that case you will typically be looking for a folder labelled `C:\\` as the root of your filesystem. From there, click through each directory in the *absolute path* listed by the `pwd` command and then click save.\n",
    "\n",
    "4. The file you just downloaded is compressed. To use it you first need to expand it. You can do so by right clicking on it and clicking 'Extract'.  "
   ]
  },
  {
   "cell_type": "markdown",
   "metadata": {},
   "source": [
    "## Return to the Command Line and Access the Instructions\n",
    "Return to either Terminal (Mac) or PowerShell.\n",
    "\n",
    "Next, type:\n",
    "\n",
    "`ls`\n",
    "\n",
    "Once you hit enter you should see a folder that you just extracted (plus the old compressed file).\n",
    "\n",
    "As reviewed in the section on navigating the file system, the `cd` command lets you move between directories on your computer. We'll use this command to enter the directory for the file system:\n",
    "\n",
    "`cd activity_2_directory_treasure_hunt`\n",
    "\n",
    "If all goes well, no text should print to the screen ('silence is golden').\n",
    "\n",
    "**If you get an error message, read it out loud and see if you can make sense of it.** The most likely reason is that the activity_2_directory_treasure_hunt folder isn't in your current working directory. This produces an error message that looks something like: `-bash: cd: activity_2_directory_treasure_hunt: No such file or directory`. You can check whether the folder is really present by typing `ls` again to see if it is there and matches spelling `exactly` with what you typed.\n",
    "\n",
    "If the file is there, but spelled differently, fix your typo and try again :)\n",
    "If the file is not there, try downloading it following the instructions up above. If it accidentally got saved in Downloads, it's ok to move it 'by hand' to your current working directory. \n",
    "\n",
    "If you type `ls` again to look around, you should now see a text file called `instructions.txt` and a folder called `start_here`.\n",
    "\n",
    "\n",
    "On Mac you can open the text file by typing:\n",
    "\n",
    "`vim instructions.txt`\n",
    "\n",
    "This will open the file instructions.txt in the `vim` text editor. You can't use the mouse inside vim, but you can move up and down with the arrow keys. When you're done, you can type `:q` and hit enter to quit.\n",
    "\n",
    "On Windows, you can open the instructions file by typing\n",
    "\n",
    "`notepad.exe instructions.txt`\n",
    "\n"
   ]
  },
  {
   "cell_type": "markdown",
   "metadata": {},
   "source": [
    "# YOU’RE READY TO GO! EXPLORE THE MANSION AND TRY TO FIND YOUR MISSING BROTHER.\n",
    "\n",
    "Practice exploring the filesystem. You will need to use the commands discussed in the previous section and the instructions.txt file:\n",
    "\n",
    "`ls` -- **l**i**s**t what's in the current working directory\n",
    "\n",
    "`pwd` -- **p**rint the absolute path to the current **w**orking **d**irectory\n",
    "\n",
    "`cd [path_to_folder]` -- **c**hange **d**irectory to another folder. \n",
    "\n",
    "`vim [path_to_text_file]` (Mac) or `notepad.exe [path_to_text_file]` (Powershell)\n",
    "\n",
    "Note that text in brackets isn't typed but is replaced by the relevant path (e.g. where you want to go for `cd`)\n",
    "\n",
    "When you find your little brother (represented by 'little_brother.txt') you can move it back to your starting location using `mv` commands. For example, `mv little_brother.txt ..` moves his text file into the enclosing directory (so down one level in the map below).\n",
    "\n",
    "As you go, you can print out and fill in the map down below to help you navigate.\n",
    "\n",
    "\n",
    "<img src=\"./resources/images/village_map.jpg\" width=\"600\" align=\"Center\"  description=\"An image of a village map that shows the arrangement of directories. At the bottom is start_here, which connects to the_village. From the village, paths lead to home_sweet_home, the_path_to_the_mansion and the_zoo. Additional lines leading from the_path_to_the_mansion_are left blank\">\n",
    "\n",
    "\n",
    "\n",
    "\n",
    "# Hints and Reminders\n",
    "\n",
    "**The first word is the command, the next word(s) are arguments**. When we are using BASH commands like `cd` `ls` etc, the first word you type must be the name of a command (not e.g. a file or directory. Subsequent words say what to run the command on or modify what it does. Many commands like `cd` don't work without arguments (i.e. arguments are required). If you just type `cd`, it's a little like shouting 'CHANGE DIRECTORY!'. Your poor command line interface has no idea which directory to change to! On the other hand `cd start_here` tells it to change to the start_here directory in the current working directory. If there are multiple arguments required by a command they must be separated by spaces.\n",
    "\n",
    "**Getting old commands back**. You can use the up and down arrows to get old commands back. Just hit the up arrow and your last command will appear. If you hit enter it will run again.\n",
    "\n",
    "**Getting 'up' one directory**. To head to the directory that encloses your current directory (so 'down' on the map), you can use `cd ..`. This works because `..` is always a shortcut for whatever directory encloses the current working directory. \n",
    "\n",
    "**tab-completion**. Some names of folders and files are *very* hard to type. You can shortcut this using tab completion. This is normally enabled by default but in some cases might not be available. Basically, if you type enough of a file or folder name that the computer can tell you mean that one and no others, you can hit tab and have it fill the rest in for you. This is very useful in `the_mire_of_filename_madness`. So for example, if you were in `the_village` and wanted to head to `home_sweet_home`, you could type:\n",
    "`cd ho`\n",
    "Instead of hitting enter, you could then hit tab. BASH would autocomplete what you typed to read:\n",
    "`cd home_sweet_home`.\n",
    "This is awesome because it *both* speeds up your typing *and* helps avoid unnecessary spelling errors. If you have computer-savvy friends who look like they are typing at million miles an hour when working in BASH, it is likely that they are using tab-completion a lot. \n",
    "\n",
    "**most programs need relative or absolute paths to find files and folders**. Look at the map up above. If you are in the `start_here` folder and type `cd the_zoo`, you will get an error message. This is because, even though you have a folder called `the_zoo` on your computer, it is not in your current working directory. In other words, `cd` can't search your whole computer for this folder - you have to tell it *exactly* how to get there from where you are now (a relative path) or from the root of the file system (an absolute path). This may seem cumbersome, but it gets easier over time, and helps prevent accidentally running your code on the wrong file later on. \n"
   ]
  }
 ],
 "metadata": {
  "kernelspec": {
   "display_name": "Python 3",
   "language": "python",
   "name": "python3"
  },
  "language_info": {
   "codemirror_mode": {
    "name": "ipython",
    "version": 3
   },
   "file_extension": ".py",
   "mimetype": "text/x-python",
   "name": "python",
   "nbconvert_exporter": "python",
   "pygments_lexer": "ipython3",
   "version": "3.7.2"
  }
 },
 "nbformat": 4,
 "nbformat_minor": 2
}
