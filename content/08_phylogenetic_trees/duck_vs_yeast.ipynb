{
 "cells": [
  {
   "cell_type": "markdown",
   "metadata": {},
   "source": [
    "\n",
    "<img src=\"./resources/duck_vs_yeast_banner.png\" width=\"800\" style=\"margin:0px 25px\"  description=\"An digital painting of a duck giving side-eye to a dividing yeast cell, with the word 'Vs' between them. (Overpaint of Dalle-2 image)\"> \n",
    "\n",
    "# Exercise: Duck vs. Yeast"
   ]
  },
  {
   "cell_type": "markdown",
   "metadata": {},
   "source": [
    "## In this section\n",
    "\n",
    "- Use the command line BLAST+ software to search for homologs of a query sequence in a genomic FASTA file \n",
    "- Interpret BLAST+ tabular output"
   ]
  },
  {
   "cell_type": "markdown",
   "metadata": {},
   "source": [
    "## Prerequisites\n",
    "To complete the exercise, you will need to be familiar with:\n",
    "\n",
    "- Basics of using a command line interface (cd, ls, pwd or equivalents)\n",
    "- Familiarity with absolute (`/Users/zaneveje`) and relative (`../`) paths\n",
    "- Basic familiarity with DNA, RNA, Protein, and the Central Dogma of molecular biology\n"
   ]
  },
  {
   "cell_type": "markdown",
   "metadata": {},
   "source": [
    "## Table of Content\n",
    "\n",
    "[Do Duck Lens Crystallins exist in Yeast?](#Do-Duck-lens-crystallins-exist-in-Yeast?)\n",
    "\n",
    "[Background on BLAST and similarity searching](#Background-on-BLAST-and-similarity-searching)\n",
    "\n",
    "[Setting up BLAST](#Setting-up-BLAST)\n",
    "\n",
    "[Format the BLAST database](#Step-2.-Format-the-BLAST-database)\n",
    "\n",
    "[Further Reading](#Further-Reading)\n",
    "\n",
    "[References](#References)\n",
    "\n",
    "[Exercises](#Exercises)\n",
    "\n",
    "[Reading Responses & Feedback](#Reading-Responses-&-Feedback)"
   ]
  },
  {
   "cell_type": "markdown",
   "metadata": {},
   "source": [
    "## Do Duck lens crystallins exist in Yeast?\n",
    "\n",
    "Ducks, famously, have eyes, whereas Brewer's Yeast (*Saccharomyces cerevisiae*) does not. Light entering the eye of a duck is focused by the lens, which is itself composed of lens crystallins. These lens crystallins are proteins that the duck secretes into its eye to form the lens. Those proteins are in turn encoded in genes in the duck genome. Different birds have quite variable lens crystallins, that are produced by other genes. This raises the question of where these lens crystallin proteins came from. Did each evolve for the first time in a separate bird, for example? If the early ancestors of animals were eyeless, then what provided the source material for the gene encoding the first lens crystallin?\n",
    "\n",
    "In this exercise, we will use the sequence for a duck delta crystallin gene (one of the duck's lens crystallin protein), and use NCBI Blast+ to test whether this lens crystallin is conserved (shared due to being present in a common ancestor) between these two very different eukaryotes. This will both let us practice using a useful command line tool, and hopefully also showcase a feature of how evolution works."
   ]
  },
  {
   "cell_type": "markdown",
   "metadata": {},
   "source": [
    "## Background on BLAST and similarity searching\n",
    "\n",
    "BLAST+ is an iconic bioinformatics program, so commonly used that it has become a verb (as in, 'you should BLAST that sequence to figure out what it is'). The name **BLAST** stands for **B**asic **L**ocal **A**lignment **S**earch **T**ool. We will discuss the idea of sequence alignment, and distinctions between local and global alignment algorithms in much greater depth later. For now, it is enough to know that BLAST will take an input **query** sequence and search it against a **subject** database. The result will be a report of which sequences in the subject database show sequence similarity (i.e. many matching letters) with your query sequence.\n",
    "\n",
    "Folks use BLAST searches against NCBI's large non-redundant (`nr`) database, which contains representative sequences for a huge diversity of genes and genomes, to try to figure out protein's general function in much the same way you might use a Google search. However, it is also possible to customize BLAST to compare FASTA files containing any DNA, RNA, or Protein sequences you would like.\n",
    "\n",
    "In our case, we will be using a FASTA file with the Duck Delta Crystallin protein sequence as our **query** and all the predicted protein sequences from the Brewer's Yeast genome as our **subject**. Therefore the result will tell us whether there are any sequences similar to our Duck Delta Crystallin in the Brewer's Yeast genome."
   ]
  },
  {
   "cell_type": "markdown",
   "metadata": {},
   "source": [
    "# Setting up BLAST\n",
    "\n",
    "\n",
    "## Step 1. Install the NCBI BLAST+ command line application\n",
    "\n",
    "Briefly, we want to install the NCBI BLAST+ command line application so we can use it to compare our duck delta crystallin sequence to proteins in the yeast genome. (If you already happen to have NCBI BLAST+ installed, you can skip to [Step 2](#Step-2.-Get-the-input-data)). \n",
    "\n",
    "The exact link to the most recent BLAST+ executable for your system can change over time. So I'll describe how to get to the latest version, even if that happens.\n",
    "\n",
    "Here's a quick overview, which will be walked-through in detail below: The NCBI BLAST+ software can be found by Googling \"NCBI BLAST\", clicking the top link, which should be to , then on the home page,clicking on the link for 'Standalone and API BLAST', then the link for the latest executables, and finally the right file for your system. Let's walk through these steps one by one.\n",
    "\n",
    "### Head to the NCBI BLAST home page\n",
    "\n",
    "First, either google \"NCBI BLAST\" or go to [https://blast.ncbi.nlm.nih.gov/Blast.cgi](https://blast.ncbi.nlm.nih.gov/Blast.cgi). You should be greated by a page that looks like this:\n",
    "\n",
    "<img src=\"./resources/blast_home_page.png\" width=\"500\" style=\"margin:0px 25px\"  description=\"An image of the BLAST home page. The link for 'API and Standalone BLAST' is highlighted in pink (If you are using a screen reader, the download link is the 22nd focus item by tab when I checked). The image shows BLASTn for nucleotide vs. nucleotide searches, BLASTp for protein vs. protein searches, BLASTx for nucleotide searches against protein, and tBLASTx for searches of protein against nucleotide databases. \"> \n",
    "\n",
    "You can use this page to do online BLAST+ searches against NCBI's prebuilt databases. For our exercise, though, we want to actually download the BLAST+ software so we can customize our search."
   ]
  },
  {
   "cell_type": "markdown",
   "metadata": {},
   "source": [
    "### Go to the API and Standalone BLAST page\n",
    "\n",
    "To do so, click the 'API and Standalone BLAST' link. That link is down at the bottom of the page (boxed in in pink in the image above). This will take you to a page that looks like a wall of text, as shown below:\n",
    "\n",
    "<img src=\"./resources/blast_executables_page.png\" width=\"500\" style=\"margin:0px 25px\"  description=\"An image of a page full of lots of text describing how to get BLAST executables and databases. The link we want is highlighted in pink and indicated with an arrow, and leads to https://ftp.ncbi.nlm.nih.gov/blast/executables/blast+/LATEST/\"> "
   ]
  },
  {
   "cell_type": "markdown",
   "metadata": {},
   "source": [
    "### Click the link to the BLAST+ executables `ftp` site\n",
    "\n",
    "We want to click the link to [https://ftp.ncbi.nlm.nih.gov/blast/executables/blast+/LATEST/]( https://ftp.ncbi.nlm.nih.gov/blast/executables/blast+/LATEST/) indicated in pink above."
   ]
  },
  {
   "cell_type": "markdown",
   "metadata": {},
   "source": [
    "### Pick the right executable for your system\n",
    "\n",
    "The `ftp` page we've reached lists many different versions of the BLAST+ software. (All the `.md5` files are not actually executables, but rather files that let you double check that your download worked by saying what the download should look like).\n",
    "\n",
    "The version numbers you see may be slightly higher than those in the image and that is OK.\n",
    "\n",
    "For Windows, usually you want to pick the `ncbi-blast-2.13.0+-win64.exe` link (again remembering to not accidentally grab the similar link with the '.md5' extension!). It's the upper link, highlighted in pink in the picture down below.\n",
    "\n",
    "For MacOSX, the `ncbi-blast-2.13.0+.dmg` will get you an installer that you can double-click to set up blast. It is the lower link highlighted in orange.\n",
    "\n",
    "<img src=\"./resources/blast_ftp_page.png\" width=\"500\" style=\"margin:0px 25px\"  description=\"An image of an ftp page listing BLAST executables. 'ncbi-blast-2.13.0+-win64.exe' is highlighted in pink. 'ncbi-blast-2.13.0+.dmg' is highlighted in orange.\">\n",
    "\n",
    "Once you have installed BLAST+, you should be able to type `makeblastdb -help` into a command line interface, and get help information printed to the screen. Don't worry that there are a ton of option - for many basic analyses we only need a couple that are described below.\n"
   ]
  },
  {
   "cell_type": "markdown",
   "metadata": {},
   "source": [
    "# Step 2. Get the input data\n",
    "\n",
    "\n",
    "Briefly, we want to download the yeast genome and the duck delta crystallin FASTA files, and put them in a new folder for our analysis. We then want to open a command line interface and head to that folder. \n",
    "\n",
    "Here's a little more detail. In order to search the yeast genome for duck delta crystallin proteins, we'll need the set of predicted proteins encoded in the yeast genome as a FASTA file, as well as the duck delta crystallin protein sequence, also as a FASTA file. Conducting the search using protein FASTA files will be a little faster than using the original nucleotide sequence of the genes themselves, though that would also be possible. These FASTA files are just structured text files - you can open them up with `notepad.exe` (Windows) or `vim `(MacOSX Terminal) and take a look.\n",
    "<hr>\n",
    "Side note: if you want to see where the data came from, you can find the yeast genome yourself here. Look for the file labelled `orf_trans.fasta` (ORF = open reading frame, roughly a gene; trans = translated into a protein sequence; .fasta = FASTA file format): http://downloads.yeastgenome.org/sequence/S288C_reference/orf_protein/). You can either rename it after you download it, or just modify the commands to use the new name.\n",
    "<hr>\n",
    "\n",
    "In order to do any analysis, we want to get all our data together in an organized way, usually in a clearly labelled folder for that analysis. First, we'll want to `cd` to a place to store our analysis (e.g. `Desktop`,`Documents`, etc). Once there, the `mkdir` command lets you make a new directory directly from the command line. It's first argument is the name of the directory you want to create, like this: `mkdir duck_vs_yeast`. Remember that it's best to avoid spaces in folder names for bioinformatics work (some scientific software packages unfortunately don't handle them correctly).\n",
    "\n",
    "Next we'll want to move our data files into the analysis folder. You can do this either by downloading them directly into that folder from your browser, or by first downloading them into `Downloads` (the typical default location) and moving them from there into your folder (either using `mv` commands on the command line, or using your systems graphical user interface).\n",
    "\n",
    "Once you have both `yeast_proteins.fasta` and `duck_delta_crystallin.fasta` in your analysis folder, and you have moved your command line interface to that folder, type `ls` to list what's there and double check that both files are present in the folder. Usually this is actually the hard part! Once you've got you're data together and the software installed we're ready to BLAST. "
   ]
  },
  {
   "cell_type": "markdown",
   "metadata": {},
   "source": [
    "# Step 3. Format the BLAST database\n",
    "\n",
    "The first step in a custom BLAST analysis is to format the *subject* database — the one you're searching against — as a BLAST database. This preformatting step calculates the frequency of many short 'words' in the genome, and lets BLAST quickly search for our sequence of interest by ignoring any sequences that don't share 'words' with our search sequence. We can format our BLAST database using the `makeblastdb` command. We will need to set an input file in the `-in` value parameter, an input file type in the `-input_type` parameter, and a database type (`nucl`eotide or `prot`ein) in the `-dbtype` parameter. If you didn't have an example to work from you could check these by running `makeblastdb -help` and looking for the required options.\n",
    "\n",
    "Assuming all our data files are in our current working directory (see above), the command will look like this:\n",
    "\n",
    "`makeblastdb –in yeast_proteins.fasta -input_type fasta -dbtype prot`\n",
    "\n",
    "(If your protein fasta for the yeast is called something else, just replace `yeast_proteins.fasta` with whatever the file you want to search against is called)."
   ]
  },
  {
   "cell_type": "markdown",
   "metadata": {},
   "source": [
    "# Step 4.  Run the protein BLAST search\n",
    "\n",
    "A protein FASTA file can be searched against a protein BLAST database using the `blastp` command. There are other versions for search different combinations of data. For example, `blastn` searches nucleotide sequences against one another.\n",
    "\n",
    "For this search we need to set 5 valued parameters. Each value has to be next to its parameter name (i.e. `-query` has to be right before `duck_delta_crystallin.fasta`, but otherwise the order doesn't matter. \n",
    "\n",
    "**Let's run the command!**\n",
    "\n",
    "`blastp -query duck_delta_crystallin.fasta -subject yeast_proteins.fasta -evalue 1e-4 -out duck_vs_yeast.txt -outfmt 6`\n",
    "\n",
    "Here's what each parameter setting does:\n",
    "\n",
    "`-query duck_delta_crystallin.fasta`: set the query file to `duck_delta_crystallin.fasta` (in the current directory)\n",
    "`-subject yeast_proteins.fasta`: set the subject database to `yeast_proteins.fasta` \n",
    "`-evalue 1e-4`: set the *expectation value threshold* to 0.0001. This tells blast to only keep matches if they are so strong that you would only expect 0.0001 of them to occur at random per search in a database of this size. 1e-4 is generally considered a somewhat loose threshold (whereas 1e-20 would be super strict).\n",
    "`-out duck_vs_yeast.tsv`: save an output file called `duck_vs_yeast.txt` and save the output there.\n",
    "`-outfmt 6`: set the output format to \"format 6\". This is defined in the BLAST documentation, but basically its a pure-text tabular output (i.e. a `.tsv` file)."
   ]
  },
  {
   "attachments": {},
   "cell_type": "markdown",
   "metadata": {},
   "source": [
    "# Step 6. Interpret the BLAST results \n",
    "\n",
    "The output `duck_vs_yeast.tsv` file can be opened in Excel or uploaded to Google sheets. Since in this case the file is very small, you can even just open it in a text editor, although the formatting won't be as clear.\n",
    "\n",
    "Each line in the file represents one *hit* or match between a sequence in the query file and a sequence in the subject database. Each column tells us something about that match. (You shouldn't get an empty file in this case, but if you do, it just means that the search worked but htere were no matches). \n",
    "\n",
    "Try opening up your results. Annoyingly, the columns do not have headers added to them automatically, but I'll list them below. You can add them manually in Excel. (Later, when we use the `read_csv` function in the `pandas` python package to open `.tsv` files in python, you can also automatically add columns using the columns parameter.)\n",
    "\n",
    "The columns of the BLAST tabular output are as follows (from [metagenomics.wiki](https://www.metagenomics.wiki/tools/blast/blastn-output-format-6![image.png](attachment:image.png))):\n",
    "\n",
    "`qseqid sseqid pident length mismatch gapopen qstart qend sstart send evalue bitscore`\n",
    "\n",
    "\n",
    "The meanings of the columns is as follows:\n",
    "\n",
    "`qseqid` - the id of the query sequence. This is important if you have lots of different genes in the query FASTA, rather than just one like in our example.\n",
    "\n",
    "`sseqid` - the id of the subject sequence. This is which sequence the query sequence matched. \n",
    "\n",
    "`pident` - the percent identity of the aligned query and subject sequences. 100% percent identity indicates a perfect match. \n",
    "\n",
    "`length` - the length of the matching section between the query and subject sequences\n",
    "\n",
    "`mismatch` - the number of mismatching letters between the query and subject sequences.\n",
    "\n",
    "`gapopen` - the number of 'gaps' (representing insertions in one sequence or deletions in the other) that were required to align the two sequences. \n",
    "\n",
    "`qstart` - the start of the match in the query sequence\n",
    "\n",
    "`qend` - the end of the match in the query sequence\n",
    "\n",
    "`sstart` - the start of the match in the subject sequence\n",
    "\n",
    "`send` - the end of the match in the subject sequence\n",
    "\n",
    "`evalue` - the expectation value of the match, meaning the expected number of such matches in a subject database of that size that you would expect just by chance\n",
    "\n",
    "`bitscore` - a measure of the strength of the match\n",
    "\n",
    "\n",
    "# Step 7. Research the yeast protein(s) that match Duck delta crystallin\n",
    "\n",
    "Pay special attention to the sseqid (subject sequence id column). This gives the identifier for the yeast protein that your duck delta crystallin match. If you open the `yeast_proteins.fasta` file, you can use a find in your text editor to find the FASTA entry for your matching protein.\n",
    "\n",
    "In that entry, you should see that the protein is labelled as an [arginosuccinate lyase](https://en.wikipedia.org/wiki/Argininosuccinate_lyase). Do a quick google search to get an idea of what an arginosuccinate lyase does. While there are many interesting details about this enzyme, the main point for our purposes is that it is a metabolic protein. As such, it appears that in ducks, the delta-crystallin was derived from a previously existing metabolic protein that already existed in the common ancestor of ducks and yeast. Rather than one protein having one and only one function it appears that this protein was reused in ducks for a totally different purpose than its original one!\n",
    "\n",
    "It turns out that several birds have coopted existing proteins as lens crystals by, effectively, squirting so many of them into their eyes that they form crystals. Regardless of its original function, if a protein happens to form crystals with nice optical properties, it can be coopted for the new purpose of being a lens crystallin.\n",
    "\n"
   ]
  },
  {
   "cell_type": "markdown",
   "metadata": {},
   "source": [
    "## Exercise questions\n",
    "\n",
    "1. How many matches did you see between the duck delta crystallin and the yeast genome?\n",
    "\n",
    "2. If so, what is the highest sequence similarity between a yeast protein and the duck delta crystallin that you found?\n",
    "\n",
    "3. Find one example of how BLAST searches were used in the literature using Google Scholar searches. What type of BLAST did they use? What evalue threshold? How were the results interpreted?\n",
    "\n",
    "4. Duck's use of a previously evolved metabolic enzyme to form a lens crystal shows the fluid and flexible nature of 'function' in evolution. Another more morphological example of structures taking on different functions over evolution is the panda's 'thumb', which isn't really a thumb at all, but rather a modified sigmoid wrist bone. For this reason pandas appear to have 5 fingers *and* a thumb. Research the term ['exaptation'](https://en.wikipedia.org/wiki/Exaptation), then relate what you learned about duck delta crystallin evolution in this exercise to evolution of the panda's thumb."
   ]
  },
  {
   "cell_type": "markdown",
   "metadata": {},
   "source": [
    "## [Reading Responses & Feedback ](https://docs.google.com/forms/d/e/1FAIpQLSeUQPI_JbyKcX1juAFLt5z1CLzC2vTqaCYySUAYCNElNwZqqQ/viewform?usp=pp_url&entry.2118603224=Using+the+Command+Line+-+Excercise:+Duck+vs.+Yeast)\n",
    "\n"
   ]
  },
  {
   "cell_type": "markdown",
   "metadata": {},
   "source": [
    "## Further Reading\n",
    "\n",
    "\n",
    "- **Liu, H. and Jeffery, C.J. (2020) Moonlighting Proteins in the Fuzzy Logic of Cellular Metabolism**. Molecules 2020, 25: 3440. https://doi.org/10.3390/molecules25153440. This review discusses how changes in shape, oligomerization (how many copies of the protein stick together to do a function), cellular location, or interactions can cause the same protein to have multiple, sometimes very different functions in a cell.\n",
    "\n",
    "\n",
    "- **Jeffery, C.J. (2020), Enzymes, pseudoenzymes, and moonlighting proteins: diversity of function in protein superfamilies**. FEBS J, 287: 4141-4149. https://doi.org/10.1111/febs.15446. Delta crystallins are not alone among protein families. Instead, it is common for some members of gene families to be repurposed for new functions, or to come to serve two or more functions of evolution ('moonlighting'). In some cases, this involves loss of old functions, without necessarily undergoing large changes in sequence (e.g. 'pseduoenzymes'). This review gives several other examples of proteins that 'moonlight' in other jobs, and 'pseudoenzymes' that have lost an ancestral function despite being similar in sequence to proteins that have it.\n",
    "\n",
    "\n",
    "- [**MoonProt**](http://www.moonlightingproteins.org/proteins/). The MoonProt database contains a curated list of confirmed moonlighting proteins, as well as a description of two functions for each protein."
   ]
  },
  {
   "cell_type": "markdown",
   "metadata": {},
   "source": [
    "## Project idea: moonlighting proteins\n",
    "\n",
    "**What properties cause or allow proteins to moonlight?** Read the above reviews. Based on your reading, are there specific predictions you would make about the sequences of moonlighting proteins? For example, would you expect that proteins with multiple functional domains to more commonly become moonlighting proteins? (Domains are specific sections of proteins that do things, like DNA-binding domains that help proteins stick to DNA in specific spots, Leucine Rich Repeat domains that sense microbes etc etc). Would you expect particular patterns of natural selection? For a large set of moonlighting proteins, you could collect the closest non-moonlighting relative, and compare the properties of the moonlighting proteins vs. their relatives. Or you could compare the moonlighting proteins in the human genome (where the most is known) to all other known human proteins. Some properties you might compare include: number of domains (domains can be annotated using the PFAM database and the tool HMMR) or the mode and strength of natural selection (which can be assessed, at least in a crude way from sequence using dN / dS ratios). Be sure you have a clear hypothesis and prediction before you spend much time working out the technical details of how to run the tests.\n",
    "\n",
    "\n",
    "\n",
    "## Bonus: Using NCBI BLAST+ custom searches in your Bioinformatics research\n",
    "\n",
    "Although this example is very specific, by creatively choosing your query and subject databases, you can test a lot of different hypotheses using BLAST. As one example, in my first Bioinformatics class, I wrote a small `for` loop in python to run NCBI BLAST+ to compare a few bacterial genomes against one another. The output told me roughly what percentage of genes were shared between each pair of genomes. Later this expanded into a full thesis project, where I separately analyzed the percentage of genes shared between many different bacteria that live in the human gut, and tested if they shared more genes than you would expect given their overall level of evolutionary relatedness. It turned out that there were a couple surprises, including opposite patterns in close vs distantly related microbes in the gut, and a huge role for gene transfer in adaptation to the gut. Below is one image from the paper. It's not pretty (I made it in Excel before I had even learned to make graphs in python!), but does give an example of one way these techniques can be applied:\n",
    "\n",
    "\n",
    "<img src=\"https://oup.silverchair-cdn.com/oup/backfile/Content_public/Journal/nar/38/12/10.1093_nar_gkq066/1/m_gkq066f5.jpeg?Expires=1683686444&Signature=V6YU-dCkNCiGTDKEc-Yx6xwBRn~GY9TeXxtdwUlWwHEiKBUIoUmZB9ovRYb54DJhcVDDT-p~VyWQBUmaDeAuUbBBV0B0DhY2DIs~mgoPVrT2EmaFnIhgPNVzgq3xrW1opA851id~FvshhccZBwGRcgAZCxlaib77oy7JPVp3yQ8lD1QsSGyO~OnNa4knGxqZuto-GbKrwkP1s2NutO8mnAWd9FUnluOZGed5at8mv3GcP8Qa~Zn4EuzyofkxnEYy1A12tW4M122WZQrpcRGh-ZIPKzkduxyAdZO0eFjx~sOXejVypgvKgviUNpFFx5JqO6SsjR~HNo6tVYHZi1B5-g__&Key-Pair-Id=APKAIE5G5CRDK6RD3PGA\" width=\"800\" style=\"margin:50px 50px\"  description=\"An image from Zaneveld et al., 2010 (see below for citation). There are two panels, labelled a and b. One is a scatterplot and the other a barchart. Panel a on the left shows a blue and red data series with many points. The x-axis is evolutionary distance, and the y-axis is percentage of genes shared. The blue series, representing 'main' bacterial genomes, descends exponentially with evolutionary distance, whereas the red series, representing plasmids, descends more slowly. Panel b on the right also has evolutionary distance as the x-axis, and percent genes shared on the y-axis . Three colors of bars (white, grey and black) represent specialist, cosmopolitan, or gut-specialist bacteria. The black bars — representing non-gut organisms — are higher than grey or white at low evolutionary divergence, while at middle amounts of divergence the white bars — gut specialists — are higher, indicating that gut specialists share more genes than non-gut microbes.\"> \n",
    "\n",
    "**Figure 5 from Zaneveld *et al*. (2010)**.  Gene conservation in plasmids borne by gut-adapted bacteria. ( **a** ) Gene conservation in bacterial chromosomes (red squares) or plasmids (blue squares). Plasmids show both lower average gene conservation than bacterial chromosomes, and, as would be expected given frequent conjugative exchange, a weaker relationship between evolutionary distance and gene conservation ( r2 = 0.60 genomes; r2 = 0.06 plasmids). ( **b** ) Plasmids borne by specialist (white bars) or cosmopolitan (gray bars) bacteria tend to have higher gene conservation at evolutionary distances between 0.09 and 0.21 16 S rRNA substitutions per site than those borne by non-gut bacteria (black bars). These plasmids also exhibit markedly reduced gene conservation at distances under 0.03 substitutions per site. (Reproduced under Creative Commons Noncommercial liscense, citation below.)\n",
    "\n",
    "You can read about it here:\n",
    "\n",
    "Zaneveld *et al.* (2010), Ribosomal RNA diversity predicts genome diversity in gut bacteria and their relatives, Nucleic Acids Research, 38(12):3869–3879, https://doi.org/10.1093/nar/gkq066\n",
    "\n"
   ]
  },
  {
   "cell_type": "markdown",
   "metadata": {},
   "source": [
    "## References\n",
    "\n",
    "Zaneveld *et al.* (2010), Ribosomal RNA diversity predicts genome diversity in gut bacteria and their relatives, Nucleic Acids Research, 38(12):3869–3879, https://doi.org/10.1093/nar/gkq066\n"
   ]
  },
  {
   "cell_type": "code",
   "execution_count": null,
   "metadata": {},
   "outputs": [],
   "source": []
  }
 ],
 "metadata": {
  "kernelspec": {
   "display_name": "Python 3",
   "language": "python",
   "name": "python3"
  },
  "language_info": {
   "codemirror_mode": {
    "name": "ipython",
    "version": 3
   },
   "file_extension": ".py",
   "mimetype": "text/x-python",
   "name": "python",
   "nbconvert_exporter": "python",
   "pygments_lexer": "ipython3",
   "version": "3.8.8"
  }
 },
 "nbformat": 4,
 "nbformat_minor": 2
}
