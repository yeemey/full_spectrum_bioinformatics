{
 "cells": [
  {
   "cell_type": "markdown",
   "metadata": {},
   "source": [
    "# Capstone: Analyzing dinucleotide usage in the Human Genome\n",
    "\n",
    "We know that the human genome is made up of DNA that is in turn organized into chromosomes. We have seen that the 4 nucleotides present in DNA can be represented by the letters A, T, C and G, and that we can calculate the proportions of these letters in genomes. \n",
    "\n",
    "But what about larger patterns? For example, if a genome is 20% A, 20% T, 30% G and 30 % C, should we expect that the number of cases in which an A is followed by a T is proportional to the frequency of these letters in the genome?\n",
    "\n",
    "If so, we could use some basic knowledge of how to combine independent probabilities by multiplication to predict how often we would get certain 2 letter combinations like \"AT\" or \"CG\". Such two letter combinations are known as **dinucleotides** (di = two).\n",
    "\n",
    "In this section we will develop code for calculating the frequency of a particular dinucleotide, test it on some example sequences to make sure it works, and then hook that code up to the FASTA file parser we previously developed in order to run it over an entire genome."
   ]
  },
  {
   "cell_type": "markdown",
   "metadata": {},
   "source": [
    "#### Goal: Calculate 'CG' dinucleotide frequency in many genomes\n",
    "\n",
    "1. Calculate dinucleotide frequency in a DNA sequence\n",
    "    - a. Define a test example\n",
    "    - b. Determined the right answer on that test example by hand\n",
    "    - c. Write code to get that correct answer given a sequence\n",
    "    - d. Test is with multiple examples where we know the right answer\n",
    "2. Download a genome in FASTA format   \n",
    "3. Parse a FASTA file for a genome\n",
    "4. Loop over all the sequences in that FASTA file\n",
    "5. Calculate a dinucleotide frequency\n",
    "6. Repeat **steps 1-4** for each genome that we want to analyze."
   ]
  },
  {
   "cell_type": "code",
   "execution_count": null,
   "metadata": {},
   "outputs": [],
   "source": []
  },
  {
   "cell_type": "code",
   "execution_count": 10,
   "metadata": {},
   "outputs": [],
   "source": [
    "test_sequence = \"GCTACGTACG\""
   ]
  },
  {
   "cell_type": "markdown",
   "metadata": {},
   "source": [
    "There are at least two ways to calculate dinucleotide frequency: \n",
    "\n",
    "**overlapping dinucleotides** count a dinucleotide starting at each index except the last one. So for example, the above sequence \"GCTACGTACG\" would form overlapping dinucleotides \"GC\",\"CT\",\"TA\",\"AC\", etc.\n",
    "\n",
    "**non-overlapping dinucleotides** count the first dinucleotide, then count the next as starting where the previous one ended. In the sequence \"GCTACGTACG\", this would result in non-overlapping dinucleotides \"GC\",\"TA\",\"CG\",\"TA\",\"CG\". Notably, the number of non-overlapping dinucleotides depends on whether the length of the sequence is odd or even. If it's odd (e.g. \"GCA\"), the last letter (e.g. \"A\") is ignored, resulting in 2 fewer dinucleotides than the total length of the sequence (there's only one non-overlapping dinucleotide — \"GC\" —  in the 3 letter sequence \"GCA\")\n",
    "\n",
    "**3-1 dinucleotides** 3-1 dinucleotides pertain to *protein coding sequences*. Recall that protein coding sequences are arranged into 3 letter codons, each of which codes for an amino acid (or e.g. a stop codon indicating the end of the amino acid chain). 3-1 dinucleotides include the last position of one codon and the first position of the next. Why these two positions specifically? Not all codon positions have equal influence on the final amino acid. For many — but not all—  amino acids the 3rd codon position doesn't matter at all. For instance, in the \"standard\" translation table, TCA, TCT,TCC and TCG all encode Serine. On average, the second codon position has the strongest influence on which amino acid is selected — TCA is Serine but TGG is Tryptophan for instance — the 3rd codon position has the least average influence, and the 1st codon position is intermediate. Therefore, 3-1 dinucleotides reflect dinucleotides that minimally influence of the encoded amino acid. That is useful if you want to study e.g. mutational processes rather than natural selection acting on the protein encoded by the amino acid. If the example sequence up above can be assumed to be 'in frame' with the first letter being the first position of the first codon, then it would include 3-1 dinucleotides: \"TA\" (the dinucleotide joining the codon \"GCT\" to \"ACG\")"
   ]
  },
  {
   "cell_type": "code",
   "execution_count": 11,
   "metadata": {},
   "outputs": [
    {
     "name": "stdout",
     "output_type": "stream",
     "text": [
      "0.2222222222222222\n"
     ]
    }
   ],
   "source": [
    "expected_cgs = 2\n",
    "expected_dinucs_total = 9\n",
    "expected_cg_freq = expected_cgs/expected_dinucs_total\n",
    "print(expected_cg_freq)"
   ]
  },
  {
   "cell_type": "markdown",
   "metadata": {},
   "source": [
    "Based on this preliminary work, we can define our own function to calculate CG content:"
   ]
  },
  {
   "cell_type": "code",
   "execution_count": 12,
   "metadata": {},
   "outputs": [],
   "source": [
    "def calculate_cg_content(sequence):\n",
    "    \"\"\"Return the CG content of a sequence as a float\n",
    "    sequence -- a string representing a DNA sequence\n",
    "    \"\"\"\n",
    "    #Make sure sequence is uppercase\n",
    "    sequence = sequence.upper()\n",
    "    cg_dinucs = sequence.count(\"CG\")\n",
    "    total_dinucs = len(sequence) \n",
    "    cg_freq = cg_dinucs/total_dinucs \n",
    "    return cg_freq"
   ]
  },
  {
   "cell_type": "code",
   "execution_count": 13,
   "metadata": {},
   "outputs": [
    {
     "name": "stdout",
     "output_type": "stream",
     "text": [
      "<function calculate_cg_content at 0x11119ed90>\n"
     ]
    }
   ],
   "source": [
    "print(calculate_cg_content)"
   ]
  },
  {
   "cell_type": "code",
   "execution_count": 14,
   "metadata": {},
   "outputs": [
    {
     "name": "stdout",
     "output_type": "stream",
     "text": [
      "0.2\n"
     ]
    }
   ],
   "source": [
    "observed_cg_content = calculate_cg_content(test_sequence)\n",
    "print(observed_cg_content)"
   ]
  },
  {
   "cell_type": "markdown",
   "metadata": {},
   "source": [
    "\n",
    "\n",
    "There are several catches to be aware of when calculating dinucleotide content:\n",
    "    \n",
    "- CG dinucleotide content is not the same as G+C content. For example, the sequence 'GCAGC' has 80% GC content but 0% CG dinucleotide content\n",
    "\n",
    "- The tricky part to calculating CG content is figuring out whether one wants to calculate 'overlapping' or 'non-overlapping' dinucleotide content, and based on that to determine the total dinucleotides in a sequence. In our case, let's calculate 'overlapping' dinucleotide content. This means that the sequence 'GCTA' is turned into overlapping dinucleotides ['GC','CT','TA']. If instead we were calculating 'non-overlapping' dinucleotide content, the same 'GCTA' sequence would be turned into non-overlapping nucleotides ['GC','TA']. \n",
    "\n",
    "- In the overlapping case, the total number of dinucleotides is easy to establish: it is just one less than the length of the sequence. For example, the sequence 'A' has 0 overlapping dinucleotides, 'AT' has 1, 'ATC' has 2 ('AT' and 'TC), etc. \n",
    "\n",
    "- If we're calculating non-overlapping dinucleotides, we have to pay attention to whether the sequence length is divisible by 2 or not: the sequence 'A' has 0 non-overlapping dinucleotides, 'AT' has 1, but 'ATC' still only has 1 ('AT'), 'ATCG' has 2, 'ATCGC' has 2 again, etc. This can be represented by the sequence length -1 if the sequence length is divisible by 2, or the sequence length -2 if it isn't divisible by 2."
   ]
  },
  {
   "cell_type": "markdown",
   "metadata": {},
   "source": [
    "#### Calculating Expected CG content\n",
    "\n",
    "If there was no special biology governing CG dinucleotides, how many of them should we expect in any given sequence?\n",
    "\n",
    "We can formulate this question as a hypothesis: \n",
    ">**Hypothesis:** C and G are independent. Therefore the chances of getting a G right after a C are purely based on the frequency of G\n",
    "\n",
    "From basic probability, recall that the chances of two independent random events occuring together is just the product of their individual probabilities. So we understand that if G's have a frequency of, say, 20% in the overall genome, and Cs have a frequency of 20%, then the frequency of CG dinucleotides we expect *if* our hypothesis is correct, is 0.20 x 0.20 = 0.04, or 4% of total dinucleotides.  More generally, if this hypothesis is correct, the frequency of CG dinucleotides can be written as a formula in terms of the frequency of C nucleotides and G nucleotides:\n",
    "\n",
    "$$ f(CG) = f(C) * f(G) $$\n",
    "\n",
    "Here f(something) should be read as 'the frequency of ' whatever is in parentheses. So we would read this as: the frequency of CG dinucleotides is equal to the frequency of C nucleotides times the frequency of G nucleotides. \n",
    "Let us emphasize again that this equation is *only* true *if* C and G occur independently. So this is a very simple concept, but we now have a compact way to describe it mathematically.\n",
    "\n",
    "Another way to describe this same idea is to say that — under our hypothesis — the chances of getting a G don't depend on whether you have a C beforehand. Mathematically this can be written as follows:\n",
    "\n",
    "$$ f(G|C) = f(G) $$\n",
    "\n",
    "The bar | should be read as 'given' or 'conditional on'. So the whole equation can be read as \"the frequency of getting a G given that you just had a C is the same as the overal frequency of G\". If we wanted to, we could assert the same thing for all other preceding nucleotides:\n",
    "\n",
    "$$ f(G|A) = f(G) $$\n",
    "$$ f(G|T) = f(G) $$\n",
    "$$ f(G|C) = f(G) $$\n",
    "$$ f(G|G) = f(G) $$\n",
    "\n",
    "In other words, according to our hypothesis the previous letter doesn't matter.\n",
    "\n",
    "It is critical to note that all of these summaries are just predictions, based on our hypothesis. Writing them as equations doesn't make them true. Indeed, you can write all sorts of mathematically valid equations that do not in fact describe anything at all about biology. So our next task is to test the predictions of our hypothesis using biological data. \n",
    "\n",
    "Our equations outline a simple way to do so. We already have code to calculate the actual observed frequency of CG dinucleotides in a sequence. We also have an equation saying what frequency of CG dinucleotides we should expect under our hypothesis given the frequency of the letters C and G in our sequence."
   ]
  },
  {
   "cell_type": "code",
   "execution_count": 15,
   "metadata": {},
   "outputs": [],
   "source": [
    "#### Calculating expected CG content\n",
    "\n",
    "def calculate_expected_cg_content(sequence):\n",
    "    \"\"\"Return the expected CG content of a sequence as a float\n",
    "    sequence -- a string representing a DNA sequence\n",
    "    \n",
    "    The expected CG content is calculated\n",
    "    under the assumption that C and G nucleotides \n",
    "    occur independently. If that were true,\n",
    "    then the frequency of CG dinucleotides would\n",
    "    just be the frequency of G nucleotides times\n",
    "    the frequency of C nucleotides.\n",
    "    \"\"\"\n",
    "    #Need to ensure sequence is uppercase\n",
    "    sequence = sequence.upper()\n",
    "    freq_g = sequence.count(\"G\")/len(sequence)\n",
    "    freq_c = sequence.count(\"C\")/len(sequence)\n",
    "    \n",
    "    freq_cg = freq_g * freq_c \n",
    "    return freq_cg"
   ]
  },
  {
   "cell_type": "markdown",
   "metadata": {},
   "source": [
    "## Download all (predicted) coding sequences from the Human Genome\n",
    "\n",
    "The National Center for Biotechnology Information (NCBI) website has an ftp server with\n",
    "a wide variety of genomes. The codig sequences for the human genome can be found here:\n",
    "\n",
    "https://ftp.ncbi.nih.gov/genomes/refseq/vertebrate_mammalian/Homo_sapiens/annotation_releases/109.20210226/GCF_000001405.39_GRCh38.p13/\n",
    "\n",
    "We want to pick this file:\n",
    "\n",
    "`GCF_000001405.39_GRCh38.p13_cds_from_genomic.fna.gz`\n",
    "\n",
    "The key points to recognize are the `cds` stands for coding sequences — the parts of the genome that code for proteins, `fna` indicates nucleotide data in FASTA format, and `.gz` indicates that the results will be compressed with `gzip`, so you have to expand them before working with them in python (depending on your system this might require installing software for decompressing gzip files)\n",
    "\n",
    "Once we've extracted the file, we should ensure we have a file with the name './GCF_000001405.39_GRCh38.p13_cds_from_genomic.fna' in our current working directory.\n",
    "\n",
    "We can test this by trying to open it in python:"
   ]
  },
  {
   "cell_type": "code",
   "execution_count": 16,
   "metadata": {},
   "outputs": [],
   "source": [
    "human_genome_filepath = './GCF_000001405.39_GRCh38.p13_cds_from_genomic.fna'\n",
    "human_genome_file = open(human_genome_filepath)\n",
    "human_genome_file.close()"
   ]
  },
  {
   "cell_type": "markdown",
   "metadata": {},
   "source": [
    ">STOP HERE and download the human genome from the link above ... later steps won't work unless you have it present in the same directory as you are running your code from. "
   ]
  },
  {
   "cell_type": "markdown",
   "metadata": {},
   "source": [
    "#### Incorporating our FASTA parser\n",
    "\n",
    "In a previous section, we developed a simple FASTA file parser that returned a dictionary linking each sequence id in a FASTA file to it's sequence.\n",
    "\n",
    "We can now use this in combination with our code for counting the observed and actual frequency of \"CG\" dinucleotides.\n",
    "\n",
    "As a reminder, here is our FASTA parser:\n"
   ]
  },
  {
   "cell_type": "code",
   "execution_count": 17,
   "metadata": {},
   "outputs": [],
   "source": [
    "def parse_fasta_file(input_file):\n",
    "    \"\"\"Return a dict of {id:gene_seq} pairs based on the sequences in the input FASTA file\n",
    "    input_file -- a file handle for an input fasta file\n",
    "    \"\"\"\n",
    "    parsed_seqs = {}\n",
    "    curr_seq_id = None\n",
    "    curr_seq = []\n",
    "\n",
    "    for line in f:\n",
    "        line = line.strip()\n",
    "\n",
    "        if line.startswith(\">\"):\n",
    "            if curr_seq_id is not None:\n",
    "                parsed_seqs[curr_seq_id] = ''.join(curr_seq)\n",
    "\n",
    "            curr_seq_id = line[1:]\n",
    "            curr_seq = []\n",
    "            continue\n",
    "\n",
    "        curr_seq.append(line)\n",
    "\n",
    "    #Add the final sequence to the dict\n",
    "    parsed_seqs[curr_seq_id] = ''.join(curr_seq)\n",
    "    return parsed_seqs\n",
    "\n",
    "\n"
   ]
  },
  {
   "cell_type": "markdown",
   "metadata": {},
   "source": [
    "#### Testing the FASTA parser on a genome:\n",
    "\n",
    "Let's make sure we can run our parser the whole human genome."
   ]
  },
  {
   "cell_type": "code",
   "execution_count": 18,
   "metadata": {},
   "outputs": [
    {
     "name": "stdout",
     "output_type": "stream",
     "text": [
      "Done parsing genome\n"
     ]
    }
   ],
   "source": [
    "#Normally this would be determined\n",
    "#by user input via argparse. Hard-coded for now\n",
    "\n",
    "input_file = human_genome_filepath\n",
    "\n",
    "f = open(input_file)\n",
    "parsed_seqs = parse_fasta_file(input_file)\n",
    "print(\"Done parsing genome\")"
   ]
  },
  {
   "cell_type": "markdown",
   "metadata": {},
   "source": [
    "We don't want to print all the parsed sequences to screen at once, as it would be too much text to look at. Instead, let's loop over the first few of them.\n",
    "\n",
    "How can we iterate over parsed_seqs?  First, let's note that parsed seqs is a `dict` object. We can tell this because in the code for our FASTA parser up above it was defined with curley braces {}. We could also call the `type` function on `parsed_seqs` to verify this if we were unsure:"
   ]
  },
  {
   "cell_type": "code",
   "execution_count": 19,
   "metadata": {},
   "outputs": [
    {
     "data": {
      "text/plain": [
       "dict"
      ]
     },
     "execution_count": 19,
     "metadata": {},
     "output_type": "execute_result"
    }
   ],
   "source": [
    "type(parsed_seqs)"
   ]
  },
  {
   "cell_type": "markdown",
   "metadata": {},
   "source": [
    " Given this information, what we want to do can be stated in general terms as: we have a dictionary, and we want to iterate over all it's key-value pairs. Let's examine that general coding task, and then apply what we learn to loop our code for calculating CG dinucleotide content over a whole freakin' genome.  "
   ]
  },
  {
   "cell_type": "markdown",
   "metadata": {},
   "source": [
    "#### **Python Coding Technique**: Looping over all the keys and items in a dictionary.\n",
    "\n",
    " Python dictionaries have an `.items()` method that returns key-value pairs from the dictionary in an arbitrary order. Let's show how this works on a simple example dictionary, then apply it to our giant dictionary of gene ids and sequences:"
   ]
  },
  {
   "cell_type": "code",
   "execution_count": 20,
   "metadata": {},
   "outputs": [
    {
     "name": "stdout",
     "output_type": "stream",
     "text": [
      "Animal adjectives is a : <class 'dict'>\n",
      "It consists of the following key-value pairs: dict_items([('bears', 'big'), ('cheetahs', 'fast'), ('crows', 'smart'), ('parrots', 'very freaking loud sometimes')])\n"
     ]
    }
   ],
   "source": [
    "animal_adjectives = {\"bears\":\"big\",\"cheetahs\":\"fast\",\"crows\":\"smart\",\"parrots\":\"very freaking loud sometimes\"}\n",
    "print(\"Animal adjectives is a :\",type(animal_adjectives))\n",
    "print(\"It consists of the following key-value pairs:\",animal_adjectives.items())"
   ]
  },
  {
   "cell_type": "markdown",
   "metadata": {},
   "source": [
    "We've defined a dictionary (`dict`) where animals are the keys and the values are adjectives that some people might associate with them. Feel free to adjust the adjectives to whatever you associate with these animals. Calling the `.items()` method on our `dict` of animal adjectives got us a dict_items object that has within it what looks like a list. It is common to use dict_items objects like this one to iterate over dictionaries in a for loop. This can be done as follows:"
   ]
  },
  {
   "cell_type": "code",
   "execution_count": 21,
   "metadata": {},
   "outputs": [
    {
     "name": "stdout",
     "output_type": "stream",
     "text": [
      "I think of bears as big\n",
      "I think of cheetahs as fast\n",
      "I think of crows as smart\n",
      "I think of parrots as very freaking loud sometimes\n"
     ]
    }
   ],
   "source": [
    "for animal, adjective in animal_adjectives.items():\n",
    "    print(f\"I think of {animal} as {adjective}\")\n"
   ]
  },
  {
   "cell_type": "markdown",
   "metadata": {},
   "source": [
    "#### Looping over a whole genome!\n",
    "\n",
    "Now let's apply this to our sequences. To prevent our entire screen from filling with gene ids, I'll add an if statement that uses the `break` keyword to immediately end our loop after a certain numbers of entries. This will let us print the first 100 gene ids:"
   ]
  },
  {
   "cell_type": "code",
   "execution_count": 22,
   "metadata": {},
   "outputs": [
    {
     "name": "stdout",
     "output_type": "stream",
     "text": [
      "lcl|NC_000001.11_cds_NP_001005484.2_1 [gene=OR4F5] [db_xref=CCDS:CCDS30547.1,Ensembl:ENSP00000493376.2,GeneID:79501] [protein=olfactory receptor 4F5] [protein_id=NP_001005484.2] [location=join(65565..65573,69037..70008)] [gbkey=CDS]\n",
      "ATGAAGAAGGTAACTGCAGAGGCTATTTCCTGGAATGAATCAACGAGTGAAACGAATAACTCTATGGTGACTGAATTCATTTTTCTGGGTCTCTCTGATTCTCAGGAACTCCAGACCTTCCTATTTATGTTGTTTTTTGTATTCTATGGAGGAATCGTGTTTGGAAACCTTCTTATTGTCATAACAGTGGTATCTGACTCCCACCTTCACTCTCCCATGTACTTCCTGCTAGCCAACCTCTCACTCATTGATCTGTCTCTGTCTTCAGTCACAGCCCCCAAGATGATTACTGACTTTTTCAGCCAGCGCAAAGTCATCTCTTTCAAGGGCTGCCTTGTTCAGATATTTCTCCTTCACTTCTTTGGTGGGAGTGAGATGGTGATCCTCATAGCCATGGGCTTTGACAGATATATAGCAATATGCAAGCCCCTACACTACACTACAATTATGTGTGGCAACGCATGTGTCGGCATTATGGCTGTCACATGGGGAATTGGCTTTCTCCATTCGGTGAGCCAGTTGGCGTTTGCCGTGCACTTACTCTTCTGTGGTCCCAATGAGGTCGATAGTTTTTATTGTGACCTTCCTAGGGTAATCAAACTTGCCTGTACAGATACCTACAGGCTAGATATTATGGTCATTGCTAACAGTGGTGTGCTCACTGTGTGTTCTTTTGTTCTTCTAATCATCTCATACACTATCATCCTAATGACCATCCAGCATCGCCCTTTAGATAAGTCGTCCAAAGCTCTGTCCACTTTGACTGCTCACATTACAGTAGTTCTTTTGTTCTTTGGACCATGTGTCTTTATTTATGCCTGGCCATTCCCCATCAAGTCATTAGATAAATTCCTTGCTGTATTTTATTCTGTGATCACCCCTCTCTTGAACCCAATTATATACACACTGAGGAACAAAGACATGAAGACGGCAATAAGACAGCTGAGAAAATGGGATGCACATTCTAGTGTAAAGTTTTAG\n",
      "lcl|NC_000001.11_cds_XP_024307731.1_2 [gene=LOC112268260] [db_xref=GeneID:112268260] [protein=uncharacterized protein LOC112268260 isoform X2] [protein_id=XP_024307731.1] [location=complement(join(358067..358183,373144..373323,379769..379870,399041..399100))] [gbkey=CDS]\n",
      "ATGGATGACCATTTCAAACGATCCAGGCTAAGCCAGGAGGAGAGCTCAAAGTCTGATCTGCTCTGCTGCCCCCTGCCCCATACACGTGATGGAGCAGAAAACGTGCTGTGTGAACCTGTGACTTCAGGGCCTGTTGACGTGGTCGTGCTTGCATACTCTCTGGACTGGACCTCACTGTGGGAACAACAAGATCAACAAGAGGAGCAAGAACAACATCAAGAGTCAGGGCCCGGGGGTCCTGACGGGTACAGGACGGGTACAGACCCACACAGGAATCCCAGAGTGTGTTCCACAGCAGGACACGCCTGCGCTGAAAGAGTGGGCAGAAAGGAGCTGACCTGGACCAAACCAATGCACAACTCCTACGTACTGATGGTGGTCTTACGTTTCCCTAAGTTTCTGCCGACTAAACTGTGCACACGTTCTCAGGACCTCCTGAAGCTGCGTCACAGGCGCTGA\n",
      "lcl|NC_000001.11_cds_XP_024307730.1_3 [gene=LOC112268260] [db_xref=GeneID:112268260] [protein=uncharacterized protein LOC112268260 isoform X1] [protein_id=XP_024307730.1] [location=complement(join(358153..358183,365565..365692,373144..373323,379769..379870,399041..399100))] [gbkey=CDS]\n",
      "ATGGATGACCATTTCAAACGATCCAGGCTAAGCCAGGAGGAGAGCTCAAAGTCTGATCTGCTCTGCTGCCCCCTGCCCCATACACGTGATGGAGCAGAAAACGTGCTGTGTGAACCTGTGACTTCAGGGCCTGTTGACGTGGTCGTGCTTGCATACTCTCTGGACTGGACCTCACTGTGGGAACAACAAGATCAACAAGAGGAGCAAGAACAACATCAAGAGTCAGGGCCCGGGGGTCCTGACGGGTACAGGACGGGTACAGACCCACACAGGAATCCCAGAGTGTGTTCCACAGCAGGACACGCCTGCGCTGAAAGAGTGGGCAGAAAGGAGCTGACCTGGGATTATGATCCAAACTCAGCTGGGCCTCCCCTCCCTGCCCCAGGATTGTGGAGTGAGAACGTTGCAGCAGGAGAGAACAACGCAGCAAAGCACAGCAGGGGAACCGGAAATGCTCACCTTTTGACAGGACCAAACCAATGCACAACTCCTACGTACTGA\n",
      "lcl|NC_000001.11_cds_NP_001005221.2_4 [gene=OR4F29] [db_xref=CCDS:CCDS72675.1,Ensembl:ENSP00000409316.1,GeneID:729759] [protein=olfactory receptor 4F3/4F16/4F29] [protein_id=NP_001005221.2] [location=complement(450740..451678)] [gbkey=CDS]\n",
      "ATGGATGGAGAGAATCACTCAGTGGTATCTGAGTTTTTGTTTCTGGGACTCACTCATTCATGGGAGATCCAGCTCCTCCTCCTAGTGTTTTCCTCTGTGCTCTATGTGGCAAGCATTACTGGAAACATCCTCATTGTGTTTTCTGTGACCACTGACCCTCACTTACACTCCCCCATGTACTTTCTACTGGCCAGTCTCTCCTTCATTGACTTAGGAGCCTGCTCTGTCACTTCTCCCAAGATGATTTATGACCTGTTCAGAAAGCGCAAAGTCATCTCCTTTGGAGGCTGCATCGCTCAAATCTTCTTCATCCACGTCGTTGGTGGTGTGGAGATGGTGCTGCTCATAGCCATGGCCTTTGACAGATATGTGGCCCTATGTAAGCCCCTCCACTATCTGACCATTATGAGCCCAAGAATGTGCCTTTCATTTCTGGCTGTTGCCTGGACCCTTGGTGTCAGTCACTCCCTGTTCCAACTGGCATTTCTTGTTAATTTAGCCTTCTGTGGCCCTAATGTGTTGGACAGCTTCTACTGTGACCTTCCTCGGCTTCTCAGACTAGCCTGTACCGACACCTACAGATTGCAGTTCATGGTCACTGTTAACAGTGGGTTTATCTGTGTGGGTACTTTCTTCATACTTCTAATCTCCTACGTCTTCATCCTGTTTACTGTTTGGAAACATTCCTCAGGTGGTTCATCCAAGGCCCTTTCCACTCTTTCAGCTCACAGCACAGTGGTCCTTTTGTTCTTTGGTCCACCCATGTTTGTGTATACACGGCCACACCCTAATTCACAGATGGACAAGTTTCTGGCTATTTTTGATGCAGTTCTCACTCCTTTTCTGAATCCAGTTGTCTATACATTCAGGAATAAGGAGATGAAGGCAGCAATAAAGAGAGTATGCAAACAGCTAGTGATTTACAAGAGGATCTCATAA\n",
      "lcl|NC_000001.11_cds_XP_011540840.1_5 [gene=LOC105378947] [db_xref=GeneID:105378947] [protein=proline-rich extensin-like protein EPR1] [protein_id=XP_011540840.1] [location=complement(join(586839..586955,601398..601577,607955..608056,609083..610750,611112..611297))] [gbkey=CDS]\n",
      "ATGCGTAGACACACACATCCTTACTCTGCGCGCATCCCTGGCCTGGTGGACGGAAGATCGAGCGCTCTGGGTGGACTTACGGCCACAGGACGGGGGCAGAGTCGGCAGGGAGGCCCCTCCGAGGCCCAGTGGGCCCTGCGCTGGCCCCGGCCGCAGACGCCCACCTGCTGCTGTGCTGGCTGCGGCCGCCGCCTGCTGGCCACAGAGAGCCCACGTGCGCCGGCCGCCAGGCCTGGGCATCTCCCCTCCTGCAGCGCCGCCTGCTGGCCACAGAGAACCCGCGTGCGCCGGCCGCCAGGCCTGGGCATCTCCTCTCCTGCAGCGCCGCCTGCTGGCCACAGAGAACCCGCGTGCGCCGGCCGCCAGGCCTGGGCATCTCCTCTCCTGCAGCACCGCCTGCTGGCCACAGAGAACCCGCGTGCGCCGGCCGCCTGGCCTGGGCATCTCCTCTCCTGCAGCGCCGCCTGCTGGCCACAGAGAACCCGCGTGCGCCGGCCGCCAGGCCTGGGCATCTCCTCTCCTGCAGCACCGCCTGCTGGCCACAGAGAACCCGCGTGCGCCGGCCGCCTGGCCTGGGCATCTCCTCTCCTGCAGCGCCGCCTGCTGGCCACAGAGAACCCGCGTGCGCCGGCCGCCAGGCCTGGGCATCTCCTCTCCTGCAGCGCCGCCTGCTGGCCACAGAGAACCCGCGTGCGCCGGCCGCCAGGCCTGGGCATCTCCTCTCCTGCAGCGCCGCCTGCTGGCCACAGAGAACCCGCGTGCGCCGGCCGCCAGGCCTGGGCATCTCCTCTCCTGCAGCGCCGCCTGCTGGCCACAGAGAACCCGCGTGTGCCGCCAGGCCTGGGCATCTCCTCTCCTGCAGCGCCGCCTGCTGGCCACAGAGAACCCGCGTGCGCCGGCCGCCAGGCCTGGGCATCTCCTCTCCTGCAGCGCCGCCTGCTGGCCACAGAGAACCCGCGTGCGCCGGCCGCCAGGCCTGGGCATCTCCTCTCCTGCAGCACCGCCTGCTGGCCACAGAGAACCCGCGTGCGCCGGCCGCCTGGCCTGGGCATCTCCTCTCCTGCAGCGCCGCCTGCTGGCCACAGAGAACCCGCGTGCGCCGGCCGCCAGGCCTGGGCATCTCCTCTCCTGCAGCGCCGCCTGCTGGCCACAGAGAACCCGCGTGCGCCGGCCGCCAGGCCTGGGCATCTCCTCTCCTGCAGCGCCGCCTGCTGGCCACAGAGAACCCGCGTGCGCCGGCCGCCAGGCCTGGGCATCTCCTCTCCTGCAGCGCCGCCTGCTGGCCACAGAGAACCCGCGTGTGCCGCCAGGCCTGGGCATCTCCTCTCCTGCAGCGCCGCCTGCTGGCCACAGAGAACCCGCGTGCGCCGGCCGCCAGGCCTGGGCATCTCCTCTCCTGCAGCGCCGCCTGCTGGCCACAGAGAACCCGCGTGCGCCGGCCGCCTGGCCTGGGCATCTCCTCTCCTGCAGCGCCGCCTGCTGGCCACAGAGAACCCGCGTGCGCCGGCCGCCAGGCCTGGGCATCTCCTCTCCTGCAGCGCCGCCTGCTGGCCACAGAGAACCCGCGTGTGCCGGCCGCCAGGCCTGGGCATCTCCCCGGGCCCTAGTTCCCCCCCTCACCTAAGGGGAGGGACTCCCGTCTTTCCATCCACCCCCTCCTTGCCTCTGCAGAGCTCCAGGGAAGGCTGGCACCCGCTCACTGCATTTAGACTCCATCAGGTTCAGACAGTGGGTCAGGGTACAAGGCTTCAGCGGCCAGGGATGTGGCCTCTAATTTGTAGAGAGAAAGAAGGACAGAGGCAAAGGTTTGGGCCCAGGGACTGGGCTCCGTTTCCAGAATCACTCTTGGAGCTGCTCTGCTGCCCCCTGCCCCATACACGTGATGGAGCAGAAAACGTGCTGTGTGAACCTGTGACTTCAGGGCCTGTTGACGTGGTCGTGCTTGCATACTCTCTGGACTGGACCTCACTGTGGGAACAACAAGATCAACAAGAGGAGCAAGAACAACATCAAGAGTCAGGGCCCGGGGGTCCTGACGGGTACAGGATGGGTACAGACCCACACAGGAATCCCAGAGTGTGTTCCACAGCAGGACACGCCTGCGCTGAAAGAGTGGGCAGAAAGGAGCTGACCTGGACCAAACCAATGCACAACTCCTACGTACTGATGGTGGTCTTACGTTTCCCTAAGTTTCTGCCGACTAAACTGTGCACACGTTCTCAGGACCTCCTGAAGCTGCGTCACAGGCGCTGA\n",
      "lcl|NC_000001.11_cds_XP_016857897.1_6 [gene=OR4F16] [db_xref=GeneID:81399] [protein=olfactory receptor 4F3/4F16/4F29 isoform X1] [protein_id=XP_016857897.1] [location=complement(685716..686654)] [gbkey=CDS]\n",
      "ATGGATGGAGAGAATCACTCAGTGGTATCTGAGTTTTTGTTTCTGGGACTCACTCATTCATGGGAGATCCAGCTCCTCCTCCTAGTGTTTTCCTCTGTGCTCTATGTGGCAAGCATTACTGGAAACATCCTCATTGTGTTTTCTGTGACCACTGACCCTCACTTACACTCCCCCATGTACTTTCTACTGGCCAGTCTCTCCTTCATTGACTTAGGAGCCTGCTCTGTCACTTCTCCCAAGATGATTTATGACCTGTTCAGAAAGCGCAAAGTCATCTCCTTTGGAGGCTGCATCGCTCAAATCTTCTTCATCCACGTCGTTGGTGGTGTGGAGATGGTGCTGCTCATAGCCATGGCCTTTGACAGATATGTGGCCCTATGTAAGCCCCTCCACTATCTGACCATTATGAGCCCAAGAATGTGCCTTTCATTTCTGGCTGTTGCCTGGACCCTTGGTGTCAGTCACTCCCTGTTCCAACTGGCATTTCTTGTTAATTTAGCCTTCTGTGGCCCTAATGTGTTGGACAGCTTCTACTGTGACCTTCCTCGGCTTCTCAGACTAGCCTGTACCGACACCTACAGATTGCAGTTCATGGTCACTGTTAACAGTGGGTTTATCTGTGTGGGTACTTTCTTCATACTTCTAATCTCCTACGTCTTCATCCTGTTTACTGTTTGGAAACATTCCTCAGGTGGTTCATCCAAGGCCCTTTCCACTCTTTCAGCTCACAGCACAGTGGTCCTTTTGTTCTTTGGTCCACCCATGTTTGTGTATACACGGCCACACCCTAATTCACAGATGGACAAGTTTCTGGCTATTTTTGATGCAGTTCTCACTCCTTTTCTGAATCCAGTTGTCTATACATTCAGGAATAAGGAGATGAAGGCAGCAATAAAGAGAGTATGCAAACAGCTAGTGATTTACAAGAGGATCTCATAA\n",
      "lcl|NC_000001.11_cds_XP_016857898.1_7 [gene=OR4F16] [db_xref=GeneID:81399] [protein=olfactory receptor 4F3/4F16/4F29 isoform X1] [protein_id=XP_016857898.1] [location=complement(685716..686654)] [gbkey=CDS]\n",
      "ATGGATGGAGAGAATCACTCAGTGGTATCTGAGTTTTTGTTTCTGGGACTCACTCATTCATGGGAGATCCAGCTCCTCCTCCTAGTGTTTTCCTCTGTGCTCTATGTGGCAAGCATTACTGGAAACATCCTCATTGTGTTTTCTGTGACCACTGACCCTCACTTACACTCCCCCATGTACTTTCTACTGGCCAGTCTCTCCTTCATTGACTTAGGAGCCTGCTCTGTCACTTCTCCCAAGATGATTTATGACCTGTTCAGAAAGCGCAAAGTCATCTCCTTTGGAGGCTGCATCGCTCAAATCTTCTTCATCCACGTCGTTGGTGGTGTGGAGATGGTGCTGCTCATAGCCATGGCCTTTGACAGATATGTGGCCCTATGTAAGCCCCTCCACTATCTGACCATTATGAGCCCAAGAATGTGCCTTTCATTTCTGGCTGTTGCCTGGACCCTTGGTGTCAGTCACTCCCTGTTCCAACTGGCATTTCTTGTTAATTTAGCCTTCTGTGGCCCTAATGTGTTGGACAGCTTCTACTGTGACCTTCCTCGGCTTCTCAGACTAGCCTGTACCGACACCTACAGATTGCAGTTCATGGTCACTGTTAACAGTGGGTTTATCTGTGTGGGTACTTTCTTCATACTTCTAATCTCCTACGTCTTCATCCTGTTTACTGTTTGGAAACATTCCTCAGGTGGTTCATCCAAGGCCCTTTCCACTCTTTCAGCTCACAGCACAGTGGTCCTTTTGTTCTTTGGTCCACCCATGTTTGTGTATACACGGCCACACCCTAATTCACAGATGGACAAGTTTCTGGCTATTTTTGATGCAGTTCTCACTCCTTTTCTGAATCCAGTTGTCTATACATTCAGGAATAAGGAGATGAAGGCAGCAATAAAGAGAGTATGCAAACAGCTAGTGATTTACAAGAGGATCTCATAA\n",
      "lcl|NC_000001.11_cds_XP_016857899.1_8 [gene=OR4F16] [db_xref=GeneID:81399] [protein=olfactory receptor 4F3/4F16/4F29 isoform X1] [protein_id=XP_016857899.1] [location=complement(685716..686654)] [gbkey=CDS]\n",
      "ATGGATGGAGAGAATCACTCAGTGGTATCTGAGTTTTTGTTTCTGGGACTCACTCATTCATGGGAGATCCAGCTCCTCCTCCTAGTGTTTTCCTCTGTGCTCTATGTGGCAAGCATTACTGGAAACATCCTCATTGTGTTTTCTGTGACCACTGACCCTCACTTACACTCCCCCATGTACTTTCTACTGGCCAGTCTCTCCTTCATTGACTTAGGAGCCTGCTCTGTCACTTCTCCCAAGATGATTTATGACCTGTTCAGAAAGCGCAAAGTCATCTCCTTTGGAGGCTGCATCGCTCAAATCTTCTTCATCCACGTCGTTGGTGGTGTGGAGATGGTGCTGCTCATAGCCATGGCCTTTGACAGATATGTGGCCCTATGTAAGCCCCTCCACTATCTGACCATTATGAGCCCAAGAATGTGCCTTTCATTTCTGGCTGTTGCCTGGACCCTTGGTGTCAGTCACTCCCTGTTCCAACTGGCATTTCTTGTTAATTTAGCCTTCTGTGGCCCTAATGTGTTGGACAGCTTCTACTGTGACCTTCCTCGGCTTCTCAGACTAGCCTGTACCGACACCTACAGATTGCAGTTCATGGTCACTGTTAACAGTGGGTTTATCTGTGTGGGTACTTTCTTCATACTTCTAATCTCCTACGTCTTCATCCTGTTTACTGTTTGGAAACATTCCTCAGGTGGTTCATCCAAGGCCCTTTCCACTCTTTCAGCTCACAGCACAGTGGTCCTTTTGTTCTTTGGTCCACCCATGTTTGTGTATACACGGCCACACCCTAATTCACAGATGGACAAGTTTCTGGCTATTTTTGATGCAGTTCTCACTCCTTTTCTGAATCCAGTTGTCTATACATTCAGGAATAAGGAGATGAAGGCAGCAATAAAGAGAGTATGCAAACAGCTAGTGATTTACAAGAGGATCTCATAA\n",
      "lcl|NC_000001.11_cds_XP_016857900.1_9 [gene=OR4F16] [db_xref=GeneID:81399] [protein=olfactory receptor 4F3/4F16/4F29 isoform X1] [protein_id=XP_016857900.1] [location=complement(685716..686654)] [gbkey=CDS]\n",
      "ATGGATGGAGAGAATCACTCAGTGGTATCTGAGTTTTTGTTTCTGGGACTCACTCATTCATGGGAGATCCAGCTCCTCCTCCTAGTGTTTTCCTCTGTGCTCTATGTGGCAAGCATTACTGGAAACATCCTCATTGTGTTTTCTGTGACCACTGACCCTCACTTACACTCCCCCATGTACTTTCTACTGGCCAGTCTCTCCTTCATTGACTTAGGAGCCTGCTCTGTCACTTCTCCCAAGATGATTTATGACCTGTTCAGAAAGCGCAAAGTCATCTCCTTTGGAGGCTGCATCGCTCAAATCTTCTTCATCCACGTCGTTGGTGGTGTGGAGATGGTGCTGCTCATAGCCATGGCCTTTGACAGATATGTGGCCCTATGTAAGCCCCTCCACTATCTGACCATTATGAGCCCAAGAATGTGCCTTTCATTTCTGGCTGTTGCCTGGACCCTTGGTGTCAGTCACTCCCTGTTCCAACTGGCATTTCTTGTTAATTTAGCCTTCTGTGGCCCTAATGTGTTGGACAGCTTCTACTGTGACCTTCCTCGGCTTCTCAGACTAGCCTGTACCGACACCTACAGATTGCAGTTCATGGTCACTGTTAACAGTGGGTTTATCTGTGTGGGTACTTTCTTCATACTTCTAATCTCCTACGTCTTCATCCTGTTTACTGTTTGGAAACATTCCTCAGGTGGTTCATCCAAGGCCCTTTCCACTCTTTCAGCTCACAGCACAGTGGTCCTTTTGTTCTTTGGTCCACCCATGTTTGTGTATACACGGCCACACCCTAATTCACAGATGGACAAGTTTCTGGCTATTTTTGATGCAGTTCTCACTCCTTTTCTGAATCCAGTTGTCTATACATTCAGGAATAAGGAGATGAAGGCAGCAATAAAGAGAGTATGCAAACAGCTAGTGATTTACAAGAGGATCTCATAA\n",
      "lcl|NC_000001.11_cds_XP_024305755.1_10 [gene=OR4F16] [db_xref=GeneID:81399] [protein=olfactory receptor 4F3/4F16/4F29 isoform X1] [protein_id=XP_024305755.1] [location=complement(685716..686654)] [gbkey=CDS]\n",
      "ATGGATGGAGAGAATCACTCAGTGGTATCTGAGTTTTTGTTTCTGGGACTCACTCATTCATGGGAGATCCAGCTCCTCCTCCTAGTGTTTTCCTCTGTGCTCTATGTGGCAAGCATTACTGGAAACATCCTCATTGTGTTTTCTGTGACCACTGACCCTCACTTACACTCCCCCATGTACTTTCTACTGGCCAGTCTCTCCTTCATTGACTTAGGAGCCTGCTCTGTCACTTCTCCCAAGATGATTTATGACCTGTTCAGAAAGCGCAAAGTCATCTCCTTTGGAGGCTGCATCGCTCAAATCTTCTTCATCCACGTCGTTGGTGGTGTGGAGATGGTGCTGCTCATAGCCATGGCCTTTGACAGATATGTGGCCCTATGTAAGCCCCTCCACTATCTGACCATTATGAGCCCAAGAATGTGCCTTTCATTTCTGGCTGTTGCCTGGACCCTTGGTGTCAGTCACTCCCTGTTCCAACTGGCATTTCTTGTTAATTTAGCCTTCTGTGGCCCTAATGTGTTGGACAGCTTCTACTGTGACCTTCCTCGGCTTCTCAGACTAGCCTGTACCGACACCTACAGATTGCAGTTCATGGTCACTGTTAACAGTGGGTTTATCTGTGTGGGTACTTTCTTCATACTTCTAATCTCCTACGTCTTCATCCTGTTTACTGTTTGGAAACATTCCTCAGGTGGTTCATCCAAGGCCCTTTCCACTCTTTCAGCTCACAGCACAGTGGTCCTTTTGTTCTTTGGTCCACCCATGTTTGTGTATACACGGCCACACCCTAATTCACAGATGGACAAGTTTCTGGCTATTTTTGATGCAGTTCTCACTCCTTTTCTGAATCCAGTTGTCTATACATTCAGGAATAAGGAGATGAAGGCAGCAATAAAGAGAGTATGCAAACAGCTAGTGATTTACAAGAGGATCTCATAA\n",
      "lcl|NC_000001.11_cds_XP_024305760.1_11 [gene=OR4F16] [db_xref=GeneID:81399] [protein=olfactory receptor 4F3/4F16/4F29 isoform X1] [protein_id=XP_024305760.1] [location=complement(685716..686654)] [gbkey=CDS]\n",
      "ATGGATGGAGAGAATCACTCAGTGGTATCTGAGTTTTTGTTTCTGGGACTCACTCATTCATGGGAGATCCAGCTCCTCCTCCTAGTGTTTTCCTCTGTGCTCTATGTGGCAAGCATTACTGGAAACATCCTCATTGTGTTTTCTGTGACCACTGACCCTCACTTACACTCCCCCATGTACTTTCTACTGGCCAGTCTCTCCTTCATTGACTTAGGAGCCTGCTCTGTCACTTCTCCCAAGATGATTTATGACCTGTTCAGAAAGCGCAAAGTCATCTCCTTTGGAGGCTGCATCGCTCAAATCTTCTTCATCCACGTCGTTGGTGGTGTGGAGATGGTGCTGCTCATAGCCATGGCCTTTGACAGATATGTGGCCCTATGTAAGCCCCTCCACTATCTGACCATTATGAGCCCAAGAATGTGCCTTTCATTTCTGGCTGTTGCCTGGACCCTTGGTGTCAGTCACTCCCTGTTCCAACTGGCATTTCTTGTTAATTTAGCCTTCTGTGGCCCTAATGTGTTGGACAGCTTCTACTGTGACCTTCCTCGGCTTCTCAGACTAGCCTGTACCGACACCTACAGATTGCAGTTCATGGTCACTGTTAACAGTGGGTTTATCTGTGTGGGTACTTTCTTCATACTTCTAATCTCCTACGTCTTCATCCTGTTTACTGTTTGGAAACATTCCTCAGGTGGTTCATCCAAGGCCCTTTCCACTCTTTCAGCTCACAGCACAGTGGTCCTTTTGTTCTTTGGTCCACCCATGTTTGTGTATACACGGCCACACCCTAATTCACAGATGGACAAGTTTCTGGCTATTTTTGATGCAGTTCTCACTCCTTTTCTGAATCCAGTTGTCTATACATTCAGGAATAAGGAGATGAAGGCAGCAATAAAGAGAGTATGCAAACAGCTAGTGATTTACAAGAGGATCTCATAA\n",
      "lcl|NC_000001.11_cds_XP_024305761.1_12 [gene=OR4F16] [db_xref=GeneID:81399] [protein=olfactory receptor 4F3/4F16/4F29 isoform X1] [protein_id=XP_024305761.1] [location=complement(685716..686654)] [gbkey=CDS]\n",
      "ATGGATGGAGAGAATCACTCAGTGGTATCTGAGTTTTTGTTTCTGGGACTCACTCATTCATGGGAGATCCAGCTCCTCCTCCTAGTGTTTTCCTCTGTGCTCTATGTGGCAAGCATTACTGGAAACATCCTCATTGTGTTTTCTGTGACCACTGACCCTCACTTACACTCCCCCATGTACTTTCTACTGGCCAGTCTCTCCTTCATTGACTTAGGAGCCTGCTCTGTCACTTCTCCCAAGATGATTTATGACCTGTTCAGAAAGCGCAAAGTCATCTCCTTTGGAGGCTGCATCGCTCAAATCTTCTTCATCCACGTCGTTGGTGGTGTGGAGATGGTGCTGCTCATAGCCATGGCCTTTGACAGATATGTGGCCCTATGTAAGCCCCTCCACTATCTGACCATTATGAGCCCAAGAATGTGCCTTTCATTTCTGGCTGTTGCCTGGACCCTTGGTGTCAGTCACTCCCTGTTCCAACTGGCATTTCTTGTTAATTTAGCCTTCTGTGGCCCTAATGTGTTGGACAGCTTCTACTGTGACCTTCCTCGGCTTCTCAGACTAGCCTGTACCGACACCTACAGATTGCAGTTCATGGTCACTGTTAACAGTGGGTTTATCTGTGTGGGTACTTTCTTCATACTTCTAATCTCCTACGTCTTCATCCTGTTTACTGTTTGGAAACATTCCTCAGGTGGTTCATCCAAGGCCCTTTCCACTCTTTCAGCTCACAGCACAGTGGTCCTTTTGTTCTTTGGTCCACCCATGTTTGTGTATACACGGCCACACCCTAATTCACAGATGGACAAGTTTCTGGCTATTTTTGATGCAGTTCTCACTCCTTTTCTGAATCCAGTTGTCTATACATTCAGGAATAAGGAGATGAAGGCAGCAATAAAGAGAGTATGCAAACAGCTAGTGATTTACAAGAGGATCTCATAA\n",
      "lcl|NC_000001.11_cds_NP_001005277.1_13 [gene=OR4F16] [db_xref=CCDS:CCDS41221.1,GeneID:81399] [protein=olfactory receptor 4F3/4F16/4F29] [protein_id=NP_001005277.1] [location=complement(685716..686654)] [gbkey=CDS]\n",
      "ATGGATGGAGAGAATCACTCAGTGGTATCTGAGTTTTTGTTTCTGGGACTCACTCATTCATGGGAGATCCAGCTCCTCCTCCTAGTGTTTTCCTCTGTGCTCTATGTGGCAAGCATTACTGGAAACATCCTCATTGTGTTTTCTGTGACCACTGACCCTCACTTACACTCCCCCATGTACTTTCTACTGGCCAGTCTCTCCTTCATTGACTTAGGAGCCTGCTCTGTCACTTCTCCCAAGATGATTTATGACCTGTTCAGAAAGCGCAAAGTCATCTCCTTTGGAGGCTGCATCGCTCAAATCTTCTTCATCCACGTCGTTGGTGGTGTGGAGATGGTGCTGCTCATAGCCATGGCCTTTGACAGATATGTGGCCCTATGTAAGCCCCTCCACTATCTGACCATTATGAGCCCAAGAATGTGCCTTTCATTTCTGGCTGTTGCCTGGACCCTTGGTGTCAGTCACTCCCTGTTCCAACTGGCATTTCTTGTTAATTTAGCCTTCTGTGGCCCTAATGTGTTGGACAGCTTCTACTGTGACCTTCCTCGGCTTCTCAGACTAGCCTGTACCGACACCTACAGATTGCAGTTCATGGTCACTGTTAACAGTGGGTTTATCTGTGTGGGTACTTTCTTCATACTTCTAATCTCCTACGTCTTCATCCTGTTTACTGTTTGGAAACATTCCTCAGGTGGTTCATCCAAGGCCCTTTCCACTCTTTCAGCTCACAGCACAGTGGTCCTTTTGTTCTTTGGTCCACCCATGTTTGTGTATACACGGCCACACCCTAATTCACAGATGGACAAGTTTCTGGCTATTTTTGATGCAGTTCTCACTCCTTTTCTGAATCCAGTTGTCTATACATTCAGGAATAAGGAGATGAAGGCAGCAATAAAGAGAGTATGCAAACAGCTAGTGATTTACAAGAGGATCTCATAA\n",
      "lcl|NC_000001.11_cds_NP_001372569.1_14 [gene=SAMD11] [db_xref=GeneID:148398] [protein=sterile alpha motif domain-containing protein 11 isoform 2] [protein_id=NP_001372569.1] [location=join(924432..924948,925922..926013,930155..930336,931039..931089,935772..935896,939040..939129,939272..939412,941144..941306,942136..942251,942410..942488,942559..943058,943253..943377,943698..943808,943908..944153)] [gbkey=CDS]\n",
      "ATGCCGGCGGTCAAGAAGGAGTTCCCGGGCCGCGAGGACCTGGCCCTGGCTCTGGCCACGTTCCACCCGACCCTGGCCGCGCTGCCGCTGCCGCCGCTGCCAGGCTACCTGGCGCCACTGCCCGCGGCGGCCGCCCTCCCCCCGGCCGCCTCGCTGCCCGCCTCGGCCGCCGGTTACGAGGCTCTGCTGGCCCCGCCGCTCCGCCCCCCGCGCGCCTACCTCAGCCTGCACGAGGCCGCCCCGCACCTCCACCTGCCCAGGGACCCGCTGGCCCTCGAGCGCTTCTCGGCCACCGCGGCCGCGGCCCCGGATTTCCAGCCGCTGCTGGACAACGGCGAGCCGTGCATCGAGGTGGAGTGCGGCGCCAACCGCGCGCTGCTCTACGTGCGCAAACTCTGCCAGGGCAGCAAGGGCCCGTCCATCCGCCACCGCGGCGAGTGGCTCACGCCCAACGAGTTCCAGTTCGTCAGCGGCCGCGAGACGGCCAAGGACTGGAAGCGCAGCATCCGCCACAAAGGGAAAAGTCTGAAGACGCTTATGTCCAAGGGGATCCTGCAGGTGCATCCTCCGATCTGCGACTGCCCGGGCTGCCGAATATCCTCCCCGGTGAACCGGGGGCGGCTGGCAGACAAGAGGACAGTCGCCCTGCCTGCCGCCCGGAACCTGAAGAAGGAGCGAACTCCCAGCTTCTCTGCCAGCGATGGTGACAGCGACGGGAGTGGCCCCACCTGTGGGCGGCGGCCAGGCTTGAAGCAGGAGGATGGTCCGCACATCCGTATCATGAAGAGAAGAGTCCACACCCACTGGGACGTGAACATCTCTTTCCGAGAGGCGTCCTGCAGCCAGGACGGCAACCTTCCCACCCTCATATCCAGCGTCCACCGCAGCCGCCACCTCGTTATGCCCGAGCATCAGAGCCGCTGTGAATTCCAGAGAGGCAGCCTGGAGATTGGCCTGCGACCCGCCGGTGACCTGTTGGGCAAGAGGCTGGGCCGCTCCCCCCGTATCAGCAGCGACTGCTTTTCAGAGAAGAGGGCACGAAGCGAATCGCCTCAAGCAGAGGCGCTGCTGCTGCCGCGGGAGCTGGGGCCCAGCATGGCCCCGGAGGACCATTACCGCCGGCTTGTGTCAGCACTGAGCGAGGCCAGCACCTTTGAGGACCCTCAGCGCCTCTACCACCTGGGCCTCCCCAGCCACGATCTCCTGAGGGTCCGGCAGGAGGTGGCGGCTGCAGCTCTGAGGGGCCCCAGTGGCCTGGAAGCCCACCTGCCCTCCTCCACGGCAGGTCAGCGTCGGAAGCAGGGCCTGGCTCAGCACCGGGAGGGCGCCGCCCCAGCTGCCGCCCCGTCCTTCTCGGAGAGGGAGCTGCCTCAGCCGCCCCCCTTGCTGTCGCCGCAGAATGCCCCTCACGTCGCCCTGGGCCCCCATCTCAGGCCCCCCTTCCTGGGGGTGCCCTCGGCTCTGTGCCAGACCCCAGGCTACGGCTTCCTGCCCCCCGCGCAGGCGGAGATGTTCGCCTGGCAGCAGGAGCTCCTGCGGAAGCAGAACCTGGCCCGGCTGGAGCTGCCCGCCGACCTCCTGCGGCAGAAGGAGCTGGAGAGCGCGCGCCCACAGCTGCTGGCGCCCGAGACCGCCCTGCGCCCCAACGACGGCGCCGAGGAGCTGCAGCGGCGCGGGGCCCTGCTGGTGCTGAACCACGGCGCGGCGCCACTGCTGGCCCTGCCCCCCCAGGGGCCCCCGGGCTCCGGACCCCCCACCCCGTCCCGGGACTCTGCCCGGCGAGCCCCCCGGAAGGGGGGTCCCGGCCCTGCCTCAGCGCGGCCCAGCGAGTCCAAGGAGATGACGGGGGCTAGGCTCTGGGCACAAGATGGCTCGGAAGACGAGCCCCCCAAAGACTCGGACGGAGAGGACCCCGAGACGGCAGCTGTTGGGTGCAGGGGGCCCACTCCGGGCCAAGCTCCAGCTGGAGGGGCCGGCGCCGAGGGGAAGGGGCTTTTCCCAGGGTCCACACTGCCCCTGGGCTTCCCTTATGCCGTCAGCCCCTACTTCCACACAGGCGCGGTAGGGGGACTCTCCATGGATGGGGAGGAGGCCCCAGCCCCTGAGGACGTCACCAAGTGGACCGTGGATGACGTCTGCAGCTTCGTGGGGGGCCTGTCTGGCTGTGGAGAGTACACTCGGGTCTTCAGGGAGCAGGGGATCGACGGGGAGACCCTGCCACTGCTGACGGAGGAGCACCTGCTGACCAACATGGGGCTGAAGCTGGGGCCCGCCCTCAAGATCCGGGCCCAGGTGGCCAGGCGCCTGGGCCGAGTTTTCTACGTGGCCAGCTTCCCCGTGGCTCTGCCACTGCAGCCACCAACCCTGCGGGCCCCGGAGCGAGAACTCGGCACAGGAGAGCAGCCCTTGTCCCCCACGACGGCCACGTCCCCCTATGGAGGGGGCCACGCCCTTGCCGGTCAAACTTCACCCAAGCAGGAGAATGGGACCTTGGCTCTACTTCCAGGGGCCCCCGACCCTTCCCAGCCTCTGTGTTGA\n",
      "lcl|NC_000001.11_cds_NP_001372570.1_15 [gene=SAMD11] [db_xref=Ensembl:ENSP00000478421.2,GeneID:148398] [protein=sterile alpha motif domain-containing protein 11 isoform 1] [protein_id=NP_001372570.1] [location=join(924432..924948,925922..926013,930155..930336,931039..931089,935772..935896,939040..939129,939275..939412,941144..941306,942136..942251,942410..942488,942559..943058,943253..943377,943698..943808,943908..944153)] [gbkey=CDS]\n",
      "ATGCCGGCGGTCAAGAAGGAGTTCCCGGGCCGCGAGGACCTGGCCCTGGCTCTGGCCACGTTCCACCCGACCCTGGCCGCGCTGCCGCTGCCGCCGCTGCCAGGCTACCTGGCGCCACTGCCCGCGGCGGCCGCCCTCCCCCCGGCCGCCTCGCTGCCCGCCTCGGCCGCCGGTTACGAGGCTCTGCTGGCCCCGCCGCTCCGCCCCCCGCGCGCCTACCTCAGCCTGCACGAGGCCGCCCCGCACCTCCACCTGCCCAGGGACCCGCTGGCCCTCGAGCGCTTCTCGGCCACCGCGGCCGCGGCCCCGGATTTCCAGCCGCTGCTGGACAACGGCGAGCCGTGCATCGAGGTGGAGTGCGGCGCCAACCGCGCGCTGCTCTACGTGCGCAAACTCTGCCAGGGCAGCAAGGGCCCGTCCATCCGCCACCGCGGCGAGTGGCTCACGCCCAACGAGTTCCAGTTCGTCAGCGGCCGCGAGACGGCCAAGGACTGGAAGCGCAGCATCCGCCACAAAGGGAAAAGTCTGAAGACGCTTATGTCCAAGGGGATCCTGCAGGTGCATCCTCCGATCTGCGACTGCCCGGGCTGCCGAATATCCTCCCCGGTGAACCGGGGGCGGCTGGCAGACAAGAGGACAGTCGCCCTGCCTGCCGCCCGGAACCTGAAGAAGGAGCGAACTCCCAGCTTCTCTGCCAGCGATGGTGACAGCGACGGGAGTGGCCCCACCTGTGGGCGGCGGCCAGGCTTGAAGCAGGAGGATGGTCCGCACATCCGTATCATGAAGAGAAGAGTCCACACCCACTGGGACGTGAACATCTCTTTCCGAGAGGCGTCCTGCAGCCAGGACGGCAACCTTCCCACCCTCATATCCAGCGTCCACCGCAGCCGCCACCTCGTTATGCCCGAGCATCAGAGCCGCTGTGAATTCCAGAGAGGCAGCCTGGAGATTGGCCTGCGACCCGCCGGTGACCTGTTGGGCAAGAGGCTGGGCCGCTCCCCCCGTATCAGCAGCGACTGCTTTTCAGAGAAGAGGGCACGAAGCGAATCGCCTCAAGAGGCGCTGCTGCTGCCGCGGGAGCTGGGGCCCAGCATGGCCCCGGAGGACCATTACCGCCGGCTTGTGTCAGCACTGAGCGAGGCCAGCACCTTTGAGGACCCTCAGCGCCTCTACCACCTGGGCCTCCCCAGCCACGATCTCCTGAGGGTCCGGCAGGAGGTGGCGGCTGCAGCTCTGAGGGGCCCCAGTGGCCTGGAAGCCCACCTGCCCTCCTCCACGGCAGGTCAGCGTCGGAAGCAGGGCCTGGCTCAGCACCGGGAGGGCGCCGCCCCAGCTGCCGCCCCGTCCTTCTCGGAGAGGGAGCTGCCTCAGCCGCCCCCCTTGCTGTCGCCGCAGAATGCCCCTCACGTCGCCCTGGGCCCCCATCTCAGGCCCCCCTTCCTGGGGGTGCCCTCGGCTCTGTGCCAGACCCCAGGCTACGGCTTCCTGCCCCCCGCGCAGGCGGAGATGTTCGCCTGGCAGCAGGAGCTCCTGCGGAAGCAGAACCTGGCCCGGCTGGAGCTGCCCGCCGACCTCCTGCGGCAGAAGGAGCTGGAGAGCGCGCGCCCACAGCTGCTGGCGCCCGAGACCGCCCTGCGCCCCAACGACGGCGCCGAGGAGCTGCAGCGGCGCGGGGCCCTGCTGGTGCTGAACCACGGCGCGGCGCCACTGCTGGCCCTGCCCCCCCAGGGGCCCCCGGGCTCCGGACCCCCCACCCCGTCCCGGGACTCTGCCCGGCGAGCCCCCCGGAAGGGGGGTCCCGGCCCTGCCTCAGCGCGGCCCAGCGAGTCCAAGGAGATGACGGGGGCTAGGCTCTGGGCACAAGATGGCTCGGAAGACGAGCCCCCCAAAGACTCGGACGGAGAGGACCCCGAGACGGCAGCTGTTGGGTGCAGGGGGCCCACTCCGGGCCAAGCTCCAGCTGGAGGGGCCGGCGCCGAGGGGAAGGGGCTTTTCCCAGGGTCCACACTGCCCCTGGGCTTCCCTTATGCCGTCAGCCCCTACTTCCACACAGGCGCGGTAGGGGGACTCTCCATGGATGGGGAGGAGGCCCCAGCCCCTGAGGACGTCACCAAGTGGACCGTGGATGACGTCTGCAGCTTCGTGGGGGGCCTGTCTGGCTGTGGAGAGTACACTCGGGTCTTCAGGGAGCAGGGGATCGACGGGGAGACCCTGCCACTGCTGACGGAGGAGCACCTGCTGACCAACATGGGGCTGAAGCTGGGGCCCGCCCTCAAGATCCGGGCCCAGGTGGCCAGGCGCCTGGGCCGAGTTTTCTACGTGGCCAGCTTCCCCGTGGCTCTGCCACTGCAGCCACCAACCCTGCGGGCCCCGGAGCGAGAACTCGGCACAGGAGAGCAGCCCTTGTCCCCCACGACGGCCACGTCCCCCTATGGAGGGGGCCACGCCCTTGCCGGTCAAACTTCACCCAAGCAGGAGAATGGGACCTTGGCTCTACTTCCAGGGGCCCCCGACCCTTCCCAGCCTCTGTGTTGA\n",
      "lcl|NC_000001.11_cds_NP_689699.3_16 [gene=SAMD11] [db_xref=CCDS:CCDS2.2,GeneID:148398] [protein=sterile alpha motif domain-containing protein 11 isoform 3] [protein_id=NP_689699.3] [location=join(925942..926013,930155..930336,931039..931089,935772..935896,939040..939129,939275..939460,941144..941306,942136..942251,942410..942488,942559..943058,943253..943377,943698..943808,943908..944153)] [gbkey=CDS]\n",
      "ATGTCCAAGGGGATCCTGCAGGTGCATCCTCCGATCTGCGACTGCCCGGGCTGCCGAATATCCTCCCCGGTGAACCGGGGGCGGCTGGCAGACAAGAGGACAGTCGCCCTGCCTGCCGCCCGGAACCTGAAGAAGGAGCGAACTCCCAGCTTCTCTGCCAGCGATGGTGACAGCGACGGGAGTGGCCCCACCTGTGGGCGGCGGCCAGGCTTGAAGCAGGAGGATGGTCCGCACATCCGTATCATGAAGAGAAGAGTCCACACCCACTGGGACGTGAACATCTCTTTCCGAGAGGCGTCCTGCAGCCAGGACGGCAACCTTCCCACCCTCATATCCAGCGTCCACCGCAGCCGCCACCTCGTTATGCCCGAGCATCAGAGCCGCTGTGAATTCCAGAGAGGCAGCCTGGAGATTGGCCTGCGACCCGCCGGTGACCTGTTGGGCAAGAGGCTGGGCCGCTCCCCCCGTATCAGCAGCGACTGCTTTTCAGAGAAGAGGGCACGAAGCGAATCGCCTCAAGAGGCGCTGCTGCTGCCGCGGGAGCTGGGGCCCAGCATGGCCCCGGAGGACCATTACCGCCGGCTTGTGTCAGCACTGAGCGAGGCCAGCACCTTTGAGGACCCTCAGCGCCTCTACCACCTGGGCCTCCCCAGCCACGGTGAGGACCCACCCTGGCATGATCCCCCTCATCACCTCCCCAGCCACGATCTCCTGAGGGTCCGGCAGGAGGTGGCGGCTGCAGCTCTGAGGGGCCCCAGTGGCCTGGAAGCCCACCTGCCCTCCTCCACGGCAGGTCAGCGTCGGAAGCAGGGCCTGGCTCAGCACCGGGAGGGCGCCGCCCCAGCTGCCGCCCCGTCCTTCTCGGAGAGGGAGCTGCCTCAGCCGCCCCCCTTGCTGTCGCCGCAGAATGCCCCTCACGTCGCCCTGGGCCCCCATCTCAGGCCCCCCTTCCTGGGGGTGCCCTCGGCTCTGTGCCAGACCCCAGGCTACGGCTTCCTGCCCCCCGCGCAGGCGGAGATGTTCGCCTGGCAGCAGGAGCTCCTGCGGAAGCAGAACCTGGCCCGGCTGGAGCTGCCCGCCGACCTCCTGCGGCAGAAGGAGCTGGAGAGCGCGCGCCCACAGCTGCTGGCGCCCGAGACCGCCCTGCGCCCCAACGACGGCGCCGAGGAGCTGCAGCGGCGCGGGGCCCTGCTGGTGCTGAACCACGGCGCGGCGCCACTGCTGGCCCTGCCCCCCCAGGGGCCCCCGGGCTCCGGACCCCCCACCCCGTCCCGGGACTCTGCCCGGCGAGCCCCCCGGAAGGGGGGTCCCGGCCCTGCCTCAGCGCGGCCCAGCGAGTCCAAGGAGATGACGGGGGCTAGGCTCTGGGCACAAGATGGCTCGGAAGACGAGCCCCCCAAAGACTCGGACGGAGAGGACCCCGAGACGGCAGCTGTTGGGTGCAGGGGGCCCACTCCGGGCCAAGCTCCAGCTGGAGGGGCCGGCGCCGAGGGGAAGGGGCTTTTCCCAGGGTCCACACTGCCCCTGGGCTTCCCTTATGCCGTCAGCCCCTACTTCCACACAGGCGCGGTAGGGGGACTCTCCATGGATGGGGAGGAGGCCCCAGCCCCTGAGGACGTCACCAAGTGGACCGTGGATGACGTCTGCAGCTTCGTGGGGGGCCTGTCTGGCTGTGGAGAGTACACTCGGGTCTTCAGGGAGCAGGGGATCGACGGGGAGACCCTGCCACTGCTGACGGAGGAGCACCTGCTGACCAACATGGGGCTGAAGCTGGGGCCCGCCCTCAAGATCCGGGCCCAGGTGGCCAGGCGCCTGGGCCGAGTTTTCTACGTGGCCAGCTTCCCCGTGGCTCTGCCACTGCAGCCACCAACCCTGCGGGCCCCGGAGCGAGAACTCGGCACAGGAGAGCAGCCCTTGTCCCCCACGACGGCCACGTCCCCCTATGGAGGGGGCCACGCCCTTGCCGGTCAAACTTCACCCAAGCAGGAGAATGGGACCTTGGCTCTACTTCCAGGGGCCCCCGACCCTTCCCAGCCTCTGTGTTGA\n",
      "lcl|NC_000001.11_cds_NP_056473.3_17 [gene=NOC2L] [db_xref=CCDS:CCDS3.1,Ensembl:ENSP00000317992.6,GeneID:26155] [protein=nucleolar complex protein 2 homolog] [protein_id=NP_056473.3] [location=complement(join(944694..944800,945057..945146,945518..945653,946173..946286,946402..946545,948131..948232,948490..948603,951127..951238,952000..952139,952412..952600,953175..953288,953782..953892,954004..954082,955923..956013,956095..956215,956894..957025,957099..957273,958929..959081,959215..959240))] [gbkey=CDS]\n",
      "ATGGCAGCTGCGGGGAGCCGCAAGAGGCGCCTGGCGGAGCTGACGGTGGACGAGTTCCTAGCTTCGGGCTTTGACTCCGAGTCCGAATCCGAGTCCGAAAATTCTCCACAAGCGGAGACACGGGAAGCACGCGAGGCTGCCCGGAGTCCGGATAAGCCGGGCGGGAGCCCCTCGGCCAGCCGGCGTAAAGGCCGTGCCTCTGAGCACAAAGACCAGCTCTCTCGGCTGAAGGACAGAGACCCCGAGTTCTACAAGTTCCTGCAGGAGAATGACCAGAGCCTGCTAAACTTCAGCGACTCGGACAGCTCTGAGGAGGAAGAGGGGCCGTTCCACTCCCTGCCAGATGTGCTGGAGGAAGCCAGTGAGGAGGAGGATGGAGCGGAGGAAGGAGAAGATGGGGACAGAGTCCCCAGAGGGCTGAAGGGGAAGAAGAATTCTGTTCCTGTGACCGTCGCCATGGTTGAGAGATGGAAGCAGGCAGCAAAGCAACGCCTCACTCCAAAGCTGTTCCATGAAGTGGTACAGGCGTTCCGAGCAGCTGTGGCCACCACCCGAGGGGACCAGGAAAGTGCTGAGGCCAACAAATTCCAGGTCACGGACAGTGCTGCATTCAATGCTCTGGTTACCTTCTGCATCAGAGACCTCATTGGCTGTCTCCAGAAGCTGCTGTTTGGAAAGGTGGCAAAGGATAGCAGCAGGATGCTGCAGCCGTCCAGCAGCCCGCTCTGGGGGAAGCTTCGTGTGGACATCAAGGCTTACCTGGGCTCGGCCATACAGCTGGTGTCCTGTCTGTCGGAGACGACGGTGTTGGCGGCCGTGCTGCGGCACATCAGCGTGCTGGTGCCCTGCTTCCTGACCTTCCCCAAGCAGTGCCGCATGCTGCTCAAGAGAATGGTGATCGTATGGAGCACTGGGGAAGAGTCTCTGCGGGTGCTGGCTTTCCTGGTCCTCAGCAGAGTCTGCCGGCACAAGAAGGACACTTTCCTTGGCCCCGTCCTCAAGCAAATGTACATCACGTATGTGAGGAACTGCAAGTTCACCTCGCCTGGTGCCCTCCCCTTCATCAGTTTCATGCAGTGGACCTTGACGGAGCTGCTGGCCCTGGAGCCGGGTGTGGCCTACCAGCACGCCTTCCTCTACATCCGCCAGCTCGCCATACACCTGCGCAACGCCATGACCACTCGCAAGAAGGAAACATACCAGTCTGTGTACAACTGGCAGTATGTGCACTGCCTCTTCCTGTGGTGCCGGGTCCTGAGCACTGCGGGCCCCAGCGAAGCCCTCCAGCCCTTGGTCTACCCCCTTGCCCAAGTCATCATTGGCTGTATCAAGCTCATCCCCACTGCCCGCTTCTACCCGCTGCGAATGCACTGCATCCGTGCCCTGACGCTGCTCTCGGGGAGCTCGGGGGCCTTCATCCCGGTGCTGCCTTTCATCCTGGAGATGTTCCAGCAGGTCGACTTCAACAGGAAGCCAGGGCGCATGAGCTCCAAGCCCATCAACTTCTCCGTGATCCTGAAGCTGTCCAATGTCAACCTGCAGGAGAAGGCGTACCGGGACGGCCTGGTGGAGCAGCTGTACGACCTCACCCTGGAGTACCTGCACAGCCAGGCACACTGCATCGGCTTCCCGGAGCTGGTGCTGCCTGTGGTCCTGCAGCTGAAGTCGTTCCTCCGGGAGTGCAAGGTGGCCAACTACTGCCGGCAGGTGCAGCAGCTGCTTGGGAAGGTTCAGGAGAACTCGGCATACATCTGCAGCCGCCGCCAGAGGGTTTCCTTCGGCGTCTCTGAGCAGCAGGCAGTGGAAGCCTGGGAGAAGCTGACCCGGGAAGAGGGGACACCCCTGACCTTGTACTACAGCCACTGGCGCAAGCTGCGTGACCGGGAGATCCAGCTGGAGATCAGTGGCAAAGAGCGGCTGGAAGACCTGAACTTCCCTGAGATCAAACGAAGGAAGATGGCTGACAGGAAGGATGAGGACAGGAAGCAATTTAAAGACCTCTTTGACCTGAACAGCTCTGAAGAGGACGACACCGAGGGATTCTCGGAGAGAGGGATACTGAGGCCCCTGAGCACTCGGCATGGGGTGGAAGACGATGAAGAGGACGAGGAGGAGGGCGAGGAGGACAGCAGCAACTCGGAGGATGGAGACCCAGACGCAGAGGCGGGGCTGGCCCCTGGGGAGCTGCAGCAGCTGGCCCAGGGGCCGGAGGACGAGCTGGAGGATCTGCAGCTCTCAGAGGACGACTGA\n",
      "lcl|NC_000001.11_cds_XP_006710663.1_18 [gene=KLHL17] [db_xref=GeneID:339451] [protein=kelch-like protein 17 isoform X1] [protein_id=XP_006710663.1] [location=join(960694..960800,961293..961552,961629..961750,961826..962047,962286..962471,962704..962917,963109..963253,963337..963504,963920..964008,964107..964180,964349..964530,964963..965191)] [gbkey=CDS]\n",
      "ATGCAGCCCCGCAGCGAGCGCCCGGCCGGCAGGACGCAGAGCCCGGAGCACGGCAGCCCGGGGCCCGGGCCCGAGGCGCCGCCGCCTCCACCGCCGCAGCCGCCGGCCCCCGAGGCAGAGCGCACGCGGCCCCGGCAGGCTCGGCCCGCAGCCCCCATGGAGGGAGCCGTGCAGCTGCTGAGCCGCGAGGGCCACAGCGTGGCCCACAACTCCAAGCGGCACTACCACGATGCCTTCGTGGCCATGAGCCGCATGCGCCAGCGCGGCCTCCTGTGCGACATCGTCCTGCACGTGGCTGCCAAGGAGATCCGTGCGCACAAAGTGGTGCTGGCCTCCTGCAGCCCCTACTTCCACGCCATGTTCACAAATGAGATGAGCGAGAGCCGCCAGACCCACGTGACGCTGCACGACATCGACCCTCAGGCCTTGGACCAGCTGGTGCAGTTTGCCTACACGGCTGAGATTGTGGTGGGCGAGGGCAATGTGCAGACTCTGCTCCCAGCCGCCAGTCTCCTGCAGCTGAATGGCGTCCGAGACGCTTGCTGCAAGTTTCTACTGAGTCAGCTCGACCCCTCCAACTGCCTGGGTATCCGGGGCTTTGCCGATGCGCACTCCTGCAGCGACCTGCTCAAGGCCGCCCACAGGTACGTGCTGCAGCACTTCGTGGACGTGGCCAAGACCGAGGAGTTTATGCTGCTGCCCCTGAAACAGGCATCTTCAGGGCTCCCTGGGTCCACAGGACCCTCCCCAGATCTCAGGTCTGAGGACCCCCACTCCCAGGTTCTGGAACTGGTCTCTAGCGACAGCCTGAACGTGCCTTCAGAGGAGGAGGTCTACCGAGCCGTCCTGAGCTGGGTGAAACACGACGTGGACGCCCGCAGGCAGCATGTCCCACGGCTCATGAAGTGTGTGCGGCTGCCCTTGCTGAGCCGCGACTTCCTGCTGGGCCACGTGGATGCCGAGAGCCTGGTGAGGCACCACCCTGACTGCAAGGACCTCCTCATCGAGGCCCTGAAGTTCCACCTGCTGCCTGAGCAGAGGGGCGTCCTAGGCACCAGCCGCACACGTCCCCGGCGCTGCGAGGGGGCCGGGCCTGTGCTTTTTGCTGTGGGCGGCGGGAGCCTGTTTGCCATCCACGGAGACTGTGAGGCCTACGACACGCGCACCGACCGCTGGCACGTGGTGGCCTCCATGTCCACGCGCCGGGCCCGGGTGGGAGTGGCTGCGGTGGGGAACCGGCTCTATGCTGTGGGCGGCTATGATGGGACCTCAGACCTGGCTACCGTGGAGTCCTACGACCCCGTGACTAACACGTGGCAGCCGGAGGTGTCCATGGGCACAAGGCGAAGCTGCCTGGGTGTGGCCGCCTTGCATGGACTCCTGTACTCGGCCGGCGGCTATGACGGGGCCTCCTGCCTGAACAGTGCTGAACGCTACGACCCCCTGACCGGAACGTGGACGTCCGTCGCTGCCATGAGCACCCGGAGGCGCTATGTGCGAGTGGCCACGCTTGATGGGAACCTGTATGCTGTGGGCGGCTACGACAGCTCCTCACACCTGGCCACTGTGGAGAAGTATGAGCCCCAGGTGAACGTGTGGTCGCCCGTGGCGTCCATGCTGAGCCGACGCAGCTCAGCGGGCGTGGCCGTGCTGGAGGGTGCCCTGTACGTGGCAGGGGGCAACGACGGCACCAGCTGCCTCAACTCGGTAGAGAGATACAGTCCAAAGGCTGGAGCCTGGGAAAGCGTGGCGCCCATGAATATCCGCAGGAGCACGCATGACCTGGTGGCCATGGACGGATGGTTGTACGCCGTGGGGGGTAACGACGGTAGCTCCAGCCTCAACTCCATCGAGAAGTACAACCCGAGGACCAACAAGTGGGTGGCCGCATCCTGCATGTTCACCCGGCGCAGCAGTGTGGGTGTGGCGGTGCTGGAGCTGCTCAATTTCCCGCCGCCATCCTCCCCGACGCTGTCCGTGTCCTCCACCAGCCTCTGA\n",
      "lcl|NC_000001.11_cds_NP_938073.1_19 [gene=KLHL17] [db_xref=CCDS:CCDS30550.1,Ensembl:ENSP00000343930.3,GeneID:339451] [protein=kelch-like protein 17] [protein_id=NP_938073.1] [location=join(960694..960800,961293..961552,961629..961750,961826..962047,962355..962471,962704..962917,963109..963253,963337..963504,963920..964008,964107..964180,964349..964530,964963..965191)] [gbkey=CDS]\n",
      "ATGCAGCCCCGCAGCGAGCGCCCGGCCGGCAGGACGCAGAGCCCGGAGCACGGCAGCCCGGGGCCCGGGCCCGAGGCGCCGCCGCCTCCACCGCCGCAGCCGCCGGCCCCCGAGGCAGAGCGCACGCGGCCCCGGCAGGCTCGGCCCGCAGCCCCCATGGAGGGAGCCGTGCAGCTGCTGAGCCGCGAGGGCCACAGCGTGGCCCACAACTCCAAGCGGCACTACCACGATGCCTTCGTGGCCATGAGCCGCATGCGCCAGCGCGGCCTCCTGTGCGACATCGTCCTGCACGTGGCTGCCAAGGAGATCCGTGCGCACAAAGTGGTGCTGGCCTCCTGCAGCCCCTACTTCCACGCCATGTTCACAAATGAGATGAGCGAGAGCCGCCAGACCCACGTGACGCTGCACGACATCGACCCTCAGGCCTTGGACCAGCTGGTGCAGTTTGCCTACACGGCTGAGATTGTGGTGGGCGAGGGCAATGTGCAGACTCTGCTCCCAGCCGCCAGTCTCCTGCAGCTGAATGGCGTCCGAGACGCTTGCTGCAAGTTTCTACTGAGTCAGCTCGACCCCTCCAACTGCCTGGGTATCCGGGGCTTTGCCGATGCGCACTCCTGCAGCGACCTGCTCAAGGCCGCCCACAGGTACGTGCTGCAGCACTTCGTGGACGTGGCCAAGACCGAGGAGTTTATGCTGCTGCCCCTGAAACAGGTTCTGGAACTGGTCTCTAGCGACAGCCTGAACGTGCCTTCAGAGGAGGAGGTCTACCGAGCCGTCCTGAGCTGGGTGAAACACGACGTGGACGCCCGCAGGCAGCATGTCCCACGGCTCATGAAGTGTGTGCGGCTGCCCTTGCTGAGCCGCGACTTCCTGCTGGGCCACGTGGATGCCGAGAGCCTGGTGAGGCACCACCCTGACTGCAAGGACCTCCTCATCGAGGCCCTGAAGTTCCACCTGCTGCCTGAGCAGAGGGGCGTCCTAGGCACCAGCCGCACACGTCCCCGGCGCTGCGAGGGGGCCGGGCCTGTGCTTTTTGCTGTGGGCGGCGGGAGCCTGTTTGCCATCCACGGAGACTGTGAGGCCTACGACACGCGCACCGACCGCTGGCACGTGGTGGCCTCCATGTCCACGCGCCGGGCCCGGGTGGGAGTGGCTGCGGTGGGGAACCGGCTCTATGCTGTGGGCGGCTATGATGGGACCTCAGACCTGGCTACCGTGGAGTCCTACGACCCCGTGACTAACACGTGGCAGCCGGAGGTGTCCATGGGCACAAGGCGAAGCTGCCTGGGTGTGGCCGCCTTGCATGGACTCCTGTACTCGGCCGGCGGCTATGACGGGGCCTCCTGCCTGAACAGTGCTGAACGCTACGACCCCCTGACCGGAACGTGGACGTCCGTCGCTGCCATGAGCACCCGGAGGCGCTATGTGCGAGTGGCCACGCTTGATGGGAACCTGTATGCTGTGGGCGGCTACGACAGCTCCTCACACCTGGCCACTGTGGAGAAGTATGAGCCCCAGGTGAACGTGTGGTCGCCCGTGGCGTCCATGCTGAGCCGACGCAGCTCAGCGGGCGTGGCCGTGCTGGAGGGTGCCCTGTACGTGGCAGGGGGCAACGACGGCACCAGCTGCCTCAACTCGGTAGAGAGATACAGTCCAAAGGCTGGAGCCTGGGAAAGCGTGGCGCCCATGAATATCCGCAGGAGCACGCATGACCTGGTGGCCATGGACGGATGGTTGTACGCCGTGGGGGGTAACGACGGTAGCTCCAGCCTCAACTCCATCGAGAAGTACAACCCGAGGACCAACAAGTGGGTGGCCGCATCCTGCATGTTCACCCGGCGCAGCAGTGTGGGTGTGGCGGTGCTGGAGCTGCTCAATTTCCCGCCGCCATCCTCCCCGACGCTGTCCGTGTCCTCCACCAGCCTCTGA\n",
      "lcl|NC_000001.11_cds_XP_006710664.1_20 [gene=KLHL17] [db_xref=GeneID:339451] [protein=kelch-like protein 17 isoform X2] [protein_id=XP_006710664.1] [location=join(960694..960800,961293..961552,961629..961750,961826..962047,962286..962471,962704..962917,963032..963312)] [gbkey=CDS]\n",
      "ATGCAGCCCCGCAGCGAGCGCCCGGCCGGCAGGACGCAGAGCCCGGAGCACGGCAGCCCGGGGCCCGGGCCCGAGGCGCCGCCGCCTCCACCGCCGCAGCCGCCGGCCCCCGAGGCAGAGCGCACGCGGCCCCGGCAGGCTCGGCCCGCAGCCCCCATGGAGGGAGCCGTGCAGCTGCTGAGCCGCGAGGGCCACAGCGTGGCCCACAACTCCAAGCGGCACTACCACGATGCCTTCGTGGCCATGAGCCGCATGCGCCAGCGCGGCCTCCTGTGCGACATCGTCCTGCACGTGGCTGCCAAGGAGATCCGTGCGCACAAAGTGGTGCTGGCCTCCTGCAGCCCCTACTTCCACGCCATGTTCACAAATGAGATGAGCGAGAGCCGCCAGACCCACGTGACGCTGCACGACATCGACCCTCAGGCCTTGGACCAGCTGGTGCAGTTTGCCTACACGGCTGAGATTGTGGTGGGCGAGGGCAATGTGCAGACTCTGCTCCCAGCCGCCAGTCTCCTGCAGCTGAATGGCGTCCGAGACGCTTGCTGCAAGTTTCTACTGAGTCAGCTCGACCCCTCCAACTGCCTGGGTATCCGGGGCTTTGCCGATGCGCACTCCTGCAGCGACCTGCTCAAGGCCGCCCACAGGTACGTGCTGCAGCACTTCGTGGACGTGGCCAAGACCGAGGAGTTTATGCTGCTGCCCCTGAAACAGGCATCTTCAGGGCTCCCTGGGTCCACAGGACCCTCCCCAGATCTCAGGTCTGAGGACCCCCACTCCCAGGTTCTGGAACTGGTCTCTAGCGACAGCCTGAACGTGCCTTCAGAGGAGGAGGTCTACCGAGCCGTCCTGAGCTGGGTGAAACACGACGTGGACGCCCGCAGGCAGCATGTCCCACGGCTCATGAAGTGTGTGCGGCTGCCCTTGCTGAGCCGCGACTTCCTGCTGGGCCACGTGGATGCCGAGAGCCTGGTGAGGCACCACCCTGACTGCAAGGACCTCCTCATCGAGGCCCTGAAGTTCCACCTGCTGCCTGAGCAGAGGGGCGTCCTAGGCACCAGCCGCACACGTCCCCGGCGCTGCGAGGGGGCCGGGCCTGTGCTTTTTGCTGTGGGGGCCTCTCCAGGAGCCTGGGGTGTGGCCCAGCAGTGGGATCCACTCACGAGTCCCGTCTCCACCTGCCCTCCCCAGGCGGCGGGAGCCTGTTTGCCATCCACGGAGACTGTGAGGCCTACGACACGCGCACCGACCGCTGGCACGTGGTGGCCTCCATGTCCACGCGCCGGGCCCGGGTGGGAGTGGCTGCGGTGGGGAACCGGCTCTATGCTGTGGGCGGGTAAGCCTGGAGGCTGGACTTGGGTCGGGTCTGGCACGTGCCCGCCAGGCCAGTCTTGA\n",
      "lcl|NC_000001.11_cds_XP_011540550.2_21 [gene=PLEKHN1] [db_xref=GeneID:84069] [protein=pleckstrin homology domain-containing family N member 1 isoform X1] [protein_id=XP_011540550.2] [location=join(966208..966614,966704..966803,970277..970423,970521..970601,970686..971006,971077..971208,971324..971404,972075..972150,972288..972424,972861..973010,973186..973326,973500..973640,973833..974051,974316..974364,974442..974575)] [gbkey=CDS]\n",
      "ATGTGTGGGCACGTTGTCCCGGGGGGCCTGGAAGGTCGCCCCGGGTTCACCAAGCCGGAGCACAAGCAGGTGGGGTACCTCTGCACACTGGAGGCCTCGTCTGGGCCAGAGGGGTGCTTGCCCCAAGGCTGGCCTCTCGAGTGGAGGGCCCAGGGCAGAGACCTGCACGGCTCAGGTAGGGGCCAGGCCTCTTCCAGAAAGGCTCCACCCTCGCCCAGGCCCTGGTGCCGGGCGGGACGTCCCGGAGCCCCGCCTGCCCGCGGGAGGCGGGGGCAGGAGGCTGTGGACAGGGACCCAGACTTGCCGACCTGTACGACTCTGGCCATGGGGAACAGCCACTGTGTCCCTCAGGCCCCCAGGAGGCTCCGGGCCTCCTTCTCCAGAAAGCCCTCGCTGAAGGGAAACAGAGAGGACAGCGCGCGGATGTCGGCCGGCCTGCCGGGCCCCGAGGCTGCTCGAAGCGGGGACGCCGCCGCCAACAAGCTCTTCCACTACATCCCGGGCACGGACATCCTGGACCTGGAGAACCAGCGAGAAAACCTGGAGCAGCCATTCCTGAGTGTGTTCAAGAAGGGGCGGCGGAGGGTGCCTGTGAGGAACCTGGGAAAAGTTGTGCATTACGCCAAGGTCCAGCTGCGGTTCCAGCACAGCCAGGATGTCAGCGACTGCTACCTGGAGCTATTCCCCGCCCACCTGTACTTCCAGGCCCACGGCTCGGAAGGACTCACATTTCAGGGGCTGTTACCGCTGACGGAGCTGAGTGTCTGCCCGCTCGAGGGGTCCCGAGAGCACGCCTTCCAGATCACAGGTGTTTGGGATGCTTCCCGGGCCCCCAGAGGCACTCCTGACCCAGGACTTGGAGAGGGGCCTGCCCTGTGGCTGCGGAGCACGTGTGTGTATGTGTGTGCCCTCTCTGCCCTGCCCGCAGGCCCACTGCCCGCACCCCTCCTGGTGCTCTGCCCCAGCCGGGCCGAGCTGGACCGCTGGCTTTACCACCTGGAGAAGCAGACGGCCCTCCTCGGGGGGCCGCGGCGCTGCCACTCGGCACCCCCACAGGGGTCCTGCGGAGACGAACTCCCCTGGACTTTGCAGCGCCGTCTAACCCGGCTGCGGACGGCGTCAGGGCACGAACCCGGCGGCAGTGCTGTCTGTGCCTCGAGGGTCAAGCTGCAGCACCTGCCCGCACAGGAGCAGTGGGACCGGCTCTTGGTCCTGTACCCAACGTCCTTGGCCATTTTCTCCGAGGAGCTGGACGGGCTTTGCTTCAAGGGGGAGCTCCCACTCCGTGCCGTCCACATCAACCTGGAGGAGAAGGAGAAGCAGATCCGCTCCTTCCTGATTGAAGGCCCCCTCATCAACACCATCCGCGTGGTGTGCGCCAGCTACGAGGACTACGGTCACTGGCTGCTGTGCCTTCGCGCTGTCACCCACAGGGAGGGGGCCCCGCCGCTGCCTGGTGCCGAGAGCTTCCCAGGGTCGCAGGTTATGGGCAGTGGCCGAGGCTCACTCTCCTCAGGCGGACAGACCAGCTGGGACTCGGGGTGCTTGGCGCCCCCCTCCACCCGCACCAGCCACTCCCTGCCTGAGTCCTCAGTGCCATCCACCGTGGGCTGCTCCTCCCAGCACACACCGGACCAGGCCAACTCTGACCGTGCCAGCATTGGCCGACGGAGGACCGAGCTGAGACGCAGTGGCAGCAGCCGGTCACCCGGGAGCAAGGCCCGGGCAGAGGGCCGCGGCCCTGTCACCCCACTGCACCTGGACCTGACCCAGCTGCACAGGCTGAGCCTGGAGAGCAGCCCAGATGCCCCTGACCACACTTCGGAAACATCACACTCGCCCCTCTATGCCGACCCCTACACACCACCCGCCACCTCCCACCGCAGGGTCACAGATGTCCGGGGCCTGGAGGAGTTCCTCAGTGCCATGCAGAGTGCACGTGGACCCACGCCCTCGAGCCCACTCCCCTCGGTGCCTGTGTCTGTGCCTGCCTCTGACCCTCGCTCCTGCTCCTCCGGCCCCGCTGGCCCCTACTTGCTCTCCAAGAAGGGAGCCCTGCAGTCCAGAGCCGCTCAGAGACACCGGGGCTCAGCCAAGGATGGGGGGCCGCAGCCCCCAGACGCCCCTCAGCTTGTCTCCTCTGCCAGGGAAGGTTCGCCCGAACCCTGGCTGCCTCTGACAGATGGTCGGTCCCCCAGGAGGAGCCGGGACCCCGGCTACGACCACCTCTGGGACGAGACTTTGTCTTCCTCCCACCAGAAGTGCCCCCAGCTTGGAGGGCCTGAGGCCAGTGGGGGGCTTGTGCAGTGGATCTGA\n",
      "lcl|NC_000001.11_cds_XP_016857964.1_22 [gene=PLEKHN1] [db_xref=GeneID:84069] [protein=pleckstrin homology domain-containing family N member 1 isoform X4] [protein_id=XP_016857964.1] [location=join(966208..966614,966704..966803,970277..970423,970521..970601,970686..971006,971077..971208,971324..971404,972075..972150,972288..972424,972861..973010,973186..973326,973833..974051,974316..974364,974442..974575)] [gbkey=CDS]\n",
      "ATGTGTGGGCACGTTGTCCCGGGGGGCCTGGAAGGTCGCCCCGGGTTCACCAAGCCGGAGCACAAGCAGGTGGGGTACCTCTGCACACTGGAGGCCTCGTCTGGGCCAGAGGGGTGCTTGCCCCAAGGCTGGCCTCTCGAGTGGAGGGCCCAGGGCAGAGACCTGCACGGCTCAGGTAGGGGCCAGGCCTCTTCCAGAAAGGCTCCACCCTCGCCCAGGCCCTGGTGCCGGGCGGGACGTCCCGGAGCCCCGCCTGCCCGCGGGAGGCGGGGGCAGGAGGCTGTGGACAGGGACCCAGACTTGCCGACCTGTACGACTCTGGCCATGGGGAACAGCCACTGTGTCCCTCAGGCCCCCAGGAGGCTCCGGGCCTCCTTCTCCAGAAAGCCCTCGCTGAAGGGAAACAGAGAGGACAGCGCGCGGATGTCGGCCGGCCTGCCGGGCCCCGAGGCTGCTCGAAGCGGGGACGCCGCCGCCAACAAGCTCTTCCACTACATCCCGGGCACGGACATCCTGGACCTGGAGAACCAGCGAGAAAACCTGGAGCAGCCATTCCTGAGTGTGTTCAAGAAGGGGCGGCGGAGGGTGCCTGTGAGGAACCTGGGAAAAGTTGTGCATTACGCCAAGGTCCAGCTGCGGTTCCAGCACAGCCAGGATGTCAGCGACTGCTACCTGGAGCTATTCCCCGCCCACCTGTACTTCCAGGCCCACGGCTCGGAAGGACTCACATTTCAGGGGCTGTTACCGCTGACGGAGCTGAGTGTCTGCCCGCTCGAGGGGTCCCGAGAGCACGCCTTCCAGATCACAGGTGTTTGGGATGCTTCCCGGGCCCCCAGAGGCACTCCTGACCCAGGACTTGGAGAGGGGCCTGCCCTGTGGCTGCGGAGCACGTGTGTGTATGTGTGTGCCCTCTCTGCCCTGCCCGCAGGCCCACTGCCCGCACCCCTCCTGGTGCTCTGCCCCAGCCGGGCCGAGCTGGACCGCTGGCTTTACCACCTGGAGAAGCAGACGGCCCTCCTCGGGGGGCCGCGGCGCTGCCACTCGGCACCCCCACAGGGGTCCTGCGGAGACGAACTCCCCTGGACTTTGCAGCGCCGTCTAACCCGGCTGCGGACGGCGTCAGGGCACGAACCCGGCGGCAGTGCTGTCTGTGCCTCGAGGGTCAAGCTGCAGCACCTGCCCGCACAGGAGCAGTGGGACCGGCTCTTGGTCCTGTACCCAACGTCCTTGGCCATTTTCTCCGAGGAGCTGGACGGGCTTTGCTTCAAGGGGGAGCTCCCACTCCGTGCCGTCCACATCAACCTGGAGGAGAAGGAGAAGCAGATCCGCTCCTTCCTGATTGAAGGCCCCCTCATCAACACCATCCGCGTGGTGTGCGCCAGCTACGAGGACTACGGTCACTGGCTGCTGTGCCTTCGCGCTGTCACCCACAGGGAGGGGGCCCCGCCGCTGCCTGGTGCCGAGAGCTTCCCAGGGTCGCAGGTTATGGGCAGTGGCCGAGGCTCACTCTCCTCAGGCGGACAGACCAGCTGGGACTCGGGGTGCTTGGCGCCCCCCTCCACCCGCACCAGCCACTCCCTGCCTGAGTCCTCAGTGCCATCCACCGTGGGCTGCTCCTCCCAGCACACACCGGACCAGGCCAACTCTGACCGTGCCAGCATTGGCCGACGGAGGACCGAGCTGAGACGCAGTGGCAGCAGCCGGTCACCCGGGAGCAAGGCCCGGGCAGAGGGCCGCGGCCCTGTCACCCCACTGCACCTGGACCTGACCCAGTTCCTCAGTGCCATGCAGAGTGCACGTGGACCCACGCCCTCGAGCCCACTCCCCTCGGTGCCTGTGTCTGTGCCTGCCTCTGACCCTCGCTCCTGCTCCTCCGGCCCCGCTGGCCCCTACTTGCTCTCCAAGAAGGGAGCCCTGCAGTCCAGAGCCGCTCAGAGACACCGGGGCTCAGCCAAGGATGGGGGGCCGCAGCCCCCAGACGCCCCTCAGCTTGTCTCCTCTGCCAGGGAAGGTTCGCCCGAACCCTGGCTGCCTCTGACAGATGGTCGGTCCCCCAGGAGGAGCCGGGACCCCGGCTACGACCACCTCTGGGACGAGACTTTGTCTTCCTCCCACCAGAAGTGCCCCCAGCTTGGAGGGCCTGAGGCCAGTGGGGGGCTTGTGCAGTGGATCTGA\n",
      "lcl|NC_000001.11_cds_XP_016857963.1_23 [gene=PLEKHN1] [db_xref=GeneID:84069] [protein=pleckstrin homology domain-containing family N member 1 isoform X3] [protein_id=XP_016857963.1] [location=join(966208..966614,966704..966803,970277..970423,970521..970601,970686..971006,971077..971208,971324..971404,972075..972150,972288..972424,972861..973010,973500..973640,973833..974051,974316..974364,974442..974575)] [gbkey=CDS]\n",
      "ATGTGTGGGCACGTTGTCCCGGGGGGCCTGGAAGGTCGCCCCGGGTTCACCAAGCCGGAGCACAAGCAGGTGGGGTACCTCTGCACACTGGAGGCCTCGTCTGGGCCAGAGGGGTGCTTGCCCCAAGGCTGGCCTCTCGAGTGGAGGGCCCAGGGCAGAGACCTGCACGGCTCAGGTAGGGGCCAGGCCTCTTCCAGAAAGGCTCCACCCTCGCCCAGGCCCTGGTGCCGGGCGGGACGTCCCGGAGCCCCGCCTGCCCGCGGGAGGCGGGGGCAGGAGGCTGTGGACAGGGACCCAGACTTGCCGACCTGTACGACTCTGGCCATGGGGAACAGCCACTGTGTCCCTCAGGCCCCCAGGAGGCTCCGGGCCTCCTTCTCCAGAAAGCCCTCGCTGAAGGGAAACAGAGAGGACAGCGCGCGGATGTCGGCCGGCCTGCCGGGCCCCGAGGCTGCTCGAAGCGGGGACGCCGCCGCCAACAAGCTCTTCCACTACATCCCGGGCACGGACATCCTGGACCTGGAGAACCAGCGAGAAAACCTGGAGCAGCCATTCCTGAGTGTGTTCAAGAAGGGGCGGCGGAGGGTGCCTGTGAGGAACCTGGGAAAAGTTGTGCATTACGCCAAGGTCCAGCTGCGGTTCCAGCACAGCCAGGATGTCAGCGACTGCTACCTGGAGCTATTCCCCGCCCACCTGTACTTCCAGGCCCACGGCTCGGAAGGACTCACATTTCAGGGGCTGTTACCGCTGACGGAGCTGAGTGTCTGCCCGCTCGAGGGGTCCCGAGAGCACGCCTTCCAGATCACAGGTGTTTGGGATGCTTCCCGGGCCCCCAGAGGCACTCCTGACCCAGGACTTGGAGAGGGGCCTGCCCTGTGGCTGCGGAGCACGTGTGTGTATGTGTGTGCCCTCTCTGCCCTGCCCGCAGGCCCACTGCCCGCACCCCTCCTGGTGCTCTGCCCCAGCCGGGCCGAGCTGGACCGCTGGCTTTACCACCTGGAGAAGCAGACGGCCCTCCTCGGGGGGCCGCGGCGCTGCCACTCGGCACCCCCACAGGGGTCCTGCGGAGACGAACTCCCCTGGACTTTGCAGCGCCGTCTAACCCGGCTGCGGACGGCGTCAGGGCACGAACCCGGCGGCAGTGCTGTCTGTGCCTCGAGGGTCAAGCTGCAGCACCTGCCCGCACAGGAGCAGTGGGACCGGCTCTTGGTCCTGTACCCAACGTCCTTGGCCATTTTCTCCGAGGAGCTGGACGGGCTTTGCTTCAAGGGGGAGCTCCCACTCCGTGCCGTCCACATCAACCTGGAGGAGAAGGAGAAGCAGATCCGCTCCTTCCTGATTGAAGGCCCCCTCATCAACACCATCCGCGTGGTGTGCGCCAGCTACGAGGACTACGGTCACTGGCTGCTGTGCCTTCGCGCTGTCACCCACAGGGAGGGGGCCCCGCCGCTGCCTGGTGCCGAGAGCTTCCCAGGGTCGCAGGTTATGGGCAGTGGCCGAGGCTCACTCTCCTCAGGCGGACAGACCAGCTGGGACTCGGGGTGCTTGGCGCCCCCCTCCACCCGCACCAGCCACTCCCTGCCTGAGTCCTCAGTGCCATCCACCGTGGGCTGCTCCTCCCAGCACACACCGCTGCACAGGCTGAGCCTGGAGAGCAGCCCAGATGCCCCTGACCACACTTCGGAAACATCACACTCGCCCCTCTATGCCGACCCCTACACACCACCCGCCACCTCCCACCGCAGGGTCACAGATGTCCGGGGCCTGGAGGAGTTCCTCAGTGCCATGCAGAGTGCACGTGGACCCACGCCCTCGAGCCCACTCCCCTCGGTGCCTGTGTCTGTGCCTGCCTCTGACCCTCGCTCCTGCTCCTCCGGCCCCGCTGGCCCCTACTTGCTCTCCAAGAAGGGAGCCCTGCAGTCCAGAGCCGCTCAGAGACACCGGGGCTCAGCCAAGGATGGGGGGCCGCAGCCCCCAGACGCCCCTCAGCTTGTCTCCTCTGCCAGGGAAGGTTCGCCCGAACCCTGGCTGCCTCTGACAGATGGTCGGTCCCCCAGGAGGAGCCGGGACCCCGGCTACGACCACCTCTGGGACGAGACTTTGTCTTCCTCCCACCAGAAGTGCCCCCAGCTTGGAGGGCCTGAGGCCAGTGGGGGGCTTGTGCAGTGGATCTGA\n",
      "lcl|NC_000001.11_cds_XP_016857965.1_24 [gene=PLEKHN1] [db_xref=GeneID:84069] [protein=pleckstrin homology domain-containing family N member 1 isoform X5] [protein_id=XP_016857965.1] [location=join(966208..966614,966704..966803,970277..970423,970521..970601,970686..971006,971077..971208,971324..971404,972075..972150,972288..972424,972861..973010,973833..974051,974316..974364,974442..974575)] [gbkey=CDS]\n",
      "ATGTGTGGGCACGTTGTCCCGGGGGGCCTGGAAGGTCGCCCCGGGTTCACCAAGCCGGAGCACAAGCAGGTGGGGTACCTCTGCACACTGGAGGCCTCGTCTGGGCCAGAGGGGTGCTTGCCCCAAGGCTGGCCTCTCGAGTGGAGGGCCCAGGGCAGAGACCTGCACGGCTCAGGTAGGGGCCAGGCCTCTTCCAGAAAGGCTCCACCCTCGCCCAGGCCCTGGTGCCGGGCGGGACGTCCCGGAGCCCCGCCTGCCCGCGGGAGGCGGGGGCAGGAGGCTGTGGACAGGGACCCAGACTTGCCGACCTGTACGACTCTGGCCATGGGGAACAGCCACTGTGTCCCTCAGGCCCCCAGGAGGCTCCGGGCCTCCTTCTCCAGAAAGCCCTCGCTGAAGGGAAACAGAGAGGACAGCGCGCGGATGTCGGCCGGCCTGCCGGGCCCCGAGGCTGCTCGAAGCGGGGACGCCGCCGCCAACAAGCTCTTCCACTACATCCCGGGCACGGACATCCTGGACCTGGAGAACCAGCGAGAAAACCTGGAGCAGCCATTCCTGAGTGTGTTCAAGAAGGGGCGGCGGAGGGTGCCTGTGAGGAACCTGGGAAAAGTTGTGCATTACGCCAAGGTCCAGCTGCGGTTCCAGCACAGCCAGGATGTCAGCGACTGCTACCTGGAGCTATTCCCCGCCCACCTGTACTTCCAGGCCCACGGCTCGGAAGGACTCACATTTCAGGGGCTGTTACCGCTGACGGAGCTGAGTGTCTGCCCGCTCGAGGGGTCCCGAGAGCACGCCTTCCAGATCACAGGTGTTTGGGATGCTTCCCGGGCCCCCAGAGGCACTCCTGACCCAGGACTTGGAGAGGGGCCTGCCCTGTGGCTGCGGAGCACGTGTGTGTATGTGTGTGCCCTCTCTGCCCTGCCCGCAGGCCCACTGCCCGCACCCCTCCTGGTGCTCTGCCCCAGCCGGGCCGAGCTGGACCGCTGGCTTTACCACCTGGAGAAGCAGACGGCCCTCCTCGGGGGGCCGCGGCGCTGCCACTCGGCACCCCCACAGGGGTCCTGCGGAGACGAACTCCCCTGGACTTTGCAGCGCCGTCTAACCCGGCTGCGGACGGCGTCAGGGCACGAACCCGGCGGCAGTGCTGTCTGTGCCTCGAGGGTCAAGCTGCAGCACCTGCCCGCACAGGAGCAGTGGGACCGGCTCTTGGTCCTGTACCCAACGTCCTTGGCCATTTTCTCCGAGGAGCTGGACGGGCTTTGCTTCAAGGGGGAGCTCCCACTCCGTGCCGTCCACATCAACCTGGAGGAGAAGGAGAAGCAGATCCGCTCCTTCCTGATTGAAGGCCCCCTCATCAACACCATCCGCGTGGTGTGCGCCAGCTACGAGGACTACGGTCACTGGCTGCTGTGCCTTCGCGCTGTCACCCACAGGGAGGGGGCCCCGCCGCTGCCTGGTGCCGAGAGCTTCCCAGGGTCGCAGGTTATGGGCAGTGGCCGAGGCTCACTCTCCTCAGGCGGACAGACCAGCTGGGACTCGGGGTGCTTGGCGCCCCCCTCCACCCGCACCAGCCACTCCCTGCCTGAGTCCTCAGTGCCATCCACCGTGGGCTGCTCCTCCCAGCACACACCGTTCCTCAGTGCCATGCAGAGTGCACGTGGACCCACGCCCTCGAGCCCACTCCCCTCGGTGCCTGTGTCTGTGCCTGCCTCTGACCCTCGCTCCTGCTCCTCCGGCCCCGCTGGCCCCTACTTGCTCTCCAAGAAGGGAGCCCTGCAGTCCAGAGCCGCTCAGAGACACCGGGGCTCAGCCAAGGATGGGGGGCCGCAGCCCCCAGACGCCCCTCAGCTTGTCTCCTCTGCCAGGGAAGGTTCGCCCGAACCCTGGCTGCCTCTGACAGATGGTCGGTCCCCCAGGAGGAGCCGGGACCCCGGCTACGACCACCTCTGGGACGAGACTTTGTCTTCCTCCCACCAGAAGTGCCCCCAGCTTGGAGGGCCTGAGGCCAGTGGGGGGCTTGTGCAGTGGATCTGA\n",
      "lcl|NC_000001.11_cds_XP_016857966.1_25 [gene=PLEKHN1] [db_xref=GeneID:84069] [protein=pleckstrin homology domain-containing family N member 1 isoform X6] [protein_id=XP_016857966.1] [location=join(966208..966614,966704..966803,970277..970423,970521..970601,970686..971006,971077..971208,971324..971404,972075..972150,972288..972424,972895..973010,973833..974051,974316..974361)] [gbkey=CDS]\n",
      "ATGTGTGGGCACGTTGTCCCGGGGGGCCTGGAAGGTCGCCCCGGGTTCACCAAGCCGGAGCACAAGCAGGTGGGGTACCTCTGCACACTGGAGGCCTCGTCTGGGCCAGAGGGGTGCTTGCCCCAAGGCTGGCCTCTCGAGTGGAGGGCCCAGGGCAGAGACCTGCACGGCTCAGGTAGGGGCCAGGCCTCTTCCAGAAAGGCTCCACCCTCGCCCAGGCCCTGGTGCCGGGCGGGACGTCCCGGAGCCCCGCCTGCCCGCGGGAGGCGGGGGCAGGAGGCTGTGGACAGGGACCCAGACTTGCCGACCTGTACGACTCTGGCCATGGGGAACAGCCACTGTGTCCCTCAGGCCCCCAGGAGGCTCCGGGCCTCCTTCTCCAGAAAGCCCTCGCTGAAGGGAAACAGAGAGGACAGCGCGCGGATGTCGGCCGGCCTGCCGGGCCCCGAGGCTGCTCGAAGCGGGGACGCCGCCGCCAACAAGCTCTTCCACTACATCCCGGGCACGGACATCCTGGACCTGGAGAACCAGCGAGAAAACCTGGAGCAGCCATTCCTGAGTGTGTTCAAGAAGGGGCGGCGGAGGGTGCCTGTGAGGAACCTGGGAAAAGTTGTGCATTACGCCAAGGTCCAGCTGCGGTTCCAGCACAGCCAGGATGTCAGCGACTGCTACCTGGAGCTATTCCCCGCCCACCTGTACTTCCAGGCCCACGGCTCGGAAGGACTCACATTTCAGGGGCTGTTACCGCTGACGGAGCTGAGTGTCTGCCCGCTCGAGGGGTCCCGAGAGCACGCCTTCCAGATCACAGGTGTTTGGGATGCTTCCCGGGCCCCCAGAGGCACTCCTGACCCAGGACTTGGAGAGGGGCCTGCCCTGTGGCTGCGGAGCACGTGTGTGTATGTGTGTGCCCTCTCTGCCCTGCCCGCAGGCCCACTGCCCGCACCCCTCCTGGTGCTCTGCCCCAGCCGGGCCGAGCTGGACCGCTGGCTTTACCACCTGGAGAAGCAGACGGCCCTCCTCGGGGGGCCGCGGCGCTGCCACTCGGCACCCCCACAGGGGTCCTGCGGAGACGAACTCCCCTGGACTTTGCAGCGCCGTCTAACCCGGCTGCGGACGGCGTCAGGGCACGAACCCGGCGGCAGTGCTGTCTGTGCCTCGAGGGTCAAGCTGCAGCACCTGCCCGCACAGGAGCAGTGGGACCGGCTCTTGGTCCTGTACCCAACGTCCTTGGCCATTTTCTCCGAGGAGCTGGACGGGCTTTGCTTCAAGGGGGAGCTCCCACTCCGTGCCGTCCACATCAACCTGGAGGAGAAGGAGAAGCAGATCCGCTCCTTCCTGATTGAAGGCCCCCTCATCAACACCATCCGCGTGGTGTGCGCCAGCTACGAGGACTACGGTCACTGGCTGCTGTGCCTTCGCGCTGTCACCCACAGGGAGGGGGCCCCGCCGCTGCCTGGTGCCGAGAGCTTCCCAGGGTCGCAGGCGGACAGACCAGCTGGGACTCGGGGTGCTTGGCGCCCCCCTCCACCCGCACCAGCCACTCCCTGCCTGAGTCCTCAGTGCCATCCACCGTGGGCTGCTCCTCCCAGCACACACCGTTCCTCAGTGCCATGCAGAGTGCACGTGGACCCACGCCCTCGAGCCCACTCCCCTCGGTGCCTGTGTCTGTGCCTGCCTCTGACCCTCGCTCCTGCTCCTCCGGCCCCGCTGGCCCCTACTTGCTCTCCAAGAAGGGAGCCCTGCAGTCCAGAGCCGCTCAGAGACACCGGGGCTCAGCCAAGGATGGGGGGCCGCAGCCCCCAGACGCCCCTCAGCTTGTCTCCTCTGCCAGGGAAGGTTCGCCCGAACCCTGGCTGCCTCTGA\n",
      "lcl|NC_000001.11_cds_XP_016857967.1_26 [gene=PLEKHN1] [db_xref=GeneID:84069] [protein=pleckstrin homology domain-containing family N member 1 isoform X7] [protein_id=XP_016857967.1] [location=join(966208..966614,966704..966803,970277..970423,970521..970601,970686..971006,971077..971208,971324..971404,972075..972150,972288..972424,972895..973010,973500..973512)] [gbkey=CDS]\n",
      "ATGTGTGGGCACGTTGTCCCGGGGGGCCTGGAAGGTCGCCCCGGGTTCACCAAGCCGGAGCACAAGCAGGTGGGGTACCTCTGCACACTGGAGGCCTCGTCTGGGCCAGAGGGGTGCTTGCCCCAAGGCTGGCCTCTCGAGTGGAGGGCCCAGGGCAGAGACCTGCACGGCTCAGGTAGGGGCCAGGCCTCTTCCAGAAAGGCTCCACCCTCGCCCAGGCCCTGGTGCCGGGCGGGACGTCCCGGAGCCCCGCCTGCCCGCGGGAGGCGGGGGCAGGAGGCTGTGGACAGGGACCCAGACTTGCCGACCTGTACGACTCTGGCCATGGGGAACAGCCACTGTGTCCCTCAGGCCCCCAGGAGGCTCCGGGCCTCCTTCTCCAGAAAGCCCTCGCTGAAGGGAAACAGAGAGGACAGCGCGCGGATGTCGGCCGGCCTGCCGGGCCCCGAGGCTGCTCGAAGCGGGGACGCCGCCGCCAACAAGCTCTTCCACTACATCCCGGGCACGGACATCCTGGACCTGGAGAACCAGCGAGAAAACCTGGAGCAGCCATTCCTGAGTGTGTTCAAGAAGGGGCGGCGGAGGGTGCCTGTGAGGAACCTGGGAAAAGTTGTGCATTACGCCAAGGTCCAGCTGCGGTTCCAGCACAGCCAGGATGTCAGCGACTGCTACCTGGAGCTATTCCCCGCCCACCTGTACTTCCAGGCCCACGGCTCGGAAGGACTCACATTTCAGGGGCTGTTACCGCTGACGGAGCTGAGTGTCTGCCCGCTCGAGGGGTCCCGAGAGCACGCCTTCCAGATCACAGGTGTTTGGGATGCTTCCCGGGCCCCCAGAGGCACTCCTGACCCAGGACTTGGAGAGGGGCCTGCCCTGTGGCTGCGGAGCACGTGTGTGTATGTGTGTGCCCTCTCTGCCCTGCCCGCAGGCCCACTGCCCGCACCCCTCCTGGTGCTCTGCCCCAGCCGGGCCGAGCTGGACCGCTGGCTTTACCACCTGGAGAAGCAGACGGCCCTCCTCGGGGGGCCGCGGCGCTGCCACTCGGCACCCCCACAGGGGTCCTGCGGAGACGAACTCCCCTGGACTTTGCAGCGCCGTCTAACCCGGCTGCGGACGGCGTCAGGGCACGAACCCGGCGGCAGTGCTGTCTGTGCCTCGAGGGTCAAGCTGCAGCACCTGCCCGCACAGGAGCAGTGGGACCGGCTCTTGGTCCTGTACCCAACGTCCTTGGCCATTTTCTCCGAGGAGCTGGACGGGCTTTGCTTCAAGGGGGAGCTCCCACTCCGTGCCGTCCACATCAACCTGGAGGAGAAGGAGAAGCAGATCCGCTCCTTCCTGATTGAAGGCCCCCTCATCAACACCATCCGCGTGGTGTGCGCCAGCTACGAGGACTACGGTCACTGGCTGCTGTGCCTTCGCGCTGTCACCCACAGGGAGGGGGCCCCGCCGCTGCCTGGTGCCGAGAGCTTCCCAGGGTCGCAGGCGGACAGACCAGCTGGGACTCGGGGTGCTTGGCGCCCCCCTCCACCCGCACCAGCCACTCCCTGCCTGAGTCCTCAGTGCCATCCACCGTGGGCTGCTCCTCCCAGCACACACCGCTGCACAGGCTGA\n",
      "lcl|NC_000001.11_cds_XP_016857968.1_27 [gene=PLEKHN1] [db_xref=GeneID:84069] [protein=pleckstrin homology domain-containing family N member 1 isoform X8] [protein_id=XP_016857968.1] [location=join(966208..966614,966704..966803,970277..970423,970521..970601,970686..971006,971077..971219,971324..971404,972075..972144)] [gbkey=CDS]\n",
      "ATGTGTGGGCACGTTGTCCCGGGGGGCCTGGAAGGTCGCCCCGGGTTCACCAAGCCGGAGCACAAGCAGGTGGGGTACCTCTGCACACTGGAGGCCTCGTCTGGGCCAGAGGGGTGCTTGCCCCAAGGCTGGCCTCTCGAGTGGAGGGCCCAGGGCAGAGACCTGCACGGCTCAGGTAGGGGCCAGGCCTCTTCCAGAAAGGCTCCACCCTCGCCCAGGCCCTGGTGCCGGGCGGGACGTCCCGGAGCCCCGCCTGCCCGCGGGAGGCGGGGGCAGGAGGCTGTGGACAGGGACCCAGACTTGCCGACCTGTACGACTCTGGCCATGGGGAACAGCCACTGTGTCCCTCAGGCCCCCAGGAGGCTCCGGGCCTCCTTCTCCAGAAAGCCCTCGCTGAAGGGAAACAGAGAGGACAGCGCGCGGATGTCGGCCGGCCTGCCGGGCCCCGAGGCTGCTCGAAGCGGGGACGCCGCCGCCAACAAGCTCTTCCACTACATCCCGGGCACGGACATCCTGGACCTGGAGAACCAGCGAGAAAACCTGGAGCAGCCATTCCTGAGTGTGTTCAAGAAGGGGCGGCGGAGGGTGCCTGTGAGGAACCTGGGAAAAGTTGTGCATTACGCCAAGGTCCAGCTGCGGTTCCAGCACAGCCAGGATGTCAGCGACTGCTACCTGGAGCTATTCCCCGCCCACCTGTACTTCCAGGCCCACGGCTCGGAAGGACTCACATTTCAGGGGCTGTTACCGCTGACGGAGCTGAGTGTCTGCCCGCTCGAGGGGTCCCGAGAGCACGCCTTCCAGATCACAGGTGTTTGGGATGCTTCCCGGGCCCCCAGAGGCACTCCTGACCCAGGACTTGGAGAGGGGCCTGCCCTGTGGCTGCGGAGCACGTGTGTGTATGTGTGTGCCCTCTCTGCCCTGCCCGCAGGCCCACTGCCCGCACCCCTCCTGGTGCTCTGCCCCAGCCGGGCCGAGCTGGACCGCTGGCTTTACCACCTGGAGAAGCAGACGGCCCTCCTCGGGGGGCCGCGGCGCTGCCACTCGGCACCCCCACAGGGGTCCTGCGGAGACGAACTCCCCTGGACTTTGCAGCGCCGTCTAACCCGGCTGCGGACGGCGTCAGGGCACGAACCCGGCGGCAGTGCTGTCTGTGCCTCGAGGGTCAAGCTGCAGCACCTGCCCGCACAGGTGGGTGGGAGGAGCAGTGGGACCGGCTCTTGGTCCTGTACCCAACGTCCTTGGCCATTTTCTCCGAGGAGCTGGACGGGCTTTGCTTCAAGGGGGAGCTCCCACTCCGTGCCGTCCACATCAACCTGGAGGAGAAGGAGAAGCAGATCCGCTCCTTCCTGA\n",
      "lcl|NC_000001.11_cds_NP_001354481.1_28 [gene=PLEKHN1] [db_xref=GeneID:84069] [protein=pleckstrin homology domain-containing family N member 1 isoform c] [protein_id=NP_001354481.1] [location=join(966532..966614,966704..966803,970277..970423,970521..970601,970686..970758,970879..971006,971077..971208,971324..971404,972075..972150,972288..972424,972861..973010,973186..973326,973500..973640,973833..974051,974316..974364,974442..974575)] [gbkey=CDS]\n",
      "ATGGGGAACAGCCACTGTGTCCCTCAGGCCCCCAGGAGGCTCCGGGCCTCCTTCTCCAGAAAGCCCTCGCTGAAGGGAAACAGAGAGGACAGCGCGCGGATGTCGGCCGGCCTGCCGGGCCCCGAGGCTGCTCGAAGCGGGGACGCCGCCGCCAACAAGCTCTTCCACTACATCCCGGGCACGGACATCCTGGACCTGGAGAACCAGCGAGAAAACCTGGAGCAGCCATTCCTGAGTGTGTTCAAGAAGGGGCGGCGGAGGGTGCCTGTGAGGAACCTGGGAAAAGTTGTGCATTACGCCAAGGTCCAGCTGCGGTTCCAGCACAGCCAGGATGTCAGCGACTGCTACCTGGAGCTATTCCCCGCCCACCTGTACTTCCAGGCCCACGGCTCGGAAGGACTCACATTTCAGGGGCTGTTACCGCTGACGGAGCTGAGTGTCTGCCCGCTCGAGGGGTCCCGAGAGCACGCCTTCCAGATCACAGGCCCACTGCCCGCACCCCTCCTGGTGCTCTGCCCCAGCCGGGCCGAGCTGGACCGCTGGCTTTACCACCTGGAGAAGCAGACGGCCCTCCTCGGGGGGCCGCGGCGCTGCCACTCGGCACCCCCACAGGGGTCCTGCGGAGACGAACTCCCCTGGACTTTGCAGCGCCGTCTAACCCGGCTGCGGACGGCGTCAGGGCACGAACCCGGCGGCAGTGCTGTCTGTGCCTCGAGGGTCAAGCTGCAGCACCTGCCCGCACAGGAGCAGTGGGACCGGCTCTTGGTCCTGTACCCAACGTCCTTGGCCATTTTCTCCGAGGAGCTGGACGGGCTTTGCTTCAAGGGGGAGCTCCCACTCCGTGCCGTCCACATCAACCTGGAGGAGAAGGAGAAGCAGATCCGCTCCTTCCTGATTGAAGGCCCCCTCATCAACACCATCCGCGTGGTGTGCGCCAGCTACGAGGACTACGGTCACTGGCTGCTGTGCCTTCGCGCTGTCACCCACAGGGAGGGGGCCCCGCCGCTGCCTGGTGCCGAGAGCTTCCCAGGGTCGCAGGTTATGGGCAGTGGCCGAGGCTCACTCTCCTCAGGCGGACAGACCAGCTGGGACTCGGGGTGCTTGGCGCCCCCCTCCACCCGCACCAGCCACTCCCTGCCTGAGTCCTCAGTGCCATCCACCGTGGGCTGCTCCTCCCAGCACACACCGGACCAGGCCAACTCTGACCGTGCCAGCATTGGCCGACGGAGGACCGAGCTGAGACGCAGTGGCAGCAGCCGGTCACCCGGGAGCAAGGCCCGGGCAGAGGGCCGCGGCCCTGTCACCCCACTGCACCTGGACCTGACCCAGCTGCACAGGCTGAGCCTGGAGAGCAGCCCAGATGCCCCTGACCACACTTCGGAAACATCACACTCGCCCCTCTATGCCGACCCCTACACACCACCCGCCACCTCCCACCGCAGGGTCACAGATGTCCGGGGCCTGGAGGAGTTCCTCAGTGCCATGCAGAGTGCACGTGGACCCACGCCCTCGAGCCCACTCCCCTCGGTGCCTGTGTCTGTGCCTGCCTCTGACCCTCGCTCCTGCTCCTCCGGCCCCGCTGGCCCCTACTTGCTCTCCAAGAAGGGAGCCCTGCAGTCCAGAGCCGCTCAGAGACACCGGGGCTCAGCCAAGGATGGGGGGCCGCAGCCCCCAGACGCCCCTCAGCTTGTCTCCTCTGCCAGGGAAGGTTCGCCCGAACCCTGGCTGCCTCTGACAGATGGTCGGTCCCCCAGGAGGAGCCGGGACCCCGGCTACGACCACCTCTGGGACGAGACTTTGTCTTCCTCCCACCAGAAGTGCCCCCAGCTTGGAGGGCCTGAGGCCAGTGGGGGGCTTGTGCAGTGGATCTGA\n",
      "lcl|NC_000001.11_cds_NP_001153656.1_29 [gene=PLEKHN1] [db_xref=CCDS:CCDS53256.1,GeneID:84069] [protein=pleckstrin homology domain-containing family N member 1 isoform b] [protein_id=NP_001153656.1] [location=join(966532..966614,966704..966803,970277..970423,970521..970601,970686..970758,970879..971006,971077..971208,971324..971404,972075..972150,972288..972424,972861..973010,973500..973640,973833..974051,974316..974364,974442..974575)] [gbkey=CDS]\n",
      "ATGGGGAACAGCCACTGTGTCCCTCAGGCCCCCAGGAGGCTCCGGGCCTCCTTCTCCAGAAAGCCCTCGCTGAAGGGAAACAGAGAGGACAGCGCGCGGATGTCGGCCGGCCTGCCGGGCCCCGAGGCTGCTCGAAGCGGGGACGCCGCCGCCAACAAGCTCTTCCACTACATCCCGGGCACGGACATCCTGGACCTGGAGAACCAGCGAGAAAACCTGGAGCAGCCATTCCTGAGTGTGTTCAAGAAGGGGCGGCGGAGGGTGCCTGTGAGGAACCTGGGAAAAGTTGTGCATTACGCCAAGGTCCAGCTGCGGTTCCAGCACAGCCAGGATGTCAGCGACTGCTACCTGGAGCTATTCCCCGCCCACCTGTACTTCCAGGCCCACGGCTCGGAAGGACTCACATTTCAGGGGCTGTTACCGCTGACGGAGCTGAGTGTCTGCCCGCTCGAGGGGTCCCGAGAGCACGCCTTCCAGATCACAGGCCCACTGCCCGCACCCCTCCTGGTGCTCTGCCCCAGCCGGGCCGAGCTGGACCGCTGGCTTTACCACCTGGAGAAGCAGACGGCCCTCCTCGGGGGGCCGCGGCGCTGCCACTCGGCACCCCCACAGGGGTCCTGCGGAGACGAACTCCCCTGGACTTTGCAGCGCCGTCTAACCCGGCTGCGGACGGCGTCAGGGCACGAACCCGGCGGCAGTGCTGTCTGTGCCTCGAGGGTCAAGCTGCAGCACCTGCCCGCACAGGAGCAGTGGGACCGGCTCTTGGTCCTGTACCCAACGTCCTTGGCCATTTTCTCCGAGGAGCTGGACGGGCTTTGCTTCAAGGGGGAGCTCCCACTCCGTGCCGTCCACATCAACCTGGAGGAGAAGGAGAAGCAGATCCGCTCCTTCCTGATTGAAGGCCCCCTCATCAACACCATCCGCGTGGTGTGCGCCAGCTACGAGGACTACGGTCACTGGCTGCTGTGCCTTCGCGCTGTCACCCACAGGGAGGGGGCCCCGCCGCTGCCTGGTGCCGAGAGCTTCCCAGGGTCGCAGGTTATGGGCAGTGGCCGAGGCTCACTCTCCTCAGGCGGACAGACCAGCTGGGACTCGGGGTGCTTGGCGCCCCCCTCCACCCGCACCAGCCACTCCCTGCCTGAGTCCTCAGTGCCATCCACCGTGGGCTGCTCCTCCCAGCACACACCGCTGCACAGGCTGAGCCTGGAGAGCAGCCCAGATGCCCCTGACCACACTTCGGAAACATCACACTCGCCCCTCTATGCCGACCCCTACACACCACCCGCCACCTCCCACCGCAGGGTCACAGATGTCCGGGGCCTGGAGGAGTTCCTCAGTGCCATGCAGAGTGCACGTGGACCCACGCCCTCGAGCCCACTCCCCTCGGTGCCTGTGTCTGTGCCTGCCTCTGACCCTCGCTCCTGCTCCTCCGGCCCCGCTGGCCCCTACTTGCTCTCCAAGAAGGGAGCCCTGCAGTCCAGAGCCGCTCAGAGACACCGGGGCTCAGCCAAGGATGGGGGGCCGCAGCCCCCAGACGCCCCTCAGCTTGTCTCCTCTGCCAGGGAAGGTTCGCCCGAACCCTGGCTGCCTCTGACAGATGGTCGGTCCCCCAGGAGGAGCCGGGACCCCGGCTACGACCACCTCTGGGACGAGACTTTGTCTTCCTCCCACCAGAAGTGCCCCCAGCTTGGAGGGCCTGAGGCCAGTGGGGGGCTTGTGCAGTGGATCTGA\n",
      "lcl|NC_000001.11_cds_NP_115505.2_30 [gene=PLEKHN1] [db_xref=CCDS:CCDS4.1,Ensembl:ENSP00000368720.3,GeneID:84069] [protein=pleckstrin homology domain-containing family N member 1 isoform a] [protein_id=NP_115505.2] [location=join(966532..966614,966704..966803,970277..970423,970521..970601,970686..970758,970879..971006,971113..971208,971324..971404,972075..972150,972288..972424,972861..973010,973186..973326,973500..973640,973833..974051,974316..974364,974442..974575)] [gbkey=CDS]\n",
      "ATGGGGAACAGCCACTGTGTCCCTCAGGCCCCCAGGAGGCTCCGGGCCTCCTTCTCCAGAAAGCCCTCGCTGAAGGGAAACAGAGAGGACAGCGCGCGGATGTCGGCCGGCCTGCCGGGCCCCGAGGCTGCTCGAAGCGGGGACGCCGCCGCCAACAAGCTCTTCCACTACATCCCGGGCACGGACATCCTGGACCTGGAGAACCAGCGAGAAAACCTGGAGCAGCCATTCCTGAGTGTGTTCAAGAAGGGGCGGCGGAGGGTGCCTGTGAGGAACCTGGGAAAAGTTGTGCATTACGCCAAGGTCCAGCTGCGGTTCCAGCACAGCCAGGATGTCAGCGACTGCTACCTGGAGCTATTCCCCGCCCACCTGTACTTCCAGGCCCACGGCTCGGAAGGACTCACATTTCAGGGGCTGTTACCGCTGACGGAGCTGAGTGTCTGCCCGCTCGAGGGGTCCCGAGAGCACGCCTTCCAGATCACAGGCCCACTGCCCGCACCCCTCCTGGTGCTCTGCCCCAGCCGGGCCGAGCTGGACCGCTGGCTTTACCACCTGGAGAAGCAGACGGCCCTCCTCGGGGGGCCGCGGCGCTGCCACTCGGCACCCCCACAGCGCCGTCTAACCCGGCTGCGGACGGCGTCAGGGCACGAACCCGGCGGCAGTGCTGTCTGTGCCTCGAGGGTCAAGCTGCAGCACCTGCCCGCACAGGAGCAGTGGGACCGGCTCTTGGTCCTGTACCCAACGTCCTTGGCCATTTTCTCCGAGGAGCTGGACGGGCTTTGCTTCAAGGGGGAGCTCCCACTCCGTGCCGTCCACATCAACCTGGAGGAGAAGGAGAAGCAGATCCGCTCCTTCCTGATTGAAGGCCCCCTCATCAACACCATCCGCGTGGTGTGCGCCAGCTACGAGGACTACGGTCACTGGCTGCTGTGCCTTCGCGCTGTCACCCACAGGGAGGGGGCCCCGCCGCTGCCTGGTGCCGAGAGCTTCCCAGGGTCGCAGGTTATGGGCAGTGGCCGAGGCTCACTCTCCTCAGGCGGACAGACCAGCTGGGACTCGGGGTGCTTGGCGCCCCCCTCCACCCGCACCAGCCACTCCCTGCCTGAGTCCTCAGTGCCATCCACCGTGGGCTGCTCCTCCCAGCACACACCGGACCAGGCCAACTCTGACCGTGCCAGCATTGGCCGACGGAGGACCGAGCTGAGACGCAGTGGCAGCAGCCGGTCACCCGGGAGCAAGGCCCGGGCAGAGGGCCGCGGCCCTGTCACCCCACTGCACCTGGACCTGACCCAGCTGCACAGGCTGAGCCTGGAGAGCAGCCCAGATGCCCCTGACCACACTTCGGAAACATCACACTCGCCCCTCTATGCCGACCCCTACACACCACCCGCCACCTCCCACCGCAGGGTCACAGATGTCCGGGGCCTGGAGGAGTTCCTCAGTGCCATGCAGAGTGCACGTGGACCCACGCCCTCGAGCCCACTCCCCTCGGTGCCTGTGTCTGTGCCTGCCTCTGACCCTCGCTCCTGCTCCTCCGGCCCCGCTGGCCCCTACTTGCTCTCCAAGAAGGGAGCCCTGCAGTCCAGAGCCGCTCAGAGACACCGGGGCTCAGCCAAGGATGGGGGGCCGCAGCCCCCAGACGCCCCTCAGCTTGTCTCCTCTGCCAGGGAAGGTTCGCCCGAACCCTGGCTGCCTCTGACAGATGGTCGGTCCCCCAGGAGGAGCCGGGACCCCGGCTACGACCACCTCTGGGACGAGACTTTGTCTTCCTCCCACCAGAAGTGCCCCCAGCTTGGAGGGCCTGAGGCCAGTGGGGGGCTTGTGCAGTGGATCTGA\n",
      "lcl|NC_000001.11_cds_NP_001278296.2_31 [gene=PERM1] [db_xref=GeneID:84808] [protein=PGC-1 and ERR-induced regulator in muscle protein 1 isoform 2] [protein_id=NP_001278296.2] [location=complement(join(976172..976269,976499..976624,978881..980657,981137..981166))] [gbkey=CDS]\n",
      "ATGGAGCCCCGAGGCGGTGGGAGCTCCCAGTTCTCATCCTGCCCTGGTCCGGCGTCTTCTGGAGACCAGATGCAGAGGCTTCTGCAGGGCCCTGCCCCACGGCCCCCTGGTGAGCCCCCTGGGAGTCCCAAGTCCCCTGGCCACAGCACTGGCTCCCAGAGGCCCCCCGATAGCCCTGGAGCCCCACCACGGAGCCCCAGCCGAAAGAAGAGGCGAGCTGTGGGTGCCAAGGGGGGTGGGCACACAGGAGCCTCTGCTTCTGCCCAGACGGGCTCCCCGCTGCTCCCTGCGGCCAGTCCTGAGACGGCAAAGCTGATGGCCAAAGCCGGGCAGGAGGAGTTGGGGCCAGGTCCTGCAGGAGCTCCTGAGCCTGGCCCCAGGTCCCCTGTGCAGGAAGACAGACCAGGGCCAGGTTTGGGCCTGTCTACACCTGTCCCTGTGACAGAGCAAGGCACAGACCAAATCAGAACCCCGCGCCGAGCCAAGCTGCACACAGTGTCCACGACTGTCTGGGAAGCCCTCCCAGATGTCTCAAGGGCTAAGTCAGACATGGCTGTGTCTACACCTGCCTCCGAGCCGCAACCTGACAGGGACATGGCTGTGTCTACACCTGCCTCCGAGCCGCAATCTGACAGGGACATGGCTGTGTCTACACCTGCCTCTGAGCCGCAACCTGACACGGACATGGCTGTGTCTACACCTGCCTCTGAGCCGCAACCTGACAGGGACATGGCTGTGTCTATACCTGCCTCCAAGCCGCAATCTGACACGGCTGTGTCTACACCAGCTTCTGAGCCTCAGTCCAGTGTGGCTCTGTCTACACCCATCTCCAAGCCACAATTGGACACGGACGTGGCTGTGTCCACACCTGCCTCCAAACATGGCCTGGATGTGGCCTTGCCTACAGCAGGCCCAGTGGCTAAGCTAGAGGTGGCTTCATCTCCACCTGTCTCGGAGGCTGTGCCGAGGATGACCGAGTCCAGCGGGCTTGTGTCTACACCTGTTCCCAGAGCCGACGCCGCTGGCCTCGCCTGGCCTCCCACCCGCAGAGCTGGGCCTGATGTGGTGGAGATGGAGGCGGTTGTGTCTGAGCCCTCAGCAGGGGCCCCCGGATGCTGCTCTGGGGCACCCGCACTGGGTCTCACCCAAGTCCCCAGGAAGAAGAAAGTGCGCTTCTCCGTGGCTGGGCCCAGCCCCAATAAGCCAGGCTCAGGACAGGCCTCAGCCCGGCCCTCAGCCCCCCAGACAGCAACTGGGGCCCACGGGGGGCCCGGAGCCTGGGAGGCTGTGGCTGTCGGGCCCCGGCCCCACCAGCCTCGGATCCTCAAGCACCTGCCTCGCCCCCCTCCCTCTGCCGTGACGAGGGTCGGGCCCGGGAGCAGCTTTGCCGTGACCCTCCCGGAGGCCTACGAGTTCTTCTTCTGTGACACCATCGAGGAGAACGAAGAGGCTGAGGCGGCAGCGGCCGGTCAGGATCCGGCAGGCGTCCAGTGGCCGGACATGTGCGAGTTCTTCTTCCCAGACGTTGGAGCCCAGAGGTCGAGGCGGCGGGGGTCCCCGGAGCCGCTCCCGAGAGCTGATCCTGTGCCGGCCCCCATACCTGGAGACCCCGTGCCCATCTCCATCCCTGAGGTCTATGAACACTTCTTCTTCGGGGAGGACAGGCTTGAGGGCGTGCTGGGGCCGGCTGTCCCGCTCCCACTGCAGGCCCTGGAGCCTCCCCGGTCGGCCTCCGAGGGGGCGGGGCCTGGGACCCCCCTCAAGCCAGCCGTGGTAGAGCGGCTCCACCTGGCTCTTAGACGGGCAGGGGAGCTCCGGGGGCCTGTCCCATCATTTGCCTTCAGCCAGAATGACATGTGCCTGGTGTTTGTAGCTTTTGCCACCTGGGCTGTGAGGACGTCAGATCCGCATACCCCAGACGCCTGGAAAACAGCCTTGCTGGCCAACGTCGGCACCATCTCTGCCATCCGCTACTTCCGCCGGCAGGTGGGGCAAGGGCGCCGCAGCCACAGCCCCAGCCCCAGCTCCTAG\n",
      "lcl|NC_000001.11_cds_NP_001356827.1_32 [gene=PERM1] [db_xref=GeneID:84808] [protein=PGC-1 and ERR-induced regulator in muscle protein 1 isoform 3] [protein_id=NP_001356827.1] [location=complement(join(976172..976269,976499..976558,978881..981029))] [gbkey=CDS]\n",
      "ATGGAAAATTTCCAGTACAGCGTCCAGCTGAGTGACCAGGACTGGGCCGAGTTCTCAGCCACCGCCGATGAGTGTGGCCTCCTGCAGGCCGGCCTGGCCTCTGGGGACGAGCTCTTGTCCAGTGACATTGACCAAGGGGACAGCAGTGGCAGCAGTCCCCCCAGGGCCCCACCTCTCCCAACTGGGCAGCTAGCTGCAGGAGGGCGGAGCCGGCGGGGCTGCGAGGAGGAGGACGTGGCCACACAGCAGCCGGTCAGCAGGTCTCAGGGTGAGCCTGTCTTGGCCCTGGGGACCGGTCAGCAGACACCCAGCACGTCCGCACGGGCAGAAGCTCCACCGTCCCTCGGCCCCGGCGCCAGCCCTCCCAGCCAGTTCTCATCCTGCCCTGGTCCGGCGTCTTCTGGAGACCAGATGCAGAGGCTTCTGCAGGGCCCTGCCCCACGGCCCCCTGGTGAGCCCCCTGGGAGTCCCAAGTCCCCTGGCCACAGCACTGGCTCCCAGAGGCCCCCCGATAGCCCTGGAGCCCCACCACGGAGCCCCAGCCGAAAGAAGAGGCGAGCTGTGGGTGCCAAGGGGGGTGGGCACACAGGAGCCTCTGCTTCTGCCCAGACGGGCTCCCCGCTGCTCCCTGCGGCCAGTCCTGAGACGGCAAAGCTGATGGCCAAAGCCGGGCAGGAGGAGTTGGGGCCAGGTCCTGCAGGAGCTCCTGAGCCTGGCCCCAGGTCCCCTGTGCAGGAAGACAGACCAGGGCCAGGTTTGGGCCTGTCTACACCTGTCCCTGTGACAGAGCAAGGCACAGACCAAATCAGAACCCCGCGCCGAGCCAAGCTGCACACAGTGTCCACGACTGTCTGGGAAGCCCTCCCAGATGTCTCAAGGGCTAAGTCAGACATGGCTGTGTCTACACCTGCCTCCGAGCCGCAACCTGACAGGGACATGGCTGTGTCTACACCTGCCTCCGAGCCGCAATCTGACAGGGACATGGCTGTGTCTACACCTGCCTCTGAGCCGCAACCTGACACGGACATGGCTGTGTCTACACCTGCCTCTGAGCCGCAACCTGACAGGGACATGGCTGTGTCTATACCTGCCTCCAAGCCGCAATCTGACACGGCTGTGTCTACACCAGCTTCTGAGCCTCAGTCCAGTGTGGCTCTGTCTACACCCATCTCCAAGCCACAATTGGACACGGACGTGGCTGTGTCCACACCTGCCTCCAAACATGGCCTGGATGTGGCCTTGCCTACAGCAGGCCCAGTGGCTAAGCTAGAGGTGGCTTCATCTCCACCTGTCTCGGAGGCTGTGCCGAGGATGACCGAGTCCAGCGGGCTTGTGTCTACACCTGTTCCCAGAGCCGACGCCGCTGGCCTCGCCTGGCCTCCCACCCGCAGAGCTGGGCCTGATGTGGTGGAGATGGAGGCGGTTGTGTCTGAGCCCTCAGCAGGGGCCCCCGGATGCTGCTCTGGGGCACCCGCACTGGGTCTCACCCAAGTCCCCAGGAAGAAGAAAGTGCGCTTCTCCGTGGCTGGGCCCAGCCCCAATAAGCCAGGCTCAGGACAGGCCTCAGCCCGGCCCTCAGCCCCCCAGACAGCAACTGGGGCCCACGGGGGGCCCGGAGCCTGGGAGGCTGTGGCTGTCGGGCCCCGGCCCCACCAGCCTCGGATCCTCAAGCACCTGCCTCGCCCCCCTCCCTCTGCCGTGACGAGGGTCGGGCCCGGGAGCAGCTTTGCCGTGACCCTCCCGGAGGCCTACGAGTTCTTCTTCTGTGACACCATCGAGGAGAACGAAGAGGCTGAGGCGGCAGCGGCCGGTCAGGATCCGGCAGGCGTCCAGTGGCCGGACATGTGCGAGTTCTTCTTCCCAGACGTTGGAGCCCAGAGGTCGAGGCGGCGGGGGTCCCCGGAGCCGCTCCCGAGAGCTGATCCTGTGCCGGCCCCCATACCTGGAGACCCCGTGCCCATCTCCATCCCTGAGGTCTATGAACACTTCTTCTTCGGGGAGGACAGGCTTGAGGGCGTGCTGGGGCCGGCTGTCCCGCTCCCACTGCAGGCCCTGGAGCCTCCCCGGTCGGCCTCCGAGGGGGCGGGGCCTGGGACCCCCCTCAAGCCAGCCGTGGTAGAGCGGCTCCACCTGGCTCTTAGACGGGCAGCTTTTGCCACCTGGGCTGTGAGGACGTCAGATCCGCATACCCCAGACGCCTGGAAAACAGCCTTGCTGGCCAACGTCGGCACCATCTCTGCCATCCGCTACTTCCGCCGGCAGGTGGGGCAAGGGCGCCGCAGCCACAGCCCCAGCCCCAGCTCCTAG\n",
      "lcl|NC_000001.11_cds_XP_016858072.1_33 [gene=PERM1] [db_xref=GeneID:84808] [protein=PGC-1 and ERR-induced regulator in muscle protein 1 isoform X1] [protein_id=XP_016858072.1] [location=complement(join(976172..976269,976499..976624,978881..981029))] [gbkey=CDS]\n",
      "ATGGAAAATTTCCAGTACAGCGTCCAGCTGAGTGACCAGGACTGGGCCGAGTTCTCAGCCACCGCCGATGAGTGTGGCCTCCTGCAGGCCGGCCTGGCCTCTGGGGACGAGCTCTTGTCCAGTGACATTGACCAAGGGGACAGCAGTGGCAGCAGTCCCCCCAGGGCCCCACCTCTCCCAACTGGGCAGCTAGCTGCAGGAGGGCGGAGCCGGCGGGGCTGCGAGGAGGAGGACGTGGCCACACAGCAGCCGGTCAGCAGGTCTCAGGGTGAGCCTGTCTTGGCCCTGGGGACCGGTCAGCAGACACCCAGCACGTCCGCACGGGCAGAAGCTCCACCGTCCCTCGGCCCCGGCGCCAGCCCTCCCAGCCAGTTCTCATCCTGCCCTGGTCCGGCGTCTTCTGGAGACCAGATGCAGAGGCTTCTGCAGGGCCCTGCCCCACGGCCCCCTGGTGAGCCCCCTGGGAGTCCCAAGTCCCCTGGCCACAGCACTGGCTCCCAGAGGCCCCCCGATAGCCCTGGAGCCCCACCACGGAGCCCCAGCCGAAAGAAGAGGCGAGCTGTGGGTGCCAAGGGGGGTGGGCACACAGGAGCCTCTGCTTCTGCCCAGACGGGCTCCCCGCTGCTCCCTGCGGCCAGTCCTGAGACGGCAAAGCTGATGGCCAAAGCCGGGCAGGAGGAGTTGGGGCCAGGTCCTGCAGGAGCTCCTGAGCCTGGCCCCAGGTCCCCTGTGCAGGAAGACAGACCAGGGCCAGGTTTGGGCCTGTCTACACCTGTCCCTGTGACAGAGCAAGGCACAGACCAAATCAGAACCCCGCGCCGAGCCAAGCTGCACACAGTGTCCACGACTGTCTGGGAAGCCCTCCCAGATGTCTCAAGGGCTAAGTCAGACATGGCTGTGTCTACACCTGCCTCCGAGCCGCAACCTGACAGGGACATGGCTGTGTCTACACCTGCCTCCGAGCCGCAATCTGACAGGGACATGGCTGTGTCTACACCTGCCTCTGAGCCGCAACCTGACACGGACATGGCTGTGTCTACACCTGCCTCTGAGCCGCAACCTGACAGGGACATGGCTGTGTCTATACCTGCCTCCAAGCCGCAATCTGACACGGCTGTGTCTACACCAGCTTCTGAGCCTCAGTCCAGTGTGGCTCTGTCTACACCCATCTCCAAGCCACAATTGGACACGGACGTGGCTGTGTCCACACCTGCCTCCAAACATGGCCTGGATGTGGCCTTGCCTACAGCAGGCCCAGTGGCTAAGCTAGAGGTGGCTTCATCTCCACCTGTCTCGGAGGCTGTGCCGAGGATGACCGAGTCCAGCGGGCTTGTGTCTACACCTGTTCCCAGAGCCGACGCCGCTGGCCTCGCCTGGCCTCCCACCCGCAGAGCTGGGCCTGATGTGGTGGAGATGGAGGCGGTTGTGTCTGAGCCCTCAGCAGGGGCCCCCGGATGCTGCTCTGGGGCACCCGCACTGGGTCTCACCCAAGTCCCCAGGAAGAAGAAAGTGCGCTTCTCCGTGGCTGGGCCCAGCCCCAATAAGCCAGGCTCAGGACAGGCCTCAGCCCGGCCCTCAGCCCCCCAGACAGCAACTGGGGCCCACGGGGGGCCCGGAGCCTGGGAGGCTGTGGCTGTCGGGCCCCGGCCCCACCAGCCTCGGATCCTCAAGCACCTGCCTCGCCCCCCTCCCTCTGCCGTGACGAGGGTCGGGCCCGGGAGCAGCTTTGCCGTGACCCTCCCGGAGGCCTACGAGTTCTTCTTCTGTGACACCATCGAGGAGAACGAAGAGGCTGAGGCGGCAGCGGCCGGTCAGGATCCGGCAGGCGTCCAGTGGCCGGACATGTGCGAGTTCTTCTTCCCAGACGTTGGAGCCCAGAGGTCGAGGCGGCGGGGGTCCCCGGAGCCGCTCCCGAGAGCTGATCCTGTGCCGGCCCCCATACCTGGAGACCCCGTGCCCATCTCCATCCCTGAGGTCTATGAACACTTCTTCTTCGGGGAGGACAGGCTTGAGGGCGTGCTGGGGCCGGCTGTCCCGCTCCCACTGCAGGCCCTGGAGCCTCCCCGGTCGGCCTCCGAGGGGGCGGGGCCTGGGACCCCCCTCAAGCCAGCCGTGGTAGAGCGGCTCCACCTGGCTCTTAGACGGGCAGGGGAGCTCCGGGGGCCTGTCCCATCATTTGCCTTCAGCCAGAATGACATGTGCCTGGTGTTTGTAGCTTTTGCCACCTGGGCTGTGAGGACGTCAGATCCGCATACCCCAGACGCCTGGAAAACAGCCTTGCTGGCCAACGTCGGCACCATCTCTGCCATCCGCTACTTCCGCCGGCAGGTGGGGCAAGGGCGCCGCAGCCACAGCCCCAGCCCCAGCTCCTAG\n",
      "lcl|NC_000001.11_cds_NP_001356826.1_34 [gene=PERM1] [db_xref=GeneID:84808] [protein=PGC-1 and ERR-induced regulator in muscle protein 1 isoform 1] [protein_id=NP_001356826.1] [location=complement(join(976172..976269,976499..976624,978881..981029))] [gbkey=CDS]\n",
      "ATGGAAAATTTCCAGTACAGCGTCCAGCTGAGTGACCAGGACTGGGCCGAGTTCTCAGCCACCGCCGATGAGTGTGGCCTCCTGCAGGCCGGCCTGGCCTCTGGGGACGAGCTCTTGTCCAGTGACATTGACCAAGGGGACAGCAGTGGCAGCAGTCCCCCCAGGGCCCCACCTCTCCCAACTGGGCAGCTAGCTGCAGGAGGGCGGAGCCGGCGGGGCTGCGAGGAGGAGGACGTGGCCACACAGCAGCCGGTCAGCAGGTCTCAGGGTGAGCCTGTCTTGGCCCTGGGGACCGGTCAGCAGACACCCAGCACGTCCGCACGGGCAGAAGCTCCACCGTCCCTCGGCCCCGGCGCCAGCCCTCCCAGCCAGTTCTCATCCTGCCCTGGTCCGGCGTCTTCTGGAGACCAGATGCAGAGGCTTCTGCAGGGCCCTGCCCCACGGCCCCCTGGTGAGCCCCCTGGGAGTCCCAAGTCCCCTGGCCACAGCACTGGCTCCCAGAGGCCCCCCGATAGCCCTGGAGCCCCACCACGGAGCCCCAGCCGAAAGAAGAGGCGAGCTGTGGGTGCCAAGGGGGGTGGGCACACAGGAGCCTCTGCTTCTGCCCAGACGGGCTCCCCGCTGCTCCCTGCGGCCAGTCCTGAGACGGCAAAGCTGATGGCCAAAGCCGGGCAGGAGGAGTTGGGGCCAGGTCCTGCAGGAGCTCCTGAGCCTGGCCCCAGGTCCCCTGTGCAGGAAGACAGACCAGGGCCAGGTTTGGGCCTGTCTACACCTGTCCCTGTGACAGAGCAAGGCACAGACCAAATCAGAACCCCGCGCCGAGCCAAGCTGCACACAGTGTCCACGACTGTCTGGGAAGCCCTCCCAGATGTCTCAAGGGCTAAGTCAGACATGGCTGTGTCTACACCTGCCTCCGAGCCGCAACCTGACAGGGACATGGCTGTGTCTACACCTGCCTCCGAGCCGCAATCTGACAGGGACATGGCTGTGTCTACACCTGCCTCTGAGCCGCAACCTGACACGGACATGGCTGTGTCTACACCTGCCTCTGAGCCGCAACCTGACAGGGACATGGCTGTGTCTATACCTGCCTCCAAGCCGCAATCTGACACGGCTGTGTCTACACCAGCTTCTGAGCCTCAGTCCAGTGTGGCTCTGTCTACACCCATCTCCAAGCCACAATTGGACACGGACGTGGCTGTGTCCACACCTGCCTCCAAACATGGCCTGGATGTGGCCTTGCCTACAGCAGGCCCAGTGGCTAAGCTAGAGGTGGCTTCATCTCCACCTGTCTCGGAGGCTGTGCCGAGGATGACCGAGTCCAGCGGGCTTGTGTCTACACCTGTTCCCAGAGCCGACGCCGCTGGCCTCGCCTGGCCTCCCACCCGCAGAGCTGGGCCTGATGTGGTGGAGATGGAGGCGGTTGTGTCTGAGCCCTCAGCAGGGGCCCCCGGATGCTGCTCTGGGGCACCCGCACTGGGTCTCACCCAAGTCCCCAGGAAGAAGAAAGTGCGCTTCTCCGTGGCTGGGCCCAGCCCCAATAAGCCAGGCTCAGGACAGGCCTCAGCCCGGCCCTCAGCCCCCCAGACAGCAACTGGGGCCCACGGGGGGCCCGGAGCCTGGGAGGCTGTGGCTGTCGGGCCCCGGCCCCACCAGCCTCGGATCCTCAAGCACCTGCCTCGCCCCCCTCCCTCTGCCGTGACGAGGGTCGGGCCCGGGAGCAGCTTTGCCGTGACCCTCCCGGAGGCCTACGAGTTCTTCTTCTGTGACACCATCGAGGAGAACGAAGAGGCTGAGGCGGCAGCGGCCGGTCAGGATCCGGCAGGCGTCCAGTGGCCGGACATGTGCGAGTTCTTCTTCCCAGACGTTGGAGCCCAGAGGTCGAGGCGGCGGGGGTCCCCGGAGCCGCTCCCGAGAGCTGATCCTGTGCCGGCCCCCATACCTGGAGACCCCGTGCCCATCTCCATCCCTGAGGTCTATGAACACTTCTTCTTCGGGGAGGACAGGCTTGAGGGCGTGCTGGGGCCGGCTGTCCCGCTCCCACTGCAGGCCCTGGAGCCTCCCCGGTCGGCCTCCGAGGGGGCGGGGCCTGGGACCCCCCTCAAGCCAGCCGTGGTAGAGCGGCTCCACCTGGCTCTTAGACGGGCAGGGGAGCTCCGGGGGCCTGTCCCATCATTTGCCTTCAGCCAGAATGACATGTGCCTGGTGTTTGTAGCTTTTGCCACCTGGGCTGTGAGGACGTCAGATCCGCATACCCCAGACGCCTGGAAAACAGCCTTGCTGGCCAACGTCGGCACCATCTCTGCCATCCGCTACTTCCGCCGGCAGGTGGGGCAAGGGCGCCGCAGCCACAGCCCCAGCCCCAGCTCCTAG\n",
      "lcl|NC_000001.11_cds_NP_001278295.1_35 [gene=PERM1] [db_xref=CCDS:CCDS76083.1,GeneID:84808] [protein=PGC-1 and ERR-induced regulator in muscle protein 1 isoform 1] [protein_id=NP_001278295.1] [location=complement(join(976172..976269,976499..976624,978881..981029))] [gbkey=CDS]\n",
      "ATGGAAAATTTCCAGTACAGCGTCCAGCTGAGTGACCAGGACTGGGCCGAGTTCTCAGCCACCGCCGATGAGTGTGGCCTCCTGCAGGCCGGCCTGGCCTCTGGGGACGAGCTCTTGTCCAGTGACATTGACCAAGGGGACAGCAGTGGCAGCAGTCCCCCCAGGGCCCCACCTCTCCCAACTGGGCAGCTAGCTGCAGGAGGGCGGAGCCGGCGGGGCTGCGAGGAGGAGGACGTGGCCACACAGCAGCCGGTCAGCAGGTCTCAGGGTGAGCCTGTCTTGGCCCTGGGGACCGGTCAGCAGACACCCAGCACGTCCGCACGGGCAGAAGCTCCACCGTCCCTCGGCCCCGGCGCCAGCCCTCCCAGCCAGTTCTCATCCTGCCCTGGTCCGGCGTCTTCTGGAGACCAGATGCAGAGGCTTCTGCAGGGCCCTGCCCCACGGCCCCCTGGTGAGCCCCCTGGGAGTCCCAAGTCCCCTGGCCACAGCACTGGCTCCCAGAGGCCCCCCGATAGCCCTGGAGCCCCACCACGGAGCCCCAGCCGAAAGAAGAGGCGAGCTGTGGGTGCCAAGGGGGGTGGGCACACAGGAGCCTCTGCTTCTGCCCAGACGGGCTCCCCGCTGCTCCCTGCGGCCAGTCCTGAGACGGCAAAGCTGATGGCCAAAGCCGGGCAGGAGGAGTTGGGGCCAGGTCCTGCAGGAGCTCCTGAGCCTGGCCCCAGGTCCCCTGTGCAGGAAGACAGACCAGGGCCAGGTTTGGGCCTGTCTACACCTGTCCCTGTGACAGAGCAAGGCACAGACCAAATCAGAACCCCGCGCCGAGCCAAGCTGCACACAGTGTCCACGACTGTCTGGGAAGCCCTCCCAGATGTCTCAAGGGCTAAGTCAGACATGGCTGTGTCTACACCTGCCTCCGAGCCGCAACCTGACAGGGACATGGCTGTGTCTACACCTGCCTCCGAGCCGCAATCTGACAGGGACATGGCTGTGTCTACACCTGCCTCTGAGCCGCAACCTGACACGGACATGGCTGTGTCTACACCTGCCTCTGAGCCGCAACCTGACAGGGACATGGCTGTGTCTATACCTGCCTCCAAGCCGCAATCTGACACGGCTGTGTCTACACCAGCTTCTGAGCCTCAGTCCAGTGTGGCTCTGTCTACACCCATCTCCAAGCCACAATTGGACACGGACGTGGCTGTGTCCACACCTGCCTCCAAACATGGCCTGGATGTGGCCTTGCCTACAGCAGGCCCAGTGGCTAAGCTAGAGGTGGCTTCATCTCCACCTGTCTCGGAGGCTGTGCCGAGGATGACCGAGTCCAGCGGGCTTGTGTCTACACCTGTTCCCAGAGCCGACGCCGCTGGCCTCGCCTGGCCTCCCACCCGCAGAGCTGGGCCTGATGTGGTGGAGATGGAGGCGGTTGTGTCTGAGCCCTCAGCAGGGGCCCCCGGATGCTGCTCTGGGGCACCCGCACTGGGTCTCACCCAAGTCCCCAGGAAGAAGAAAGTGCGCTTCTCCGTGGCTGGGCCCAGCCCCAATAAGCCAGGCTCAGGACAGGCCTCAGCCCGGCCCTCAGCCCCCCAGACAGCAACTGGGGCCCACGGGGGGCCCGGAGCCTGGGAGGCTGTGGCTGTCGGGCCCCGGCCCCACCAGCCTCGGATCCTCAAGCACCTGCCTCGCCCCCCTCCCTCTGCCGTGACGAGGGTCGGGCCCGGGAGCAGCTTTGCCGTGACCCTCCCGGAGGCCTACGAGTTCTTCTTCTGTGACACCATCGAGGAGAACGAAGAGGCTGAGGCGGCAGCGGCCGGTCAGGATCCGGCAGGCGTCCAGTGGCCGGACATGTGCGAGTTCTTCTTCCCAGACGTTGGAGCCCAGAGGTCGAGGCGGCGGGGGTCCCCGGAGCCGCTCCCGAGAGCTGATCCTGTGCCGGCCCCCATACCTGGAGACCCCGTGCCCATCTCCATCCCTGAGGTCTATGAACACTTCTTCTTCGGGGAGGACAGGCTTGAGGGCGTGCTGGGGCCGGCTGTCCCGCTCCCACTGCAGGCCCTGGAGCCTCCCCGGTCGGCCTCCGAGGGGGCGGGGCCTGGGACCCCCCTCAAGCCAGCCGTGGTAGAGCGGCTCCACCTGGCTCTTAGACGGGCAGGGGAGCTCCGGGGGCCTGTCCCATCATTTGCCTTCAGCCAGAATGACATGTGCCTGGTGTTTGTAGCTTTTGCCACCTGGGCTGTGAGGACGTCAGATCCGCATACCCCAGACGCCTGGAAAACAGCCTTGCTGGCCAACGTCGGCACCATCTCTGCCATCCGCTACTTCCGCCGGCAGGTGGGGCAAGGGCGCCGCAGCCACAGCCCCAGCCCCAGCTCCTAG\n",
      "lcl|NC_000001.11_cds_XP_005244828.1_36 [gene=HES4] [db_xref=GeneID:57801] [protein=transcription factor HES-4 isoform X1] [protein_id=XP_005244828.1] [location=complement(join(999059..999432,999526..999613,999866..999973))] [gbkey=CDS]\n",
      "ATGGCCGCAGACACGCCGGGGAAACCGAGCGCCTCGCCGATGGCAGGAGCGCCGGCCAGCGCCAGCCGGACCCCAGACAAGCCCCGGAGCGCGGCCGAGCACCGCAAGAGCTCCCGCCACTCGAAGCTGGAGAAGGCGGACATCCTGGAGATGACCGTGAGACACCTGCGGAGCCTGCGTCGCGTGCAGGTGACGGCCGCGCTCAGCGCCGACCCCGCCGTTCTGGGCAAGTACCGCGCCGGCTTCCACGAGTGTCTGGCGGAGGTGAACCGCTTCCTGGCCGGCTGCGAGGGCGTCCCGGCCGACGTGCGCTCCCGCCTGCTGGGCCACCTGGCAGCCTGCCTGCGCCAGCTGGGACCCTCCCGCCGCCCGGCCTCGCTGTCCCCGGCTGCCCCCGCAGAGGCCCCAGCGCCCGAGGTCTACGCGGGCCGCCCGCTGCTGCCATCGCTCGGCGGCCCCTTCCCTCTGCTCGCGCCGCCGCTGCTGCCGGGTCTGACCCGGGCGCTGCCCGCCGCCCCCAGGGCGGGGCCGCAGGGCCCGGGTGGGCCCTGGAGGCCGTGGCTGCGCTGA\n",
      "lcl|NC_000001.11_cds_NP_066993.1_37 [gene=HES4] [db_xref=CCDS:CCDS5.1,Ensembl:ENSP00000304595.7,GeneID:57801] [protein=transcription factor HES-4 isoform 2] [protein_id=NP_066993.1] [location=complement(join(999059..999432,999526..999613,999692..999787,999866..999973))] [gbkey=CDS]\n",
      "ATGGCCGCAGACACGCCGGGGAAACCGAGCGCCTCGCCGATGGCAGGAGCGCCGGCCAGCGCCAGCCGGACCCCAGACAAGCCCCGGAGCGCGGCCGAGCACCGCAAGTCCTCCAAGCCGGTCATGGAGAAGCGGCGCCGAGCGCGTATTAACGAGAGCCTCGCTCAGCTCAAAACCCTCATCCTGGACGCCCTCAGAAAAGAGAGCTCCCGCCACTCGAAGCTGGAGAAGGCGGACATCCTGGAGATGACCGTGAGACACCTGCGGAGCCTGCGTCGCGTGCAGGTGACGGCCGCGCTCAGCGCCGACCCCGCCGTTCTGGGCAAGTACCGCGCCGGCTTCCACGAGTGTCTGGCGGAGGTGAACCGCTTCCTGGCCGGCTGCGAGGGCGTCCCGGCCGACGTGCGCTCCCGCCTGCTGGGCCACCTGGCAGCCTGCCTGCGCCAGCTGGGACCCTCCCGCCGCCCGGCCTCGCTGTCCCCGGCTGCCCCCGCAGAGGCCCCAGCGCCCGAGGTCTACGCGGGCCGCCCGCTGCTGCCATCGCTCGGCGGCCCCTTCCCTCTGCTCGCGCCGCCGCTGCTGCCGGGTCTGACCCGGGCGCTGCCCGCCGCCCCCAGGGCGGGGCCGCAGGGCCCGGGTGGGCCCTGGAGGCCGTGGCTGCGCTGA\n",
      "lcl|NC_000001.11_cds_NP_001135939.1_38 [gene=HES4] [db_xref=CCDS:CCDS44034.1,GeneID:57801] [protein=transcription factor HES-4 isoform 1] [protein_id=NP_001135939.1] [location=complement(join(999059..999432,999526..999613,999692..999973))] [gbkey=CDS]\n",
      "ATGGCCGCAGACACGCCGGGGAAACCGAGCGCCTCGCCGATGGCAGGAGCGCCGGCCAGCGCCAGCCGGACCCCAGACAAGCCCCGGAGCGCGGCCGAGCACCGCAAGGTGGGGTCCCGGCCGGGCGTGAGGGGGGCGACCGGGGGGCGGGAGGGACGCGGGACTCAGCCGGTGCCCGACCCGCAGTCCTCCAAGCCGGTCATGGAGAAGCGGCGCCGAGCGCGTATTAACGAGAGCCTCGCTCAGCTCAAAACCCTCATCCTGGACGCCCTCAGAAAAGAGAGCTCCCGCCACTCGAAGCTGGAGAAGGCGGACATCCTGGAGATGACCGTGAGACACCTGCGGAGCCTGCGTCGCGTGCAGGTGACGGCCGCGCTCAGCGCCGACCCCGCCGTTCTGGGCAAGTACCGCGCCGGCTTCCACGAGTGTCTGGCGGAGGTGAACCGCTTCCTGGCCGGCTGCGAGGGCGTCCCGGCCGACGTGCGCTCCCGCCTGCTGGGCCACCTGGCAGCCTGCCTGCGCCAGCTGGGACCCTCCCGCCGCCCGGCCTCGCTGTCCCCGGCTGCCCCCGCAGAGGCCCCAGCGCCCGAGGTCTACGCGGGCCGCCCGCTGCTGCCATCGCTCGGCGGCCCCTTCCCTCTGCTCGCGCCGCCGCTGCTGCCGGGTCTGACCCGGGCGCTGCCCGCCGCCCCCAGGGCGGGGCCGCAGGGCCCGGGTGGGCCCTGGAGGCCGTGGCTGCGCTGA\n",
      "lcl|NC_000001.11_cds_NP_005092.1_39 [gene=ISG15] [db_xref=CCDS:CCDS6.1,Ensembl:ENSP00000496832.1,GeneID:9636] [protein=ubiquitin-like protein ISG15] [protein_id=NP_005092.1] [location=join(1013574..1013576,1013984..1014478)] [gbkey=CDS]\n",
      "ATGGGCTGGGACCTGACGGTGAAGATGCTGGCGGGCAACGAATTCCAGGTGTCCCTGAGCAGCTCCATGTCGGTGTCAGAGCTGAAGGCGCAGATCACCCAGAAGATCGGCGTGCACGCCTTCCAGCAGCGTCTGGCTGTCCACCCGAGCGGTGTGGCGCTGCAGGACAGGGTCCCCCTTGCCAGCCAGGGCCTGGGCCCCGGCAGCACGGTCCTGCTGGTGGTGGACAAATGCGACGAACCTCTGAGCATCCTGGTGAGGAATAACAAGGGCCGCAGCAGCACCTACGAGGTACGGCTGACGCAGACCGTGGCCCACCTGAAGCAGCAAGTGAGCGGGCTGGAGGGTGTGCAGGACGACCTGTTCTGGCTGACCTTCGAGGGGAAGCCCCTGGAGGACCAGCTCCCGCTGGGGGAGTACGGCCTCAAGCCCCTGAGCACCGTGTTCATGAATCTGCGCCTGCGGGGAGGCGGCACAGAGCCTGGCGGGCGGAGCTAA\n",
      "lcl|NC_000001.11_cds_XP_011539731.1_40 [gene=AGRN] [db_xref=GeneID:375790] [protein=agrin isoform X2] [protein_id=XP_011539731.1] [location=join(1020173..1020373,1022201..1022462,1035277..1035324,1040665..1040880,1041173..1041397,1041478..1041702,1041956..1042162,1043239..1043457,1043538..1043732,1043823..1044023,1044109..1044257,1044334..1044439,1045161..1045277,1045359..1045523,1045733..1045876,1045964..1046088,1046160..1046265,1046397..1046735,1046820..1046957,1047327..1047454,1047573..1047687,1047776..1047895,1048012..1048365,1048867..1049059,1049236..1049451,1049566..1049795,1049903..1050037,1050233..1050329,1050427..1050591,1050726..1050837,1051032..1051043,1051253..1051369,1051453..1051645,1051728..1051815,1053753..1053977,1054448..1054551,1055377..1055399)] [gbkey=CDS]\n",
      "ATGGCCGGCCGGTCCCACCCGGGCCCGCTGCGGCCGCTGCTGCCGCTCCTTGTGGTGGCCGCGTGCGTCCTGCCCGGAGCCGGCGGGACATGCCCGGAGCGCGCGCTGGAGCGGCGCGAGGAGGAGGCGAACGTGGTGCTCACCGGGACGGTGGAGGAGATCCTCAACGTGGACCCGGTGCAGCACACGTACTCCTGCAAGGTTCGGGTCTGGCGGTACTTGAAGGGCAAAGACCTGGTGGCCCGGGAGAGCCTGCTGGACGGCGGCAACAAGGTGGTGATCAGCGGCTTTGGAGACCCCCTCATCTGTGACAACCAGGTGTCCACTGGGGACACCAGGATCTTCTTTGTGAACCCTGCACCCCCATACCTGTGGCCAGCCCACAAGAACGAGCTGATGCTCAACTCCAGCCTCATGCGGATCACCCTGCGGAACCTGGAGGAGGTGGAGTTCTGTGTGGAAGATAAACCCGGGACCCACTTCACTCCAGTGCCTCCGACGCCTCCTGATGCGTGCCGGGGAATGCTGTGCGGCTTCGGCGCCGTGTGCGAGCCCAACGCGGAGGGGCCGGGCCGGGCGTCCTGCGTCTGCAAGAAGAGCCCGTGCCCCAGCGTGGTGGCGCCTGTGTGTGGGTCGGACGCCTCCACCTACAGCAACGAATGCGAGCTGCAGCGGGCGCAGTGCAGCCAGCAGCGCCGCATCCGCCTGCTCAGCCGCGGGCCGTGCGGCTCGCGGGACCCCTGCTCCAACGTGACCTGCAGCTTCGGCAGCACCTGTGCGCGCTCGGCCGACGGGCTGACGGCCTCGTGCCTGTGCCCCGCGACCTGCCGTGGCGCCCCCGAGGGGACCGTCTGCGGCAGCGACGGCGCCGACTACCCCGGCGAGTGCCAGCTCCTGCGCCGCGCCTGCGCCCGCCAGGAGAATGTCTTCAAGAAGTTCGACGGCCCTTGTGACCCCTGTCAGGGCGCCCTCCCTGACCCGAGCCGCAGCTGCCGTGTGAACCCGCGCACGCGGCGCCCTGAGATGCTCCTACGGCCCGAGAGCTGCCCTGCCCGGCAGGCGCCAGTGTGTGGGGACGACGGAGTCACCTACGAAAACGACTGTGTCATGGGCCGATCGGGGGCCGCCCGGGGTCTCCTCCTGCAGAAAGTGCGCTCCGGCCAGTGCCAGGGTCGAGACCAGTGCCCGGAGCCCTGCCGGTTCAATGCCGTGTGCCTGTCCCGCCGTGGCCGTCCCCGCTGCTCCTGCGACCGCGTCACCTGTGACGGGGCCTACAGGCCCGTGTGTGCCCAGGACGGGCGCACGTATGACAGTGATTGCTGGCGGCAGCAGGCTGAGTGCCGGCAGCAGCGTGCCATCCCCAGCAAGCACCAGGGCCCGTGTGACCAGGCCCCGTCCCCATGCCTCGGGGTGCAGTGTGCATTTGGGGCGACGTGTGCTGTGAAGAACGGGCAGGCAGCGTGTGAATGCCTGCAGGCGTGCTCGAGCCTCTACGATCCTGTGTGCGGCAGCGACGGCGTCACATACGGCAGCGCGTGCGAGCTGGAGGCCACGGCCTGTACCCTCGGGCGGGAGATCCAGGTGGCGCGCAAAGGACCCTGTGACCGCTGCGGGCAGTGCCGCTTTGGAGCCCTGTGCGAGGCCGAGACCGGGCGCTGCGTGTGCCCCTCTGAATGCGTGGCTTTGGCCCAGCCCGTGTGTGGCTCCGACGGGCACACGTACCCCAGCGAGTGCATGCTGCACGTGCACGCCTGCACACACCAGATCAGCCTGCACGTGGCCTCAGCTGGACCCTGTGAGACCTGTGGAGATGCCGTGTGTGCTTTTGGGGCTGTGTGCTCCGCAGGGCAGTGTGTGTGTCCCCGGTGTGAGCACCCCCCGCCCGGCCCCGTGTGTGGCAGCGACGGTGTCACCTACGGCAGTGCCTGCGAGCTACGGGAAGCCGCCTGCCTCCAGCAGACACAGATCGAGGAGGCCCGGGCAGGGCCGTGCGAGCAGGCCGAGTGCGGTTCCGGAGGCTCTGGCTCTGGGGAGGACGGTGACTGTGAGCAGGAGCTGTGCCGGCAGCGCGGTGGCATCTGGGACGAGGACTCGGAGGACGGGCCGTGTGTCTGTGACTTCAGCTGCCAGAGTGTCCCAGGCAGCCCGGTGTGCGGCTCAGATGGGGTCACCTACAGCACCGAGTGTGAGCTGAAGAAGGCCAGGTGTGAGTCACAGCGAGGGCTCTACGTAGCGGCCCAGGGAGCCTGCCGAGGCCCCACCTTCGCCCCGCTGCCGCCTGTGGCCCCCTTACACTGTGCCCAGACGCCCTACGGCTGCTGCCAGGACAATATCACCGCAGCCCGGGGCGTGGGCCTGGCTGGCTGCCCCAGTGCCTGCCAGTGCAACCCCCATGGCTCTTACGGCGGCACCTGTGACCCAGCCACAGGCCAGTGCTCCTGCCGCCCAGGTGTGGGGGGCCTCAGGTGTGACCGCTGTGAGCCTGGCTTCTGGAACTTTCGAGGCATCGTCACCGATGGCCGGAGTGGCTGTACACCCTGCAGCTGTGATCCCCAAGGCGCCGTGCGGGATGACTGTGAGCAGATGACGGGGCTGTGCTCGTGTAAGCCCGGGGTGGCTGGACCCAAGTGTGGGCAGTGTCCAGACGGCCGTGCCCTGGGCCCCGCGGGCTGTGAAGCTGACGCTTCTGCGCCTGCGACCTGTGCGGAGATGCGCTGTGAGTTCGGTGCGCGGTGCGTGGAGGAGTCTGGCTCAGCCCACTGTGTCTGCCCGATGCTCACCTGTCCAGAGGCCAACGCTACCAAGGTCTGTGGGTCAGATGGAGTCACATACGGCAACGAGTGTCAGCTGAAGACCATCGCCTGCCGCCAGGGCCTGCAAATCTCTATCCAGAGCCTGGGCCCGTGCCAGGAGGCTGTTGCTCCCAGCACTCACCCGACATCTGCCTCCGTGACTGTGACCACCCCAGGGCTCCTCCTGAGCCAGGCACTGCCGGCCCCCCCCGGCGCCCTCCCCCTGGCTCCCAGCAGTACCGCACACAGCCAGACCACCCCTCCGCCCTCATCACGACCTCGGACCACTGCCAGCGTCCCCAGGACCACCGTGTGGCCCGTGCTGACGGTGCCCCCCACGGCACCCTCCCCTGCACCCAGCCTGGTGGCGTCCGCCTTTGGTGAATCTGGCAGCACTGATGGAAGCAGCGATGAGGAACTGAGCGGGGACCAGGAGGCCAGTGGGGGTGGCTCTGGGGGGCTCGAGCCCTTGGAGGGCAGCAGCGTGGCCACCCCTGGGCCACCTGTCGAGAGGGCTTCCTGCTACAACTCCGCGTTGGGCTGCTGCTCTGATGGGAAGACGCCCTCGCTGGACGCAGAGGGCTCCAACTGCCCCGCCACCAAGGTGTTCCAGGGCGTCCTGGAGCTGGAGGGCGTCGAGGGCCAGGAGCTGTTCTACACGCCCGAGATGGCTGACCCCAAGTCAGAACTGTTCGGGGAGACAGCCAGGAGCATTGAGAGCACCCTGGACGACCTCTTCCGGAATTCAGACGTCAAGAAGGATTTTCGGAGTGTCCGCTTGCGGGACCTGGGGCCCGGCAAATCCGTCCGCGCCATTGTGGATGTGCACTTTGACCCCACCACAGCCTTCAGGGCACCCGACGTGGCCCGGGCCCTGCTCCGGCAGATCCAGGTGTCCAGGCGCCGGTCCTTGGGGGTGAGGCGGCCGCTGCAGGAGCACGTGCGATTTATGGACTTTGACTGGTTTCCTGCGTTTATCACGGGGGCCACGTCAGGAGCCATTGCTGCGGGAGCCACGGCCAGAGCCACCACTGCATCGCGCCTGCCGTCCTCTGCTGTGACCCCTCGGGCCCCGCACCCCAGTCACACAAGCCAGCCCGTTGCCAAGACCACGGCAGCCCCCACCACACGTCGGCCCCCCACCACTGCCCCCAGCCGTGTGCCCGGACGTCGGCCCCCGGCCCCCCAGCAGCCTCCAAAGCCCTGTGACTCACAGCCCTGCTTCCACGGGGGGACCTGCCAGGACTGGGCATTGGGCGGGGGCTTCACCTGCAGCTGCCCGGCAGGCAGGGGAGGCGCCGTCTGTGAGAAGGTGCTTGGCGCCCCTGTGCCGGCCTTCGAGGGCCGCTCCTTCCTGGCCTTCCCCACTCTCCGCGCCTACCACACGCTGCGCCTGGCACTGGAATTCCGGGCGCTGGAGCCTCAGGGGCTGCTGCTGTACAATGGCAACGCCCGGGGCAAGGACTTCCTGGCATTGGCGCTGCTAGATGGCCGCGTGCAGCTCAGGTTTGACACAGGTTCGGGGCCGGCGGTGCTGACCAGTGCCGTGCCGGTAGAGCCGGGCCAGTGGCACCGCCTGGAGCTGTCCCGGCACTGGCGCCGGGGCACCCTCTCGGTGGATGGTGAGACCCCTGTTCTGGGCGAGAGTCCCAGTGGCACCGACGGCCTCAACCTGGACACAGACCTCTTTGTGGGCGGCGTACCCGAGGACCAGGCTGCCGTGGCGCTGGAGCGGACCTTCGTGGGCGCCGGCCTGAGGGGGTGCATCCGTTTGCTGGACGTCAACAACCAGCGCCTGGAGCTTGGCATTGGGCCGGGGGCTGCCACCCGAGGCTCTGGCGTGGGCGAGTGCGGGGACCACCCCTGCCTGCCCAACCCCTGCCATGGCGGGGCCCCATGCCAGAACCTGGAGGCTGGAAGGTTCCATTGCCAGTGCCCGCCCGGCCGCGTCGGACCAACCTGTGCCGATGAGAAGAGCCCCTGCCAGCCCAACCCCTGCCATGGGGCGGCGCCCTGCCGTGTGCTGCCCGAGGGTGGTGCTCAGTGCGAGTGCCCCCTGGGGCGTGAGGGCACCTTCTGCCAGACAGCCTCGGGGCAGGACGGCTCTGGGCCCTTCCTGGCTGACTTCAACGGCTTCTCCCACCTGGAGCTGAGAGGCCTGCACACCTTTGCACGGGACCTGGGGGAGAAGATGGCGCTGGAGGTCGTGTTCCTGGCACGAGGCCCCAGCGGCCTCCTGCTCTACAACGGGCAGAAGACGGACGGCAAGGGGGACTTCGTGTCGCTGGCACTGCGGGACCGCCGCCTGGAGTTCCGCTACGACCTGGGCAAGGGGGCAGCGGTCATCAGGAGCAGGGAGCCAGTCACCCTGGGAGCCTGGACCAGGGTCTCACTGGAGCGAAACGGCCGCAAGGGTGCCCTGCGTGTGGGCGACGGCCCCCGTGTGTTGGGGGAGTCCCCGAAATCCCGCAAGGTTCCGCACACCGTCCTCAACCTGAAGGAGCCGCTCTACGTAGGGGGCGCTCCCGACTTCAGCAAGCTGGCCCGTGCTGCTGCCGTGTCCTCTGGCTTCGACGGTGCCATCCAGCTGGTCTCCCTCGGAGGCCGCCAGCTGCTGACCCCGGAGCACGTGCTGCGGCAGGTGGACGTCACGTCCTTTGCAGGTCACCCCTGCACCCGGGCCTCAGGCCACCCCTGCCTCAATGGGGCCTCCTGCGTCCCGAGGGAGGCTGCCTATGTGTGCCTGTGTCCCGGGGGATTCTCAGGACCGCACTGCGAGAAGGGGCTGGTGGAGAAGTCAGCGGGGGACGTGGATACCTTGGCCTTTGACGGGCGGACCTTTGTCGAGTACCTCAACGCTGTGACCGAGAGCGAGAAGGCACTGCAGAGCAACCACTTTGAACTGAGCCTGCGCACTGAGGCCACGCAGGGGCTGGTGCTCTGGAGTGGCAAGGCCACGGAGCGGGCAGACTATGTGGCACTGGCCATTGTGGACGGGCACCTGCAACTGAGCTACAACCTGGGCTCCCAGCCCGTGGTGCTGCGTTCCACCGTGCCCGTCAACACCAACCGCTGGTTGCGGGTCGTGGCACATAGGGAGCAGAGGGAAGGTTCCCTGCAGGTGGGCAATGAGGCCCCTGTGACCGGCTCCTCCCCGCTGGGCGCCACGCAGCTGGACACTGATGGAGCCCTGTGGCTTGGGCCTTTCCAAGCCCCCATTTGA\n",
      "lcl|NC_000001.11_cds_NP_001292204.1_41 [gene=AGRN] [db_xref=GeneID:375790] [protein=agrin isoform 1 precursor] [protein_id=NP_001292204.1] [location=join(1020173..1020373,1022201..1022462,1035277..1035324,1040665..1040880,1041173..1041397,1041478..1041702,1041956..1042162,1043239..1043457,1043538..1043732,1043823..1044023,1044109..1044257,1044334..1044439,1045161..1045277,1045359..1045523,1045733..1045876,1045964..1046088,1046160..1046265,1046397..1046735,1046820..1046957,1047327..1047454,1047573..1047687,1047776..1047895,1048012..1048365,1048867..1049059,1049236..1049451,1049566..1049795,1049903..1050037,1050233..1050329,1050427..1050591,1050726..1050837,1051032..1051043,1051253..1051369,1051453..1051645,1051728..1051815,1051993..1052016,1053461..1053493,1053753..1053977,1054448..1054551,1054824..1054981)] [gbkey=CDS]\n",
      "ATGGCCGGCCGGTCCCACCCGGGCCCGCTGCGGCCGCTGCTGCCGCTCCTTGTGGTGGCCGCGTGCGTCCTGCCCGGAGCCGGCGGGACATGCCCGGAGCGCGCGCTGGAGCGGCGCGAGGAGGAGGCGAACGTGGTGCTCACCGGGACGGTGGAGGAGATCCTCAACGTGGACCCGGTGCAGCACACGTACTCCTGCAAGGTTCGGGTCTGGCGGTACTTGAAGGGCAAAGACCTGGTGGCCCGGGAGAGCCTGCTGGACGGCGGCAACAAGGTGGTGATCAGCGGCTTTGGAGACCCCCTCATCTGTGACAACCAGGTGTCCACTGGGGACACCAGGATCTTCTTTGTGAACCCTGCACCCCCATACCTGTGGCCAGCCCACAAGAACGAGCTGATGCTCAACTCCAGCCTCATGCGGATCACCCTGCGGAACCTGGAGGAGGTGGAGTTCTGTGTGGAAGATAAACCCGGGACCCACTTCACTCCAGTGCCTCCGACGCCTCCTGATGCGTGCCGGGGAATGCTGTGCGGCTTCGGCGCCGTGTGCGAGCCCAACGCGGAGGGGCCGGGCCGGGCGTCCTGCGTCTGCAAGAAGAGCCCGTGCCCCAGCGTGGTGGCGCCTGTGTGTGGGTCGGACGCCTCCACCTACAGCAACGAATGCGAGCTGCAGCGGGCGCAGTGCAGCCAGCAGCGCCGCATCCGCCTGCTCAGCCGCGGGCCGTGCGGCTCGCGGGACCCCTGCTCCAACGTGACCTGCAGCTTCGGCAGCACCTGTGCGCGCTCGGCCGACGGGCTGACGGCCTCGTGCCTGTGCCCCGCGACCTGCCGTGGCGCCCCCGAGGGGACCGTCTGCGGCAGCGACGGCGCCGACTACCCCGGCGAGTGCCAGCTCCTGCGCCGCGCCTGCGCCCGCCAGGAGAATGTCTTCAAGAAGTTCGACGGCCCTTGTGACCCCTGTCAGGGCGCCCTCCCTGACCCGAGCCGCAGCTGCCGTGTGAACCCGCGCACGCGGCGCCCTGAGATGCTCCTACGGCCCGAGAGCTGCCCTGCCCGGCAGGCGCCAGTGTGTGGGGACGACGGAGTCACCTACGAAAACGACTGTGTCATGGGCCGATCGGGGGCCGCCCGGGGTCTCCTCCTGCAGAAAGTGCGCTCCGGCCAGTGCCAGGGTCGAGACCAGTGCCCGGAGCCCTGCCGGTTCAATGCCGTGTGCCTGTCCCGCCGTGGCCGTCCCCGCTGCTCCTGCGACCGCGTCACCTGTGACGGGGCCTACAGGCCCGTGTGTGCCCAGGACGGGCGCACGTATGACAGTGATTGCTGGCGGCAGCAGGCTGAGTGCCGGCAGCAGCGTGCCATCCCCAGCAAGCACCAGGGCCCGTGTGACCAGGCCCCGTCCCCATGCCTCGGGGTGCAGTGTGCATTTGGGGCGACGTGTGCTGTGAAGAACGGGCAGGCAGCGTGTGAATGCCTGCAGGCGTGCTCGAGCCTCTACGATCCTGTGTGCGGCAGCGACGGCGTCACATACGGCAGCGCGTGCGAGCTGGAGGCCACGGCCTGTACCCTCGGGCGGGAGATCCAGGTGGCGCGCAAAGGACCCTGTGACCGCTGCGGGCAGTGCCGCTTTGGAGCCCTGTGCGAGGCCGAGACCGGGCGCTGCGTGTGCCCCTCTGAATGCGTGGCTTTGGCCCAGCCCGTGTGTGGCTCCGACGGGCACACGTACCCCAGCGAGTGCATGCTGCACGTGCACGCCTGCACACACCAGATCAGCCTGCACGTGGCCTCAGCTGGACCCTGTGAGACCTGTGGAGATGCCGTGTGTGCTTTTGGGGCTGTGTGCTCCGCAGGGCAGTGTGTGTGTCCCCGGTGTGAGCACCCCCCGCCCGGCCCCGTGTGTGGCAGCGACGGTGTCACCTACGGCAGTGCCTGCGAGCTACGGGAAGCCGCCTGCCTCCAGCAGACACAGATCGAGGAGGCCCGGGCAGGGCCGTGCGAGCAGGCCGAGTGCGGTTCCGGAGGCTCTGGCTCTGGGGAGGACGGTGACTGTGAGCAGGAGCTGTGCCGGCAGCGCGGTGGCATCTGGGACGAGGACTCGGAGGACGGGCCGTGTGTCTGTGACTTCAGCTGCCAGAGTGTCCCAGGCAGCCCGGTGTGCGGCTCAGATGGGGTCACCTACAGCACCGAGTGTGAGCTGAAGAAGGCCAGGTGTGAGTCACAGCGAGGGCTCTACGTAGCGGCCCAGGGAGCCTGCCGAGGCCCCACCTTCGCCCCGCTGCCGCCTGTGGCCCCCTTACACTGTGCCCAGACGCCCTACGGCTGCTGCCAGGACAATATCACCGCAGCCCGGGGCGTGGGCCTGGCTGGCTGCCCCAGTGCCTGCCAGTGCAACCCCCATGGCTCTTACGGCGGCACCTGTGACCCAGCCACAGGCCAGTGCTCCTGCCGCCCAGGTGTGGGGGGCCTCAGGTGTGACCGCTGTGAGCCTGGCTTCTGGAACTTTCGAGGCATCGTCACCGATGGCCGGAGTGGCTGTACACCCTGCAGCTGTGATCCCCAAGGCGCCGTGCGGGATGACTGTGAGCAGATGACGGGGCTGTGCTCGTGTAAGCCCGGGGTGGCTGGACCCAAGTGTGGGCAGTGTCCAGACGGCCGTGCCCTGGGCCCCGCGGGCTGTGAAGCTGACGCTTCTGCGCCTGCGACCTGTGCGGAGATGCGCTGTGAGTTCGGTGCGCGGTGCGTGGAGGAGTCTGGCTCAGCCCACTGTGTCTGCCCGATGCTCACCTGTCCAGAGGCCAACGCTACCAAGGTCTGTGGGTCAGATGGAGTCACATACGGCAACGAGTGTCAGCTGAAGACCATCGCCTGCCGCCAGGGCCTGCAAATCTCTATCCAGAGCCTGGGCCCGTGCCAGGAGGCTGTTGCTCCCAGCACTCACCCGACATCTGCCTCCGTGACTGTGACCACCCCAGGGCTCCTCCTGAGCCAGGCACTGCCGGCCCCCCCCGGCGCCCTCCCCCTGGCTCCCAGCAGTACCGCACACAGCCAGACCACCCCTCCGCCCTCATCACGACCTCGGACCACTGCCAGCGTCCCCAGGACCACCGTGTGGCCCGTGCTGACGGTGCCCCCCACGGCACCCTCCCCTGCACCCAGCCTGGTGGCGTCCGCCTTTGGTGAATCTGGCAGCACTGATGGAAGCAGCGATGAGGAACTGAGCGGGGACCAGGAGGCCAGTGGGGGTGGCTCTGGGGGGCTCGAGCCCTTGGAGGGCAGCAGCGTGGCCACCCCTGGGCCACCTGTCGAGAGGGCTTCCTGCTACAACTCCGCGTTGGGCTGCTGCTCTGATGGGAAGACGCCCTCGCTGGACGCAGAGGGCTCCAACTGCCCCGCCACCAAGGTGTTCCAGGGCGTCCTGGAGCTGGAGGGCGTCGAGGGCCAGGAGCTGTTCTACACGCCCGAGATGGCTGACCCCAAGTCAGAACTGTTCGGGGAGACAGCCAGGAGCATTGAGAGCACCCTGGACGACCTCTTCCGGAATTCAGACGTCAAGAAGGATTTTCGGAGTGTCCGCTTGCGGGACCTGGGGCCCGGCAAATCCGTCCGCGCCATTGTGGATGTGCACTTTGACCCCACCACAGCCTTCAGGGCACCCGACGTGGCCCGGGCCCTGCTCCGGCAGATCCAGGTGTCCAGGCGCCGGTCCTTGGGGGTGAGGCGGCCGCTGCAGGAGCACGTGCGATTTATGGACTTTGACTGGTTTCCTGCGTTTATCACGGGGGCCACGTCAGGAGCCATTGCTGCGGGAGCCACGGCCAGAGCCACCACTGCATCGCGCCTGCCGTCCTCTGCTGTGACCCCTCGGGCCCCGCACCCCAGTCACACAAGCCAGCCCGTTGCCAAGACCACGGCAGCCCCCACCACACGTCGGCCCCCCACCACTGCCCCCAGCCGTGTGCCCGGACGTCGGCCCCCGGCCCCCCAGCAGCCTCCAAAGCCCTGTGACTCACAGCCCTGCTTCCACGGGGGGACCTGCCAGGACTGGGCATTGGGCGGGGGCTTCACCTGCAGCTGCCCGGCAGGCAGGGGAGGCGCCGTCTGTGAGAAGGTGCTTGGCGCCCCTGTGCCGGCCTTCGAGGGCCGCTCCTTCCTGGCCTTCCCCACTCTCCGCGCCTACCACACGCTGCGCCTGGCACTGGAATTCCGGGCGCTGGAGCCTCAGGGGCTGCTGCTGTACAATGGCAACGCCCGGGGCAAGGACTTCCTGGCATTGGCGCTGCTAGATGGCCGCGTGCAGCTCAGGTTTGACACAGGTTCGGGGCCGGCGGTGCTGACCAGTGCCGTGCCGGTAGAGCCGGGCCAGTGGCACCGCCTGGAGCTGTCCCGGCACTGGCGCCGGGGCACCCTCTCGGTGGATGGTGAGACCCCTGTTCTGGGCGAGAGTCCCAGTGGCACCGACGGCCTCAACCTGGACACAGACCTCTTTGTGGGCGGCGTACCCGAGGACCAGGCTGCCGTGGCGCTGGAGCGGACCTTCGTGGGCGCCGGCCTGAGGGGGTGCATCCGTTTGCTGGACGTCAACAACCAGCGCCTGGAGCTTGGCATTGGGCCGGGGGCTGCCACCCGAGGCTCTGGCGTGGGCGAGTGCGGGGACCACCCCTGCCTGCCCAACCCCTGCCATGGCGGGGCCCCATGCCAGAACCTGGAGGCTGGAAGGTTCCATTGCCAGTGCCCGCCCGGCCGCGTCGGACCAACCTGTGCCGATGAGAAGAGCCCCTGCCAGCCCAACCCCTGCCATGGGGCGGCGCCCTGCCGTGTGCTGCCCGAGGGTGGTGCTCAGTGCGAGTGCCCCCTGGGGCGTGAGGGCACCTTCTGCCAGACAGCCTCGGGGCAGGACGGCTCTGGGCCCTTCCTGGCTGACTTCAACGGCTTCTCCCACCTGGAGCTGAGAGGCCTGCACACCTTTGCACGGGACCTGGGGGAGAAGATGGCGCTGGAGGTCGTGTTCCTGGCACGAGGCCCCAGCGGCCTCCTGCTCTACAACGGGCAGAAGACGGACGGCAAGGGGGACTTCGTGTCGCTGGCACTGCGGGACCGCCGCCTGGAGTTCCGCTACGACCTGGGCAAGGGGGCAGCGGTCATCAGGAGCAGGGAGCCAGTCACCCTGGGAGCCTGGACCAGGGTCTCACTGGAGCGAAACGGCCGCAAGGGTGCCCTGCGTGTGGGCGACGGCCCCCGTGTGTTGGGGGAGTCCCCGAAATCCCGCAAGGTTCCGCACACCGTCCTCAACCTGAAGGAGCCGCTCTACGTAGGGGGCGCTCCCGACTTCAGCAAGCTGGCCCGTGCTGCTGCCGTGTCCTCTGGCTTCGACGGTGCCATCCAGCTGGTCTCCCTCGGAGGCCGCCAGCTGCTGACCCCGGAGCACGTGCTGCGGCAGGTGGACGTCACGTCCTTTGCAGGTCACCCCTGCACCCGGGCCTCAGGCCACCCCTGCCTCAATGGGGCCTCCTGCGTCCCGAGGGAGGCTGCCTATGTGTGCCTGTGTCCCGGGGGATTCTCAGGACCGCACTGCGAGAAGGGGCTGGTGGAGAAGTCAGCGGGGGACGTGGATACCTTGGCCTTTGACGGGCGGACCTTTGTCGAGTACCTCAACGCTGTGACCGAGAGCGAACTGGCCAATGAGATCCCCGTCCCCGAAACTCTGGATTCCGGGGCCCTTCACAGCGAGAAGGCACTGCAGAGCAACCACTTTGAACTGAGCCTGCGCACTGAGGCCACGCAGGGGCTGGTGCTCTGGAGTGGCAAGGCCACGGAGCGGGCAGACTATGTGGCACTGGCCATTGTGGACGGGCACCTGCAACTGAGCTACAACCTGGGCTCCCAGCCCGTGGTGCTGCGTTCCACCGTGCCCGTCAACACCAACCGCTGGTTGCGGGTCGTGGCACATAGGGAGCAGAGGGAAGGTTCCCTGCAGGTGGGCAATGAGGCCCCTGTGACCGGCTCCTCCCCGCTGGGCGCCACGCAGCTGGACACTGATGGAGCCCTGTGGCTTGGGGGCCTGCCGGAGCTGCCCGTGGGCCCAGCACTGCCCAAGGCCTACGGCACAGGCTTTGTGGGCTGCTTGCGGGACGTGGTGGTGGGCCGGCACCCGCTGCACCTGCTGGAGGACGCCGTCACCAAGCCAGAGCTGCGGCCCTGCCCCACCCCATGA\n",
      "lcl|NC_000001.11_cds_XP_005244806.1_42 [gene=AGRN] [db_xref=GeneID:375790] [protein=agrin isoform X1] [protein_id=XP_005244806.1] [location=join(1020173..1020373,1022201..1022462,1035277..1035324,1040665..1040880,1041173..1041397,1041478..1041702,1041956..1042162,1043239..1043457,1043538..1043732,1043823..1044023,1044109..1044257,1044334..1044439,1045161..1045277,1045359..1045523,1045733..1045876,1045964..1046088,1046160..1046265,1046397..1046735,1046820..1046957,1047327..1047454,1047573..1047687,1047776..1047895,1048012..1048365,1048867..1049059,1049236..1049451,1049566..1049795,1049903..1050037,1050233..1050329,1050427..1050591,1050726..1050837,1051032..1051043,1051253..1051369,1051453..1051645,1051728..1051815,1053753..1053977,1054448..1054551,1054824..1054981)] [gbkey=CDS]\n",
      "ATGGCCGGCCGGTCCCACCCGGGCCCGCTGCGGCCGCTGCTGCCGCTCCTTGTGGTGGCCGCGTGCGTCCTGCCCGGAGCCGGCGGGACATGCCCGGAGCGCGCGCTGGAGCGGCGCGAGGAGGAGGCGAACGTGGTGCTCACCGGGACGGTGGAGGAGATCCTCAACGTGGACCCGGTGCAGCACACGTACTCCTGCAAGGTTCGGGTCTGGCGGTACTTGAAGGGCAAAGACCTGGTGGCCCGGGAGAGCCTGCTGGACGGCGGCAACAAGGTGGTGATCAGCGGCTTTGGAGACCCCCTCATCTGTGACAACCAGGTGTCCACTGGGGACACCAGGATCTTCTTTGTGAACCCTGCACCCCCATACCTGTGGCCAGCCCACAAGAACGAGCTGATGCTCAACTCCAGCCTCATGCGGATCACCCTGCGGAACCTGGAGGAGGTGGAGTTCTGTGTGGAAGATAAACCCGGGACCCACTTCACTCCAGTGCCTCCGACGCCTCCTGATGCGTGCCGGGGAATGCTGTGCGGCTTCGGCGCCGTGTGCGAGCCCAACGCGGAGGGGCCGGGCCGGGCGTCCTGCGTCTGCAAGAAGAGCCCGTGCCCCAGCGTGGTGGCGCCTGTGTGTGGGTCGGACGCCTCCACCTACAGCAACGAATGCGAGCTGCAGCGGGCGCAGTGCAGCCAGCAGCGCCGCATCCGCCTGCTCAGCCGCGGGCCGTGCGGCTCGCGGGACCCCTGCTCCAACGTGACCTGCAGCTTCGGCAGCACCTGTGCGCGCTCGGCCGACGGGCTGACGGCCTCGTGCCTGTGCCCCGCGACCTGCCGTGGCGCCCCCGAGGGGACCGTCTGCGGCAGCGACGGCGCCGACTACCCCGGCGAGTGCCAGCTCCTGCGCCGCGCCTGCGCCCGCCAGGAGAATGTCTTCAAGAAGTTCGACGGCCCTTGTGACCCCTGTCAGGGCGCCCTCCCTGACCCGAGCCGCAGCTGCCGTGTGAACCCGCGCACGCGGCGCCCTGAGATGCTCCTACGGCCCGAGAGCTGCCCTGCCCGGCAGGCGCCAGTGTGTGGGGACGACGGAGTCACCTACGAAAACGACTGTGTCATGGGCCGATCGGGGGCCGCCCGGGGTCTCCTCCTGCAGAAAGTGCGCTCCGGCCAGTGCCAGGGTCGAGACCAGTGCCCGGAGCCCTGCCGGTTCAATGCCGTGTGCCTGTCCCGCCGTGGCCGTCCCCGCTGCTCCTGCGACCGCGTCACCTGTGACGGGGCCTACAGGCCCGTGTGTGCCCAGGACGGGCGCACGTATGACAGTGATTGCTGGCGGCAGCAGGCTGAGTGCCGGCAGCAGCGTGCCATCCCCAGCAAGCACCAGGGCCCGTGTGACCAGGCCCCGTCCCCATGCCTCGGGGTGCAGTGTGCATTTGGGGCGACGTGTGCTGTGAAGAACGGGCAGGCAGCGTGTGAATGCCTGCAGGCGTGCTCGAGCCTCTACGATCCTGTGTGCGGCAGCGACGGCGTCACATACGGCAGCGCGTGCGAGCTGGAGGCCACGGCCTGTACCCTCGGGCGGGAGATCCAGGTGGCGCGCAAAGGACCCTGTGACCGCTGCGGGCAGTGCCGCTTTGGAGCCCTGTGCGAGGCCGAGACCGGGCGCTGCGTGTGCCCCTCTGAATGCGTGGCTTTGGCCCAGCCCGTGTGTGGCTCCGACGGGCACACGTACCCCAGCGAGTGCATGCTGCACGTGCACGCCTGCACACACCAGATCAGCCTGCACGTGGCCTCAGCTGGACCCTGTGAGACCTGTGGAGATGCCGTGTGTGCTTTTGGGGCTGTGTGCTCCGCAGGGCAGTGTGTGTGTCCCCGGTGTGAGCACCCCCCGCCCGGCCCCGTGTGTGGCAGCGACGGTGTCACCTACGGCAGTGCCTGCGAGCTACGGGAAGCCGCCTGCCTCCAGCAGACACAGATCGAGGAGGCCCGGGCAGGGCCGTGCGAGCAGGCCGAGTGCGGTTCCGGAGGCTCTGGCTCTGGGGAGGACGGTGACTGTGAGCAGGAGCTGTGCCGGCAGCGCGGTGGCATCTGGGACGAGGACTCGGAGGACGGGCCGTGTGTCTGTGACTTCAGCTGCCAGAGTGTCCCAGGCAGCCCGGTGTGCGGCTCAGATGGGGTCACCTACAGCACCGAGTGTGAGCTGAAGAAGGCCAGGTGTGAGTCACAGCGAGGGCTCTACGTAGCGGCCCAGGGAGCCTGCCGAGGCCCCACCTTCGCCCCGCTGCCGCCTGTGGCCCCCTTACACTGTGCCCAGACGCCCTACGGCTGCTGCCAGGACAATATCACCGCAGCCCGGGGCGTGGGCCTGGCTGGCTGCCCCAGTGCCTGCCAGTGCAACCCCCATGGCTCTTACGGCGGCACCTGTGACCCAGCCACAGGCCAGTGCTCCTGCCGCCCAGGTGTGGGGGGCCTCAGGTGTGACCGCTGTGAGCCTGGCTTCTGGAACTTTCGAGGCATCGTCACCGATGGCCGGAGTGGCTGTACACCCTGCAGCTGTGATCCCCAAGGCGCCGTGCGGGATGACTGTGAGCAGATGACGGGGCTGTGCTCGTGTAAGCCCGGGGTGGCTGGACCCAAGTGTGGGCAGTGTCCAGACGGCCGTGCCCTGGGCCCCGCGGGCTGTGAAGCTGACGCTTCTGCGCCTGCGACCTGTGCGGAGATGCGCTGTGAGTTCGGTGCGCGGTGCGTGGAGGAGTCTGGCTCAGCCCACTGTGTCTGCCCGATGCTCACCTGTCCAGAGGCCAACGCTACCAAGGTCTGTGGGTCAGATGGAGTCACATACGGCAACGAGTGTCAGCTGAAGACCATCGCCTGCCGCCAGGGCCTGCAAATCTCTATCCAGAGCCTGGGCCCGTGCCAGGAGGCTGTTGCTCCCAGCACTCACCCGACATCTGCCTCCGTGACTGTGACCACCCCAGGGCTCCTCCTGAGCCAGGCACTGCCGGCCCCCCCCGGCGCCCTCCCCCTGGCTCCCAGCAGTACCGCACACAGCCAGACCACCCCTCCGCCCTCATCACGACCTCGGACCACTGCCAGCGTCCCCAGGACCACCGTGTGGCCCGTGCTGACGGTGCCCCCCACGGCACCCTCCCCTGCACCCAGCCTGGTGGCGTCCGCCTTTGGTGAATCTGGCAGCACTGATGGAAGCAGCGATGAGGAACTGAGCGGGGACCAGGAGGCCAGTGGGGGTGGCTCTGGGGGGCTCGAGCCCTTGGAGGGCAGCAGCGTGGCCACCCCTGGGCCACCTGTCGAGAGGGCTTCCTGCTACAACTCCGCGTTGGGCTGCTGCTCTGATGGGAAGACGCCCTCGCTGGACGCAGAGGGCTCCAACTGCCCCGCCACCAAGGTGTTCCAGGGCGTCCTGGAGCTGGAGGGCGTCGAGGGCCAGGAGCTGTTCTACACGCCCGAGATGGCTGACCCCAAGTCAGAACTGTTCGGGGAGACAGCCAGGAGCATTGAGAGCACCCTGGACGACCTCTTCCGGAATTCAGACGTCAAGAAGGATTTTCGGAGTGTCCGCTTGCGGGACCTGGGGCCCGGCAAATCCGTCCGCGCCATTGTGGATGTGCACTTTGACCCCACCACAGCCTTCAGGGCACCCGACGTGGCCCGGGCCCTGCTCCGGCAGATCCAGGTGTCCAGGCGCCGGTCCTTGGGGGTGAGGCGGCCGCTGCAGGAGCACGTGCGATTTATGGACTTTGACTGGTTTCCTGCGTTTATCACGGGGGCCACGTCAGGAGCCATTGCTGCGGGAGCCACGGCCAGAGCCACCACTGCATCGCGCCTGCCGTCCTCTGCTGTGACCCCTCGGGCCCCGCACCCCAGTCACACAAGCCAGCCCGTTGCCAAGACCACGGCAGCCCCCACCACACGTCGGCCCCCCACCACTGCCCCCAGCCGTGTGCCCGGACGTCGGCCCCCGGCCCCCCAGCAGCCTCCAAAGCCCTGTGACTCACAGCCCTGCTTCCACGGGGGGACCTGCCAGGACTGGGCATTGGGCGGGGGCTTCACCTGCAGCTGCCCGGCAGGCAGGGGAGGCGCCGTCTGTGAGAAGGTGCTTGGCGCCCCTGTGCCGGCCTTCGAGGGCCGCTCCTTCCTGGCCTTCCCCACTCTCCGCGCCTACCACACGCTGCGCCTGGCACTGGAATTCCGGGCGCTGGAGCCTCAGGGGCTGCTGCTGTACAATGGCAACGCCCGGGGCAAGGACTTCCTGGCATTGGCGCTGCTAGATGGCCGCGTGCAGCTCAGGTTTGACACAGGTTCGGGGCCGGCGGTGCTGACCAGTGCCGTGCCGGTAGAGCCGGGCCAGTGGCACCGCCTGGAGCTGTCCCGGCACTGGCGCCGGGGCACCCTCTCGGTGGATGGTGAGACCCCTGTTCTGGGCGAGAGTCCCAGTGGCACCGACGGCCTCAACCTGGACACAGACCTCTTTGTGGGCGGCGTACCCGAGGACCAGGCTGCCGTGGCGCTGGAGCGGACCTTCGTGGGCGCCGGCCTGAGGGGGTGCATCCGTTTGCTGGACGTCAACAACCAGCGCCTGGAGCTTGGCATTGGGCCGGGGGCTGCCACCCGAGGCTCTGGCGTGGGCGAGTGCGGGGACCACCCCTGCCTGCCCAACCCCTGCCATGGCGGGGCCCCATGCCAGAACCTGGAGGCTGGAAGGTTCCATTGCCAGTGCCCGCCCGGCCGCGTCGGACCAACCTGTGCCGATGAGAAGAGCCCCTGCCAGCCCAACCCCTGCCATGGGGCGGCGCCCTGCCGTGTGCTGCCCGAGGGTGGTGCTCAGTGCGAGTGCCCCCTGGGGCGTGAGGGCACCTTCTGCCAGACAGCCTCGGGGCAGGACGGCTCTGGGCCCTTCCTGGCTGACTTCAACGGCTTCTCCCACCTGGAGCTGAGAGGCCTGCACACCTTTGCACGGGACCTGGGGGAGAAGATGGCGCTGGAGGTCGTGTTCCTGGCACGAGGCCCCAGCGGCCTCCTGCTCTACAACGGGCAGAAGACGGACGGCAAGGGGGACTTCGTGTCGCTGGCACTGCGGGACCGCCGCCTGGAGTTCCGCTACGACCTGGGCAAGGGGGCAGCGGTCATCAGGAGCAGGGAGCCAGTCACCCTGGGAGCCTGGACCAGGGTCTCACTGGAGCGAAACGGCCGCAAGGGTGCCCTGCGTGTGGGCGACGGCCCCCGTGTGTTGGGGGAGTCCCCGAAATCCCGCAAGGTTCCGCACACCGTCCTCAACCTGAAGGAGCCGCTCTACGTAGGGGGCGCTCCCGACTTCAGCAAGCTGGCCCGTGCTGCTGCCGTGTCCTCTGGCTTCGACGGTGCCATCCAGCTGGTCTCCCTCGGAGGCCGCCAGCTGCTGACCCCGGAGCACGTGCTGCGGCAGGTGGACGTCACGTCCTTTGCAGGTCACCCCTGCACCCGGGCCTCAGGCCACCCCTGCCTCAATGGGGCCTCCTGCGTCCCGAGGGAGGCTGCCTATGTGTGCCTGTGTCCCGGGGGATTCTCAGGACCGCACTGCGAGAAGGGGCTGGTGGAGAAGTCAGCGGGGGACGTGGATACCTTGGCCTTTGACGGGCGGACCTTTGTCGAGTACCTCAACGCTGTGACCGAGAGCGAGAAGGCACTGCAGAGCAACCACTTTGAACTGAGCCTGCGCACTGAGGCCACGCAGGGGCTGGTGCTCTGGAGTGGCAAGGCCACGGAGCGGGCAGACTATGTGGCACTGGCCATTGTGGACGGGCACCTGCAACTGAGCTACAACCTGGGCTCCCAGCCCGTGGTGCTGCGTTCCACCGTGCCCGTCAACACCAACCGCTGGTTGCGGGTCGTGGCACATAGGGAGCAGAGGGAAGGTTCCCTGCAGGTGGGCAATGAGGCCCCTGTGACCGGCTCCTCCCCGCTGGGCGCCACGCAGCTGGACACTGATGGAGCCCTGTGGCTTGGGGGCCTGCCGGAGCTGCCCGTGGGCCCAGCACTGCCCAAGGCCTACGGCACAGGCTTTGTGGGCTGCTTGCGGGACGTGGTGGTGGGCCGGCACCCGCTGCACCTGCTGGAGGACGCCGTCACCAAGCCAGAGCTGCGGCCCTGCCCCACCCCATGA\n",
      "lcl|NC_000001.11_cds_NP_940978.2_43 [gene=AGRN] [db_xref=CCDS:CCDS30551.1,Ensembl:ENSP00000368678.2,GeneID:375790] [protein=agrin isoform 2 precursor] [protein_id=NP_940978.2] [location=join(1020173..1020373,1022201..1022462,1035277..1035324,1040665..1040880,1041173..1041397,1041478..1041702,1041956..1042162,1043239..1043457,1043538..1043732,1043823..1044023,1044109..1044257,1044334..1044439,1045161..1045277,1045359..1045523,1045733..1045876,1045964..1046088,1046160..1046265,1046397..1046735,1046820..1046957,1047327..1047454,1047573..1047687,1047776..1047895,1048012..1048365,1048867..1049059,1049236..1049451,1049566..1049795,1049903..1050037,1050233..1050329,1050427..1050591,1050726..1050837,1051253..1051369,1051453..1051645,1051728..1051815,1053753..1053977,1054448..1054551,1054824..1054981)] [gbkey=CDS]\n",
      "ATGGCCGGCCGGTCCCACCCGGGCCCGCTGCGGCCGCTGCTGCCGCTCCTTGTGGTGGCCGCGTGCGTCCTGCCCGGAGCCGGCGGGACATGCCCGGAGCGCGCGCTGGAGCGGCGCGAGGAGGAGGCGAACGTGGTGCTCACCGGGACGGTGGAGGAGATCCTCAACGTGGACCCGGTGCAGCACACGTACTCCTGCAAGGTTCGGGTCTGGCGGTACTTGAAGGGCAAAGACCTGGTGGCCCGGGAGAGCCTGCTGGACGGCGGCAACAAGGTGGTGATCAGCGGCTTTGGAGACCCCCTCATCTGTGACAACCAGGTGTCCACTGGGGACACCAGGATCTTCTTTGTGAACCCTGCACCCCCATACCTGTGGCCAGCCCACAAGAACGAGCTGATGCTCAACTCCAGCCTCATGCGGATCACCCTGCGGAACCTGGAGGAGGTGGAGTTCTGTGTGGAAGATAAACCCGGGACCCACTTCACTCCAGTGCCTCCGACGCCTCCTGATGCGTGCCGGGGAATGCTGTGCGGCTTCGGCGCCGTGTGCGAGCCCAACGCGGAGGGGCCGGGCCGGGCGTCCTGCGTCTGCAAGAAGAGCCCGTGCCCCAGCGTGGTGGCGCCTGTGTGTGGGTCGGACGCCTCCACCTACAGCAACGAATGCGAGCTGCAGCGGGCGCAGTGCAGCCAGCAGCGCCGCATCCGCCTGCTCAGCCGCGGGCCGTGCGGCTCGCGGGACCCCTGCTCCAACGTGACCTGCAGCTTCGGCAGCACCTGTGCGCGCTCGGCCGACGGGCTGACGGCCTCGTGCCTGTGCCCCGCGACCTGCCGTGGCGCCCCCGAGGGGACCGTCTGCGGCAGCGACGGCGCCGACTACCCCGGCGAGTGCCAGCTCCTGCGCCGCGCCTGCGCCCGCCAGGAGAATGTCTTCAAGAAGTTCGACGGCCCTTGTGACCCCTGTCAGGGCGCCCTCCCTGACCCGAGCCGCAGCTGCCGTGTGAACCCGCGCACGCGGCGCCCTGAGATGCTCCTACGGCCCGAGAGCTGCCCTGCCCGGCAGGCGCCAGTGTGTGGGGACGACGGAGTCACCTACGAAAACGACTGTGTCATGGGCCGATCGGGGGCCGCCCGGGGTCTCCTCCTGCAGAAAGTGCGCTCCGGCCAGTGCCAGGGTCGAGACCAGTGCCCGGAGCCCTGCCGGTTCAATGCCGTGTGCCTGTCCCGCCGTGGCCGTCCCCGCTGCTCCTGCGACCGCGTCACCTGTGACGGGGCCTACAGGCCCGTGTGTGCCCAGGACGGGCGCACGTATGACAGTGATTGCTGGCGGCAGCAGGCTGAGTGCCGGCAGCAGCGTGCCATCCCCAGCAAGCACCAGGGCCCGTGTGACCAGGCCCCGTCCCCATGCCTCGGGGTGCAGTGTGCATTTGGGGCGACGTGTGCTGTGAAGAACGGGCAGGCAGCGTGTGAATGCCTGCAGGCGTGCTCGAGCCTCTACGATCCTGTGTGCGGCAGCGACGGCGTCACATACGGCAGCGCGTGCGAGCTGGAGGCCACGGCCTGTACCCTCGGGCGGGAGATCCAGGTGGCGCGCAAAGGACCCTGTGACCGCTGCGGGCAGTGCCGCTTTGGAGCCCTGTGCGAGGCCGAGACCGGGCGCTGCGTGTGCCCCTCTGAATGCGTGGCTTTGGCCCAGCCCGTGTGTGGCTCCGACGGGCACACGTACCCCAGCGAGTGCATGCTGCACGTGCACGCCTGCACACACCAGATCAGCCTGCACGTGGCCTCAGCTGGACCCTGTGAGACCTGTGGAGATGCCGTGTGTGCTTTTGGGGCTGTGTGCTCCGCAGGGCAGTGTGTGTGTCCCCGGTGTGAGCACCCCCCGCCCGGCCCCGTGTGTGGCAGCGACGGTGTCACCTACGGCAGTGCCTGCGAGCTACGGGAAGCCGCCTGCCTCCAGCAGACACAGATCGAGGAGGCCCGGGCAGGGCCGTGCGAGCAGGCCGAGTGCGGTTCCGGAGGCTCTGGCTCTGGGGAGGACGGTGACTGTGAGCAGGAGCTGTGCCGGCAGCGCGGTGGCATCTGGGACGAGGACTCGGAGGACGGGCCGTGTGTCTGTGACTTCAGCTGCCAGAGTGTCCCAGGCAGCCCGGTGTGCGGCTCAGATGGGGTCACCTACAGCACCGAGTGTGAGCTGAAGAAGGCCAGGTGTGAGTCACAGCGAGGGCTCTACGTAGCGGCCCAGGGAGCCTGCCGAGGCCCCACCTTCGCCCCGCTGCCGCCTGTGGCCCCCTTACACTGTGCCCAGACGCCCTACGGCTGCTGCCAGGACAATATCACCGCAGCCCGGGGCGTGGGCCTGGCTGGCTGCCCCAGTGCCTGCCAGTGCAACCCCCATGGCTCTTACGGCGGCACCTGTGACCCAGCCACAGGCCAGTGCTCCTGCCGCCCAGGTGTGGGGGGCCTCAGGTGTGACCGCTGTGAGCCTGGCTTCTGGAACTTTCGAGGCATCGTCACCGATGGCCGGAGTGGCTGTACACCCTGCAGCTGTGATCCCCAAGGCGCCGTGCGGGATGACTGTGAGCAGATGACGGGGCTGTGCTCGTGTAAGCCCGGGGTGGCTGGACCCAAGTGTGGGCAGTGTCCAGACGGCCGTGCCCTGGGCCCCGCGGGCTGTGAAGCTGACGCTTCTGCGCCTGCGACCTGTGCGGAGATGCGCTGTGAGTTCGGTGCGCGGTGCGTGGAGGAGTCTGGCTCAGCCCACTGTGTCTGCCCGATGCTCACCTGTCCAGAGGCCAACGCTACCAAGGTCTGTGGGTCAGATGGAGTCACATACGGCAACGAGTGTCAGCTGAAGACCATCGCCTGCCGCCAGGGCCTGCAAATCTCTATCCAGAGCCTGGGCCCGTGCCAGGAGGCTGTTGCTCCCAGCACTCACCCGACATCTGCCTCCGTGACTGTGACCACCCCAGGGCTCCTCCTGAGCCAGGCACTGCCGGCCCCCCCCGGCGCCCTCCCCCTGGCTCCCAGCAGTACCGCACACAGCCAGACCACCCCTCCGCCCTCATCACGACCTCGGACCACTGCCAGCGTCCCCAGGACCACCGTGTGGCCCGTGCTGACGGTGCCCCCCACGGCACCCTCCCCTGCACCCAGCCTGGTGGCGTCCGCCTTTGGTGAATCTGGCAGCACTGATGGAAGCAGCGATGAGGAACTGAGCGGGGACCAGGAGGCCAGTGGGGGTGGCTCTGGGGGGCTCGAGCCCTTGGAGGGCAGCAGCGTGGCCACCCCTGGGCCACCTGTCGAGAGGGCTTCCTGCTACAACTCCGCGTTGGGCTGCTGCTCTGATGGGAAGACGCCCTCGCTGGACGCAGAGGGCTCCAACTGCCCCGCCACCAAGGTGTTCCAGGGCGTCCTGGAGCTGGAGGGCGTCGAGGGCCAGGAGCTGTTCTACACGCCCGAGATGGCTGACCCCAAGTCAGAACTGTTCGGGGAGACAGCCAGGAGCATTGAGAGCACCCTGGACGACCTCTTCCGGAATTCAGACGTCAAGAAGGATTTTCGGAGTGTCCGCTTGCGGGACCTGGGGCCCGGCAAATCCGTCCGCGCCATTGTGGATGTGCACTTTGACCCCACCACAGCCTTCAGGGCACCCGACGTGGCCCGGGCCCTGCTCCGGCAGATCCAGGTGTCCAGGCGCCGGTCCTTGGGGGTGAGGCGGCCGCTGCAGGAGCACGTGCGATTTATGGACTTTGACTGGTTTCCTGCGTTTATCACGGGGGCCACGTCAGGAGCCATTGCTGCGGGAGCCACGGCCAGAGCCACCACTGCATCGCGCCTGCCGTCCTCTGCTGTGACCCCTCGGGCCCCGCACCCCAGTCACACAAGCCAGCCCGTTGCCAAGACCACGGCAGCCCCCACCACACGTCGGCCCCCCACCACTGCCCCCAGCCGTGTGCCCGGACGTCGGCCCCCGGCCCCCCAGCAGCCTCCAAAGCCCTGTGACTCACAGCCCTGCTTCCACGGGGGGACCTGCCAGGACTGGGCATTGGGCGGGGGCTTCACCTGCAGCTGCCCGGCAGGCAGGGGAGGCGCCGTCTGTGAGAAGGTGCTTGGCGCCCCTGTGCCGGCCTTCGAGGGCCGCTCCTTCCTGGCCTTCCCCACTCTCCGCGCCTACCACACGCTGCGCCTGGCACTGGAATTCCGGGCGCTGGAGCCTCAGGGGCTGCTGCTGTACAATGGCAACGCCCGGGGCAAGGACTTCCTGGCATTGGCGCTGCTAGATGGCCGCGTGCAGCTCAGGTTTGACACAGGTTCGGGGCCGGCGGTGCTGACCAGTGCCGTGCCGGTAGAGCCGGGCCAGTGGCACCGCCTGGAGCTGTCCCGGCACTGGCGCCGGGGCACCCTCTCGGTGGATGGTGAGACCCCTGTTCTGGGCGAGAGTCCCAGTGGCACCGACGGCCTCAACCTGGACACAGACCTCTTTGTGGGCGGCGTACCCGAGGACCAGGCTGCCGTGGCGCTGGAGCGGACCTTCGTGGGCGCCGGCCTGAGGGGGTGCATCCGTTTGCTGGACGTCAACAACCAGCGCCTGGAGCTTGGCATTGGGCCGGGGGCTGCCACCCGAGGCTCTGGCGTGGGCGAGTGCGGGGACCACCCCTGCCTGCCCAACCCCTGCCATGGCGGGGCCCCATGCCAGAACCTGGAGGCTGGAAGGTTCCATTGCCAGTGCCCGCCCGGCCGCGTCGGACCAACCTGTGCCGATGAGAAGAGCCCCTGCCAGCCCAACCCCTGCCATGGGGCGGCGCCCTGCCGTGTGCTGCCCGAGGGTGGTGCTCAGTGCGAGTGCCCCCTGGGGCGTGAGGGCACCTTCTGCCAGACAGCCTCGGGGCAGGACGGCTCTGGGCCCTTCCTGGCTGACTTCAACGGCTTCTCCCACCTGGAGCTGAGAGGCCTGCACACCTTTGCACGGGACCTGGGGGAGAAGATGGCGCTGGAGGTCGTGTTCCTGGCACGAGGCCCCAGCGGCCTCCTGCTCTACAACGGGCAGAAGACGGACGGCAAGGGGGACTTCGTGTCGCTGGCACTGCGGGACCGCCGCCTGGAGTTCCGCTACGACCTGGGCAAGGGGGCAGCGGTCATCAGGAGCAGGGAGCCAGTCACCCTGGGAGCCTGGACCAGGGTCTCACTGGAGCGAAACGGCCGCAAGGGTGCCCTGCGTGTGGGCGACGGCCCCCGTGTGTTGGGGGAGTCCCCGGTTCCGCACACCGTCCTCAACCTGAAGGAGCCGCTCTACGTAGGGGGCGCTCCCGACTTCAGCAAGCTGGCCCGTGCTGCTGCCGTGTCCTCTGGCTTCGACGGTGCCATCCAGCTGGTCTCCCTCGGAGGCCGCCAGCTGCTGACCCCGGAGCACGTGCTGCGGCAGGTGGACGTCACGTCCTTTGCAGGTCACCCCTGCACCCGGGCCTCAGGCCACCCCTGCCTCAATGGGGCCTCCTGCGTCCCGAGGGAGGCTGCCTATGTGTGCCTGTGTCCCGGGGGATTCTCAGGACCGCACTGCGAGAAGGGGCTGGTGGAGAAGTCAGCGGGGGACGTGGATACCTTGGCCTTTGACGGGCGGACCTTTGTCGAGTACCTCAACGCTGTGACCGAGAGCGAGAAGGCACTGCAGAGCAACCACTTTGAACTGAGCCTGCGCACTGAGGCCACGCAGGGGCTGGTGCTCTGGAGTGGCAAGGCCACGGAGCGGGCAGACTATGTGGCACTGGCCATTGTGGACGGGCACCTGCAACTGAGCTACAACCTGGGCTCCCAGCCCGTGGTGCTGCGTTCCACCGTGCCCGTCAACACCAACCGCTGGTTGCGGGTCGTGGCACATAGGGAGCAGAGGGAAGGTTCCCTGCAGGTGGGCAATGAGGCCCCTGTGACCGGCTCCTCCCCGCTGGGCGCCACGCAGCTGGACACTGATGGAGCCCTGTGGCTTGGGGGCCTGCCGGAGCTGCCCGTGGGCCCAGCACTGCCCAAGGCCTACGGCACAGGCTTTGTGGGCTGCTTGCGGGACGTGGTGGTGGGCCGGCACCCGCTGCACCTGCTGGAGGACGCCGTCACCAAGCCAGAGCTGCGGCCCTGCCCCACCCCATGA\n",
      "lcl|NC_000001.11_cds_NP_001351656.1_44 [gene=AGRN] [db_xref=GeneID:375790] [protein=agrin isoform 3] [protein_id=NP_001351656.1] [location=join(1034556..1034703,1035277..1035324,1040665..1040880,1041173..1041397,1041478..1041702,1041956..1042162,1043239..1043457,1043538..1043732,1043823..1044023,1044109..1044257,1044334..1044439,1045161..1045277,1045359..1045523,1045733..1045876,1045964..1046088,1046160..1046265,1046397..1046735,1046820..1046957,1047327..1047454,1047573..1047687,1047776..1047895,1048012..1048365,1048867..1049059,1049236..1049451,1049566..1049795,1049903..1050037,1050233..1050329,1050427..1050591,1050726..1050837,1051032..1051043,1051253..1051369,1051453..1051645,1051728..1051815,1053753..1053977,1054448..1054551,1054824..1054981)] [gbkey=CDS]\n",
      "ATGCCTCCGCTGCCGCTGGCGCGGGACACCCGGCAGCCGCCTGGCGCCTCCCTGCTGGTGCGAGGCTTCATGGTGCCCTGCAACGCCTGCCTGATCCTGCTGGCCACCGCCACGCTCGGCTTCGCGGTGCTGCTGTTCCTCAACAACTATAAACCCGGGACCCACTTCACTCCAGTGCCTCCGACGCCTCCTGATGCGTGCCGGGGAATGCTGTGCGGCTTCGGCGCCGTGTGCGAGCCCAACGCGGAGGGGCCGGGCCGGGCGTCCTGCGTCTGCAAGAAGAGCCCGTGCCCCAGCGTGGTGGCGCCTGTGTGTGGGTCGGACGCCTCCACCTACAGCAACGAATGCGAGCTGCAGCGGGCGCAGTGCAGCCAGCAGCGCCGCATCCGCCTGCTCAGCCGCGGGCCGTGCGGCTCGCGGGACCCCTGCTCCAACGTGACCTGCAGCTTCGGCAGCACCTGTGCGCGCTCGGCCGACGGGCTGACGGCCTCGTGCCTGTGCCCCGCGACCTGCCGTGGCGCCCCCGAGGGGACCGTCTGCGGCAGCGACGGCGCCGACTACCCCGGCGAGTGCCAGCTCCTGCGCCGCGCCTGCGCCCGCCAGGAGAATGTCTTCAAGAAGTTCGACGGCCCTTGTGACCCCTGTCAGGGCGCCCTCCCTGACCCGAGCCGCAGCTGCCGTGTGAACCCGCGCACGCGGCGCCCTGAGATGCTCCTACGGCCCGAGAGCTGCCCTGCCCGGCAGGCGCCAGTGTGTGGGGACGACGGAGTCACCTACGAAAACGACTGTGTCATGGGCCGATCGGGGGCCGCCCGGGGTCTCCTCCTGCAGAAAGTGCGCTCCGGCCAGTGCCAGGGTCGAGACCAGTGCCCGGAGCCCTGCCGGTTCAATGCCGTGTGCCTGTCCCGCCGTGGCCGTCCCCGCTGCTCCTGCGACCGCGTCACCTGTGACGGGGCCTACAGGCCCGTGTGTGCCCAGGACGGGCGCACGTATGACAGTGATTGCTGGCGGCAGCAGGCTGAGTGCCGGCAGCAGCGTGCCATCCCCAGCAAGCACCAGGGCCCGTGTGACCAGGCCCCGTCCCCATGCCTCGGGGTGCAGTGTGCATTTGGGGCGACGTGTGCTGTGAAGAACGGGCAGGCAGCGTGTGAATGCCTGCAGGCGTGCTCGAGCCTCTACGATCCTGTGTGCGGCAGCGACGGCGTCACATACGGCAGCGCGTGCGAGCTGGAGGCCACGGCCTGTACCCTCGGGCGGGAGATCCAGGTGGCGCGCAAAGGACCCTGTGACCGCTGCGGGCAGTGCCGCTTTGGAGCCCTGTGCGAGGCCGAGACCGGGCGCTGCGTGTGCCCCTCTGAATGCGTGGCTTTGGCCCAGCCCGTGTGTGGCTCCGACGGGCACACGTACCCCAGCGAGTGCATGCTGCACGTGCACGCCTGCACACACCAGATCAGCCTGCACGTGGCCTCAGCTGGACCCTGTGAGACCTGTGGAGATGCCGTGTGTGCTTTTGGGGCTGTGTGCTCCGCAGGGCAGTGTGTGTGTCCCCGGTGTGAGCACCCCCCGCCCGGCCCCGTGTGTGGCAGCGACGGTGTCACCTACGGCAGTGCCTGCGAGCTACGGGAAGCCGCCTGCCTCCAGCAGACACAGATCGAGGAGGCCCGGGCAGGGCCGTGCGAGCAGGCCGAGTGCGGTTCCGGAGGCTCTGGCTCTGGGGAGGACGGTGACTGTGAGCAGGAGCTGTGCCGGCAGCGCGGTGGCATCTGGGACGAGGACTCGGAGGACGGGCCGTGTGTCTGTGACTTCAGCTGCCAGAGTGTCCCAGGCAGCCCGGTGTGCGGCTCAGATGGGGTCACCTACAGCACCGAGTGTGAGCTGAAGAAGGCCAGGTGTGAGTCACAGCGAGGGCTCTACGTAGCGGCCCAGGGAGCCTGCCGAGGCCCCACCTTCGCCCCGCTGCCGCCTGTGGCCCCCTTACACTGTGCCCAGACGCCCTACGGCTGCTGCCAGGACAATATCACCGCAGCCCGGGGCGTGGGCCTGGCTGGCTGCCCCAGTGCCTGCCAGTGCAACCCCCATGGCTCTTACGGCGGCACCTGTGACCCAGCCACAGGCCAGTGCTCCTGCCGCCCAGGTGTGGGGGGCCTCAGGTGTGACCGCTGTGAGCCTGGCTTCTGGAACTTTCGAGGCATCGTCACCGATGGCCGGAGTGGCTGTACACCCTGCAGCTGTGATCCCCAAGGCGCCGTGCGGGATGACTGTGAGCAGATGACGGGGCTGTGCTCGTGTAAGCCCGGGGTGGCTGGACCCAAGTGTGGGCAGTGTCCAGACGGCCGTGCCCTGGGCCCCGCGGGCTGTGAAGCTGACGCTTCTGCGCCTGCGACCTGTGCGGAGATGCGCTGTGAGTTCGGTGCGCGGTGCGTGGAGGAGTCTGGCTCAGCCCACTGTGTCTGCCCGATGCTCACCTGTCCAGAGGCCAACGCTACCAAGGTCTGTGGGTCAGATGGAGTCACATACGGCAACGAGTGTCAGCTGAAGACCATCGCCTGCCGCCAGGGCCTGCAAATCTCTATCCAGAGCCTGGGCCCGTGCCAGGAGGCTGTTGCTCCCAGCACTCACCCGACATCTGCCTCCGTGACTGTGACCACCCCAGGGCTCCTCCTGAGCCAGGCACTGCCGGCCCCCCCCGGCGCCCTCCCCCTGGCTCCCAGCAGTACCGCACACAGCCAGACCACCCCTCCGCCCTCATCACGACCTCGGACCACTGCCAGCGTCCCCAGGACCACCGTGTGGCCCGTGCTGACGGTGCCCCCCACGGCACCCTCCCCTGCACCCAGCCTGGTGGCGTCCGCCTTTGGTGAATCTGGCAGCACTGATGGAAGCAGCGATGAGGAACTGAGCGGGGACCAGGAGGCCAGTGGGGGTGGCTCTGGGGGGCTCGAGCCCTTGGAGGGCAGCAGCGTGGCCACCCCTGGGCCACCTGTCGAGAGGGCTTCCTGCTACAACTCCGCGTTGGGCTGCTGCTCTGATGGGAAGACGCCCTCGCTGGACGCAGAGGGCTCCAACTGCCCCGCCACCAAGGTGTTCCAGGGCGTCCTGGAGCTGGAGGGCGTCGAGGGCCAGGAGCTGTTCTACACGCCCGAGATGGCTGACCCCAAGTCAGAACTGTTCGGGGAGACAGCCAGGAGCATTGAGAGCACCCTGGACGACCTCTTCCGGAATTCAGACGTCAAGAAGGATTTTCGGAGTGTCCGCTTGCGGGACCTGGGGCCCGGCAAATCCGTCCGCGCCATTGTGGATGTGCACTTTGACCCCACCACAGCCTTCAGGGCACCCGACGTGGCCCGGGCCCTGCTCCGGCAGATCCAGGTGTCCAGGCGCCGGTCCTTGGGGGTGAGGCGGCCGCTGCAGGAGCACGTGCGATTTATGGACTTTGACTGGTTTCCTGCGTTTATCACGGGGGCCACGTCAGGAGCCATTGCTGCGGGAGCCACGGCCAGAGCCACCACTGCATCGCGCCTGCCGTCCTCTGCTGTGACCCCTCGGGCCCCGCACCCCAGTCACACAAGCCAGCCCGTTGCCAAGACCACGGCAGCCCCCACCACACGTCGGCCCCCCACCACTGCCCCCAGCCGTGTGCCCGGACGTCGGCCCCCGGCCCCCCAGCAGCCTCCAAAGCCCTGTGACTCACAGCCCTGCTTCCACGGGGGGACCTGCCAGGACTGGGCATTGGGCGGGGGCTTCACCTGCAGCTGCCCGGCAGGCAGGGGAGGCGCCGTCTGTGAGAAGGTGCTTGGCGCCCCTGTGCCGGCCTTCGAGGGCCGCTCCTTCCTGGCCTTCCCCACTCTCCGCGCCTACCACACGCTGCGCCTGGCACTGGAATTCCGGGCGCTGGAGCCTCAGGGGCTGCTGCTGTACAATGGCAACGCCCGGGGCAAGGACTTCCTGGCATTGGCGCTGCTAGATGGCCGCGTGCAGCTCAGGTTTGACACAGGTTCGGGGCCGGCGGTGCTGACCAGTGCCGTGCCGGTAGAGCCGGGCCAGTGGCACCGCCTGGAGCTGTCCCGGCACTGGCGCCGGGGCACCCTCTCGGTGGATGGTGAGACCCCTGTTCTGGGCGAGAGTCCCAGTGGCACCGACGGCCTCAACCTGGACACAGACCTCTTTGTGGGCGGCGTACCCGAGGACCAGGCTGCCGTGGCGCTGGAGCGGACCTTCGTGGGCGCCGGCCTGAGGGGGTGCATCCGTTTGCTGGACGTCAACAACCAGCGCCTGGAGCTTGGCATTGGGCCGGGGGCTGCCACCCGAGGCTCTGGCGTGGGCGAGTGCGGGGACCACCCCTGCCTGCCCAACCCCTGCCATGGCGGGGCCCCATGCCAGAACCTGGAGGCTGGAAGGTTCCATTGCCAGTGCCCGCCCGGCCGCGTCGGACCAACCTGTGCCGATGAGAAGAGCCCCTGCCAGCCCAACCCCTGCCATGGGGCGGCGCCCTGCCGTGTGCTGCCCGAGGGTGGTGCTCAGTGCGAGTGCCCCCTGGGGCGTGAGGGCACCTTCTGCCAGACAGCCTCGGGGCAGGACGGCTCTGGGCCCTTCCTGGCTGACTTCAACGGCTTCTCCCACCTGGAGCTGAGAGGCCTGCACACCTTTGCACGGGACCTGGGGGAGAAGATGGCGCTGGAGGTCGTGTTCCTGGCACGAGGCCCCAGCGGCCTCCTGCTCTACAACGGGCAGAAGACGGACGGCAAGGGGGACTTCGTGTCGCTGGCACTGCGGGACCGCCGCCTGGAGTTCCGCTACGACCTGGGCAAGGGGGCAGCGGTCATCAGGAGCAGGGAGCCAGTCACCCTGGGAGCCTGGACCAGGGTCTCACTGGAGCGAAACGGCCGCAAGGGTGCCCTGCGTGTGGGCGACGGCCCCCGTGTGTTGGGGGAGTCCCCGAAATCCCGCAAGGTTCCGCACACCGTCCTCAACCTGAAGGAGCCGCTCTACGTAGGGGGCGCTCCCGACTTCAGCAAGCTGGCCCGTGCTGCTGCCGTGTCCTCTGGCTTCGACGGTGCCATCCAGCTGGTCTCCCTCGGAGGCCGCCAGCTGCTGACCCCGGAGCACGTGCTGCGGCAGGTGGACGTCACGTCCTTTGCAGGTCACCCCTGCACCCGGGCCTCAGGCCACCCCTGCCTCAATGGGGCCTCCTGCGTCCCGAGGGAGGCTGCCTATGTGTGCCTGTGTCCCGGGGGATTCTCAGGACCGCACTGCGAGAAGGGGCTGGTGGAGAAGTCAGCGGGGGACGTGGATACCTTGGCCTTTGACGGGCGGACCTTTGTCGAGTACCTCAACGCTGTGACCGAGAGCGAGAAGGCACTGCAGAGCAACCACTTTGAACTGAGCCTGCGCACTGAGGCCACGCAGGGGCTGGTGCTCTGGAGTGGCAAGGCCACGGAGCGGGCAGACTATGTGGCACTGGCCATTGTGGACGGGCACCTGCAACTGAGCTACAACCTGGGCTCCCAGCCCGTGGTGCTGCGTTCCACCGTGCCCGTCAACACCAACCGCTGGTTGCGGGTCGTGGCACATAGGGAGCAGAGGGAAGGTTCCCTGCAGGTGGGCAATGAGGCCCCTGTGACCGGCTCCTCCCCGCTGGGCGCCACGCAGCTGGACACTGATGGAGCCCTGTGGCTTGGGGGCCTGCCGGAGCTGCCCGTGGGCCCAGCACTGCCCAAGGCCTACGGCACAGGCTTTGTGGGCTGCTTGCGGGACGTGGTGGTGGGCCGGCACCCGCTGCACCTGCTGGAGGACGCCGTCACCAAGCCAGAGCTGCGGCCCTGCCCCACCCCATGA\n",
      "lcl|NC_000001.11_cds_NP_001192181.1_45 [gene=RNF223] [db_xref=CCDS:CCDS53257.1,Ensembl:ENSP00000410533.1,GeneID:401934] [protein=RING finger protein 223] [protein_id=NP_001192181.1] [location=complement(1071817..1072566)] [gbkey=CDS]\n",
      "ATGTCGTCAGGCCAGCAGGTGTGGCACACGGCTGTGCCACCCCCTCGCCGGAGCAGCTCCATAGCCTCGATGCCCAGGTCCCCCAGCTCGGCCGGCAGCCCCAGGTCCCCTGGCACCCCTGGCTCGGAGAGGGTGGCCTCCCCCCTGGAGTGCTCCATCTGTTTCTCAGGCTATGACAACATCTTCAAGACACCCAAGGAGCTCTCCTGCACCCACGTCTTCTGCCTGGAGTGCCTGGCCCGGCTGGCGGCTGCTCAGCCTGTGGGCCGCCCCGGTGGTGAGGCTGTACCTTGCCCCTTCTGCAGGCAGCCCACGGCCGTGCCGCCCGCCGGAGCCCCCGCGCTGTGCACCAGCCGCCAGCTGCAGGCCCGGATGCCGGCGCATTTGCGGCGTGAGGAGCCTGTGTGGCTGGAGGGCACCAAGCTGTGCTGCCAGCCACTGCCCACCACACCTGGCCGCGAGCCCGGTTTCGTATGCGTGGACGTGGGTTTGAGCAAGCCTGCCGAGCCGCCCGCGCCCGCCCGGGACCCTGCCCCCCGCCGGGGCCGCCTGGCCCGCTGCTGGGCGCGCTGCAGGGACTGGAGGCGCATGGCACTGGTCTCTGCCCTGCTGCTGATGCTCTTCTGTGTGGCACTCTGGCCGGTGCAGTGCGCGCTCAAGACCGGGAACCTGCGCTGCCTGCCCCTGCCCCCCCGGCCCCCGGCCACCAGCACAGCCGCCTCCCCCCTCGGGCCTCTGACTGATAATTAG\n",
      "lcl|NC_000001.11_cds_NP_060361.4_46 [gene=C1orf159] [db_xref=CCDS:CCDS7.2,Ensembl:ENSP00000400736.2,GeneID:54991] [protein=uncharacterized protein C1orf159 isoform 2 precursor] [protein_id=NP_060361.4] [location=complement(join(1082893..1082987,1084353..1084383,1084481..1084506,1085878..1086012,1087139..1087204,1087502..1087597,1090353..1090428,1091472..1091543))] [gbkey=CDS]\n",
      "ATGGCGCTGCGGCACCTCGCCCTCCTGGCTGGCCTTCTCGTGGGAGTCGCCAGCAAGTCCATGGAGAACACGGCCCAGCTGCCCGAGTGCTGTGTGGATGTGGTGGGCGTCAACGCCAGCTGCCCAGGCGCAAGTCTGTGTGGTCCAGGCTGTTACAGGCGCTGGAACGCGGACGGGAGCGCCAGCTGCGTCCGCTGTGGGAACGGAACCCTCCCAGCCTACAACGGCTCCGAGTGTAGAAGCTTTGCTGGCCCGGGTGCGCCATTCCCCATGAACAGAAGCTCAGGGACCCCCGGGCGGCCACATCCTGGGGCTCCGCGCGTGGCCGCCTCCCTCTTCCTGGGCACGTTCTTCATTAGCTCCGGCCTCATCCTCTCCGTAGCTGGGTTCTTCTACCTCAAGCGCTCCAGTAAACTCCCCAGGGCCTGCTACAGAAGAAACAAAGCTCCGGCCCTGCAGCCTGGCGAAGCCGCTGCAATGATCCCCCCGCCACAGTCCTCAGTACGGAAGCCGCGCTACGTCAGGCGGGAGCGGCCCCTGGACAGGGCCACGGATCCCGCTGCCTTCCCGGGGGAGGCCCGTATCAGCAATGTCTGA\n",
      "lcl|NC_000001.11_cds_NP_001350454.1_47 [gene=C1orf159] [db_xref=CCDS:CCDS85917.1,GeneID:54991] [protein=uncharacterized protein C1orf159 isoform 3 precursor] [protein_id=NP_001350454.1] [location=complement(join(1082893..1082987,1083915..1084383,1084481..1084506,1085878..1086012,1087139..1087204,1087502..1087597,1090353..1090428,1091472..1091543))] [gbkey=CDS]\n",
      "ATGGCGCTGCGGCACCTCGCCCTCCTGGCTGGCCTTCTCGTGGGAGTCGCCAGCAAGTCCATGGAGAACACGGCCCAGCTGCCCGAGTGCTGTGTGGATGTGGTGGGCGTCAACGCCAGCTGCCCAGGCGCAAGTCTGTGTGGTCCAGGCTGTTACAGGCGCTGGAACGCGGACGGGAGCGCCAGCTGCGTCCGCTGTGGGAACGGAACCCTCCCAGCCTACAACGGCTCCGAGTGTAGAAGCTTTGCTGGCCCGGGTGCGCCATTCCCCATGAACAGAAGCTCAGGGACCCCCGGGCGGCCACATCCTGGGGCTCCGCGCGTGGCCGCCTCCCTCTTCCTGGGCACGTTCTTCATTAGCTCCGGCCTCATCCTCTCCGTAGCTGGGTTCTTCTACCTCAAGCGCTCCAGTAAACTCCCCAGGGCCTGCTACAGAAGAAACAAAGCTCCGGCCCTGCAGCCTGGCGAAGCCGCTGCAATGATCCCCCCGCCACAGTCCTCAGGTAACAGCAGCTGTCGCATCCCCCTGTGGGGTTTCCCATCTCTGGGCCAGTCCCAGGGTGCTCTGTGGGTTTGTCCCCAAACGGGTTTGCCTGGCTCTGGATCTCGGCCACCCCTGCCCGGGTCCCCAGGAGACCCACCCACAAGGCAGGGCCAGGGCCGGATTTGGCTGGTGCCCCCTGCTCTGGATCTCAGCTGGATTTGGCCGGCGCCCCCTGCCCGCCCCCCTTTAATCCCCGTGACTTCCATGCTCTTTCCTGTTCCCGAGACGTGGGGTCTGCAGGAAAGGAGGACCCACCACGACAGGGCAGACCCCCAATACCTGCTCCTCCTTGAAGTCCAGCTCCACCCGAGGACAGACGCAGCCGGCCTCCGCCAGGCCCTCCTGAGCAGCCATCGCTTCAGTGGTGCTGGGTCAGGCGGACCCAAGAGTCAGCCCGTACGGAAGCCGCGCTACGTCAGGCGGGAGCGGCCCCTGGACAGGGCCACGGATCCCGCTGCCTTCCCGGGGGAGGCCCGTATCAGCAATGTCTGA\n",
      "lcl|NC_000001.11_cds_NP_001317235.1_48 [gene=C1orf159] [db_xref=CCDS:CCDS81250.1,GeneID:54991] [protein=uncharacterized protein C1orf159 isoform 1 precursor] [protein_id=NP_001317235.1] [location=complement(join(1082893..1082987,1083915..1084383,1084481..1084506,1085878..1086012,1087139..1087204,1087502..1087597,1090353..1090428,1090876..1090983,1091472..1091543))] [gbkey=CDS]\n",
      "ATGGCGCTGCGGCACCTCGCCCTCCTGGCTGGCCTTCTCGTGGGAGTCGCCAGCAAGTCCATGGAGAACACGGTCACGAGAAACAGCACAGCTGTGATCAACACACAAGCTGAGGGTACCCTGAGCCCCCCAGGCCTGTCCAGTCTGCCTGTGGTCAGGGAATGGGCCCTCACACACACCGCCCAGCTGCCCGAGTGCTGTGTGGATGTGGTGGGCGTCAACGCCAGCTGCCCAGGCGCAAGTCTGTGTGGTCCAGGCTGTTACAGGCGCTGGAACGCGGACGGGAGCGCCAGCTGCGTCCGCTGTGGGAACGGAACCCTCCCAGCCTACAACGGCTCCGAGTGTAGAAGCTTTGCTGGCCCGGGTGCGCCATTCCCCATGAACAGAAGCTCAGGGACCCCCGGGCGGCCACATCCTGGGGCTCCGCGCGTGGCCGCCTCCCTCTTCCTGGGCACGTTCTTCATTAGCTCCGGCCTCATCCTCTCCGTAGCTGGGTTCTTCTACCTCAAGCGCTCCAGTAAACTCCCCAGGGCCTGCTACAGAAGAAACAAAGCTCCGGCCCTGCAGCCTGGCGAAGCCGCTGCAATGATCCCCCCGCCACAGTCCTCAGGTAACAGCAGCTGTCGCATCCCCCTGTGGGGTTTCCCATCTCTGGGCCAGTCCCAGGGTGCTCTGTGGGTTTGTCCCCAAACGGGTTTGCCTGGCTCTGGATCTCGGCCACCCCTGCCCGGGTCCCCAGGAGACCCACCCACAAGGCAGGGCCAGGGCCGGATTTGGCTGGTGCCCCCTGCTCTGGATCTCAGCTGGATTTGGCCGGCGCCCCCTGCCCGCCCCCCTTTAATCCCCGTGACTTCCATGCTCTTTCCTGTTCCCGAGACGTGGGGTCTGCAGGAAAGGAGGACCCACCACGACAGGGCAGACCCCCAATACCTGCTCCTCCTTGAAGTCCAGCTCCACCCGAGGACAGACGCAGCCGGCCTCCGCCAGGCCCTCCTGAGCAGCCATCGCTTCAGTGGTGCTGGGTCAGGCGGACCCAAGAGTCAGCCCGTACGGAAGCCGCGCTACGTCAGGCGGGAGCGGCCCCTGGACAGGGCCACGGATCCCGCTGCCTTCCCGGGGGAGGCCCGTATCAGCAATGTCTGA\n",
      "lcl|NC_000001.11_cds_XP_016856401.1_49 [gene=TTLL10] [db_xref=GeneID:254173] [protein=inactive polyglycylase TTLL10 isoform X7] [protein_id=XP_016856401.1] [location=join(1179216..1179333,1179657..1179737,1180034..1180340,1180483..1180601,1180731..1180860,1181741..1181815,1182361..1182446,1182876..1183047,1183920..1184091,1184969..1185109,1196600..1196716,1197093..1197186,1197438..1197847)] [gbkey=CDS]\n",
      "ATGGACCACAGCTGCACCCGGTTCATCCACCGCCGGGGACCACCCACTCGGACCCGAGCCGGCTTCAAGAGGGGCAAGAGGCCAAGGATCCAGCAGAGGCCTCGGGCTCGAGTCTCAGGGACCATCCCTGCGTCACGTCTGCACCCAGCACCGGCCTCACAGCCCGGCCCCTGCCCTGCACCAGGCCACTGCCCTGTTGGCCCGGCCCACGAGAGGCCAATGGGGAGCAGCCAGGAGGAGGGACTCCGGTGTCAGCCAAGCCAGCCAGACCACGACGCAGATGGACACTGTGGGCCGGACCTGGAGGGGGCAGAAAGAGCCTCTGCCACACCCGGACCCCCTGGGCTCCTGAACAGCCACCGGCCTGCAGACTCGGATGACACTAACGCCGCCGGGCCCTCAGCTGCCCTCCTGGAGGGGCTCCTGCTGGGGGGTGGGAAGCCATCGCCCCACAGCACCCGGCCGGGGCCCTTCTTCTACATTGGAGGCAGCAACGGGGCCACAATCATCAGCTCCTACTGCAAAAGCAAGGGCTGGCAGCGCATCCATGACAGCCGCCGGGACGACTACACGCTGAAGTGGTGTGAGGTCAAGAGCCGAGACAGCTACGGCAGCTTCCGGGAAGGAGAGCAGCTGCTGTACCAGCTTCCCAACAACAAGCTCCTCACCACCAAGATCGGGCTGCTCAGCACCCTTCGGGGACGGGCACGGGCCATGAGCAAGGCCAGCAAGGTGCCGGGGGGGGTCCAGGCCAGGCTGGAAAAGGACGCAGCAGCGCCCGCCCTGGAGGACCTCCCGTGGACAAGCCCAGGATACCTCAGGCCACAGAGGGTCCTGAGAATGGAAGAGTTTTTCCCAGAGACCTACCGCCTGGACCTCAAACACGAGAGAGAGGCCTTTTTCACCTTGTTTGATGAAACCCAGATATGGATCTGCAAGCCCACAGCCTCCAACCAGGGCAAAGGCATCTTCCTGCTCCGGAACCAGGAGGAAGTTGCCGCCCTGCAGGCCAAGACCCGGAGCATGGAGGACGACCCCATCCACCACAAGACGCCGTTCCGGGGGCCTCAGGCGCGGGTGGTGCAGAGGTACATCCAGAACCCGCTGCTGGTGGACGGGAGAAAGTTTGACGTGCGCTCCTACCTGCTCATTGCCTGCACCACACCCTACATGATCTTCTTTGGCCACGGCTATGCTCGCCTCACCCTTAGCCTTTACGACCCCCATTCCAGCGACCTCGGCGGCCACTTGACCAACCAGTTCATGCAGAAGAAGAGCCCTCTGTACATGCTGCTGAAGGAGCACACGGTGTGGAGCATGGAACACCTCAACCGCTACATCAGTGACACGTTCTGGAAGGCCCGGGGCCTCGCCAAGGACTGGGTCTTCACCACCCTCAAGAAGCGGATGCAGCAGATCATGGCCCACTGCTTTCTGGCCGCCAAGCCCAAGCTGGACTGCAAGCTGGGTTACTTTGACCTCATTGGCTGTGACTTCCTGATTGATGACAACTTCAAGGTATGGCTGCTGGAGATGAATTCTAACCCAGCCCTGCACACCAACTGCGAGGTCCTGAAGGAGGTCATCCCAGGTGTGGTCATCGAGACCCTGGACCTGGTGCTCGAGACCTTCCGGAAGAGCCTGCGCGGCCAGAAGATGTTGCCTCTGCTGTCCCAGCGCCGCTTCGTGCTCCTGCACAACGGTGAGGCCGACCCGCGGCCGCACCTGGGGGGCTCGTGCAGCCTCCGCCGCTGGCCGCCCCTGCCCACCCGCCAGGCCAAGTCCTCCGGGCCACCCATGCCGCATGCCCCAGACCAGCCGGGCGCCCGCAGGCCTGCGCCACCTCCCTTGGTGCCGCAGCGTCCCCGGCCACCCGGCCCCGACCTGGACAGCGCCCACGATGGGGAGCCCCAGGCCCCGGGCACGGAGCAGTCGGGCACAGGCAACAGGCACCCGGCGCAAGAGCCTTCCCCGGGGACAGCCAAGGAGGAACGCGAGGAGCCTGAGAACGCGAGGCCCTAG\n",
      "lcl|NC_000001.11_cds_NP_001358578.1_50 [gene=TTLL10] [db_xref=GeneID:254173] [protein=inactive polyglycylase TTLL10 isoform 1] [protein_id=NP_001358578.1] [location=join(1179216..1179333,1179657..1179737,1180034..1180340,1180483..1180601,1180731..1180860,1181741..1181815,1182361..1182446,1182876..1183047,1183920..1184091,1184969..1185109,1196600..1196716,1197093..1197186,1197438..1197847)] [gbkey=CDS]\n",
      "ATGGACCACAGCTGCACCCGGTTCATCCACCGCCGGGGACCACCCACTCGGACCCGAGCCGGCTTCAAGAGGGGCAAGAGGCCAAGGATCCAGCAGAGGCCTCGGGCTCGAGTCTCAGGGACCATCCCTGCGTCACGTCTGCACCCAGCACCGGCCTCACAGCCCGGCCCCTGCCCTGCACCAGGCCACTGCCCTGTTGGCCCGGCCCACGAGAGGCCAATGGGGAGCAGCCAGGAGGAGGGACTCCGGTGTCAGCCAAGCCAGCCAGACCACGACGCAGATGGACACTGTGGGCCGGACCTGGAGGGGGCAGAAAGAGCCTCTGCCACACCCGGACCCCCTGGGCTCCTGAACAGCCACCGGCCTGCAGACTCGGATGACACTAACGCCGCCGGGCCCTCAGCTGCCCTCCTGGAGGGGCTCCTGCTGGGGGGTGGGAAGCCATCGCCCCACAGCACCCGGCCGGGGCCCTTCTTCTACATTGGAGGCAGCAACGGGGCCACAATCATCAGCTCCTACTGCAAAAGCAAGGGCTGGCAGCGCATCCATGACAGCCGCCGGGACGACTACACGCTGAAGTGGTGTGAGGTCAAGAGCCGAGACAGCTACGGCAGCTTCCGGGAAGGAGAGCAGCTGCTGTACCAGCTTCCCAACAACAAGCTCCTCACCACCAAGATCGGGCTGCTCAGCACCCTTCGGGGACGGGCACGGGCCATGAGCAAGGCCAGCAAGGTGCCGGGGGGGGTCCAGGCCAGGCTGGAAAAGGACGCAGCAGCGCCCGCCCTGGAGGACCTCCCGTGGACAAGCCCAGGATACCTCAGGCCACAGAGGGTCCTGAGAATGGAAGAGTTTTTCCCAGAGACCTACCGCCTGGACCTCAAACACGAGAGAGAGGCCTTTTTCACCTTGTTTGATGAAACCCAGATATGGATCTGCAAGCCCACAGCCTCCAACCAGGGCAAAGGCATCTTCCTGCTCCGGAACCAGGAGGAAGTTGCCGCCCTGCAGGCCAAGACCCGGAGCATGGAGGACGACCCCATCCACCACAAGACGCCGTTCCGGGGGCCTCAGGCGCGGGTGGTGCAGAGGTACATCCAGAACCCGCTGCTGGTGGACGGGAGAAAGTTTGACGTGCGCTCCTACCTGCTCATTGCCTGCACCACACCCTACATGATCTTCTTTGGCCACGGCTATGCTCGCCTCACCCTTAGCCTTTACGACCCCCATTCCAGCGACCTCGGCGGCCACTTGACCAACCAGTTCATGCAGAAGAAGAGCCCTCTGTACATGCTGCTGAAGGAGCACACGGTGTGGAGCATGGAACACCTCAACCGCTACATCAGTGACACGTTCTGGAAGGCCCGGGGCCTCGCCAAGGACTGGGTCTTCACCACCCTCAAGAAGCGGATGCAGCAGATCATGGCCCACTGCTTTCTGGCCGCCAAGCCCAAGCTGGACTGCAAGCTGGGTTACTTTGACCTCATTGGCTGTGACTTCCTGATTGATGACAACTTCAAGGTATGGCTGCTGGAGATGAATTCTAACCCAGCCCTGCACACCAACTGCGAGGTCCTGAAGGAGGTCATCCCAGGTGTGGTCATCGAGACCCTGGACCTGGTGCTCGAGACCTTCCGGAAGAGCCTGCGCGGCCAGAAGATGTTGCCTCTGCTGTCCCAGCGCCGCTTCGTGCTCCTGCACAACGGTGAGGCCGACCCGCGGCCGCACCTGGGGGGCTCGTGCAGCCTCCGCCGCTGGCCGCCCCTGCCCACCCGCCAGGCCAAGTCCTCCGGGCCACCCATGCCGCATGCCCCAGACCAGCCGGGCGCCCGCAGGCCTGCGCCACCTCCCTTGGTGCCGCAGCGTCCCCGGCCACCCGGCCCCGACCTGGACAGCGCCCACGATGGGGAGCCCCAGGCCCCGGGCACGGAGCAGTCGGGCACAGGCAACAGGCACCCGGCGCAAGAGCCTTCCCCGGGGACAGCCAAGGAGGAACGCGAGGAGCCTGAGAACGCGAGGCCCTAG\n",
      "lcl|NC_000001.11_cds_NP_001123517.1_51 [gene=TTLL10] [db_xref=CCDS:CCDS44036.1,Ensembl:ENSP00000368591.1,GeneID:254173] [protein=inactive polyglycylase TTLL10 isoform 1] [protein_id=NP_001123517.1] [location=join(1179216..1179333,1179657..1179737,1180034..1180340,1180483..1180601,1180731..1180860,1181741..1181815,1182361..1182446,1182876..1183047,1183920..1184091,1184969..1185109,1196600..1196716,1197093..1197186,1197438..1197847)] [gbkey=CDS]\n",
      "ATGGACCACAGCTGCACCCGGTTCATCCACCGCCGGGGACCACCCACTCGGACCCGAGCCGGCTTCAAGAGGGGCAAGAGGCCAAGGATCCAGCAGAGGCCTCGGGCTCGAGTCTCAGGGACCATCCCTGCGTCACGTCTGCACCCAGCACCGGCCTCACAGCCCGGCCCCTGCCCTGCACCAGGCCACTGCCCTGTTGGCCCGGCCCACGAGAGGCCAATGGGGAGCAGCCAGGAGGAGGGACTCCGGTGTCAGCCAAGCCAGCCAGACCACGACGCAGATGGACACTGTGGGCCGGACCTGGAGGGGGCAGAAAGAGCCTCTGCCACACCCGGACCCCCTGGGCTCCTGAACAGCCACCGGCCTGCAGACTCGGATGACACTAACGCCGCCGGGCCCTCAGCTGCCCTCCTGGAGGGGCTCCTGCTGGGGGGTGGGAAGCCATCGCCCCACAGCACCCGGCCGGGGCCCTTCTTCTACATTGGAGGCAGCAACGGGGCCACAATCATCAGCTCCTACTGCAAAAGCAAGGGCTGGCAGCGCATCCATGACAGCCGCCGGGACGACTACACGCTGAAGTGGTGTGAGGTCAAGAGCCGAGACAGCTACGGCAGCTTCCGGGAAGGAGAGCAGCTGCTGTACCAGCTTCCCAACAACAAGCTCCTCACCACCAAGATCGGGCTGCTCAGCACCCTTCGGGGACGGGCACGGGCCATGAGCAAGGCCAGCAAGGTGCCGGGGGGGGTCCAGGCCAGGCTGGAAAAGGACGCAGCAGCGCCCGCCCTGGAGGACCTCCCGTGGACAAGCCCAGGATACCTCAGGCCACAGAGGGTCCTGAGAATGGAAGAGTTTTTCCCAGAGACCTACCGCCTGGACCTCAAACACGAGAGAGAGGCCTTTTTCACCTTGTTTGATGAAACCCAGATATGGATCTGCAAGCCCACAGCCTCCAACCAGGGCAAAGGCATCTTCCTGCTCCGGAACCAGGAGGAAGTTGCCGCCCTGCAGGCCAAGACCCGGAGCATGGAGGACGACCCCATCCACCACAAGACGCCGTTCCGGGGGCCTCAGGCGCGGGTGGTGCAGAGGTACATCCAGAACCCGCTGCTGGTGGACGGGAGAAAGTTTGACGTGCGCTCCTACCTGCTCATTGCCTGCACCACACCCTACATGATCTTCTTTGGCCACGGCTATGCTCGCCTCACCCTTAGCCTTTACGACCCCCATTCCAGCGACCTCGGCGGCCACTTGACCAACCAGTTCATGCAGAAGAAGAGCCCTCTGTACATGCTGCTGAAGGAGCACACGGTGTGGAGCATGGAACACCTCAACCGCTACATCAGTGACACGTTCTGGAAGGCCCGGGGCCTCGCCAAGGACTGGGTCTTCACCACCCTCAAGAAGCGGATGCAGCAGATCATGGCCCACTGCTTTCTGGCCGCCAAGCCCAAGCTGGACTGCAAGCTGGGTTACTTTGACCTCATTGGCTGTGACTTCCTGATTGATGACAACTTCAAGGTATGGCTGCTGGAGATGAATTCTAACCCAGCCCTGCACACCAACTGCGAGGTCCTGAAGGAGGTCATCCCAGGTGTGGTCATCGAGACCCTGGACCTGGTGCTCGAGACCTTCCGGAAGAGCCTGCGCGGCCAGAAGATGTTGCCTCTGCTGTCCCAGCGCCGCTTCGTGCTCCTGCACAACGGTGAGGCCGACCCGCGGCCGCACCTGGGGGGCTCGTGCAGCCTCCGCCGCTGGCCGCCCCTGCCCACCCGCCAGGCCAAGTCCTCCGGGCCACCCATGCCGCATGCCCCAGACCAGCCGGGCGCCCGCAGGCCTGCGCCACCTCCCTTGGTGCCGCAGCGTCCCCGGCCACCCGGCCCCGACCTGGACAGCGCCCACGATGGGGAGCCCCAGGCCCCGGGCACGGAGCAGTCGGGCACAGGCAACAGGCACCCGGCGCAAGAGCCTTCCCCGGGGACAGCCAAGGAGGAACGCGAGGAGCCTGAGAACGCGAGGCCCTAG\n",
      "lcl|NC_000001.11_cds_XP_011539479.1_52 [gene=TTLL10] [db_xref=GeneID:254173] [protein=inactive polyglycylase TTLL10 isoform X7] [protein_id=XP_011539479.1] [location=join(1179216..1179333,1179657..1179737,1180034..1180340,1180483..1180601,1180731..1180860,1181741..1181815,1182361..1182446,1182876..1183047,1183920..1184091,1184969..1185109,1196600..1196716,1197093..1197186,1197438..1197847)] [gbkey=CDS]\n",
      "ATGGACCACAGCTGCACCCGGTTCATCCACCGCCGGGGACCACCCACTCGGACCCGAGCCGGCTTCAAGAGGGGCAAGAGGCCAAGGATCCAGCAGAGGCCTCGGGCTCGAGTCTCAGGGACCATCCCTGCGTCACGTCTGCACCCAGCACCGGCCTCACAGCCCGGCCCCTGCCCTGCACCAGGCCACTGCCCTGTTGGCCCGGCCCACGAGAGGCCAATGGGGAGCAGCCAGGAGGAGGGACTCCGGTGTCAGCCAAGCCAGCCAGACCACGACGCAGATGGACACTGTGGGCCGGACCTGGAGGGGGCAGAAAGAGCCTCTGCCACACCCGGACCCCCTGGGCTCCTGAACAGCCACCGGCCTGCAGACTCGGATGACACTAACGCCGCCGGGCCCTCAGCTGCCCTCCTGGAGGGGCTCCTGCTGGGGGGTGGGAAGCCATCGCCCCACAGCACCCGGCCGGGGCCCTTCTTCTACATTGGAGGCAGCAACGGGGCCACAATCATCAGCTCCTACTGCAAAAGCAAGGGCTGGCAGCGCATCCATGACAGCCGCCGGGACGACTACACGCTGAAGTGGTGTGAGGTCAAGAGCCGAGACAGCTACGGCAGCTTCCGGGAAGGAGAGCAGCTGCTGTACCAGCTTCCCAACAACAAGCTCCTCACCACCAAGATCGGGCTGCTCAGCACCCTTCGGGGACGGGCACGGGCCATGAGCAAGGCCAGCAAGGTGCCGGGGGGGGTCCAGGCCAGGCTGGAAAAGGACGCAGCAGCGCCCGCCCTGGAGGACCTCCCGTGGACAAGCCCAGGATACCTCAGGCCACAGAGGGTCCTGAGAATGGAAGAGTTTTTCCCAGAGACCTACCGCCTGGACCTCAAACACGAGAGAGAGGCCTTTTTCACCTTGTTTGATGAAACCCAGATATGGATCTGCAAGCCCACAGCCTCCAACCAGGGCAAAGGCATCTTCCTGCTCCGGAACCAGGAGGAAGTTGCCGCCCTGCAGGCCAAGACCCGGAGCATGGAGGACGACCCCATCCACCACAAGACGCCGTTCCGGGGGCCTCAGGCGCGGGTGGTGCAGAGGTACATCCAGAACCCGCTGCTGGTGGACGGGAGAAAGTTTGACGTGCGCTCCTACCTGCTCATTGCCTGCACCACACCCTACATGATCTTCTTTGGCCACGGCTATGCTCGCCTCACCCTTAGCCTTTACGACCCCCATTCCAGCGACCTCGGCGGCCACTTGACCAACCAGTTCATGCAGAAGAAGAGCCCTCTGTACATGCTGCTGAAGGAGCACACGGTGTGGAGCATGGAACACCTCAACCGCTACATCAGTGACACGTTCTGGAAGGCCCGGGGCCTCGCCAAGGACTGGGTCTTCACCACCCTCAAGAAGCGGATGCAGCAGATCATGGCCCACTGCTTTCTGGCCGCCAAGCCCAAGCTGGACTGCAAGCTGGGTTACTTTGACCTCATTGGCTGTGACTTCCTGATTGATGACAACTTCAAGGTATGGCTGCTGGAGATGAATTCTAACCCAGCCCTGCACACCAACTGCGAGGTCCTGAAGGAGGTCATCCCAGGTGTGGTCATCGAGACCCTGGACCTGGTGCTCGAGACCTTCCGGAAGAGCCTGCGCGGCCAGAAGATGTTGCCTCTGCTGTCCCAGCGCCGCTTCGTGCTCCTGCACAACGGTGAGGCCGACCCGCGGCCGCACCTGGGGGGCTCGTGCAGCCTCCGCCGCTGGCCGCCCCTGCCCACCCGCCAGGCCAAGTCCTCCGGGCCACCCATGCCGCATGCCCCAGACCAGCCGGGCGCCCGCAGGCCTGCGCCACCTCCCTTGGTGCCGCAGCGTCCCCGGCCACCCGGCCCCGACCTGGACAGCGCCCACGATGGGGAGCCCCAGGCCCCGGGCACGGAGCAGTCGGGCACAGGCAACAGGCACCCGGCGCAAGAGCCTTCCCCGGGGACAGCCAAGGAGGAACGCGAGGAGCCTGAGAACGCGAGGCCCTAG\n",
      "lcl|NC_000001.11_cds_XP_016856395.1_53 [gene=TTLL10] [db_xref=GeneID:254173] [protein=inactive polyglycylase TTLL10 isoform X1] [protein_id=XP_016856395.1] [location=join(1179216..1179333,1180034..1180340,1180483..1180601,1180731..1180860,1181741..1181815,1182361..1182446,1182876..1183047,1183920..1184091,1184969..1185109,1196600..1196716,1197093..1197186,1197438..1197847)] [gbkey=CDS]\n",
      "ATGGACCACAGCTGCACCCGGTTCATCCACCGCCGGGGACCACCCACTCGGACCCGAGCCGGCTTCAAGAGGGGCAAGAGGCCAAGGATCCAGCAGAGGCCTCGGGCTCGAGTCTCAGGCCCGGCCCACGAGAGGCCAATGGGGAGCAGCCAGGAGGAGGGACTCCGGTGTCAGCCAAGCCAGCCAGACCACGACGCAGATGGACACTGTGGGCCGGACCTGGAGGGGGCAGAAAGAGCCTCTGCCACACCCGGACCCCCTGGGCTCCTGAACAGCCACCGGCCTGCAGACTCGGATGACACTAACGCCGCCGGGCCCTCAGCTGCCCTCCTGGAGGGGCTCCTGCTGGGGGGTGGGAAGCCATCGCCCCACAGCACCCGGCCGGGGCCCTTCTTCTACATTGGAGGCAGCAACGGGGCCACAATCATCAGCTCCTACTGCAAAAGCAAGGGCTGGCAGCGCATCCATGACAGCCGCCGGGACGACTACACGCTGAAGTGGTGTGAGGTCAAGAGCCGAGACAGCTACGGCAGCTTCCGGGAAGGAGAGCAGCTGCTGTACCAGCTTCCCAACAACAAGCTCCTCACCACCAAGATCGGGCTGCTCAGCACCCTTCGGGGACGGGCACGGGCCATGAGCAAGGCCAGCAAGGTGCCGGGGGGGGTCCAGGCCAGGCTGGAAAAGGACGCAGCAGCGCCCGCCCTGGAGGACCTCCCGTGGACAAGCCCAGGATACCTCAGGCCACAGAGGGTCCTGAGAATGGAAGAGTTTTTCCCAGAGACCTACCGCCTGGACCTCAAACACGAGAGAGAGGCCTTTTTCACCTTGTTTGATGAAACCCAGATATGGATCTGCAAGCCCACAGCCTCCAACCAGGGCAAAGGCATCTTCCTGCTCCGGAACCAGGAGGAAGTTGCCGCCCTGCAGGCCAAGACCCGGAGCATGGAGGACGACCCCATCCACCACAAGACGCCGTTCCGGGGGCCTCAGGCGCGGGTGGTGCAGAGGTACATCCAGAACCCGCTGCTGGTGGACGGGAGAAAGTTTGACGTGCGCTCCTACCTGCTCATTGCCTGCACCACACCCTACATGATCTTCTTTGGCCACGGCTATGCTCGCCTCACCCTTAGCCTTTACGACCCCCATTCCAGCGACCTCGGCGGCCACTTGACCAACCAGTTCATGCAGAAGAAGAGCCCTCTGTACATGCTGCTGAAGGAGCACACGGTGTGGAGCATGGAACACCTCAACCGCTACATCAGTGACACGTTCTGGAAGGCCCGGGGCCTCGCCAAGGACTGGGTCTTCACCACCCTCAAGAAGCGGATGCAGCAGATCATGGCCCACTGCTTTCTGGCCGCCAAGCCCAAGCTGGACTGCAAGCTGGGTTACTTTGACCTCATTGGCTGTGACTTCCTGATTGATGACAACTTCAAGGTATGGCTGCTGGAGATGAATTCTAACCCAGCCCTGCACACCAACTGCGAGGTCCTGAAGGAGGTCATCCCAGGTGTGGTCATCGAGACCCTGGACCTGGTGCTCGAGACCTTCCGGAAGAGCCTGCGCGGCCAGAAGATGTTGCCTCTGCTGTCCCAGCGCCGCTTCGTGCTCCTGCACAACGGTGAGGCCGACCCGCGGCCGCACCTGGGGGGCTCGTGCAGCCTCCGCCGCTGGCCGCCCCTGCCCACCCGCCAGGCCAAGTCCTCCGGGCCACCCATGCCGCATGCCCCAGACCAGCCGGGCGCCCGCAGGCCTGCGCCACCTCCCTTGGTGCCGCAGCGTCCCCGGCCACCCGGCCCCGACCTGGACAGCGCCCACGATGGGGAGCCCCAGGCCCCGGGCACGGAGCAGTCGGGCACAGGCAACAGGCACCCGGCGCAAGAGCCTTCCCCGGGGACAGCCAAGGAGGAACGCGAGGAGCCTGAGAACGCGAGGCCCTAG\n",
      "lcl|NC_000001.11_cds_XP_016856398.1_54 [gene=TTLL10] [db_xref=GeneID:254173] [protein=inactive polyglycylase TTLL10 isoform X4] [protein_id=XP_016856398.1] [location=join(1179216..1179333,1179657..1179737,1180034..1180340,1180483..1180601,1180731..1180860,1181741..1181815,1182361..1182446,1182876..1183047,1183920..1184091,1184969..1185109,1194607..1194708)] [gbkey=CDS]\n",
      "ATGGACCACAGCTGCACCCGGTTCATCCACCGCCGGGGACCACCCACTCGGACCCGAGCCGGCTTCAAGAGGGGCAAGAGGCCAAGGATCCAGCAGAGGCCTCGGGCTCGAGTCTCAGGGACCATCCCTGCGTCACGTCTGCACCCAGCACCGGCCTCACAGCCCGGCCCCTGCCCTGCACCAGGCCACTGCCCTGTTGGCCCGGCCCACGAGAGGCCAATGGGGAGCAGCCAGGAGGAGGGACTCCGGTGTCAGCCAAGCCAGCCAGACCACGACGCAGATGGACACTGTGGGCCGGACCTGGAGGGGGCAGAAAGAGCCTCTGCCACACCCGGACCCCCTGGGCTCCTGAACAGCCACCGGCCTGCAGACTCGGATGACACTAACGCCGCCGGGCCCTCAGCTGCCCTCCTGGAGGGGCTCCTGCTGGGGGGTGGGAAGCCATCGCCCCACAGCACCCGGCCGGGGCCCTTCTTCTACATTGGAGGCAGCAACGGGGCCACAATCATCAGCTCCTACTGCAAAAGCAAGGGCTGGCAGCGCATCCATGACAGCCGCCGGGACGACTACACGCTGAAGTGGTGTGAGGTCAAGAGCCGAGACAGCTACGGCAGCTTCCGGGAAGGAGAGCAGCTGCTGTACCAGCTTCCCAACAACAAGCTCCTCACCACCAAGATCGGGCTGCTCAGCACCCTTCGGGGACGGGCACGGGCCATGAGCAAGGCCAGCAAGGTGCCGGGGGGGGTCCAGGCCAGGCTGGAAAAGGACGCAGCAGCGCCCGCCCTGGAGGACCTCCCGTGGACAAGCCCAGGATACCTCAGGCCACAGAGGGTCCTGAGAATGGAAGAGTTTTTCCCAGAGACCTACCGCCTGGACCTCAAACACGAGAGAGAGGCCTTTTTCACCTTGTTTGATGAAACCCAGATATGGATCTGCAAGCCCACAGCCTCCAACCAGGGCAAAGGCATCTTCCTGCTCCGGAACCAGGAGGAAGTTGCCGCCCTGCAGGCCAAGACCCGGAGCATGGAGGACGACCCCATCCACCACAAGACGCCGTTCCGGGGGCCTCAGGCGCGGGTGGTGCAGAGGTACATCCAGAACCCGCTGCTGGTGGACGGGAGAAAGTTTGACGTGCGCTCCTACCTGCTCATTGCCTGCACCACACCCTACATGATCTTCTTTGGCCACGGCTATGCTCGCCTCACCCTTAGCCTTTACGACCCCCATTCCAGCGACCTCGGCGGCCACTTGACCAACCAGTTCATGCAGAAGAAGAGCCCTCTGTACATGCTGCTGAAGGAGCACACGGTGTGGAGCATGGAACACCTCAACCGCTACATCAGTGACACGTTCTGGAAGGCCCGGGGCCTCGCCAAGGACTGGGTCTTCACCACCCTCAAGTATTTTTACTTTTGGGAATTTGTGCCATCCCACTGCCTGCCCACCTCACGACCTCTAATGAGAAACTGGCTGTTCATCTTTCTGTGGATGCCTCATACATAA\n",
      "lcl|NC_000001.11_cds_XP_016856400.1_55 [gene=TTLL10] [db_xref=GeneID:254173] [protein=inactive polyglycylase TTLL10 isoform X6] [protein_id=XP_016856400.1] [location=join(1179216..1179333,1179657..1179737,1180034..1180340,1180483..1180601,1180731..1180860,1181741..1181815,1182361..1182446,1182876..1183047,1183920..1184091,1184969..1185109,1188818..1188883)] [gbkey=CDS]\n",
      "ATGGACCACAGCTGCACCCGGTTCATCCACCGCCGGGGACCACCCACTCGGACCCGAGCCGGCTTCAAGAGGGGCAAGAGGCCAAGGATCCAGCAGAGGCCTCGGGCTCGAGTCTCAGGGACCATCCCTGCGTCACGTCTGCACCCAGCACCGGCCTCACAGCCCGGCCCCTGCCCTGCACCAGGCCACTGCCCTGTTGGCCCGGCCCACGAGAGGCCAATGGGGAGCAGCCAGGAGGAGGGACTCCGGTGTCAGCCAAGCCAGCCAGACCACGACGCAGATGGACACTGTGGGCCGGACCTGGAGGGGGCAGAAAGAGCCTCTGCCACACCCGGACCCCCTGGGCTCCTGAACAGCCACCGGCCTGCAGACTCGGATGACACTAACGCCGCCGGGCCCTCAGCTGCCCTCCTGGAGGGGCTCCTGCTGGGGGGTGGGAAGCCATCGCCCCACAGCACCCGGCCGGGGCCCTTCTTCTACATTGGAGGCAGCAACGGGGCCACAATCATCAGCTCCTACTGCAAAAGCAAGGGCTGGCAGCGCATCCATGACAGCCGCCGGGACGACTACACGCTGAAGTGGTGTGAGGTCAAGAGCCGAGACAGCTACGGCAGCTTCCGGGAAGGAGAGCAGCTGCTGTACCAGCTTCCCAACAACAAGCTCCTCACCACCAAGATCGGGCTGCTCAGCACCCTTCGGGGACGGGCACGGGCCATGAGCAAGGCCAGCAAGGTGCCGGGGGGGGTCCAGGCCAGGCTGGAAAAGGACGCAGCAGCGCCCGCCCTGGAGGACCTCCCGTGGACAAGCCCAGGATACCTCAGGCCACAGAGGGTCCTGAGAATGGAAGAGTTTTTCCCAGAGACCTACCGCCTGGACCTCAAACACGAGAGAGAGGCCTTTTTCACCTTGTTTGATGAAACCCAGATATGGATCTGCAAGCCCACAGCCTCCAACCAGGGCAAAGGCATCTTCCTGCTCCGGAACCAGGAGGAAGTTGCCGCCCTGCAGGCCAAGACCCGGAGCATGGAGGACGACCCCATCCACCACAAGACGCCGTTCCGGGGGCCTCAGGCGCGGGTGGTGCAGAGGTACATCCAGAACCCGCTGCTGGTGGACGGGAGAAAGTTTGACGTGCGCTCCTACCTGCTCATTGCCTGCACCACACCCTACATGATCTTCTTTGGCCACGGCTATGCTCGCCTCACCCTTAGCCTTTACGACCCCCATTCCAGCGACCTCGGCGGCCACTTGACCAACCAGTTCATGCAGAAGAAGAGCCCTCTGTACATGCTGCTGAAGGAGCACACGGTGTGGAGCATGGAACACCTCAACCGCTACATCAGTGACACGTTCTGGAAGGCCCGGGGCCTCGCCAAGGACTGGGTCTTCACCACCCTCAAGGTCTTCTTCCATTTCTTTCAGCAATGTTTTCTAGTTTTCAGCATACAAGTCTGTCACCTACGGTAA\n",
      "lcl|NC_000001.11_cds_XP_016856397.1_56 [gene=TTLL10] [db_xref=GeneID:254173] [protein=inactive polyglycylase TTLL10 isoform X3] [protein_id=XP_016856397.1] [location=join(1179216..1179333,1179657..1179737,1180034..1180340,1180483..1180601,1180731..1180860,1181741..1181815,1182361..1182446,1182876..1183047,1183920..1184091,1184969..1185109,1185702..1185848)] [gbkey=CDS]\n",
      "ATGGACCACAGCTGCACCCGGTTCATCCACCGCCGGGGACCACCCACTCGGACCCGAGCCGGCTTCAAGAGGGGCAAGAGGCCAAGGATCCAGCAGAGGCCTCGGGCTCGAGTCTCAGGGACCATCCCTGCGTCACGTCTGCACCCAGCACCGGCCTCACAGCCCGGCCCCTGCCCTGCACCAGGCCACTGCCCTGTTGGCCCGGCCCACGAGAGGCCAATGGGGAGCAGCCAGGAGGAGGGACTCCGGTGTCAGCCAAGCCAGCCAGACCACGACGCAGATGGACACTGTGGGCCGGACCTGGAGGGGGCAGAAAGAGCCTCTGCCACACCCGGACCCCCTGGGCTCCTGAACAGCCACCGGCCTGCAGACTCGGATGACACTAACGCCGCCGGGCCCTCAGCTGCCCTCCTGGAGGGGCTCCTGCTGGGGGGTGGGAAGCCATCGCCCCACAGCACCCGGCCGGGGCCCTTCTTCTACATTGGAGGCAGCAACGGGGCCACAATCATCAGCTCCTACTGCAAAAGCAAGGGCTGGCAGCGCATCCATGACAGCCGCCGGGACGACTACACGCTGAAGTGGTGTGAGGTCAAGAGCCGAGACAGCTACGGCAGCTTCCGGGAAGGAGAGCAGCTGCTGTACCAGCTTCCCAACAACAAGCTCCTCACCACCAAGATCGGGCTGCTCAGCACCCTTCGGGGACGGGCACGGGCCATGAGCAAGGCCAGCAAGGTGCCGGGGGGGGTCCAGGCCAGGCTGGAAAAGGACGCAGCAGCGCCCGCCCTGGAGGACCTCCCGTGGACAAGCCCAGGATACCTCAGGCCACAGAGGGTCCTGAGAATGGAAGAGTTTTTCCCAGAGACCTACCGCCTGGACCTCAAACACGAGAGAGAGGCCTTTTTCACCTTGTTTGATGAAACCCAGATATGGATCTGCAAGCCCACAGCCTCCAACCAGGGCAAAGGCATCTTCCTGCTCCGGAACCAGGAGGAAGTTGCCGCCCTGCAGGCCAAGACCCGGAGCATGGAGGACGACCCCATCCACCACAAGACGCCGTTCCGGGGGCCTCAGGCGCGGGTGGTGCAGAGGTACATCCAGAACCCGCTGCTGGTGGACGGGAGAAAGTTTGACGTGCGCTCCTACCTGCTCATTGCCTGCACCACACCCTACATGATCTTCTTTGGCCACGGCTATGCTCGCCTCACCCTTAGCCTTTACGACCCCCATTCCAGCGACCTCGGCGGCCACTTGACCAACCAGTTCATGCAGAAGAAGAGCCCTCTGTACATGCTGCTGAAGGAGCACACGGTGTGGAGCATGGAACACCTCAACCGCTACATCAGTGACACGTTCTGGAAGGCCCGGGGCCTCGCCAAGGACTGGGTCTTCACCACCCTCAAGGCCCCGGAAGCAGCAGCCAGGGATGGTCCTTCCTCACCCACAGGCGTGTGTCACTGTGGCTGGGACGGCAGCGCTCAGAGGAGCCTCCAGTTACTTTCCTCACATCTCCCAAACTCTCTCTTAATTGCGATAATTCACAGAACATAA\n",
      "lcl|NC_000001.11_cds_XP_016856399.1_57 [gene=TTLL10] [db_xref=GeneID:254173] [protein=inactive polyglycylase TTLL10 isoform X5] [protein_id=XP_016856399.1] [location=join(1179216..1179333,1179657..1179737,1180034..1180340,1180483..1180601,1180731..1180860,1181741..1181815,1182361..1182446,1182876..1183047,1183920..1184091,1184969..1185109,1185433..1185525)] [gbkey=CDS]\n",
      "ATGGACCACAGCTGCACCCGGTTCATCCACCGCCGGGGACCACCCACTCGGACCCGAGCCGGCTTCAAGAGGGGCAAGAGGCCAAGGATCCAGCAGAGGCCTCGGGCTCGAGTCTCAGGGACCATCCCTGCGTCACGTCTGCACCCAGCACCGGCCTCACAGCCCGGCCCCTGCCCTGCACCAGGCCACTGCCCTGTTGGCCCGGCCCACGAGAGGCCAATGGGGAGCAGCCAGGAGGAGGGACTCCGGTGTCAGCCAAGCCAGCCAGACCACGACGCAGATGGACACTGTGGGCCGGACCTGGAGGGGGCAGAAAGAGCCTCTGCCACACCCGGACCCCCTGGGCTCCTGAACAGCCACCGGCCTGCAGACTCGGATGACACTAACGCCGCCGGGCCCTCAGCTGCCCTCCTGGAGGGGCTCCTGCTGGGGGGTGGGAAGCCATCGCCCCACAGCACCCGGCCGGGGCCCTTCTTCTACATTGGAGGCAGCAACGGGGCCACAATCATCAGCTCCTACTGCAAAAGCAAGGGCTGGCAGCGCATCCATGACAGCCGCCGGGACGACTACACGCTGAAGTGGTGTGAGGTCAAGAGCCGAGACAGCTACGGCAGCTTCCGGGAAGGAGAGCAGCTGCTGTACCAGCTTCCCAACAACAAGCTCCTCACCACCAAGATCGGGCTGCTCAGCACCCTTCGGGGACGGGCACGGGCCATGAGCAAGGCCAGCAAGGTGCCGGGGGGGGTCCAGGCCAGGCTGGAAAAGGACGCAGCAGCGCCCGCCCTGGAGGACCTCCCGTGGACAAGCCCAGGATACCTCAGGCCACAGAGGGTCCTGAGAATGGAAGAGTTTTTCCCAGAGACCTACCGCCTGGACCTCAAACACGAGAGAGAGGCCTTTTTCACCTTGTTTGATGAAACCCAGATATGGATCTGCAAGCCCACAGCCTCCAACCAGGGCAAAGGCATCTTCCTGCTCCGGAACCAGGAGGAAGTTGCCGCCCTGCAGGCCAAGACCCGGAGCATGGAGGACGACCCCATCCACCACAAGACGCCGTTCCGGGGGCCTCAGGCGCGGGTGGTGCAGAGGTACATCCAGAACCCGCTGCTGGTGGACGGGAGAAAGTTTGACGTGCGCTCCTACCTGCTCATTGCCTGCACCACACCCTACATGATCTTCTTTGGCCACGGCTATGCTCGCCTCACCCTTAGCCTTTACGACCCCCATTCCAGCGACCTCGGCGGCCACTTGACCAACCAGTTCATGCAGAAGAAGAGCCCTCTGTACATGCTGCTGAAGGAGCACACGGTGTGGAGCATGGAACACCTCAACCGCTACATCAGTGACACGTTCTGGAAGGCCCGGGGCCTCGCCAAGGACTGGGTCTTCACCACCCTCAAGATCCTCCACTTGGCAGGCAGGGCCAACAGCAGCCCCCGGGCCAGGTGTCCTGGAGCAGCAGCAGCTGCCCGTGCAGGCCCGGACTCTCCCTAG\n",
      "lcl|NC_000001.11_cds_XP_016856396.1_58 [gene=TTLL10] [db_xref=GeneID:254173] [protein=inactive polyglycylase TTLL10 isoform X2] [protein_id=XP_016856396.1] [location=join(1179216..1179333,1179657..1179737,1180034..1180340,1180483..1180601,1180731..1180860,1181741..1181815,1182361..1182446,1182876..1183047,1183920..1184091,1184969..1185109,1185260..1185412)] [gbkey=CDS]\n",
      "ATGGACCACAGCTGCACCCGGTTCATCCACCGCCGGGGACCACCCACTCGGACCCGAGCCGGCTTCAAGAGGGGCAAGAGGCCAAGGATCCAGCAGAGGCCTCGGGCTCGAGTCTCAGGGACCATCCCTGCGTCACGTCTGCACCCAGCACCGGCCTCACAGCCCGGCCCCTGCCCTGCACCAGGCCACTGCCCTGTTGGCCCGGCCCACGAGAGGCCAATGGGGAGCAGCCAGGAGGAGGGACTCCGGTGTCAGCCAAGCCAGCCAGACCACGACGCAGATGGACACTGTGGGCCGGACCTGGAGGGGGCAGAAAGAGCCTCTGCCACACCCGGACCCCCTGGGCTCCTGAACAGCCACCGGCCTGCAGACTCGGATGACACTAACGCCGCCGGGCCCTCAGCTGCCCTCCTGGAGGGGCTCCTGCTGGGGGGTGGGAAGCCATCGCCCCACAGCACCCGGCCGGGGCCCTTCTTCTACATTGGAGGCAGCAACGGGGCCACAATCATCAGCTCCTACTGCAAAAGCAAGGGCTGGCAGCGCATCCATGACAGCCGCCGGGACGACTACACGCTGAAGTGGTGTGAGGTCAAGAGCCGAGACAGCTACGGCAGCTTCCGGGAAGGAGAGCAGCTGCTGTACCAGCTTCCCAACAACAAGCTCCTCACCACCAAGATCGGGCTGCTCAGCACCCTTCGGGGACGGGCACGGGCCATGAGCAAGGCCAGCAAGGTGCCGGGGGGGGTCCAGGCCAGGCTGGAAAAGGACGCAGCAGCGCCCGCCCTGGAGGACCTCCCGTGGACAAGCCCAGGATACCTCAGGCCACAGAGGGTCCTGAGAATGGAAGAGTTTTTCCCAGAGACCTACCGCCTGGACCTCAAACACGAGAGAGAGGCCTTTTTCACCTTGTTTGATGAAACCCAGATATGGATCTGCAAGCCCACAGCCTCCAACCAGGGCAAAGGCATCTTCCTGCTCCGGAACCAGGAGGAAGTTGCCGCCCTGCAGGCCAAGACCCGGAGCATGGAGGACGACCCCATCCACCACAAGACGCCGTTCCGGGGGCCTCAGGCGCGGGTGGTGCAGAGGTACATCCAGAACCCGCTGCTGGTGGACGGGAGAAAGTTTGACGTGCGCTCCTACCTGCTCATTGCCTGCACCACACCCTACATGATCTTCTTTGGCCACGGCTATGCTCGCCTCACCCTTAGCCTTTACGACCCCCATTCCAGCGACCTCGGCGGCCACTTGACCAACCAGTTCATGCAGAAGAAGAGCCCTCTGTACATGCTGCTGAAGGAGCACACGGTGTGGAGCATGGAACACCTCAACCGCTACATCAGTGACACGTTCTGGAAGGCCCGGGGCCTCGCCAAGGACTGGGTCTTCACCACCCTCAAGCGTCTCTGCTCACTTAGCTGGCAGTGCCTGTCCCCAGCAGCCAGCAAAGGCCCGGACGGAAAGCCCAGTCGGGGGTCTGTCGGCACGAGTCCCGCGGGCAGCCTCGCCGTAGGGTCAGGGGACAGCTCGGCTTCAGTGACAGCCACCATGTGA\n",
      "lcl|NC_000001.11_cds_XP_005244795.1_59 [gene=TTLL10] [db_xref=GeneID:254173] [protein=inactive polyglycylase TTLL10 isoform X8] [protein_id=XP_005244795.1] [location=join(1180054..1180340,1180483..1180601,1180731..1180860,1181741..1181815,1182361..1182446,1182876..1183047,1183920..1184091,1184969..1185109,1196600..1196716,1197093..1197186,1197438..1197847)] [gbkey=CDS]\n",
      "ATGGGGAGCAGCCAGGAGGAGGGACTCCGGTGTCAGCCAAGCCAGCCAGACCACGACGCAGATGGACACTGTGGGCCGGACCTGGAGGGGGCAGAAAGAGCCTCTGCCACACCCGGACCCCCTGGGCTCCTGAACAGCCACCGGCCTGCAGACTCGGATGACACTAACGCCGCCGGGCCCTCAGCTGCCCTCCTGGAGGGGCTCCTGCTGGGGGGTGGGAAGCCATCGCCCCACAGCACCCGGCCGGGGCCCTTCTTCTACATTGGAGGCAGCAACGGGGCCACAATCATCAGCTCCTACTGCAAAAGCAAGGGCTGGCAGCGCATCCATGACAGCCGCCGGGACGACTACACGCTGAAGTGGTGTGAGGTCAAGAGCCGAGACAGCTACGGCAGCTTCCGGGAAGGAGAGCAGCTGCTGTACCAGCTTCCCAACAACAAGCTCCTCACCACCAAGATCGGGCTGCTCAGCACCCTTCGGGGACGGGCACGGGCCATGAGCAAGGCCAGCAAGGTGCCGGGGGGGGTCCAGGCCAGGCTGGAAAAGGACGCAGCAGCGCCCGCCCTGGAGGACCTCCCGTGGACAAGCCCAGGATACCTCAGGCCACAGAGGGTCCTGAGAATGGAAGAGTTTTTCCCAGAGACCTACCGCCTGGACCTCAAACACGAGAGAGAGGCCTTTTTCACCTTGTTTGATGAAACCCAGATATGGATCTGCAAGCCCACAGCCTCCAACCAGGGCAAAGGCATCTTCCTGCTCCGGAACCAGGAGGAAGTTGCCGCCCTGCAGGCCAAGACCCGGAGCATGGAGGACGACCCCATCCACCACAAGACGCCGTTCCGGGGGCCTCAGGCGCGGGTGGTGCAGAGGTACATCCAGAACCCGCTGCTGGTGGACGGGAGAAAGTTTGACGTGCGCTCCTACCTGCTCATTGCCTGCACCACACCCTACATGATCTTCTTTGGCCACGGCTATGCTCGCCTCACCCTTAGCCTTTACGACCCCCATTCCAGCGACCTCGGCGGCCACTTGACCAACCAGTTCATGCAGAAGAAGAGCCCTCTGTACATGCTGCTGAAGGAGCACACGGTGTGGAGCATGGAACACCTCAACCGCTACATCAGTGACACGTTCTGGAAGGCCCGGGGCCTCGCCAAGGACTGGGTCTTCACCACCCTCAAGAAGCGGATGCAGCAGATCATGGCCCACTGCTTTCTGGCCGCCAAGCCCAAGCTGGACTGCAAGCTGGGTTACTTTGACCTCATTGGCTGTGACTTCCTGATTGATGACAACTTCAAGGTATGGCTGCTGGAGATGAATTCTAACCCAGCCCTGCACACCAACTGCGAGGTCCTGAAGGAGGTCATCCCAGGTGTGGTCATCGAGACCCTGGACCTGGTGCTCGAGACCTTCCGGAAGAGCCTGCGCGGCCAGAAGATGTTGCCTCTGCTGTCCCAGCGCCGCTTCGTGCTCCTGCACAACGGTGAGGCCGACCCGCGGCCGCACCTGGGGGGCTCGTGCAGCCTCCGCCGCTGGCCGCCCCTGCCCACCCGCCAGGCCAAGTCCTCCGGGCCACCCATGCCGCATGCCCCAGACCAGCCGGGCGCCCGCAGGCCTGCGCCACCTCCCTTGGTGCCGCAGCGTCCCCGGCCACCCGGCCCCGACCTGGACAGCGCCCACGATGGGGAGCCCCAGGCCCCGGGCACGGAGCAGTCGGGCACAGGCAACAGGCACCCGGCGCAAGAGCCTTCCCCGGGGACAGCCAAGGAGGAACGCGAGGAGCCTGAGAACGCGAGGCCCTAG\n",
      "lcl|NC_000001.11_cds_NP_694986.2_60 [gene=TTLL10] [db_xref=CCDS:CCDS8.1,GeneID:254173] [protein=inactive polyglycylase TTLL10 isoform 2] [protein_id=NP_694986.2] [location=join(1180054..1180340,1180483..1180601,1180731..1180860,1181741..1181815,1182361..1182446,1182876..1183047,1183920..1184091,1184969..1185142)] [gbkey=CDS]\n",
      "ATGGGGAGCAGCCAGGAGGAGGGACTCCGGTGTCAGCCAAGCCAGCCAGACCACGACGCAGATGGACACTGTGGGCCGGACCTGGAGGGGGCAGAAAGAGCCTCTGCCACACCCGGACCCCCTGGGCTCCTGAACAGCCACCGGCCTGCAGACTCGGATGACACTAACGCCGCCGGGCCCTCAGCTGCCCTCCTGGAGGGGCTCCTGCTGGGGGGTGGGAAGCCATCGCCCCACAGCACCCGGCCGGGGCCCTTCTTCTACATTGGAGGCAGCAACGGGGCCACAATCATCAGCTCCTACTGCAAAAGCAAGGGCTGGCAGCGCATCCATGACAGCCGCCGGGACGACTACACGCTGAAGTGGTGTGAGGTCAAGAGCCGAGACAGCTACGGCAGCTTCCGGGAAGGAGAGCAGCTGCTGTACCAGCTTCCCAACAACAAGCTCCTCACCACCAAGATCGGGCTGCTCAGCACCCTTCGGGGACGGGCACGGGCCATGAGCAAGGCCAGCAAGGTGCCGGGGGGGGTCCAGGCCAGGCTGGAAAAGGACGCAGCAGCGCCCGCCCTGGAGGACCTCCCGTGGACAAGCCCAGGATACCTCAGGCCACAGAGGGTCCTGAGAATGGAAGAGTTTTTCCCAGAGACCTACCGCCTGGACCTCAAACACGAGAGAGAGGCCTTTTTCACCTTGTTTGATGAAACCCAGATATGGATCTGCAAGCCCACAGCCTCCAACCAGGGCAAAGGCATCTTCCTGCTCCGGAACCAGGAGGAAGTTGCCGCCCTGCAGGCCAAGACCCGGAGCATGGAGGACGACCCCATCCACCACAAGACGCCGTTCCGGGGGCCTCAGGCGCGGGTGGTGCAGAGGTACATCCAGAACCCGCTGCTGGTGGACGGGAGAAAGTTTGACGTGCGCTCCTACCTGCTCATTGCCTGCACCACACCCTACATGATCTTCTTTGGCCACGGCTATGCTCGCCTCACCCTTAGCCTTTACGACCCCCATTCCAGCGACCTCGGCGGCCACTTGACCAACCAGTTCATGCAGAAGAAGAGCCCTCTGTACATGCTGCTGAAGGAGCACACGGTGTGGAGCATGGAACACCTCAACCGCTACATCAGTGACACGTTCTGGAAGGCCCGGGGCCTCGCCAAGGACTGGGTCTTCACCACCCTCAAGGTGCGTCCACTGTGCCCTCCAGTCTGGGAGTGA\n",
      "lcl|NC_000001.11_cds_NP_683699.1_61 [gene=TNFRSF18] [db_xref=CCDS:CCDS9.1,GeneID:8784] [protein=tumor necrosis factor receptor superfamily member 18 isoform 2 precursor] [protein_id=NP_683699.1] [location=complement(join(1203591..1203960,1204399..1204486,1205370..1205492,1206385..1206571))] [gbkey=CDS]\n",
      "ATGGCACAGCACGGGGCGATGGGCGCGTTTCGGGCCCTGTGCGGCCTGGCGCTGCTGTGCGCGCTCAGCCTGGGTCAGCGCCCCACCGGGGGTCCCGGGTGCGGCCCTGGGCGCCTCCTGCTTGGGACGGGAACGGACGCGCGCTGCTGCCGGGTTCACACGACGCGCTGCTGCCGCGATTACCCGGGCGAGGAGTGCTGTTCCGAGTGGGACTGCATGTGTGTCCAGCCTGAATTCCACTGCGGAGACCCTTGCTGCACGACCTGCCGGCACCACCCTTGTCCCCCAGGCCAGGGGGTACAGTCCCAGGGGAAATTCAGTTTTGGCTTCCAGTGTATCGACTGTGCCTCGGGGACCTTCTCCGGGGGCCACGAAGGCCACTGCAAACCTTGGACAGACTGCTGCTGGAGGTGCCGCCGTCGACCGAAGACGCCAGAAGCTGCCAGTTCCCCGAGGAAGAGCGGGGCGAGCGATCGGCAGAGGAGAAGGGGCGGCTGGGAGACCTGTGGGTGTGAGCCTGGCCGTCCTCCGGGGCCACCGACCGCAGCCAGCCCCTCCCCAGGAGCTCCCCAGGCCGCAGGGGCTCTGCGTTCTGCTCTGGGCCGGGCCCTGCTCCCCTGGCAGCAGAAGTGGGTGCAGGAAGGTGGCAGTGACCAGCGCCCTGGACCATGCAGTTCGGCGGCCGCGGCTGGGCCCTGCAGGAGGGAGAGAGAGACACAGTCATGGCCCCCTTCCTCCCTTGCTGGCCCTGATGGGGTGGGGTCTTAG\n",
      "lcl|NC_000001.11_cds_XP_016858211.1_62 [gene=TNFRSF18] [db_xref=GeneID:8784] [protein=tumor necrosis factor receptor superfamily member 18 isoform X1] [protein_id=XP_016858211.1] [location=complement(join(1203591..1204236,1204399..1204486,1205370..1205492,1206385..1206571))] [gbkey=CDS]\n",
      "ATGGCACAGCACGGGGCGATGGGCGCGTTTCGGGCCCTGTGCGGCCTGGCGCTGCTGTGCGCGCTCAGCCTGGGTCAGCGCCCCACCGGGGGTCCCGGGTGCGGCCCTGGGCGCCTCCTGCTTGGGACGGGAACGGACGCGCGCTGCTGCCGGGTTCACACGACGCGCTGCTGCCGCGATTACCCGGGCGAGGAGTGCTGTTCCGAGTGGGACTGCATGTGTGTCCAGCCTGAATTCCACTGCGGAGACCCTTGCTGCACGACCTGCCGGCACCACCCTTGTCCCCCAGGCCAGGGGGTACAGTCCCAGGGGAAATTCAGTTTTGGCTTCCAGTGTATCGACTGTGCCTCGGGGACCTTCTCCGGGGGCCACGAAGGCCACTGCAAACCTTGGACAGACTGCACCCAGTTCGGGTTTCTCACTGTGTTCCCTGGGAACAAGACCCACAACGCTGTGTGCGTCCCAGGGTCCCCGCCGGCAGAGCCGCTTGGGTGGCTGACCGTCGTCCTCCTGGCCGTGGCCGCCTGCGTCCTCCTCCTGACCTCGGCCCAGCTTGGACTGCACATCTGGCAGCTGAGGAGTCAGTGCATGTGGCCCCGAGGTCTGTCACAGCCTGGTGCGGGGAGGTGGGAGCATGGCTGCCTGCTGACCGTGGCCCCCCTGCAGAGACCCAGCTGCTGCTGGAGGTGCCGCCGTCGACCGAAGACGCCAGAAGCTGCCAGTTCCCCGAGGAAGAGCGGGGCGAGCGATCGGCAGAGGAGAAGGGGCGGCTGGGAGACCTGTGGGTGTGAGCCTGGCCGTCCTCCGGGGCCACCGACCGCAGCCAGCCCCTCCCCAGGAGCTCCCCAGGCCGCAGGGGCTCTGCGTTCTGCTCTGGGCCGGGCCCTGCTCCCCTGGCAGCAGAAGTGGGTGCAGGAAGGTGGCAGTGACCAGCGCCCTGGACCATGCAGTTCGGCGGCCGCGGCTGGGCCCTGCAGGAGGGAGAGAGAGACACAGTCATGGCCCCCTTCCTCCCTTGCTGGCCCTGATGGGGTGGGGTCTTAG\n",
      "lcl|NC_000001.11_cds_NP_683700.1_63 [gene=TNFRSF18] [db_xref=CCDS:CCDS30552.1,GeneID:8784] [protein=tumor necrosis factor receptor superfamily member 18 isoform 3 precursor] [protein_id=NP_683700.1] [location=complement(join(1203844..1203968,1204055..1204236,1204399..1204486,1205370..1205492,1206385..1206571))] [gbkey=CDS]\n",
      "ATGGCACAGCACGGGGCGATGGGCGCGTTTCGGGCCCTGTGCGGCCTGGCGCTGCTGTGCGCGCTCAGCCTGGGTCAGCGCCCCACCGGGGGTCCCGGGTGCGGCCCTGGGCGCCTCCTGCTTGGGACGGGAACGGACGCGCGCTGCTGCCGGGTTCACACGACGCGCTGCTGCCGCGATTACCCGGGCGAGGAGTGCTGTTCCGAGTGGGACTGCATGTGTGTCCAGCCTGAATTCCACTGCGGAGACCCTTGCTGCACGACCTGCCGGCACCACCCTTGTCCCCCAGGCCAGGGGGTACAGTCCCAGGGGAAATTCAGTTTTGGCTTCCAGTGTATCGACTGTGCCTCGGGGACCTTCTCCGGGGGCCACGAAGGCCACTGCAAACCTTGGACAGACTGCACCCAGTTCGGGTTTCTCACTGTGTTCCCTGGGAACAAGACCCACAACGCTGTGTGCGTCCCAGGGTCCCCGCCGGCAGAGCCGCTTGGGTGGCTGACCGTCGTCCTCCTGGCCGTGGCCGCCTGCGTCCTCCTCCTGACCTCGGCCCAGCTTGGACTGCACATCTGGCAGCTGAGGAAGACCCAGCTGCTGCTGGAGGTGCCGCCGTCGACCGAAGACGCCAGAAGCTGCCAGTTCCCCGAGGAAGAGCGGGGCGAGCGATCGGCAGAGGAGAAGGGGCGGCTGGGAGACCTGTGGGTGTGA\n",
      "lcl|NC_000001.11_cds_NP_004186.1_64 [gene=TNFRSF18] [db_xref=CCDS:CCDS10.1,Ensembl:ENSP00000368570.2,GeneID:8784] [protein=tumor necrosis factor receptor superfamily member 18 isoform 1 precursor] [protein_id=NP_004186.1] [location=complement(join(1203844..1203968,1204034..1204236,1204399..1204486,1205370..1205492,1206385..1206571))] [gbkey=CDS]\n",
      "ATGGCACAGCACGGGGCGATGGGCGCGTTTCGGGCCCTGTGCGGCCTGGCGCTGCTGTGCGCGCTCAGCCTGGGTCAGCGCCCCACCGGGGGTCCCGGGTGCGGCCCTGGGCGCCTCCTGCTTGGGACGGGAACGGACGCGCGCTGCTGCCGGGTTCACACGACGCGCTGCTGCCGCGATTACCCGGGCGAGGAGTGCTGTTCCGAGTGGGACTGCATGTGTGTCCAGCCTGAATTCCACTGCGGAGACCCTTGCTGCACGACCTGCCGGCACCACCCTTGTCCCCCAGGCCAGGGGGTACAGTCCCAGGGGAAATTCAGTTTTGGCTTCCAGTGTATCGACTGTGCCTCGGGGACCTTCTCCGGGGGCCACGAAGGCCACTGCAAACCTTGGACAGACTGCACCCAGTTCGGGTTTCTCACTGTGTTCCCTGGGAACAAGACCCACAACGCTGTGTGCGTCCCAGGGTCCCCGCCGGCAGAGCCGCTTGGGTGGCTGACCGTCGTCCTCCTGGCCGTGGCCGCCTGCGTCCTCCTCCTGACCTCGGCCCAGCTTGGACTGCACATCTGGCAGCTGAGGAGTCAGTGCATGTGGCCCCGAGAGACCCAGCTGCTGCTGGAGGTGCCGCCGTCGACCGAAGACGCCAGAAGCTGCCAGTTCCCCGAGGAAGAGCGGGGCGAGCGATCGGCAGAGGAGAAGGGGCGGCTGGGAGACCTGTGGGTGTGA\n",
      "lcl|NC_000001.11_cds_XP_016857721.1_65 [gene=TNFRSF4] [db_xref=GeneID:7293] [protein=tumor necrosis factor receptor superfamily member 4 isoform X4] [protein_id=XP_016857721.1] [location=complement(join(1211555..1211625,1211704..1211832,1211942..1212138,1212638..1212704,1212992..1213093,1213663..1213785,1213983..1214127))] [gbkey=CDS]\n",
      "ATGTGCGTGGGGGCTCGGCGGCTGGGCCGCGGGCCGTGTGCGGCTCTGCTCCTCCTGGGCCTGGGGCTGAGCACCGTGACGGGGCTCCACTGTGTCGGGGACACCTACCCCAGCAACGACCGGTGCTGCCACGAGTGCAGGCCAGGCAACGGGATGGTGAGCCGCTGCAGCCGCTCCCAGAACACGGTGTGCCGTCCGTGCGGGCCGGGCTTCTACAACGACGTGGTCAGCTCCAAGCCGTGCAAGCCCTGCACGTGGTGTAACCTCAGAAGTGGGAGTGAGCGGAAGCAGCTGTGCACGGCCACACAGGACACAGTCTGCCGCTGCCGGGCGGGCACCCAGCCCCTGGACAGCTACAAGCCTGGAGTTGACTGTGCCCCCTGCCCTCCAGGGCACTTCTCCCCAGGCGACAACCAGGCCTGCAAGCCCTGGACCAACTGCACCTTGGCTGGGAAGCACACCCTGCAGCCGGCCAGCAATAGCTCGGACGCAATCTGTGAGGACAGGGACCCCCCAGCCACGCAGCCCCAGGAGACCCAGGGCCCCCCGGCCAGGCCCATCACTGTCCAGCCCACTGAAGCCTGGCCCAGAACCTCACAGGGACCCTCCACCCGGCCCGTGGAGGTCCCCGGGGGCCGTGCGGTTGCCGCCATCCTGGGCCTGGGCCTGGTGCTGGGGCTGCTGGGCCCCCTGGCCATCCTGCTGGCCCTGTACCTGCTCCGGAGGGACCAGAGGCTGCCCCCCGATGCCCACAAGCCCCCTGGGGGAGGCAGTTTCCGGACCCCCATCCAAGAGGAGCAGGCCGACGCCCACTCCACCCTGGCCAAGATCTGA\n",
      "lcl|NC_000001.11_cds_NP_003318.1_66 [gene=TNFRSF4] [db_xref=CCDS:CCDS11.1,Ensembl:ENSP00000368538.3,GeneID:7293] [protein=tumor necrosis factor receptor superfamily member 4 precursor] [protein_id=NP_003318.1] [location=complement(join(1211555..1211625,1211704..1211832,1211942..1212138,1212638..1212704,1212992..1213093,1213663..1213785,1213983..1214127))] [gbkey=CDS]\n",
      "ATGTGCGTGGGGGCTCGGCGGCTGGGCCGCGGGCCGTGTGCGGCTCTGCTCCTCCTGGGCCTGGGGCTGAGCACCGTGACGGGGCTCCACTGTGTCGGGGACACCTACCCCAGCAACGACCGGTGCTGCCACGAGTGCAGGCCAGGCAACGGGATGGTGAGCCGCTGCAGCCGCTCCCAGAACACGGTGTGCCGTCCGTGCGGGCCGGGCTTCTACAACGACGTGGTCAGCTCCAAGCCGTGCAAGCCCTGCACGTGGTGTAACCTCAGAAGTGGGAGTGAGCGGAAGCAGCTGTGCACGGCCACACAGGACACAGTCTGCCGCTGCCGGGCGGGCACCCAGCCCCTGGACAGCTACAAGCCTGGAGTTGACTGTGCCCCCTGCCCTCCAGGGCACTTCTCCCCAGGCGACAACCAGGCCTGCAAGCCCTGGACCAACTGCACCTTGGCTGGGAAGCACACCCTGCAGCCGGCCAGCAATAGCTCGGACGCAATCTGTGAGGACAGGGACCCCCCAGCCACGCAGCCCCAGGAGACCCAGGGCCCCCCGGCCAGGCCCATCACTGTCCAGCCCACTGAAGCCTGGCCCAGAACCTCACAGGGACCCTCCACCCGGCCCGTGGAGGTCCCCGGGGGCCGTGCGGTTGCCGCCATCCTGGGCCTGGGCCTGGTGCTGGGGCTGCTGGGCCCCCTGGCCATCCTGCTGGCCCTGTACCTGCTCCGGAGGGACCAGAGGCTGCCCCCCGATGCCCACAAGCCCCCTGGGGGAGGCAGTTTCCGGACCCCCATCCAAGAGGAGCAGGCCGACGCCCACTCCACCCTGGCCAAGATCTGA\n",
      "lcl|NC_000001.11_cds_XP_016857720.1_67 [gene=TNFRSF4] [db_xref=GeneID:7293] [protein=tumor necrosis factor receptor superfamily member 4 isoform X2] [protein_id=XP_016857720.1] [location=complement(join(1211555..1211832,1211942..1212138,1212638..1212704,1212992..1213093,1213663..1213785,1213983..1214127))] [gbkey=CDS]\n",
      "ATGTGCGTGGGGGCTCGGCGGCTGGGCCGCGGGCCGTGTGCGGCTCTGCTCCTCCTGGGCCTGGGGCTGAGCACCGTGACGGGGCTCCACTGTGTCGGGGACACCTACCCCAGCAACGACCGGTGCTGCCACGAGTGCAGGCCAGGCAACGGGATGGTGAGCCGCTGCAGCCGCTCCCAGAACACGGTGTGCCGTCCGTGCGGGCCGGGCTTCTACAACGACGTGGTCAGCTCCAAGCCGTGCAAGCCCTGCACGTGGTGTAACCTCAGAAGTGGGAGTGAGCGGAAGCAGCTGTGCACGGCCACACAGGACACAGTCTGCCGCTGCCGGGCGGGCACCCAGCCCCTGGACAGCTACAAGCCTGGAGTTGACTGTGCCCCCTGCCCTCCAGGGCACTTCTCCCCAGGCGACAACCAGGCCTGCAAGCCCTGGACCAACTGCACCTTGGCTGGGAAGCACACCCTGCAGCCGGCCAGCAATAGCTCGGACGCAATCTGTGAGGACAGGGACCCCCCAGCCACGCAGCCCCAGGAGACCCAGGGCCCCCCGGCCAGGCCCATCACTGTCCAGCCCACTGAAGCCTGGCCCAGAACCTCACAGGGACCCTCCACCCGGCCCGTGGAGGTCCCCGGGGGCCGTGCGGTTGCCGCCATCCTGGGCCTGGGCCTGGTGCTGGGGCTGCTGGGCCCCCTGGCCATCCTGCTGGCCCTGTACCTGCTCCGGAGGGACCAGAGGCTGCCCCCCGATGCCCACAAGCCCCCTGGTGAGTGCCTCATGGCCCTGCCGCACTGCTCCTGGCGGGTGAGGCCCACCCACCAATCTCTCCTTTTTTCCTCCCCAGGGGGAGGCAGTTTCCGGACCCCCATCCAAGAGGAGCAGGCCGACGCCCACTCCACCCTGGCCAAGATCTGA\n",
      "lcl|NC_000001.11_cds_XP_011540377.1_68 [gene=TNFRSF4] [db_xref=GeneID:7293] [protein=tumor necrosis factor receptor superfamily member 4 isoform X2] [protein_id=XP_011540377.1] [location=complement(join(1211555..1211832,1211942..1212138,1212638..1212704,1212992..1213093,1213663..1213785,1213983..1214127))] [gbkey=CDS]\n",
      "ATGTGCGTGGGGGCTCGGCGGCTGGGCCGCGGGCCGTGTGCGGCTCTGCTCCTCCTGGGCCTGGGGCTGAGCACCGTGACGGGGCTCCACTGTGTCGGGGACACCTACCCCAGCAACGACCGGTGCTGCCACGAGTGCAGGCCAGGCAACGGGATGGTGAGCCGCTGCAGCCGCTCCCAGAACACGGTGTGCCGTCCGTGCGGGCCGGGCTTCTACAACGACGTGGTCAGCTCCAAGCCGTGCAAGCCCTGCACGTGGTGTAACCTCAGAAGTGGGAGTGAGCGGAAGCAGCTGTGCACGGCCACACAGGACACAGTCTGCCGCTGCCGGGCGGGCACCCAGCCCCTGGACAGCTACAAGCCTGGAGTTGACTGTGCCCCCTGCCCTCCAGGGCACTTCTCCCCAGGCGACAACCAGGCCTGCAAGCCCTGGACCAACTGCACCTTGGCTGGGAAGCACACCCTGCAGCCGGCCAGCAATAGCTCGGACGCAATCTGTGAGGACAGGGACCCCCCAGCCACGCAGCCCCAGGAGACCCAGGGCCCCCCGGCCAGGCCCATCACTGTCCAGCCCACTGAAGCCTGGCCCAGAACCTCACAGGGACCCTCCACCCGGCCCGTGGAGGTCCCCGGGGGCCGTGCGGTTGCCGCCATCCTGGGCCTGGGCCTGGTGCTGGGGCTGCTGGGCCCCCTGGCCATCCTGCTGGCCCTGTACCTGCTCCGGAGGGACCAGAGGCTGCCCCCCGATGCCCACAAGCCCCCTGGTGAGTGCCTCATGGCCCTGCCGCACTGCTCCTGGCGGGTGAGGCCCACCCACCAATCTCTCCTTTTTTCCTCCCCAGGGGGAGGCAGTTTCCGGACCCCCATCCAAGAGGAGCAGGCCGACGCCCACTCCACCCTGGCCAAGATCTGA\n",
      "lcl|NC_000001.11_cds_XP_011540378.1_69 [gene=TNFRSF4] [db_xref=GeneID:7293] [protein=tumor necrosis factor receptor superfamily member 4 isoform X3] [protein_id=XP_011540378.1] [location=complement(join(1211555..1211625,1211704..1211832,1211942..1212138,1212638..1212704,1212992..1213373))] [gbkey=CDS]\n",
      "ATGGAGACCCTGCCGCAGGCGGGGCTGGCGGCTGGAGGCGGTGGAGGGGTAGGGAAGGGTGGCTGGGGCTGCCACGGAACCAGCCCCAGGTTGTGGCCAGGAAGGGAGGGCCCAGGAGCCTCGGGGGCTGCAGGGGCTCCAAGTCTCAGGGGAGGCCGCAGACCCCTGCCCACGGCCCTCTGTGTGGTGGGGAGGCCAACCTGTCCTCCAGTGCCCACGCTTCCTGAGGACCCTGTCCACAGCCCCCACCTGACCACCCCCCCATCCGGCCCCTGCTCAGGAAGTGGGAGTGAGCGGAAGCAGCTGTGCACGGCCACACAGGACACAGTCTGCCGCTGCCGGGCGGGCACCCAGCCCCTGGACAGCTACAAGCCTGGAGTTGACTGTGCCCCCTGCCCTCCAGGGCACTTCTCCCCAGGCGACAACCAGGCCTGCAAGCCCTGGACCAACTGCACCTTGGCTGGGAAGCACACCCTGCAGCCGGCCAGCAATAGCTCGGACGCAATCTGTGAGGACAGGGACCCCCCAGCCACGCAGCCCCAGGAGACCCAGGGCCCCCCGGCCAGGCCCATCACTGTCCAGCCCACTGAAGCCTGGCCCAGAACCTCACAGGGACCCTCCACCCGGCCCGTGGAGGTCCCCGGGGGCCGTGCGGTTGCCGCCATCCTGGGCCTGGGCCTGGTGCTGGGGCTGCTGGGCCCCCTGGCCATCCTGCTGGCCCTGTACCTGCTCCGGAGGGACCAGAGGCTGCCCCCCGATGCCCACAAGCCCCCTGGGGGAGGCAGTTTCCGGACCCCCATCCAAGAGGAGCAGGCCGACGCCCACTCCACCCTGGCCAAGATCTGA\n",
      "lcl|NC_000001.11_cds_XP_011540376.1_70 [gene=TNFRSF4] [db_xref=GeneID:7293] [protein=tumor necrosis factor receptor superfamily member 4 isoform X1] [protein_id=XP_011540376.1] [location=complement(join(1211555..1211832,1211942..1212138,1212638..1212704,1212992..1213373))] [gbkey=CDS]\n",
      "ATGGAGACCCTGCCGCAGGCGGGGCTGGCGGCTGGAGGCGGTGGAGGGGTAGGGAAGGGTGGCTGGGGCTGCCACGGAACCAGCCCCAGGTTGTGGCCAGGAAGGGAGGGCCCAGGAGCCTCGGGGGCTGCAGGGGCTCCAAGTCTCAGGGGAGGCCGCAGACCCCTGCCCACGGCCCTCTGTGTGGTGGGGAGGCCAACCTGTCCTCCAGTGCCCACGCTTCCTGAGGACCCTGTCCACAGCCCCCACCTGACCACCCCCCCATCCGGCCCCTGCTCAGGAAGTGGGAGTGAGCGGAAGCAGCTGTGCACGGCCACACAGGACACAGTCTGCCGCTGCCGGGCGGGCACCCAGCCCCTGGACAGCTACAAGCCTGGAGTTGACTGTGCCCCCTGCCCTCCAGGGCACTTCTCCCCAGGCGACAACCAGGCCTGCAAGCCCTGGACCAACTGCACCTTGGCTGGGAAGCACACCCTGCAGCCGGCCAGCAATAGCTCGGACGCAATCTGTGAGGACAGGGACCCCCCAGCCACGCAGCCCCAGGAGACCCAGGGCCCCCCGGCCAGGCCCATCACTGTCCAGCCCACTGAAGCCTGGCCCAGAACCTCACAGGGACCCTCCACCCGGCCCGTGGAGGTCCCCGGGGGCCGTGCGGTTGCCGCCATCCTGGGCCTGGGCCTGGTGCTGGGGCTGCTGGGCCCCCTGGCCATCCTGCTGGCCCTGTACCTGCTCCGGAGGGACCAGAGGCTGCCCCCCGATGCCCACAAGCCCCCTGGTGAGTGCCTCATGGCCCTGCCGCACTGCTCCTGGCGGGTGAGGCCCACCCACCAATCTCTCCTTTTTTCCTCCCCAGGGGGAGGCAGTTTCCGGACCCCCATCCAAGAGGAGCAGGCCGACGCCCACTCCACCCTGGCCAAGATCTGA\n",
      "lcl|NC_000001.11_cds_XP_011540379.1_71 [gene=TNFRSF4] [db_xref=GeneID:7293] [protein=tumor necrosis factor receptor superfamily member 4 isoform X5] [protein_id=XP_011540379.1] [location=complement(join(1211555..1211832,1211942..1212138,1212638..1212704,1212862..1212931))] [gbkey=CDS]\n",
      "ATGGGCCGTGGGCCGCAGGGACCTGGCCCCACCGGTGCCTCCTCTGGCATCCTCAAGACCGAGCTCCCGGACTGTGCCCCCTGCCCTCCAGGGCACTTCTCCCCAGGCGACAACCAGGCCTGCAAGCCCTGGACCAACTGCACCTTGGCTGGGAAGCACACCCTGCAGCCGGCCAGCAATAGCTCGGACGCAATCTGTGAGGACAGGGACCCCCCAGCCACGCAGCCCCAGGAGACCCAGGGCCCCCCGGCCAGGCCCATCACTGTCCAGCCCACTGAAGCCTGGCCCAGAACCTCACAGGGACCCTCCACCCGGCCCGTGGAGGTCCCCGGGGGCCGTGCGGTTGCCGCCATCCTGGGCCTGGGCCTGGTGCTGGGGCTGCTGGGCCCCCTGGCCATCCTGCTGGCCCTGTACCTGCTCCGGAGGGACCAGAGGCTGCCCCCCGATGCCCACAAGCCCCCTGGTGAGTGCCTCATGGCCCTGCCGCACTGCTCCTGGCGGGTGAGGCCCACCCACCAATCTCTCCTTTTTTCCTCCCCAGGGGGAGGCAGTTTCCGGACCCCCATCCAAGAGGAGCAGGCCGACGCCCACTCCACCCTGGCCAAGATCTGA\n",
      "lcl|NC_000001.11_cds_XP_024303241.1_72 [gene=SDF4] [db_xref=GeneID:51150] [protein=45 kDa calcium-binding protein isoform X1] [protein_id=XP_024303241.1] [location=complement(join(1217512..1217688,1218458..1218927,1223244..1223357,1223832..1223968,1228468..1228793))] [gbkey=CDS]\n",
      "ATGGTCTGGCCCTGGGTGGCGATGGCGTCCAGGTGGGGTCCCCTCATTGGCCTGGCTCCGTGCTGCCTCTGGCTCCTGGGGGCAGTCCTTCTGATGGACGCGTCTGCACGGCCTGCCAACCACTCGTCCACTCGAGAGAGAGTAGCCAACAGGGAGGAGAATGAGATCCTGCCCCCAGACCACCTGAACGGGGTGAAGCTGGAGATGGACGGGCACCTCAATCGCGGCTTCCACCAGGAGGTCTTCCTAGGCAAGGACCTGGGTGGCTTTGATGAGGACGCGGAGCCGCGGCGGAGCCGGAGGAAGCTGATGGTCATCTTTTCCAAGGTGGATGTGAACACTGACCGGAAGATCAGTGCCAAGGAGATGCAGCGCTGGATCATGGAGAAGACGGCCGAGCACTTCCAGGAGGCCATGGAGGAGAGCAAGACACACTTCCGCGCCGTGGACCCTGACGGGGACGGTCACGTGTCTTGGGACGAGTATAAGGTGAAGTTTTTGGCGAGTAAAGGCCATAGCGAGAAGGAGGTTGCCGACGCCATCAGGCTCAACGAGGAACTCAAAGTGGATGAGGAAACACAGGAAGTCCTGGAGAACCTGAAGGACCGCTGGTACCAGGCGGACAGCCCCCCTGCAGACCTGCTGCTGACGGAGGAGGAGTTCCTGTCGTTCCTCCACCCCGAGCACAGCCGGGGAATGCTCAGGTTCATGGTGAAGGAGATCGTCCGGGACCTGGGTGAGGCTGGGTCCAGCCTGGCCGGCACGCCAGGACCCAGGACCGACTGGCAGGGGCCGGGCATCGTCGGGAGGTCGGGGCAGGTCCTGCGGGAGCCCCAGCCTGGGTGTGGGCTGACCCATTCCCGTCTCGCAGACCAGGACGGTGACAAGCAGCTCTCTGTGCCCGAGTTCATCTCCCTGCCCGTGGGCACCGTGGAGAACCAGCAGGGCCAGGACATTGACGACAACTGGGTGAAAGACAGAAAAAAGGAGTTTGAGGAGCTCATTGACTCCAACCACGACGGCATCGTGACCGCCGAGGAGCTGGAGAGCTACATGGACCCCATGAACGAGTACAACGCGCTGAACGAGGCCAAGCAGATGATCGCCGTCGCCGACGAGAACCAGAACCACCACCTGGAGCCCGAGGAGGTGCTCAAGTACAGCGAGTTCTTCACGGGCAGCAAGCTGGTGGACTACGCGCGCAGCGTGCACGAGGAGTTTTGA\n",
      "lcl|NC_000001.11_cds_NP_057260.3_73 [gene=SDF4] [db_xref=CCDS:CCDS30553.1,Ensembl:ENSP00000353094.7,GeneID:51150] [protein=45 kDa calcium-binding protein isoform 2 precursor] [protein_id=NP_057260.3] [location=complement(join(1217512..1217688,1218458..1218633,1218769..1218927,1223244..1223357,1223832..1223968,1228468..1228772))] [gbkey=CDS]\n",
      "ATGGCGTCCAGGTGGGGTCCCCTCATTGGCCTGGCTCCGTGCTGCCTCTGGCTCCTGGGGGCAGTCCTTCTGATGGACGCGTCTGCACGGCCTGCCAACCACTCGTCCACTCGAGAGAGAGTAGCCAACAGGGAGGAGAATGAGATCCTGCCCCCAGACCACCTGAACGGGGTGAAGCTGGAGATGGACGGGCACCTCAATCGCGGCTTCCACCAGGAGGTCTTCCTAGGCAAGGACCTGGGTGGCTTTGATGAGGACGCGGAGCCGCGGCGGAGCCGGAGGAAGCTGATGGTCATCTTTTCCAAGGTGGATGTGAACACTGACCGGAAGATCAGTGCCAAGGAGATGCAGCGCTGGATCATGGAGAAGACGGCCGAGCACTTCCAGGAGGCCATGGAGGAGAGCAAGACACACTTCCGCGCCGTGGACCCTGACGGGGACGGTCACGTGTCTTGGGACGAGTATAAGGTGAAGTTTTTGGCGAGTAAAGGCCATAGCGAGAAGGAGGTTGCCGACGCCATCAGGCTCAACGAGGAACTCAAAGTGGATGAGGAAACACAGGAAGTCCTGGAGAACCTGAAGGACCGCTGGTACCAGGCGGACAGCCCCCCTGCAGACCTGCTGCTGACGGAGGAGGAGTTCCTGTCGTTCCTCCACCCCGAGCACAGCCGGGGAATGCTCAGGTTCATGGTGAAGGAGATCGTCCGGGACCTGGACCAGGACGGTGACAAGCAGCTCTCTGTGCCCGAGTTCATCTCCCTGCCCGTGGGCACCGTGGAGAACCAGCAGGGCCAGGACATTGACGACAACTGGGTGAAAGACAGAAAAAAGGAGTTTGAGGAGCTCATTGACTCCAACCACGACGGCATCGTGACCGCCGAGGAGCTGGAGAGCTACATGGACCCCATGAACGAGTACAACGCGCTGAACGAGGCCAAGCAGATGATCGCCGTCGCCGACGAGAACCAGAACCACCACCTGGAGCCCGAGGAGGTGCTCAAGTACAGCGAGTTCTTCACGGGCAGCAAGCTGGTGGACTACGCGCGCAGCGTGCACGAGGAGTTTTGA\n",
      "lcl|NC_000001.11_cds_NP_057631.2_74 [gene=SDF4] [db_xref=CCDS:CCDS12.1,GeneID:51150] [protein=45 kDa calcium-binding protein isoform 1 precursor] [protein_id=NP_057631.2] [location=complement(join(1217670..1217804,1218458..1218633,1218769..1218927,1223244..1223357,1223832..1223968,1228468..1228772))] [gbkey=CDS]\n",
      "ATGGCGTCCAGGTGGGGTCCCCTCATTGGCCTGGCTCCGTGCTGCCTCTGGCTCCTGGGGGCAGTCCTTCTGATGGACGCGTCTGCACGGCCTGCCAACCACTCGTCCACTCGAGAGAGAGTAGCCAACAGGGAGGAGAATGAGATCCTGCCCCCAGACCACCTGAACGGGGTGAAGCTGGAGATGGACGGGCACCTCAATCGCGGCTTCCACCAGGAGGTCTTCCTAGGCAAGGACCTGGGTGGCTTTGATGAGGACGCGGAGCCGCGGCGGAGCCGGAGGAAGCTGATGGTCATCTTTTCCAAGGTGGATGTGAACACTGACCGGAAGATCAGTGCCAAGGAGATGCAGCGCTGGATCATGGAGAAGACGGCCGAGCACTTCCAGGAGGCCATGGAGGAGAGCAAGACACACTTCCGCGCCGTGGACCCTGACGGGGACGGTCACGTGTCTTGGGACGAGTATAAGGTGAAGTTTTTGGCGAGTAAAGGCCATAGCGAGAAGGAGGTTGCCGACGCCATCAGGCTCAACGAGGAACTCAAAGTGGATGAGGAAACACAGGAAGTCCTGGAGAACCTGAAGGACCGCTGGTACCAGGCGGACAGCCCCCCTGCAGACCTGCTGCTGACGGAGGAGGAGTTCCTGTCGTTCCTCCACCCCGAGCACAGCCGGGGAATGCTCAGGTTCATGGTGAAGGAGATCGTCCGGGACCTGGACCAGGACGGTGACAAGCAGCTCTCTGTGCCCGAGTTCATCTCCCTGCCCGTGGGCACCGTGGAGAACCAGCAGGGCCAGGACATTGACGACAACTGGGTGAAAGACAGAAAAAAGGAGTTTGAGGAGCTCATTGACTCCAACCACGACGGCATCGTGACCGCCGAGGAGCTGGAGAACGTGCCCACACTCCCGCTGCAGCCAATAGGCACCTTAAATAGCCACTTCGTGCGGCTGGCCGCGGAGCTCGGAGGGGGAAAGGCGACGCTGACCTGTGCCCCGCTCGCCCGCAGAGCTACATGGACCCCATGA\n",
      "lcl|NC_000001.11_cds_XP_011539858.1_75 [gene=SDF4] [db_xref=GeneID:51150] [protein=45 kDa calcium-binding protein isoform X2] [protein_id=XP_011539858.1] [location=complement(join(1220699..1220730,1223244..1223357,1223832..1223968,1228468..1228793))] [gbkey=CDS]\n",
      "ATGGTCTGGCCCTGGGTGGCGATGGCGTCCAGGTGGGGTCCCCTCATTGGCCTGGCTCCGTGCTGCCTCTGGCTCCTGGGGGCAGTCCTTCTGATGGACGCGTCTGCACGGCCTGCCAACCACTCGTCCACTCGAGAGAGAGTAGCCAACAGGGAGGAGAATGAGATCCTGCCCCCAGACCACCTGAACGGGGTGAAGCTGGAGATGGACGGGCACCTCAATCGCGGCTTCCACCAGGAGGTCTTCCTAGGCAAGGACCTGGGTGGCTTTGATGAGGACGCGGAGCCGCGGCGGAGCCGGAGGAAGCTGATGGTCATCTTTTCCAAGGTGGATGTGAACACTGACCGGAAGATCAGTGCCAAGGAGATGCAGCGCTGGATCATGGAGAAGACGGCCGAGCACTTCCAGGAGGCCATGGAGGAGAGCAAGACACACTTCCGCGCCGTGGACCCTGACGGGGACGGTCACGTGTCTTGGGACGAGTATAAGGTGAAGTTTTTGGCGAGTAAAGGCCATAGCGAGAAGGAGGTTGCCGACGCCATCAGGCTCAACGAGGAACTCAAAGTGGATGAGGAAAGACATGGCCCACCTGGACCTAGAGCTCTGTGA\n",
      "lcl|NC_000001.11_cds_NP_542172.2_76 [gene=B3GALT6] [db_xref=CCDS:CCDS13.1,Ensembl:ENSP00000368496.2,GeneID:126792] [protein=beta-1,3-galactosyltransferase 6] [protein_id=NP_542172.2] [location=1232279..1233268] [gbkey=CDS]\n",
      "ATGAAGCTGCTGCGGCGGGCGTGGCGGCGGCGGGCGGCGCTAGGCCTGGGCACGCTGGCGCTGTGCGGGGCGGCGCTGCTCTACCTGGCGCGCTGCGCGGCCGAGCCCGGGGACCCCAGGGCGATGTCGGGCCGCAGCCCGCCTCCCCCCGCGCCCGCGCGCGCCGCCGCCTTCCTGGCAGTGCTGGTGGCCAGCGCGCCCCGCGCCGCCGAGCGCCGCAGCGTGATCCGCAGCACGTGGCTTGCGCGGCGCGGGGCCCCGGGCGACGTGTGGGCGCGCTTTGCCGTGGGCACGGCCGGCCTGGGCGCCGAGGAGCGGCGCGCCCTGGAGCGGGAGCAGGCGCGGCACGGGGACCTGCTGCTGCTGCCCGCGCTGCGCGACGCCTACGAAAACCTCACGGCCAAGGTGCTGGCCATGCTGGCCTGGCTGGACGAGCACGTGGCCTTCGAGTTCGTGCTCAAGGCGGACGACGACTCCTTCGCGCGGCTGGACGCGCTGCTGGCCGAGCTGCGCGCCCGCGAGCCCGCGCGCCGCCGCCGCCTCTACTGGGGCTTCTTCTCGGGCCGCGGCCGCGTCAAGCCGGGGGGGCGCTGGCGCGAGGCCGCCTGGCAACTCTGCGACTACTACCTGCCCTACGCGCTGGGCGGCGGCTACGTGCTCTCGGCCGACCTGGTGCACTACCTGCGCCTCAGCCGCGACTACCTGCGCGCCTGGCACAGCGAGGACGTGTCTCTGGGCGCCTGGCTGGCGCCGGTGGACGTCCAGCGGGAGCACGACCCGCGCTTCGACACCGAATACCGGTCCCGCGGCTGCAGCAACCAGTACCTGGTGACGCACAAGCAGAGCCTGGAGGACATGCTGGAGAAGCACGCGACGCTGGCGCGCGAGGGCCGCCTGTGCAAGCGCGAGGTGCAGCTGCGCCTGTCCTACGTGTACGACTGGTCCGCGCCGCCCTCGCAGTGCTGCCAGAGAAGGGAGGGCATCCCCTGA\n",
      "lcl|NC_000001.11_cds_XP_011539738.1_77 [gene=C1QTNF12] [db_xref=GeneID:388581] [protein=adipolin isoform X3] [protein_id=XP_011539738.1] [location=complement(join(1242490..1242646,1242835..1242913,1243062..1243152,1243448..1243552,1243954..1244105,1244191..1244275,1244381..1244497,1246514..1246690))] [gbkey=CDS]\n",
      "ATGCGGCGCTGGGCCTGGGCCGCGGTCGTGGTCCTCCTCGGGCCGCAGCTCGTGCTCCTCGGGGGCGTCGGGGCCCGGCGGGAGGCACAGAGGACGCAGCAGCCTGGCCAGCGCGCAGATCCCCCCAACGCCACCGCCAGCGCGTCCTCCCGCGAGGGGCTGCCCGAGGCCCCCAAGCCATCCCAGGCCTCAGGACCTGAGTTCTCCGACGCCCACATGACATGGCTGAACTTTGTCCGGCGGCCGGACGACGGCGCCTTAAGGAAGCGGTGCGGAAGCAGGGACAAGAAGCCGCGGGATCTCTTCGGTCCCCCAGGACCTCCAGGTGCAGAAGTGACCGCGGAGACTCTGCTTCACGAGTTTCAGGAGCTGCTGAAAGAGGCCACGGAGCGCCGGTTCTCAGGGCTTCTGGACCCGCTGCTGCCCCAGGGGGCGGGCCTGCGGCTGGTGGGCGAGGCCTTTCACTGCCGGCTGCAGGGTCCCCGCCGGGTGGACAAGCGGACGCTGGTGGAGCTGCATGGTTTCCAGGCTCCTGCTGCCCAAGGTGCCTTCCTGCGAGGCTCCGGTCTGAGCCTGGCCTCGGGTCGGTTCACGGCCCCCGTGTCCGGCATCTTCCAGTTCTCTGCCAGTCTGCACACCACAGTGAGCTGCAGGGCAAGGCCCGGCTGCGGGCCCGGGACGTGGTGTGTGTTCTCATCTGTATTGAGTCCCTGTGCCAGCGCCACACGTGCCTGGAGGCCGTCTCAGGCCTGGAGAGCAACAGCAGGGTCTTCACGCTACAGGTGCAGGGGCTGCTGCAGCTGCAGGCTGGACAGTACGCTTCTGTGTTTGTGGACAATGGCTCCGGGGCCGTCCTCACCATCCAGGCGGGCTCCAGCTTCTCCGGGCTGCTCCTGGGCACGTGAGGGCGCCCAGGGGGGCTGGCGAGGAGCTGCCGCCGGATCCCGGGGACCCTCCTACTGA\n",
      "lcl|NC_000001.11_cds_XP_011539737.1_78 [gene=C1QTNF12] [db_xref=GeneID:388581] [protein=adipolin isoform X2] [protein_id=XP_011539737.1] [location=complement(join(1242490..1242646,1242835..1242913,1243062..1243166,1243444..1243552,1243954..1244105,1244191..1244275,1244381..1244497,1246514..1246690))] [gbkey=CDS]\n",
      "ATGCGGCGCTGGGCCTGGGCCGCGGTCGTGGTCCTCCTCGGGCCGCAGCTCGTGCTCCTCGGGGGCGTCGGGGCCCGGCGGGAGGCACAGAGGACGCAGCAGCCTGGCCAGCGCGCAGATCCCCCCAACGCCACCGCCAGCGCGTCCTCCCGCGAGGGGCTGCCCGAGGCCCCCAAGCCATCCCAGGCCTCAGGACCTGAGTTCTCCGACGCCCACATGACATGGCTGAACTTTGTCCGGCGGCCGGACGACGGCGCCTTAAGGAAGCGGTGCGGAAGCAGGGACAAGAAGCCGCGGGATCTCTTCGGTCCCCCAGGACCTCCAGGTGCAGAAGTGACCGCGGAGACTCTGCTTCACGAGTTTCAGGAGCTGCTGAAAGAGGCCACGGAGCGCCGGTTCTCAGGGCTTCTGGACCCGCTGCTGCCCCAGGGGGCGGGCCTGCGGCTGGTGGGCGAGGCCTTTCACTGCCGGCTGCAGGGTCCCCGCCGGGTGGACAAGCGGACGCTGGTGGAGCTGCATGGTTTCCAGGCTCCTGCTGCCCAAGGTGCCTTCCTGCGAGGCTCCGGTCTGAGCCTGGCCTCGGGTCGGTTCACGGCCCCCGTGTCCGGCATCTTCCAGTTCTCTGCCAGTCTGCACGTGGGGCTCTCTCCGCAGACCACAGTGAGCTGCAGGGCAAGGCCCGGCTGCGGGCCCGGGACGTGGTGTGTGTTCTCATCTGTATTGAGTCCCTGTGCCAGCGCCACACGTGCCTGGAGGCCGTCTCAGGCCTGGAGAGCAACAGCAGGGTCTTCACGCTACAGGTGCAGGGGCTGCTGCAGCTGCAGGCTGGACAGTACGCTTCTGTGTTTGTGGACAATGGCTCCGGGGCCGTCCTCACCATCCAGGCGGGCTCCAGCTTCTCCGGGCTGCTCCTGGGCACGTGAGGGCGCCCAGGGGGGCTGGCGAGGAGCTGCCGCCGGATCCCGGGGACCCTCCTACTGA\n",
      "lcl|NC_000001.11_cds_XP_011539739.1_79 [gene=C1QTNF12] [db_xref=GeneID:388581] [protein=adipolin isoform X4] [protein_id=XP_011539739.1] [location=complement(join(1242490..1242646,1242835..1242913,1243062..1243166,1243444..1243552,1243954..1244105,1244191..1244275,1244381..1244458))] [gbkey=CDS]\n",
      "ATGACATGGCTGAACTTTGTCCGGCGGCCGGACGACGGCGCCTTAAGGAAGCGGTGCGGAAGCAGGGACAAGAAGCCGCGGGATCTCTTCGGTCCCCCAGGACCTCCAGGTGCAGAAGTGACCGCGGAGACTCTGCTTCACGAGTTTCAGGAGCTGCTGAAAGAGGCCACGGAGCGCCGGTTCTCAGGGCTTCTGGACCCGCTGCTGCCCCAGGGGGCGGGCCTGCGGCTGGTGGGCGAGGCCTTTCACTGCCGGCTGCAGGGTCCCCGCCGGGTGGACAAGCGGACGCTGGTGGAGCTGCATGGTTTCCAGGCTCCTGCTGCCCAAGGTGCCTTCCTGCGAGGCTCCGGTCTGAGCCTGGCCTCGGGTCGGTTCACGGCCCCCGTGTCCGGCATCTTCCAGTTCTCTGCCAGTCTGCACGTGGGGCTCTCTCCGCAGACCACAGTGAGCTGCAGGGCAAGGCCCGGCTGCGGGCCCGGGACGTGGTGTGTGTTCTCATCTGTATTGAGTCCCTGTGCCAGCGCCACACGTGCCTGGAGGCCGTCTCAGGCCTGGAGAGCAACAGCAGGGTCTTCACGCTACAGGTGCAGGGGCTGCTGCAGCTGCAGGCTGGACAGTACGCTTCTGTGTTTGTGGACAATGGCTCCGGGGCCGTCCTCACCATCCAGGCGGGCTCCAGCTTCTCCGGGCTGCTCCTGGGCACGTGAGGGCGCCCAGGGGGGCTGGCGAGGAGCTGCCGCCGGATCCCGGGGACCCTCCTACTGA\n",
      "lcl|NC_000001.11_cds_NP_001014980.1_80 [gene=C1QTNF12] [db_xref=CCDS:CCDS30554.1,Ensembl:ENSP00000329137.2,GeneID:388581] [protein=adipolin precursor] [protein_id=NP_001014980.1] [location=complement(join(1242548..1242646,1242835..1242913,1243062..1243152,1243444..1243552,1243954..1244105,1244191..1244275,1244381..1244497,1246514..1246690))] [gbkey=CDS]\n",
      "ATGCGGCGCTGGGCCTGGGCCGCGGTCGTGGTCCTCCTCGGGCCGCAGCTCGTGCTCCTCGGGGGCGTCGGGGCCCGGCGGGAGGCACAGAGGACGCAGCAGCCTGGCCAGCGCGCAGATCCCCCCAACGCCACCGCCAGCGCGTCCTCCCGCGAGGGGCTGCCCGAGGCCCCCAAGCCATCCCAGGCCTCAGGACCTGAGTTCTCCGACGCCCACATGACATGGCTGAACTTTGTCCGGCGGCCGGACGACGGCGCCTTAAGGAAGCGGTGCGGAAGCAGGGACAAGAAGCCGCGGGATCTCTTCGGTCCCCCAGGACCTCCAGGTGCAGAAGTGACCGCGGAGACTCTGCTTCACGAGTTTCAGGAGCTGCTGAAAGAGGCCACGGAGCGCCGGTTCTCAGGGCTTCTGGACCCGCTGCTGCCCCAGGGGGCGGGCCTGCGGCTGGTGGGCGAGGCCTTTCACTGCCGGCTGCAGGGTCCCCGCCGGGTGGACAAGCGGACGCTGGTGGAGCTGCATGGTTTCCAGGCTCCTGCTGCCCAAGGTGCCTTCCTGCGAGGCTCCGGTCTGAGCCTGGCCTCGGGTCGGTTCACGGCCCCCGTGTCCGGCATCTTCCAGTTCTCTGCCAGTCTGCACGTGGACCACAGTGAGCTGCAGGGCAAGGCCCGGCTGCGGGCCCGGGACGTGGTGTGTGTTCTCATCTGTATTGAGTCCCTGTGCCAGCGCCACACGTGCCTGGAGGCCGTCTCAGGCCTGGAGAGCAACAGCAGGGTCTTCACGCTACAGGTGCAGGGGCTGCTGCAGCTGCAGGCTGGACAGTACGCTTCTGTGTTTGTGGACAATGGCTCCGGGGCCGTCCTCACCATCCAGGCGGGCTCCAGCTTCTCCGGGCTGCTCCTGGGCACGTGA\n",
      "lcl|NC_000001.11_cds_XP_024302675.1_81 [gene=C1QTNF12] [db_xref=GeneID:388581] [protein=adipolin isoform X1] [protein_id=XP_024302675.1] [location=complement(join(1242548..1242646,1242835..1242913,1243062..1243152,1243444..1243552,1243954..1244105,1244191..1244497,1246514..1246690))] [gbkey=CDS]\n",
      "ATGCGGCGCTGGGCCTGGGCCGCGGTCGTGGTCCTCCTCGGGCCGCAGCTCGTGCTCCTCGGGGGCGTCGGGGCCCGGCGGGAGGCACAGAGGACGCAGCAGCCTGGCCAGCGCGCAGATCCCCCCAACGCCACCGCCAGCGCGTCCTCCCGCGAGGGGCTGCCCGAGGCCCCCAAGCCATCCCAGGCCTCAGGACCTGAGTTCTCCGACGCCCACATGACATGGCTGAACTTTGTCCGGCGGCCGGACGACGGCGCCTTAAGGAAGCGGTGCGGAAGCAGGGACAAGAAGCCGGTGAGCCCCGCCCGGGCTGCTGCAGGGTCTGAGCCCCGGACAGGGTGTGGTGGTAGCTCCCACCGGGTCCCACTGGGCCCCTCACCTGCTTCTCTCTCCCCCCAGCGGGATCTCTTCGGTCCCCCAGGACCTCCAGGTGCAGAAGTGACCGCGGAGACTCTGCTTCACGAGTTTCAGGAGCTGCTGAAAGAGGCCACGGAGCGCCGGTTCTCAGGGCTTCTGGACCCGCTGCTGCCCCAGGGGGCGGGCCTGCGGCTGGTGGGCGAGGCCTTTCACTGCCGGCTGCAGGGTCCCCGCCGGGTGGACAAGCGGACGCTGGTGGAGCTGCATGGTTTCCAGGCTCCTGCTGCCCAAGGTGCCTTCCTGCGAGGCTCCGGTCTGAGCCTGGCCTCGGGTCGGTTCACGGCCCCCGTGTCCGGCATCTTCCAGTTCTCTGCCAGTCTGCACGTGGACCACAGTGAGCTGCAGGGCAAGGCCCGGCTGCGGGCCCGGGACGTGGTGTGTGTTCTCATCTGTATTGAGTCCCTGTGCCAGCGCCACACGTGCCTGGAGGCCGTCTCAGGCCTGGAGAGCAACAGCAGGGTCTTCACGCTACAGGTGCAGGGGCTGCTGCAGCTGCAGGCTGGACAGTACGCTTCTGTGTTTGTGGACAATGGCTCCGGGGCCGTCCTCACCATCCAGGCGGGCTCCAGCTTCTCCGGGCTGCTCCTGGGCACGTGA\n",
      "lcl|NC_000001.11_cds_NP_477515.2_82 [gene=UBE2J2] [db_xref=CCDS:CCDS14.1,Ensembl:ENSP00000305826.7,GeneID:118424] [protein=ubiquitin-conjugating enzyme E2 J2 isoform 2] [protein_id=NP_477515.2] [location=complement(join(1255203..1255487,1256045..1256125,1256992..1257130,1257208..1257310,1263346..1263386,1267862..1267992))] [gbkey=CDS]\n",
      "ATGAGCAGCACCAGCAGTAAGAGGGCTCCGACCACGGCAACCCAGAGGCTGAAGCAGGACTACCTTCGCATTAAGAAAGACCCGGTGCCTTACATCTGTGCCGAGCCCCTCCCTTCGAATATTCTCGAGTGGCACTATGTCGTCCGAGGCCCAGAGATGACCCCTTATGAAGGTGGCTATTATCATGGAAAACTAATTTTTCCCAGAGAATTTCCTTTCAAACCTCCCAGTATCTATATGATCACTCCCAACGGGAGGTTTAAGTGCAACACCAGGCTGTGTCTTTCTATCACGGATTTCCACCCGGACACGTGGAACCCGGCCTGGTCTGTCTCCACCATCCTGACTGGGCTCCTGAGCTTCATGGTGGAGAAGGGCCCCACCCTGGGCAGTATAGAGACGTCGGACTTCACGAAAAGACAACTGGCAGTGCAGAGTTTAGCATTTAATTTGAAAGATAAAGTCTTTTGTGAATTATTTCCTGAAGTCGTGGAGGAGATTAAACAAAAACAGAAAGCACAAGACGAACTCAGTAGCAGACCCCAGACTCTCCCCTTGCCAGACGTGGTTCCAGACGGGGAGACGCACCTCGTCCAGAACGGGATTCAGCTGCTCAACGGGCATGCGCCGGGGGCCGTCCCAAACCTCGCAGGGCTCCAGCAGGCCAACCGGCACCACGGACTCCTGGGTGGCGCCCTGGCGAACTTGTTTGTGATAGTTGGGTTTGCAGCCTTTGCTTACACGGTCAAGTACGTGCTGAGGAGCATCGCGCAGGAGTGA\n",
      "lcl|NC_000001.11_cds_XP_005244775.1_83 [gene=UBE2J2] [db_xref=GeneID:118424] [protein=ubiquitin-conjugating enzyme E2 J2 isoform X2] [protein_id=XP_005244775.1] [location=complement(join(1255203..1255487,1256045..1256125,1256992..1257130,1257208..1257310,1263346..1263386,1267862..1267992))] [gbkey=CDS]\n",
      "ATGAGCAGCACCAGCAGTAAGAGGGCTCCGACCACGGCAACCCAGAGGCTGAAGCAGGACTACCTTCGCATTAAGAAAGACCCGGTGCCTTACATCTGTGCCGAGCCCCTCCCTTCGAATATTCTCGAGTGGCACTATGTCGTCCGAGGCCCAGAGATGACCCCTTATGAAGGTGGCTATTATCATGGAAAACTAATTTTTCCCAGAGAATTTCCTTTCAAACCTCCCAGTATCTATATGATCACTCCCAACGGGAGGTTTAAGTGCAACACCAGGCTGTGTCTTTCTATCACGGATTTCCACCCGGACACGTGGAACCCGGCCTGGTCTGTCTCCACCATCCTGACTGGGCTCCTGAGCTTCATGGTGGAGAAGGGCCCCACCCTGGGCAGTATAGAGACGTCGGACTTCACGAAAAGACAACTGGCAGTGCAGAGTTTAGCATTTAATTTGAAAGATAAAGTCTTTTGTGAATTATTTCCTGAAGTCGTGGAGGAGATTAAACAAAAACAGAAAGCACAAGACGAACTCAGTAGCAGACCCCAGACTCTCCCCTTGCCAGACGTGGTTCCAGACGGGGAGACGCACCTCGTCCAGAACGGGATTCAGCTGCTCAACGGGCATGCGCCGGGGGCCGTCCCAAACCTCGCAGGGCTCCAGCAGGCCAACCGGCACCACGGACTCCTGGGTGGCGCCCTGGCGAACTTGTTTGTGATAGTTGGGTTTGCAGCCTTTGCTTACACGGTCAAGTACGTGCTGAGGAGCATCGCGCAGGAGTGA\n",
      "lcl|NC_000001.11_cds_XP_005244776.1_84 [gene=UBE2J2] [db_xref=GeneID:118424] [protein=ubiquitin-conjugating enzyme E2 J2 isoform X2] [protein_id=XP_005244776.1] [location=complement(join(1255203..1255487,1256045..1256125,1256992..1257130,1257208..1257310,1263346..1263386,1267862..1267992))] [gbkey=CDS]\n",
      "ATGAGCAGCACCAGCAGTAAGAGGGCTCCGACCACGGCAACCCAGAGGCTGAAGCAGGACTACCTTCGCATTAAGAAAGACCCGGTGCCTTACATCTGTGCCGAGCCCCTCCCTTCGAATATTCTCGAGTGGCACTATGTCGTCCGAGGCCCAGAGATGACCCCTTATGAAGGTGGCTATTATCATGGAAAACTAATTTTTCCCAGAGAATTTCCTTTCAAACCTCCCAGTATCTATATGATCACTCCCAACGGGAGGTTTAAGTGCAACACCAGGCTGTGTCTTTCTATCACGGATTTCCACCCGGACACGTGGAACCCGGCCTGGTCTGTCTCCACCATCCTGACTGGGCTCCTGAGCTTCATGGTGGAGAAGGGCCCCACCCTGGGCAGTATAGAGACGTCGGACTTCACGAAAAGACAACTGGCAGTGCAGAGTTTAGCATTTAATTTGAAAGATAAAGTCTTTTGTGAATTATTTCCTGAAGTCGTGGAGGAGATTAAACAAAAACAGAAAGCACAAGACGAACTCAGTAGCAGACCCCAGACTCTCCCCTTGCCAGACGTGGTTCCAGACGGGGAGACGCACCTCGTCCAGAACGGGATTCAGCTGCTCAACGGGCATGCGCCGGGGGCCGTCCCAAACCTCGCAGGGCTCCAGCAGGCCAACCGGCACCACGGACTCCTGGGTGGCGCCCTGGCGAACTTGTTTGTGATAGTTGGGTTTGCAGCCTTTGCTTACACGGTCAAGTACGTGCTGAGGAGCATCGCGCAGGAGTGA\n",
      "lcl|NC_000001.11_cds_XP_006710396.1_85 [gene=UBE2J2] [db_xref=GeneID:118424] [protein=ubiquitin-conjugating enzyme E2 J2 isoform X2] [protein_id=XP_006710396.1] [location=complement(join(1255203..1255487,1256045..1256125,1256992..1257130,1257208..1257310,1263346..1263386,1267862..1267992))] [gbkey=CDS]\n",
      "ATGAGCAGCACCAGCAGTAAGAGGGCTCCGACCACGGCAACCCAGAGGCTGAAGCAGGACTACCTTCGCATTAAGAAAGACCCGGTGCCTTACATCTGTGCCGAGCCCCTCCCTTCGAATATTCTCGAGTGGCACTATGTCGTCCGAGGCCCAGAGATGACCCCTTATGAAGGTGGCTATTATCATGGAAAACTAATTTTTCCCAGAGAATTTCCTTTCAAACCTCCCAGTATCTATATGATCACTCCCAACGGGAGGTTTAAGTGCAACACCAGGCTGTGTCTTTCTATCACGGATTTCCACCCGGACACGTGGAACCCGGCCTGGTCTGTCTCCACCATCCTGACTGGGCTCCTGAGCTTCATGGTGGAGAAGGGCCCCACCCTGGGCAGTATAGAGACGTCGGACTTCACGAAAAGACAACTGGCAGTGCAGAGTTTAGCATTTAATTTGAAAGATAAAGTCTTTTGTGAATTATTTCCTGAAGTCGTGGAGGAGATTAAACAAAAACAGAAAGCACAAGACGAACTCAGTAGCAGACCCCAGACTCTCCCCTTGCCAGACGTGGTTCCAGACGGGGAGACGCACCTCGTCCAGAACGGGATTCAGCTGCTCAACGGGCATGCGCCGGGGGCCGTCCCAAACCTCGCAGGGCTCCAGCAGGCCAACCGGCACCACGGACTCCTGGGTGGCGCCCTGGCGAACTTGTTTGTGATAGTTGGGTTTGCAGCCTTTGCTTACACGGTCAAGTACGTGCTGAGGAGCATCGCGCAGGAGTGA\n",
      "lcl|NC_000001.11_cds_XP_011538916.1_86 [gene=UBE2J2] [db_xref=GeneID:118424] [protein=ubiquitin-conjugating enzyme E2 J2 isoform X2] [protein_id=XP_011538916.1] [location=complement(join(1255203..1255487,1256045..1256125,1256992..1257130,1257208..1257310,1263346..1263386,1267862..1267992))] [gbkey=CDS]\n",
      "ATGAGCAGCACCAGCAGTAAGAGGGCTCCGACCACGGCAACCCAGAGGCTGAAGCAGGACTACCTTCGCATTAAGAAAGACCCGGTGCCTTACATCTGTGCCGAGCCCCTCCCTTCGAATATTCTCGAGTGGCACTATGTCGTCCGAGGCCCAGAGATGACCCCTTATGAAGGTGGCTATTATCATGGAAAACTAATTTTTCCCAGAGAATTTCCTTTCAAACCTCCCAGTATCTATATGATCACTCCCAACGGGAGGTTTAAGTGCAACACCAGGCTGTGTCTTTCTATCACGGATTTCCACCCGGACACGTGGAACCCGGCCTGGTCTGTCTCCACCATCCTGACTGGGCTCCTGAGCTTCATGGTGGAGAAGGGCCCCACCCTGGGCAGTATAGAGACGTCGGACTTCACGAAAAGACAACTGGCAGTGCAGAGTTTAGCATTTAATTTGAAAGATAAAGTCTTTTGTGAATTATTTCCTGAAGTCGTGGAGGAGATTAAACAAAAACAGAAAGCACAAGACGAACTCAGTAGCAGACCCCAGACTCTCCCCTTGCCAGACGTGGTTCCAGACGGGGAGACGCACCTCGTCCAGAACGGGATTCAGCTGCTCAACGGGCATGCGCCGGGGGCCGTCCCAAACCTCGCAGGGCTCCAGCAGGCCAACCGGCACCACGGACTCCTGGGTGGCGCCCTGGCGAACTTGTTTGTGATAGTTGGGTTTGCAGCCTTTGCTTACACGGTCAAGTACGTGCTGAGGAGCATCGCGCAGGAGTGA\n",
      "lcl|NC_000001.11_cds_NP_919296.1_87 [gene=UBE2J2] [db_xref=CCDS:CCDS15.1,GeneID:118424] [protein=ubiquitin-conjugating enzyme E2 J2 isoform 1] [protein_id=NP_919296.1] [location=complement(join(1255203..1255487,1256045..1256125,1256992..1257130,1257208..1257310,1263346..1263386,1264783..1264830,1267862..1267992))] [gbkey=CDS]\n",
      "ATGAGCAGCACCAGCAGTAAGAGGGCTCCGACCACGGCAACCCAGAGGCTGAAGCAGGACTACCTTCGCATTAAGAAAGACCCGGTGCCTTACATCTGTGCCGAGCCCCTCCCTTCGAATATTCTCGAGTGGTTCAAGCGATTCTCCTGGCTCAGCCTCCTGAGTAGCTGGGATTACAGGCACTATGTCGTCCGAGGCCCAGAGATGACCCCTTATGAAGGTGGCTATTATCATGGAAAACTAATTTTTCCCAGAGAATTTCCTTTCAAACCTCCCAGTATCTATATGATCACTCCCAACGGGAGGTTTAAGTGCAACACCAGGCTGTGTCTTTCTATCACGGATTTCCACCCGGACACGTGGAACCCGGCCTGGTCTGTCTCCACCATCCTGACTGGGCTCCTGAGCTTCATGGTGGAGAAGGGCCCCACCCTGGGCAGTATAGAGACGTCGGACTTCACGAAAAGACAACTGGCAGTGCAGAGTTTAGCATTTAATTTGAAAGATAAAGTCTTTTGTGAATTATTTCCTGAAGTCGTGGAGGAGATTAAACAAAAACAGAAAGCACAAGACGAACTCAGTAGCAGACCCCAGACTCTCCCCTTGCCAGACGTGGTTCCAGACGGGGAGACGCACCTCGTCCAGAACGGGATTCAGCTGCTCAACGGGCATGCGCCGGGGGCCGTCCCAAACCTCGCAGGGCTCCAGCAGGCCAACCGGCACCACGGACTCCTGGGTGGCGCCCTGGCGAACTTGTTTGTGATAGTTGGGTTTGCAGCCTTTGCTTACACGGTCAAGTACGTGCTGAGGAGCATCGCGCAGGAGTGA\n",
      "lcl|NC_000001.11_cds_XP_024308790.1_88 [gene=UBE2J2] [db_xref=GeneID:118424] [protein=ubiquitin-conjugating enzyme E2 J2 isoform X1] [protein_id=XP_024308790.1] [location=complement(join(1255203..1255487,1256045..1256125,1256992..1257130,1257208..1257310,1263346..1263386,1266098..1266290,1267733..1267769))] [gbkey=CDS]\n",
      "ATGGCATTGGCAAGGTGCTCCTGCACCCTCCCCCGGGAGAAAAGATATTTCAGTGAGTTGAAAGGAAATGTGTTTCGGCTTGGTCAGGGGTCCACCTTCTCTGGCTCACAGAGGAGGCCCAGCCCAGGCAGGCGGAGGATACCCAGGGTGAGGCGGAGCCCCTTGGCCACCAGAGTGCTCTCTGCCCCCAGTGTTGAAAATCACATGTGGCCCCAGGACATCGCTGGCAGGCACTATGTCGTCCGAGGCCCAGAGATGACCCCTTATGAAGGTGGCTATTATCATGGAAAACTAATTTTTCCCAGAGAATTTCCTTTCAAACCTCCCAGTATCTATATGATCACTCCCAACGGGAGGTTTAAGTGCAACACCAGGCTGTGTCTTTCTATCACGGATTTCCACCCGGACACGTGGAACCCGGCCTGGTCTGTCTCCACCATCCTGACTGGGCTCCTGAGCTTCATGGTGGAGAAGGGCCCCACCCTGGGCAGTATAGAGACGTCGGACTTCACGAAAAGACAACTGGCAGTGCAGAGTTTAGCATTTAATTTGAAAGATAAAGTCTTTTGTGAATTATTTCCTGAAGTCGTGGAGGAGATTAAACAAAAACAGAAAGCACAAGACGAACTCAGTAGCAGACCCCAGACTCTCCCCTTGCCAGACGTGGTTCCAGACGGGGAGACGCACCTCGTCCAGAACGGGATTCAGCTGCTCAACGGGCATGCGCCGGGGGCCGTCCCAAACCTCGCAGGGCTCCAGCAGGCCAACCGGCACCACGGACTCCTGGGTGGCGCCCTGGCGAACTTGTTTGTGATAGTTGGGTTTGCAGCCTTTGCTTACACGGTCAAGTACGTGCTGAGGAGCATCGCGCAGGAGTGA\n",
      "lcl|NC_000001.11_cds_XP_011538915.1_89 [gene=UBE2J2] [db_xref=GeneID:118424] [protein=ubiquitin-conjugating enzyme E2 J2 isoform X3] [protein_id=XP_011538915.1] [location=complement(join(1255203..1255487,1256045..1256125,1256992..1257130,1257208..1257310,1263346..1263386,1266098..1266123))] [gbkey=CDS]\n",
      "ATGTGGCCCCAGGACATCGCTGGCAGGCACTATGTCGTCCGAGGCCCAGAGATGACCCCTTATGAAGGTGGCTATTATCATGGAAAACTAATTTTTCCCAGAGAATTTCCTTTCAAACCTCCCAGTATCTATATGATCACTCCCAACGGGAGGTTTAAGTGCAACACCAGGCTGTGTCTTTCTATCACGGATTTCCACCCGGACACGTGGAACCCGGCCTGGTCTGTCTCCACCATCCTGACTGGGCTCCTGAGCTTCATGGTGGAGAAGGGCCCCACCCTGGGCAGTATAGAGACGTCGGACTTCACGAAAAGACAACTGGCAGTGCAGAGTTTAGCATTTAATTTGAAAGATAAAGTCTTTTGTGAATTATTTCCTGAAGTCGTGGAGGAGATTAAACAAAAACAGAAAGCACAAGACGAACTCAGTAGCAGACCCCAGACTCTCCCCTTGCCAGACGTGGTTCCAGACGGGGAGACGCACCTCGTCCAGAACGGGATTCAGCTGCTCAACGGGCATGCGCCGGGGGCCGTCCCAAACCTCGCAGGGCTCCAGCAGGCCAACCGGCACCACGGACTCCTGGGTGGCGCCCTGGCGAACTTGTTTGTGATAGTTGGGTTTGCAGCCTTTGCTTACACGGTCAAGTACGTGCTGAGGAGCATCGCGCAGGAGTGA\n",
      "lcl|NC_000001.11_cds_XP_016855728.1_90 [gene=UBE2J2] [db_xref=GeneID:118424] [protein=ubiquitin-conjugating enzyme E2 J2 isoform X5] [protein_id=XP_016855728.1] [location=complement(join(1255203..1255487,1256045..1256125,1256992..1257130,1257208..1257310,1263346..1263361))] [gbkey=CDS]\n",
      "ATGACCCCTTATGAAGGTGGCTATTATCATGGAAAACTAATTTTTCCCAGAGAATTTCCTTTCAAACCTCCCAGTATCTATATGATCACTCCCAACGGGAGGTTTAAGTGCAACACCAGGCTGTGTCTTTCTATCACGGATTTCCACCCGGACACGTGGAACCCGGCCTGGTCTGTCTCCACCATCCTGACTGGGCTCCTGAGCTTCATGGTGGAGAAGGGCCCCACCCTGGGCAGTATAGAGACGTCGGACTTCACGAAAAGACAACTGGCAGTGCAGAGTTTAGCATTTAATTTGAAAGATAAAGTCTTTTGTGAATTATTTCCTGAAGTCGTGGAGGAGATTAAACAAAAACAGAAAGCACAAGACGAACTCAGTAGCAGACCCCAGACTCTCCCCTTGCCAGACGTGGTTCCAGACGGGGAGACGCACCTCGTCCAGAACGGGATTCAGCTGCTCAACGGGCATGCGCCGGGGGCCGTCCCAAACCTCGCAGGGCTCCAGCAGGCCAACCGGCACCACGGACTCCTGGGTGGCGCCCTGGCGAACTTGTTTGTGATAGTTGGGTTTGCAGCCTTTGCTTACACGGTCAAGTACGTGCTGAGGAGCATCGCGCAGGAGTGA\n",
      "lcl|NC_000001.11_cds_NP_919439.1_91 [gene=UBE2J2] [db_xref=CCDS:CCDS16.1,GeneID:118424] [protein=ubiquitin-conjugating enzyme E2 J2 isoform 3] [protein_id=NP_919439.1] [location=complement(join(1255203..1255487,1256045..1256125,1256992..1257130,1257208..1257310,1263346..1263361))] [gbkey=CDS]\n",
      "ATGACCCCTTATGAAGGTGGCTATTATCATGGAAAACTAATTTTTCCCAGAGAATTTCCTTTCAAACCTCCCAGTATCTATATGATCACTCCCAACGGGAGGTTTAAGTGCAACACCAGGCTGTGTCTTTCTATCACGGATTTCCACCCGGACACGTGGAACCCGGCCTGGTCTGTCTCCACCATCCTGACTGGGCTCCTGAGCTTCATGGTGGAGAAGGGCCCCACCCTGGGCAGTATAGAGACGTCGGACTTCACGAAAAGACAACTGGCAGTGCAGAGTTTAGCATTTAATTTGAAAGATAAAGTCTTTTGTGAATTATTTCCTGAAGTCGTGGAGGAGATTAAACAAAAACAGAAAGCACAAGACGAACTCAGTAGCAGACCCCAGACTCTCCCCTTGCCAGACGTGGTTCCAGACGGGGAGACGCACCTCGTCCAGAACGGGATTCAGCTGCTCAACGGGCATGCGCCGGGGGCCGTCCCAAACCTCGCAGGGCTCCAGCAGGCCAACCGGCACCACGGACTCCTGGGTGGCGCCCTGGCGAACTTGTTTGTGATAGTTGGGTTTGCAGCCTTTGCTTACACGGTCAAGTACGTGCTGAGGAGCATCGCGCAGGAGTGA\n",
      "lcl|NC_000001.11_cds_NP_919440.1_92 [gene=UBE2J2] [db_xref=CCDS:CCDS16.1,GeneID:118424] [protein=ubiquitin-conjugating enzyme E2 J2 isoform 3] [protein_id=NP_919440.1] [location=complement(join(1255203..1255487,1256045..1256125,1256992..1257130,1257208..1257310,1263346..1263361))] [gbkey=CDS]\n",
      "ATGACCCCTTATGAAGGTGGCTATTATCATGGAAAACTAATTTTTCCCAGAGAATTTCCTTTCAAACCTCCCAGTATCTATATGATCACTCCCAACGGGAGGTTTAAGTGCAACACCAGGCTGTGTCTTTCTATCACGGATTTCCACCCGGACACGTGGAACCCGGCCTGGTCTGTCTCCACCATCCTGACTGGGCTCCTGAGCTTCATGGTGGAGAAGGGCCCCACCCTGGGCAGTATAGAGACGTCGGACTTCACGAAAAGACAACTGGCAGTGCAGAGTTTAGCATTTAATTTGAAAGATAAAGTCTTTTGTGAATTATTTCCTGAAGTCGTGGAGGAGATTAAACAAAAACAGAAAGCACAAGACGAACTCAGTAGCAGACCCCAGACTCTCCCCTTGCCAGACGTGGTTCCAGACGGGGAGACGCACCTCGTCCAGAACGGGATTCAGCTGCTCAACGGGCATGCGCCGGGGGCCGTCCCAAACCTCGCAGGGCTCCAGCAGGCCAACCGGCACCACGGACTCCTGGGTGGCGCCCTGGCGAACTTGTTTGTGATAGTTGGGTTTGCAGCCTTTGCTTACACGGTCAAGTACGTGCTGAGGAGCATCGCGCAGGAGTGA\n",
      "lcl|NC_000001.11_cds_XP_016855727.1_93 [gene=UBE2J2] [db_xref=GeneID:118424] [protein=ubiquitin-conjugating enzyme E2 J2 isoform X4] [protein_id=XP_016855727.1] [location=complement(join(1255203..1255487,1256045..1256125,1256992..1257130,1257208..1257310,1262269..1262284))] [gbkey=CDS]\n",
      "ATGCCAGCAGGCCGTGGTGGCTATTATCATGGAAAACTAATTTTTCCCAGAGAATTTCCTTTCAAACCTCCCAGTATCTATATGATCACTCCCAACGGGAGGTTTAAGTGCAACACCAGGCTGTGTCTTTCTATCACGGATTTCCACCCGGACACGTGGAACCCGGCCTGGTCTGTCTCCACCATCCTGACTGGGCTCCTGAGCTTCATGGTGGAGAAGGGCCCCACCCTGGGCAGTATAGAGACGTCGGACTTCACGAAAAGACAACTGGCAGTGCAGAGTTTAGCATTTAATTTGAAAGATAAAGTCTTTTGTGAATTATTTCCTGAAGTCGTGGAGGAGATTAAACAAAAACAGAAAGCACAAGACGAACTCAGTAGCAGACCCCAGACTCTCCCCTTGCCAGACGTGGTTCCAGACGGGGAGACGCACCTCGTCCAGAACGGGATTCAGCTGCTCAACGGGCATGCGCCGGGGGCCGTCCCAAACCTCGCAGGGCTCCAGCAGGCCAACCGGCACCACGGACTCCTGGGTGGCGCCCTGGCGAACTTGTTTGTGATAGTTGGGTTTGCAGCCTTTGCTTACACGGTCAAGTACGTGCTGAGGAGCATCGCGCAGGAGTGA\n",
      "lcl|NC_000001.11_cds_XP_011538918.1_94 [gene=UBE2J2] [db_xref=GeneID:118424] [protein=ubiquitin-conjugating enzyme E2 J2 isoform X4] [protein_id=XP_011538918.1] [location=complement(join(1255203..1255487,1256045..1256125,1256992..1257130,1257208..1257310,1262269..1262284))] [gbkey=CDS]\n",
      "ATGCCAGCAGGCCGTGGTGGCTATTATCATGGAAAACTAATTTTTCCCAGAGAATTTCCTTTCAAACCTCCCAGTATCTATATGATCACTCCCAACGGGAGGTTTAAGTGCAACACCAGGCTGTGTCTTTCTATCACGGATTTCCACCCGGACACGTGGAACCCGGCCTGGTCTGTCTCCACCATCCTGACTGGGCTCCTGAGCTTCATGGTGGAGAAGGGCCCCACCCTGGGCAGTATAGAGACGTCGGACTTCACGAAAAGACAACTGGCAGTGCAGAGTTTAGCATTTAATTTGAAAGATAAAGTCTTTTGTGAATTATTTCCTGAAGTCGTGGAGGAGATTAAACAAAAACAGAAAGCACAAGACGAACTCAGTAGCAGACCCCAGACTCTCCCCTTGCCAGACGTGGTTCCAGACGGGGAGACGCACCTCGTCCAGAACGGGATTCAGCTGCTCAACGGGCATGCGCCGGGGGCCGTCCCAAACCTCGCAGGGCTCCAGCAGGCCAACCGGCACCACGGACTCCTGGGTGGCGCCCTGGCGAACTTGTTTGTGATAGTTGGGTTTGCAGCCTTTGCTTACACGGTCAAGTACGTGCTGAGGAGCATCGCGCAGGAGTGA\n",
      "lcl|NC_000001.11_cds_XP_011538919.1_95 [gene=UBE2J2] [db_xref=GeneID:118424] [protein=ubiquitin-conjugating enzyme E2 J2 isoform X4] [protein_id=XP_011538919.1] [location=complement(join(1255203..1255487,1256045..1256125,1256992..1257130,1257208..1257310,1262269..1262284))] [gbkey=CDS]\n",
      "ATGCCAGCAGGCCGTGGTGGCTATTATCATGGAAAACTAATTTTTCCCAGAGAATTTCCTTTCAAACCTCCCAGTATCTATATGATCACTCCCAACGGGAGGTTTAAGTGCAACACCAGGCTGTGTCTTTCTATCACGGATTTCCACCCGGACACGTGGAACCCGGCCTGGTCTGTCTCCACCATCCTGACTGGGCTCCTGAGCTTCATGGTGGAGAAGGGCCCCACCCTGGGCAGTATAGAGACGTCGGACTTCACGAAAAGACAACTGGCAGTGCAGAGTTTAGCATTTAATTTGAAAGATAAAGTCTTTTGTGAATTATTTCCTGAAGTCGTGGAGGAGATTAAACAAAAACAGAAAGCACAAGACGAACTCAGTAGCAGACCCCAGACTCTCCCCTTGCCAGACGTGGTTCCAGACGGGGAGACGCACCTCGTCCAGAACGGGATTCAGCTGCTCAACGGGCATGCGCCGGGGGCCGTCCCAAACCTCGCAGGGCTCCAGCAGGCCAACCGGCACCACGGACTCCTGGGTGGCGCCCTGGCGAACTTGTTTGTGATAGTTGGGTTTGCAGCCTTTGCTTACACGGTCAAGTACGTGCTGAGGAGCATCGCGCAGGAGTGA\n",
      "lcl|NC_000001.11_cds_NP_001123885.2_96 [gene=SCNN1D] [db_xref=CCDS:CCDS44037.2,Ensembl:ENSP00000368411.5,GeneID:6339] [protein=amiloride-sensitive sodium channel subunit delta] [protein_id=NP_001123885.2] [location=join(1280662..1280666,1281226..1281297,1281411..1281610,1282242..1282315,1283978..1284090,1285571..1285664,1285926..1286278,1286768..1286975,1287109..1287299,1287508..1287596,1287673..1287836,1287939..1288037,1290271..1290388,1290477..1290555,1290637..1290694,1290895..1290953,1291065..1291140,1291254..1291610)] [gbkey=CDS]\n",
      "ATGAGGGCAGTGCTGTCACAGAAGACAACACCGCTCCCTCGTTACCTGTGGCCCGGCCACCTCAGCGGCCCAAGGAGGCTCACCTGGTCATGGTGCAGTGACCACAGGACCCCCACATGCCGGGAGCTGGGTTCGCCCCACCCCACCCCCTGCACCGGGCCAGCGAGGGGATGGCCCAGAAGAGGGGGAGGACCATGTGGATTCACCAGTGCTGGACATGTGCTCTGTGGCTACCCCCTCTGCCTACTCTCTGGCCCGATACAGGGGTGTGGGACAGGCCTGGGTGACTCCAGCATGGCTTTCCTCTCCAGGACGTCACCGGTGGCAGCTGCTTCCTTCCAGAGCCGGCAGGAGGCCAGAGGCTCCATCCTGCTTCAGAGCTGCCAGCTGCCCCCGCAATGGCTGAGCACCGAAGCATGGACGGGAGAATGGAAGCAGCCACACGGGGGGGCTCTCACCTCCAGATCGCCTGGGCCTGTGGCTCCCCAGAGGCCCTGCCACCTGAAGGGATGGCAGCACAGACCCACTCAGCACAACGCTGCCTGCAAACAGGGCCAGGCTGCAGCCCAGACGCCCCCCAGGCCGGGGCCACCATCAGCACCACCACCACCACCCAAGGAGGGGCACCAGGAGGGGCTGGTGGAGCTGCCCGCCTCGTTCCGGGAGCTGCTCACCTTCTTCTGCACCAATGCCACCATCCACGGCGCCATCCGCCTGGTCTGCTCCCGCGGGAACCGCCTCAAGACGACGTCCTGGGGGCTGCTGTCCCTGGGAGCCCTGGTCGCGCTCTGCTGGCAGCTGGGGCTCCTCTTTGAGCGTCACTGGCACCGCCCGGTCCTCATGGCCGTCTCTGTGCACTCGGAGCGCAAGCTGCTCCCGCTGGTCACCCTGTGTGACGGGAACCCACGTCGGCCGAGTCCGGTCCTCCGCCATCTGGAGCTGCTGGACGAGTTTGCCAGGGAGAACATTGACTCCCTGTACAACGTCAACCTCAGCAAAGGCAGAGCCGCCCTCTCCGCCACTGTCCCCCGCCACGAGCCCCCCTTCCACCTGGACCGGGAGATCCGTCTGCAGAGGCTGAGCCACTCGGGCAGCCGGGTCAGAGTGGGGTTCAGACTGTGCAACAGCACGGGCGGCGACTGCTTTTACCGAGGCTACACGTCAGGCGTGGCGGCTGTCCAGGACTGGTACCACTTCCACTATGTGGATATCCTGGCCCTGCTGCCCGCGGCATGGGAGGACAGCCACGGGAGCCAGGACGGCCACTTCGTCCTCTCCTGCAGTTACGATGGCCTGGACTGCCAGGCCCGACAGTTCCGGACCTTCCACCACCCCACCTACGGCAGCTGCTACACGGTCGATGGCGTCTGGACAGCTCAGCGCCCCGGCATCACCCACGGAGTCGGCCTGGTCCTCAGGGTTGAGCAGCAGCCTCACCTCCCTCTGCTGTCCACGCTGGCCGGCATCAGGGTCATGGTTCACGGCCGTAACCACACGCCCTTCCTGGGGCACCACAGCTTCAGCGTCCGGCCAGGGACGGAGGCCACCATCAGCATCCGAGAGGACGAGGTGCACCGGCTCGGGAGCCCCTACGGCCACTGCACCGCCGGCGGGGAAGGCGTGGAGGTGGAGCTGCTACACAACACCTCCTACACCAGGCAGGCCTGCCTGGTGTCCTGCTTCCAGCAGCTGATGGTGGAGACCTGCTCCTGTGGCTACTACCTCCACCCTCTGCCGGCGGGGGCTGAGTACTGCAGCTCTGCCCGGCACCCTGCCTGGGGACACTGCTTCTACCGCCTCTACCAGGACCTGGAGACCCACCGGCTCCCCTGTACCTCCCGCTGCCCCAGGCCCTGCAGGGAGTCTGCATTCAAGCTCTCCACTGGGACCTCCAGGTGGCCTTCCGCCAAGTCAGCTGGATGGACTCTGGCCACGCTAGGTGAACAGGGGCTGCCGCATCAGAGCCACAGACAGAGGAGCAGCCTGGCCAAAATCAACATCGTCTACCAGGAGCTCAACTACCGCTCAGTGGAGGAGGCGCCCGTGTACTCGGTGCCGCAGCTGCTCTCGGCCATGGGCAGCCTCTGCAGCCTGTGGTTTGGGGCCTCCGTCCTCTCCCTCCTGGAGCTCCTGGAGCTGCTGCTCGATGCTTCTGCCCTCACCCTGGTGCTAGGCGGCCGCCGGCTCCGCAGGGCGTGGTTCTCCTGGCCCAGAGCCAGCCCTGCCTCAGGGGCGTCCAGCATCAAGCCAGAGGCCAGTCAGATGCCCCCGCCTGCAGGCGGCACGTCAGATGACCCGGAGCCCAGCGGGCCTCATCTCCCACGGGTGATGCTTCCAGGGGTTCTGGCGGGAGTCTCAGCCGAAGAGAGCTGGGCTGGGCCCCAGCCCCTTGAGACTCTGGACACCTGA\n",
      "lcl|NC_000001.11_cds_XP_005244772.1_97 [gene=ACAP3] [db_xref=GeneID:116983] [protein=arf-GAP with coiled-coil, ANK repeat and PH domain-containing protein 3 isoform X6] [protein_id=XP_005244772.1] [location=complement(join(1293564..1293708,1293823..1293933,1294090..1294199,1294402..1294628,1295447..1295554,1295736..1295938,1296015..1296109,1296211..1296280,1296425..1296633,1297822..1297933,1298013..1298113,1298370..1298421,1298567..1298679,1299345..1299356,1299831..1299905,1299973..1300068,1300158..1300202,1300509..1300692,1301988..1302046,1302922..1302975,1303162..1303281,1304086..1304143,1307769..1307815))] [gbkey=CDS]\n",
      "ATGACCGTGGAGTTCGAGGAGTGCGTCAAGGACTCCCCGCGCTTCAGGGCGACCATTGACGAGGTGGAGACGGACGTGGTGGAGATTGAGGCCAAACTGGACAAGCTGGTGAAGCTGTGCAGTGGCATGGTGGAAGCCGGTAAGGCCTACGTCAGCACCAGCAGGCTTTTCGTGAGCGGCGTCCGCGACCTGTCCCAGCAGTGCCAGGGCGACACCGTCATCTCGGAATGTCTGCAGAGGTTCGCTGACAGCCTACAGGAGGTGGTGAACTACCACATGATCCTGTTTGACCAGGCCCAGAGGTCCGTGCGGCAGCAGCTCCAGAGCTTTGTCAAAGAGGATGTGCGGAAGTTCAAGGAGACAAAGAAGCAGTTTGACAAGGTGCGGGAGGACCTGGAGCTGTCCCTGGTGAGGAACGCCCAGGCCCCGAGGCACCGGCCCCACGAGGTGGAGGAAGCCACCGGGGCCCTCACCCTCACCAGGAAGTGCTTCCGCCACCTGGCACTGGACTATGTGCTCCAGATCAATGTTCTGCAGGCCAAGAAGAAGTTTGAGATCCTGGACTCTATGCTGTCCTTCATGCACGCCCAGTCCAGCTTCTTCCAGCAGGGCTACAGCCTCCTGCACCAGCTGGACCCCTACATGAAGAAGCTGGCAGCCGAGCTGGACCAGCTGGTGATCGACTCTGCGGTGGAAAAGCGTGAGATGGAGCGAAAGCACGCCGCCATCCAGCAGCGGACGCTGCTGCAGGACTTCTCCTACGATGAGTCCAAAGTGGAGTTTGACGTGGACGCGCCCAGTGGGGTGGTGATGGAGGGCTACCTCTTCAAGAGGGCCAGCAACGCTTTCAAGACATGGAACCGGCGCTGGTTCTCCATTCAGAACAGCCAGCTGGTCTACCAGAAGAAGCTCAAGGATGCCCTCACCGTGGTGGTGGATGACCTCCGCCTGTGCTCTGTGAAGCCGTGTGAGGACATCGAGCGGAGGTTCTGCTTCGAGGTGCTGTCACCCACCAAGAGCTGCATGCTGCAGGCTGACTCCGAGAAGCTGCGGCAAGCCTGGGTCCAGGCTGTGCAGGCCAGCATCGCCTCCGCCTACCGCGAGAGCCCTGACAGTTGCTATAGCGAGAGGCTGGACCGCACAGCATCCCCGTCCACGAGCAGCATCGACTCCGCCACCGACACTCGGGAGCGTGGCGTGAAGGGCGAGAGTGTGCTGCAGCGTGTGCAGAGTGTGGCCGGCAACAGCCAGTGCGGCGACTGCGGCCAGCCGGACCCCCGCTGGGCCAGCATCAACCTGGGCGTGCTGCTCTGCATTGAGTGCTCCGGCATCCACAGGAGCCTGGGTGTCCACTGCTCCAAGGTGCGGTCCCTGACGCTGGACTCGTGGGAGCCTGAGCTGCTAAAGCTGATGTGTGAGCTTGGAAACAGCGCTGTGAATCAGATCTATGAGGCCCAGTGTGAGGGTGCAGGCAGCAGGAAACCCACAGCCAGCAGCTCCCGGCAGGACAAGGAGGCCTGGATCAAGGACAAATACGTGGAAAAGAAGTTTCTGCGGAAGGCGCCCATGGCACCAGCCCTGGAGGCCCCAAGACGCTGGAGGGTGCAGAAGTGCCTGCGGCCCCACAGCTCTCCCCGCGCTCCCACTGCCCGCCGCAAGGTCCGGCTTGAGCCCGTTCTGCCCTGTGTGGCCGCTCTGTCCTCAGTGGGCACCCTGGATCGTAAGTTCCGCCGAGACTCCCTCTTCTGTCCCGACGAGCTGGACTCGCTCTTCTCCTACTTCGACGCAGGGGCCGCAGGGGCTGGCCCTCGCAAGGGTGCAGAGTCGGAGGAGTCCAGCGGTGAGGCAGACGGGGACACTGAGGCCGAGGCCTGGGGCCTGGCGGACGTGCGCGAGCTGCACCCGGGGCTCTTGGCGCACCGCGCAGCGCGTGCCCGCGACCTTCCTGCGCTGGCGGCGGCGCTGGCCCACGGGGCCGAGGTCAACTGGGCGGACGCGGAGGATGAGGGCAAGACGCCGCTGGTGCAGGCCGTGCTAGGGGGCTCCTTGATCGTCTGTGAGTTCCTGCTGCAAAACGGAGCGGACGTGAACCAAAGAGACAGCCGGGGCCGGGCGCCCCTGCACCACGCCACGCTGCTGGGCCGCACCGGCCAGGTTTGCCTGTTCCTGAAGCGGGGCGCGGACCAGCACGCCCTGGACCAAGAGCAGCGGGACCCGTTGGCCATCGCAGTGCAGGCGGCCAACGCTGACATCGTGACACTGCTCCGTCTGGCGCGCATGGCGGAGGAAATGCGCGAGGCCGAGGCTGCCCCTGGTCCCCCGGGCGCCCTGGCGGGCAGCCCCACGGAGCTCCAGTTCCGCAGGTGTATCCAGGAGTTCATCAGCCTCCACCTGGAAGAGAGCTAG\n",
      "lcl|NC_000001.11_cds_NP_085152.2_98 [gene=ACAP3] [db_xref=CCDS:CCDS19.2,Ensembl:ENSP00000346733.5,GeneID:116983] [protein=arf-GAP with coiled-coil, ANK repeat and PH domain-containing protein 3] [protein_id=NP_085152.2] [location=complement(join(1293564..1293708,1293823..1293933,1294090..1294199,1294402..1294628,1294718..1294816,1295447..1295554,1295736..1295938,1296015..1296109,1296211..1296280,1296425..1296633,1297822..1297933,1298013..1298113,1298370..1298421,1298567..1298679,1299345..1299356,1299831..1299905,1299973..1300068,1300158..1300202,1300509..1300692,1301988..1302046,1302922..1302975,1303162..1303281,1304086..1304143,1307769..1307815))] [gbkey=CDS]\n",
      "ATGACCGTGGAGTTCGAGGAGTGCGTCAAGGACTCCCCGCGCTTCAGGGCGACCATTGACGAGGTGGAGACGGACGTGGTGGAGATTGAGGCCAAACTGGACAAGCTGGTGAAGCTGTGCAGTGGCATGGTGGAAGCCGGTAAGGCCTACGTCAGCACCAGCAGGCTTTTCGTGAGCGGCGTCCGCGACCTGTCCCAGCAGTGCCAGGGCGACACCGTCATCTCGGAATGTCTGCAGAGGTTCGCTGACAGCCTACAGGAGGTGGTGAACTACCACATGATCCTGTTTGACCAGGCCCAGAGGTCCGTGCGGCAGCAGCTCCAGAGCTTTGTCAAAGAGGATGTGCGGAAGTTCAAGGAGACAAAGAAGCAGTTTGACAAGGTGCGGGAGGACCTGGAGCTGTCCCTGGTGAGGAACGCCCAGGCCCCGAGGCACCGGCCCCACGAGGTGGAGGAAGCCACCGGGGCCCTCACCCTCACCAGGAAGTGCTTCCGCCACCTGGCACTGGACTATGTGCTCCAGATCAATGTTCTGCAGGCCAAGAAGAAGTTTGAGATCCTGGACTCTATGCTGTCCTTCATGCACGCCCAGTCCAGCTTCTTCCAGCAGGGCTACAGCCTCCTGCACCAGCTGGACCCCTACATGAAGAAGCTGGCAGCCGAGCTGGACCAGCTGGTGATCGACTCTGCGGTGGAAAAGCGTGAGATGGAGCGAAAGCACGCCGCCATCCAGCAGCGGACGCTGCTGCAGGACTTCTCCTACGATGAGTCCAAAGTGGAGTTTGACGTGGACGCGCCCAGTGGGGTGGTGATGGAGGGCTACCTCTTCAAGAGGGCCAGCAACGCTTTCAAGACATGGAACCGGCGCTGGTTCTCCATTCAGAACAGCCAGCTGGTCTACCAGAAGAAGCTCAAGGATGCCCTCACCGTGGTGGTGGATGACCTCCGCCTGTGCTCTGTGAAGCCGTGTGAGGACATCGAGCGGAGGTTCTGCTTCGAGGTGCTGTCACCCACCAAGAGCTGCATGCTGCAGGCTGACTCCGAGAAGCTGCGGCAAGCCTGGGTCCAGGCTGTGCAGGCCAGCATCGCCTCCGCCTACCGCGAGAGCCCTGACAGTTGCTATAGCGAGAGGCTGGACCGCACAGCATCCCCGTCCACGAGCAGCATCGACTCCGCCACCGACACTCGGGAGCGTGGCGTGAAGGGCGAGAGTGTGCTGCAGCGTGTGCAGAGTGTGGCCGGCAACAGCCAGTGCGGCGACTGCGGCCAGCCGGACCCCCGCTGGGCCAGCATCAACCTGGGCGTGCTGCTCTGCATTGAGTGCTCCGGCATCCACAGGAGCCTGGGTGTCCACTGCTCCAAGGTGCGGTCCCTGACGCTGGACTCGTGGGAGCCTGAGCTGCTAAAGCTGATGTGTGAGCTTGGAAACAGCGCTGTGAATCAGATCTATGAGGCCCAGTGTGAGGGTGCAGGCAGCAGGAAACCCACAGCCAGCAGCTCCCGGCAGGACAAGGAGGCCTGGATCAAGGACAAATACGTGGAAAAGAAGTTTCTGCGGAAGGCGCCCATGGCACCAGCCCTGGAGGCCCCAAGACGCTGGAGGGTGCAGAAGTGCCTGCGGCCCCACAGCTCTCCCCGCGCTCCCACTGCCCGCCGCAAGGTCCGGCTTGAGCCCGTTCTGCCCTGTGTGGCCGCTCTGTCCTCAGTGGGCACCCTGGATCGTAAGTTCCGCCGAGACTCCCTCTTCTGTCCCGACGAGCTGGACTCGCTCTTCTCCTACTTCGACGCAGGGGCCGCAGGGGCTGGCCCTCGCAGTCTGAGTAGCGACAGTGGCCTTGGGGGCAGCTCGGATGGCAGCTCGGACGTCCTGGCTTTCGGCTCGGGCTCTGTGGTGGACAGCGTCACTGAGGAGGAGGGTGCAGAGTCGGAGGAGTCCAGCGGTGAGGCAGACGGGGACACTGAGGCCGAGGCCTGGGGCCTGGCGGACGTGCGCGAGCTGCACCCGGGGCTCTTGGCGCACCGCGCAGCGCGTGCCCGCGACCTTCCTGCGCTGGCGGCGGCGCTGGCCCACGGGGCCGAGGTCAACTGGGCGGACGCGGAGGATGAGGGCAAGACGCCGCTGGTGCAGGCCGTGCTAGGGGGCTCCTTGATCGTCTGTGAGTTCCTGCTGCAAAACGGAGCGGACGTGAACCAAAGAGACAGCCGGGGCCGGGCGCCCCTGCACCACGCCACGCTGCTGGGCCGCACCGGCCAGGTTTGCCTGTTCCTGAAGCGGGGCGCGGACCAGCACGCCCTGGACCAAGAGCAGCGGGACCCGTTGGCCATCGCAGTGCAGGCGGCCAACGCTGACATCGTGACACTGCTCCGTCTGGCGCGCATGGCGGAGGAAATGCGCGAGGCCGAGGCTGCCCCTGGTCCCCCGGGCGCCCTGGCGGGCAGCCCCACGGAGCTCCAGTTCCGCAGGTGTATCCAGGAGTTCATCAGCCTCCACCTGGAAGAGAGCTAG\n",
      "lcl|NC_000001.11_cds_XP_011538910.1_99 [gene=ACAP3] [db_xref=GeneID:116983] [protein=arf-GAP with coiled-coil, ANK repeat and PH domain-containing protein 3 isoform X4] [protein_id=XP_011538910.1] [location=complement(join(1293564..1293708,1293823..1293933,1294090..1294199,1294402..1294628,1294718..1294816,1295447..1295554,1295736..1295938,1296015..1296109,1296211..1296280,1296425..1296633,1297822..1297933,1298013..1298113,1298370..1298421,1298567..1298679,1299345..1299356,1299831..1299905,1300158..1300202,1300509..1300692,1301988..1302046,1302922..1302975,1303132..1303281,1304086..1304143,1307769..1307815))] [gbkey=CDS]\n",
      "ATGACCGTGGAGTTCGAGGAGTGCGTCAAGGACTCCCCGCGCTTCAGGGCGACCATTGACGAGGTGGAGACGGACGTGGTGGAGATTGAGGCCAAACTGGACAAGCTGGTGAAGCTGTGCAGTGGCATGGTGGAAGCCGGTAAGGCCTACGTCAGCACCAGCAGGCTTTTCGTGAGCGGCGTCCGCGACCTGTCCCAGCAGTGCCAGGGCGACACCGTCATCTCGGTGAGGGGCCGACTGACCTCTGACCTCAAGGAATGTCTGCAGAGGTTCGCTGACAGCCTACAGGAGGTGGTGAACTACCACATGATCCTGTTTGACCAGGCCCAGAGGTCCGTGCGGCAGCAGCTCCAGAGCTTTGTCAAAGAGGATGTGCGGAAGTTCAAGGAGACAAAGAAGCAGTTTGACAAGGTGCGGGAGGACCTGGAGCTGTCCCTGGTGAGGAACGCCCAGGCCCCGAGGCACCGGCCCCACGAGGTGGAGGAAGCCACCGGGGCCCTCACCCTCACCAGGAAGTGCTTCCGCCACCTGGCACTGGACTATGTGCTCCAGATCAATGTTCTGCAGGCCAAGAAGAAGTTTGAGATCCTGGACTCTCTGGACCAGCTGGTGATCGACTCTGCGGTGGAAAAGCGTGAGATGGAGCGAAAGCACGCCGCCATCCAGCAGCGGACGCTGCTGCAGGACTTCTCCTACGATGAGTCCAAAGTGGAGTTTGACGTGGACGCGCCCAGTGGGGTGGTGATGGAGGGCTACCTCTTCAAGAGGGCCAGCAACGCTTTCAAGACATGGAACCGGCGCTGGTTCTCCATTCAGAACAGCCAGCTGGTCTACCAGAAGAAGCTCAAGGATGCCCTCACCGTGGTGGTGGATGACCTCCGCCTGTGCTCTGTGAAGCCGTGTGAGGACATCGAGCGGAGGTTCTGCTTCGAGGTGCTGTCACCCACCAAGAGCTGCATGCTGCAGGCTGACTCCGAGAAGCTGCGGCAAGCCTGGGTCCAGGCTGTGCAGGCCAGCATCGCCTCCGCCTACCGCGAGAGCCCTGACAGTTGCTATAGCGAGAGGCTGGACCGCACAGCATCCCCGTCCACGAGCAGCATCGACTCCGCCACCGACACTCGGGAGCGTGGCGTGAAGGGCGAGAGTGTGCTGCAGCGTGTGCAGAGTGTGGCCGGCAACAGCCAGTGCGGCGACTGCGGCCAGCCGGACCCCCGCTGGGCCAGCATCAACCTGGGCGTGCTGCTCTGCATTGAGTGCTCCGGCATCCACAGGAGCCTGGGTGTCCACTGCTCCAAGGTGCGGTCCCTGACGCTGGACTCGTGGGAGCCTGAGCTGCTAAAGCTGATGTGTGAGCTTGGAAACAGCGCTGTGAATCAGATCTATGAGGCCCAGTGTGAGGGTGCAGGCAGCAGGAAACCCACAGCCAGCAGCTCCCGGCAGGACAAGGAGGCCTGGATCAAGGACAAATACGTGGAAAAGAAGTTTCTGCGGAAGGCGCCCATGGCACCAGCCCTGGAGGCCCCAAGACGCTGGAGGGTGCAGAAGTGCCTGCGGCCCCACAGCTCTCCCCGCGCTCCCACTGCCCGCCGCAAGGTCCGGCTTGAGCCCGTTCTGCCCTGTGTGGCCGCTCTGTCCTCAGTGGGCACCCTGGATCGTAAGTTCCGCCGAGACTCCCTCTTCTGTCCCGACGAGCTGGACTCGCTCTTCTCCTACTTCGACGCAGGGGCCGCAGGGGCTGGCCCTCGCAGTCTGAGTAGCGACAGTGGCCTTGGGGGCAGCTCGGATGGCAGCTCGGACGTCCTGGCTTTCGGCTCGGGCTCTGTGGTGGACAGCGTCACTGAGGAGGAGGGTGCAGAGTCGGAGGAGTCCAGCGGTGAGGCAGACGGGGACACTGAGGCCGAGGCCTGGGGCCTGGCGGACGTGCGCGAGCTGCACCCGGGGCTCTTGGCGCACCGCGCAGCGCGTGCCCGCGACCTTCCTGCGCTGGCGGCGGCGCTGGCCCACGGGGCCGAGGTCAACTGGGCGGACGCGGAGGATGAGGGCAAGACGCCGCTGGTGCAGGCCGTGCTAGGGGGCTCCTTGATCGTCTGTGAGTTCCTGCTGCAAAACGGAGCGGACGTGAACCAAAGAGACAGCCGGGGCCGGGCGCCCCTGCACCACGCCACGCTGCTGGGCCGCACCGGCCAGGTTTGCCTGTTCCTGAAGCGGGGCGCGGACCAGCACGCCCTGGACCAAGAGCAGCGGGACCCGTTGGCCATCGCAGTGCAGGCGGCCAACGCTGACATCGTGACACTGCTCCGTCTGGCGCGCATGGCGGAGGAAATGCGCGAGGCCGAGGCTGCCCCTGGTCCCCCGGGCGCCCTGGCGGGCAGCCCCACGGAGCTCCAGTTCCGCAGGTGTATCCAGGAGTTCATCAGCCTCCACCTGGAAGAGAGCTAG\n",
      "lcl|NC_000001.11_cds_XP_011538911.1_100 [gene=ACAP3] [db_xref=GeneID:116983] [protein=arf-GAP with coiled-coil, ANK repeat and PH domain-containing protein 3 isoform X5] [protein_id=XP_011538911.1] [location=complement(join(1293564..1293708,1293823..1293933,1294090..1294199,1294402..1294628,1295447..1295554,1295736..1295938,1296015..1296109,1296211..1296280,1296425..1296633,1297822..1297933,1298013..1298113,1298370..1298421,1298567..1298679,1299345..1299356,1299831..1299905,1299973..1300068,1300158..1300202,1300509..1300692,1301988..1302046,1302922..1302975,1303132..1303281,1304086..1304143,1307769..1307815))] [gbkey=CDS]\n",
      "ATGACCGTGGAGTTCGAGGAGTGCGTCAAGGACTCCCCGCGCTTCAGGGCGACCATTGACGAGGTGGAGACGGACGTGGTGGAGATTGAGGCCAAACTGGACAAGCTGGTGAAGCTGTGCAGTGGCATGGTGGAAGCCGGTAAGGCCTACGTCAGCACCAGCAGGCTTTTCGTGAGCGGCGTCCGCGACCTGTCCCAGCAGTGCCAGGGCGACACCGTCATCTCGGTGAGGGGCCGACTGACCTCTGACCTCAAGGAATGTCTGCAGAGGTTCGCTGACAGCCTACAGGAGGTGGTGAACTACCACATGATCCTGTTTGACCAGGCCCAGAGGTCCGTGCGGCAGCAGCTCCAGAGCTTTGTCAAAGAGGATGTGCGGAAGTTCAAGGAGACAAAGAAGCAGTTTGACAAGGTGCGGGAGGACCTGGAGCTGTCCCTGGTGAGGAACGCCCAGGCCCCGAGGCACCGGCCCCACGAGGTGGAGGAAGCCACCGGGGCCCTCACCCTCACCAGGAAGTGCTTCCGCCACCTGGCACTGGACTATGTGCTCCAGATCAATGTTCTGCAGGCCAAGAAGAAGTTTGAGATCCTGGACTCTATGCTGTCCTTCATGCACGCCCAGTCCAGCTTCTTCCAGCAGGGCTACAGCCTCCTGCACCAGCTGGACCCCTACATGAAGAAGCTGGCAGCCGAGCTGGACCAGCTGGTGATCGACTCTGCGGTGGAAAAGCGTGAGATGGAGCGAAAGCACGCCGCCATCCAGCAGCGGACGCTGCTGCAGGACTTCTCCTACGATGAGTCCAAAGTGGAGTTTGACGTGGACGCGCCCAGTGGGGTGGTGATGGAGGGCTACCTCTTCAAGAGGGCCAGCAACGCTTTCAAGACATGGAACCGGCGCTGGTTCTCCATTCAGAACAGCCAGCTGGTCTACCAGAAGAAGCTCAAGGATGCCCTCACCGTGGTGGTGGATGACCTCCGCCTGTGCTCTGTGAAGCCGTGTGAGGACATCGAGCGGAGGTTCTGCTTCGAGGTGCTGTCACCCACCAAGAGCTGCATGCTGCAGGCTGACTCCGAGAAGCTGCGGCAAGCCTGGGTCCAGGCTGTGCAGGCCAGCATCGCCTCCGCCTACCGCGAGAGCCCTGACAGTTGCTATAGCGAGAGGCTGGACCGCACAGCATCCCCGTCCACGAGCAGCATCGACTCCGCCACCGACACTCGGGAGCGTGGCGTGAAGGGCGAGAGTGTGCTGCAGCGTGTGCAGAGTGTGGCCGGCAACAGCCAGTGCGGCGACTGCGGCCAGCCGGACCCCCGCTGGGCCAGCATCAACCTGGGCGTGCTGCTCTGCATTGAGTGCTCCGGCATCCACAGGAGCCTGGGTGTCCACTGCTCCAAGGTGCGGTCCCTGACGCTGGACTCGTGGGAGCCTGAGCTGCTAAAGCTGATGTGTGAGCTTGGAAACAGCGCTGTGAATCAGATCTATGAGGCCCAGTGTGAGGGTGCAGGCAGCAGGAAACCCACAGCCAGCAGCTCCCGGCAGGACAAGGAGGCCTGGATCAAGGACAAATACGTGGAAAAGAAGTTTCTGCGGAAGGCGCCCATGGCACCAGCCCTGGAGGCCCCAAGACGCTGGAGGGTGCAGAAGTGCCTGCGGCCCCACAGCTCTCCCCGCGCTCCCACTGCCCGCCGCAAGGTCCGGCTTGAGCCCGTTCTGCCCTGTGTGGCCGCTCTGTCCTCAGTGGGCACCCTGGATCGTAAGTTCCGCCGAGACTCCCTCTTCTGTCCCGACGAGCTGGACTCGCTCTTCTCCTACTTCGACGCAGGGGCCGCAGGGGCTGGCCCTCGCAAGGGTGCAGAGTCGGAGGAGTCCAGCGGTGAGGCAGACGGGGACACTGAGGCCGAGGCCTGGGGCCTGGCGGACGTGCGCGAGCTGCACCCGGGGCTCTTGGCGCACCGCGCAGCGCGTGCCCGCGACCTTCCTGCGCTGGCGGCGGCGCTGGCCCACGGGGCCGAGGTCAACTGGGCGGACGCGGAGGATGAGGGCAAGACGCCGCTGGTGCAGGCCGTGCTAGGGGGCTCCTTGATCGTCTGTGAGTTCCTGCTGCAAAACGGAGCGGACGTGAACCAAAGAGACAGCCGGGGCCGGGCGCCCCTGCACCACGCCACGCTGCTGGGCCGCACCGGCCAGGTTTGCCTGTTCCTGAAGCGGGGCGCGGACCAGCACGCCCTGGACCAAGAGCAGCGGGACCCGTTGGCCATCGCAGTGCAGGCGGCCAACGCTGACATCGTGACACTGCTCCGTCTGGCGCGCATGGCGGAGGAAATGCGCGAGGCCGAGGCTGCCCCTGGTCCCCCGGGCGCCCTGGCGGGCAGCCCCACGGAGCTCCAGTTCCGCAGGTGTATCCAGGAGTTCATCAGCCTCCACCTGGAAGAGAGCTAG\n"
     ]
    }
   ],
   "source": [
    "printed_gene_ids = 0\n",
    "n_gene_ids_to_print = 100\n",
    "\n",
    "for gene_id, sequence in parsed_seqs.items():\n",
    "    \n",
    "    print(gene_id)\n",
    "    print(sequence)\n",
    "    printed_gene_ids +=1\n",
    "    if printed_gene_ids >= n_gene_ids_to_print:\n",
    "        break\n",
    "    \n",
    "    "
   ]
  },
  {
   "cell_type": "markdown",
   "metadata": {},
   "source": [
    "#### Calculating observed and expected CG dinucleotide frequencies for all the genes in a genome\n",
    "\n",
    "Now we want to run our code that we developed earlier in this notebook to calculate observed and expected frequencies of CG dinucleotides on a real genome. We'll need to keep track of which genes had which observed and expected CG contents. A natural way to do that is to have two more dictionaries, each keyed by gene id. So from our current dictionary that maps each gene id to one sequence, we will basically be building additional dictionaries that map each gene id to it's expected number of CG dinucleotides and its actual number of CG dinucleotides."
   ]
  },
  {
   "cell_type": "code",
   "execution_count": 23,
   "metadata": {},
   "outputs": [
    {
     "name": "stdout",
     "output_type": "stream",
     "text": [
      "Parsing genome at path: ./GCF_000001405.39_GRCh38.p13_cds_from_genomic.fna\n",
      "Done parsing genome\n",
      "Calculating CG dinucleotide frequency...\n",
      "Done calculating CG dinucleotide frequency for 124038 ...\n"
     ]
    }
   ],
   "source": [
    "#Normally this would be determined\n",
    "#by user input from argparse.\n",
    "#It's 'hard-coded' for now.\n",
    "#Replace with a path\n",
    "#to a genome file on your computer\n",
    "input_file = human_genome_filepath\n",
    "\n",
    "print(f\"Parsing genome at path: {input_file}\")\n",
    "f = open(input_file)\n",
    "parsed_seqs = parse_fasta_file(input_file)\n",
    "print(\"Done parsing genome\")\n",
    "\n",
    "#Set up dicts to hold our\n",
    "#expected and observed results.\n",
    "\n",
    "expected_cg_freqs = {}\n",
    "observed_cg_freqs = {}\n",
    "\n",
    "#NOTE: Let's use the plural \"freqs\" for the \n",
    "#dict of all the frequencies (as shown above),\n",
    "#and the singular \"freq\" when referring to the\n",
    "#frequency of CGs in a single sequence\n",
    "\n",
    "\n",
    "print(\"Calculating CG dinucleotide frequency...\")\n",
    "#Loop over all the genes in a genome\n",
    "for gene_id, sequence in parsed_seqs.items():\n",
    "    \n",
    "    #Run our functions to calculate the frequency\n",
    "    #of observed and expected CGs for this specific sequence\n",
    "    observed_cg_freq = calculate_cg_content(sequence)\n",
    "    expected_cg_freq = calculate_expected_cg_content(sequence)\n",
    "    \n",
    "    #Save the results in dictionaries for later use\n",
    "    expected_cg_freqs[gene_id] = expected_cg_freq\n",
    "    observed_cg_freqs[gene_id] = observed_cg_freq\n",
    "\n",
    "total_genes = len(observed_cg_freqs)\n",
    "print(f\"Done calculating CG dinucleotide frequency for {total_genes} ...\")"
   ]
  },
  {
   "cell_type": "markdown",
   "metadata": {},
   "source": [
    "#### Testing our hypothesis with the data\n",
    "\n",
    "Good hypotheses make good predictions. If our hypothesis makes predictions that are very different from what we observe in biology, it's likely that our hypothesis is wrong. We can informally test how well our prediction works by plotting the predicited outcomes under our hypothesis (i.e. the `expected_cg_freq` for each gene) against our actual observations (the `observed_cg_freq` for each gene). If the two match well, this should roughly form a  straight line, with higher predictions corresponding to higher observations.\n",
    "\n",
    "To do this, we need to iterate over one of our dicts — let's say the dict of expected CG frequencies — and compare it against the other. Critically, both dicts are keyed by exactly the same set of gene ids, so we can safely look up any gene id in the expected dict in the observed dict as well."
   ]
  },
  {
   "cell_type": "code",
   "execution_count": 24,
   "metadata": {},
   "outputs": [],
   "source": [
    "expected_values = [] #Let's build a list of expected CG dinucleotide frequency values\n",
    "observed_values = [] #...and a list of expected CG dinucleotide frequency values in the same order\n",
    "\n",
    "#Critically both sets of values must be in the same order,\n",
    "#We can use a for loop to look up the observed value that \n",
    "#corresponds with each expected value, using the gene id\n",
    "#to connect our two dicts of results, like this:\n",
    "\n",
    "for gene_id, expected_cg_freq in expected_cg_freqs.items():\n",
    "    \n",
    "    #look up the observed value in the other dictionary\n",
    "    observed_cg_freq = observed_cg_freqs[gene_id]    \n",
    "    expected_values.append(expected_cg_freq)\n",
    "    observed_values.append(observed_cg_freq)\n",
    "    "
   ]
  },
  {
   "cell_type": "markdown",
   "metadata": {},
   "source": [
    "#### Check our results\n",
    "\n",
    "Before we go on to plot our results, let's examine the observed and expected values. This kind of checking is very important to catch mistakes before proceding. For example, the first time I wrote this code, I assumed that the sequences I would be sending to the functions for calculating CG frequencies were in uppercase. But the actual genome I used was lowercase. Since the count of \"G\" in a sequence \"ggggg\" is 0 (python distinguishes upper and lowercase letters), this resulted in observed and expected values of 0.0 for all genes! Checking your data for reasonableness as each step, and testing using hand-calculated examples where you are 100% certain of the right answer both really help ensure your code is giving you the results you expect. \n",
    "\n",
    "For now, let's print some example results and look at them:"
   ]
  },
  {
   "cell_type": "code",
   "execution_count": 25,
   "metadata": {},
   "outputs": [
    {
     "name": "stdout",
     "output_type": "stream",
     "text": [
      "Example observed CG dinucleotide frequencies: [0.013251783893985729, 0.034858387799564274, 0.027944111776447105, 0.008519701810436636, 0.07634265423879272, 0.008519701810436636, 0.008519701810436636, 0.008519701810436636, 0.008519701810436636, 0.008519701810436636]\n",
      "Example expected CG dinucleotide frequencies: [0.04501429297321899, 0.07415951129907301, 0.07527460049959961, 0.05214801507506343, 0.11715976074904517, 0.05214801507506343, 0.05214801507506343, 0.05214801507506343, 0.05214801507506343, 0.05214801507506343]\n"
     ]
    }
   ],
   "source": [
    "n_examples = 10\n",
    "example_expected_values = expected_values[0:n_examples]\n",
    "example_observed_values = observed_values[0:n_examples]\n",
    "print(f\"Example observed CG dinucleotide frequencies: {example_observed_values}\")\n",
    "print(f\"Example expected CG dinucleotide frequencies: {example_expected_values}\")"
   ]
  },
  {
   "cell_type": "markdown",
   "metadata": {},
   "source": [
    "To me, these results look fairly reasonable. I can see some differences between our observations and expectations, but all the numbers themselves seem basically reasonable. Now let's build a graph to really see how our observations line up with the predictions of our hypothesis."
   ]
  },
  {
   "cell_type": "markdown",
   "metadata": {},
   "source": [
    "## Building a simple scatter plot in matplotlib"
   ]
  },
  {
   "cell_type": "markdown",
   "metadata": {},
   "source": [
    "Matplotlib is an older python library for generating graphs. We'll talk much more about different systems for data visualization and communication in the chapter on Data Visualization. For now, it's worth knowing how to make a simple scatterplot when you need one. \n",
    "\n",
    "We'll base our example on a [scatterplot tutorial](https://matplotlib.org/stable/gallery/shapes_and_collections/scatter.html) from the [matplotlib gallery](https://matplotlib.org/2.0.2/gallery.html). This gallery shows many example plots, and let's you click on each to get the code that produced it. You can explore some for yourself - just be aware that typically a lot of the code actually isn't graphing code at all - it's code to generate the data that they will plot. So usually the code you want to plot your data is much shorter and simpler than it may at first appear.\n",
    "\n",
    "[matplotlib](https://matplotlib.org/) is an example of a python library that comes with the Anaconda python distribution, but not basic python. The good news is *you don't have to install anything extra* if you already installed Anaconda python. We do however need to tell python we want to load up or 'import' the pyplot module from the matplotlib package. We can do that using the `import` keyword, as shown in the code below:"
   ]
  },
  {
   "cell_type": "code",
   "execution_count": 26,
   "metadata": {},
   "outputs": [],
   "source": [
    "import matplotlib.pyplot "
   ]
  },
  {
   "cell_type": "markdown",
   "metadata": {},
   "source": [
    "#### Learning what's in a module the hard way\n",
    "\n",
    "We can figure out everything in matplotlib.pyplot by calling dir() on the module:"
   ]
  },
  {
   "cell_type": "code",
   "execution_count": 27,
   "metadata": {},
   "outputs": [
    {
     "ename": "NameError",
     "evalue": "name 'plt' is not defined",
     "output_type": "error",
     "traceback": [
      "\u001b[0;31m---------------------------------------------------------------------------\u001b[0m",
      "\u001b[0;31mNameError\u001b[0m                                 Traceback (most recent call last)",
      "\u001b[0;32m<ipython-input-27-6bc0f4d8fbcc>\u001b[0m in \u001b[0;36m<module>\u001b[0;34m\u001b[0m\n\u001b[0;32m----> 1\u001b[0;31m \u001b[0mdir\u001b[0m\u001b[0;34m(\u001b[0m\u001b[0mplt\u001b[0m\u001b[0;34m)\u001b[0m\u001b[0;34m\u001b[0m\u001b[0;34m\u001b[0m\u001b[0m\n\u001b[0m",
      "\u001b[0;31mNameError\u001b[0m: name 'plt' is not defined"
     ]
    }
   ],
   "source": [
    "dir(plt)"
   ]
  },
  {
   "cell_type": "markdown",
   "metadata": {},
   "source": [
    "That's a lot of stuff! Scrolling through the list, I notice a `scatter` function. To learn more about it, we could call `help()` on that function. When we refer to it, we would have to first say the name of the module, then put a period, and then call the function or class we wanted:"
   ]
  },
  {
   "cell_type": "code",
   "execution_count": null,
   "metadata": {},
   "outputs": [],
   "source": [
    "help(matplotlib.pyplot.scatter)"
   ]
  },
  {
   "cell_type": "markdown",
   "metadata": {},
   "source": [
    "Typically, the built-in help is less useful than Googling tutorials of e.g. how to make a scatterplot with matplotlib. Googling tutorials or looking at the gallery is also typically a better way to find what you're looking for than listing everything with `dir`. It can, however, be useful to call `help` to look up specific details, or discover new capabilities to research using `dir` (for example, I'm now wondering what `prism` does? Sounds cool!)\n",
    "\n",
    "#### Importing Modules under an Alias\n",
    "\n",
    "In practice, it can be very annoying to type out `matplotlib.pyplot.whatever()` every time you want to refer to a function from matplotlib. Therefore, folks typically import the module using an **alias** or alternative name. This lets you set a short name or nickname you will use to refer to the module by. `matplotlib` is so heavily used in python that it has a conventional alias. By convention, `matplotlib.pyplot` is typically imported under the alias `plt`. You can do this as follows:"
   ]
  },
  {
   "cell_type": "code",
   "execution_count": null,
   "metadata": {},
   "outputs": [],
   "source": [
    "import matplotlib.pyplot as plt"
   ]
  },
  {
   "cell_type": "markdown",
   "metadata": {},
   "source": [
    "#### Building a simple scatter plot with our data\n",
    "\n",
    "Once we have `matplotlib` imported under the alias `plt`, it takes only a couple of lines of code to make and show a scatterplot: a call to the `scatter` function to build our plot, and a call to the `show` function to show it.\n",
    "\n",
    "Finally, to get matplotlib images to show up properly in Jupyter Notebooks, we have to include a special line that directs IPython (on which Jupyter Notebooks are built) to show matplotlib images 'in line'. \n",
    "\n",
    "Altogether this is only 3 lines of code!\n",
    "\n"
   ]
  },
  {
   "cell_type": "code",
   "execution_count": null,
   "metadata": {},
   "outputs": [],
   "source": [
    "import matplotlib.pyplot as plt\n",
    "#The next line is not needed if running outside of Jupyter Notebooks\n",
    "%matplotlib inline \n",
    "plt.scatter(expected_values,observed_values)\n",
    "plt.show()"
   ]
  },
  {
   "cell_type": "markdown",
   "metadata": {},
   "source": [
    " We now have a functional if not especially pretty graph of the frequency of CG dinucleotides across an entire genome. Not bad!\n",
    " \n",
    " The next few sections will discuss some common tweaks you can do to make your scatterplots and other matplotlib plots a little bit prettier. Feel free to skip them if you like.\n",
    "\n",
    "#### Modifying the color and transparency of our scatter plot\n",
    "\n",
    "We can adjust the color of points with the `color` parameter. We can either pass in a specific color, a list of colors for each point, or use one of matplotlib's prebuilt named colors. You can find a list of all the pre-built named colors that come with matplotlib [here](https://matplotlib.org/stable/gallery/color/named_colors.html).\n",
    "\n",
    "We might also notice that our points are all on top of each other, so it's hard to tell how many there are in the middle of the graph. We can partially address this using the `alpha` parameter, which sets the transparency of your points:"
   ]
  },
  {
   "cell_type": "code",
   "execution_count": null,
   "metadata": {},
   "outputs": [],
   "source": [
    "import matplotlib.pyplot as plt\n",
    "#This line is not needed if running outside of Jupyter Notebooks\n",
    "%matplotlib inline \n",
    "\n",
    "#Build the plot\n",
    "plt.scatter(expected_values,observed_values,color='purple',alpha = 0.10)\n",
    "#Show the plot\n",
    "plt.show()"
   ]
  },
  {
   "cell_type": "markdown",
   "metadata": {},
   "source": [
    "#### Adding x and y labels\n",
    "\n",
    "We can add x and y labels with the `xlabel` and `ylabel` functions in `matplotlib.pyplot`:"
   ]
  },
  {
   "cell_type": "code",
   "execution_count": null,
   "metadata": {
    "scrolled": true
   },
   "outputs": [],
   "source": [
    "#Build the plot\n",
    "plt.scatter(expected_values,observed_values,color='purple',alpha = 0.05)\n",
    "\n",
    "#Add x and y labels\n",
    "plt.xlabel(\"Expected f(CG)\")\n",
    "plt.ylabel(\"Obseved f(CG)\")\n",
    "\n",
    "#Show the plot\n",
    "plt.show()"
   ]
  },
  {
   "cell_type": "markdown",
   "metadata": {},
   "source": [
    "#### Adding a reference line\n",
    "\n",
    "It's sort of hard to see whether the observed points are above or below our predictions. Let's add a reference line to our plot that reflects what we would see if our observations perfectly matched our predictions. This is equivalent to plotting a line where the y-value for each point is the same as it's x-value. We can accomplish that with the matplotlib.pyplot `plot` function. You can find additional documentation about this function [here](https://matplotlib.org/stable/api/_as_gen/matplotlib.pyplot.plot.html)"
   ]
  },
  {
   "cell_type": "code",
   "execution_count": null,
   "metadata": {},
   "outputs": [],
   "source": [
    "#Build the scatter plot\n",
    "plt.scatter(xs,ys,color='purple',alpha = 0.05)\n",
    "\n",
    "#Plot the line representing expected values\n",
    "#NOTE: I did not in any way remember all these parameters, \n",
    "#I have to look it up almost every time in the reference:\n",
    "#https://matplotlib.org/stable/api/_as_gen/matplotlib.pyplot.plot.html\n",
    "plt.plot(xs, xs, color = 'red',linestyle='solid',linewidth=5.0)\n",
    "\n",
    "#Add x and y labels\n",
    "plt.xlabel(\"Expected f(CG)\")\n",
    "plt.ylabel(\"Obseved f(CG)\")\n",
    "\n",
    "#For convenience save x and y values in xs and ys\n",
    "xs = expected_values\n",
    "ys = observed_values\n",
    "\n",
    "\n",
    "#Show the plot\n",
    "plt.show()"
   ]
  },
  {
   "cell_type": "markdown",
   "metadata": {},
   "source": [
    "#### Adding colors to represent error\n",
    "\n",
    "It might be nice if the colors of our points reflected error (typically represented as the squared difference from the red expectation line). `matplotlib` will accept a list of colors, and can translate numbers into colors using a color map of `cmap`. We just have to set up numbers that represent the amount of error in our prediction of CG content for each gene, pick a cmap (a list of cmap names can be found [here](https://matplotlib.org/stable/tutorials/colors/colormaps.html)), and then pass our list of colors (as numbers) and our chosen color map name (as a string) into scatter. Here's how we might do this: "
   ]
  },
  {
   "cell_type": "code",
   "execution_count": null,
   "metadata": {},
   "outputs": [],
   "source": [
    "#Matplotlib can translate floating point numbers into colors\n",
    "#Therefore we can use this to color based on the squared difference\n",
    "#between our expected (x) and observed(y) values\n",
    "\n",
    "#Behind the scenes matplotlib uses a colormap or cmap to do this\n",
    "#so we can also adjust how our numbers --> colors by giving a \n",
    "#new cmap name. A list of cmaps can be found here:\n",
    "#https://matplotlib.org/stable/tutorials/colors/colormaps.html\n",
    "\n",
    "colors = [((x - y)**2) for x,y in zip(xs,ys)]\n",
    "\n",
    "#Build the scatter plot\n",
    "plt.scatter(xs,ys,c=colors,cmap = 'plasma',alpha = 0.05)\n",
    "\n",
    "#Plot the line representing expected values\n",
    "#NOTE: I did not in any way remember all these parameters, \n",
    "#I have to look it up almost every time in the reference:\n",
    "#https://matplotlib.org/stable/api/_as_gen/matplotlib.pyplot.plot.html\n",
    "plt.plot(xs, xs, color = 'red',linestyle='solid',linewidth=5.0)\n",
    "\n",
    "#Add x and y labels\n",
    "plt.xlabel(\"Expected f(CG)\")\n",
    "plt.ylabel(\"Obseved f(CG)\")\n",
    "\n",
    "#For convenience save x and y values in xs and ys\n",
    "xs = expected_values\n",
    "ys = observed_values\n",
    "\n",
    "\n",
    "#Show the plot\n",
    "plt.show()"
   ]
  },
  {
   "cell_type": "markdown",
   "metadata": {},
   "source": [
    "#### Additional styling\n",
    "\n",
    "This [guide](https://www.ajnisbet.com/blog/tufte-in-matplotlib) has some examples of how to style matplotlib plots following the style recommendations in Edward Tufte's 'The Visual Display of Quantitative Information'. We can adapt some of these tricks to our scatter plot. Many are minor — like turning off unnecessary tick marks on axes and making font sizes a bit bigger than the default — but together they do in my opinion make the figure look a bit better. I'd note that for this level of detail, unless you make figures in matplotlib almost daily, you will likely have to remind yourself how to adjust certain aspects of your figure. That's OK and very normal.\n",
    "\n",
    "In any case, here's what I arrived at after some fussing and in consultation with the guide linked above:"
   ]
  },
  {
   "cell_type": "code",
   "execution_count": null,
   "metadata": {},
   "outputs": [],
   "source": [
    "%matplotlib inline\n",
    "import matplotlib.pyplot as plt\n",
    "\n",
    "\n",
    "xs = expected_values\n",
    "ys = observed_values\n",
    "N = len(expected_values)\n",
    "\n",
    "#Matplotlib can translate floating point numbers into colors\n",
    "#Therefore we can use this to color based on the squared difference\n",
    "#between our expected (x) and observed(y) values\n",
    "\n",
    "#Behind the scenes matplotlib uses a colormap or cmap to do this\n",
    "#so we can also adjust how our numbers --> colors by giving a \n",
    "#new cmap name. A list of cmaps can be found here:\n",
    "#https://matplotlib.org/stable/tutorials/colors/colormaps.html\n",
    "\n",
    "colors = [((x - y)**2) for x,y in zip(xs,ys)]\n",
    "area = 15  \n",
    "\n",
    "#Plot a line showing our expectation\n",
    "plt.rcParams.update({'font.size': 22})\n",
    "# Prepare the plot  \n",
    "fig, ax = plt.subplots()\n",
    "\n",
    "#Plot the scatterplot\n",
    "plt.scatter(xs, ys, s=area, c=colors, cmap = 'plasma', alpha=0.25)\n",
    "\n",
    "#Plot the line representing expected values\n",
    "plt.plot(xs, xs, color = 'red',linestyle='solid',linewidth=5.0)\n",
    "\n",
    "# We change the fontsize of minor ticks label \n",
    "ax.tick_params(axis='both', which='major', labelsize=18)\n",
    "\n",
    "# Global options.\n",
    "plt.rcParams['font.family'] = 'serif'\n",
    "\n",
    "#Set the axes to only show two digits\n",
    "from matplotlib.ticker import FormatStrFormatter\n",
    "ax.yaxis.set_major_formatter(FormatStrFormatter('%.2f'))\n",
    "ax.xaxis.set_major_formatter(FormatStrFormatter('%.2f'))\n",
    "\n",
    "# Remove axis lines.\n",
    "ax.spines['top'].set_visible(False)\n",
    "ax.spines['right'].set_visible(False)\n",
    "\n",
    "# Increase y tick spacing.\n",
    "import matplotlib.ticker as ticker\n",
    "\n",
    "# Set where the numbers occur on the x and y axes so they\n",
    "# aren't crowded.\n",
    "\n",
    "#There are 16 dinucleotides, so maybe 1/16 is a natural\n",
    "# x axis tick spacing?\n",
    "\n",
    "n_dinucs = 16\n",
    "spacing = 1.0 /n_dinucs\n",
    "\n",
    "ax.yaxis.set_major_locator(ticker.MultipleLocator(base= spacing))\n",
    "ax.xaxis.set_major_locator(ticker.MultipleLocator(base= spacing))\n",
    "\n",
    "#Add some extra space on each side of the axis numbers\n",
    "extra_space = 0.03\n",
    "max_x_or_y_value = max(max(xs),max(ys))\n",
    "min_x_or_y_value = min(min(xs),min(ys))\n",
    "\n",
    "plt.xlim(min_x_or_y_value - extra_space, max_x_or_y_value + extra_space)\n",
    "plt.ylim(min_x_or_y_value - extra_space, max_x_or_y_value + extra_space)\n",
    "\n",
    "# Adjust the range of the x and y axis lines so they match the \n",
    "# minimum and maximum\n",
    "# values in the data (this is known as a 'range frame')\n",
    "ax.spines['bottom'].set_bounds(min(xs), max(xs))\n",
    "ax.spines['left'].set_bounds(min(ys), max(ys))\n",
    "\n",
    "\n",
    "plt.xlabel(\"Expected f(CG)\",)\n",
    "plt.ylabel(\"Obseved f(CG)\")\n",
    "\n",
    "plt.show()"
   ]
  },
  {
   "cell_type": "markdown",
   "metadata": {},
   "source": [
    "#### Save our figure\n",
    "\n",
    "Finally, the `matplotlib.pyplot` module has a way to save our figures to a file for later reference. The `dpi` parameter can be used to control the resolution (dpi = \"dots per inch\")"
   ]
  },
  {
   "cell_type": "code",
   "execution_count": null,
   "metadata": {},
   "outputs": [],
   "source": [
    "plt.savefig('human_cg_content.png',dpi=300)\n",
    "from os import listdir\n",
    "listdir()"
   ]
  }
 ],
 "metadata": {
  "kernelspec": {
   "display_name": "Python 3",
   "language": "python",
   "name": "python3"
  },
  "language_info": {
   "codemirror_mode": {
    "name": "ipython",
    "version": 3
   },
   "file_extension": ".py",
   "mimetype": "text/x-python",
   "name": "python",
   "nbconvert_exporter": "python",
   "pygments_lexer": "ipython3",
   "version": "3.7.2"
  }
 },
 "nbformat": 4,
 "nbformat_minor": 2
}
