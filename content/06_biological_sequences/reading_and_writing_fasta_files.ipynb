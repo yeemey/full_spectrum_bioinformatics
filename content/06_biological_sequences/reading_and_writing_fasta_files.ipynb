{
 "cells": [
  {
   "cell_type": "markdown",
   "metadata": {},
   "source": [
    "<img src=\"resources/fasta_banner.png\" width=\"1000\" align=\"center\"  description=\"A graphic showing a test editor with a FASTA file open. The id line starts with > and says the sequence is for a cornavirus. Subsequent lines have the letter of DNA - A,T,G, and C - on them.\">\n",
    "\n",
    "# Reading and writing FASTA files\n",
    "\n",
    "This section describes how to read and write biological sequences stored in FASTA files.\n",
    "\n",
    "#### In this section you will learn\n",
    "* How to read and write text files in python\n",
    "* How sequence data are represented in the FASTA file format\n",
    "* How to download data from an online address using `urlretrieve`\n",
    "* How to check if a file is in our current directory using `listdir`\n",
    "* How to work with special tab (`'\\t'`) and newline(`'\\n'`) characters \n",
    "* How to combine `if` statements and `for` loops to read a FASTA file in python\n",
    "* How to use the `continue` keyword to skip one iteration of a `for` loop in python\n",
    "\n",
    "#### Prerequisites for this section\n",
    "* Have Anaconda python installed\n",
    "* Be familiar with how to run python\n",
    "* Be familiar with the Central Dogma of Molecular Biology, and how to represent DNA,RNA, and Protein sequences using python strings.\n",
    "* Use `for` loops to simplify repetitive code\n",
    "* Use `if` statements to let your code handle different conditions\n",
    "\n",
    "\n"
   ]
  },
  {
   "cell_type": "markdown",
   "metadata": {},
   "source": [
    "## The FASTA file format\n",
    "\n",
    "As we have seen, sequence data is ubiquitous in computational biology and bioinformatics. One of the most straightforward methods of representing that data is as a FASTA file. [FASTA format](https://en.wikipedia.org/wiki/FASTA_format) files are simply text files. They may have various file extensions including .txt, .fa, .fasta, .fna or .faa. Typically, .fna indicates a nucleotide fasta file, whereas .faa indicates an amino acid fasta file. The name FASTA format orginates from the name of an old program, FASTA, that was the first to use this format. But now many different programs in bioinformatics use this format.\n",
    "\n",
    "Let's explore an example FASTA file in python. In doing so, we will learn about how to read and write files in python. Then we'll think more carefully about how these files are put together and how we might write code to interpret them.\n"
   ]
  },
  {
   "cell_type": "markdown",
   "metadata": {},
   "source": [
    "## Downloading the data we need\n",
    "\n",
    "To test out the `open` function for yourself, first download an example fasta file for the Human FMR1 protein and ensure that it is saved in your current working directory with the filename `Human_FMR1_Protein_UniProt.fasta`.\n",
    "\n",
    "How can we do this? One option is to download the file manually from a genome database, such as the NCBI FTP site (see the Data Sources appendix). "
   ]
  },
  {
   "cell_type": "markdown",
   "metadata": {},
   "source": [
    "### Downloading a file from a web address with python\n",
    "\n",
    "In this case, since the file we need is already stored online (on GitHub along with this textbook), we can also use python code to download the data. \n",
    "\n",
    "The `urlretrieve` function from the `urllib` library can download the contents of a particular URL to a specified path on your computer. (Since `urlretrieve` isn't a core, built-in python function, we'll have to import it before we use it)"
   ]
  },
  {
   "cell_type": "code",
   "execution_count": 1,
   "metadata": {},
   "outputs": [
    {
     "data": {
      "text/plain": [
       "('Human_FMR1_Protein_UniProt.fasta',\n",
       " <http.client.HTTPMessage at 0x7f9dd82cec40>)"
      ]
     },
     "execution_count": 1,
     "metadata": {},
     "output_type": "execute_result"
    }
   ],
   "source": [
    "#Import the urlretrieve function\n",
    "from urllib.request import urlretrieve\n",
    "\n",
    "#Save the looooong web address (url) of our data in a python string \n",
    "genome_url = 'https://raw.githubusercontent.com/zaneveld/full_spectrum_bioinformatics/master/content/06_biological_sequences/Human_FMR1_Protein_UniProt.fasta'\n",
    "\n",
    "#Set the name of the file where we want to save the data\n",
    "genome_file_name = 'Human_FMR1_Protein_UniProt.fasta'\n",
    "\n",
    "#Download the data \n",
    "urlretrieve(genome_url, genome_file_name)\n"
   ]
  },
  {
   "cell_type": "markdown",
   "metadata": {},
   "source": [
    "### Checking that we have the `Human_FMR1_Protein_UniProt.fasta` file in our current directory\n",
    "\n",
    "Before we do anything with our FASTA file, it's a good idea to check that we've set everything up correctly. We can use the `listdir` function to get a list of all the files in a directory. We'll use it to list what's in our current directory. Then we can manually check that the file we want to work with is present.  However, the `listdir` function is in the `os` module, so we have to import it before we use it."
   ]
  },
  {
   "cell_type": "code",
   "execution_count": 2,
   "metadata": {},
   "outputs": [
    {
     "data": {
      "text/plain": [
       "['Human_FMR1_Protein_UniProt.fasta',\n",
       " 'representing_and_manipulating_biological_sequences_with_python_strings.ipynb',\n",
       " 'test_fasta_file.txt',\n",
       " 'Untitled.ipynb',\n",
       " 'using_for_loops_to_analyze_biological_sequences.ipynb',\n",
       " 'Human_X_Chromosome_FMR_Region_NCBI.fasta',\n",
       " 'resources',\n",
       " 'heart.csv',\n",
       " 'capstone_cg_dinucleotides.ipynb',\n",
       " 'biological_sequences_exercise_answers.ipynb',\n",
       " 'intro_to_biological_sequences_and_the_central_dogma.ipynb',\n",
       " 'parsed_seqs.txt',\n",
       " '.ipynb_checkpoints',\n",
       " 'additional_examples.ipynb',\n",
       " 'biological_sequences.ipynb',\n",
       " 'reading_and_writing_fasta_files.ipynb']"
      ]
     },
     "execution_count": 2,
     "metadata": {},
     "output_type": "execute_result"
    }
   ],
   "source": [
    "from os import listdir\n",
    "listdir()"
   ]
  },
  {
   "cell_type": "markdown",
   "metadata": {},
   "source": [
    "Checking the list, we can see a lot of files. One of them is `Human_FMR1_Protein_UniProt.fasta`, so we have the file we wanted in our current working directory, and are ready to start loading the data into python! "
   ]
  },
  {
   "cell_type": "markdown",
   "metadata": {},
   "source": [
    "## Making things easy on ourselves: building up a `FASTA` parser in small steps\n",
    "\n",
    "Now that we have verified that  At first, we will simply open the file and print out each of its lines. I find this is a relatively low-stress way to start working on a new type of file format, rather than trying to immediately jump into writing more complex code. That way, we can check that each step is working before adding another one. We can think of this type of development as a conversation with the data - we code a little, then check the results, then add or change code based on what we see. \n"
   ]
  },
  {
   "cell_type": "markdown",
   "metadata": {},
   "source": [
    "## How to open a file in python\n",
    "\n",
    "Opening files in python is fairly straightforward: the [open](https://docs.python.org/3/library/functions.html#open) function takes in the relative path to a file, and returns a file object. You can then iterate over the lines of that file object in a for loop, and you will be given each line as a python string object."
   ]
  },
  {
   "cell_type": "code",
   "execution_count": 3,
   "metadata": {},
   "outputs": [
    {
     "name": "stdout",
     "output_type": "stream",
     "text": [
      ">tr|R9WNI0|R9WNI0_HUMAN Fragile X mental retardation 1 OS=Homo sapiens OX=9606 GN=FMR1 PE=1 SV=1\n",
      "\n",
      "MEELVVEVRGSNGAFYKAFVKDVHEDSITVAFENNWQPDRQIPFHDVRFPPPVGYNKDIN\n",
      "\n",
      "ESDEVEVYSRANEKEPCCWWLAKVRMIKGEFYVIEYAACDATYNEIVTIERLRSVNPNKP\n",
      "\n",
      "ATKDTFHKIKLDVPEDLRQMCAKEAAHKDFKKAVGAFSVTYDPENYQLVILSINEVTSKR\n",
      "\n",
      "AHMLIDMHFRSLRTKLSLIMRNEEASKQLESSRQLASRFHEQFIVREDLMGLAIGTHGAN\n",
      "\n",
      "IQQARKVPGVTAIDLDEDTCTFHIYGEDQDAVKKARSFLEFAEDVIQVPRNLVGKVIGKN\n",
      "\n",
      "GKLIQEIVDKSGVVRVRIEAENEKNVPQEEGMVPFVFVGTKDSIANATVLLDYHLNYLKE\n",
      "\n",
      "VDQLRLERLQIDEQLRQIGASSRPPPNRTDKEKSYVTDDGQGMGRGSRPYRNRGHGRRGP\n",
      "\n",
      "GYTSGTNSEASNASETESDHRDELSDWSLAPTEEERESFLRRGDGRRRGGGGRGQGGRGR\n",
      "\n",
      "GGGFKGNDDHSRTDNRPRNPREAKGRTTDGSLQIPPVKVVGCARVKIVTRRKRSQTAWMV\n",
      "\n",
      "SNHS\n",
      "\n"
     ]
    }
   ],
   "source": [
    "infile = open('Human_FMR1_Protein_UniProt.fasta')\n",
    "for line in infile:\n",
    "    print(line)\n"
   ]
  },
  {
   "cell_type": "markdown",
   "metadata": {},
   "source": [
    "**Stop and Consider**. Given just what you've seen so far, is this sequence DNA, RNA, or protein? If you can't tell, review the material on the how these sequences are represented before proceeding."
   ]
  },
  {
   "cell_type": "markdown",
   "metadata": {},
   "source": [
    "#### Trying to read a file that does not exist triggers a FileNotFoundError\n",
    "Just so that we can fix any errors that occur, let's test what happens if we try to open a file that IS NOT in the place we say it is. Let's try to open the file 'does_not_exist.txt', which you presumably will not have in your current working directory:"
   ]
  },
  {
   "cell_type": "code",
   "execution_count": 4,
   "metadata": {},
   "outputs": [
    {
     "ename": "FileNotFoundError",
     "evalue": "[Errno 2] No such file or directory: 'does_not_exist.txt'",
     "output_type": "error",
     "traceback": [
      "\u001b[0;31m---------------------------------------------------------------------------\u001b[0m",
      "\u001b[0;31mFileNotFoundError\u001b[0m                         Traceback (most recent call last)",
      "\u001b[0;32m<ipython-input-4-c589c0535522>\u001b[0m in \u001b[0;36m<module>\u001b[0;34m\u001b[0m\n\u001b[0;32m----> 1\u001b[0;31m \u001b[0minfile\u001b[0m \u001b[0;34m=\u001b[0m \u001b[0mopen\u001b[0m\u001b[0;34m(\u001b[0m\u001b[0;34m'does_not_exist.txt'\u001b[0m\u001b[0;34m)\u001b[0m\u001b[0;34m\u001b[0m\u001b[0;34m\u001b[0m\u001b[0m\n\u001b[0m",
      "\u001b[0;31mFileNotFoundError\u001b[0m: [Errno 2] No such file or directory: 'does_not_exist.txt'"
     ]
    }
   ],
   "source": [
    "infile = open('does_not_exist.txt')"
   ]
  },
  {
   "cell_type": "markdown",
   "metadata": {},
   "source": [
    "As expected, we get an error. Specifically we get `FileNotFoundError: [Errno 2] No such file or directory: 'does_not_exist.txt'`. If you see an error like this one when trying to read from a file, the most likely reason is that the file you tried to open isn't in your current working directory, or is in that directory under another name. Minor differences in capitalization, spelling, or the file extension (e.g. '.text' instead of '.txt') are common reasons you might get this error even if you think the file is there. So if you get this error you should a) double-check the file is where it should be b) check that the filename is specified correctly."
   ]
  },
  {
   "cell_type": "markdown",
   "metadata": {},
   "source": [
    "## The structure of FASTA files\n",
    "\n",
    "If everything worked you should now see each line of the FASTA file printed out one by one. Here's how FASTA files are structured:\n",
    "\n",
    "- FASTA files can contain one or more sequences\n",
    "- Each sequence entry has two main parts, an **identifier line** and one or more **sequence lines**\n",
    "- The **identifier line** *must* begin with a `>` (greater than) character. This line says what the sequence is. The identifier line also indicates that all following lines are sequence, until you reach either another identifier line or the end of the file. In some cases, identifier lines *may* also contain additional information about the sequence - like it's putative function - but this entirely depends on the specific database or research group that wrote the FASTA file. In our example file, the identifier line is: `>tr|R9WNI0|R9WNI0_HUMAN Fragile X mental retardation 1 OS=Homo sapiens OX=9606 GN=FMR1 PE=1 SV=1`\n",
    "\n",
    "- **Sequence line(s).** the line(s) of a FASTA file after an identifier line, contain the actual sequence data. In some cases, long sequences will simply be placed on a single very long line. Your text editor may wrap this around so it looks like multiple lines, but as far as the computer is concerned it's just one. In other FASTA files, like this one, long sequences are broken up into multiple lines, each with no more than a certain number of characters (here 60). \n",
    "\n"
   ]
  },
  {
   "cell_type": "markdown",
   "metadata": {},
   "source": [
    "## Writing a FASTA file\n",
    "\n",
    "In order to better understand the structure of FASTA files, and as an example to learn how to write data files in python, let's try writing our own FASTA file to the current working directory using only python code.\n",
    "\n",
    "First, we need to determine what sequences we want to write. As an example, let's imagine that we have several sequences and their identifiers in a dictionary, like this:"
   ]
  },
  {
   "cell_type": "code",
   "execution_count": 5,
   "metadata": {},
   "outputs": [],
   "source": [
    "sequences = {\"seq1\":\"ATCGAAA\",\"seq2\":\"ATGCTACGTACG\",\"seq3\":\"AATCATCGATCG\"}"
   ]
  },
  {
   "cell_type": "markdown",
   "metadata": {},
   "source": [
    "We can get each of the key/value pairs (so 'seq1' paired with 'ATCGAAA', etc) using the items() method of our dictionary."
   ]
  },
  {
   "cell_type": "code",
   "execution_count": 6,
   "metadata": {},
   "outputs": [
    {
     "name": "stdout",
     "output_type": "stream",
     "text": [
      "dict_items([('seq1', 'ATCGAAA'), ('seq2', 'ATGCTACGTACG'), ('seq3', 'AATCATCGATCG')])\n"
     ]
    }
   ],
   "source": [
    "print(sequences.items())"
   ]
  },
  {
   "cell_type": "markdown",
   "metadata": {},
   "source": [
    "We can iterate then iterate over these identifiers and sequences pairs using a `for loop`. Inside the for loop we'll print out each sequence identifier, then a special tab ('\\t') character that will add a little whitespace, then our sequence. Since each item includes both a sequence id and an identifier, we will have to assign two variable names rather than 1 at the start of our for loop."
   ]
  },
  {
   "cell_type": "code",
   "execution_count": 7,
   "metadata": {},
   "outputs": [
    {
     "name": "stdout",
     "output_type": "stream",
     "text": [
      "seq1 \t ATCGAAA\n",
      "seq2 \t ATGCTACGTACG\n",
      "seq3 \t AATCATCGATCG\n"
     ]
    }
   ],
   "source": [
    "for seq_id,identifier in sequences.items():\n",
    "    print(seq_id,\"\\t\",identifier)\n"
   ]
  },
  {
   "cell_type": "markdown",
   "metadata": {},
   "source": [
    "Now we just need to open a file for writing, and put these sequence and identifier pairs into the FASTA format. To open a file for writing, we use the same `open` function as before, but pass in as the second argument the string 'w' to indicate that we wish to open the file in write mode. If the file path we pass to open doesn't already exist, `open` will create it for us."
   ]
  },
  {
   "cell_type": "code",
   "execution_count": 8,
   "metadata": {},
   "outputs": [],
   "source": [
    "output_path = 'test_fasta_file.txt'\n",
    "output_file = open(output_path,'w')"
   ]
  },
  {
   "cell_type": "markdown",
   "metadata": {},
   "source": [
    "Now that we have an output file open, we can iterate over each of the sequences in our dictionary and write them to the file. For now let's use the simpler format of simply writing the whole sequence into the line directly below the identifier, regardless of its length."
   ]
  },
  {
   "cell_type": "code",
   "execution_count": 9,
   "metadata": {},
   "outputs": [],
   "source": [
    "for seq_id, seq in sequences.items():\n",
    "    identifier_line = \">\" + seq_id + \"\\n\"\n",
    "    output_file.write(identifier_line)\n",
    "    sequence_line = seq + \"\\n\"\n",
    "    output_file.write(sequence_line)\n",
    "    \n",
    "#Close the file when we're done\n",
    "output_file.close()"
   ]
  },
  {
   "cell_type": "markdown",
   "metadata": {},
   "source": [
    "Although the code doesn't print anything to our screen, we should now have a file called `test_fasta_file.txt` in our current working directory. We can test this by opening the file in read mode and printing its contents:"
   ]
  },
  {
   "cell_type": "code",
   "execution_count": 10,
   "metadata": {},
   "outputs": [
    {
     "name": "stdout",
     "output_type": "stream",
     "text": [
      ">seq1\n",
      "ATCGAAA\n",
      ">seq2\n",
      "ATGCTACGTACG\n",
      ">seq3\n",
      "AATCATCGATCG\n"
     ]
    }
   ],
   "source": [
    "input_file = open('test_fasta_file.txt')\n",
    "for line in input_file:\n",
    "    print(line.strip())\n"
   ]
  },
  {
   "cell_type": "markdown",
   "metadata": {},
   "source": [
    "Congratulations! If you got this far then you are now able to save text files from python, and can convert a dictionary of sequence identifiers and sequences into a FASTA file. Now we'll take the more challenging step of going in the opposite direction."
   ]
  },
  {
   "cell_type": "markdown",
   "metadata": {},
   "source": [
    "## Building a FASTA file parser"
   ]
  },
  {
   "cell_type": "markdown",
   "metadata": {},
   "source": [
    "In computer science, parsers ) (see e.g. [parsing](https://en.wikipedia.org/wiki/Parsing)) are pieces of code that take  is the process of taking some input and interpreting it in terms of data structures that are useful within your program. \n",
    "\n",
    "Building on our ability to open and print the contents of a FASTA file in python, let's build a FASTA parser step by step. Our goal will be to take the contents of the fasta file, and store them in a python dictionary (dict) object.  (As a reminder, dictionaries in python hold paired sets of keys and values, and make it easy and very fast to look up the values based on the keys). So once we're done, we should have all our sequences properly associated with their names in python, and we should be able to look up each sequence easily by its identifier. This is useful in cases where, for example, we want to run some analysis on each coding sequence in a genome.\n",
    "\n"
   ]
  },
  {
   "cell_type": "markdown",
   "metadata": {},
   "source": [
    "### Removing newline characters from a FASTA file\n",
    "\n",
    "One difficulty with multiline fasta files is that each line ends in a special newline character. You might notice that when we run our code, there seems to be an extra blank line after each line of sequence data. This is due to hidden newline characters.  These newline characters indicates where to end the line, and are roughly equivalent to hitting return on your keyboard when typing. When working with python strings, newline characters are represented with `'\\n'` . If you newline characters to a string, it will print out on more than one line. Here's a quick example:"
   ]
  },
  {
   "cell_type": "code",
   "execution_count": 11,
   "metadata": {},
   "outputs": [
    {
     "name": "stdout",
     "output_type": "stream",
     "text": [
      "First let's print a sequence without newline characters\n",
      "AATAAA\n",
      "Now let's add newline characters:\n",
      "AA\n",
      "TA\n",
      "AA\n",
      "\n"
     ]
    }
   ],
   "source": [
    "print(\"First let's print a sequence without newline characters\")\n",
    "print(\"AATAAA\") \n",
    "print (\"Now let's add newline characters:\")\n",
    "print(\"AA\\nTA\\nAA\\n\")"
   ]
  },
  {
   "cell_type": "markdown",
   "metadata": {},
   "source": [
    "As you can see, adding `\\n` newline characters caused our string to be broken up across several lines of text when printed to the screen. This is why our FASTA file contains a sequence that appears on more than one line."
   ]
  },
  {
   "cell_type": "markdown",
   "metadata": {},
   "source": [
    "If you want a multiline string to print out on just one line, you have to remove newline characters. To do this, we have to remember two things: first, the `replace` string method let's us replace part of a string with something else, and second, the newline character is just a normal part of a python string. Therefore, we can replace it with an empty string (`''`) in order to remove newlines from our file.\n",
    "\n",
    "Let's revise our code for reading FASTA files so that it strips newline characters:"
   ]
  },
  {
   "cell_type": "code",
   "execution_count": 12,
   "metadata": {},
   "outputs": [
    {
     "name": "stdout",
     "output_type": "stream",
     "text": [
      ">tr|R9WNI0|R9WNI0_HUMAN Fragile X mental retardation 1 OS=Homo sapiens OX=9606 GN=FMR1 PE=1 SV=1\n",
      "MEELVVEVRGSNGAFYKAFVKDVHEDSITVAFENNWQPDRQIPFHDVRFPPPVGYNKDIN\n",
      "ESDEVEVYSRANEKEPCCWWLAKVRMIKGEFYVIEYAACDATYNEIVTIERLRSVNPNKP\n",
      "ATKDTFHKIKLDVPEDLRQMCAKEAAHKDFKKAVGAFSVTYDPENYQLVILSINEVTSKR\n",
      "AHMLIDMHFRSLRTKLSLIMRNEEASKQLESSRQLASRFHEQFIVREDLMGLAIGTHGAN\n",
      "IQQARKVPGVTAIDLDEDTCTFHIYGEDQDAVKKARSFLEFAEDVIQVPRNLVGKVIGKN\n",
      "GKLIQEIVDKSGVVRVRIEAENEKNVPQEEGMVPFVFVGTKDSIANATVLLDYHLNYLKE\n",
      "VDQLRLERLQIDEQLRQIGASSRPPPNRTDKEKSYVTDDGQGMGRGSRPYRNRGHGRRGP\n",
      "GYTSGTNSEASNASETESDHRDELSDWSLAPTEEERESFLRRGDGRRRGGGGRGQGGRGR\n",
      "GGGFKGNDDHSRTDNRPRNPREAKGRTTDGSLQIPPVKVVGCARVKIVTRRKRSQTAWMV\n",
      "SNHS\n"
     ]
    }
   ],
   "source": [
    "infile = open(\"./Human_FMR1_Protein_UniProt.fasta\")\n",
    "for line in infile:\n",
    "    line = line.replace('\\n','')\n",
    "    print(line)"
   ]
  },
  {
   "cell_type": "markdown",
   "metadata": {},
   "source": [
    "Notice that the text now prints out much more nicely. If we wanted to, we could have used `line = line.strip()` instead of our call to `replace`. The `strip` method removes any whitespace characters at the end of a line, including newline characters, spaces, and tabs."
   ]
  },
  {
   "cell_type": "markdown",
   "metadata": {},
   "source": [
    "#### Starting simple - let's find the identifier lines\n",
    "\n",
    "In building up a more complex piece of code like this, it is often useful to focus on simple steps first. If you already have an idea, you might sketch out an overall process for how the code would work. If not, you might try tackling the simplest piece of the problem you do know how to do, and then see if solving that subproblem makes it more clear how to figure out the remainder of what's left to do.\n",
    "\n",
    "In our case, we know how to loop over all the lines of the file, and we further know that each identifier line starts with a \">\" character (technically in the original FASTA format it could also be a ';' but I rarely see that used, so I'd consider accounting for it optional).\n",
    "\n",
    "We've been introduced to if statements in python, so we can use those to check if the first character of a given line is an identifier and then only print it to screen if it is. Here's how our code might look if we modify it to figure out if each line is an  identifier line or a line of sequence, and print something to let us know the results:"
   ]
  },
  {
   "cell_type": "code",
   "execution_count": 13,
   "metadata": {},
   "outputs": [
    {
     "name": "stdout",
     "output_type": "stream",
     "text": [
      "Found an identifier line: >tr|R9WNI0|R9WNI0_HUMAN Fragile X mental retardation 1 OS=Homo sapiens OX=9606 GN=FMR1 PE=1 SV=1\n",
      "Found a sequence line: MEELVVEVRGSNGAFYKAFVKDVHEDSITVAFENNWQPDRQIPFHDVRFPPPVGYNKDIN\n",
      "Found a sequence line: ESDEVEVYSRANEKEPCCWWLAKVRMIKGEFYVIEYAACDATYNEIVTIERLRSVNPNKP\n",
      "Found a sequence line: ATKDTFHKIKLDVPEDLRQMCAKEAAHKDFKKAVGAFSVTYDPENYQLVILSINEVTSKR\n",
      "Found a sequence line: AHMLIDMHFRSLRTKLSLIMRNEEASKQLESSRQLASRFHEQFIVREDLMGLAIGTHGAN\n",
      "Found a sequence line: IQQARKVPGVTAIDLDEDTCTFHIYGEDQDAVKKARSFLEFAEDVIQVPRNLVGKVIGKN\n",
      "Found a sequence line: GKLIQEIVDKSGVVRVRIEAENEKNVPQEEGMVPFVFVGTKDSIANATVLLDYHLNYLKE\n",
      "Found a sequence line: VDQLRLERLQIDEQLRQIGASSRPPPNRTDKEKSYVTDDGQGMGRGSRPYRNRGHGRRGP\n",
      "Found a sequence line: GYTSGTNSEASNASETESDHRDELSDWSLAPTEEERESFLRRGDGRRRGGGGRGQGGRGR\n",
      "Found a sequence line: GGGFKGNDDHSRTDNRPRNPREAKGRTTDGSLQIPPVKVVGCARVKIVTRRKRSQTAWMV\n",
      "Found a sequence line: SNHS\n"
     ]
    }
   ],
   "source": [
    "infile = open(\"./Human_FMR1_Protein_UniProt.fasta\")\n",
    "for line in infile:\n",
    "    line = line.replace('\\n','')   \n",
    "    if line[0] == '>':\n",
    "        print(\"Found an identifier line:\",line)\n",
    "    else: \n",
    "        print(\"Found a sequence line:\", line)"
   ]
  },
  {
   "cell_type": "markdown",
   "metadata": {},
   "source": [
    "#### Making our code a little more idiomatic\n",
    "\n",
    "Code is idiomatic when it is written in a typical way that is easy to understand by other members of the coding community around that language. We can make our code up above a little bit more idiomatic by replacing some code we've written with built in string methods that do exactly what we want.\n",
    "\n",
    "For example, the part of the code where we write `if line[0] == '>'`, is really just trying to figure out if the line starts with a `'>'` character. It turns out that python strings have a built in `startswith` function that can check this for us. Similarly, when we use `line = line.replace('\\n','')`, all we are really trying to do is to remove whitespace from the end of the line. This can also be accomplished with the `strip` string method. Substituting these two doesn't change the outcome, but in my opinion makes our code a little bit more clear: "
   ]
  },
  {
   "cell_type": "code",
   "execution_count": 14,
   "metadata": {},
   "outputs": [
    {
     "name": "stdout",
     "output_type": "stream",
     "text": [
      "Found an identifier line: >tr|R9WNI0|R9WNI0_HUMAN Fragile X mental retardation 1 OS=Homo sapiens OX=9606 GN=FMR1 PE=1 SV=1\n",
      "Found a sequence line: MEELVVEVRGSNGAFYKAFVKDVHEDSITVAFENNWQPDRQIPFHDVRFPPPVGYNKDIN\n",
      "Found a sequence line: ESDEVEVYSRANEKEPCCWWLAKVRMIKGEFYVIEYAACDATYNEIVTIERLRSVNPNKP\n",
      "Found a sequence line: ATKDTFHKIKLDVPEDLRQMCAKEAAHKDFKKAVGAFSVTYDPENYQLVILSINEVTSKR\n",
      "Found a sequence line: AHMLIDMHFRSLRTKLSLIMRNEEASKQLESSRQLASRFHEQFIVREDLMGLAIGTHGAN\n",
      "Found a sequence line: IQQARKVPGVTAIDLDEDTCTFHIYGEDQDAVKKARSFLEFAEDVIQVPRNLVGKVIGKN\n",
      "Found a sequence line: GKLIQEIVDKSGVVRVRIEAENEKNVPQEEGMVPFVFVGTKDSIANATVLLDYHLNYLKE\n",
      "Found a sequence line: VDQLRLERLQIDEQLRQIGASSRPPPNRTDKEKSYVTDDGQGMGRGSRPYRNRGHGRRGP\n",
      "Found a sequence line: GYTSGTNSEASNASETESDHRDELSDWSLAPTEEERESFLRRGDGRRRGGGGRGQGGRGR\n",
      "Found a sequence line: GGGFKGNDDHSRTDNRPRNPREAKGRTTDGSLQIPPVKVVGCARVKIVTRRKRSQTAWMV\n",
      "Found a sequence line: SNHS\n"
     ]
    }
   ],
   "source": [
    "infile = open(\"./Human_FMR1_Protein_UniProt.fasta\")\n",
    "for line in infile:\n",
    "    line = line.strip()   \n",
    "    if line.startswith('>'):\n",
    "        print(\"Found an identifier line:\",line)\n",
    "    else: \n",
    "        print(\"Found a sequence line:\", line)"
   ]
  },
  {
   "cell_type": "markdown",
   "metadata": {},
   "source": [
    "#### ...and now for the hard part!\n",
    "\n",
    "Now we get to a trickier part of the code. We've identified which lines are sequences and which are identifiers. But now we need to put together the full sequences associated with each identifier. \n",
    "\n",
    "Basically, this will involve gluing together all the sequences in between one identifier line and either the next identifier line or the end of the file. Then we need to add each to a dictionary. So for example, if our FASTA file was:\n",
    "<pre>\n",
    ">seq1\n",
    "ATCG\n",
    "AAA\n",
    ">seq2\n",
    "ATGCTACGTACG\n",
    ">seq3\n",
    "AATC\n",
    "ATCG\n",
    "ATCG\n",
    "</pre>\n",
    "\n",
    "We would want to end up with a dict that looked like this: `{\"seq1\":\"ATCGAAA\",\"seq2\":\"ATGCTACGTACG\",\"seq3\":\"AATCATCGATCG\"}`\n",
    "\n",
    "How we get there takes a little bit of consideration. At least, it took me a while to understand the logic the first time I saw an approach like this used. Hopefully it will illustrate how we might use more complex combinations of for loops and if statements to accomplish a useful task.\n"
   ]
  },
  {
   "cell_type": "markdown",
   "metadata": {},
   "source": [
    "**Here's the key idea:** We said up above that the *sequence* for each gene is found *between* the id line for that gene, and either the id line of the *next* gene, or the end of the file. So our problem is now reduced to keeping track of when we are inside a particular entry in the FASTA file (in which case we should add the stripped line to the growing sequence for that line) or if we have hit either another id line or the end of the file, in which case we should finish recording the information for this gene in our dict and move on to the next one.\n",
    "\n",
    "#### The continue keyword\n",
    "\n",
    "We can accomplish these goals using some if statements. It is helpful to also use a special keword called `continue`. If you are inside a for loop, writing `continue` will cause python to stop what it's doing and skip to the next iteration of the loop. (A related keyword, `break`, which ends the loop entirely is also very useful). Before we use the continue keyword in our code, let's check it out in a simple example.\n",
    "\n",
    "Let's say we were weighing the root mass of lots of grasses from an experiment, and we wanted to use python to convert the mass to a logarithmic scale. However, some root masses didn't get weighted and are marked with \"-\" in our data. We could use the continue keyword to skip these unweighed root masses when processing our data:"
   ]
  },
  {
   "cell_type": "code",
   "execution_count": 17,
   "metadata": {},
   "outputs": [
    {
     "name": "stdout",
     "output_type": "stream",
     "text": [
      "log root mass: -1.4271163556401458\n",
      "log root mass: -0.579818495252942\n",
      "log root mass: -1.7147984280919266\n",
      "log root mass: 0.03922071315328133\n",
      "Done\n"
     ]
    }
   ],
   "source": [
    "from math import log\n",
    "\n",
    "for weight in [0.24,0.56,0.18,'-',1.04,'-']:\n",
    "    #Skip weights that are marked \"-\"\n",
    "    if weight == \"-\":\n",
    "        continue\n",
    "    \n",
    "    print(\"log root mass:\",log(weight))\n",
    "print(\"Done\")   \n",
    "        "
   ]
  },
  {
   "cell_type": "markdown",
   "metadata": {},
   "source": [
    "Simple, right? Now let's put all these ideas to parse our FASTA file! Let's start by putting together some data structures that will hold what we want: a dict to hold ids together with their sequences, a string to hold the current sequence identifier, and a list to which we can add each sequence as we get it.  "
   ]
  },
  {
   "cell_type": "code",
   "execution_count": 18,
   "metadata": {},
   "outputs": [
    {
     "name": "stdout",
     "output_type": "stream",
     "text": [
      "Found an identifier line: >tr|R9WNI0|R9WNI0_HUMAN Fragile X mental retardation 1 OS=Homo sapiens OX=9606 GN=FMR1 PE=1 SV=1\n",
      "Found a sequence line: MEELVVEVRGSNGAFYKAFVKDVHEDSITVAFENNWQPDRQIPFHDVRFPPPVGYNKDIN\n",
      "Found a sequence line: ESDEVEVYSRANEKEPCCWWLAKVRMIKGEFYVIEYAACDATYNEIVTIERLRSVNPNKP\n",
      "Found a sequence line: ATKDTFHKIKLDVPEDLRQMCAKEAAHKDFKKAVGAFSVTYDPENYQLVILSINEVTSKR\n",
      "Found a sequence line: AHMLIDMHFRSLRTKLSLIMRNEEASKQLESSRQLASRFHEQFIVREDLMGLAIGTHGAN\n",
      "Found a sequence line: IQQARKVPGVTAIDLDEDTCTFHIYGEDQDAVKKARSFLEFAEDVIQVPRNLVGKVIGKN\n",
      "Found a sequence line: GKLIQEIVDKSGVVRVRIEAENEKNVPQEEGMVPFVFVGTKDSIANATVLLDYHLNYLKE\n",
      "Found a sequence line: VDQLRLERLQIDEQLRQIGASSRPPPNRTDKEKSYVTDDGQGMGRGSRPYRNRGHGRRGP\n",
      "Found a sequence line: GYTSGTNSEASNASETESDHRDELSDWSLAPTEEERESFLRRGDGRRRGGGGRGQGGRGR\n",
      "Found a sequence line: GGGFKGNDDHSRTDNRPRNPREAKGRTTDGSLQIPPVKVVGCARVKIVTRRKRSQTAWMV\n",
      "Found a sequence line: SNHS\n"
     ]
    }
   ],
   "source": [
    "infile = open(\"./Human_FMR1_Protein_UniProt.fasta\")\n",
    "\n",
    "parsed_seqs = {}\n",
    "\n",
    "curr_seq_id = None\n",
    "curr_seq = []\n",
    "\n",
    "for line in infile:\n",
    "    line = line.strip()   \n",
    "    if line.startswith('>'):\n",
    "        print(\"Found an identifier line:\",line)\n",
    "    else: \n",
    "        print(\"Found a sequence line:\", line)"
   ]
  },
  {
   "cell_type": "markdown",
   "metadata": {},
   "source": [
    "For the next piece, we will extend the code to actually accomplish our task. See if you can follow the logic using the code and comments below. It may help to mentally run through the code, recording what the value of each variable when each line of the file is reached. You can also add `print()` statements to your version of the code to print out what each variable is at each point in time. This is a useful approach to debugging code and can also help you understand more complex processes more easily.\n",
    "\n",
    "Take some time and carefully read and consider the following:"
   ]
  },
  {
   "cell_type": "code",
   "execution_count": 19,
   "metadata": {},
   "outputs": [
    {
     "name": "stdout",
     "output_type": "stream",
     "text": [
      "{'tr|R9WNI0|R9WNI0_HUMAN Fragile X mental retardation 1 OS=Homo sapiens OX=9606 GN=FMR1 PE=1 SV=1': 'MEELVVEVRGSNGAFYKAFVKDVHEDSITVAFENNWQPDRQIPFHDVRFPPPVGYNKDINESDEVEVYSRANEKEPCCWWLAKVRMIKGEFYVIEYAACDATYNEIVTIERLRSVNPNKPATKDTFHKIKLDVPEDLRQMCAKEAAHKDFKKAVGAFSVTYDPENYQLVILSINEVTSKRAHMLIDMHFRSLRTKLSLIMRNEEASKQLESSRQLASRFHEQFIVREDLMGLAIGTHGANIQQARKVPGVTAIDLDEDTCTFHIYGEDQDAVKKARSFLEFAEDVIQVPRNLVGKVIGKNGKLIQEIVDKSGVVRVRIEAENEKNVPQEEGMVPFVFVGTKDSIANATVLLDYHLNYLKEVDQLRLERLQIDEQLRQIGASSRPPPNRTDKEKSYVTDDGQGMGRGSRPYRNRGHGRRGPGYTSGTNSEASNASETESDHRDELSDWSLAPTEEERESFLRRGDGRRRGGGGRGQGGRGRGGGFKGNDDHSRTDNRPRNPREAKGRTTDGSLQIPPVKVVGCARVKIVTRRKRSQTAWMVSNHS'}\n"
     ]
    }
   ],
   "source": [
    "#Normally the input file would be determined\n",
    "#by user input via argparse. We'll hard-code it as a string for now\n",
    "input_file = './Human_FMR1_Protein_UniProt.fasta'\n",
    "\n",
    "#Open our input file for reading\n",
    "f = open(input_file)\n",
    "\n",
    "#Before we start reading the file,\n",
    "#set up an empty dict to hold our mappings\n",
    "#between gene ids and their sequence\n",
    "parsed_seqs = {}\n",
    "\n",
    "#Set up variables to keep track of our \n",
    "#current sequence id (a string),\n",
    "#and our current sequence (as a list of smaller sequences)\n",
    "#(we glue these smaller sequences together later on)\n",
    "\n",
    "curr_seq_id = None\n",
    "curr_seq = []\n",
    "\n",
    "for line in f:\n",
    "    \n",
    "        #remove newline characters (\"\\n\")\n",
    "        line = line.strip()\n",
    "\n",
    "        if line.startswith(\">\"):\n",
    "            #We only execute this code IF we're in\n",
    "            #an identifier line!\n",
    "            \n",
    "            #Even though the next if statement appears\n",
    "            #early in the code, it is the final step in the \n",
    "            #process of parsing an entry.\n",
    "            \n",
    "            #curr_seq_id starts as None, so if it is not None,\n",
    "            #(i.e. it already holds an identifier)\n",
    "            #AND we are in an identifier line,\n",
    "            #then we must have finished reading an entry\n",
    "            #and be just starting a new one. We should glue together\n",
    "            #all the sequences for the current entry (with ''.join(curr_seq))\n",
    "            #and save it to our dictionary, keyed based on the current \n",
    "            #identifier\n",
    "            if curr_seq_id is not None:\n",
    "                parsed_seqs[curr_seq_id] = ''.join(curr_seq)\n",
    "\n",
    "            #Regardless of whether we just saved an entry,\n",
    "            #We're in a label line that starts a new entry,\n",
    "            #so we should set the current sequence id to whatever it\n",
    "            #says on the line, except for the '>' symbol\n",
    "            curr_seq_id = line[1:]\n",
    "            \n",
    "            #empty out the current sequence, since we're starting\n",
    "            #a new entry\n",
    "            curr_seq = []\n",
    "            \n",
    "            #If we started a new entry, skip the stuff we'd normally\n",
    "            #do to process sequence data and go on to the next line\n",
    "            continue\n",
    "\n",
    "        #If we got here, it means we are NOT in an identifier\n",
    "        #line, and instead we've got sequence! We should add\n",
    "        #the current sequence to the \n",
    "        curr_seq.append(line)\n",
    "\n",
    "#Join the sequences for the final entry and add them to the dict\n",
    "parsed_seqs[curr_seq_id] = ''.join(curr_seq)\n",
    "\n",
    "#Print out the final result!\n",
    "print(parsed_seqs)"
   ]
  },
  {
   "cell_type": "markdown",
   "metadata": {},
   "source": [
    "One the first line, we trigger the outer if statement (`if line.startswith('>'):`), but since we haven't already processed a previous FASTA entry we don't trigger the inner one (`if curr_seq_id is not None:`). We set the seq_id to our identifier line, and reset the current sequence to an empty list. \n",
    "\n",
    "Now we move onto the first line of sequence. We skip the if statement since it doesn't start with `'>'`. We just add the sequence to the curr_seq list and then move on to the next line of sequence. We continue this way until we hit the end of the file. The loop then terminateds and the final statement (`parsed_seqs[curr_seq_id] = ''.join(curr_seq)`) converts our list of sequences into a single string and saves them in our data dictionary under our current sequence id.\n",
    "\n",
    "If we had encountered another id line before the end of the file, we would have triggered the inner if statemetn  (`if curr_seq_id is not None:`), and joined our sequence lines into one sequnce, then saved that to our dictionary using the id as the key, just like we did when we hit the end of the file"
   ]
  },
  {
   "cell_type": "markdown",
   "metadata": {},
   "source": [
    "### Making our code more modular by `def`ining a function to hold it\n",
    "\n",
    "As your python scripts become more complex, it is a good idea to break up your code into functions. This allows you to reuse code. Later we will learn how to use unit-testing to ensure that each function is really doing what you expect it to. For now, just know that any practice you put into revising code into small functions will pay off heavily in the future.\n",
    "\n",
    "Down below is a slightly further refined version of the code that does the same thing, but has the code for parsing a fasta file wrapped up into a function called `parse_fasta_file` so you could easily reuse it. The string directly below the function definition is called a `docstring`. It is recognized by python when a user asks for help with one of your functions."
   ]
  },
  {
   "cell_type": "code",
   "execution_count": 20,
   "metadata": {},
   "outputs": [
    {
     "name": "stdout",
     "output_type": "stream",
     "text": [
      "{'tr|R9WNI0|R9WNI0_HUMAN Fragile X mental retardation 1 OS=Homo sapiens OX=9606 GN=FMR1 PE=1 SV=1': 'MEELVVEVRGSNGAFYKAFVKDVHEDSITVAFENNWQPDRQIPFHDVRFPPPVGYNKDINESDEVEVYSRANEKEPCCWWLAKVRMIKGEFYVIEYAACDATYNEIVTIERLRSVNPNKPATKDTFHKIKLDVPEDLRQMCAKEAAHKDFKKAVGAFSVTYDPENYQLVILSINEVTSKRAHMLIDMHFRSLRTKLSLIMRNEEASKQLESSRQLASRFHEQFIVREDLMGLAIGTHGANIQQARKVPGVTAIDLDEDTCTFHIYGEDQDAVKKARSFLEFAEDVIQVPRNLVGKVIGKNGKLIQEIVDKSGVVRVRIEAENEKNVPQEEGMVPFVFVGTKDSIANATVLLDYHLNYLKEVDQLRLERLQIDEQLRQIGASSRPPPNRTDKEKSYVTDDGQGMGRGSRPYRNRGHGRRGPGYTSGTNSEASNASETESDHRDELSDWSLAPTEEERESFLRRGDGRRRGGGGRGQGGRGRGGGFKGNDDHSRTDNRPRNPREAKGRTTDGSLQIPPVKVVGCARVKIVTRRKRSQTAWMVSNHS'}\n"
     ]
    }
   ],
   "source": [
    "def parse_fasta_file(input_file):\n",
    "    \"\"\"Return a dict of {id:gene_seq} pairs based on the sequences in the input FASTA file\n",
    "    input_file -- a file handle for an input fasta file\n",
    "    \"\"\"\n",
    "    parsed_seqs = {}\n",
    "    curr_seq_id = None\n",
    "    curr_seq = []\n",
    "\n",
    "    for line in f:\n",
    "        line = line.strip()\n",
    "\n",
    "        if line.startswith(\">\"):\n",
    "            if curr_seq_id is not None:\n",
    "                parsed_seqs[curr_seq_id] = ''.join(curr_seq)\n",
    "\n",
    "            curr_seq_id = line[1:]\n",
    "            curr_seq = []\n",
    "            continue\n",
    "\n",
    "        curr_seq.append(line)\n",
    "\n",
    "    #Add the final sequence to the dict\n",
    "    parsed_seqs[curr_seq_id] = ''.join(curr_seq)\n",
    "    return parsed_seqs\n",
    "\n",
    "\n",
    "#Normally this would be determined\n",
    "#by user input via argparse. Hard-coded for now\n",
    "input_file = './Human_FMR1_Protein_UniProt.fasta'\n",
    "\n",
    "f = open(input_file)\n",
    "parsed_seqs = parse_fasta_file(input_file)\n",
    "print(parsed_seqs)"
   ]
  },
  {
   "cell_type": "markdown",
   "metadata": {},
   "source": [
    "## Writing sequences and identifiers to a tab-delimited file\n",
    "\n",
    "Let's try writing our results to a file. This will be very similar to when we wrote lines to a FASTA file, but now let's try writing our data in a tab-delimited format. That means that a tab (`'\\t'`) character will separate our data into columns. We can use the `join` string method to join together a list of results using a particular delimiter. In the code below, the expression `\"\\t\".join([seq_id,seq])+\"\\n\"` says to join together the sequence identifier and the sequence using a tab character, then add a newline (`'\\n'`) on the end."
   ]
  },
  {
   "cell_type": "code",
   "execution_count": 21,
   "metadata": {},
   "outputs": [
    {
     "name": "stdout",
     "output_type": "stream",
     "text": [
      "tr|R9WNI0|R9WNI0_HUMAN Fragile X mental retardation 1 OS=Homo sapiens OX=9606 GN=FMR1 PE=1 SV=1\tMEELVVEVRGSNGAFYKAFVKDVHEDSITVAFENNWQPDRQIPFHDVRFPPPVGYNKDINESDEVEVYSRANEKEPCCWWLAKVRMIKGEFYVIEYAACDATYNEIVTIERLRSVNPNKPATKDTFHKIKLDVPEDLRQMCAKEAAHKDFKKAVGAFSVTYDPENYQLVILSINEVTSKRAHMLIDMHFRSLRTKLSLIMRNEEASKQLESSRQLASRFHEQFIVREDLMGLAIGTHGANIQQARKVPGVTAIDLDEDTCTFHIYGEDQDAVKKARSFLEFAEDVIQVPRNLVGKVIGKNGKLIQEIVDKSGVVRVRIEAENEKNVPQEEGMVPFVFVGTKDSIANATVLLDYHLNYLKEVDQLRLERLQIDEQLRQIGASSRPPPNRTDKEKSYVTDDGQGMGRGSRPYRNRGHGRRGPGYTSGTNSEASNASETESDHRDELSDWSLAPTEEERESFLRRGDGRRRGGGGRGQGGRGRGGGFKGNDDHSRTDNRPRNPREAKGRTTDGSLQIPPVKVVGCARVKIVTRRKRSQTAWMVSNHS\n",
      "\n"
     ]
    }
   ],
   "source": [
    "#Write the output to a file with each line having an id,\n",
    "#a tab character ('\\t'), then the sequence\n",
    "output_filepath = 'parsed_seqs.txt'\n",
    "output_file = open(output_filepath,'w+')\n",
    "\n",
    "for seq_id,seq in parsed_seqs.items():    \n",
    "    output_line = \"\\t\".join([seq_id,seq])+\"\\n\"\n",
    "    print(output_line)\n",
    "    output_file.write(output_line)"
   ]
  },
  {
   "cell_type": "markdown",
   "metadata": {},
   "source": [
    "## Exercises"
   ]
  },
  {
   "cell_type": "markdown",
   "metadata": {},
   "source": [
    "**Write an example FASTA file using python**. Your file should contain three sequences, and be in the FASTA format. Don't write it by hand in a text editor! The point is to practice writing things like this into files using python. \n",
    "\n",
    "<pre>\n",
    "Seq_1 has sequence 'ATGCTGGGTACGATCGTACGTACGTACG'\n",
    "Seq_2 has sequence 'ATCGCGGGGCTATATCTGGATTTTTAAACGGATCG'\n",
    "Seq_3 has sequence 'ATCGACGATCGTACGATCGTACGGGGGGGGTACTAT'\n",
    "</pre>\n",
    "\n",
    "**Write a FASTA file with 1000 random sequences with equal base frequency**. Each of the entries in your FASTA file should first have an identifier line, and then one or more lines of random sequence generated by your code. *Hint*: The choice function, which you can import using `from random import choice` selects a random item from a list. So for example, `choice([True,False])` would randomly return either True or False with equal probability. You can use this function to help you generate the random sequences by choosing among a list of nucleotides. \n",
    "\n",
    "**Use the parse_fasta_file function on a real genome**. The [PATRIC](https://www.patricbrc.org/view/Taxonomy/2#view_tab=genomes) database allows for downloading of whole bacterial genomes in a convenient way. Check a box for a complete genome of interest, then click the download (`DNLD`) button on the right, and select one of the protein or nucleotide FASTA files. Unzip the file, then inspect it in a text editor to make sure it looks like a valid FASTA file. Assuming it does, run the code on this file to parse it. Using the resulting dictionary, calculate some statistics about the genome. How many sequences were present? What was the average length of the sequences? What was their average GC content?\n",
    "\n",
    "**Add code to the parse_fasta_file function to remove alignment gap characters from a FASTA file**. Some FASTA files have special gap characters (`'-'`) that are added during sequence alignment to reflect insertions or deletions with respect to some other sequence. Add code that removes any gap `-` characters in the sequence lines of the input file. Test that your code works by making a test FASTA file that has - characters in the sequences and also at least one id line. Make sure the - characters in the sequence are removed, but the ones in the id line are not. *Hint* replacing a character with the empty string `''` is equivalent to removing it. *Extension*: modify the parse_fasta_file function to take an extra parameter called remove_gaps. If set to True, the function should remove gap characters, but if it is set to False it should not.\n",
    "\n",
    "**Add convert_to_uppercase and convert_to_lowercase options to the parse_fasta_file function**. Some bioinformatic programs accept only uppercase or lowercase sequences, so it is useful to have a way to easily convert between the two. Add new parameters to the parse_fasta_file function that optionally convert the sequences (but NOT the identifiers) to either all uppercase or all lowercase letters.\n",
    "\n",
    "**Extend the FASTA file writing code to ensure each sequence line is 80 characters or less in length**. Test your code with sequences of length 10, 100, 200 and 240. *Hint* if the length of the sequence is less than 80 characters, you can just write the whole thing into the file at once on a single line. *Hint 2* If the length of the sequence is more than 80 characters, you can break it up into a number of 80 character chunks, each of which will fit exactly on one line, plus one chunk of 'leftovers' that will be less than 80 characters."
   ]
  },
  {
   "cell_type": "markdown",
   "metadata": {},
   "source": [
    "## [Reading Responses & Feedback](https://docs.google.com/forms/d/e/1FAIpQLSeUQPI_JbyKcX1juAFLt5z1CLzC2vTqaCYySUAYCNElNwZqqQ/viewform?usp=sf_link)"
   ]
  }
 ],
 "metadata": {
  "kernelspec": {
   "display_name": "Python 3",
   "language": "python",
   "name": "python3"
  },
  "language_info": {
   "codemirror_mode": {
    "name": "ipython",
    "version": 3
   },
   "file_extension": ".py",
   "mimetype": "text/x-python",
   "name": "python",
   "nbconvert_exporter": "python",
   "pygments_lexer": "ipython3",
   "version": "3.8.8"
  }
 },
 "nbformat": 4,
 "nbformat_minor": 2
}
