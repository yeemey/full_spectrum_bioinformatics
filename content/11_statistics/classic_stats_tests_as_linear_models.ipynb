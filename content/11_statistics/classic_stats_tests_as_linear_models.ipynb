{
 "cells": [
  {
   "cell_type": "markdown",
   "metadata": {},
   "source": [
    "# Linear Models - a statistical Swiss Army Knife"
   ]
  },
  {
   "cell_type": "markdown",
   "metadata": {},
   "source": [
    "## In this section\n",
    "\n",
    "In this section we will learn:\n",
    "\n",
    "- How variants of the familiar equation for a line (y = mx + b) underlie many different statistical models that you may have learned under different names.\n"
   ]
  },
  {
   "cell_type": "markdown",
   "metadata": {},
   "source": [
    "## Prerequisites\n",
    "\n",
    "To do the work in this section, you should already:\n",
    "- Have Anaconda python installed\n",
    "- Be able to open a Jupyter Notebook\n",
    "- Be familiar with linear models and multiple linear models\n",
    "- Be familiar with fitting linear models using `statsmodels` `OLS` regression."
   ]
  },
  {
   "cell_type": "markdown",
   "metadata": {},
   "source": [
    "## Table of Content"
   ]
  },
  {
   "cell_type": "markdown",
   "metadata": {},
   "source": [
    "## Lining it all up - Linear Models, Linear Regression and the Equation for a Line\n",
    "\n",
    "While statistics is incredibly diverse, and can be extremely complex, many statistical methods can be thought of as variations on a simple equation that you have no doubt already been introduced to: the equation for a line `y = mx + b`. \n",
    "\n",
    "In this section, we will discuss many of the statistical tests commonly taught in introductory statistics courses, and show how despite having unique names and histories, many common statistical tests, —ranging from T-tests to ANOVA —  can be seen as rooted in the equation for a line."
   ]
  },
  {
   "cell_type": "markdown",
   "metadata": {},
   "source": [
    "# A T-test as a linear model\n",
    "\n",
    "Many common statistical tests can be thought of as special examples of linear models.\n",
    "\n",
    "Let's use the Student's T-test as an example. T-tests compare measurements of samples in two categories to test the null hypothesis that they come from the same population (meaning that any apparent differences are really just due to chance). \n",
    "\n",
    "For example, if you measured the metabolic rate of larval vs. adult insects and saw a small difference, a T-test could let you tell whether that difference is likely to be explained by chance. \n",
    "\n",
    "Let's simulate some data to test this idea. We've already seen that data falling into two categories can be represented by using 1 to represent that a sample belongs to a category, with any 0 samples assumed to fall into the other. In our example, we could have 1 represent adult insects. If the only other measured category was larvae, then 0 values would represent larvae. (If we had 3 or more categories, we could have separate x values for two of them, with 0's in both x values representing membership in the 3rd category - this strategy is known as one-hot encoding)."
   ]
  },
  {
   "cell_type": "markdown",
   "metadata": {},
   "source": [
    "Let's start by importing the libraries we'll need"
   ]
  },
  {
   "cell_type": "code",
   "execution_count": 20,
   "metadata": {},
   "outputs": [],
   "source": [
    "import pandas as pd\n",
    "import numpy as np\n",
    "import seaborn as sns\n",
    "import matplotlib.pyplot as plt\n",
    "import statsmodels as sm\n",
    "import statsmodels.formula.api as smf"
   ]
  },
  {
   "cell_type": "code",
   "execution_count": 21,
   "metadata": {},
   "outputs": [],
   "source": [
    " \n",
    "def linear_simulation_of_two_categories(x_data,x2_data,slope,slope2,\\\n",
    "  interaction_slope,intercept = 0,error_stdev = 0):\n",
    "    \"\"\"Return y data given x data and parameters\n",
    "    x_data -- a list of x data points (ints or floats)\n",
    "    slope -- the slope of our linear model (m in y=mx+b+error)\n",
    "    intercept -- the intercept of our linear model (b in y=mx+b+error)\n",
    "    error -- the standard deviation of normal errors\n",
    "    \"\"\"\n",
    "    y_predictions = []\n",
    "    for i,x in enumerate(x_data):\n",
    "        x2 = x2_data[i]\n",
    "        error = np.random.normal(loc=0.0,scale = error_stdev,size = None)\n",
    "        y = slope*x + slope2*x2 + x*x2*interaction_slope + intercept + error\n",
    "        y_predictions.append(y)\n",
    "        \n",
    "    return y_predictions"
   ]
  },
  {
   "cell_type": "code",
   "execution_count": 22,
   "metadata": {},
   "outputs": [],
   "source": [
    "def plot_colored_scatterplot(x,y,x2,true_y=None,colors =[\"orange\",\"skyblue\"],markers=[\"^\",\"s\"],\\\n",
    "  labels=[\"Skin Cell\",\"Heart Cell\"],xlabel=\"x\",ylabel=\"y\"):\n",
    "    \"\"\"Plot a colored scatterplot of x vs. y\"\"\"\n",
    "    categories = np.array(x2)\n",
    "    colormap = np.array(colors)\n",
    "      \n",
    "    for i,color in enumerate(colors):\n",
    "            \n",
    "        x_of_this_color = [curr_x for j,curr_x in enumerate(x) if x2[j] == i]\n",
    "        y_of_this_color = [y[j] for j,x in enumerate(x) if x2[j]==i]\n",
    "        \n",
    "        curr_marker = markers[i]\n",
    "        curr_label = labels[i]\n",
    "        plt.scatter(x_of_this_color,y_of_this_color,c=color,marker=curr_marker,label=curr_label)\n",
    "        \n",
    "        if true_y:\n",
    "            x_of_this_color = [curr_x for j,curr_x in enumerate(x) if x2[j] == i]\n",
    "            true_y_of_this_color = [true_y[j] for j,x in enumerate(x) if x2[j]==i]\n",
    "            plt.plot(x_of_this_color,true_y_of_this_color,\"-\",color=color)\n",
    "            \n",
    "    plt.xlabel(xlabel, size = \"xx-large\")\n",
    "    plt.ylabel(ylabel, size = \"xx-large\")\n",
    "    plt.legend()"
   ]
  },
  {
   "cell_type": "code",
   "execution_count": 23,
   "metadata": {},
   "outputs": [
    {
     "data": {
      "text/plain": [
       "Text(0.5, 0, 'Life Stage')"
      ]
     },
     "execution_count": 23,
     "metadata": {},
     "output_type": "execute_result"
    },
    {
     "data": {
      "image/png": "[encoded data removed]",
      "text/plain": [
       "<Figure size 432x288 with 1 Axes>"
      ]
     },
     "metadata": {
      "needs_background": "light"
     },
     "output_type": "display_data"
    }
   ],
   "source": [
    "x =  [0,1]*50\n",
    "x2 = x\n",
    "observed_y = linear_simulation_of_two_categories(x_data = x,x2_data= x2,slope=0,\\\n",
    "  slope2=50.0,interaction_slope=0,intercept=50.0,error_stdev=20.0)\n",
    "\n",
    "\n",
    "from random import random\n",
    "from statistics import mean\n",
    "\n",
    "jitter = 0.5\n",
    "mean_marker_size = 2000\n",
    "mean_marker_style = \"_\" # a horizontal line\n",
    "mean_marker_color = \"black\"\n",
    "\n",
    "jittered_x = [x + (random()-0.5)*jitter for x in x]\n",
    "plot_colored_scatterplot(x=jittered_x,y=observed_y,x2=x2,labels=[\"Larvae\",\"Adults\"])\n",
    "\n",
    "mean_x_larvae = mean([x for i,x in enumerate(x) if x2[i] == 0])\n",
    "mean_y_larvae = mean([y for i,y in enumerate(observed_y) if x2[i] == 0])\n",
    "plt.scatter(mean_x_larvae, mean_y_larvae,marker=mean_marker_style,s = mean_marker_size,c=mean_marker_color)\n",
    "\n",
    "mean_x_adults = mean([x for i,x in enumerate(x) if x2[i] == 1])\n",
    "mean_y_adults = mean([y for i,y in enumerate(observed_y) if x2[i] == 1])\n",
    "plt.scatter(mean_x_adults, mean_y_adults,marker=mean_marker_style,s = mean_marker_size,c=mean_marker_color)\n",
    "\n",
    "\n",
    "\n",
    "plt.xlim(-1,2)\n",
    "plt.xticks([0,1],[\"Larvae\",\"Adults\"],size=\"x-large\")\n",
    "\n",
    "plt.ylabel(\"Metabolic Rate\",size=\"xx-large\")\n",
    "plt.xlabel(\"Life Stage\",size = \"xx-large\")"
   ]
  },
  {
   "cell_type": "code",
   "execution_count": 24,
   "metadata": {},
   "outputs": [
    {
     "name": "stdout",
     "output_type": "stream",
     "text": [
      "                            OLS Regression Results                            \n",
      "==============================================================================\n",
      "Dep. Variable:                      y   R-squared:                       0.591\n",
      "Model:                            OLS   Adj. R-squared:                  0.587\n",
      "Method:                 Least Squares   F-statistic:                     141.8\n",
      "Date:                Thu, 15 Jul 2021   Prob (F-statistic):           9.45e-21\n",
      "Time:                        16:33:30   Log-Likelihood:                -438.29\n",
      "No. Observations:                 100   AIC:                             880.6\n",
      "Df Residuals:                      98   BIC:                             885.8\n",
      "Df Model:                           1                                         \n",
      "Covariance Type:            nonrobust                                         \n",
      "==============================================================================\n",
      "                 coef    std err          t      P>|t|      [0.025      0.975]\n",
      "------------------------------------------------------------------------------\n",
      "Intercept     51.2158      2.768     18.503      0.000      45.723      56.709\n",
      "x2            46.6099      3.914     11.907      0.000      38.842      54.378\n",
      "==============================================================================\n",
      "Omnibus:                        0.249   Durbin-Watson:                   2.134\n",
      "Prob(Omnibus):                  0.883   Jarque-Bera (JB):                0.430\n",
      "Skew:                          -0.010   Prob(JB):                        0.806\n",
      "Kurtosis:                       2.679   Cond. No.                         2.62\n",
      "==============================================================================\n",
      "\n",
      "Warnings:\n",
      "[1] Standard Errors assume that the covariance matrix of the errors is correctly specified.\n"
     ]
    }
   ],
   "source": [
    "df = pd.DataFrame({\"x\":x,\"y\":observed_y,\"x2\":x2})\n",
    "df.set_index(\"x\")\n",
    "\n",
    "model = smf.ols(formula='y ~ x2', data=df)\n",
    "results = model.fit()\n",
    "summary = results.summary()\n",
    "print(summary)"
   ]
  },
  {
   "cell_type": "markdown",
   "metadata": {},
   "source": [
    "## Data with many categories can be represented as linear models\n",
    "\n",
    "Just as we used linear models to represent categorical data when we had 2 categoies, we can similarly extend them to model data with any number of cateories. This is exactly the type of data that is typically analyzed with **ANOVA** (**an**alysis **o**f **va**riance). In introductory stats classes, ANOVA is typically one of the last techniques taught (if it is taught at all). It is usually described as a way to test for significant differneces when you have multiple different categorical values."
   ]
  },
  {
   "cell_type": "markdown",
   "metadata": {},
   "source": [
    "### Representing raw data and interactions using a design matrix\n",
    "\n",
    "In order to best simulate multi-category data, we need to rearrange our simulation a little bit.\n",
    "Previously, we've handled interaction effects by just multiplying together the raw input data (e.g. `x1 * x2 * interaction_slope`). In practice, most statistical software precalculates the product of interacting factors (i.e. x variables) ahead of time. It stores this product, along with all the individual `x`, `x2` and `y` measurements (or whatever other variables are in your model) in a large matrix called a **design matrix**. \n",
    "This matrix typically also includes a column of 1's representing your intercept. Why 1's? Because a slope &beta; times 1 will produce a contant intercept.\n",
    "\n",
    "This probably sounds very complex, but may be a bit simpler with an example.\n",
    "\n",
    "Let's say we have raw data:\n",
    "\n",
    "`y = [20,21,22,123,124,125]\n",
    "x = [0,1,2,3,4,5]\n",
    "x2 = [0,0,0,1,1,1]\n",
    "`\n",
    "\n",
    "If we have model `y ~ x + x2` (a multiple linear model with no interactions), our design matrix would be:\n",
    "\n",
    "| &beta;<sub>0</sub> \t| &beta;<sub>1</sub> \t| &beta;<sub>2</sub> \t|\n",
    "|--------------------\t|--------------------\t|--------------------\t|\n",
    "|          1         \t|          0         \t|          0         \t|\n",
    "| 1                  \t| 1                  \t| 0                  \t|\n",
    "| 1                  \t| 2                  \t| 0                  \t|\n",
    "| 1                  \t| 3                  \t| 1                  \t|\n",
    "| 1                  \t| 4                  \t| 1                  \t|\n",
    "| 1                  \t| 5                  \t| 1                  \t|\n",
    "\n",
    "\n",
    "Read the table like this: &beta;<sub>0</sub> is our **intercept**, &beta;<sub>1</sub> is the slope on our first x variable (x<sub>1</sub>). &beta;<sub>2</sub> is our slope on the second x variable (x<sub>2</sub>).\n",
    "    \n",
    "To find a y value, you just multiply each the entry in each row by the corresponding &beta; value, and then sum up the result.\n",
    "\n",
    "So for example, if we had an intercept of 0 we could set &beta<sub>0</sub> to 0, and the first column would add nothing to our final y value. If we had a slope of 10.0 for our first x variable x<sub>1</sub>, we would set &beta;<sub>1</sub> to 10.0, and each x<sub>1</sub> value would be multiplied by 10, and the result for the first row would be 0 * 10 = 0, while for the last row it would be 5 * 10 = 50."
   ]
  },
  {
   "cell_type": "markdown",
   "metadata": {},
   "source": [
    "**Try it out**. Using the design matrix up above, figure out the y values you would get if &beta;<sub>0</sub> = 20, &beta;<sub>1</sub> = 1.0, and &beta;<sub>3</sub> = 100. Compare them against the y-values up above. You should be able to get the same y-values."
   ]
  },
  {
   "cell_type": "markdown",
   "metadata": {},
   "source": [
    "*Whew*! That's a lot, right? There's just one more idea that will let us incorporate interaction effects (and many other fancy effects) into design matrices. If we want our equation to include some other effect (like an interaction effect), we precalculate the part of that effect that isn't hte slope and stick it in the matrix.\n",
    "\n",
    "Taking our data above, let's say we want to test for an interaction effect between x<sub>1</sub> and x<sub>2</sub>. That interaction effect will be represented by its own slope &beta;<sub>3</sub>.\n",
    "\n",
    "All we do is to take our raw data for x<sub>1</sub> and x<sub>2</sub>, multiply them together ahead of time, and stick them into the design matrix as their own column:\n",
    "\n",
    "| &beta;<sub>0</sub> \t| &beta;<sub>1</sub> \t| &beta;<sub>2</sub> \t| &beta;<sub>3</sub> \t|\n",
    "|--------------------\t|--------------------\t|--------------------\t|--------------------\t|\n",
    "|          1         \t|          0         \t|          0         \t| 0                  \t|\n",
    "| 1                  \t| 1                  \t| 0                  \t| 0                  \t|\n",
    "| 1                  \t| 2                  \t| 0                  \t| 0                  \t|\n",
    "| 1                  \t| 3                  \t| 1                  \t| 3                  \t|\n",
    "| 1                  \t| 4                  \t| 1                  \t| 4                  \t|\n",
    "| 1                  \t| 5                  \t| 1                  \t| 5                  \t|\n",
    "\n",
    "Note that the first three entries of the interaction column are 0's because x<sub>2</sub> is 0 for the first three entries (i.e. 0 * x = 0). All the rest are the same as x<sub>1</sub> because x<sub>2</sub> is 1 for those entries (and 1 * x = x).\n",
    "\n",
    "Hopefully now that we've walked through what these design matrices are, they will sound slightly less intimidating than they first appear.\n",
    "\n"
   ]
  },
  {
   "cell_type": "markdown",
   "metadata": {},
   "source": [
    "### Building design matrices in python\n",
    "\n",
    "In python, the `patsy` library helps build design matrices using a `pandas` dataframe, and an equation for the model you would like to represent. These design matrices can then be input into statistical software like `statsmodels` to conduct regression analysis."
   ]
  },
  {
   "cell_type": "code",
   "execution_count": 27,
   "metadata": {},
   "outputs": [
    {
     "name": "stdout",
     "output_type": "stream",
     "text": [
      "    age     sex species   aggression\n",
      "0     6    male     red   767.155843\n",
      "1    10  female     red  1223.896199\n",
      "2     2    male     red   413.585874\n",
      "3     2  female     red   421.842187\n",
      "4     8    male     red   950.578957\n",
      "5     5  female     red   740.844341\n",
      "6     3    male     red   492.372460\n",
      "7     4  female     red   626.542838\n",
      "8     5    male     red   665.022538\n",
      "9     1  female     red   332.790272\n",
      "10    7    male     red   865.855805\n",
      "11    5  female     red   734.868616\n",
      "12    6    male     red   776.743053\n",
      "13    1  female     red   326.301098\n",
      "14    2    male     red   389.190782\n",
      "15    7  female     red   931.010950\n",
      "16   10    male     red  1118.586139\n",
      "17    3  female     red   531.498614\n",
      "18    2    male     red   406.198030\n",
      "19    2  female     red   436.422032\n",
      "20   10    male     red  1114.074920\n",
      "21    4  female     red   621.853709\n",
      "22   10    male     red  1116.136752\n",
      "23    6  female     red   826.892398\n",
      "24    9    male     red  1041.146158\n",
      "25   10  female     red  1232.416998\n",
      "26    2    male     red   412.797589\n",
      "27    4  female     red   618.865371\n",
      "28    1    male     red   298.053011\n",
      "29    3  female     red   544.472599\n",
      "..  ...     ...     ...          ...\n",
      "70    7    male    blue   662.945312\n",
      "71   10  female    blue  1016.972259\n",
      "72    1    male    blue   119.205416\n",
      "73    3  female    blue   337.966848\n",
      "74    4    male    blue   390.569822\n",
      "75    4  female    blue   436.622486\n",
      "76    3    male    blue   284.466007\n",
      "77    5  female    blue   532.203170\n",
      "78    1    male    blue   101.128135\n",
      "79    2  female    blue   231.927367\n",
      "80    5    male    blue   487.148218\n",
      "81    5  female    blue   542.994889\n",
      "82    1    male    blue   123.913507\n",
      "83    6  female    blue   630.141412\n",
      "84    9    male    blue   861.222541\n",
      "85    2  female    blue   230.271804\n",
      "86    1    male    blue   112.678736\n",
      "87    1  female    blue   150.340474\n",
      "88    4    male    blue   380.203234\n",
      "89    2  female    blue   242.956389\n",
      "90    1    male    blue    98.071902\n",
      "91    7  female    blue   738.777921\n",
      "92    3    male    blue   290.316995\n",
      "93    5  female    blue   513.930205\n",
      "94    3    male    blue   294.599438\n",
      "95    9  female    blue   925.778027\n",
      "96   10    male    blue   923.203259\n",
      "97    8  female    blue   821.571775\n",
      "98    2    male    blue   204.926465\n",
      "99    7  female    blue   738.039095\n",
      "\n",
      "[100 rows x 4 columns]\n"
     ]
    }
   ],
   "source": [
    "from patsy import dmatrices, dmatrix\n",
    "from numpy import array\n",
    "\n",
    "def linear_simulation_of_many_categories(data,equation,slopes,ylabel=\"y\",error_stdev = 10.0):\n",
    "    \"\"\"Return dict or dataframe data with y-values added \n",
    "    \n",
    "    data -- a dict or DataFrame of data \n",
    "    \n",
    "    slopes -- an array of parameters (p) in our linear model with dimensions p x 1.\n",
    "     Note that in y=mx+b+error, both the slope m and the intercept b are fit parameters\n",
    "     Depending on how the equaiton is written, these are the same as beta values/coefficients.\n",
    "    \n",
    "    \n",
    "    error -- the standard deviation of normal errors\n",
    "    \"\"\"\n",
    "    design_matrix = dmatrix(equation,data)\n",
    "    \n",
    "    slopes = array(slopes) #make sure these are an array if they were originally a list\n",
    "    y_predictions = design_matrix.dot(slopes)  #note this is now matrix multiplication \n",
    "    \n",
    "    \n",
    "    #Add normal errors\n",
    "    errors = np.random.normal(loc=0.0,scale = error_stdev,size = len(y_predictions))\n",
    "    y_observations = y_predictions + errors\n",
    "    \n",
    "    data[ylabel] = y_observations\n",
    "        \n",
    "    return data\n",
    "\n",
    "from random import randint\n",
    "N = 100\n",
    "species = array([\"red\"]*int(N/2) + [\"blue\"]*int(N/2))\n",
    "age = array([randint(1,10) for i in range(100)])\n",
    "sex = array([\"male\",\"female\"]*int(N/2))\n",
    "data = pd.DataFrame({\"age\":age,\"sex\":sex,\"species\":species})\n",
    "\n",
    "data = linear_simulation_of_many_categories(data,\"species + age + sex + age:sex\",\\\n",
    "                                            ylabel =\"aggression\",slopes=array([30.0,200.0,-5.0,100,-10]))\n",
    "print(data)"
   ]
  },
  {
   "cell_type": "markdown",
   "metadata": {},
   "source": [
    "Now let's plot our multi-category data:"
   ]
  },
  {
   "cell_type": "code",
   "execution_count": 28,
   "metadata": {},
   "outputs": [
    {
     "data": {
      "image/png": "[encoded data removed]",
      "text/plain": [
       "<Figure size 432x288 with 1 Axes>"
      ]
     },
     "metadata": {
      "needs_background": "light"
     },
     "output_type": "display_data"
    }
   ],
   "source": [
    "import seaborn as sns\n",
    "ax = sns.violinplot(x=\"species\", y=\"aggression\", hue=\"sex\",dodge=True, lw=2, split=True, data=data, inner=None, color=\".8\")\n",
    "ax = sns.stripplot(x=\"species\", y=\"aggression\", hue=\"sex\",dodge=True,lw=3, edgecolor=\"black\", data=data)\n"
   ]
  },
  {
   "cell_type": "markdown",
   "metadata": {},
   "source": [
    "## Summary\n",
    "\n",
    "- T-tests can be represented as a linear model, where the x variable is 0 if the observation is in the first category and 1 if it is in the second.\n",
    "\n",
    "\n",
    "\n",
    "\n",
    "\n",
    "\n",
    "\n"
   ]
  },
  {
   "cell_type": "markdown",
   "metadata": {},
   "source": [
    "## Exercises"
   ]
  },
  {
   "cell_type": "markdown",
   "metadata": {},
   "source": [
    "**Exercise 1**. Describe a T-test."
   ]
  },
  {
   "cell_type": "markdown",
   "metadata": {},
   "source": [
    "**Excercise 2**. Describe how a T-test can be thought of as a special type of linear model."
   ]
  },
  {
   "cell_type": "markdown",
   "metadata": {},
   "source": [
    "## Reading Responses & Feedback \n",
    "\n",
    "^Make this a hyperlink using Google Forms"
   ]
  },
  {
   "cell_type": "markdown",
   "metadata": {},
   "source": [
    "## References & Further Reading\n",
    "\n",
    "Jonas Kristoffer Lindeløv, \"Common statistical tests are linear models\". This outstanding python notebook inspired the discussion in this chapter. Check it out [here](https://eigenfoo.xyz/tests-as-linear/)!\n",
    "\n",
    "StatTrek, \"Interaction Effects in Statistics\". This page has a nice summary of interaction effects(https://stattrek.com/multiple-regression/interaction.aspx#:~:text=In%20regression%2C%20an%20interaction%20effect,or%20more%20other%20independent%20variables.)\n",
    "\n",
    "Russell A. Poldrack, *Statistical Thinking in the 21st Century*. https://statsthinking21.github.io/statsthinking21-core-site/fitting-models.html \n",
    "\n",
    "The Method of Maximum Likelihood for Simple Linear Regression\n",
    "https://www.stat.cmu.edu/~cshalizi/mreg/15/lectures/06/lecture-06.pdf\n",
    "\n"
   ]
  },
  {
   "cell_type": "markdown",
   "metadata": {},
   "source": []
  }
 ],
 "metadata": {
  "kernelspec": {
   "display_name": "Python 3",
   "language": "python",
   "name": "python3"
  },
  "language_info": {
   "codemirror_mode": {
    "name": "ipython",
    "version": 3
   },
   "file_extension": ".py",
   "mimetype": "text/x-python",
   "name": "python",
   "nbconvert_exporter": "python",
   "pygments_lexer": "ipython3",
   "version": "3.7.2"
  }
 },
 "nbformat": 4,
 "nbformat_minor": 2
}
