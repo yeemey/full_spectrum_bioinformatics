{
 "cells": [
  {
   "cell_type": "markdown",
   "metadata": {},
   "source": [
    "# Data Sources for Bioinformatic Projects\n",
    "\n",
    "This section holds information on selected data sources that readers of the text have found useful in the past. It is far from comprehensive. \n",
    "\n",
    "When doing a large-scale bioinformatics project that reanalyzes existing data, you'll want to look for relevant data sources. Usually this involves either a) finding one or more databases with consistent records that you can compare in a way that makes sense to test your hypothesis or b) finding the raw data from multiple papers that have studied the same question using similar methods and so can be fairly compared (this is known as a 'meta-analysis'). Note that typically the paper for any single paper has already been analyzed to answer the questions it was collected to address, and so usually this is a less promising starting point, unless the paper describes a very large or comprehensive dataset that can be used to answer multiple types of questions.\n",
    "\n",
    "The process of finding relevant, reliable, and openly accessible data for a bioinformatic analysis is more art than science. It often involves Google and literature searches with 'database' thrown in liberally. Usually you are looking for databases that allow for 'bulk download' of data (sometimes found in 'Data', 'Download' or similar tabs), and then for relevant data in a format that you can interpret. "
   ]
  },
  {
   "cell_type": "markdown",
   "metadata": {},
   "source": [
    "Some great formats to work with include:\n",
    "\n",
    "- `.csv`  These are comma separated values files. One can image these as text representations of a table. If you image an Excel table, the file basically holds the same data except a comma (',') is placed at the boundary between each column and the next column. This type of file is typically opened using `read_csv` function in the `pandas` python package. This will load the .csv as a `pandas` `DataFrame` object. You can also look at these files by opening Microsoft Excel, then opening the file from within Excel. \n",
    "- `.tsv` (tab-separated values). This is essentially the same as a .csv file, except that a tab character (`\\t`) rather than a comma separates the rows of the table.\n",
    "- FASTA files (which may be labelled `.fasta`,`.fna`,`.faa`, etc depending on the resource and whether the file describes amino acids or protein; can be parsed in python) \n",
    "- `.newick` (for phylogenetic tree data, can be opened with DendroPy or the ETE3 python package)"
   ]
  },
  {
   "cell_type": "markdown",
   "metadata": {},
   "source": [
    "# Genome Data\n",
    "\n",
    "<img src=\"https://www.ncbi.nlm.nih.gov/corehtml/logo256.gif\"\n",
    "     alt=\"NCBI Logo on a blue background\"\n",
    "     style=\"float: left; margin-right: 10px;\" width=\"100\" />\n",
    "     \n",
    "## National Center for Biotechnology Information (NCBI) \n",
    "The NCBI website hosts a huge collection of diverse biological data. Navigating the interface and finding what you want can be a bit tricky. Because this resource is widely used, you may be able to find guides or tutorials for downloading the exact type of data you want. \n",
    "\n",
    "https://www.ncbi.nlm.nih.gov/home/download/\n",
    "\n",
    "I often find the direct FTP download interface to be a useful way to get at underlying data, once you have some idea from papers in the literature what you are looking for:\n",
    "\n",
    "https://ftp.ncbi.nlm.nih.gov\n",
    "\n",
    "Look inside the 'genomes' folder, then 'refseq' and browse by taxonomy. Each genome will have both multiple assemblies (you typically want the latest one), and multiple annotations of the authors best guess as to what the DNA in the assembly represents. For example, if one wanted the cow genome (*Bos taurus*), you might navigate to the NCBI ftp, then genomes, then refseq, then vetebrate_mammalian (since cows are mammals), then bos taurus, and finally to the 'representative' folder holding the assembly + annotation that the NCBI is currently using as its best representative of that organisms genome (with the understanding that few assemblies and virtually no annotations are 100% perfect). Finally, you might look for either the genomic FASTA file (which has each chromosome as a huge FASTA entry): ftp://ftp.ncbi.nlm.nih.gov/genomes/refseq/vertebrate_mammalian/Bos_taurus/representative/GCF_002263795.1_ARS-UCD1.2/GCF_002263795.1_ARS-UCD1.2_cds_from_genomic.fna.gz\n",
    "\n",
    "or the 'cds' file which has each coding sequence or gene as its own FASTA entry: \n",
    "ftp://ftp.ncbi.nlm.nih.gov/genomes/refseq/vertebrate_mammalian/Bos_taurus/representative/GCF_002263795.1_ARS-UCD1.2/GCF_002263795.1_ARS-UCD1.2_cds_from_genomic.fna.gz\n",
    "\n",
    "It's good to note that in the above example, the long web address is just composed of the ftp site, followed by the relative path of the file of interest within that website, with each level of folder being marked by a /. Noticing these kinds of patterns can be very useful if writing code to automate download of many files from a database."
   ]
  },
  {
   "cell_type": "markdown",
   "metadata": {},
   "source": [
    "## Microbial Genomes\n",
    "\n",
    "<img src=\"https://patricbrc.org/patric/images/patric_logo_bg.png\"\n",
    "     alt=\"PATRIC Logo showing a flagellated microbe\"\n",
    "     style=\"float: left; margin-right: 10px;\" width=\"200\"/>\n",
    "\n",
    "## Pathosystems Resource Integration Center (PATRIC) \n",
    "PATRIC, the Pathosystems Resource Integration Center has convenient downloads for FASTA files of bacterial genomes split up by coding sequence. Originally this database was more narrowly focused on disease-causing organisms, but has since broadened in focus.\n",
    "\n",
    "Download a new genome from the PATRIC database.\n",
    "\n",
    "Using the web interface:\n",
    "\n",
    "1. Go to this web address: https://www.patricbrc.org/view/DataType/Genomes\n",
    "\n",
    "2. Click on a genome name.  On the right side of the screen you will see a green tab pop up. Find the icon with the G marked 'Genome'.  Click on it.\n",
    "\n",
    "3. You will now be on a page for that genome.  On the FAR RIGHT you will see a download button.  \n",
    "\n",
    "4. Click it and you will get a ton of options of what to download.  Check the box marked ' DNA Sequences of Protein Coding Genes (*.ffn)'\n",
    "\n",
    "5. Save the file somewhere convenient (the file may be zipped, usually you can double click or right click and select 'Extract all' to unzip it). \n",
    "\n",
    "Alternatively, you can use the ftp interface (it can be slow though): \n",
    "\n",
    "ftp://ftp.patricbrc.org/"
   ]
  },
  {
   "cell_type": "markdown",
   "metadata": {},
   "source": [
    "## Viral Genomes\n",
    "\n",
    "<img src=\"https://www.jcvi.org/sites/default/files/assets/projects/virus-pathogen-resource-vipr/446x446xsidebar-vipr.png.pagespeed.ic.LJS230Zt47.webp\"\n",
    "     alt=\"VIPR logo showing a diagram of several viruses\"\n",
    "     style=\"float: left; margin-right: 10px;\" width=\"100\"/>\n",
    "\n",
    "\n",
    "## The Virus Pathogen Resource (ViPR) viral genomics resource\n",
    "The ViPR database (https://www.viprbrc.org/) holds information for about 14 families of viruses. More information, and links to many papers in the literature using or describing the resource can be found here: https://www.jcvi.org/research/virus-pathogen-resource-vipr\n"
   ]
  },
  {
   "cell_type": "markdown",
   "metadata": {},
   "source": [
    "# Data on Mutations and Polymorphisms\n",
    "\n",
    "<img src=\"https://opensnp.org/assets/opensnp-logo-cd861e3b8abe225a78c83e41a8b34d78c450fa0041a8e7cb0d97f55ac1d3a1eb.png\"\n",
    "     alt=\"The OpenSNP logo with the words OpenSNP\"\n",
    "     style=\"float: left; margin-right: 10px;\" width=\"100\"/>\n",
    "\n",
    "\n",
    "## Open SNP Single Nucleotide Polymorphism (SNP) Data in Humans \n",
    "\n",
    "OpenSNP has an ~15 GB download of user SNP data and a CSV file of associated phenotypes (eye color, handedness,etc). Download the raw data here:\n",
    "https://www.opensnp.org/genotypes"
   ]
  },
  {
   "cell_type": "markdown",
   "metadata": {},
   "source": [
    "# Epigenetic Data"
   ]
  },
  {
   "cell_type": "markdown",
   "metadata": {},
   "source": [
    "<img src=\"https://portal.gdc.cancer.gov/static/media/NHI_GDC_DataPortal-logo.23e6ca47.svg\"\n",
    "     alt=\"The OpenSNP logo with the words OpenSNP\"\n",
    "     style=\"float: left; margin-right: 10px;\" width=\"200\"/>\n",
    "\n",
    "## Epigenetics Data from the National Institute of Health Genomics Data Commons Cancer Data\n",
    "\n",
    "This unified cancer resource is maintained by the U.S. National Institute of Health (NIH) Genomics Data Commons (GDC) Student groups interested in epigenetics and DNA methylation have used the Genomics Data Commons resources on cancer. Critically these resources include both data on methylation and exposures (so the two can be correlated).\n",
    "The interface for bulk data download was a little bit tricky but otherwise we found this resource very useful:\n",
    "https://portal.gdc.cancer.gov/"
   ]
  },
  {
   "cell_type": "markdown",
   "metadata": {},
   "source": [
    "# Transcriptomic Data\n",
    "\n",
    "Transcriptomic data measures the level of transcription from various genes in the genome. It is useful for studying how organisms alter their physiology in response to external (stress, infection, etc) or internal conditions (development).\n",
    "\n",
    "\n",
    "\n",
    "<img src=\"https://www.ebi.ac.uk/arrayexpress/assets/images/ae-logo-64.svg\"\n",
    "     alt=\"A circular ArrayExpress logo with the letters A and E in bright colors\"\n",
    "     style=\"float: left; margin-right: 10px;\" width=\"100\"/>\n",
    "     \n",
    "## ArrayExpress\n",
    "The [ArrayExpress](https://www.ebi.ac.uk/arrayexpress/) database has both raw microarray and RNA-seq data and metadata files that say what each sample is (e.g. treatment vs. control). This is important because it is often easier to get the molecular (e.g. RNA sequence) data, than the metadata (which sample is from a sick patient and which is from a healthy one?) that make that molecular data make sense. Look for sdrf (sample-data relationship files) files and download them along with your fasta files. They will be .tsv files that open in Microsoft Excel. https://www.ebi.ac.uk/arrayexpress/\n",
    "\n",
    "Getting the data: head to Browse, then click the orange filter button in the upper left to apply filters (e.g. I just want corn so I click Zea mays under organisms). This gives a list of studies filtered by your criteria. Clicking on study ids will let you download the raw data.\n",
    "\n",
    "**Advanced RNA-seq tutorial:** this paper (Links to an external site.) has a Jupyter Notebook in python that draws on a Docker container to analyze a Zika virus dataset. (Docker containers hold software in its own 'environment' separate from your system - that let's you run software within the Docker container without installing it onto your system). I haven't used it personally but it looks promising\n",
    "\n"
   ]
  },
  {
   "cell_type": "markdown",
   "metadata": {},
   "source": [
    "# Microbial Community Data\n",
    "\n",
    "<img src=\"https://qiita.ucsd.edu/static/img/logo-clear.png\"\n",
    "     alt=\"The QIITA logo, formed by the word QIITA with a Cheetah behind it\"\n",
    "     style=\"float: left; margin-right: 10px;\" width=\"100\"/>\n",
    "\n",
    "\n",
    "## The QIITA microbiome data resource\n",
    "QIITA has feature tables and metadata for many microbial ecology projects publicly available. One advantage of QIITA for class projects is that the 'feature table' that describe which microbes are in which samples are already pre-calculated, making it easier to jump right in to analysis. These can then be imported into the `qiime2` software package, which has a python interface. https://qiita.ucsd.edu/. **Fun fact:** although not widely popularized, the name QIITA stands for 'Quantitative Insights into Totally Awesome', a play on the name of the QIIME microbiome analysis software, which stands for 'Quantitative Insights into Microbial Ecology'.\n",
    "\n",
    "\n",
    "\n"
   ]
  },
  {
   "cell_type": "markdown",
   "metadata": {},
   "source": [
    "# Protein Structure Data"
   ]
  },
  {
   "cell_type": "markdown",
   "metadata": {},
   "source": [
    "<img src=\"https://cdn.rcsb.org/wwpdb/img/core/wwpdb-logo.png\"\n",
    "     alt=\"The Worldwide Protein Data Bank logo\"\n",
    "     style=\"float: left; margin-right: 10px;\" width=\"150\"/>\n",
    "\n",
    "\n",
    "## The Worldwide Protein Databank  (wwPDB)\n",
    "\n",
    "The Worldwide Protein Databank (wwPDB or just PDB) allows for download of coordinate files describing protein's 3D shape, as well as the shape of RNAs and complex assemblies of multiple protein and RNA components: https://www.wwpdb.org/ftp/pdb-ftp-sites. You can also download directly from the FTP sites in different countries, such as the us Research Centers in Structural Biology (RCSB) FTP site: https://www.rcsb.org/#Category-download"
   ]
  },
  {
   "cell_type": "markdown",
   "metadata": {},
   "source": [
    "# Coronavirus Structure & Sequence"
   ]
  },
  {
   "attachments": {},
   "cell_type": "markdown",
   "metadata": {},
   "source": [
    "<img src=\"https://coronavirus3d.org/favicon.png\"\n",
    "     alt=\"The Coronavirus3d logo\"\n",
    "     style=\"float: left; margin-right: 10px;\" width=\"150\"/>\n",
    "\n",
    "## CoronaVirus 3D\n",
    "\n",
    "A resource documenting coronavirus mutations and allowing visualization\n",
    "of where they fall on 3D sturctures of coronavirus proteins.\n",
    "https://coronavirus3d.org/#/\n",
    "\n",
    "*hat-tip to Jocel Clark, Jenny Harston, and Nathasya Asnawi for making me aware of this resource*"
   ]
  },
  {
   "cell_type": "markdown",
   "metadata": {},
   "source": [
    "<img src=\"https://www.ncbi.nlm.nih.gov/core/assets/sars_cov_2/images/data-submission-640.jpg\"\n",
    "     alt=\"NCBI coronavirus graphic, showing a hand with tweezers pulling DNA out of a coronavirus\"\n",
    "     style=\"float: left; margin-right: 10px;\" width=\"150\"/>\n",
    "\n",
    "\n",
    "## The NCBI SARS-CoV2 Resource Page\n",
    "\n",
    "This page contains multiple resources from the NCBI pertaining to SARS-CoV2 viruses: https://www.ncbi.nlm.nih.gov/sars-cov-2/"
   ]
  },
  {
   "cell_type": "markdown",
   "metadata": {},
   "source": [
    "# Fossil Data"
   ]
  },
  {
   "cell_type": "markdown",
   "metadata": {},
   "source": [
    "<img src=\"https://paleobiodb.org/build/img/logo_black.png\" alt=\"The Paleobiology Database logo, showing icons for different taxa arranged circularly around a globe.\" style=\"float: left; margin-right: 10px;\" width=\"150\"/>\n",
    "\n",
    "## Paleobiology Database of Global Foosil Records\n",
    "\n",
    "The Paleobiology database has raw data on the fossil record, and where different fossils have been found over time. All data is available as bulk download in .csv files.\n",
    "\n",
    "https://paleobiodb.org/#/"
   ]
  },
  {
   "cell_type": "markdown",
   "metadata": {},
   "source": [
    "# Bioacoustic Data"
   ]
  },
  {
   "cell_type": "markdown",
   "metadata": {},
   "source": [
    "\n",
    "<img src=\"https://www.xeno-canto.org/sounds/uploaded/INCBVJJLBJ/ffts/XC370845-small.png\" alt=\"The Paleobiology Database logo, showing icons for different taxa arranged circularly around a globe.\" style=\"float: left; margin-right: 10px;\" width=\"150\"/>\n",
    "\n",
    "## Xenocanto birdsong database. \n",
    "\n",
    "The Xenocanto database is a bird sound recording database. It has manual access and download of about 635,000 bird calls. It also has an API (application programming interface) that may allow for automation of bulk downloads. However, a direct built-in option to bulk download calls wasn't obvious to me. Explore all calls here: https://www.xeno-canto.org/explore?dir=0&order=xc "
   ]
  },
  {
   "cell_type": "markdown",
   "metadata": {},
   "source": [
    "# Neurobiology Data\n",
    "\n",
    "## Electroencephalogram Data\n",
    "\n",
    "This GitHub page maintained by Mohit Agarwal lists publicly available electroencephalogram data from several sources.\n",
    "https://github.com/meagmohit/EEG-Datasets"
   ]
  },
  {
   "cell_type": "code",
   "execution_count": null,
   "metadata": {},
   "outputs": [],
   "source": []
  },
  {
   "cell_type": "code",
   "execution_count": null,
   "metadata": {},
   "outputs": [],
   "source": []
  }
 ],
 "metadata": {
  "kernelspec": {
   "display_name": "Python 3",
   "language": "python",
   "name": "python3"
  },
  "language_info": {
   "codemirror_mode": {
    "name": "ipython",
    "version": 3
   },
   "file_extension": ".py",
   "mimetype": "text/x-python",
   "name": "python",
   "nbconvert_exporter": "python",
   "pygments_lexer": "ipython3",
   "version": "3.7.2"
  }
 },
 "nbformat": 4,
 "nbformat_minor": 2
}
