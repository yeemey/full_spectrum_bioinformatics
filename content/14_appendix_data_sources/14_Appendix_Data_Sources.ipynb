{
 "cells": [
  {
   "cell_type": "markdown",
   "metadata": {},
   "source": [
    "# Data Sources for Bioinformatic Projects\n",
    "\n",
    "This section holds information on selected data sources that readers of the text have found useful in the past. It is far from comprehensive. Typically, you'll want to look for relevant data sources when doing a large-scale bioinformatics project. This is more art than science (i.e. Google and literature searches with 'database' thrown in liberally are often involved). Usually you are looking for databases that allow for 'bulk download' of data (sometimes found in 'Data', 'Download' or similar tabs), and then for relevant data in a format that you can interpret. "
   ]
  },
  {
   "cell_type": "markdown",
   "metadata": {},
   "source": [
    "Some great formats to work with include:\n",
    "\n",
    "- `.csv`  These are comma separated values files. One can image these as text representations of a table. If you image an Excel table, the file basically holds the same data except a comma (',') is placed at the boundary between each column and the next column. This type of file is typically opened using `read_csv` function in the `pandas` python package. This will load the .csv as a `pandas` `DataFrame` object. You can also look at these files by opening Microsoft Excel, then opening the file from within Excel. \n",
    "- `.tsv` (tab-separated values). This is essentially the same as a .csv file, except that a tab character (`\\t`) rather than a comma separates the rows of the table.\n",
    "- FASTA files (which may be labelled `.fasta`,`.fna`,`.faa`, etc depending on the resource and whether the file describes amino acids or protein; can be parsed in python) \n",
    "- `.newick` (for phylogenetic tree data, can be opened with DendroPy or the ETE3 python package)"
   ]
  },
  {
   "cell_type": "markdown",
   "metadata": {},
   "source": [
    "# Genome Data\n",
    "\n",
    "\n",
    "National Center for Biotechnology Information (NCBI) hosts a huge collection of diverse data. Navigating the interface and finding what you want can be a bit tricky. I often find the direct download interface to be a useful way to get at underlying data:\n",
    "\n",
    "https://www.ncbi.nlm.nih.gov/home/download/\n"
   ]
  },
  {
   "cell_type": "markdown",
   "metadata": {},
   "source": [
    "## Microbial Genomes\n",
    "\n",
    "PATRIC has convenient downloads for FASTA files of bacterial genomes split up by coding sequence.\n",
    "\n",
    "Download a new genome from the PATRIC database.\n",
    "\n",
    "Using the web interface:\n",
    "\n",
    "1. Go to this web address: https://www.patricbrc.org/view/DataType/Genomes\n",
    "\n",
    "2. Click on a genome name.  On the right side of the screen you will see a green tab pop up. Find the icon with the G marked 'Genome'.  Click on it.\n",
    "\n",
    "3. You will now be on a page for that genome.  On the FAR RIGHT you will see a download button.  \n",
    "\n",
    "4. Click it and you will get a ton of options of what to download.  Check the box marked ' DNA Sequences of Protein Coding Genes (*.ffn)'\n",
    "\n",
    "5. Save the file somewhere convenient (the file may be zipped, usually you can double click or right click and select 'Extract all' to unzip it). \n",
    "\n",
    "Alternatively, you can use the ftp interface (it can be slow though): \n",
    "\n",
    "ftp://ftp.patricbrc.org/"
   ]
  },
  {
   "cell_type": "markdown",
   "metadata": {},
   "source": [
    "## Viral Genomes\n",
    "\n",
    "Viper viral genomics resource\n",
    "https://www.viprbrc.org/"
   ]
  },
  {
   "cell_type": "markdown",
   "metadata": {},
   "source": [
    "# Data on Mutations and Polymorphisms\n",
    "\n",
    "## Single Nucleotide Polymorphism (SNP) Data in Humans \n",
    "\n",
    "OpenSNP has an ~15 GB download of user SNP data and a CSV file of associated phenotypes (eye color, handedness,etc). Download the raw data here:\n",
    "https://www.opensnp.org/genotypes"
   ]
  },
  {
   "cell_type": "markdown",
   "metadata": {},
   "source": [
    "# Epigenetic Data"
   ]
  },
  {
   "cell_type": "markdown",
   "metadata": {},
   "source": [
    "## Epigenetics Data from the Genomics Data Commons Cancer Data\n",
    "\n",
    "Student groups interested in epigenetics and DNA methylation have used the Genomics Data Commons resources on \n",
    "cancer. Critically these resources include both data on methylation and exposures (so the two can be correlated).\n",
    "The interface for bulk data download was a little bit tricky but otherwise we found this resource very useful:\n",
    "https://portal.gdc.cancer.gov/"
   ]
  },
  {
   "cell_type": "markdown",
   "metadata": {},
   "source": [
    "# Transcriptomic Data\n",
    "\n",
    "Transcriptomic data measures the level of transcription from various genes in the genome. It is useful for studying how organisms alter their physiology in response to external (stress, infection, etc) or internal conditions (development).\n",
    "\n",
    "## ArrayExpress\n",
    "\n",
    "The [ArrayExpress](https://www.ebi.ac.uk/arrayexpress/) database has both raw microarray and RNA-seq data and critically provides metadata files that say what each sample is (e.g. treatment vs. control). Look for sdrf (sample-data relationship files) files and download them along with your fasta files. They will be .tsv files that open in Microsoft Excel. https://www.ebi.ac.uk/arrayexpress/\n",
    "\n",
    "Getting the data: head to Browse, then click the orange filter button in the upper left to apply filters (e.g. I just want corn so I click Zea mays under organisms). This gives a list of studies filtered by your criteria. Clicking on study ids will let you download the raw data.\n",
    "\n",
    "**Advanced RNA-seq tutorial:** this paper (Links to an external site.) has a Jupyter Notebook in python that draws on a Docker container to analyze a Zika virus dataset. (Docker containers hold software in its own 'environment' separate from your system - that let's you run software within the Docker container without installing it onto your system). I haven't used it personally but it looks promising\n",
    "\n"
   ]
  },
  {
   "cell_type": "markdown",
   "metadata": {},
   "source": [
    "# Microbial Community Data\n",
    "\n",
    "\n",
    "## QIITA \n",
    "QIITA has feature tables and metadata for many microbial ecology projects publicly available. One advantage of QIITA for class projects is that the 'feature table' that describe which microbes are in which samples are already pre-calculated, making it easier to jump right in to analysis. These can then be imported into the `qiime2` software package, which has a python interface. https://qiita.ucsd.edu/ \n",
    "\n",
    "\n",
    "\n"
   ]
  },
  {
   "cell_type": "markdown",
   "metadata": {},
   "source": [
    "# Protein Structure Data"
   ]
  },
  {
   "cell_type": "markdown",
   "metadata": {},
   "source": [
    "## Protein Databank  \n",
    "\n",
    "The Protein Databank (PDB) allows for download of coordinate files describing protein's 3D shape:\n",
    "https://www.rcsb.org/#Category-download"
   ]
  },
  {
   "cell_type": "markdown",
   "metadata": {},
   "source": [
    "# Coronavirus Structure & Sequence"
   ]
  },
  {
   "cell_type": "markdown",
   "metadata": {},
   "source": [
    "## CoronaVirus 3D\n",
    "(hat-tip to Jocel Clark, Jenny Harston, and Nathasya Asnawi)\n",
    "\n",
    "A resource documenting coronavirus mutations and allowing visualization\n",
    "of where they fall on 3D sturctures of coronavirus proteins.\n",
    "https://coronavirus3d.org/#/"
   ]
  },
  {
   "cell_type": "markdown",
   "metadata": {},
   "source": [
    "## The NCBI SARS-CoV2 Resource Page\n",
    "https://www.ncbi.nlm.nih.gov/sars-cov-2/"
   ]
  },
  {
   "cell_type": "markdown",
   "metadata": {},
   "source": [
    "# Fossil Data"
   ]
  },
  {
   "cell_type": "markdown",
   "metadata": {},
   "source": [
    "## Paleobiology Database\n",
    "\n",
    "This database has raw data on the fossil record, and where different fossils have been found over time\n",
    "\n",
    "https://paleobiodb.org/#/"
   ]
  },
  {
   "cell_type": "markdown",
   "metadata": {},
   "source": [
    "# Bioacoustic Data"
   ]
  },
  {
   "cell_type": "markdown",
   "metadata": {},
   "source": [
    "## Xenocanto birdsong database. \n",
    "\n",
    "This is a bird sound recording database. It has manual access and download of about 635,000 bird calls. It also has an API (application programming interface) that may allow for automation of bulk downloads. However, a direct built-in option to bulk download calls wasn't obvious to me. Explore all calls here: https://www.xeno-canto.org/explore?dir=0&order=xc (Links to an external site.) "
   ]
  },
  {
   "cell_type": "markdown",
   "metadata": {},
   "source": [
    "# Neurobiology Data\n",
    "\n",
    "## Electroencephalogram Data\n",
    "https://github.com/meagmohit/EEG-Datasets"
   ]
  }
 ],
 "metadata": {
  "kernelspec": {
   "display_name": "Python 3",
   "language": "python",
   "name": "python3"
  },
  "language_info": {
   "codemirror_mode": {
    "name": "ipython",
    "version": 3
   },
   "file_extension": ".py",
   "mimetype": "text/x-python",
   "name": "python",
   "nbconvert_exporter": "python",
   "pygments_lexer": "ipython3",
   "version": "3.7.2"
  }
 },
 "nbformat": 4,
 "nbformat_minor": 2
}
