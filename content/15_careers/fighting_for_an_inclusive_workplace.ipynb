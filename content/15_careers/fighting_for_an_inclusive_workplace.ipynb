{
 "cells": [
  {
   "cell_type": "markdown",
   "metadata": {},
   "source": [
    "# Fighting For an Inclusive Workplace"
   ]
  },
  {
   "cell_type": "markdown",
   "metadata": {},
   "source": [
    "## In this section \n",
    "\n",
    "In this section, we will discuss ideas for actions one can take to promote a just, inclusive, and fair workplace. \n"
   ]
  },
  {
   "cell_type": "markdown",
   "metadata": {},
   "source": [
    "## Prerequisites\n",
    "\n",
    "None"
   ]
  },
  {
   "cell_type": "markdown",
   "metadata": {},
   "source": [
    "## Table of Content"
   ]
  },
  {
   "cell_type": "markdown",
   "metadata": {},
   "source": [
    "[TODO]"
   ]
  },
  {
   "cell_type": "markdown",
   "metadata": {},
   "source": [
    "## Ideas for action\n",
    "\n",
    "Making our workplaces more inclusive, equitable, and diverse is a big undertaking. For most of us, there are many cultural messages that have to be chipped away at over time. There is a danger that if your metric for success is everything-or-nothing, and if you are from a majority group for whom attention to DEI may not be necessary for professional survival,  you might become frustrated and give up. Therefore, in my opinion, it is a good idea to consider improving your DEI practices as an ongoing process. Notably, this is exactly the same way we think about science: we know we're not going to gain perfect understanding of our fields in our lifetimes, but we can build an understanding that exceeds what was known in the past.\n",
    "\n",
    "What one practice could you begin this week (and sustain in the future) that would make your workplace more inclusive, accessible, or welcoming to all?"
   ]
  },
  {
   "cell_type": "markdown",
   "metadata": {},
   "source": [
    "## Promoting social justice as an undergraduate student\n",
    "\n",
    "### Consider your own biases carefully when writing student evaluations. \n",
    "Research has shown that numerical scores on student evaluations often show bias against URM faculty, women faculty, and gender non-conforming faculty. Stories abound in differences in student feedback when faculty who are men and faculty who are women have (secretly) switched text-based online class sections. In comparing remarks on my own student evaluations (I am white and male) with a Black faculty member in my division, there were shocking discrepancies between how mildly students reacted to  mistakes I made (video lectures were sometimes posted late), vs. the very strong and vitriolic responses to Black faculty member (who posted a single video lecture late). Of course, all instructors make mistakes, and *constructive* criticism is useful. However, one power that you have when filling out student evaluations (or in any other evaluative position) is to consider whether the tone, style, and intensity of comments meet the same standards of professionalism you would hope an instructor would use in evaluating your work. For example, it would be strange or downright creepy if an instructor commented on a students appearance in feedback. While your negative feedback might be valid, would you write it the same for an instructor from another background?"
   ]
  },
  {
   "cell_type": "markdown",
   "metadata": {},
   "source": [
    "### Consider becoming involved in campus activism\n",
    "[Student activism](https://en.wikipedia.org/wiki/Student_activism) can shape campuses, communities, and indeed whole countries in important ways. It is worth a few minutes of your time to read the [list of policies](https://en.wikipedia.org/wiki/Student_activism) that have changed in countries all over the world as a result of student activism. \n",
    "\n",
    "As one example, in the United States, most [Ethnic studies](https://en.wikipedia.org/wiki/Ethnic_studies#:~:text=Ethnic%20studies%20is%20an%20academic,literature%2C%20sociology%2C%20political%20science%2C) and Women's studies departments arose in large part in response to sustained student pressure that grew out of the Civil Right's movement during the 1960's and 1970's. For instance, at UC Berkeley, a coalition of groups led by Ysidro Macias, Richard Aoki, Charlie Brown, and LaNada Means led a protracted student strike - even in the face of police intervention- to establish an Ethnic studies program. \n",
    "\n",
    "Not all student activism is that dramatic, but actions that quietly establish norms of behavior are very important as well. If students introduce themselves along with their pronouns, or begin each presentation with a land acknowledgement, you can bet that faculty and other students will take notice, and perhaps become more aware of viewpoints that are not always in the foreground.\n",
    "\n",
    "Although public universities in the United States cannot themselves - in their official functions - directly endorse particular politicians or parties, they can conduct education and outreach around important issues. They may also be able to share some of their networks of alumni contacts with student activists engaged in fighting for human rights issues. For instance, after making very slow progress in reforming university policies, [student activists at Rice University](https://www.insidehighered.com/news/2020/06/09/students-organize-racial-justice-campus-and) led by Summar McGee bypassed university bureaucracies to raise more than $93,000 for racial justice organizations from university alumni, staff, and administrators in less than 24 hours.\n",
    "\n",
    "\n",
    "Political activism can also yield important changes to academic life and its broader social context. As a student of bioinformatics, you will be better prepared than many to use data to support your arguments. If paired with humility, open-mindedness and careful listening to those most affected by the issues you are weighing in on, this ability can enhance your ability to contribute to the political life of your community.  I will direct some remarks about the specifics of how this might be accomplished primarily at the United States, as that is the system I am most familiar with."
   ]
  },
  {
   "cell_type": "markdown",
   "metadata": {},
   "source": [
    "##### Contacting elected representatives in the United States\n",
    "\n",
    "It is worth considering all the levels of government (as well as other actors) that could make a positive impact on an issue that you think is important. For me, this might include my 6 city councilor and my mayor, the 5 members of my county council (which oversees the limited public health care offered in my area at the county level), my representative (congressperson), my two senators, and my governor. It is well worth a half-hours worth of effort to find the numbers for these representatives and put them into your phone. When an issue arises, you will then be ready get in touch with your representatives to help address it, and to help coordinate other like-minded activists on social media. \n",
    "\n",
    "You may also consider the actions that might be taken by other actors in civil society: local businesses, clubs and organizations, religious communities, local newspapers or neighborhood organizations. Sometimes the organizations through which one can make a difference can be surprising. In my city of Bothell for example, runners groups have become very active on issues of anti-racism. \n",
    "\n",
    "You might brainstorm what action each of these actors could take that would help improve your issue (e.g. by issuing a statement, contributing funds, passing a policy, or covering an issue), and how you might most effectively encourage or pressure them to take that action.\n",
    "\n",
    "In general, your most effective actions will be coordinated with others. You may find that if you are acting alone or with a small group of people, your greatest leverage may be found with smaller actors with whom you already have some sort of relationship. \n",
    "\n",
    " If you have never called an elected representative before, you may be surprised at how influential a small group of activists can be on local officials. In the United States, the typical congressional office is not so much larger than an academic lab. If you have an issue of concern, you are allowed to call your congressional representative to discuss these concerns. You might ask the staff person the representative's position on a particular issue or bill, encourage or condemn the representative's planned votes  or seek help in navigating a bureaucratic issue for which all other avenues have proven fruitless.  \n",
    "\n",
    "Generally, the volume of communication from the public that a politician receives is roughly proportional to the area they represent. Even members of the U.S. house of representatives may not receive a very large number of calls on any given day. \n",
    "\n",
    "You can maximize your impact by focusing on contacting your own representatives, using personalized means of communication. Representatives will generally pay the most attention to contact from constituents within their district, since that is who determines if they will be re-elected or not. They will also pay more attention to communications that come in the form of face-to-face contact, and intermediate amount of attention to phone calls or personal letters, and least attention to online contacts, form letters, or copy-and-pasted e-mails. Organizing coordinated contacts with just a small group of friends or fellow students - especially if you give your organization a name and logo - can exponentially increase your impact. All that said, *any* contact is better than none.\n",
    "\n",
    "#### Offering comments at local meetings \n",
    "\n",
    " If you live in a small to medium-sized community, and call a member of your city council, or offer a comment at a city council meeting, it might be one of the only ones they here.  Mayors of smaller communities may be similarly responsive. \n",
    "\n",
    "If you have personally been affected by an issue, you might testify at a city council meeting. Personal stories from specific people can play an important role in the outcome of local legislation."
   ]
  },
  {
   "cell_type": "markdown",
   "metadata": {},
   "source": [
    "## Promoting Social Justice as a graduate student or postdoc\n",
    "\n",
    "### In presentations\n",
    "\n",
    "**Ensure figures are visible to folks with impaired vision**. People vary greatly in visual acuity. High contrast slides and figures, clear declarative titles conveying the main message of the figure, and *plain text* summaries beneath each figure can help convey the message for folks with impaired vision.\n",
    "\n",
    "**Ensure figures are colorblind safe**. About 1 in 20 people are colorblind in some way, with men being most commonly affected. In addition, up to 1 in 16 men are affected by deuteranomaly. Therefore, if there is a reasonably large audience, you can almost be guaranteed that someone in that audience will not be able to distinguish e.g. red and green in your charts. A simple change is to use existing colorblind-safe palettes (such as the IBM or [Wong et al., 2011](https://www.nature.com/articles/nmeth.1618) palettes). \n",
    "\n",
    "If you have strong color preferences you can use a simulation tool like ([this one](https://davidmathlogic.com/colorblind/#%2392F90B-%23FDAC01-%23FF13AA-%230B4FAF) to check whether or not your color scheme can be distinguished by folks with colorblindness, and adjust accordingly.\n",
    "\n",
    "For instance, I personally often use this 4-color palette: Bright green ( RGB 146,249,11), Orange (RGB 253,173,1), Magenta (RGB 255,19,170), and Deep Blue (RGB 11,79,175)."
   ]
  },
  {
   "cell_type": "markdown",
   "metadata": {},
   "source": [
    "### In classes that you teach\n",
    "\n",
    "**Pay attention to course structure**. In addition to being generally good teaching, having strong, clear, and well-considered structures in place for how your course runs is also an important way to promote an inclusive classroom. For example, if you don't have any particular plan in mind for how you will call on students, it is quite common for a small handful of students — who likely don't represent the full diversity of the classroom — to respond to every question. \n",
    "\n",
    "**Take special care when describing medical conditions**. It is important to avoid using adjectives as nouns when talking about people with a condition: \"Hrithik has arthritis\" is more humanizing than \"Hrithik is arthritic\" because it doesn't imply that the sum of Hrithik's personhood is defined by their arthritis. (Example courtesy of the BioDiversify seminar on Disability). However, terms of self-description vary over time and between people, so some attention to current trends and individual preferences is important.  \n",
    "\n",
    "**Humanize historical figures **. Science is ultimately done by humans - with all the bizarre obsessions, frailties, odd world-views, and strange stories that go along with humanity. Presenting scientists in their whole personhood may give students permission to view themselves and their full personhood as part of the scientific project. It is also useful in adjusting notions that science is a steady march of progress advanced by geniuses. Instead, many discoveries were converged on by multiple people at similar times, and even in cases where lone individuals did make amazing contributions, those same individuals were often also wrong about a great many of their other ideas. \n",
    "\n",
    "**Discuss past and present systemic racism in science**. Many influential figures in statistics and population genetics were committed and explicit racists, who provided intellectual cover for the eugenics movement. Discussing the scientific contributions of these figures without acknowledging these aspects of their legacy is guaranteed to make some students feel excluded. In contrast, reflecting on the social norms and values that led past scientists to endorse atrocities, and how they may have been influenced by systemic racism, may lead naturally to reflection on which commonly accepted beliefs *we* might hold that from a more informed perspective are in fact horrific. Counter-examples of scientists who pushed against social trends of their time may provide models.\n",
    "\n",
    "**Record lectures and enable closed captioning.** This can help students whose first language is not the same as that used in class (by allowing them to rewatch lectures), and automatic closed captioning can provide some support to deaf or hearing-impaired students (though not replacing a professional captionist). When answering questions in a recorded video, be sure to repeat the audience question - otherwise it will not be captioned and some students may be left not knowing what question is being answered.\n",
    "\n",
    "**Normalize specifying pronouns**. By stating your own pronouns at the start of your class, you open the door for students to do the same. This will not make much of a difference for many students, but for non-binary or trans students this can be an important step to ensuring they are addressed properly in class. \n",
    "\n",
    "**Land acknowledgements**. Many universities in the United States are built on unceded land belonging to native peoples. Land acknowledge this history at the start of a new course section, meeting, or in email signatures. While not an end goal, taking a moment to learn about the specific history of the land on which your university sits, and  acknowledging that history can be a first step towards building awareness and momentum for other actions to redress historical wrongs. If you work or study at a land-grant university in the United States, the article [\"Land Grab Universities\"](https://www.hcn.org/issues/52.4/indigenous-affairs-education-land-grab-universities) (and underlying data & code) provide an excellent starting place to identify whether land expropriated from native peoples was used as seed money to fund the institution.\n",
    "\n",
    "**Incorporation of Indigenous Knowledge and Biotechnology**. Formal or western science is not the only science that has happened in human history. For example, a huge proportion of modern agricultural products are based on biotechnology developed in the Americas prior to sustained contact with Europe. Inclusion of discoveries from many sites around the world — and how those discoveries interconnect — can help tell a more complete story, while also pushing back against racist notions that only one group of people in  history did much to advance human understanding. "
   ]
  },
  {
   "cell_type": "markdown",
   "metadata": {},
   "source": [
    "### Promoting social justice as a member of a lab or research group\n",
    "\n",
    "**Establish a lab DEI policy**. This can then be posted to the lab website. There are outstanding examples available (see e.g. http://www.owlnet.rice.edu/~ac53/guiding-principles-of-diver.html)\n",
    "\n",
    "**Letters of Recommendation**. Letters of recommendation are important documents that can have a major impact on careers, yet they are often subject to bias.  \n",
    "https://csw.arizona.edu/sites/default/files/avoiding_gender_bias_in_letter_of_reference_writing.pdf\n",
    "\n",
    "**Field work safety**. People with marginalized identities may need to plan for safety in ways that those without such identities do not. Your laboratory can help support this by planning field safety. https://www.nature.com/articles/s41559-020-01328-5"
   ]
  },
  {
   "cell_type": "markdown",
   "metadata": {},
   "source": [
    "### Promoting social justice as a developer of code, software, or websites\n",
    "\n",
    "**Check the accessibility of websites you maintain**. A checklist for web developers is available from [A11y](https://www.a11yproject.com/checklist/).\n",
    "\n",
    " **Universal Design and the Cut Curb effect**. Often, by making your projects more accessible to people with disabilities, you may also make them more useful in a variety of unexpected cases. For example, adding 'alt text' descriptions to images so that they can be understood by readers who use a screen reader (e.g. because they are blind or have low vision) may also help preserve meaning if for some reason an image fails to load for some users. This idea is known as [The Cut Curb effect](https://ssir.org/articles/entry/the_curb_cut_effect), named after 'cut curbs' added to sidewalks to accommodate wheelchairs. However, these cut curbs are also useful for parents pushing baby strollers, shoppers with full shopping carts, skateboarders, etc. Changes that you make to accommodate a vulnerable group (e.g. people with disabilities) can improve the experience for everyone — an idea  thereby exemplifying the value of universal design.\n",
    "\n",
    "**Add a code of conduct to software projects on GitHub**. The discussions in any online forum, including the comments on code, can easily become vehicles for harassment. Therefore, many groups add codes of conduct to help establish baseline rules for how to engage. For example, software professional Coraline Ehmke developed the code_of_conduct.md that appears in many developer profiles and GitHub projects (https://where.coraline.codes/). You can promote inclusion in software projects that you lead by adopting a code of conduct, and enforcing its provisions when moderating discussions. \n",
    "\n",
    "**Push back against hush or non-disparagement clauses** If you are doing research in industry, you may have opportunities to push back against hush or non-disparagement clauses that may be used to cover up discrimination or harassment."
   ]
  },
  {
   "cell_type": "markdown",
   "metadata": {},
   "source": [
    "### Promoting social justice as a member of an academic unit (division, department, school, institute etc)\n",
    "\n",
    "**Ensure Diversity Equity and Inclusion are included in your unit's Mission Statement**. This recommendation would have sounded ridiculous to me just a year or two ago, but one place to start improving DEI within a department is to ensure that promotion of diversity, equity and inclusion is listed as an important goal of your unit in its mission statement. Why on earth, you might ask,  does this matter? No one in their right mind voluntarily reads mission statements, right? This is all true, but once DEI issues feature prominently in a mission statement, then that represents additional leverage in every subsequent dispute about specific issues. Once everyone agrees this is an important goal for the unit, then it naturally follows that specific steps should be taken to keep track of progress towards that goal. However, it is important that whatever appears in such a mission statement has genuine buy-in as the consensus of the division. Advertising a commitment to diversity equity and inclusion that does not exist is not fair to prospective hires that are from groups historically excluded from science. \n",
    "\n",
    "**Adopt a policy on forms of address**. You walk into a classroom on the first day of class. Already students will begin to form opinions about your competence, emotional availability, and likability. If you fit the (white, male, straight, cis) stereotype of 'what a professor looks like' you may be more likely to be *presumed* to be competent, and *presumed* to be deserving of professional address and interactions even before you open your mouth. Of course, with enough mis-steps this aura of professionalism can dissipate. But this benefit of the doubt - which is often differentially  accorded to instructors based on their perceived identity -  is an unearned advantage. That is, it is a privilege. \n",
    "\n",
    "Female instructors, instructors of color, and instructors who present as LGBTQIA+ (among others) are often treated by students less respectfully. If you have not experienced this yourself, and ask colleagues whether students ever treat them in a way that feels disrespectful, you may hear stories that will set your blood to boiling. In the most extreme cases this behavior is almost certainly  intentional. However, in more subtle cases  implicit bias may be playing a role. Such implicit biases can influence what kind of behavior is 'normal' or 'expected' in subtle ways. This puts instructors with less privilege in a double-bind: either they tolerate often intolerable treatment, or they demand the respect that other instructors take for granted and risk developing a reputation as overbearing. One small simple step that divisions or departments can consider taking to address this issue in undergraduate classes is to establish an expectation that in classes instructors should be addressed by their professional title: Dr. Khan, Professor Brown, etc.  The reason we have titles in the first place is that there are certain traditional norms of behavior that govern interactions with individuals that bear them. There are simply some bawdy jokes you might hesitate to tell if the Chief Justice of the United States is setting to your left at the dinner table. \n",
    "\n",
    "**Include Diversity, Equity, and Inclusion in Merit Reviews**. If your division conducts annual merit reviews, you may be able to modify the form to have a separate section for diversity, equity and inclusion work in addition to the standard Research, Teaching and Service sections. Although DEI work can be woven into those other activities, a separate section gives this work the importance it should have.  Even faculty interested in working on DEI issues may feel pressure not to spend very much time on them if they think it will not 'count' towards their promotion, or worse be viewed negatively by their peers. Having a separate section incentivizes everyone to think about these important issues.\n",
    "\n",
    "**Establish policies communicating an expectation of professionalism on student evaluations**. Many students may not realize that student evaluations are professional documents that — despite evidence of bias — are still used in hiring and retention, and that are often read carefully by instructors. Providing some information to students about how student evaluations are used, the literature on bias in student evaluations, and expectations for professionalism in evaluations, perhaps in the form of a brief presentation or video given before evaluations start, could be one way to try to ameliorate this issue. \n",
    "\n",
    "**Establish policies to de-anonymize threatening student evaluations**. Not only are student evaluations biased against under-represented faculty, they are also sometimes threatening. Perhaps surprisingly, not all universities have established policies on threatening evaluations, and may place large burdens of proof, time, and effort on faculty who are threatened, while withholding accountability from the person who issued the threat.\n",
    "\n",
    "## Conclusion\n",
    "\n",
    "The ideas shouldn't be regarded as comprehensive. Instead, I hope we can all continue to listen to one another, and take what steps we can. If things go well, the suggestions in this chapter might appear rather quaint in a few years.\n",
    "\n",
    "## Further Reading"
   ]
  },
  {
   "cell_type": "markdown",
   "metadata": {},
   "source": [
    "## Exercises\n",
    "\n",
    "1. List some of the biggest issues that you have heard about the environment in which you do bioinformatics that are unfair or discriminatory.\n",
    "2. For one or more of the issue that you listed, research whether people negatively affected by current policy (either locally or nationally) already proposed ideas to remedy the situation? If not, do you have ideas that you think might make things better? Try finding or listing at least 3 possible actions. For each, write down the current problem, the action or change you propose, your rationale for why the action may help improve the current situation. You don't need to write this part down, but consider who you could chat with about your idea to see if you are on the right track. If you haven't been directly affected by the problem you are fixing, there may be traps (solutions that seem helpful but are actively harmful) that will be obvious to those affected, but not from the outside.\n",
    "3. Pick one remedy from your list. Draw a power map showing who has the ability to make the change. For example, if it is a classroom policy, can the instructor change it? If it is a local law, is it a city or county law? You should also check if there are any existing groups doing work in this area. It is often much more useful to join an existing effort rather than to try to start your own from scratch. \n",
    "4. Add yourself to the power map from #3. You might start by connecting yourself to any organizations to which you belong (e.g. a campus club, a lab, a religious community, etc). Then consider whether any of those organizations might be able to influence the policymakers and stakeholders you listed in #3. \n",
    "5. List three action you could personally take, either directly or drawing on the connections that you listed in #4 to make a positive change in the problem you identified."
   ]
  },
  {
   "cell_type": "markdown",
   "metadata": {},
   "source": [
    "## [Reading Responses & Feedback](https://docs.google.com/forms/d/e/1FAIpQLSeUQPI_JbyKcX1juAFLt5z1CLzC2vTqaCYySUAYCNElNwZqqQ/viewform?usp=pp_url&entry.2118603224=Careers+that+draw+on+Bioinformatics+-+Fighting+for+an+Inclusive+Workplace)\n",
    "\n"
   ]
  },
  {
   "cell_type": "markdown",
   "metadata": {},
   "source": [
    "## Further Reading\n",
    "\n",
    "[\"White Privilege and Male Privilege\"](https://www.wcwonline.org/images/pdf/White_Privilege_and_Male_Privilege_Personal_Account-Peggy_McIntosh.pdf), McIntosh 1988\n",
    "\n",
    "[Massey *et al.*, Ecology Letters, 2021](https://onlinelibrary.wiley.com/doi/epdf/10.1111/ele.13716)\n",
    "Additional ideas at a divisional and lab level for improving DEI in evolution and ecology specifically are found in Table 1 of this article\n",
    "\n"
   ]
  },
  {
   "cell_type": "markdown",
   "metadata": {},
   "source": [
    "## References"
   ]
  }
 ],
 "metadata": {
  "kernelspec": {
   "display_name": "Python 3",
   "language": "python",
   "name": "python3"
  },
  "language_info": {
   "codemirror_mode": {
    "name": "ipython",
    "version": 3
   },
   "file_extension": ".py",
   "mimetype": "text/x-python",
   "name": "python",
   "nbconvert_exporter": "python",
   "pygments_lexer": "ipython3",
   "version": "3.7.2"
  }
 },
 "nbformat": 4,
 "nbformat_minor": 2
}
