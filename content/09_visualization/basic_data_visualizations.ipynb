{
 "cells": [
  {
   "cell_type": "markdown",
   "metadata": {},
   "source": [
    "# Basic Data Visualization"
   ]
  },
  {
   "cell_type": "markdown",
   "metadata": {},
   "source": [
    "## In this section"
   ]
  },
  {
   "cell_type": "markdown",
   "metadata": {},
   "source": [
    "## Prerequisites"
   ]
  },
  {
   "cell_type": "markdown",
   "metadata": {},
   "source": [
    "## Table of Content\n",
    "\n"
   ]
  },
  {
   "cell_type": "markdown",
   "metadata": {},
   "source": [
    "## Counting Crows - an Example Dataset"
   ]
  },
  {
   "cell_type": "code",
   "execution_count": 126,
   "metadata": {},
   "outputs": [
    {
     "data": {
      "text/html": [
       "<div>\n",
       "<style scoped>\n",
       "    .dataframe tbody tr th:only-of-type {\n",
       "        vertical-align: middle;\n",
       "    }\n",
       "\n",
       "    .dataframe tbody tr th {\n",
       "        vertical-align: top;\n",
       "    }\n",
       "\n",
       "    .dataframe thead th {\n",
       "        text-align: right;\n",
       "    }\n",
       "</style>\n",
       "<table border=\"1\" class=\"dataframe\">\n",
       "  <thead>\n",
       "    <tr style=\"text-align: right;\">\n",
       "      <th></th>\n",
       "      <th>Date</th>\n",
       "      <th>Time</th>\n",
       "      <th>Weather</th>\n",
       "      <th>Temperature</th>\n",
       "      <th>Visitors</th>\n",
       "      <th>Subspecies</th>\n",
       "      <th>Marking</th>\n",
       "      <th>Age</th>\n",
       "      <th>Individual</th>\n",
       "      <th>Behaviour</th>\n",
       "      <th>Group_Size</th>\n",
       "      <th>Forested_Area</th>\n",
       "      <th>Dangerous_Enclosure</th>\n",
       "      <th>Area</th>\n",
       "      <th>Time_of_Day</th>\n",
       "      <th>Season</th>\n",
       "      <th>On_Building</th>\n",
       "      <th>Crows_per_Scan</th>\n",
       "    </tr>\n",
       "    <tr>\n",
       "      <th>Index</th>\n",
       "      <th></th>\n",
       "      <th></th>\n",
       "      <th></th>\n",
       "      <th></th>\n",
       "      <th></th>\n",
       "      <th></th>\n",
       "      <th></th>\n",
       "      <th></th>\n",
       "      <th></th>\n",
       "      <th></th>\n",
       "      <th></th>\n",
       "      <th></th>\n",
       "      <th></th>\n",
       "      <th></th>\n",
       "      <th></th>\n",
       "      <th></th>\n",
       "      <th></th>\n",
       "      <th></th>\n",
       "    </tr>\n",
       "  </thead>\n",
       "  <tbody>\n",
       "    <tr>\n",
       "      <th>1</th>\n",
       "      <td>2014-01-08</td>\n",
       "      <td>953</td>\n",
       "      <td>Clouds</td>\n",
       "      <td>Cold</td>\n",
       "      <td>Few</td>\n",
       "      <td>HY</td>\n",
       "      <td>Unmarked</td>\n",
       "      <td>NaN</td>\n",
       "      <td>NaN</td>\n",
       "      <td>Foraging</td>\n",
       "      <td>1</td>\n",
       "      <td>1</td>\n",
       "      <td>0</td>\n",
       "      <td>0</td>\n",
       "      <td>Morning</td>\n",
       "      <td>Non-Breeder_Season</td>\n",
       "      <td>1</td>\n",
       "      <td>53</td>\n",
       "    </tr>\n",
       "    <tr>\n",
       "      <th>2</th>\n",
       "      <td>2014-01-08</td>\n",
       "      <td>954</td>\n",
       "      <td>Clouds</td>\n",
       "      <td>Cold</td>\n",
       "      <td>Few</td>\n",
       "      <td>HH</td>\n",
       "      <td>Unmarked</td>\n",
       "      <td>NaN</td>\n",
       "      <td>NaN</td>\n",
       "      <td>Foraging</td>\n",
       "      <td>1</td>\n",
       "      <td>1</td>\n",
       "      <td>0</td>\n",
       "      <td>0</td>\n",
       "      <td>Morning</td>\n",
       "      <td>Non-Breeder_Season</td>\n",
       "      <td>1</td>\n",
       "      <td>53</td>\n",
       "    </tr>\n",
       "    <tr>\n",
       "      <th>3</th>\n",
       "      <td>2014-01-08</td>\n",
       "      <td>956</td>\n",
       "      <td>Clouds</td>\n",
       "      <td>Cold</td>\n",
       "      <td>Few</td>\n",
       "      <td>CH</td>\n",
       "      <td>Unmarked</td>\n",
       "      <td>NaN</td>\n",
       "      <td>NaN</td>\n",
       "      <td>Foraging</td>\n",
       "      <td>1</td>\n",
       "      <td>1</td>\n",
       "      <td>0</td>\n",
       "      <td>0</td>\n",
       "      <td>Morning</td>\n",
       "      <td>Non-Breeder_Season</td>\n",
       "      <td>1</td>\n",
       "      <td>53</td>\n",
       "    </tr>\n",
       "    <tr>\n",
       "      <th>4</th>\n",
       "      <td>2014-01-08</td>\n",
       "      <td>957</td>\n",
       "      <td>Clouds</td>\n",
       "      <td>Cold</td>\n",
       "      <td>Few</td>\n",
       "      <td>CH</td>\n",
       "      <td>Marked</td>\n",
       "      <td>Adult</td>\n",
       "      <td>242</td>\n",
       "      <td>Foraging</td>\n",
       "      <td>1</td>\n",
       "      <td>1</td>\n",
       "      <td>0</td>\n",
       "      <td>0</td>\n",
       "      <td>Morning</td>\n",
       "      <td>Non-Breeder_Season</td>\n",
       "      <td>1</td>\n",
       "      <td>53</td>\n",
       "    </tr>\n",
       "    <tr>\n",
       "      <th>5</th>\n",
       "      <td>2014-01-08</td>\n",
       "      <td>1000</td>\n",
       "      <td>Clouds</td>\n",
       "      <td>Cold</td>\n",
       "      <td>Few</td>\n",
       "      <td>H</td>\n",
       "      <td>Unmarked</td>\n",
       "      <td>NaN</td>\n",
       "      <td>NaN</td>\n",
       "      <td>Foraging</td>\n",
       "      <td>1</td>\n",
       "      <td>1</td>\n",
       "      <td>0</td>\n",
       "      <td>0</td>\n",
       "      <td>Morning</td>\n",
       "      <td>Non-Breeder_Season</td>\n",
       "      <td>1</td>\n",
       "      <td>53</td>\n",
       "    </tr>\n",
       "  </tbody>\n",
       "</table>\n",
       "</div>"
      ],
      "text/plain": [
       "             Date  Time Weather Temperature Visitors Subspecies   Marking  \\\n",
       "Index                                                                       \n",
       "1      2014-01-08   953  Clouds        Cold      Few         HY  Unmarked   \n",
       "2      2014-01-08   954  Clouds        Cold      Few         HH  Unmarked   \n",
       "3      2014-01-08   956  Clouds        Cold      Few         CH  Unmarked   \n",
       "4      2014-01-08   957  Clouds        Cold      Few         CH    Marked   \n",
       "5      2014-01-08  1000  Clouds        Cold      Few          H  Unmarked   \n",
       "\n",
       "         Age Individual Behaviour  Group_Size  Forested_Area  \\\n",
       "Index                                                          \n",
       "1        NaN        NaN  Foraging           1              1   \n",
       "2        NaN        NaN  Foraging           1              1   \n",
       "3        NaN        NaN  Foraging           1              1   \n",
       "4      Adult        242  Foraging           1              1   \n",
       "5        NaN        NaN  Foraging           1              1   \n",
       "\n",
       "       Dangerous_Enclosure  Area Time_of_Day              Season  On_Building  \\\n",
       "Index                                                                           \n",
       "1                        0     0     Morning  Non-Breeder_Season            1   \n",
       "2                        0     0     Morning  Non-Breeder_Season            1   \n",
       "3                        0     0     Morning  Non-Breeder_Season            1   \n",
       "4                        0     0     Morning  Non-Breeder_Season            1   \n",
       "5                        0     0     Morning  Non-Breeder_Season            1   \n",
       "\n",
       "       Crows_per_Scan  \n",
       "Index                  \n",
       "1                  53  \n",
       "2                  53  \n",
       "3                  53  \n",
       "4                  53  \n",
       "5                  53  "
      ]
     },
     "execution_count": 126,
     "metadata": {},
     "output_type": "execute_result"
    }
   ],
   "source": [
    "#### Load Crow Count Data from Ute et al., 2018\n",
    "import pandas as pd\n",
    "import matplotlib.pyplot as plt\n",
    "import numpy as np\n",
    "crow_count_data = pd.read_csv(\"./resources/CC_Data.csv\",sep = \";\")\n",
    "crow_count_data = crow_count_data.set_index(\"Index\")\n",
    "crow_count_data.head()"
   ]
  },
  {
   "cell_type": "code",
   "execution_count": 179,
   "metadata": {},
   "outputs": [],
   "source": [
    "#colors \n",
    "bright_green = tuple(np.array([146.0,249.0,11.0])/255.0)\n",
    "orange = tuple(np.array([253.0,173.0,1.0])/255.0) \n",
    "magenta = tuple(np.array([255.0,19.0,170.0])/255.0) \n",
    "deep_blue = tuple(np.array([11.0,79.0,175.0])/255.0) \n",
    "\n",
    "colors = [orange,magenta,deep_blue,bright_green]\n",
    "\n",
    "\n",
    "\n",
    "x = crow_count_data['Dangerous_Enclosure']\n",
    "y = crow_count_data['Group_Size']"
   ]
  },
  {
   "cell_type": "code",
   "execution_count": 181,
   "metadata": {},
   "outputs": [],
   "source": [
    "def make_two_category_scatterplot(x,y,category_labels,output_file=\"./stripplot.png\",point_size=10.0,\\\n",
    "                                  x_label = \"Category\",y_label = \"Value\",axis_margin = 0.33,\\\n",
    "                                  colors = colors,x_jitter=0.15):    \n",
    "    \"\"\"Generate a two category stripplot\"\"\"\n",
    "    fig, ax = plt.subplots(nrows=1, ncols=1, figsize=(4, 4))\n",
    "    colormap = {x:colors[i] for i,x in enumerate(list(x.unique()))}\n",
    "    point_colors = [colormap[x_val] for x_val in x]\n",
    "\n",
    "    #Average only the group sizes for the crows in a dangerous enclosure\n",
    "    averages = []\n",
    "    for category in x.unique():\n",
    "        average = np.average(y,weights=(x==category))\n",
    "        averages.append((category,average))\n",
    "  \n",
    "    print(\"AVERAGES:\",averages)\n",
    "\n",
    "    N = len(x)\n",
    "\n",
    "    if apply_x_jitter:\n",
    "        x_jitter = np.random.normal(loc = 0.0,scale=x_jitter,size=N)    \n",
    "        x = x + x_jitter\n",
    "\n",
    "    data_array = np.array([x,y]).T\n",
    "\n",
    "\n",
    "    ax.scatter(x=x,y=y,s=point_size,c=point_colors,edgecolor='white',alpha = opacity)\n",
    "\n",
    "    #Mark mean location for each column\n",
    "    for category,y_average in averages:\n",
    "        ax.scatter(x=category,y=y_average,s=point_size*10,facecolor='black',edgecolor='white',alpha = 1.0)\n",
    "\n",
    "    ax.set_xlabel(x_label,fontname='Helvetica',fontsize='x-large')\n",
    "    ax.set_xticks([0,1])\n",
    "    ax.set_xticklabels(['Yes','No'],fontsize='x-large')\n",
    "    ax.tick_params(direction='in')\n",
    "\n",
    "    ax.set_xlim(min(x)- axis_margin,max(x) + axis_margin)\n",
    "    ax.set_ylabel(y_label,fontname='Helvetica',fontsize='x-large')\n",
    "    yticks = plt.yticks(fontsize='x-large')\n",
    "\n",
    "    # Remove axis lines.\n",
    "    ax.spines['top'].set_visible(False)\n",
    "    ax.spines['right'].set_visible(False)\n",
    "    ax.spines['bottom'].set_visible(False)\n",
    "\n",
    "    # Set spine extent.\n",
    "    ax.spines['bottom'].set_bounds(min(x), max(x))\n",
    "    ax.spines['left'].set_bounds(min(y), max(y))\n",
    "    \n",
    "    plt.savefig(output_file)"
   ]
  },
  {
   "cell_type": "code",
   "execution_count": 183,
   "metadata": {},
   "outputs": [
    {
     "name": "stdout",
     "output_type": "stream",
     "text": [
      "AVERAGES: [(0, 3.258502553880653), (1, 3.779384035197989)]\n"
     ]
    },
    {
     "data": {
      "image/png": "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\n",
      "text/plain": [
       "<Figure size 288x288 with 1 Axes>"
      ]
     },
     "metadata": {
      "needs_background": "light"
     },
     "output_type": "display_data"
    }
   ],
   "source": [
    "make_two_category_scatterplot(x,y,category_labels=['yes','no'])"
   ]
  },
  {
   "cell_type": "code",
   "execution_count": 184,
   "metadata": {},
   "outputs": [
    {
     "name": "stdout",
     "output_type": "stream",
     "text": [
      "AVERAGES: [(1, 3.4653536141445658), (0, 2.2176028306059266)]\n"
     ]
    },
    {
     "data": {
      "image/png": "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\n",
      "text/plain": [
       "<Figure size 288x288 with 1 Axes>"
      ]
     },
     "metadata": {
      "needs_background": "light"
     },
     "output_type": "display_data"
    }
   ],
   "source": [
    "x = crow_count_data['Forested_Area']\n",
    "make_two_category_scatterplot(x,y,category_labels=['yes','no'])"
   ]
  },
  {
<<<<<<< HEAD
   "cell_type": "code",
   "execution_count": 1,
   "metadata": {},
   "outputs": [],
   "source": [
    "def plot_multiple_histogram(datasets,colors,labels,outfile,title = None):\n",
    "    \"\"\"Plot a multiple histogram of several datasets\n",
    "    datasets -- list of data\n",
    "    colors -- list of colors\n",
    "    outfile -- file location to save histogram\n",
    "    \"\"\"\n",
    "    fontsize = 16\n",
    "    if len(colors) < len(datasets):\n",
    "        raise ValueError(\"Need to specify one color per dataset\")\n",
    "\n",
    "    if len(labels) < len(datasets):\n",
    "        raise ValueError(\"Need to specify one label per dataset\")\n",
    "    fig,ax = plt.subplots()\n",
    "    all_data = []\n",
    "    for d in datasets:\n",
    "        all_data.extend(d)\n",
    "    max_val = max(map(int,all_data))\n",
    "    bins = linspace(0,max_val,15)\n",
    "    plt.xlabel(\"Value\",fontsize=fontsize)\n",
    "    plt.ylabel(\"Frequency\",fontsize=fontsize)\n",
    "    common_params={'histtype':'stepfilled','alpha':0.50,'bins':bins,'edgecolor':'black'}\n",
    "    print(\"Plotting histogram\")\n",
    "    for i,dataset in enumerate(datasets):\n",
    "        ax.hist(dataset,facecolor=colors[i],label=labels[i],density = True,**common_params)\n",
    "\n",
    "    # Remove axis lines.\n",
    "    ax.spines['top'].set_visible(False)\n",
    "    ax.spines['right'].set_visible(False)\n",
    "    \n",
    "    \n",
    "    if title:\n",
    "        plt.title(title)\n",
    "    plt.legend(fontsize=fontsize, frameon = False)\n",
    "    plt.savefig(outfile)"
   ]
  },
  {
   "cell_type": "markdown",
   "metadata": {},
   "source": [
    "#### Subheading\n",
    "\n",
    "An image **with description field for screen readers**\n",
    "\n",
    "<img src=\"./resources/linear_scatter_high_r2_linear_regression.png\" width=\"400\"  description=\"A cartoon of a scatter plot with x and y axes. A series of orange points is plotted. The points have some scatter to them, but roughly form a diagonal line from the lower left to the upper right of the plot. A black regression line runs diagonally through the points. \">\n",
    "\n",
    "A simple math symbol: (see https://sites.psu.edu/symbolcodes/codehtml/#math and https://www.keynotesupport.com/internet/special-characters-greek-letters-symbols.shtml\n",
    "\n",
    "y = &beta;<sub>0</sub>x<sub>0</sub>  + &beta;<sub>1</sub>x<sub>1</sub> + &beta;<sub>2</sub>x<sub>2</sub> + &beta;<sub>3\n",
    "  \n",
    "Split cells with cntrl-shift-minus"
   ]
  },
  {
   "cell_type": "markdown",
   "metadata": {},
   "source": [
    "#### 4-color palette\n",
    "- Bright green ( RGB 146,249,11)\n",
    "- Orange (RGB 253,173,1)\n",
    "- Magenta (RGB 255,19,170)\n",
    "- Deep Blue (RGB 11,79,175)"
   ]
  },
  {
   "cell_type": "code",
   "execution_count": 132,
   "metadata": {},
   "outputs": [],
   "source": [
    "bright_green = tuple(np.array([146.0,249.0,11.0])/255.0)\n",
    "orange = tuple(np.array([253.0,173.0,1.0])/255.0) \n",
    "magenta = tuple(np.array([255.0,19.0,170.0])/255.0) \n",
    "deep_blue = tuple(np.array([11.0,79.0,175.0])/255.0) "
   ]
  },
  {
   "cell_type": "markdown",
   "metadata": {},
   "source": [
    "## Exercises"
   ]
  },
  {
   "cell_type": "markdown",
   "metadata": {},
   "source": [
    "## Reading Responses & Feedback \n",
    "\n",
    "^Make this a hyperlink using Google Forms"
   ]
  },
  {
   "cell_type": "markdown",
   "metadata": {},
   "source": [
    "## Further Reading\n",
    "\n",
    "- [Tufte in Matplotlib](https://www.ajnisbet.com/blog/tufte-in-matplotlib). A great tutorial on how to produce Tufte-style figures in Matplotlib\n",
    "- [Claire Duvalet, Slope-Plots in Python](https://cduvallet.github.io/posts/2018/03/slopegraphs-in-python). A good tutorial for how to show paired data that also discusses alternatives to the slope-plot"
   ]
  },
  {
   "cell_type": "markdown",
   "metadata": {},
   "source": [
    "## References"
   ]
  }
 ],
 "metadata": {
  "kernelspec": {
   "display_name": "Python 3",
   "language": "python",
   "name": "python3"
  },
  "language_info": {
   "codemirror_mode": {
    "name": "ipython",
    "version": 3
   },
   "file_extension": ".py",
   "mimetype": "text/x-python",
   "name": "python",
   "nbconvert_exporter": "python",
   "pygments_lexer": "ipython3",
   "version": "3.8.8"
  }
 },
 "nbformat": 4,
 "nbformat_minor": 2
}
