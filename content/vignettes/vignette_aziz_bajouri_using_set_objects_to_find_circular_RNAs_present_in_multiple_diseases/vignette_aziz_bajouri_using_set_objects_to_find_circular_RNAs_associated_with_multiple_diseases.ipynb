{
 "cells": [
  {
   "cell_type": "markdown",
   "metadata": {},
   "source": [
    "# Using Set Objects to Find Circular RNAs Associated with Multiple Diseases\n",
    "\n",
    "## *Vignette Author*: Aziz Bajouri\n"
   ]
  },
  {
   "cell_type": "markdown",
   "metadata": {},
   "source": [
    "<img src=\"./aziz_bajouri_vignette_picture.png\" width=\"200\" align=\"left\" style=\"margin: 0px 10px 0px 0px;\" description=\"A picture of Aziz Bajouri, the author of this vignette\">\n",
    "\n",
    "## About Me\n",
    "I've always had an interest in computer science, which led me to take this course (Bioinformatics). Being able to create useful and reliable programs that can contribute towards important tasks has been something I've wanted to do for a long time. The idea \"work smarter not harder\" is something I wholeheartedly agree with. Being able to analyze data using computational methods is the main skill I want to take away from this course. So far, I've learned a lot about general CSS tools and techniques (for loops, data types, algorithms). Although I still struggle in some scenarios, my overall knowledge of computer science has increased dramatically. With this course being a mix of Bio and CSS, I would say have more confidence in the Biology portion for this class (Being a Bio Major). By the end of the quarter, I want to confidently say I understand both the Bio and CSS aspects of Bioinformatics.  "
   ]
  },
  {
   "cell_type": "markdown",
   "metadata": {},
   "source": [
    "### Background"
   ]
  },
  {
   "cell_type": "markdown",
   "metadata": {},
   "source": [
    "Finding patterns in science has always been a common goal. Patterns can lead us to new discoveries or help support an established belief. One way to efficiently scout for patterns is to analyze computational data. Using computational methods to analyze data is both efficient and resourceful. Being able to allocate time towards aspects of research other than time-consuming tasks is why CSS has been an important part of advancements in science. An example of this would be the task I was able to accomplish during this course. I wanted to research similarities between diseases found in humans. I learned about circular RNAs (circRNAs) and their association with human diseases. My next reserach objective was to figure out if any circRNAs were associated with two or more different diseases. Using computational techniques I was able to solve this otherwise tedious task in a matter of seconds. "
   ]
  },
  {
   "cell_type": "markdown",
   "metadata": {},
   "source": [
    "# Methods"
   ]
  },
  {
   "cell_type": "markdown",
   "metadata": {},
   "source": [
    "### Getting lists of circular RNAs associated with different diseases\n",
    "\n",
    "Throughout August, I worked with my group to collect human cancer entries from [circAtlas2.0](http://circatlas.biols.ac.cn/), a database compiled from more than a thousand studies that sequenced circular RNA (Wu *et al.*, 2020). We selected twelve human cancers and looked for circular RNAs that had either an up-regulated or down-regulated expression pattern in these cancers. In molecular biology, up-regulated gene expression means that more RNA from a gene in the DNA is produced under a particular condition, whereas down-regulation means less RNA from that gene is made under a certain condition.\n",
    "\n",
    "To find data on cancers, we had to look for types of tissue samples in circAtlas2.0 that were associated with different cancers. The types of cancerous tissue types we selected were: bladder cancer, breast cancer, cervical cancer, colorectal cancer, endometrial cancer, esophageal cancer, gastric cancer, glioblastoma, laryngeal squamous cell cancer tissues, lung cancer, non-small cell lung cancer, and radioresistant esophageal cancer cells. These cancerous tissue types were associated with a total of 74 up- or down- regulated circRNAs in circAtlas.\n",
    "\n",
    "We downloaded the circRNAs as text files, each of which had the id for one circRNA per line. We saved the files so that the name of each text file was based on the type of cancer. Now I needed to compare these files to figure out which circRNA ids were in common between different cancers.\n",
    "\n",
    "In the rest of this vignette, I show how to do this, using as an example 4 files with the names of different animals in them. The code works exactly the same for our 12 files with circRNA ids, but it may be a little easier to try out with a simpler example first."
   ]
  },
  {
   "cell_type": "markdown",
   "metadata": {},
   "source": [
    "### Checking that the Data is in my Current Directory "
   ]
  },
  {
   "cell_type": "markdown",
   "metadata": {},
   "source": [
    "The first step was to somehow get my circRNA data into my python interpreter. After learning about how to navigate using the command line, I was able to move my data (which was in text files) into the same directory I was planning on working with.\n",
    "\n",
    "For example, my directory path for this Vignette looks like this :  `C:\\Users\\azizb\\anaconda3\\Vignette`\n",
    "\n",
    "If I had data I needed to analyze, I would add them here. "
   ]
  },
  {
   "cell_type": "markdown",
   "metadata": {},
   "source": [
    "A good way to check if your data is currently in your directory is to check by importing and using the list directory function. Here is how you would do this:  "
   ]
  },
  {
   "cell_type": "code",
   "execution_count": 2,
   "metadata": {},
   "outputs": [
    {
     "data": {
      "text/plain": [
       "['.ipynb_checkpoints',\n",
       " 'animals.txt',\n",
       " 'animals2.txt',\n",
       " 'animals3.txt',\n",
       " 'animals4.txt',\n",
       " 'template.ipynb',\n",
       " 'vignette_aziz_bajouri_using_set_objects_to_find_circular_RNAs_associated_with_multiple_diseases.ipynb']"
      ]
     },
     "execution_count": 2,
     "metadata": {},
     "output_type": "execute_result"
    }
   ],
   "source": [
    "#returns all the files in the current directory\n",
    "from os import listdir\n",
    "listdir()\n"
   ]
  },
  {
   "cell_type": "markdown",
   "metadata": {},
   "source": [
    "I can now see all the files in my currently directory. \n",
    "\n",
    "\n"
   ]
  },
  {
   "cell_type": "markdown",
   "metadata": {},
   "source": [
    "### Reading a File "
   ]
  },
  {
   "cell_type": "markdown",
   "metadata": {},
   "source": [
    "After this, it was time to create a method to analyze this data. To do this, I first need to be able to open the text files and have python able to read them. \n",
    "\n",
    "This function involves the use of a dictionary to hold each result (each line in the text file), a for loop to check each current item on the list / a strip method that removes empty lines, and an if statement that appends the current item to the end of the dictionary. Here is an example of how I was able to accomplish this. (In this example, I am using analyzing names of animals in a text file).  "
   ]
  },
  {
   "cell_type": "code",
   "execution_count": 3,
   "metadata": {},
   "outputs": [
    {
     "name": "stdout",
     "output_type": "stream",
     "text": [
      "animals.txt contains the following animals: 3 ['Dog', 'Cat', 'Bird']\n",
      "\n",
      "None\n",
      "animals2.txt contains the following animals: 4 ['Cat', 'Badger', 'Hippo', 'Dog']\n",
      "\n",
      "None\n",
      "animals3.txt contains the following animals: 5 ['Dog', 'Bird', 'Rabbit', 'Elephant', 'Cat']\n",
      "\n",
      "None\n",
      "animals4.txt contains the following animals: 4 ['Kangaroo', 'Gorilla', 'Elephant', 'Tiger']\n",
      "\n",
      "None\n"
     ]
    }
   ],
   "source": [
    "#creates a function that reads the file given in the parameter and returns the number of occupied lines \n",
    "#and what is in that line\n",
    "def readfile(animal_file):\n",
    "    \"\"\"Prints the number of non-blank lines in a file and a list of what's in the non-blank lines\"\"\"\n",
    "    f = open(animal_file)\n",
    "    results = []\n",
    "    for line in f:\n",
    "        current_item = line.strip()\n",
    "        if current_item:\n",
    "            results.append(current_item)\n",
    "    print(f\"{animal_file} contains the following animals:\",len(results), results)\n",
    "    print(\"\")\n",
    "     \n",
    "\n",
    "\n",
    "#Now to use this function \n",
    "print(readfile(\"animals.txt\"))\n",
    "print(readfile(\"animals2.txt\"))\n",
    "print(readfile(\"animals3.txt\"))\n",
    "print(readfile(\"animals4.txt\"))\n"
   ]
  },
  {
   "cell_type": "markdown",
   "metadata": {},
   "source": [
    "### Comparing Data Between Files"
   ]
  },
  {
   "cell_type": "markdown",
   "metadata": {},
   "source": [
    "\n",
    "Now that I am able to open and read my data, I want to compare the similarities between the files. Although the example I used can accomplish this goal just by reading each file, comparing two files with thousands of lines would not be as simple. In order to efficiently do this, I wrote code that would use `open` and `set` (two built in functions) to convert each file into a `set` of lines. Sets are collections of unique items (so if there were duplicates in the files they will be removed). Next, I used a built-in method of set objects known as `intersection`. This function compares one of my set objects to another, and returns only matching lines of data. \n",
    "\n",
    "The code also has an `if` statement that checks if the intersection of the two sets is empty (nothing shared). If nothing is shared, the code prints only how many animals were shared (which should be 0). If there are some animals in common between the two files, the `else` statement in the code prints how many animals were shared and the name of the shared animals. \n",
    "\n",
    "Here is an example of how this is done:"
   ]
  },
  {
   "cell_type": "code",
   "execution_count": 4,
   "metadata": {},
   "outputs": [
    {
     "name": "stdout",
     "output_type": "stream",
     "text": [
      "Comparing files: animals.txt and animals2.txt\n",
      "Same animal(s): 2 {'Dog', 'Cat'}\n",
      "\n",
      "Comparing files: animals.txt and animals3.txt\n",
      "Same animal(s): 3 {'Bird', 'Dog', 'Cat'}\n",
      "\n",
      "Comparing files: animals.txt and animals4.txt\n",
      "Same animal(s): 0\n",
      "\n"
     ]
    }
   ],
   "source": [
    "#creates a compare function that checks two files in the parameter and returns the number and name of identical animals\n",
    "def compare(animal_list1, animal_list2): \n",
    "    print(f\"Comparing files: {animal_list1} and {animal_list2}\")\n",
    "    animal1 = set(open(animal_list1).read().split())\n",
    "    animal2 = set(open(animal_list2).read().split())\n",
    "\n",
    "    same_animal =  animal1.intersection(animal2)\n",
    "    if len(same_animal) == 0:\n",
    "        print(\"Same animal(s):\", len(same_animal))\n",
    "    else: \n",
    "        print(\"Same animal(s):\", len(same_animal),same_animal)\n",
    "        \n",
    "    print(\"\")\n",
    "    \n",
    "#now to test this function \n",
    "\n",
    "compare(\"animals.txt\", \"animals2.txt\")\n",
    "compare(\"animals.txt\", \"animals3.txt\")\n",
    "compare(\"animals.txt\", \"animals4.txt\")\n",
    "\n"
   ]
  },
  {
   "cell_type": "markdown",
   "metadata": {},
   "source": [
    "In the real project, the approach was very similar, but instead of files with animal names in them, I used the files for the circRNAs up-regulated or down-regulated in each form of cancer. The results let us find circRNAs associated with more than one type of cancer in the circAtlas 2.0 data."
   ]
  },
  {
   "cell_type": "markdown",
   "metadata": {},
   "source": [
    "## Exercises\n",
    "\n"
   ]
  },
  {
   "cell_type": "markdown",
   "metadata": {},
   "source": [
    "## Reading Responses & Feedback\n",
    "[Add link]\n"
   ]
  },
  {
   "cell_type": "markdown",
   "metadata": {},
   "source": [
    "## References"
   ]
  },
  {
   "cell_type": "markdown",
   "metadata": {},
   "source": [
    "Wu, W., Ji, P., & Zhao, F. (2020). CircAtlas: An integrated resource of one million highly accurate circular RNAs from 1070 vertebrate transcriptomes."
   ]
  },
  {
   "cell_type": "markdown",
   "metadata": {},
   "source": [
    "## Further Reading\n",
    "\n",
    "Online resources have great information on how to produce functions to complete tasks for research. Resources that describe built-in functions provided by python, as well as tips to help aid you in defining your own function. Here are some useful resources that can help you get started: \n",
    "\n",
    "Information on objects and values: https://docs.python.org/3/reference/datamodel.html\n",
    "\n",
    "Information on sets and some built in functions you can use with set: https://realpython.com/python-sets/\n",
    "\n",
    "List of built in functions and there description: https://docs.python.org/3/library/functions.html\n",
    "\n",
    "Information on command line and how to navigate the directories (Useful for moving files into correct directories): https://www.computerhope.com/dirhlp.htm"
   ]
  }
 ],
 "metadata": {
  "kernelspec": {
   "display_name": "Python 3",
   "language": "python",
   "name": "python3"
  },
  "language_info": {
   "codemirror_mode": {
    "name": "ipython",
    "version": 3
   },
   "file_extension": ".py",
   "mimetype": "text/x-python",
   "name": "python",
   "nbconvert_exporter": "python",
   "pygments_lexer": "ipython3",
   "version": "3.7.2"
  }
 },
 "nbformat": 4,
 "nbformat_minor": 5
}
