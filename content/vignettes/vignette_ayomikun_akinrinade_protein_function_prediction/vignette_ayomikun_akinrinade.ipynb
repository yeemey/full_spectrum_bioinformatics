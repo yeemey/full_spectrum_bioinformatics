{
 "cells": [
  {
   "cell_type": "markdown",
   "metadata": {
    "id": "_AGM_gyC8F14"
   },
   "source": [
    "# Bioinformatics Vignette: Using K-Nearest Neighbors and Binary Decision Tree Algorithms to Predict Enzyme Function from Protein Sequences\n",
    "\n",
    "## *Vignette Author*: Ayomikun Akinrinade"
   ]
  },
  {
   "cell_type": "markdown",
   "metadata": {
    "id": "jv3Ykz8eBtwN"
   },
   "source": [
    "<img src=\"./ayomikun_akinrinade_vignette_picture.jpeg\" width=\"200\" align=\"left\" style=\"margin: 0px 10px 0px 0px;\" description=\"A picture of Ayomikun Akinrinade, the author of this vignette.\">\n",
    "\n",
    "## About Me\n",
    "My interests primarily lie in evolutionary biology, specifically the morphological evolution of fishes (the most diverse group of vertebrates on earth!). I have been interested in programming for at least ten years, as of writing this vignette, and in discovering my passion for biology, I've developed a curiosity for how we can apply computer science methods to biology. In this vignette, I've shown one way that we can use machine learning to help find solutions in biology. I hope to apply similar techniques to my own research in the future. I similarly hope that you, the reader, will take the knowledge from this chapter and vignette, expand on it, and create a project that you find interesting."
   ]
  },
  {
   "cell_type": "markdown",
   "metadata": {
    "id": "itDY5xtpEMnk"
   },
   "source": [
    "## Background\n",
    "\n",
    "Proteins are responsible for carrying out most enzymatic activities in cells. As such, proteins are a subject frequently under the (metaphorical) microscope of bioinformaticians. Applications range from predicting protein structure (e.g., AlphaFold developed by Google's DeepMind) to predicting protein function. This vignette will focus on latter of these two. *Note however, that protein function is determined by protein structure and shape.*\n",
    "\n",
    "\n",
    "In this vignette, we will be focusing on using amino acid sequences to classify proteins according to their enzymatic function. We will do this using data from the Research Collaboratory for Structural Bioinformatics' Protein Data Base (PDB). From the PDB, we have both the protein sequence data and the known function. We need the sequence data so we can create features that our classfication algorithms will be able to interpret, and we need the known function in order for the algorithm to learn how to predict function from a new sequence. We are going to focus on 6 major enzyme classes: hydrolase, transferase, oxidoreductase, lyase, isomerase, ligase. \n",
    "\n",
    "We will be comparing two different machine learning algorithms: 1) a k-nearest neighbors classifier, and 2) a binary decision tree."
   ]
  },
  {
   "cell_type": "markdown",
   "metadata": {},
   "source": [
    "## Analysis\n",
    "\n",
    "### Import Libraries\n",
    "\n",
    "First we'll import the libraries we need. "
   ]
  },
  {
   "cell_type": "code",
   "execution_count": 1,
   "metadata": {
    "colab": {
     "base_uri": "https://localhost:8080/",
     "height": 443
    },
    "id": "1GZgh5_YLyUK",
    "outputId": "a42e1217-deaf-4b4b-e3f3-61fe1093aa9e"
   },
   "outputs": [],
   "source": [
    "import numpy as np\n",
    "import pandas as pd\n",
    "import matplotlib.pyplot as plt\n",
    "import matplotlib\n",
    "from sklearn.model_selection import train_test_split\n",
    "from sklearn.metrics import accuracy_score\n",
    "from sklearn.neighbors import KNeighborsClassifier\n",
    "from sklearn import tree\n",
    "from zipfile import ZipFile\n",
    "from os import listdir\n",
    "\n",
    "np.random.seed(7) # this is so we have consistent results between users; feel free to change this number to see what happens to our results at the end"
   ]
  },
  {
   "cell_type": "markdown",
   "metadata": {},
   "source": [
    "### Unzip and Import Sequence and Function Data\n",
    "\n",
    "Next, we load protein sequence and function data as pandas DataFrames. \n",
    "\n",
    "One small difficulty is that the sequence data file is 120MB, which is too large to store on GitHub directly. Therefore I had to upload it as a compressed .zip file. We can first uncompress it, to create a `pdb_data_seq.csv` file, and then load that `.csv` file as a pandas DataFrame as usual."
   ]
  },
  {
   "cell_type": "code",
   "execution_count": 2,
   "metadata": {
    "colab": {
     "base_uri": "https://localhost:8080/",
     "height": 443
    },
    "id": "1GZgh5_YLyUK",
    "outputId": "a42e1217-deaf-4b4b-e3f3-61fe1093aa9e"
   },
   "outputs": [
    {
     "name": "stdout",
     "output_type": "stream",
     "text": [
      "We have these files in our input directory: ['.DS_Store', 'pdb_data_seq.zip', 'pdb_data_seq.csv', 'pdb_data_no_dups.csv']\n"
     ]
    }
   ],
   "source": [
    "#Extract the zip file into a text file of sequence data\n",
    "zipfile = ZipFile('./input/pdb_data_seq.zip')\n",
    "zipfile.extract(member = 'input/pdb_data_seq.csv',path = './')\n",
    "\n",
    "#Check that the unzipped file is in the input directory\n",
    "print(\"We have these files in our input directory:\",listdir('./input'))"
   ]
  },
  {
   "cell_type": "code",
   "execution_count": 3,
   "metadata": {
    "colab": {
     "base_uri": "https://localhost:8080/",
     "height": 443
    },
    "id": "1GZgh5_YLyUK",
    "outputId": "a42e1217-deaf-4b4b-e3f3-61fe1093aa9e"
   },
   "outputs": [],
   "source": [
    "#Load the sequence data as a pandas dataframe\n",
    "all_seqs_df = pd.read_csv('./input/pdb_data_seq.csv')\n",
    "\n",
    "#Load the protein function data as a pandas dataframe\n",
    "all_charcs_df = pd.read_csv('./input/pdb_data_no_dups.csv')"
   ]
  },
  {
   "cell_type": "markdown",
   "metadata": {},
   "source": [
    "### Examine the data\n",
    "\n",
    "Next, we'll take a look at each dataframe to make sure we understand the form of the data."
   ]
  },
  {
   "cell_type": "code",
   "execution_count": 4,
   "metadata": {},
   "outputs": [
    {
     "data": {
      "text/html": [
       "<div>\n",
       "<style scoped>\n",
       "    .dataframe tbody tr th:only-of-type {\n",
       "        vertical-align: middle;\n",
       "    }\n",
       "\n",
       "    .dataframe tbody tr th {\n",
       "        vertical-align: top;\n",
       "    }\n",
       "\n",
       "    .dataframe thead th {\n",
       "        text-align: right;\n",
       "    }\n",
       "</style>\n",
       "<table border=\"1\" class=\"dataframe\">\n",
       "  <thead>\n",
       "    <tr style=\"text-align: right;\">\n",
       "      <th></th>\n",
       "      <th>structureId</th>\n",
       "      <th>chainId</th>\n",
       "      <th>sequence</th>\n",
       "      <th>residueCount</th>\n",
       "      <th>macromoleculeType</th>\n",
       "    </tr>\n",
       "  </thead>\n",
       "  <tbody>\n",
       "    <tr>\n",
       "      <th>0</th>\n",
       "      <td>100D</td>\n",
       "      <td>A</td>\n",
       "      <td>CCGGCGCCGG</td>\n",
       "      <td>20</td>\n",
       "      <td>DNA/RNA Hybrid</td>\n",
       "    </tr>\n",
       "    <tr>\n",
       "      <th>1</th>\n",
       "      <td>100D</td>\n",
       "      <td>B</td>\n",
       "      <td>CCGGCGCCGG</td>\n",
       "      <td>20</td>\n",
       "      <td>DNA/RNA Hybrid</td>\n",
       "    </tr>\n",
       "    <tr>\n",
       "      <th>2</th>\n",
       "      <td>101D</td>\n",
       "      <td>A</td>\n",
       "      <td>CGCGAATTCGCG</td>\n",
       "      <td>24</td>\n",
       "      <td>DNA</td>\n",
       "    </tr>\n",
       "    <tr>\n",
       "      <th>3</th>\n",
       "      <td>101D</td>\n",
       "      <td>B</td>\n",
       "      <td>CGCGAATTCGCG</td>\n",
       "      <td>24</td>\n",
       "      <td>DNA</td>\n",
       "    </tr>\n",
       "    <tr>\n",
       "      <th>4</th>\n",
       "      <td>101M</td>\n",
       "      <td>A</td>\n",
       "      <td>MVLSEGEWQLVLHVWAKVEADVAGHGQDILIRLFKSHPETLEKFDR...</td>\n",
       "      <td>154</td>\n",
       "      <td>Protein</td>\n",
       "    </tr>\n",
       "  </tbody>\n",
       "</table>\n",
       "</div>"
      ],
      "text/plain": [
       "  structureId chainId                                           sequence  \\\n",
       "0        100D       A                                         CCGGCGCCGG   \n",
       "1        100D       B                                         CCGGCGCCGG   \n",
       "2        101D       A                                       CGCGAATTCGCG   \n",
       "3        101D       B                                       CGCGAATTCGCG   \n",
       "4        101M       A  MVLSEGEWQLVLHVWAKVEADVAGHGQDILIRLFKSHPETLEKFDR...   \n",
       "\n",
       "   residueCount macromoleculeType  \n",
       "0            20    DNA/RNA Hybrid  \n",
       "1            20    DNA/RNA Hybrid  \n",
       "2            24               DNA  \n",
       "3            24               DNA  \n",
       "4           154           Protein  "
      ]
     },
     "execution_count": 4,
     "metadata": {},
     "output_type": "execute_result"
    }
   ],
   "source": [
    "#Show the first 5 rows of the sequence dataframe\n",
    "all_seqs_df.head()\n"
   ]
  },
  {
   "cell_type": "code",
   "execution_count": 5,
   "metadata": {},
   "outputs": [
    {
     "data": {
      "text/html": [
       "<div>\n",
       "<style scoped>\n",
       "    .dataframe tbody tr th:only-of-type {\n",
       "        vertical-align: middle;\n",
       "    }\n",
       "\n",
       "    .dataframe tbody tr th {\n",
       "        vertical-align: top;\n",
       "    }\n",
       "\n",
       "    .dataframe thead th {\n",
       "        text-align: right;\n",
       "    }\n",
       "</style>\n",
       "<table border=\"1\" class=\"dataframe\">\n",
       "  <thead>\n",
       "    <tr style=\"text-align: right;\">\n",
       "      <th></th>\n",
       "      <th>structureId</th>\n",
       "      <th>classification</th>\n",
       "      <th>experimentalTechnique</th>\n",
       "      <th>macromoleculeType</th>\n",
       "      <th>residueCount</th>\n",
       "      <th>resolution</th>\n",
       "      <th>structureMolecularWeight</th>\n",
       "      <th>crystallizationMethod</th>\n",
       "      <th>crystallizationTempK</th>\n",
       "      <th>densityMatthews</th>\n",
       "      <th>densityPercentSol</th>\n",
       "      <th>pdbxDetails</th>\n",
       "      <th>phValue</th>\n",
       "      <th>publicationYear</th>\n",
       "    </tr>\n",
       "  </thead>\n",
       "  <tbody>\n",
       "    <tr>\n",
       "      <th>0</th>\n",
       "      <td>100D</td>\n",
       "      <td>DNA-RNA HYBRID</td>\n",
       "      <td>X-RAY DIFFRACTION</td>\n",
       "      <td>DNA/RNA Hybrid</td>\n",
       "      <td>20</td>\n",
       "      <td>1.90</td>\n",
       "      <td>6360.30</td>\n",
       "      <td>VAPOR DIFFUSION, HANGING DROP</td>\n",
       "      <td>NaN</td>\n",
       "      <td>1.78</td>\n",
       "      <td>30.89</td>\n",
       "      <td>pH 7.00, VAPOR DIFFUSION, HANGING DROP</td>\n",
       "      <td>7.0</td>\n",
       "      <td>1994.0</td>\n",
       "    </tr>\n",
       "    <tr>\n",
       "      <th>1</th>\n",
       "      <td>101D</td>\n",
       "      <td>DNA</td>\n",
       "      <td>X-RAY DIFFRACTION</td>\n",
       "      <td>DNA</td>\n",
       "      <td>24</td>\n",
       "      <td>2.25</td>\n",
       "      <td>7939.35</td>\n",
       "      <td>NaN</td>\n",
       "      <td>NaN</td>\n",
       "      <td>2.00</td>\n",
       "      <td>38.45</td>\n",
       "      <td>NaN</td>\n",
       "      <td>NaN</td>\n",
       "      <td>1995.0</td>\n",
       "    </tr>\n",
       "    <tr>\n",
       "      <th>2</th>\n",
       "      <td>101M</td>\n",
       "      <td>OXYGEN TRANSPORT</td>\n",
       "      <td>X-RAY DIFFRACTION</td>\n",
       "      <td>Protein</td>\n",
       "      <td>154</td>\n",
       "      <td>2.07</td>\n",
       "      <td>18112.80</td>\n",
       "      <td>NaN</td>\n",
       "      <td>NaN</td>\n",
       "      <td>3.09</td>\n",
       "      <td>60.20</td>\n",
       "      <td>3.0 M AMMONIUM SULFATE, 20 MM TRIS, 1MM EDTA, ...</td>\n",
       "      <td>9.0</td>\n",
       "      <td>1999.0</td>\n",
       "    </tr>\n",
       "    <tr>\n",
       "      <th>3</th>\n",
       "      <td>102D</td>\n",
       "      <td>DNA</td>\n",
       "      <td>X-RAY DIFFRACTION</td>\n",
       "      <td>DNA</td>\n",
       "      <td>24</td>\n",
       "      <td>2.20</td>\n",
       "      <td>7637.17</td>\n",
       "      <td>VAPOR DIFFUSION, SITTING DROP</td>\n",
       "      <td>277.0</td>\n",
       "      <td>2.28</td>\n",
       "      <td>46.06</td>\n",
       "      <td>pH 7.00, VAPOR DIFFUSION, SITTING DROP, temper...</td>\n",
       "      <td>7.0</td>\n",
       "      <td>1995.0</td>\n",
       "    </tr>\n",
       "    <tr>\n",
       "      <th>4</th>\n",
       "      <td>102L</td>\n",
       "      <td>HYDROLASE(O-GLYCOSYL)</td>\n",
       "      <td>X-RAY DIFFRACTION</td>\n",
       "      <td>Protein</td>\n",
       "      <td>165</td>\n",
       "      <td>1.74</td>\n",
       "      <td>18926.61</td>\n",
       "      <td>NaN</td>\n",
       "      <td>NaN</td>\n",
       "      <td>2.75</td>\n",
       "      <td>55.28</td>\n",
       "      <td>NaN</td>\n",
       "      <td>NaN</td>\n",
       "      <td>1993.0</td>\n",
       "    </tr>\n",
       "  </tbody>\n",
       "</table>\n",
       "</div>"
      ],
      "text/plain": [
       "  structureId         classification experimentalTechnique macromoleculeType  \\\n",
       "0        100D         DNA-RNA HYBRID     X-RAY DIFFRACTION    DNA/RNA Hybrid   \n",
       "1        101D                    DNA     X-RAY DIFFRACTION               DNA   \n",
       "2        101M       OXYGEN TRANSPORT     X-RAY DIFFRACTION           Protein   \n",
       "3        102D                    DNA     X-RAY DIFFRACTION               DNA   \n",
       "4        102L  HYDROLASE(O-GLYCOSYL)     X-RAY DIFFRACTION           Protein   \n",
       "\n",
       "   residueCount  resolution  structureMolecularWeight  \\\n",
       "0            20        1.90                   6360.30   \n",
       "1            24        2.25                   7939.35   \n",
       "2           154        2.07                  18112.80   \n",
       "3            24        2.20                   7637.17   \n",
       "4           165        1.74                  18926.61   \n",
       "\n",
       "           crystallizationMethod  crystallizationTempK  densityMatthews  \\\n",
       "0  VAPOR DIFFUSION, HANGING DROP                   NaN             1.78   \n",
       "1                            NaN                   NaN             2.00   \n",
       "2                            NaN                   NaN             3.09   \n",
       "3  VAPOR DIFFUSION, SITTING DROP                 277.0             2.28   \n",
       "4                            NaN                   NaN             2.75   \n",
       "\n",
       "   densityPercentSol                                        pdbxDetails  \\\n",
       "0              30.89             pH 7.00, VAPOR DIFFUSION, HANGING DROP   \n",
       "1              38.45                                                NaN   \n",
       "2              60.20  3.0 M AMMONIUM SULFATE, 20 MM TRIS, 1MM EDTA, ...   \n",
       "3              46.06  pH 7.00, VAPOR DIFFUSION, SITTING DROP, temper...   \n",
       "4              55.28                                                NaN   \n",
       "\n",
       "   phValue  publicationYear  \n",
       "0      7.0           1994.0  \n",
       "1      NaN           1995.0  \n",
       "2      9.0           1999.0  \n",
       "3      7.0           1995.0  \n",
       "4      NaN           1993.0  "
      ]
     },
     "execution_count": 5,
     "metadata": {},
     "output_type": "execute_result"
    }
   ],
   "source": [
    "#Show the first 5 rows of the function dataframe\n",
    "all_charcs_df.head()"
   ]
  },
  {
   "cell_type": "markdown",
   "metadata": {},
   "source": [
    "In both the sequence and function dataframes up above, there are both proteins and other macromolecules like DNA or DNA/RNA hybrids. We'll need to filter our data to just the protein sequences."
   ]
  },
  {
   "cell_type": "markdown",
   "metadata": {},
   "source": [
    "### Limit the data to proteins\n",
    "\n",
    "We saw that PDB data contains data on sturctures other than proteins, but we don't want those in our analysis. The code below drops all structures that aren't proteins from the sequence data and the function classification data."
   ]
  },
  {
   "cell_type": "code",
   "execution_count": 6,
   "metadata": {
    "id": "jJWVz6SvRNqe"
   },
   "outputs": [],
   "source": [
    "protein_seqs = all_seqs_df[all_seqs_df.macromoleculeType == 'Protein'].reset_index(drop=True) \n",
    "protein_charcs = all_charcs_df[all_charcs_df.macromoleculeType == 'Protein'].reset_index(drop=True)"
   ]
  },
  {
   "cell_type": "markdown",
   "metadata": {},
   "source": [
    "### Combine and Standardize the Data\n",
    "\n",
    "We want the data all in a single dataframe. We'll do this using the dataframe `.join()` method. We also want to drop proteins with unknown function, and to ensure all the proteins have consistent capitalization."
   ]
  },
  {
   "cell_type": "code",
   "execution_count": 7,
   "metadata": {},
   "outputs": [],
   "source": [
    "protein_seqs = protein_seqs[['structureId','sequence']]\n",
    "protein_charcs = protein_charcs[['structureId', 'classification']]\n",
    "\n",
    "# combine potein characteristics df with their sequences using structureId\n",
    "protein_all = protein_charcs.set_index('structureId').join(protein_seqs.set_index('structureId'))\n",
    "protein_all = protein_all.dropna()\n",
    "\n",
    "# capitalize all classification values to avoid missing any values in the next step\n",
    "protein_all.classification = protein_all.classification.str.upper()\n",
    "\n",
    "# drop all proteins with an unknown function; note -- the tilde ~ returns the inverse of a filter\n",
    "data = protein_all[~protein_all.classification.str.contains(\"UNKNOWN FUNCTION\")]"
   ]
  },
  {
   "cell_type": "markdown",
   "metadata": {},
   "source": [
    "#### Paring down our sequences\n",
    "In the following code, we drop all types of proteins that don't have more than 800 instances in the PDB. We also drop all of the duplicates of structures.\n"
   ]
  },
  {
   "cell_type": "code",
   "execution_count": 8,
   "metadata": {
    "scrolled": true
   },
   "outputs": [
    {
     "data": {
      "text/html": [
       "<div>\n",
       "<style scoped>\n",
       "    .dataframe tbody tr th:only-of-type {\n",
       "        vertical-align: middle;\n",
       "    }\n",
       "\n",
       "    .dataframe tbody tr th {\n",
       "        vertical-align: top;\n",
       "    }\n",
       "\n",
       "    .dataframe thead th {\n",
       "        text-align: right;\n",
       "    }\n",
       "</style>\n",
       "<table border=\"1\" class=\"dataframe\">\n",
       "  <thead>\n",
       "    <tr style=\"text-align: right;\">\n",
       "      <th></th>\n",
       "      <th>classification</th>\n",
       "      <th>sequence</th>\n",
       "    </tr>\n",
       "    <tr>\n",
       "      <th>structureId</th>\n",
       "      <th></th>\n",
       "      <th></th>\n",
       "    </tr>\n",
       "  </thead>\n",
       "  <tbody>\n",
       "    <tr>\n",
       "      <th>101M</th>\n",
       "      <td>OXYGEN TRANSPORT</td>\n",
       "      <td>MVLSEGEWQLVLHVWAKVEADVAGHGQDILIRLFKSHPETLEKFDR...</td>\n",
       "    </tr>\n",
       "    <tr>\n",
       "      <th>102M</th>\n",
       "      <td>OXYGEN TRANSPORT</td>\n",
       "      <td>MVLSEGEWQLVLHVWAKVEADVAGHGQDILIRLFKSHPETLEKFDR...</td>\n",
       "    </tr>\n",
       "    <tr>\n",
       "      <th>104M</th>\n",
       "      <td>OXYGEN TRANSPORT</td>\n",
       "      <td>VLSEGEWQLVLHVWAKVEADVAGHGQDILIRLFKSHPETLEKFDRF...</td>\n",
       "    </tr>\n",
       "    <tr>\n",
       "      <th>106M</th>\n",
       "      <td>OXYGEN TRANSPORT</td>\n",
       "      <td>MVLSEGEWQLVLHVWAKVEADVAGHGQDILIRLFKSHPETLEKFDR...</td>\n",
       "    </tr>\n",
       "    <tr>\n",
       "      <th>109M</th>\n",
       "      <td>OXYGEN TRANSPORT</td>\n",
       "      <td>MVLSEGEWQLVLHVWAKVEADVAGHGQDILIRLFKSHPETLEKFDR...</td>\n",
       "    </tr>\n",
       "  </tbody>\n",
       "</table>\n",
       "</div>"
      ],
      "text/plain": [
       "               classification  \\\n",
       "structureId                     \n",
       "101M         OXYGEN TRANSPORT   \n",
       "102M         OXYGEN TRANSPORT   \n",
       "104M         OXYGEN TRANSPORT   \n",
       "106M         OXYGEN TRANSPORT   \n",
       "109M         OXYGEN TRANSPORT   \n",
       "\n",
       "                                                      sequence  \n",
       "structureId                                                     \n",
       "101M         MVLSEGEWQLVLHVWAKVEADVAGHGQDILIRLFKSHPETLEKFDR...  \n",
       "102M         MVLSEGEWQLVLHVWAKVEADVAGHGQDILIRLFKSHPETLEKFDR...  \n",
       "104M         VLSEGEWQLVLHVWAKVEADVAGHGQDILIRLFKSHPETLEKFDRF...  \n",
       "106M         MVLSEGEWQLVLHVWAKVEADVAGHGQDILIRLFKSHPETLEKFDR...  \n",
       "109M         MVLSEGEWQLVLHVWAKVEADVAGHGQDILIRLFKSHPETLEKFDR...  "
      ]
     },
     "execution_count": 8,
     "metadata": {},
     "output_type": "execute_result"
    }
   ],
   "source": [
    "class_count = protein_all.classification.value_counts()\n",
    "functions = np.asarray(class_count[(class_count > 800)].index)\n",
    "data = protein_all[protein_all.classification.isin(functions)]\n",
    "data = data.drop_duplicates(subset=[\"classification\",\"sequence\"])\n",
    "data.head()"
   ]
  },
  {
   "cell_type": "markdown",
   "metadata": {},
   "source": [
    "#### Drop all sequences that aren't enzymes\n",
    "\n",
    "Notice in the head of our data, we see proteins that aren't enzymes (e.g., oxygen transport proteins). So we need to remove these in order to continue."
   ]
  },
  {
   "cell_type": "code",
   "execution_count": 9,
   "metadata": {},
   "outputs": [],
   "source": [
    "data.loc[~data['classification'].str.contains('ASE'), 'classification'] = 'OTHER'\n",
    "data = data.loc[~data['classification'].str.contains(\"OTHER\")]\n",
    "data.loc[data['classification'].str.contains('TRANSFERASE/TRANSFERASE INHIBITOR'), 'classification'] = 'TRANSFERASE'\n",
    "data.loc[data['classification'].str.contains('OXIDOREDUCTASE/OXIDOREDUCTASE INHIBITOR'), 'classification'] = 'OXIDOREDUCTASE'\n",
    "data.loc[data['classification'].str.contains('HYDROLASE/HYDROLASE INHIBITOR'), 'classification'] = 'HYDROLASE'"
   ]
  },
  {
   "cell_type": "markdown",
   "metadata": {},
   "source": [
    "#### Display how many of each type of enzyme class we have"
   ]
  },
  {
   "cell_type": "code",
   "execution_count": 10,
   "metadata": {
    "scrolled": false
   },
   "outputs": [
    {
     "name": "stdout",
     "output_type": "stream",
     "text": [
      "HYDROLASE         14716\n",
      "TRANSFERASE       10361\n",
      "OXIDOREDUCTASE     7591\n",
      "LYASE              2580\n",
      "ISOMERASE          1610\n",
      "LIGASE             1534\n",
      "Name: classification, dtype: int64\n"
     ]
    }
   ],
   "source": [
    "print(data.classification.value_counts())"
   ]
  },
  {
   "cell_type": "markdown",
   "metadata": {},
   "source": [
    "#### Let's look at what our data now looks like."
   ]
  },
  {
   "cell_type": "code",
   "execution_count": 11,
   "metadata": {},
   "outputs": [
    {
     "data": {
      "text/html": [
       "<div>\n",
       "<style scoped>\n",
       "    .dataframe tbody tr th:only-of-type {\n",
       "        vertical-align: middle;\n",
       "    }\n",
       "\n",
       "    .dataframe tbody tr th {\n",
       "        vertical-align: top;\n",
       "    }\n",
       "\n",
       "    .dataframe thead th {\n",
       "        text-align: right;\n",
       "    }\n",
       "</style>\n",
       "<table border=\"1\" class=\"dataframe\">\n",
       "  <thead>\n",
       "    <tr style=\"text-align: right;\">\n",
       "      <th></th>\n",
       "      <th>classification</th>\n",
       "      <th>sequence</th>\n",
       "    </tr>\n",
       "    <tr>\n",
       "      <th>structureId</th>\n",
       "      <th></th>\n",
       "      <th></th>\n",
       "    </tr>\n",
       "  </thead>\n",
       "  <tbody>\n",
       "    <tr>\n",
       "      <th>10GS</th>\n",
       "      <td>TRANSFERASE</td>\n",
       "      <td>PPYTVVYFPVRGRCAALRMLLADQGQSWKEEVVTVETWQEGSLKAS...</td>\n",
       "    </tr>\n",
       "    <tr>\n",
       "      <th>117E</th>\n",
       "      <td>HYDROLASE</td>\n",
       "      <td>TYTTRQIGAKNTLEYKVYIEKDGKPVSAFHDIPLYADKENNIFNMV...</td>\n",
       "    </tr>\n",
       "    <tr>\n",
       "      <th>11AS</th>\n",
       "      <td>LIGASE</td>\n",
       "      <td>MKTAYIAKQRQISFVKSHFSRQLEERLGLIEVQAPILSRVGDGTQD...</td>\n",
       "    </tr>\n",
       "    <tr>\n",
       "      <th>11BA</th>\n",
       "      <td>HYDROLASE</td>\n",
       "      <td>KESAAAKFERQHMDSGNSPSSSSNYCNLMMCCRKMTQGKCKPVNTF...</td>\n",
       "    </tr>\n",
       "    <tr>\n",
       "      <th>11GS</th>\n",
       "      <td>TRANSFERASE</td>\n",
       "      <td>MPPYTVVYFPVRGRCAALRMLLADQGQSWKEEVVTVETWQEGSLKA...</td>\n",
       "    </tr>\n",
       "    <tr>\n",
       "      <th>...</th>\n",
       "      <td>...</td>\n",
       "      <td>...</td>\n",
       "    </tr>\n",
       "    <tr>\n",
       "      <th>9ATC</th>\n",
       "      <td>TRANSFERASE</td>\n",
       "      <td>ANPLYQKHIISINDLSRDDLNLVLATAAKLKANPQPELLKHKVIAS...</td>\n",
       "    </tr>\n",
       "    <tr>\n",
       "      <th>9ATC</th>\n",
       "      <td>TRANSFERASE</td>\n",
       "      <td>QVEAIKRGTVIDHIPAQIGFKLLSLFKLTETDQRITIGLNLPSGEM...</td>\n",
       "    </tr>\n",
       "    <tr>\n",
       "      <th>9GAA</th>\n",
       "      <td>HYDROLASE</td>\n",
       "      <td>TTNKPIVLSTWNFGLHANVEAWKVLSKGGKALDAVEKGVRLVEDDP...</td>\n",
       "    </tr>\n",
       "    <tr>\n",
       "      <th>9GAC</th>\n",
       "      <td>HYDROLASE</td>\n",
       "      <td>TTNKPIVLSTWNFGLHANVEAWKVLSKGGKALDAVEKGVRLVEDDP...</td>\n",
       "    </tr>\n",
       "    <tr>\n",
       "      <th>9GAF</th>\n",
       "      <td>HYDROLASE</td>\n",
       "      <td>TTNKPIVLSTFNFGLHANVEAWKVLSKGGKALDAVEKGVRLVEDDP...</td>\n",
       "    </tr>\n",
       "  </tbody>\n",
       "</table>\n",
       "<p>38392 rows × 2 columns</p>\n",
       "</div>"
      ],
      "text/plain": [
       "            classification                                           sequence\n",
       "structureId                                                                  \n",
       "10GS           TRANSFERASE  PPYTVVYFPVRGRCAALRMLLADQGQSWKEEVVTVETWQEGSLKAS...\n",
       "117E             HYDROLASE  TYTTRQIGAKNTLEYKVYIEKDGKPVSAFHDIPLYADKENNIFNMV...\n",
       "11AS                LIGASE  MKTAYIAKQRQISFVKSHFSRQLEERLGLIEVQAPILSRVGDGTQD...\n",
       "11BA             HYDROLASE  KESAAAKFERQHMDSGNSPSSSSNYCNLMMCCRKMTQGKCKPVNTF...\n",
       "11GS           TRANSFERASE  MPPYTVVYFPVRGRCAALRMLLADQGQSWKEEVVTVETWQEGSLKA...\n",
       "...                    ...                                                ...\n",
       "9ATC           TRANSFERASE  ANPLYQKHIISINDLSRDDLNLVLATAAKLKANPQPELLKHKVIAS...\n",
       "9ATC           TRANSFERASE  QVEAIKRGTVIDHIPAQIGFKLLSLFKLTETDQRITIGLNLPSGEM...\n",
       "9GAA             HYDROLASE  TTNKPIVLSTWNFGLHANVEAWKVLSKGGKALDAVEKGVRLVEDDP...\n",
       "9GAC             HYDROLASE  TTNKPIVLSTWNFGLHANVEAWKVLSKGGKALDAVEKGVRLVEDDP...\n",
       "9GAF             HYDROLASE  TTNKPIVLSTFNFGLHANVEAWKVLSKGGKALDAVEKGVRLVEDDP...\n",
       "\n",
       "[38392 rows x 2 columns]"
      ]
     },
     "execution_count": 11,
     "metadata": {},
     "output_type": "execute_result"
    }
   ],
   "source": [
    "data"
   ]
  },
  {
   "cell_type": "markdown",
   "metadata": {},
   "source": [
    "### Feature Creation\n",
    "\n",
    "We are going to use a machine learning workflow to classify protein function from sequence, similar to having a classifier try to predict the name of a fruit from its properties. In order for a machine learning algorithm to classify our proteins, we need to create features that the computer can recognize. The same way, in order for us to classify different fruits, we would need features like color, shape, and size."
   ]
  },
  {
   "cell_type": "markdown",
   "metadata": {},
   "source": [
    "### Amino Acid Composition\n",
    "\n",
    "We will use the Amino Acid composition of protein sequences as the data for our machine learning classifiers. To do this, we basically have to calculate the percentage of each amino acid in each protein sequence."
   ]
  },
  {
   "cell_type": "markdown",
   "metadata": {},
   "source": [
    "#### Create function to convert amino acid sequence string into a list of percentages\n",
    "\n",
    "This next section of code defines a function that:\n",
    "1. creates a list of the amino acids\n",
    "2. makes a function that convert the amino acid sequence, seen in our previous step, into a list of percentages (e.g., [0.02, 0.13, 0.08, ...])"
   ]
  },
  {
   "cell_type": "code",
   "execution_count": 12,
   "metadata": {},
   "outputs": [],
   "source": [
    "def amino_acid_composition(seq):\n",
    "    \"\"\"\n",
    "    Returns a list of the percentages of each amino acid.\n",
    "    seq -- a string representing an amino acid sequence\n",
    "    \"\"\"\n",
    "    aa_list = ['A','R','N','D','C','Q','E','G','H','I','L','K','M','F','P','S','T','W','Y','V']\n",
    "    aac = []\n",
    "    for i in aa_list:\n",
    "        aac.append(seq.count(i)/len(seq))\n",
    "    return aac"
   ]
  },
  {
   "cell_type": "markdown",
   "metadata": {},
   "source": [
    "#### Build a new dataframe of the amino acid compositions, and one for enzyme classes\n",
    "This next step uses the `amino_acid_composition()` function on the enzyme sequences, and stores the result in the AAC column (**AAC** stands for **A**mino **A**acid **C**omposition). After that, we drop the sequences because we now have the amino acid compositions in their place. We then keep the enzyme classes in a seperate dataframe for the Classification step later on."
   ]
  },
  {
   "cell_type": "code",
   "execution_count": 13,
   "metadata": {},
   "outputs": [
    {
     "data": {
      "text/html": [
       "<div>\n",
       "<style scoped>\n",
       "    .dataframe tbody tr th:only-of-type {\n",
       "        vertical-align: middle;\n",
       "    }\n",
       "\n",
       "    .dataframe tbody tr th {\n",
       "        vertical-align: top;\n",
       "    }\n",
       "\n",
       "    .dataframe thead th {\n",
       "        text-align: right;\n",
       "    }\n",
       "</style>\n",
       "<table border=\"1\" class=\"dataframe\">\n",
       "  <thead>\n",
       "    <tr style=\"text-align: right;\">\n",
       "      <th></th>\n",
       "      <th>classification</th>\n",
       "      <th>AAC</th>\n",
       "    </tr>\n",
       "    <tr>\n",
       "      <th>structureId</th>\n",
       "      <th></th>\n",
       "      <th></th>\n",
       "    </tr>\n",
       "  </thead>\n",
       "  <tbody>\n",
       "    <tr>\n",
       "      <th>10GS</th>\n",
       "      <td>TRANSFERASE</td>\n",
       "      <td>[0.07177033492822966, 0.03827751196172249, 0.0...</td>\n",
       "    </tr>\n",
       "    <tr>\n",
       "      <th>117E</th>\n",
       "      <td>HYDROLASE</td>\n",
       "      <td>[0.07692307692307693, 0.02097902097902098, 0.0...</td>\n",
       "    </tr>\n",
       "    <tr>\n",
       "      <th>11AS</th>\n",
       "      <td>LIGASE</td>\n",
       "      <td>[0.08787878787878788, 0.05757575757575758, 0.0...</td>\n",
       "    </tr>\n",
       "    <tr>\n",
       "      <th>11BA</th>\n",
       "      <td>HYDROLASE</td>\n",
       "      <td>[0.06451612903225806, 0.03225806451612903, 0.0...</td>\n",
       "    </tr>\n",
       "    <tr>\n",
       "      <th>11GS</th>\n",
       "      <td>TRANSFERASE</td>\n",
       "      <td>[0.07142857142857142, 0.0380952380952381, 0.03...</td>\n",
       "    </tr>\n",
       "    <tr>\n",
       "      <th>12GS</th>\n",
       "      <td>TRANSFERASE</td>\n",
       "      <td>[0.07142857142857142, 0.0380952380952381, 0.03...</td>\n",
       "    </tr>\n",
       "    <tr>\n",
       "      <th>177L</th>\n",
       "      <td>HYDROLASE</td>\n",
       "      <td>[0.0975609756097561, 0.07317073170731707, 0.07...</td>\n",
       "    </tr>\n",
       "    <tr>\n",
       "      <th>17GS</th>\n",
       "      <td>TRANSFERASE</td>\n",
       "      <td>[0.0761904761904762, 0.0380952380952381, 0.038...</td>\n",
       "    </tr>\n",
       "    <tr>\n",
       "      <th>19GS</th>\n",
       "      <td>TRANSFERASE</td>\n",
       "      <td>[0.07177033492822966, 0.03827751196172249, 0.0...</td>\n",
       "    </tr>\n",
       "    <tr>\n",
       "      <th>1A05</th>\n",
       "      <td>OXIDOREDUCTASE</td>\n",
       "      <td>[0.1452513966480447, 0.0782122905027933, 0.025...</td>\n",
       "    </tr>\n",
       "  </tbody>\n",
       "</table>\n",
       "</div>"
      ],
      "text/plain": [
       "             classification                                                AAC\n",
       "structureId                                                                   \n",
       "10GS            TRANSFERASE  [0.07177033492822966, 0.03827751196172249, 0.0...\n",
       "117E              HYDROLASE  [0.07692307692307693, 0.02097902097902098, 0.0...\n",
       "11AS                 LIGASE  [0.08787878787878788, 0.05757575757575758, 0.0...\n",
       "11BA              HYDROLASE  [0.06451612903225806, 0.03225806451612903, 0.0...\n",
       "11GS            TRANSFERASE  [0.07142857142857142, 0.0380952380952381, 0.03...\n",
       "12GS            TRANSFERASE  [0.07142857142857142, 0.0380952380952381, 0.03...\n",
       "177L              HYDROLASE  [0.0975609756097561, 0.07317073170731707, 0.07...\n",
       "17GS            TRANSFERASE  [0.0761904761904762, 0.0380952380952381, 0.038...\n",
       "19GS            TRANSFERASE  [0.07177033492822966, 0.03827751196172249, 0.0...\n",
       "1A05         OXIDOREDUCTASE  [0.1452513966480447, 0.0782122905027933, 0.025..."
      ]
     },
     "execution_count": 13,
     "metadata": {},
     "output_type": "execute_result"
    }
   ],
   "source": [
    "data['AAC'] = data['sequence'].apply(amino_acid_composition)\n",
    "data.drop(columns='sequence', inplace=True)\n",
    "data_classes = data['classification']\n",
    "data.head(10)"
   ]
  },
  {
   "cell_type": "markdown",
   "metadata": {},
   "source": [
    "#### Expand list of amino acid compositions into columns\n",
    "The next two sections of code are going to convert our AAC column in the previous step into a series of columns, each with the heading being each amino acid."
   ]
  },
  {
   "cell_type": "code",
   "execution_count": 14,
   "metadata": {},
   "outputs": [],
   "source": [
    "def build_amino_acid_dictionary(percentage_list):\n",
    "    \"\"\"\n",
    "    Returns a dictionary with the keys being the list of amino acids (aa_list) and the value being the percentage\n",
    "    list -- list of amino acids composition percentages\n",
    "    \"\"\"\n",
    "    aa_list = ['A','R','N','D','C','Q','E','G','H','I','L','K','M','F','P','S','T','W','Y','V']    \n",
    "    return dict(zip(aa_list,percentage_list))"
   ]
  },
  {
   "cell_type": "code",
   "execution_count": 15,
   "metadata": {},
   "outputs": [
    {
     "data": {
      "text/html": [
       "<div>\n",
       "<style scoped>\n",
       "    .dataframe tbody tr th:only-of-type {\n",
       "        vertical-align: middle;\n",
       "    }\n",
       "\n",
       "    .dataframe tbody tr th {\n",
       "        vertical-align: top;\n",
       "    }\n",
       "\n",
       "    .dataframe thead th {\n",
       "        text-align: right;\n",
       "    }\n",
       "</style>\n",
       "<table border=\"1\" class=\"dataframe\">\n",
       "  <thead>\n",
       "    <tr style=\"text-align: right;\">\n",
       "      <th></th>\n",
       "      <th>A</th>\n",
       "      <th>R</th>\n",
       "      <th>N</th>\n",
       "      <th>D</th>\n",
       "      <th>C</th>\n",
       "      <th>Q</th>\n",
       "      <th>E</th>\n",
       "      <th>G</th>\n",
       "      <th>H</th>\n",
       "      <th>I</th>\n",
       "      <th>L</th>\n",
       "      <th>K</th>\n",
       "      <th>M</th>\n",
       "      <th>F</th>\n",
       "      <th>P</th>\n",
       "      <th>S</th>\n",
       "      <th>T</th>\n",
       "      <th>W</th>\n",
       "      <th>Y</th>\n",
       "      <th>V</th>\n",
       "    </tr>\n",
       "    <tr>\n",
       "      <th>structureId</th>\n",
       "      <th></th>\n",
       "      <th></th>\n",
       "      <th></th>\n",
       "      <th></th>\n",
       "      <th></th>\n",
       "      <th></th>\n",
       "      <th></th>\n",
       "      <th></th>\n",
       "      <th></th>\n",
       "      <th></th>\n",
       "      <th></th>\n",
       "      <th></th>\n",
       "      <th></th>\n",
       "      <th></th>\n",
       "      <th></th>\n",
       "      <th></th>\n",
       "      <th></th>\n",
       "      <th></th>\n",
       "      <th></th>\n",
       "      <th></th>\n",
       "    </tr>\n",
       "  </thead>\n",
       "  <tbody>\n",
       "    <tr>\n",
       "      <th>10GS</th>\n",
       "      <td>0.071770</td>\n",
       "      <td>0.038278</td>\n",
       "      <td>0.038278</td>\n",
       "      <td>0.062201</td>\n",
       "      <td>0.019139</td>\n",
       "      <td>0.062201</td>\n",
       "      <td>0.047847</td>\n",
       "      <td>0.086124</td>\n",
       "      <td>0.009569</td>\n",
       "      <td>0.033493</td>\n",
       "      <td>0.153110</td>\n",
       "      <td>0.057416</td>\n",
       "      <td>0.009569</td>\n",
       "      <td>0.033493</td>\n",
       "      <td>0.052632</td>\n",
       "      <td>0.047847</td>\n",
       "      <td>0.043062</td>\n",
       "      <td>0.009569</td>\n",
       "      <td>0.057416</td>\n",
       "      <td>0.066986</td>\n",
       "    </tr>\n",
       "    <tr>\n",
       "      <th>117E</th>\n",
       "      <td>0.076923</td>\n",
       "      <td>0.020979</td>\n",
       "      <td>0.055944</td>\n",
       "      <td>0.080420</td>\n",
       "      <td>0.003497</td>\n",
       "      <td>0.024476</td>\n",
       "      <td>0.069930</td>\n",
       "      <td>0.055944</td>\n",
       "      <td>0.020979</td>\n",
       "      <td>0.094406</td>\n",
       "      <td>0.062937</td>\n",
       "      <td>0.101399</td>\n",
       "      <td>0.006993</td>\n",
       "      <td>0.038462</td>\n",
       "      <td>0.066434</td>\n",
       "      <td>0.045455</td>\n",
       "      <td>0.066434</td>\n",
       "      <td>0.020979</td>\n",
       "      <td>0.038462</td>\n",
       "      <td>0.048951</td>\n",
       "    </tr>\n",
       "    <tr>\n",
       "      <th>11AS</th>\n",
       "      <td>0.087879</td>\n",
       "      <td>0.057576</td>\n",
       "      <td>0.009091</td>\n",
       "      <td>0.072727</td>\n",
       "      <td>0.000000</td>\n",
       "      <td>0.060606</td>\n",
       "      <td>0.069697</td>\n",
       "      <td>0.087879</td>\n",
       "      <td>0.039394</td>\n",
       "      <td>0.042424</td>\n",
       "      <td>0.121212</td>\n",
       "      <td>0.045455</td>\n",
       "      <td>0.018182</td>\n",
       "      <td>0.030303</td>\n",
       "      <td>0.042424</td>\n",
       "      <td>0.066667</td>\n",
       "      <td>0.036364</td>\n",
       "      <td>0.024242</td>\n",
       "      <td>0.015152</td>\n",
       "      <td>0.072727</td>\n",
       "    </tr>\n",
       "    <tr>\n",
       "      <th>11BA</th>\n",
       "      <td>0.064516</td>\n",
       "      <td>0.032258</td>\n",
       "      <td>0.056452</td>\n",
       "      <td>0.032258</td>\n",
       "      <td>0.080645</td>\n",
       "      <td>0.048387</td>\n",
       "      <td>0.040323</td>\n",
       "      <td>0.048387</td>\n",
       "      <td>0.032258</td>\n",
       "      <td>0.024194</td>\n",
       "      <td>0.016129</td>\n",
       "      <td>0.112903</td>\n",
       "      <td>0.040323</td>\n",
       "      <td>0.024194</td>\n",
       "      <td>0.040323</td>\n",
       "      <td>0.120968</td>\n",
       "      <td>0.072581</td>\n",
       "      <td>0.000000</td>\n",
       "      <td>0.032258</td>\n",
       "      <td>0.080645</td>\n",
       "    </tr>\n",
       "    <tr>\n",
       "      <th>11GS</th>\n",
       "      <td>0.071429</td>\n",
       "      <td>0.038095</td>\n",
       "      <td>0.038095</td>\n",
       "      <td>0.061905</td>\n",
       "      <td>0.019048</td>\n",
       "      <td>0.061905</td>\n",
       "      <td>0.047619</td>\n",
       "      <td>0.085714</td>\n",
       "      <td>0.009524</td>\n",
       "      <td>0.033333</td>\n",
       "      <td>0.152381</td>\n",
       "      <td>0.057143</td>\n",
       "      <td>0.014286</td>\n",
       "      <td>0.033333</td>\n",
       "      <td>0.052381</td>\n",
       "      <td>0.047619</td>\n",
       "      <td>0.042857</td>\n",
       "      <td>0.009524</td>\n",
       "      <td>0.057143</td>\n",
       "      <td>0.066667</td>\n",
       "    </tr>\n",
       "    <tr>\n",
       "      <th>12GS</th>\n",
       "      <td>0.071429</td>\n",
       "      <td>0.038095</td>\n",
       "      <td>0.038095</td>\n",
       "      <td>0.061905</td>\n",
       "      <td>0.019048</td>\n",
       "      <td>0.061905</td>\n",
       "      <td>0.047619</td>\n",
       "      <td>0.085714</td>\n",
       "      <td>0.009524</td>\n",
       "      <td>0.033333</td>\n",
       "      <td>0.152381</td>\n",
       "      <td>0.057143</td>\n",
       "      <td>0.014286</td>\n",
       "      <td>0.033333</td>\n",
       "      <td>0.052381</td>\n",
       "      <td>0.047619</td>\n",
       "      <td>0.042857</td>\n",
       "      <td>0.009524</td>\n",
       "      <td>0.057143</td>\n",
       "      <td>0.066667</td>\n",
       "    </tr>\n",
       "    <tr>\n",
       "      <th>177L</th>\n",
       "      <td>0.097561</td>\n",
       "      <td>0.073171</td>\n",
       "      <td>0.073171</td>\n",
       "      <td>0.054878</td>\n",
       "      <td>0.012195</td>\n",
       "      <td>0.030488</td>\n",
       "      <td>0.048780</td>\n",
       "      <td>0.067073</td>\n",
       "      <td>0.006098</td>\n",
       "      <td>0.060976</td>\n",
       "      <td>0.097561</td>\n",
       "      <td>0.079268</td>\n",
       "      <td>0.030488</td>\n",
       "      <td>0.030488</td>\n",
       "      <td>0.018293</td>\n",
       "      <td>0.036585</td>\n",
       "      <td>0.073171</td>\n",
       "      <td>0.018293</td>\n",
       "      <td>0.036585</td>\n",
       "      <td>0.054878</td>\n",
       "    </tr>\n",
       "    <tr>\n",
       "      <th>17GS</th>\n",
       "      <td>0.076190</td>\n",
       "      <td>0.038095</td>\n",
       "      <td>0.038095</td>\n",
       "      <td>0.061905</td>\n",
       "      <td>0.019048</td>\n",
       "      <td>0.061905</td>\n",
       "      <td>0.047619</td>\n",
       "      <td>0.085714</td>\n",
       "      <td>0.009524</td>\n",
       "      <td>0.033333</td>\n",
       "      <td>0.152381</td>\n",
       "      <td>0.052381</td>\n",
       "      <td>0.014286</td>\n",
       "      <td>0.033333</td>\n",
       "      <td>0.052381</td>\n",
       "      <td>0.047619</td>\n",
       "      <td>0.042857</td>\n",
       "      <td>0.009524</td>\n",
       "      <td>0.057143</td>\n",
       "      <td>0.066667</td>\n",
       "    </tr>\n",
       "    <tr>\n",
       "      <th>19GS</th>\n",
       "      <td>0.071770</td>\n",
       "      <td>0.038278</td>\n",
       "      <td>0.038278</td>\n",
       "      <td>0.062201</td>\n",
       "      <td>0.019139</td>\n",
       "      <td>0.062201</td>\n",
       "      <td>0.047847</td>\n",
       "      <td>0.086124</td>\n",
       "      <td>0.009569</td>\n",
       "      <td>0.033493</td>\n",
       "      <td>0.153110</td>\n",
       "      <td>0.057416</td>\n",
       "      <td>0.009569</td>\n",
       "      <td>0.033493</td>\n",
       "      <td>0.052632</td>\n",
       "      <td>0.047847</td>\n",
       "      <td>0.043062</td>\n",
       "      <td>0.009569</td>\n",
       "      <td>0.057416</td>\n",
       "      <td>0.066986</td>\n",
       "    </tr>\n",
       "    <tr>\n",
       "      <th>1A05</th>\n",
       "      <td>0.145251</td>\n",
       "      <td>0.078212</td>\n",
       "      <td>0.025140</td>\n",
       "      <td>0.078212</td>\n",
       "      <td>0.005587</td>\n",
       "      <td>0.044693</td>\n",
       "      <td>0.044693</td>\n",
       "      <td>0.083799</td>\n",
       "      <td>0.013966</td>\n",
       "      <td>0.053073</td>\n",
       "      <td>0.114525</td>\n",
       "      <td>0.027933</td>\n",
       "      <td>0.030726</td>\n",
       "      <td>0.019553</td>\n",
       "      <td>0.058659</td>\n",
       "      <td>0.036313</td>\n",
       "      <td>0.033520</td>\n",
       "      <td>0.008380</td>\n",
       "      <td>0.019553</td>\n",
       "      <td>0.078212</td>\n",
       "    </tr>\n",
       "  </tbody>\n",
       "</table>\n",
       "</div>"
      ],
      "text/plain": [
       "                    A         R         N         D         C         Q  \\\n",
       "structureId                                                               \n",
       "10GS         0.071770  0.038278  0.038278  0.062201  0.019139  0.062201   \n",
       "117E         0.076923  0.020979  0.055944  0.080420  0.003497  0.024476   \n",
       "11AS         0.087879  0.057576  0.009091  0.072727  0.000000  0.060606   \n",
       "11BA         0.064516  0.032258  0.056452  0.032258  0.080645  0.048387   \n",
       "11GS         0.071429  0.038095  0.038095  0.061905  0.019048  0.061905   \n",
       "12GS         0.071429  0.038095  0.038095  0.061905  0.019048  0.061905   \n",
       "177L         0.097561  0.073171  0.073171  0.054878  0.012195  0.030488   \n",
       "17GS         0.076190  0.038095  0.038095  0.061905  0.019048  0.061905   \n",
       "19GS         0.071770  0.038278  0.038278  0.062201  0.019139  0.062201   \n",
       "1A05         0.145251  0.078212  0.025140  0.078212  0.005587  0.044693   \n",
       "\n",
       "                    E         G         H         I         L         K  \\\n",
       "structureId                                                               \n",
       "10GS         0.047847  0.086124  0.009569  0.033493  0.153110  0.057416   \n",
       "117E         0.069930  0.055944  0.020979  0.094406  0.062937  0.101399   \n",
       "11AS         0.069697  0.087879  0.039394  0.042424  0.121212  0.045455   \n",
       "11BA         0.040323  0.048387  0.032258  0.024194  0.016129  0.112903   \n",
       "11GS         0.047619  0.085714  0.009524  0.033333  0.152381  0.057143   \n",
       "12GS         0.047619  0.085714  0.009524  0.033333  0.152381  0.057143   \n",
       "177L         0.048780  0.067073  0.006098  0.060976  0.097561  0.079268   \n",
       "17GS         0.047619  0.085714  0.009524  0.033333  0.152381  0.052381   \n",
       "19GS         0.047847  0.086124  0.009569  0.033493  0.153110  0.057416   \n",
       "1A05         0.044693  0.083799  0.013966  0.053073  0.114525  0.027933   \n",
       "\n",
       "                    M         F         P         S         T         W  \\\n",
       "structureId                                                               \n",
       "10GS         0.009569  0.033493  0.052632  0.047847  0.043062  0.009569   \n",
       "117E         0.006993  0.038462  0.066434  0.045455  0.066434  0.020979   \n",
       "11AS         0.018182  0.030303  0.042424  0.066667  0.036364  0.024242   \n",
       "11BA         0.040323  0.024194  0.040323  0.120968  0.072581  0.000000   \n",
       "11GS         0.014286  0.033333  0.052381  0.047619  0.042857  0.009524   \n",
       "12GS         0.014286  0.033333  0.052381  0.047619  0.042857  0.009524   \n",
       "177L         0.030488  0.030488  0.018293  0.036585  0.073171  0.018293   \n",
       "17GS         0.014286  0.033333  0.052381  0.047619  0.042857  0.009524   \n",
       "19GS         0.009569  0.033493  0.052632  0.047847  0.043062  0.009569   \n",
       "1A05         0.030726  0.019553  0.058659  0.036313  0.033520  0.008380   \n",
       "\n",
       "                    Y         V  \n",
       "structureId                      \n",
       "10GS         0.057416  0.066986  \n",
       "117E         0.038462  0.048951  \n",
       "11AS         0.015152  0.072727  \n",
       "11BA         0.032258  0.080645  \n",
       "11GS         0.057143  0.066667  \n",
       "12GS         0.057143  0.066667  \n",
       "177L         0.036585  0.054878  \n",
       "17GS         0.057143  0.066667  \n",
       "19GS         0.057416  0.066986  \n",
       "1A05         0.019553  0.078212  "
      ]
     },
     "execution_count": 15,
     "metadata": {},
     "output_type": "execute_result"
    }
   ],
   "source": [
    "data['dictAAC'] = data.AAC.apply(build_amino_acid_dictionary)\n",
    "data = data.dictAAC.apply(pd.Series)\n",
    "data.head(10)"
   ]
  },
  {
   "cell_type": "markdown",
   "metadata": {},
   "source": [
    "## Classification"
   ]
  },
  {
   "cell_type": "markdown",
   "metadata": {},
   "source": [
    "#### Splitting our data into training data and test data\n",
    "The train_test_split() function seperates our data in training data and test data.\n",
    "\n",
    "In order to be able to tell whether our method is working, we want to split up the protein sequences into two sets. The first will be the 'training set' on which the machine learning classifiers learn to tell which protein functions go with which features of amino acid composition. The second will be the 'test set' which *wasn't* used in training. We'll use the test set to test the accuracy of our classifiers.\n",
    "\n",
    "Going back to the fruit example mentioned earlier -- if we want to classify a fruit we haven't seen before, we need to be trained on what different fruits look like.\n",
    "\n",
    "For example: if I place an apple and an orange in front of a toddler, the toddler will have no idea what kind of fruit it is. But, if I expose that toddler to different fruits, explaining what makes an apple an apple, what makes an orange an orange, etc., they will be able to classify whether any fruit I place in front of it is an apple, an orange, etc. That is similar to our training data.\n",
    "\n",
    "In addition, the training data and test data need to be different in order to test if our classifiers are truly predicting the function.\n",
    "\n",
    "Again, going back to the fruit example: if we show that same toddler a red apple they have already seen before, and ask them if that exact same piece of fruit is an apple, we are simply testing memory and not whether it can infer whether any given fruit is an apple or orange. On the other hand if we show them a different type of apple (maybe green rather than red), we can really see if they get the idea of what makes an apple an apple.\n",
    "\n",
    "Helpfully, scikit-learn already has a function for splitting up training and test data called `train_test_split`."
   ]
  },
  {
   "cell_type": "code",
   "execution_count": 16,
   "metadata": {},
   "outputs": [],
   "source": [
    "#Split data into training and test sets\n",
    "X = data\n",
    "y = data_classes\n",
    "X_train, X_test, y_train, y_test = train_test_split(X, y, train_size=0.85)"
   ]
  },
  {
   "cell_type": "markdown",
   "metadata": {},
   "source": [
    "## Train and Test our Classifiers\n",
    "\n",
    "Now that we have training and test datasets with known amino acid compositions and enzymatic functions, we can use them to train and then test any machine learning algorithms we'd like to try out. In this vignette we'll use two approaches: a k-nearest neighbors classifier and a binary decision tree."
   ]
  },
  {
   "cell_type": "markdown",
   "metadata": {},
   "source": [
    "### K-Nearest Neighbors Classifier"
   ]
  },
  {
   "cell_type": "markdown",
   "metadata": {},
   "source": [
    "#### Quick Explanation\n",
    "\n",
    "A k-nearest neighbors classifier is a supervised classification algorithm that plots your on axes of a given number of dimensions. The amount of dimensions depends on how many dimensions your input data is in (e.g., input data with two traits to classify on, will create k-nearest neighbors classifier that plots data in two dimensions). Displayed below is an example to illustrate how a k-nearest neighbors classifier works. Here we have two dimensional data and the purple dot in the center is the point we are trying to classify. Surrounding our point are points with known classification. A k-nearest neighbors classifier will count how many of each class is in the k-nearest neighbors and make a decision based on which class makes up the majority. We can see that when *k*=1, we would decide that our point is in Class B. When *k*=3, Class A, and when *k*=5, Class B again. \n",
    "\n",
    "Note: when we are choosing our number for *k*, we never choose an even number because if there are an equal number of Class A and Class B in our sample, we can end up with an equal number of each, which doesn't allow the classifier to make a decision.\n",
    "\n",
    "\n",
    "<img src=\"./knnexample.png\" width=600px align=\"center\" description=\"A vertebrate binary decision tree\">\n"
   ]
  },
  {
   "cell_type": "code",
   "execution_count": 17,
   "metadata": {},
   "outputs": [
    {
     "name": "stdout",
     "output_type": "stream",
     "text": [
      "Classification accuracy (kNN): 0.7628060427157493\n"
     ]
    }
   ],
   "source": [
    "knn = KNeighborsClassifier(n_neighbors = 1)\n",
    "knn.fit(X_train, y_train)\n",
    "\n",
    "knn_predictions = knn.predict(X_test)\n",
    "knn_score = accuracy_score(y_test, knn_predictions)\n",
    "print(f'Classification accuracy (kNN): {knn_score}')"
   ]
  },
  {
   "cell_type": "markdown",
   "metadata": {},
   "source": [
    "### Binary Decision Tree"
   ]
  },
  {
   "cell_type": "markdown",
   "metadata": {},
   "source": [
    "#### Quick Explanation\n",
    "\n",
    "A binary decision tree is another supervised classification algorithm that makes a \"tree\" of questions that help the algorithm make decision on what it is trying to categorize. Displayed below is an example to illustrate how a binary decision tree could be used to classify some drinks. The complexity of a binary decision tree can be explained by the number of nodes (or questions) that are needed to classify any given object. In this case simple example, the number of nodes is 2. The next section of code will call the binary decision tree classifier, learn from our training data, predict the classification of the test data and and output the accuracy of the predictions.\n",
    "\n",
    "For further explanation, Michael Galarnyk from Towards Data Science has a great explanation of binary decision trees [here](https://towardsdatascience.com/understanding-decision-trees-for-classification-python-9663d683c952).\n",
    "\n",
    "<img src=\"./bdtexample.png\" width=800px align=\"center\" description=\"A vertebrate binary decision tree\">\n"
   ]
  },
  {
   "cell_type": "code",
   "execution_count": 18,
   "metadata": {},
   "outputs": [
    {
     "name": "stdout",
     "output_type": "stream",
     "text": [
      "Classification accuracy (BDT): 0.6379579788157667\n"
     ]
    }
   ],
   "source": [
    "bdt = tree.DecisionTreeClassifier()\n",
    "bdt.fit(X_train, y_train)\n",
    "\n",
    "bdt_predictions = bdt.predict(X_test)\n",
    "bdt_score = accuracy_score(y_test, bdt_predictions)\n",
    "print(f'Classification accuracy (BDT): {bdt_score}')"
   ]
  },
  {
   "cell_type": "markdown",
   "metadata": {},
   "source": [
    "## Comparing the classifiers"
   ]
  },
  {
   "cell_type": "markdown",
   "metadata": {},
   "source": [
    "#### Making a graph of the scores for each classifier"
   ]
  },
  {
   "cell_type": "code",
   "execution_count": 19,
   "metadata": {},
   "outputs": [
    {
     "data": {
      "image/png": "[encoded data removed]",
      "text/plain": [
       "<Figure size 432x288 with 1 Axes>"
      ]
     },
     "metadata": {
      "needs_background": "light"
     },
     "output_type": "display_data"
    }
   ],
   "source": [
    "accuracy_dictionary = {'KNN': knn_score, 'BDT': bdt_score}\n",
    "keys = accuracy_dictionary.keys()\n",
    "values = accuracy_dictionary.values()\n",
    "magenta = \"#ff13a8\"\n",
    "orange = \"#fdad01\"\n",
    "plt.bar(keys, values, color=[magenta, orange])\n",
    "plt.xlabel('Classifier Type')\n",
    "plt.ylabel('Accuracy Score (%)')\n",
    "plt.show()"
   ]
  },
  {
   "cell_type": "code",
   "execution_count": 20,
   "metadata": {},
   "outputs": [
    {
     "name": "stdout",
     "output_type": "stream",
     "text": [
      "Accuracy of KNN is ~76.3%\n",
      "Accuracy of BDT is ~63.8%\n"
     ]
    }
   ],
   "source": [
    "for k,v in accuracy_dictionary.items():\n",
    "    print(f'Accuracy of {k} is ~{round(v*100,1)}%')"
   ]
  },
  {
   "cell_type": "markdown",
   "metadata": {},
   "source": [
    "We can see above that the k-nearest neighbors classifer is a better predictor of enzyme function than a binary decision tree in this example."
   ]
  },
  {
   "cell_type": "markdown",
   "metadata": {},
   "source": [
    "## Exercises\n",
    "\n",
    "1. Try removing the \"np.random.seed(7)\" line from the code and see what results you get for the classification steps\n",
    "\n",
    "2. Try changing the number of neighbors used in the k-Nearest Neighbors Classifier. Does the accuracy change?\n",
    "\n",
    "3. Use a for loop to automate trying out different numbers of neighbors with k-Nearest Neighbors, and select the best one based on its test accuracy.\n",
    "\n",
    "4. The bdt.tree_.node_count property of the binary decision tree says how many nodes were needed for the classifier to make a decision. Try using it to find this out after the binary decision tree classifier has been made.\n",
    "\n",
    "5. The [scikit-learn library](https://scikit-learn.org/stable/) has many other classifiers besides k-nearest neighbors and binary decision trees. Research one of them and try applying it to our dataset."
   ]
  },
  {
   "cell_type": "markdown",
   "metadata": {},
   "source": [
    "## [Reading Responses & Feedback](https://docs.google.com/forms/d/e/1FAIpQLSeUQPI_JbyKcX1juAFLt5z1CLzC2vTqaCYySUAYCNElNwZqqQ/viewform?usp=pp_url&entry.2118603224=Bioinformatics+Vignette+-+Ayomikun+Akinrinade+-+Using+k-Nearest+Neighbor+and+Binary+Decision+Tree+Algorithms+to+Predict+Enzyme+Function+from+Protein+Sequences)"
   ]
  },
  {
   "cell_type": "markdown",
   "metadata": {},
   "source": [
    "## Further Reading\n",
    "\n",
    "- The scikit-learn documentation is very useful for finding example machine learning methods\n",
    "https://scikit-learn.org/stable/\n",
    "\n",
    "- You can read the original description of the protein data bank (PDB) here:\n",
    "\n",
    "Helen M. Berman, John Westbrook, Zukang Feng, Gary Gilliland, T. N. Bhat, Helge Weissig, Ilya N. Shindyalov, Philip E. Bourne, The Protein Data Bank, Nucleic Acids Research, Volume 28, Issue 1, 1 January 2000, Pages 235–242, https://doi.org/10.1093/nar/28.1.235"
   ]
  },
  {
   "cell_type": "markdown",
   "metadata": {},
   "source": [
    "## Acknowledgements\n",
    "\n",
    "Thanks to Shahir Kottilingal (https://www.shahirk.com/) for compiling the dataset used for this vignette, which can be found at: https://www.kaggle.com/shahir/protein-data-set"
   ]
  }
 ],
 "metadata": {
  "colab": {
   "collapsed_sections": [],
   "name": "Untitled0.ipynb",
   "provenance": []
  },
  "interpreter": {
   "hash": "b0fa6594d8f4cbf19f97940f81e996739fb7646882a419484c72d19e05852a7e"
  },
  "kernelspec": {
   "display_name": "Python 3",
   "language": "python",
   "name": "python3"
  },
  "language_info": {
   "codemirror_mode": {
    "name": "ipython",
    "version": 3
   },
   "file_extension": ".py",
   "mimetype": "text/x-python",
   "name": "python",
   "nbconvert_exporter": "python",
   "pygments_lexer": "ipython3",
   "version": "3.8.8"
  }
 },
 "nbformat": 4,
 "nbformat_minor": 1
}
