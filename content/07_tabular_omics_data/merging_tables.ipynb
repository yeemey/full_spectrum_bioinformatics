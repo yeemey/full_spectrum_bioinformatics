{
 "cells": [
  {
   "cell_type": "markdown",
   "id": "65bffa72",
   "metadata": {},
   "source": [
    "# Combining and Filtering Data Tables in `pandas` "
   ]
  },
  {
   "cell_type": "markdown",
   "id": "a45e3393",
   "metadata": {},
   "source": [
    "## In this section\n",
    "\n",
    "- Using the `merge` and `join` methods to combine pandas `DataFrames`\n",
    "- Filtering missing data out of pandas `DataFrames`"
   ]
  },
  {
   "cell_type": "markdown",
   "id": "4f63c666",
   "metadata": {},
   "source": [
    "## Prerequisites\n",
    "\n",
    "- Running python\n",
    "- Basic variable assignment and calling functions in python\n",
    "- Loading pandas `DataFrames`"
   ]
  },
  {
   "cell_type": "markdown",
   "id": "d8441d76",
   "metadata": {},
   "source": [
    "## Table of Content\n",
    "\n",
    "* [Bioinformatic analysis often involves combining data from multiple sources](#Bioinformatic-analysis-often-involves-combining-data-from-multiple-sources)\n",
    "* [Merging and Joining `pandas` `DataFrames`](#Merging-Tables-in-Pandas)\n",
    "* [Handling Missing Data](#Handling-Missing-Data)\n",
    "   \n",
    "   -[Method 1: the `dropna` method](#Method-1---use-the-built-in-dropna-method)\n",
    "   \n",
    "   -[Method 2: identify and filter out `NaN` rows](#Method-2---identify-and-remove-rows-with-NaN-values-using-row-filtering-and-logic-operations)\n",
    "* [A Biological Example: Combining Coral Datasets](#A-Biological-Example---Combining-Coral-Datasets)\n",
    "   \n",
    "* [Exercises](#Exercises)"
   ]
  },
  {
   "cell_type": "markdown",
   "id": "1aceed15",
   "metadata": {},
   "source": [
    "## Bioinformatic analysis often involves combining data from multiple sources\n",
    "\n",
    "In most interesting bioinformatic analyses, the data we want to compare doesn't all start in one place. For example, if we were studying how aging affects the microbiome, perhaps we have one table that tells us how old each patient is, and another that contains a summary of microbiome diversity data for each patient. \n",
    "\n",
    "If there are hundreds or thousands of patients, the order of patients differs between datasets, or if some data are missing (one patient didn't want to give her age, one microbiome amplicon library failed to sequence), it can be very obnoxious to match up these datasets by hand. Worse, it would be easy to make a mistake that might influence your results.\n",
    "\n",
    "Luckily, `pandas` `DataFrame` objects provide good methods for combining data. Additionally, they include useful tools for filtering your dataset to remove missing data. Both these activities often end up being important parts of larger bioinformatics projects, so it's worth devoting some time to practicing them."
   ]
  },
  {
   "cell_type": "markdown",
   "id": "423aec25",
   "metadata": {},
   "source": [
    "# Merging Tables in Pandas\n",
    "\n",
    "Let's walk through combining data from two tables, using a simple example. In this example, we have one file, `gene_id_vs_length.txt` that says the length of many genes in a genome. (**Side note:**. You could make such a file yourself by using a FASTA parser to parse a genome file, a function you wrote to calculate the length of each gene, and then writing out the results into a `.tsv` file by separating out each gene id from each length with a tab or '\\t' character).\n",
    "\n",
    "You have a second file `gene_id_vs_hgt.txt` that says whether there is evidence that each gene underwent horizontal gene transfer (HGT) - a process in which unrelated species can exchange genetic material \"horizontally\" across the branches of the tree of life. (**Side note**: this process is super important for understanding the spread of antibiotic resistance genes, as these are commonly horizontally transferred between bacterial species).\n",
    "\n",
    "We want to compare whether horizontally transferred genes tend to be shorter, longer, or the same length as non-horizontally transferred genes. Therefore, we need to combine the information in our two tables into a single `pandas` `DataFrame`."
   ]
  },
  {
   "cell_type": "markdown",
   "id": "88990e32",
   "metadata": {},
   "source": [
    "## Download some example data\n",
    "\n",
    "First, let's download our data. In a real research project, you could either use code like that below to download data from an ftp site, or download it by hand and put it into the same folder that you ran your jupyter notebook from."
   ]
  },
  {
   "cell_type": "code",
   "execution_count": 5,
   "id": "e7f8aaeb",
   "metadata": {},
   "outputs": [
    {
     "name": "stdout",
     "output_type": "stream",
     "text": [
      "Downloading gene_id_vs_length.txt\n",
      "Downloading gene_id_vs_hgt.txt\n"
     ]
    }
   ],
   "source": [
    "#Import the urlretrieve function\n",
    "from urllib.request import urlretrieve\n",
    "\n",
    "#Save the looooong web address (url) of our data in a python string \n",
    "chapter_url = 'https://raw.githubusercontent.com/zaneveld/full_spectrum_bioinformatics/master/content/07_tabular_omics_data/resources/'\n",
    "#Set the name of the file where we want to save the data\n",
    "file_names = ['gene_id_vs_length.txt','gene_id_vs_hgt.txt']\n",
    "\n",
    "#Download the data \n",
    "for file_name in file_names:\n",
    "    print(f\"Downloading {file_name}\")\n",
    "    urlretrieve(chapter_url+file_name, file_name)"
   ]
  },
  {
   "cell_type": "markdown",
   "id": "22906cda",
   "metadata": {},
   "source": [
    "## Check that we have the data files"
   ]
  },
  {
   "cell_type": "code",
   "execution_count": 8,
   "id": "2e2374e1",
   "metadata": {},
   "outputs": [
    {
     "data": {
      "text/plain": [
       "['scenario_1_otus_pandas.tsv',\n",
       " 'rarefaction_5000.png',\n",
       " 'gene_id_vs_length.txt',\n",
       " 'rarefaction_10000.png',\n",
       " '.DS_Store',\n",
       " 'merging_tables.ipynb',\n",
       " 'analyzing_tabular_omics_data_in_pandas.ipynb',\n",
       " 'resources',\n",
       " 'rarefaction_1000.png',\n",
       " 'scenario_1_otus_pandas.txt',\n",
       " 'simulating_microbiome_sampling_depth.ipynb',\n",
       " 'tabular_omics_data.ipynb',\n",
       " '.ipynb_checkpoints',\n",
       " 'rarefaction_50.png',\n",
       " 'gene_id_vs_hgt.txt',\n",
       " 'rarefaction_500.png']"
      ]
     },
     "execution_count": 8,
     "metadata": {},
     "output_type": "execute_result"
    }
   ],
   "source": [
    "from os import listdir\n",
    "listdir('./')\n"
   ]
  },
  {
   "cell_type": "markdown",
   "id": "d3844bc6",
   "metadata": {},
   "source": [
    "Check the files listed, and just make sure that 'gene_id_vs_length.txt', and 'gene_id_vs_hgt.txt' are in the list."
   ]
  },
  {
   "cell_type": "markdown",
   "id": "fc6bb50f",
   "metadata": {},
   "source": [
    "## Load each table into a `pandas` `DataFrame`.\n",
    "\n",
    "Next, we'll import pandas and load each of our data tables into a pandas dataframe."
   ]
  },
  {
   "cell_type": "code",
   "execution_count": 10,
   "id": "de077b51",
   "metadata": {},
   "outputs": [
    {
     "data": {
      "text/html": [
       "<div>\n",
       "<style scoped>\n",
       "    .dataframe tbody tr th:only-of-type {\n",
       "        vertical-align: middle;\n",
       "    }\n",
       "\n",
       "    .dataframe tbody tr th {\n",
       "        vertical-align: top;\n",
       "    }\n",
       "\n",
       "    .dataframe thead th {\n",
       "        text-align: right;\n",
       "    }\n",
       "</style>\n",
       "<table border=\"1\" class=\"dataframe\">\n",
       "  <thead>\n",
       "    <tr style=\"text-align: right;\">\n",
       "      <th></th>\n",
       "      <th>gene_length</th>\n",
       "    </tr>\n",
       "    <tr>\n",
       "      <th>gene_id</th>\n",
       "      <th></th>\n",
       "    </tr>\n",
       "  </thead>\n",
       "  <tbody>\n",
       "    <tr>\n",
       "      <th>gene1</th>\n",
       "      <td>1200</td>\n",
       "    </tr>\n",
       "    <tr>\n",
       "      <th>gene2</th>\n",
       "      <td>500</td>\n",
       "    </tr>\n",
       "    <tr>\n",
       "      <th>gene3</th>\n",
       "      <td>750</td>\n",
       "    </tr>\n",
       "    <tr>\n",
       "      <th>gene4</th>\n",
       "      <td>2000</td>\n",
       "    </tr>\n",
       "    <tr>\n",
       "      <th>gene5</th>\n",
       "      <td>3500</td>\n",
       "    </tr>\n",
       "    <tr>\n",
       "      <th>gene6</th>\n",
       "      <td>800</td>\n",
       "    </tr>\n",
       "    <tr>\n",
       "      <th>gene7</th>\n",
       "      <td>900</td>\n",
       "    </tr>\n",
       "    <tr>\n",
       "      <th>gene8</th>\n",
       "      <td>3000</td>\n",
       "    </tr>\n",
       "    <tr>\n",
       "      <th>gene9</th>\n",
       "      <td>3200</td>\n",
       "    </tr>\n",
       "    <tr>\n",
       "      <th>gene10</th>\n",
       "      <td>2800</td>\n",
       "    </tr>\n",
       "    <tr>\n",
       "      <th>gene11</th>\n",
       "      <td>5300</td>\n",
       "    </tr>\n",
       "    <tr>\n",
       "      <th>gene12</th>\n",
       "      <td>4000</td>\n",
       "    </tr>\n",
       "  </tbody>\n",
       "</table>\n",
       "</div>"
      ],
      "text/plain": [
       "         gene_length\n",
       "gene_id             \n",
       "gene1           1200\n",
       "gene2            500\n",
       "gene3            750\n",
       "gene4           2000\n",
       "gene5           3500\n",
       "gene6            800\n",
       "gene7            900\n",
       "gene8           3000\n",
       "gene9           3200\n",
       "gene10          2800\n",
       "gene11          5300\n",
       "gene12          4000"
      ]
     },
     "execution_count": 10,
     "metadata": {},
     "output_type": "execute_result"
    }
   ],
   "source": [
    "import pandas as pd\n",
    "\n",
    "gene_length_df = pd.read_csv('./gene_id_vs_length.txt',sep = '\\t')\n",
    "gene_length_df = gene_length_df.set_index('gene_id')\n",
    "\n",
    "gene_length_df"
   ]
  },
  {
   "cell_type": "code",
   "execution_count": 11,
   "id": "83092604",
   "metadata": {},
   "outputs": [
    {
     "data": {
      "text/html": [
       "<div>\n",
       "<style scoped>\n",
       "    .dataframe tbody tr th:only-of-type {\n",
       "        vertical-align: middle;\n",
       "    }\n",
       "\n",
       "    .dataframe tbody tr th {\n",
       "        vertical-align: top;\n",
       "    }\n",
       "\n",
       "    .dataframe thead th {\n",
       "        text-align: right;\n",
       "    }\n",
       "</style>\n",
       "<table border=\"1\" class=\"dataframe\">\n",
       "  <thead>\n",
       "    <tr style=\"text-align: right;\">\n",
       "      <th></th>\n",
       "      <th>horizontally_transferred</th>\n",
       "    </tr>\n",
       "    <tr>\n",
       "      <th>gene_id</th>\n",
       "      <th></th>\n",
       "    </tr>\n",
       "  </thead>\n",
       "  <tbody>\n",
       "    <tr>\n",
       "      <th>gene1</th>\n",
       "      <td>0</td>\n",
       "    </tr>\n",
       "    <tr>\n",
       "      <th>gene2</th>\n",
       "      <td>1</td>\n",
       "    </tr>\n",
       "    <tr>\n",
       "      <th>gene3</th>\n",
       "      <td>1</td>\n",
       "    </tr>\n",
       "    <tr>\n",
       "      <th>gene4</th>\n",
       "      <td>0</td>\n",
       "    </tr>\n",
       "    <tr>\n",
       "      <th>gene5</th>\n",
       "      <td>0</td>\n",
       "    </tr>\n",
       "    <tr>\n",
       "      <th>gene6</th>\n",
       "      <td>1</td>\n",
       "    </tr>\n",
       "    <tr>\n",
       "      <th>gene7</th>\n",
       "      <td>1</td>\n",
       "    </tr>\n",
       "    <tr>\n",
       "      <th>gene8</th>\n",
       "      <td>0</td>\n",
       "    </tr>\n",
       "    <tr>\n",
       "      <th>gene9</th>\n",
       "      <td>0</td>\n",
       "    </tr>\n",
       "    <tr>\n",
       "      <th>gene10</th>\n",
       "      <td>1</td>\n",
       "    </tr>\n",
       "    <tr>\n",
       "      <th>gene11</th>\n",
       "      <td>0</td>\n",
       "    </tr>\n",
       "    <tr>\n",
       "      <th>gene12</th>\n",
       "      <td>0</td>\n",
       "    </tr>\n",
       "  </tbody>\n",
       "</table>\n",
       "</div>"
      ],
      "text/plain": [
       "         horizontally_transferred\n",
       "gene_id                          \n",
       "gene1                           0\n",
       "gene2                           1\n",
       "gene3                           1\n",
       "gene4                           0\n",
       "gene5                           0\n",
       "gene6                           1\n",
       "gene7                           1\n",
       "gene8                           0\n",
       "gene9                           0\n",
       "gene10                          1\n",
       "gene11                          0\n",
       "gene12                          0"
      ]
     },
     "execution_count": 11,
     "metadata": {},
     "output_type": "execute_result"
    }
   ],
   "source": [
    "gene_hgt_df = pd.read_csv('./gene_id_vs_hgt.txt',sep = '\\t')\n",
    "gene_hgt_df = gene_hgt_df.set_index('gene_id')\n",
    "\n",
    "gene_hgt_df"
   ]
  },
  {
   "cell_type": "markdown",
   "id": "85c38ded",
   "metadata": {},
   "source": [
    "## Types of Joins \n",
    "\n",
    "There are several methods for joining tables together using Pandas DataFrames. Join methods differ in how they handle missing data. For example, if a gene is in your first table but not your second one, should it be included or excluded from the joined table? \n",
    "\n",
    "This type of problem comes up all the time in databases (essentially large collections of tables, linked together by shared ids). Therefore, folks who work with database languages like `SQL` have developed some vocabulary for describing different types of joins. It's worth learning the basics even if you don't use databases, because the same language is used in many other settings, including in `pandas`.\n",
    "\n",
    "Here are the most common ways of joining two tables together:\n",
    "\n",
    "**inner join** -- an inner join is the most strict type of joining or merging tables. It only joins rows that   that match for BOTH tables, and excludes all others.\n",
    "\n",
    "**outer join** -- an outer join is the least strict, most loosy-goosy join. An outer join take all rows that appear in *either* table, leave empty entries if data is missing\n",
    "\n",
    "**left join** -- data in the rightmost table is included only if it matches an id in the left table, otherwise it is excluded.\n",
    "\n",
    "**right join** -- data in the leftmost table is included only if it matches an id in the left table, otherwise it is excluded."
   ]
  },
  {
   "cell_type": "markdown",
   "id": "c26b3cad",
   "metadata": {},
   "source": [
    "## Combining tables with `join`\n",
    "We will use an 'outer' join to put together our two tables. Sensibly enough, there is a DataFrame method called `join` that will join your DataFrame to another."
   ]
  },
  {
   "cell_type": "code",
   "execution_count": 13,
   "id": "efb2e04b",
   "metadata": {},
   "outputs": [
    {
     "data": {
      "text/html": [
       "<div>\n",
       "<style scoped>\n",
       "    .dataframe tbody tr th:only-of-type {\n",
       "        vertical-align: middle;\n",
       "    }\n",
       "\n",
       "    .dataframe tbody tr th {\n",
       "        vertical-align: top;\n",
       "    }\n",
       "\n",
       "    .dataframe thead th {\n",
       "        text-align: right;\n",
       "    }\n",
       "</style>\n",
       "<table border=\"1\" class=\"dataframe\">\n",
       "  <thead>\n",
       "    <tr style=\"text-align: right;\">\n",
       "      <th></th>\n",
       "      <th>gene_length</th>\n",
       "      <th>horizontally_transferred</th>\n",
       "    </tr>\n",
       "    <tr>\n",
       "      <th>gene_id</th>\n",
       "      <th></th>\n",
       "      <th></th>\n",
       "    </tr>\n",
       "  </thead>\n",
       "  <tbody>\n",
       "    <tr>\n",
       "      <th>gene1</th>\n",
       "      <td>1200</td>\n",
       "      <td>0</td>\n",
       "    </tr>\n",
       "    <tr>\n",
       "      <th>gene2</th>\n",
       "      <td>500</td>\n",
       "      <td>1</td>\n",
       "    </tr>\n",
       "    <tr>\n",
       "      <th>gene3</th>\n",
       "      <td>750</td>\n",
       "      <td>1</td>\n",
       "    </tr>\n",
       "    <tr>\n",
       "      <th>gene4</th>\n",
       "      <td>2000</td>\n",
       "      <td>0</td>\n",
       "    </tr>\n",
       "    <tr>\n",
       "      <th>gene5</th>\n",
       "      <td>3500</td>\n",
       "      <td>0</td>\n",
       "    </tr>\n",
       "    <tr>\n",
       "      <th>gene6</th>\n",
       "      <td>800</td>\n",
       "      <td>1</td>\n",
       "    </tr>\n",
       "    <tr>\n",
       "      <th>gene7</th>\n",
       "      <td>900</td>\n",
       "      <td>1</td>\n",
       "    </tr>\n",
       "    <tr>\n",
       "      <th>gene8</th>\n",
       "      <td>3000</td>\n",
       "      <td>0</td>\n",
       "    </tr>\n",
       "    <tr>\n",
       "      <th>gene9</th>\n",
       "      <td>3200</td>\n",
       "      <td>0</td>\n",
       "    </tr>\n",
       "    <tr>\n",
       "      <th>gene10</th>\n",
       "      <td>2800</td>\n",
       "      <td>1</td>\n",
       "    </tr>\n",
       "    <tr>\n",
       "      <th>gene11</th>\n",
       "      <td>5300</td>\n",
       "      <td>0</td>\n",
       "    </tr>\n",
       "    <tr>\n",
       "      <th>gene12</th>\n",
       "      <td>4000</td>\n",
       "      <td>0</td>\n",
       "    </tr>\n",
       "  </tbody>\n",
       "</table>\n",
       "</div>"
      ],
      "text/plain": [
       "         gene_length  horizontally_transferred\n",
       "gene_id                                       \n",
       "gene1           1200                         0\n",
       "gene2            500                         1\n",
       "gene3            750                         1\n",
       "gene4           2000                         0\n",
       "gene5           3500                         0\n",
       "gene6            800                         1\n",
       "gene7            900                         1\n",
       "gene8           3000                         0\n",
       "gene9           3200                         0\n",
       "gene10          2800                         1\n",
       "gene11          5300                         0\n",
       "gene12          4000                         0"
      ]
     },
     "execution_count": 13,
     "metadata": {},
     "output_type": "execute_result"
    }
   ],
   "source": [
    "combined_df = gene_length_df.join(gene_hgt_df, how = 'outer')\n",
    "\n",
    "combined_df"
   ]
  },
  {
   "cell_type": "markdown",
   "id": "b8bfbf9c",
   "metadata": {},
   "source": [
    "## Handling Missing Data\n",
    "\n",
    "It is common to have missing data in Bioinformatics dataset. Even if each of your data sources is 100% complete, they may cover different sets of species, resulting in missing data when you combine them. For example, you might have physiological but not genomic data for one organism, and genomic but not physiological data for another.\n",
    "Unfortunately, organisms lacking either type of data would normally have to be removed from your analysis.\n",
    "\n",
    "Inside `pandas`, missing data is shown as `NaN`, short for 'not a number'. So when we have missing data, we often have to do some work to filter out any rows of our `pandas` `DataFrame` that have `NaN` values.\n",
    "\n",
    "To explore this, let's artificially add missing data (and therefore `NaN` values) to our dataframe. You would never do this in practice, of course, but it will provide us a simple example to work with, where we know exactly which data we want to exclude."
   ]
  },
  {
   "cell_type": "markdown",
   "id": "49fb264d",
   "metadata": {},
   "source": [
    "### Artificially introduce 2 missing data points to our table, as an example\n",
    "\n",
    "We will use the `DataFrame` `.loc` property to set the value of gene length to `None` for gene10, and the value of horizontally_transferred to `None` for gene7. Recall that the `.loc` property lets you specify entries in the `DataFrame` based on the name of the row, then the column, both of which we right inside square brackets (similar to indexing into a list or retrieving a key from a dict). "
   ]
  },
  {
   "cell_type": "code",
   "execution_count": 201,
   "id": "f83604a6",
   "metadata": {},
   "outputs": [],
   "source": [
    "#Artificially introduce some missing data\n",
    "\n",
    "combined_df.loc['gene10','gene_length'] = None\n",
    "combined_df.loc['gene7','horizontally_transferred'] = None"
   ]
  },
  {
   "cell_type": "markdown",
   "id": "aa5ac358",
   "metadata": {},
   "source": [
    "### Examine our dataframe to confirm that some data are now missing\n",
    "\n",
    "Next let's take a look at our dataframe so we can see what this missing data looks like."
   ]
  },
  {
   "cell_type": "code",
   "execution_count": 202,
   "id": "b84a66b9",
   "metadata": {},
   "outputs": [
    {
     "data": {
      "text/html": [
       "<div>\n",
       "<style scoped>\n",
       "    .dataframe tbody tr th:only-of-type {\n",
       "        vertical-align: middle;\n",
       "    }\n",
       "\n",
       "    .dataframe tbody tr th {\n",
       "        vertical-align: top;\n",
       "    }\n",
       "\n",
       "    .dataframe thead th {\n",
       "        text-align: right;\n",
       "    }\n",
       "</style>\n",
       "<table border=\"1\" class=\"dataframe\">\n",
       "  <thead>\n",
       "    <tr style=\"text-align: right;\">\n",
       "      <th></th>\n",
       "      <th>gene_length</th>\n",
       "      <th>horizontally_transferred</th>\n",
       "    </tr>\n",
       "    <tr>\n",
       "      <th>gene_id</th>\n",
       "      <th></th>\n",
       "      <th></th>\n",
       "    </tr>\n",
       "  </thead>\n",
       "  <tbody>\n",
       "    <tr>\n",
       "      <th>gene1</th>\n",
       "      <td>1200.0</td>\n",
       "      <td>0.0</td>\n",
       "    </tr>\n",
       "    <tr>\n",
       "      <th>gene2</th>\n",
       "      <td>500.0</td>\n",
       "      <td>1.0</td>\n",
       "    </tr>\n",
       "    <tr>\n",
       "      <th>gene3</th>\n",
       "      <td>750.0</td>\n",
       "      <td>1.0</td>\n",
       "    </tr>\n",
       "    <tr>\n",
       "      <th>gene4</th>\n",
       "      <td>2000.0</td>\n",
       "      <td>0.0</td>\n",
       "    </tr>\n",
       "    <tr>\n",
       "      <th>gene5</th>\n",
       "      <td>3500.0</td>\n",
       "      <td>0.0</td>\n",
       "    </tr>\n",
       "    <tr>\n",
       "      <th>gene6</th>\n",
       "      <td>800.0</td>\n",
       "      <td>1.0</td>\n",
       "    </tr>\n",
       "    <tr>\n",
       "      <th>gene7</th>\n",
       "      <td>900.0</td>\n",
       "      <td>NaN</td>\n",
       "    </tr>\n",
       "    <tr>\n",
       "      <th>gene8</th>\n",
       "      <td>3000.0</td>\n",
       "      <td>0.0</td>\n",
       "    </tr>\n",
       "    <tr>\n",
       "      <th>gene9</th>\n",
       "      <td>3200.0</td>\n",
       "      <td>0.0</td>\n",
       "    </tr>\n",
       "    <tr>\n",
       "      <th>gene10</th>\n",
       "      <td>NaN</td>\n",
       "      <td>1.0</td>\n",
       "    </tr>\n",
       "    <tr>\n",
       "      <th>gene11</th>\n",
       "      <td>5300.0</td>\n",
       "      <td>0.0</td>\n",
       "    </tr>\n",
       "    <tr>\n",
       "      <th>gene12</th>\n",
       "      <td>4000.0</td>\n",
       "      <td>0.0</td>\n",
       "    </tr>\n",
       "  </tbody>\n",
       "</table>\n",
       "</div>"
      ],
      "text/plain": [
       "         gene_length  horizontally_transferred\n",
       "gene_id                                       \n",
       "gene1         1200.0                       0.0\n",
       "gene2          500.0                       1.0\n",
       "gene3          750.0                       1.0\n",
       "gene4         2000.0                       0.0\n",
       "gene5         3500.0                       0.0\n",
       "gene6          800.0                       1.0\n",
       "gene7          900.0                       NaN\n",
       "gene8         3000.0                       0.0\n",
       "gene9         3200.0                       0.0\n",
       "gene10           NaN                       1.0\n",
       "gene11        5300.0                       0.0\n",
       "gene12        4000.0                       0.0"
      ]
     },
     "execution_count": 202,
     "metadata": {},
     "output_type": "execute_result"
    }
   ],
   "source": [
    "combined_df"
   ]
  },
  {
   "cell_type": "markdown",
   "id": "b081b379",
   "metadata": {},
   "source": [
    "As expected we nbow see 'NaN' written in the two places where we have missing data."
   ]
  },
  {
   "cell_type": "markdown",
   "id": "28dd90d1",
   "metadata": {},
   "source": [
    "## Method 1 - use the built-in dropna method\n",
    "\n",
    "The first way we can filter out rows that have missing data is to use the built in `.dropna()` method of `pandas` `DataFrames`. This will filter out *all* rows that have *any* missing data in *any* column, and return the resulting DataFrame to us. \n",
    "\n",
    "For simple cases like this one, `.dropna()` is perfect. Here's how it works:"
   ]
  },
  {
   "cell_type": "code",
   "execution_count": 204,
   "id": "b94b1fe9",
   "metadata": {},
   "outputs": [
    {
     "data": {
      "text/html": [
       "<div>\n",
       "<style scoped>\n",
       "    .dataframe tbody tr th:only-of-type {\n",
       "        vertical-align: middle;\n",
       "    }\n",
       "\n",
       "    .dataframe tbody tr th {\n",
       "        vertical-align: top;\n",
       "    }\n",
       "\n",
       "    .dataframe thead th {\n",
       "        text-align: right;\n",
       "    }\n",
       "</style>\n",
       "<table border=\"1\" class=\"dataframe\">\n",
       "  <thead>\n",
       "    <tr style=\"text-align: right;\">\n",
       "      <th></th>\n",
       "      <th>gene_length</th>\n",
       "      <th>horizontally_transferred</th>\n",
       "    </tr>\n",
       "    <tr>\n",
       "      <th>gene_id</th>\n",
       "      <th></th>\n",
       "      <th></th>\n",
       "    </tr>\n",
       "  </thead>\n",
       "  <tbody>\n",
       "    <tr>\n",
       "      <th>gene1</th>\n",
       "      <td>1200.0</td>\n",
       "      <td>0.0</td>\n",
       "    </tr>\n",
       "    <tr>\n",
       "      <th>gene2</th>\n",
       "      <td>500.0</td>\n",
       "      <td>1.0</td>\n",
       "    </tr>\n",
       "    <tr>\n",
       "      <th>gene3</th>\n",
       "      <td>750.0</td>\n",
       "      <td>1.0</td>\n",
       "    </tr>\n",
       "    <tr>\n",
       "      <th>gene4</th>\n",
       "      <td>2000.0</td>\n",
       "      <td>0.0</td>\n",
       "    </tr>\n",
       "    <tr>\n",
       "      <th>gene5</th>\n",
       "      <td>3500.0</td>\n",
       "      <td>0.0</td>\n",
       "    </tr>\n",
       "    <tr>\n",
       "      <th>gene6</th>\n",
       "      <td>800.0</td>\n",
       "      <td>1.0</td>\n",
       "    </tr>\n",
       "    <tr>\n",
       "      <th>gene8</th>\n",
       "      <td>3000.0</td>\n",
       "      <td>0.0</td>\n",
       "    </tr>\n",
       "    <tr>\n",
       "      <th>gene9</th>\n",
       "      <td>3200.0</td>\n",
       "      <td>0.0</td>\n",
       "    </tr>\n",
       "    <tr>\n",
       "      <th>gene11</th>\n",
       "      <td>5300.0</td>\n",
       "      <td>0.0</td>\n",
       "    </tr>\n",
       "    <tr>\n",
       "      <th>gene12</th>\n",
       "      <td>4000.0</td>\n",
       "      <td>0.0</td>\n",
       "    </tr>\n",
       "  </tbody>\n",
       "</table>\n",
       "</div>"
      ],
      "text/plain": [
       "         gene_length  horizontally_transferred\n",
       "gene_id                                       \n",
       "gene1         1200.0                       0.0\n",
       "gene2          500.0                       1.0\n",
       "gene3          750.0                       1.0\n",
       "gene4         2000.0                       0.0\n",
       "gene5         3500.0                       0.0\n",
       "gene6          800.0                       1.0\n",
       "gene8         3000.0                       0.0\n",
       "gene9         3200.0                       0.0\n",
       "gene11        5300.0                       0.0\n",
       "gene12        4000.0                       0.0"
      ]
     },
     "execution_count": 204,
     "metadata": {},
     "output_type": "execute_result"
    }
   ],
   "source": [
    "filtered_df = combined_df.dropna()\n",
    "filtered_df"
   ]
  },
  {
   "cell_type": "markdown",
   "id": "d0981604",
   "metadata": {},
   "source": [
    "Great! The `.dropna()` method has removed rows with missing data, so gene 10 and gene 7 are now excuded from our table."
   ]
  },
  {
   "cell_type": "markdown",
   "id": "dfc93486",
   "metadata": {},
   "source": [
    "## Method 2 - identify and remove rows with `NaN` values using row filtering and logic operations\n",
    "\n",
    "For most practical uses, `.dropna` works great. But sometimes we want more control over what gets dropped. Or perhaps we want to save all the rows with problems so we can look at them by hand - usally a very important step to make sure everything we're removing is justified.\n",
    "\n",
    "Implementing a similar process by hand is also a very useful way to understand how `pandas` `DataFrame` objects work, since we will break up a complex process into smaller steps, each of which can be examined one by one."
   ]
  },
  {
   "cell_type": "markdown",
   "id": "cf144bbf",
   "metadata": {},
   "source": [
    "### Building a DataFrame of Boolean values showing which table entries have `NaN` values \n",
    "\n",
    "First, we'll use the `isnull()` function to build a table with `True` every place that the data table has an `NaN`, and `False` everywhere else.\n",
    "\n",
    "*If our method works, we expect `False` everywhere except the gene length entry for `gene10` and the `horizontally_transferred` column for `gene7`.\n"
   ]
  },
  {
   "cell_type": "code",
   "execution_count": 205,
   "id": "de50059f",
   "metadata": {},
   "outputs": [
    {
     "name": "stdout",
     "output_type": "stream",
     "text": [
      "         gene_length  horizontally_transferred\n",
      "gene_id                                       \n",
      "gene1          False                     False\n",
      "gene2          False                     False\n",
      "gene3          False                     False\n",
      "gene4          False                     False\n",
      "gene5          False                     False\n",
      "gene6          False                     False\n",
      "gene7          False                      True\n",
      "gene8          False                     False\n",
      "gene9          False                     False\n",
      "gene10          True                     False\n",
      "gene11         False                     False\n",
      "gene12         False                     False\n"
     ]
    }
   ],
   "source": [
    "bad_values = pd.isnull(combined_df)\n",
    "print(bad_values)"
   ]
  },
  {
   "cell_type": "markdown",
   "id": "36859c3a",
   "metadata": {},
   "source": [
    "## Find bad rows from table of null values\n",
    "\n",
    "Second, we want to figure out which rows are no good using our giant table of all the individual entries in our table that are `NaN`. \n",
    "\n",
    "We now have a whole dataframe filled with True or False, based on which entries are `NaN`. However, to be able to select or filter rows, we need a single column of True or False values. Depending on the application, we might throw out rows that have any `NaN` values (i.e. `NaN` in at least one column), or only those that have all `NaN` values (`NaN` in every column).\n",
    "\n",
    "In pandas there are DataFrame methods that can automate the process of finding rows where `any` or `all` columns meet some criterion. These methods can then be applied to a DataFrame full of `True` or `False` values to find our bad rows.\n",
    "\n",
    "These methods work for both rows or columns, so we need to specify `axis = 1` (columns) to get the result we expect. The alternative setting (`axis = 0`, the default value) would be more useful if we were getting rid of *columns* that had an `NaN` in any row.\n",
    "\n",
    "**If our method works, we expect `False` for all genes except `gene7` and `gene10` where we added `NaN` values**"
   ]
  },
  {
   "cell_type": "code",
   "execution_count": 206,
   "id": "0cbbf6ce",
   "metadata": {},
   "outputs": [
    {
     "name": "stdout",
     "output_type": "stream",
     "text": [
      "gene_id\n",
      "gene1     False\n",
      "gene2     False\n",
      "gene3     False\n",
      "gene4     False\n",
      "gene5     False\n",
      "gene6     False\n",
      "gene7      True\n",
      "gene8     False\n",
      "gene9     False\n",
      "gene10     True\n",
      "gene11    False\n",
      "gene12    False\n",
      "dtype: bool\n"
     ]
    }
   ],
   "source": [
    "bad_rows = bad_values.any(axis=1)\n",
    "print(bad_rows)"
   ]
  },
  {
   "cell_type": "markdown",
   "id": "e8bb69da",
   "metadata": {},
   "source": [
    "### Filter the table to include all the rows except the bad ones\n",
    "\n",
    "Our series of True and False values can now be used to select rows from our original data table using regular row indexing.\n",
    "\n",
    "One big help here will be the `~` (tilda) character, which inverts `True` and `False` in selections in pandas. This will let us select all the good rows based on their having `False` values in the bad_rows Series."
   ]
  },
  {
   "cell_type": "code",
   "execution_count": 207,
   "id": "dcb271b7",
   "metadata": {},
   "outputs": [
    {
     "name": "stdout",
     "output_type": "stream",
     "text": [
      "         gene_length  horizontally_transferred\n",
      "gene_id                                       \n",
      "gene1         1200.0                       0.0\n",
      "gene2          500.0                       1.0\n",
      "gene3          750.0                       1.0\n",
      "gene4         2000.0                       0.0\n",
      "gene5         3500.0                       0.0\n",
      "gene6          800.0                       1.0\n",
      "gene8         3000.0                       0.0\n",
      "gene9         3200.0                       0.0\n",
      "gene11        5300.0                       0.0\n",
      "gene12        4000.0                       0.0\n"
     ]
    }
   ],
   "source": [
    "filtered_df = combined_df[~bad_rows]\n",
    "print(filtered_df)"
   ]
  },
  {
   "cell_type": "markdown",
   "id": "6e7834fd",
   "metadata": {},
   "source": [
    "### Retain bad rows for later inspection.\n",
    "\n",
    "It's a good idea to keep a copy of the bad rows so you can figure out what went wrong. We can do this by repeating our command without inverting the selection with `~`."
   ]
  },
  {
   "cell_type": "code",
   "execution_count": 208,
   "id": "48141d6f",
   "metadata": {},
   "outputs": [
    {
     "name": "stdout",
     "output_type": "stream",
     "text": [
      "         gene_length  horizontally_transferred\n",
      "gene_id                                       \n",
      "gene7          900.0                       NaN\n",
      "gene10           NaN                       1.0\n"
     ]
    }
   ],
   "source": [
    "bad_rows_df = combined_df[bad_rows]\n",
    "print(bad_rows_df)"
   ]
  },
  {
   "cell_type": "markdown",
   "id": "1191170a",
   "metadata": {},
   "source": [
    "# A Biological Example - Combining Coral Datasets\n",
    "\n",
    "Let's practice what we've learned about joining and filtering `pandas` `DataFrames` to join together three tables with information on corals.\n",
    "\n",
    "We want to put together a table that will help us figure out if the microbes that live on corals are correlated with how often they get disease. We have three tables, that each hold different important pieces of information about disease or microbial symbiosis in several different kinds of corals. Each of these tables is a `.tsv` file, meaning that `\\t` characters separate the columns of each dataframe.\n",
    "\n",
    "`coral_disease_susceptibility.txt` - this file says the average prevalence of disease in diver surverys of each type of coral. \n",
    "\n",
    "`coral_microbiome diversity.txt` - this file says how diverse each coral's microbiome is on average, based on 16S rRNA gene amplicon sequencing.\n",
    "\n",
    "`coral_symbiont_abundance.txt` - this file says how common a particular bacterium, *Endozoicomonas* was in 16S rRNA gene amplicon sequencing from that species.\n",
    "\n",
    "The common identifier that will let us link together the tables will be the genus name of corals (*Acropora*), *Porites*, etc). Let's first check that we have all the tables we need in our current folder, and then move on to loading the three dataframes."
   ]
  },
  {
   "cell_type": "markdown",
   "id": "bf580735",
   "metadata": {},
   "source": [
    "## Download coral data"
   ]
  },
  {
   "cell_type": "code",
   "execution_count": 16,
   "id": "ed80cd5e",
   "metadata": {},
   "outputs": [
    {
     "name": "stdout",
     "output_type": "stream",
     "text": [
      "Downloading coral_disease_susceptibility.txt\n",
      "Downloading coral_microbiome_diversity.txt\n",
      "Downloading coral_symbiont_abundance.txt\n"
     ]
    }
   ],
   "source": [
    "#Import the urlretrieve function\n",
    "from urllib.request import urlretrieve\n",
    "\n",
    "#Save the looooong web address (url) of our data in a python string \n",
    "chapter_url = 'https://raw.githubusercontent.com/zaneveld/full_spectrum_bioinformatics/master/content/07_tabular_omics_data/resources/'\n",
    "#Set the name of the file where we want to save the data\n",
    "file_names = ['coral_disease_susceptibility.txt', 'coral_microbiome_diversity.txt', 'coral_symbiont_abundance.txt']\n",
    "\n",
    "#Download the data \n",
    "for file_name in file_names:\n",
    "    print(f\"Downloading {file_name}\")\n",
    "    urlretrieve(chapter_url+file_name, file_name)"
   ]
  },
  {
   "cell_type": "markdown",
   "id": "aa8f09bd",
   "metadata": {},
   "source": [
    "## Load all three DataFrames"
   ]
  },
  {
   "cell_type": "code",
   "execution_count": 18,
   "id": "5b452dcd",
   "metadata": {},
   "outputs": [],
   "source": [
    "micro_div_df = pd.read_csv('coral_microbiome_diversity.txt',sep=\"\\t\")\n",
    "endo_df = pd.read_csv('coral_symbiont_abundance.txt',sep='\\t')\n",
    "disease_df = pd.read_csv('coral_disease_susceptibility.txt',sep='\\t')"
   ]
  },
  {
   "cell_type": "markdown",
   "id": "3b776876",
   "metadata": {},
   "source": [
    "## Set the host genus column to be the index"
   ]
  },
  {
   "cell_type": "code",
   "execution_count": 19,
   "id": "a3b15c47",
   "metadata": {},
   "outputs": [],
   "source": [
    "micro_div_df = micro_div_df.set_index(\"host_genus\")\n",
    "endo_df = endo_df.set_index(\"host_genus\")\n",
    "disease_df = disease_df.set_index(\"host_genus\")"
   ]
  },
  {
   "cell_type": "markdown",
   "id": "d86a9e73",
   "metadata": {},
   "source": [
    "## `join` tables using their indices\n",
    "\n",
    "When using the `join` method, we can only combine two tables at a time. So we'll have to pick any two of our tables to stick together to make a combined DataFrame, and then use a second `join` command to add the third table to that combined dataframe."
   ]
  },
  {
   "cell_type": "code",
   "execution_count": 21,
   "id": "763a8230",
   "metadata": {},
   "outputs": [
    {
     "data": {
      "text/html": [
       "<div>\n",
       "<style scoped>\n",
       "    .dataframe tbody tr th:only-of-type {\n",
       "        vertical-align: middle;\n",
       "    }\n",
       "\n",
       "    .dataframe tbody tr th {\n",
       "        vertical-align: top;\n",
       "    }\n",
       "\n",
       "    .dataframe thead th {\n",
       "        text-align: right;\n",
       "    }\n",
       "</style>\n",
       "<table border=\"1\" class=\"dataframe\">\n",
       "  <thead>\n",
       "    <tr style=\"text-align: right;\">\n",
       "      <th></th>\n",
       "      <th>average_endozoicomonas_per_1000_reads</th>\n",
       "      <th>disease_susceptibility</th>\n",
       "      <th>faith_pd_tissue</th>\n",
       "    </tr>\n",
       "    <tr>\n",
       "      <th>host_genus</th>\n",
       "      <th></th>\n",
       "      <th></th>\n",
       "      <th></th>\n",
       "    </tr>\n",
       "  </thead>\n",
       "  <tbody>\n",
       "    <tr>\n",
       "      <th>Acanthastrea</th>\n",
       "      <td>8.000000</td>\n",
       "      <td>0.000000</td>\n",
       "      <td>62.672799</td>\n",
       "    </tr>\n",
       "    <tr>\n",
       "      <th>Acropora</th>\n",
       "      <td>58.681818</td>\n",
       "      <td>3.643113</td>\n",
       "      <td>22.585867</td>\n",
       "    </tr>\n",
       "    <tr>\n",
       "      <th>Aiptasia</th>\n",
       "      <td>NaN</td>\n",
       "      <td>NaN</td>\n",
       "      <td>132.477305</td>\n",
       "    </tr>\n",
       "    <tr>\n",
       "      <th>Alveopora</th>\n",
       "      <td>441.333333</td>\n",
       "      <td>0.749064</td>\n",
       "      <td>98.928105</td>\n",
       "    </tr>\n",
       "    <tr>\n",
       "      <th>Astrea</th>\n",
       "      <td>302.666667</td>\n",
       "      <td>NaN</td>\n",
       "      <td>19.777494</td>\n",
       "    </tr>\n",
       "    <tr>\n",
       "      <th>...</th>\n",
       "      <td>...</td>\n",
       "      <td>...</td>\n",
       "      <td>...</td>\n",
       "    </tr>\n",
       "    <tr>\n",
       "      <th>Stylophora</th>\n",
       "      <td>634.428571</td>\n",
       "      <td>3.687151</td>\n",
       "      <td>28.399778</td>\n",
       "    </tr>\n",
       "    <tr>\n",
       "      <th>Tubastraea</th>\n",
       "      <td>7.285714</td>\n",
       "      <td>0.909091</td>\n",
       "      <td>104.221069</td>\n",
       "    </tr>\n",
       "    <tr>\n",
       "      <th>Tubipora</th>\n",
       "      <td>NaN</td>\n",
       "      <td>NaN</td>\n",
       "      <td>NaN</td>\n",
       "    </tr>\n",
       "    <tr>\n",
       "      <th>Turbinaria</th>\n",
       "      <td>38.000000</td>\n",
       "      <td>1.872075</td>\n",
       "      <td>82.013983</td>\n",
       "    </tr>\n",
       "    <tr>\n",
       "      <th>Xenia</th>\n",
       "      <td>302.500000</td>\n",
       "      <td>NaN</td>\n",
       "      <td>25.127500</td>\n",
       "    </tr>\n",
       "  </tbody>\n",
       "</table>\n",
       "<p>74 rows × 3 columns</p>\n",
       "</div>"
      ],
      "text/plain": [
       "              average_endozoicomonas_per_1000_reads  disease_susceptibility  \\\n",
       "host_genus                                                                    \n",
       "Acanthastrea                               8.000000                0.000000   \n",
       "Acropora                                  58.681818                3.643113   \n",
       "Aiptasia                                        NaN                     NaN   \n",
       "Alveopora                                441.333333                0.749064   \n",
       "Astrea                                   302.666667                     NaN   \n",
       "...                                             ...                     ...   \n",
       "Stylophora                               634.428571                3.687151   \n",
       "Tubastraea                                 7.285714                0.909091   \n",
       "Tubipora                                        NaN                     NaN   \n",
       "Turbinaria                                38.000000                1.872075   \n",
       "Xenia                                    302.500000                     NaN   \n",
       "\n",
       "              faith_pd_tissue  \n",
       "host_genus                     \n",
       "Acanthastrea        62.672799  \n",
       "Acropora            22.585867  \n",
       "Aiptasia           132.477305  \n",
       "Alveopora           98.928105  \n",
       "Astrea              19.777494  \n",
       "...                       ...  \n",
       "Stylophora          28.399778  \n",
       "Tubastraea         104.221069  \n",
       "Tubipora                  NaN  \n",
       "Turbinaria          82.013983  \n",
       "Xenia               25.127500  \n",
       "\n",
       "[74 rows x 3 columns]"
      ]
     },
     "execution_count": 21,
     "metadata": {},
     "output_type": "execute_result"
    }
   ],
   "source": [
    "#First make a combined DataFrame by joining the disease and Endozoicomonas DataFrames\n",
    "combined_df = endo_df.join(disease_df,how='outer')\n",
    "\n",
    "#Now add in the microbial diversity data with another join statement\n",
    "combined_df = combined_df.join(micro_div_df,how='outer')\n",
    "\n",
    "#Look at our combined DataFrame\n",
    "combined_df"
   ]
  },
  {
   "cell_type": "markdown",
   "id": "408f3dc3",
   "metadata": {},
   "source": [
    "## Drop rows with missing data\n",
    "\n",
    "As you may have noticed in the combined table, there are a lot of `NaN` values! We probably want to exclude missing data from our analysis."
   ]
  },
  {
   "cell_type": "code",
   "execution_count": 23,
   "id": "b7c54350",
   "metadata": {},
   "outputs": [],
   "source": [
    "combined_df = combined_df.dropna()"
   ]
  },
  {
   "cell_type": "markdown",
   "id": "81ef731b",
   "metadata": {},
   "source": [
    "**Stop and check**: did this command remove all the `NaN` values from your table?"
   ]
  },
  {
   "cell_type": "markdown",
   "id": "0d5f5820",
   "metadata": {},
   "source": [
    "## Save our combined data to a file\n",
    "\n",
    "It's a good idea to save your final, processed dataset to a file. This helps ensure that anything you notice in a graph can be easily found in your data. If you publish your analysis in a scientific journal, the raw data for each figure should be made available (e.g. at many journals it can be put into an Excel spreadsheet and uploaded as a \"Supplementary Data\" file). \n",
    "\n",
    "In the past, I have had to use image analysis software to literally click on the points of a scatterplot to get the raw data values because they were not made available by the authors - and perhaps surprisingly this is not an uncommon occurence! We never want to put our readers through that, so uploading raw data is the way to go. \n",
    "\n",
    "We can use the pandas `.to_csv` method to save out combined DataFrame as a data file. If we want a tab-separated values or '.tsv' file, we'll set 'sep' to '\\t' (just like when we loaded the file), and make sure the filename ends in '.txt' or '.tsv'. If we want a comma separated values (.csv) file, we'll set sep = ',' and make sure the filename ends in '.csv'"
   ]
  },
  {
   "cell_type": "code",
   "execution_count": 25,
   "id": "8becbf65",
   "metadata": {},
   "outputs": [],
   "source": [
    "combined_df.to_csv(\"combined_coral_data.tsv\",sep=\"\\t\")"
   ]
  },
  {
   "cell_type": "markdown",
   "id": "79064199",
   "metadata": {},
   "source": [
    "## Make a scatterplot\n",
    "\n",
    "Finally, we can extract any columns we want into python lists, and use them for other analyses like making scatterplots or other graphs."
   ]
  },
  {
   "cell_type": "code",
   "execution_count": 26,
   "id": "0b63b566",
   "metadata": {},
   "outputs": [
    {
     "data": {
      "text/plain": [
       "Text(0, 0.5, 'Disease Susceptibility')"
      ]
     },
     "execution_count": 26,
     "metadata": {},
     "output_type": "execute_result"
    },
    {
     "data": {
      "image/png": "[encoded data removed]",
      "text/plain": [
       "<Figure size 432x288 with 1 Axes>"
      ]
     },
     "metadata": {
      "needs_background": "light"
     },
     "output_type": "display_data"
    }
   ],
   "source": [
    "from matplotlib.pyplot import scatter,xlabel,ylabel\n",
    "\n",
    "#Extract data series from the DataFrame\n",
    "endo_data = combined_df['average_endozoicomonas_per_1000_reads']\n",
    "disease_data = combined_df['disease_susceptibility']\n",
    "\n",
    "#Convert to lists\n",
    "endo_data = list(endo_data)\n",
    "disease_data = list(disease_data)\n",
    "\n",
    "#Make a scatterplot\n",
    "scatter(endo_data,disease_data,facecolor='orange',edgecolor='black',alpha = 0.75)\n",
    "xlabel(\"Endozoicomonas abundance\", size = 'xx-large')\n",
    "ylabel(\"Disease Susceptibility\", size = 'xx-large')"
   ]
  },
  {
   "cell_type": "markdown",
   "id": "e5ddfba2",
   "metadata": {},
   "source": [
    "**Important Note about Statistical Independence and Comparing the Traits of Species**: This trend looks interesting, but to test for significance in this trend we would **have** to use some type of phylogenetic comparative method. This is because all 'regular' statistical methods assume data are statistically independent of each other. However, species evolve on a tree, and have traits that are correlated (NOT independent) of their relatives. This sounds like a minor issue, but actually results in **massive** false positive rates anytime you compare the traits of species without accounting for the structure of the tree. So we should treat our scatterplot as a first insight, but use something like phylogenetic independent contrasts (PIC) or phylogenetic generalized least squares (PGLS) if we wanted to test for significance."
   ]
  },
  {
   "cell_type": "markdown",
   "id": "9c336461",
   "metadata": {},
   "source": [
    "## Exercises"
   ]
  },
  {
   "cell_type": "markdown",
   "id": "9949d2a8",
   "metadata": {},
   "source": [
    "- **Exercise 1**. Using the code below, make two dataframes with missing data. Then try to join them using an outer, inner, left or right join. Describe what happens in each case, paying attention to which data points are included, and which are excluded."
   ]
  },
  {
   "cell_type": "code",
   "execution_count": 212,
   "id": "338de4e7",
   "metadata": {},
   "outputs": [
    {
     "data": {
      "text/html": [
       "<div>\n",
       "<style scoped>\n",
       "    .dataframe tbody tr th:only-of-type {\n",
       "        vertical-align: middle;\n",
       "    }\n",
       "\n",
       "    .dataframe tbody tr th {\n",
       "        vertical-align: top;\n",
       "    }\n",
       "\n",
       "    .dataframe thead th {\n",
       "        text-align: right;\n",
       "    }\n",
       "</style>\n",
       "<table border=\"1\" class=\"dataframe\">\n",
       "  <thead>\n",
       "    <tr style=\"text-align: right;\">\n",
       "      <th></th>\n",
       "      <th>length</th>\n",
       "      <th>n_offspring</th>\n",
       "    </tr>\n",
       "    <tr>\n",
       "      <th>individual_id</th>\n",
       "      <th></th>\n",
       "      <th></th>\n",
       "    </tr>\n",
       "  </thead>\n",
       "  <tbody>\n",
       "    <tr>\n",
       "      <th>1</th>\n",
       "      <td>10.0</td>\n",
       "      <td>NaN</td>\n",
       "    </tr>\n",
       "    <tr>\n",
       "      <th>2</th>\n",
       "      <td>NaN</td>\n",
       "      <td>1.0</td>\n",
       "    </tr>\n",
       "    <tr>\n",
       "      <th>3</th>\n",
       "      <td>5.0</td>\n",
       "      <td>3.0</td>\n",
       "    </tr>\n",
       "    <tr>\n",
       "      <th>4</th>\n",
       "      <td>7.0</td>\n",
       "      <td>5.0</td>\n",
       "    </tr>\n",
       "  </tbody>\n",
       "</table>\n",
       "</div>"
      ],
      "text/plain": [
       "               length  n_offspring\n",
       "individual_id                     \n",
       "1                10.0          NaN\n",
       "2                 NaN          1.0\n",
       "3                 5.0          3.0\n",
       "4                 7.0          5.0"
      ]
     },
     "execution_count": 212,
     "metadata": {},
     "output_type": "execute_result"
    }
   ],
   "source": [
    "import pandas as pd\n",
    "\n",
    "#Make and examine our first set of data for individuals 1-4\n",
    "df1_data = {\"individual_id\":[1,2,3,4],\"length\":[10,None,5,7],\"n_offspring\":[None,1,3,5]}\n",
    "\n",
    "#Make a dataframe directly from our dictionary\n",
    "#NOTE: normally in real applciations we'd load our dataframe using pd.read_csv to load a file\n",
    "df1 = pd.DataFrame(df1_data)\n",
    "\n",
    "df1 = df1.set_index('individual_id')\n",
    "df1"
   ]
  },
  {
   "cell_type": "code",
   "execution_count": 216,
   "id": "72382ad8",
   "metadata": {},
   "outputs": [
    {
     "data": {
      "text/html": [
       "<div>\n",
       "<style scoped>\n",
       "    .dataframe tbody tr th:only-of-type {\n",
       "        vertical-align: middle;\n",
       "    }\n",
       "\n",
       "    .dataframe tbody tr th {\n",
       "        vertical-align: top;\n",
       "    }\n",
       "\n",
       "    .dataframe thead th {\n",
       "        text-align: right;\n",
       "    }\n",
       "</style>\n",
       "<table border=\"1\" class=\"dataframe\">\n",
       "  <thead>\n",
       "    <tr style=\"text-align: right;\">\n",
       "      <th></th>\n",
       "      <th>main_diet</th>\n",
       "    </tr>\n",
       "    <tr>\n",
       "      <th>individual_id</th>\n",
       "      <th></th>\n",
       "    </tr>\n",
       "  </thead>\n",
       "  <tbody>\n",
       "    <tr>\n",
       "      <th>2</th>\n",
       "      <td>frogs</td>\n",
       "    </tr>\n",
       "    <tr>\n",
       "      <th>3</th>\n",
       "      <td>newts</td>\n",
       "    </tr>\n",
       "    <tr>\n",
       "      <th>4</th>\n",
       "      <td>frogs</td>\n",
       "    </tr>\n",
       "    <tr>\n",
       "      <th>5</th>\n",
       "      <td>insects</td>\n",
       "    </tr>\n",
       "    <tr>\n",
       "      <th>6</th>\n",
       "      <td>None</td>\n",
       "    </tr>\n",
       "  </tbody>\n",
       "</table>\n",
       "</div>"
      ],
      "text/plain": [
       "              main_diet\n",
       "individual_id          \n",
       "2                 frogs\n",
       "3                 newts\n",
       "4                 frogs\n",
       "5               insects\n",
       "6                  None"
      ]
     },
     "execution_count": 216,
     "metadata": {},
     "output_type": "execute_result"
    }
   ],
   "source": [
    "#Now let's say we have additional data for individuals 2-6\n",
    "df2_data = {\"individual_id\":[2,3,4,5,6], \"main_diet\":[\"frogs\",\"newts\",\"frogs\",\"insects\",None]}\n",
    "\n",
    "df2 = pd.DataFrame(df2_data)\n",
    "df2 = df2.set_index('individual_id')\n",
    "df2"
   ]
  },
  {
   "cell_type": "markdown",
   "id": "d2244d76",
   "metadata": {},
   "source": [
    "As a reminder, here's an example of how to join these tables:"
   ]
  },
  {
   "cell_type": "code",
   "execution_count": 220,
   "id": "a87bf226",
   "metadata": {},
   "outputs": [
    {
     "data": {
      "text/html": [
       "<div>\n",
       "<style scoped>\n",
       "    .dataframe tbody tr th:only-of-type {\n",
       "        vertical-align: middle;\n",
       "    }\n",
       "\n",
       "    .dataframe tbody tr th {\n",
       "        vertical-align: top;\n",
       "    }\n",
       "\n",
       "    .dataframe thead th {\n",
       "        text-align: right;\n",
       "    }\n",
       "</style>\n",
       "<table border=\"1\" class=\"dataframe\">\n",
       "  <thead>\n",
       "    <tr style=\"text-align: right;\">\n",
       "      <th></th>\n",
       "      <th>length</th>\n",
       "      <th>n_offspring</th>\n",
       "      <th>main_diet</th>\n",
       "    </tr>\n",
       "    <tr>\n",
       "      <th>individual_id</th>\n",
       "      <th></th>\n",
       "      <th></th>\n",
       "      <th></th>\n",
       "    </tr>\n",
       "  </thead>\n",
       "  <tbody>\n",
       "    <tr>\n",
       "      <th>1</th>\n",
       "      <td>10.0</td>\n",
       "      <td>NaN</td>\n",
       "      <td>NaN</td>\n",
       "    </tr>\n",
       "    <tr>\n",
       "      <th>2</th>\n",
       "      <td>NaN</td>\n",
       "      <td>1.0</td>\n",
       "      <td>frogs</td>\n",
       "    </tr>\n",
       "    <tr>\n",
       "      <th>3</th>\n",
       "      <td>5.0</td>\n",
       "      <td>3.0</td>\n",
       "      <td>newts</td>\n",
       "    </tr>\n",
       "    <tr>\n",
       "      <th>4</th>\n",
       "      <td>7.0</td>\n",
       "      <td>5.0</td>\n",
       "      <td>frogs</td>\n",
       "    </tr>\n",
       "    <tr>\n",
       "      <th>5</th>\n",
       "      <td>NaN</td>\n",
       "      <td>NaN</td>\n",
       "      <td>insects</td>\n",
       "    </tr>\n",
       "    <tr>\n",
       "      <th>6</th>\n",
       "      <td>NaN</td>\n",
       "      <td>NaN</td>\n",
       "      <td>None</td>\n",
       "    </tr>\n",
       "  </tbody>\n",
       "</table>\n",
       "</div>"
      ],
      "text/plain": [
       "               length  n_offspring main_diet\n",
       "individual_id                               \n",
       "1                10.0          NaN       NaN\n",
       "2                 NaN          1.0     frogs\n",
       "3                 5.0          3.0     newts\n",
       "4                 7.0          5.0     frogs\n",
       "5                 NaN          NaN   insects\n",
       "6                 NaN          NaN      None"
      ]
     },
     "execution_count": 220,
     "metadata": {},
     "output_type": "execute_result"
    }
   ],
   "source": [
    "combined_df = df1.join(df2,how=\"outer\")\n",
    "combined_df"
   ]
  },
  {
   "cell_type": "markdown",
   "id": "bfbf77b9",
   "metadata": {},
   "source": [
    "Now try changing the 'outer' in `how = 'outer'` to one of the other join methods discussed in this chapter. How do es that change the results?"
   ]
  },
  {
   "cell_type": "markdown",
   "id": "37ff8bfd",
   "metadata": {},
   "source": [
    "- **Exercise 2**. Join together the data from **Exercise 1** using an 'outer' join. Next, filter that table to drop any rows with `NaN` values, using either method described earlier in the chapter."
   ]
  },
  {
   "cell_type": "markdown",
   "id": "f2e2cc76",
   "metadata": {},
   "source": [
    "- **Exercise 3**. Imagine that you wanted to compare the `main_diet` and `n_offspring` columns to see if diet affected the number of offspring your organisms had.  "
   ]
  },
  {
   "cell_type": "markdown",
   "id": "08a6296c",
   "metadata": {},
   "source": [
    "## Reading Responses & Feedback \n",
    "\n",
    "^Make this a hyperlink using Google Forms"
   ]
  },
  {
   "cell_type": "markdown",
   "id": "3d74d3ba",
   "metadata": {},
   "source": [
    "## Further Reading\n",
    " - [Selecting Subsets of Data in Pandas Part 1](https://www.dunderdata.com/blog/selecting-subsets-of-data-in-pandas-part-1)\n",
    " - [Selecting Subsets of Data in Pandas Part 2](https://www.dunderdata.com/blog/selecting-subsets-of-data-in-pandas-part-2)"
   ]
  }
 ],
 "metadata": {
  "kernelspec": {
   "display_name": "Python 3",
   "language": "python",
   "name": "python3"
  },
  "language_info": {
   "codemirror_mode": {
    "name": "ipython",
    "version": 3
   },
   "file_extension": ".py",
   "mimetype": "text/x-python",
   "name": "python",
   "nbconvert_exporter": "python",
   "pygments_lexer": "ipython3",
   "version": "3.8.8"
  }
 },
 "nbformat": 4,
 "nbformat_minor": 5
}
