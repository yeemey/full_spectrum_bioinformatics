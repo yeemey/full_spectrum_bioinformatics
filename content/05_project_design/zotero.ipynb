{
 "cells": [
  {
   "cell_type": "markdown",
   "metadata": {},
   "source": [
    "\n",
    "<img src=\"./resources/reference_editing_by_hand_banner.png\" width=\"800\"  description=\"An image of the download screen on the zotero home page.\">\n",
    "\n",
    "# How to not repeatedly reformat 96 references by hand: Zotero for Beginners (Dr. Mushtaq Bilal)"
   ]
  },
  {
   "cell_type": "markdown",
   "metadata": {},
   "source": [
    "## In this section\n",
    "    - The benefits of using an automatic reference manager\n",
    "    - Installing the free Zotero and Zotero connector software packages\n",
    "    - Using Zotero to quickly compile reference libraries from Google Scholar or PubMed\n",
    "    - Taking notes directly on PDFs in Zotero\n",
    "    - Adding inline citations to a document with Zotero inside Word or Google Docs\n",
    "    - Automatically compiling a reference list \n",
    "    - Accessing your Zotero reference libraries online."
   ]
  },
  {
   "cell_type": "markdown",
   "metadata": {},
   "source": [
    "## Prerequisites\n",
    "   - None"
   ]
  },
  {
   "cell_type": "markdown",
   "metadata": {},
   "source": [
    "## Table of Contents\n",
    "* [In this section](#In-this-section)\n",
    "* [Prerequisites](#Prerequisites)\n",
    "* [Editorial Foreword: What Not to Do](#Editorial-Foreword:-What-Not-to-Do)\n",
    "* [Zotero for Beginners: A-Tutorial by Mushtaq Bilal,PhD](#Zotero-for-Beginners:-A-Tutorial-by-Mushtaq-Bilal,-PhD)\n",
    "* [Exercises](#Exercises)\n",
    "* [Reading Responses and Feedback](#Reading-Responses-&-Feedback)\n",
    "* [Further Reading](#Further-Reading)\n",
    "* [References](#References)"
   ]
  },
  {
   "cell_type": "markdown",
   "metadata": {},
   "source": [
    "## Editorial Foreword: What Not to Do\n",
    "\n",
    "*My first scientific publication was a review paper on the intra- and intercellular mechanisms of horizontal gene transfer. I hoped that organizing information about the traces these different gene transfer mechanisms left in the DNA might help inform the development of better tools for detecting transferred genes in bacterial genomes.*\n",
    "\n",
    "*The review ultimately cited 96 scientific papers. Unfortunately, I was formatting my references using a process that involved a lot of manual steps. Due to a misunderstanding on my part about the journal's formatting requirements, I had to reformat them all by hand more than once during revision of the manuscript. This is not even a huge number of citations relative to many papers, but I definitely felt pretty miserable during the process.* \n",
    "\n",
    "*The goal of this chapter is for you to never have to reformat large numbers of citations by hand, and instead to be able to include professional-grade citations throughout your research project, with a References section added automatically at the end. Luckily, there are several outstanding **reference managers** that can help you to do this. These are software packages that can collect, organize, and cite papers from the literature. Many can automatically fill in both inline citations and your references section. If you have to change formats, you can simply select a different format, and your bibliography will be automatically updated.* \n",
    "\n",
    "*To describe how to use Zotero, a good free reference management software package, I've invited [Dr. Mushtaq Bilal](https://scholar.google.com/citations?hl=en&user=p3NllOUAAAAJ&view_op=list_works&sortby=pubdate). Although we work in very different fields, Dr. Bilal's outstanding concise guides to using Zotero on social media have been appreciated by many reseachers and graduate students from around the world, and I thought they may be useful to you as well.*\n",
    "\n",
    "*Therefore, without further adieu, let's dive into setting up Zotero!* -JZ"
   ]
  },
  {
   "cell_type": "markdown",
   "metadata": {},
   "source": [
    "## Zotero for Beginners: A Tutorial by Mushtaq Bilal, PhD\n",
    "\n",
    "Zotero is the best citation management software package — it's free and does not monetize your data. But many folks have a hard time starting out on it. Here's how you can get started on Zotero in 15 minutes. \n",
    "\n",
    "### 1. Go to Zotero's website, click on the \"Download\" button.\n",
    "\n",
    "<img src=\"./resources/1_download_zotero.png\" width=\"400\"  description=\"An image of the download screen on the zotero home page.\">"
   ]
  },
  {
   "cell_type": "markdown",
   "metadata": {},
   "source": [
    " \n",
    "### 2. Install the Desktop App and the Connector for your Browser\n",
    "\n",
    "You'll need to install two things:\n",
    "\n",
    "- **Zotero** desktop app\n",
    "\n",
    "- **Zotero Connector** to connect your app to your web browser\n",
    "\n",
    "Download and install the desktop app first. For this tutorial, I'm using a Windows PC, and Google Chrome.\n",
    "\n",
    "<img src=\"./resources/2_select_operating_system.png\" width=\"400\"  description=\"An image of the download screen on the zotero home page.\">"
   ]
  },
  {
   "cell_type": "markdown",
   "metadata": {},
   "source": [
    "### 3. Open the Zotero desktop app once it's installed. Its interface will look like this.\n",
    "I couldn't take a screenshot of the welcome message, but it is marked on the image. (If anyone does, please share).\n",
    " \n",
    "<img src=\"./resources/3_welcome_message.png\" width=\"800\"  description=\"An image of the Zotero interface. A placeholder for the Zotero welcome message is written over the interface.\">\n",
    " "
   ]
  },
  {
   "cell_type": "markdown",
   "metadata": {},
   "source": [
    "### 4. Go back to Zotero's homepage. Click on \"Install Chrome Connector.\" \n",
    "\n",
    "Zotero Connectors are also available for Microsoft Edge and Firefox. The Connector for Safari is bundled with Zotero. You can enable it from the Extension pane of the Safari preferences.\n",
    "\n",
    "<img src=\"./resources/4_zotero_connector.png\" width=\"800\"  description=\"The Zotero download screen, as in step 2, with Zotero 6 for Windows on the left and Zotero Connector on the right. Zotero connector is now highlighted with a red box.\">\n",
    "\n",
    "\n",
    " "
   ]
  },
  {
   "cell_type": "markdown",
   "metadata": {},
   "source": [
    "### 5. You'll be taken to the Zotero Connector in the Chrome Web Store. Click on \"Add to Chrome.\"\n",
    "\n",
    "<img src=\"./resources/5_add_to_chrome.png\" width=\"800\"  description=\"TODO: describe 5_add_to_chrome.png\">"
   ]
  },
  {
   "cell_type": "markdown",
   "metadata": {},
   "source": [
    " \n",
    "### 6. After adding the Zotero Connector, click on the puzzle-piece sign in the top right corner of Chrome. \n",
    "\n",
    "It will open your Chrome Extensions. Go to Zotero and pin it to your Chrome.\n",
    " \n",
    "<img src=\"./resources/6_pin_it.png\" width=\"800\"  description=\"An install screen for the Zotero connector. In the upper right is a button that says 'Add to Chrome'.\">"
   ]
  },
  {
   "cell_type": "markdown",
   "metadata": {},
   "source": [
    "### 7. Now go back to Zotero's landing page and create a free account.\n",
    "\n",
    "<img src=\"./resources/7_create_zotero_account.png\" width=\"800\"  description=\"Zotero account creation page. Register for a free account (a blue link near the top center of the page) is highlighted, as is log in in the upper right. \">"
   ]
  },
  {
   "cell_type": "markdown",
   "metadata": {},
   "source": [
    " \n",
    "### 8. Now go to the Zotero Desktop App and click on \"File\" and then \"New Collections.\" \n",
    "Zotero's collections are *like* folders but they aren't exactly folders. Tell us if you know what the difference is.\n",
    " \n",
    "<img src=\"./resources/8_new_collection.png\" width=\"400\"  description=\"TODO: describe 8_new_collection.png\">"
   ]
  },
  {
   "cell_type": "markdown",
   "metadata": {},
   "source": [
    "### 9. Think of a project you've worked on in the past and use its title to name the collection: [Project Name]-Mock.\n",
    "\n",
    "Avoid doing it with a work-in-progress when starting out. For illustrative purposes, I'm naming the collection \"Pakistani Anglophone Literature - Mock.\"\n",
    "\n",
    "<img src=\"./resources/9_name_collection.png\" width=\"800\"  description=\"A dialogue box that says 'Name New Collecution'. 'Pakistani Anglophone Literature - Mock' is entered in the text box.\">"
   ]
  },
  {
   "cell_type": "markdown",
   "metadata": {},
   "source": [
    "### 10. Go to Google Scholar and look up keywords related to your project.\n",
    " Once you have run your search, Zotero can save either individual papers (from their Google scholar or journal page), or multiple papers at once from a Google Scholar search (or your university's library or a search engine like PubMed). I'll demonstrate selecting multiple papers at once from a Google Scholar search.\n",
    "\n",
    "Click on the Zotero Connector in the top right corner.\n",
    "\n",
    "<img src=\"./resources/10_google_scholar.png\" width=\"800\"  description=\"A Google Scholar search for 'Pakistani Anglophone literature', showing several academic papers. A large arrow points to the Zotero Connector icon in the upper right of the browser,right next to the puzzle piece from step 6.\">"
   ]
  },
  {
   "cell_type": "markdown",
   "metadata": {},
   "source": [
    " \n",
    "### 11.This will open a \"Zotero Item Selector\" box with all the search results on the page.\n",
    "Select the items relevant to your project.\n",
    "\n",
    "<img src=\"./resources/11_zotero_item_selector.png\" width=\"800\"  description=\"TODO: describe 11_zotero_item_selector.png\">"
   ]
  },
  {
   "cell_type": "markdown",
   "metadata": {},
   "source": [
    "### 12. Zotero will show that it's saving the items in your library.\n",
    "Since I named the collection \"Pakistani Anglophone Literature\" and looked up the same words, Zotero automatically knows where to save these items in this case. You can also use the pulldown menu to pick which library to save citations into.\n",
    " \n",
    "<img src=\"./resources/12_save_in_library.png\" width=\"800\"  description=\"TODO: describe 12_save_in_library.png\">"
   ]
  },
  {
   "cell_type": "markdown",
   "metadata": {},
   "source": [
    "### 13. Go to the Zotero desktop app and you will see all the selected items in the relevant collection.\n",
    "\n",
    "But that's not it. Zotero will also look for un-paywalled PDFs of these items from around the web and add them to your collection.\n",
    "\n",
    "<img src=\"./resources/13_zotero_collection.png\" width=\"800\"  description=\"A view of the Zotero collection 'Pakistani anglophone literature' in the Zotero Desktop app. On the left a large arrow indicates the name of the collection from a list of collections. On the right several papers in the collection appear with pdf icons next to them. They are highlighted with a red box.\">"
   ]
  },
  {
   "cell_type": "markdown",
   "metadata": {},
   "source": [
    " \n",
    "### 14. You can also add items using DOIs, PMIDs, and ISBNs.\n",
    "\n",
    "To do so, click on the \"Add Item(s) by Identifier\" button and paste the relevant identifier.\n",
    "Here I'm adding an item using its DOI (DOI stands for digital object identifier, a unique way to identify papers online).\n",
    "\n",
    "<img src=\"./resources/14_add_items_by_identifier.png\" width=\"800\"  description=\"An image of the Zotero Desktop app. The second button from the left in the middle column is circled in red and labelled 'Add Item(s) by Indentifier'. A dialogue box has appeared and the DOI for a paper has been entered into it.\">"
   ]
  },
  {
   "cell_type": "markdown",
   "metadata": {},
   "source": [
    "### 15. Once you've added the items, you can open them up by double clicking on them.\n",
    "You can annotate a PDF (left pane) and take notes (right pane) *in* Zotero.\n",
    "\n",
    "<img src=\"./resources/15_taking_notes_in_Zotero.png\" width=\"800\"  description=\"Image of the PDF view within the Zotero desktop app. A .pdf file is open.\">"
   ]
  },
  {
   "cell_type": "markdown",
   "metadata": {},
   "source": [
    "### 16. Now open a blank document in Microsoft Word or Google Docs.\n",
    "\n",
    "\n",
    "#### In MS Word, you'll see that Zotero has automatically installed a plugin that adds a Zotero menu (Look for `Zotero` between `View` and `Help`).\n",
    "\n",
    "<img src=\"./resources/16_zotero_word_plugin.png\" width=\"800\"  description=\"An image of the Zotero menu item in Microsoft word. Now Zotero appears between View and Help on the right side of the menus. Zotero is cicled in red, and inside a red box, the options that appear when you click on it are highlighted. These include 'Add Citation','Add Note','Add Bibliography', 'Refresh', etc. \">"
   ]
  },
  {
   "cell_type": "markdown",
   "metadata": {},
   "source": [
    "#### In Google Docs, the Zotero connector will have automatically added a Zotero menu (Look for `Zotero` in between `Insert` and `Format` in the menu).\n",
    "\n",
    "<img src=\"./resources/16_b_zotero_google_docs_plugin.png\" width=\"800\" \n",
    "description=\"An image of the Zotero menu item in Google Docs. Now Zotero appears between View and Help on \n",
    "the right side of the menus. Zotero is boxed in red, and inside a red box, the options that appear when you \n",
    "click on it are highlighted. These include 'Add Citation','Add Note','Add Bibliography', 'Refresh', etc. \">\n",
    "\n",
    "\n",
    "Later steps show the Microsoft Word interface, but the process is almost identical in Google Docs."
   ]
  },
  {
   "cell_type": "markdown",
   "metadata": {},
   "source": [
    "### 17. Select a quote from one of the papers in your collection and type it in the document.\n",
    "To add an in-text citation, click on `Add/Edit Citation` in the Zotero menu. Note that use of direct quotes varies a lot by field. In bioinformatics direct quotes are almost never used, with inline citations instead added directly after claims of fact (citing papers that established that fact) or after descriptions of what was found in a paper.\n",
    "\n",
    "<img src=\"./resources/17_add_citation.png\" width=\"800\"  description=\"A Word document labelled Anglophone Pakistani Literature Draft 1. In the upper left corner, a large yellow and red arrow points at the 'Add citation' item in the Zotero menu. The text to which the citation is being added reads, 'Cara Cilano argues that 'Beyond the Urdu-English binary, multilingualism in Pakistan has a vexed history, wherein ethnonationalisms compete for dominance and/or recognition'.\">"
   ]
  },
  {
   "cell_type": "markdown",
   "metadata": {},
   "source": [
    " \n",
    "### 18. Zotero may open \"Document Preferences\" with a list of available citation styles.\n",
    "\n",
    "Select the style appropriate to your field. (Note that the 'manage styles' link allows you to find additional styles)\n",
    "\n",
    "<img src=\"./resources/18_select_bibliography_format.png\" width=\"800\"  description=\"A Document Preferences window. A field labelled Citation Style holds a long list of citation styles, including that for Nature journals. The 'Modern Languages Association, 5th Edition' style is selected. A very small blue 'Manage Styles' link is visible in the lower right corner of the Citation Style window.\">"
   ]
  },
  {
   "cell_type": "markdown",
   "metadata": {},
   "source": [
    " \n",
    "### 19. Zotero will open a red search bar.\n",
    "\n",
    "<img src=\"./resources/19_zotero_search_bar.png\" width=\"800\"  description=\"A word document. A red search bar with the Zotero icon on its left side hovers in the center over the text.\">"
   ]
  },
  {
   "cell_type": "markdown",
   "metadata": {},
   "source": [
    " \n",
    "### 20. Enter the name of the author you want to cite. Zotero will show you the relevant item in your library. Select the item.\n",
    "\n",
    "<img src=\"./resources/20_enter_author_name.png\" width=\"800\"  description=\"A word document with a red Zotero search bar. The name 'Cilano' has been types into the search bar, and a list of articles has popped up below the search bar.\">\n",
    " "
   ]
  },
  {
   "cell_type": "markdown",
   "metadata": {},
   "source": [
    "### 21. Zotero will prepare the citation for insertion.\n",
    "\n",
    "You can also add page numbers by clicking on the citation in the search bar. Add a few in-text citations from different items in your collection.\n",
    "\n",
    "<img src=\"./resources/21_add_citation.png\" width=\"800\"  description=\"TODO: describe 21_add_citation.png\">"
   ]
  },
  {
   "cell_type": "markdown",
   "metadata": {},
   "source": [
    " \n",
    "### 22. Once you're done with in-text citations, place your cursor at the end of the document, and click on \"Add/Edit Bibliography\" in the Zotero tab.\n",
    "\n",
    "<img src=\"./resources/22_add_bibliography.png\" width=\"800\"  description=\"A word document. Works Cited has been written at the end, and the cursor now sits on the next line below that. The mouse is hovering over the 'Add/Edit Bibliography' button in the Zotero menu.\">"
   ]
  },
  {
   "cell_type": "markdown",
   "metadata": {},
   "source": [
    " \n",
    "### 23. Zotero will add the bibliography according to the style you had selected.\n",
    "\n",
    "<img src=\"./resources/23_works_cited.png\" width=\"800\"  description=\"TODO: describe 23_works_cited.png\">\n",
    " "
   ]
  },
  {
   "cell_type": "markdown",
   "metadata": {},
   "source": [
    "### 24. One last thing: go and log in to your Zotero account.\n",
    "\n",
    "<img src=\"./resources/24_zotero_login_again.png\" width=\"800\"  description=\"A web browser at zotero.org/user/login. Two fields say User and Password. A username is typed into the User field. .\">"
   ]
  },
  {
   "cell_type": "markdown",
   "metadata": {},
   "source": [
    "### 25. Click on \"Web Library\" and you will see that your library in the Zotero desktop app is available in your web library too.\n",
    " \n",
    "<img src=\"./resources/25_web_library.png\" width=\"800\"  description=\"An online bibliography on the Zotero.org website. A blue 'Web Library' link in the upper left has been clicked, and a list of references is visible.\">"
   ]
  },
  {
   "cell_type": "markdown",
   "metadata": {},
   "source": [
    "## Exercises\n",
    "\n",
    "One of the best ways to pick up the conventions of a particular academic journal or academic subfield is simply to carefully study multiple examples of published articles from that target journal, or written in that area of specialty. This doesn't have to take a long time (well under an hour), but can be immensely helpful in getting the right 'feel' for using citations in a way that will read as professional to practitioners in that area. \n",
    "\n",
    "**Exercise 1**. Pick a paper relevant to your project, and focus on one paragraph in the introduction that has a few citations, and describe each of the following:\n",
    "    - The style of the citations. Do they use direct quotations? Are inline citations numbered (1), or do they include the first author's family name and the year of publication (Bilal 2019)? A last name and a page number? Or is some other system used?\n",
    "    - The density of citations. Roughly how often do authors use citations? Is more than one citation ever used in a single sentence (e.g. if multiple papers address the same topic)? \n",
    "\n",
    "**Exercise 2**. Now scroll to the references list at the end. How is it labelled? Different journals may use 'References' (probably most common in Bioinformatics), 'Bibliography' or 'Works Cited'. Some review journals even include annotated bibliographies where the most important references are highlighted with special markings and include brief descriptions by the author.\n",
    "\n",
    "**Exercise 3**. See if you can recreate the inline citations from one paragraph in your paper, and their corresponding entries in the reference list using Zotero. You may need to find the style of the journal by hitting 'Manage Styles' in document preferences.\n",
    "\n",
    "\n"
   ]
  },
  {
   "cell_type": "markdown",
   "metadata": {},
   "source": [
    "## [Reading Responses & Feedback](https://docs.google.com/forms/d/e/1FAIpQLSeUQPI_JbyKcX1juAFLt5z1CLzC2vTqaCYySUAYCNElNwZqqQ/viewform?usp=pp_url&entry.2118603224=Project+Design+-+How+to+not+repeatedly+reformat+96+references+by+hand:+Zotero+for+Beginners+(Dr.+Mushtaq+Bilal))\n",
    "\n"
   ]
  },
  {
   "cell_type": "markdown",
   "metadata": {},
   "source": [
    "## Further Reading\n",
    "\n",
    "- “Guides thématiques: Zotero : manage your references and your bibliography: Collaboration.” Accessed April 20, 2023. https://sciencespo.libguides.com/zotero/en/collaboration.\n",
    "    A nice overview of using Zotero. Also describes how to set up a collaborative Zotero reference collection, which is extremely useful when collaborating on group research projects in Google Docs.\n",
    "\n"
   ]
  },
  {
   "cell_type": "markdown",
   "metadata": {},
   "source": [
    "## References"
   ]
  }
 ],
 "metadata": {
  "kernelspec": {
   "display_name": "Python 3",
   "language": "python",
   "name": "python3"
  },
  "language_info": {
   "codemirror_mode": {
    "name": "ipython",
    "version": 3
   },
   "file_extension": ".py",
   "mimetype": "text/x-python",
   "name": "python",
   "nbconvert_exporter": "python",
   "pygments_lexer": "ipython3",
   "version": "3.8.8"
  }
 },
 "nbformat": 4,
 "nbformat_minor": 2
}
