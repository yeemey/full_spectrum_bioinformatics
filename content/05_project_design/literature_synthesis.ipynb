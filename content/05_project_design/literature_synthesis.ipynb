{
 "cells": [
  {
   "cell_type": "markdown",
   "metadata": {},
   "source": [
    "<img src=\"./resources/summary_and_synthesis.png \" width=\"1000\"  description=\"A banner with icons representing summary and synthesis. The summarizing icon shows purple, orange or blue brains thinking about purple orange and blue source papers, then adding one section per paper to the document they are writing. However, there is no exchange of information between papers. Next, an icon for synthesizing shows all three source papers pointing at a brain. The brain is having a variety of reactions. From these questions, feelings and observations flow arrows pointing at icons for conflict, contrast, and evaluation. From the icons for conflict, contrast and evaluation, arrows point to different sections of the paper that is being written.\">\n",
    "\n",
    "# Write a Literature Synthesis ... and get an Introduction for Free!"
   ]
  },
  {
   "cell_type": "markdown",
   "metadata": {},
   "source": [
    "## In this section\n",
    "\n",
    "In this section, we will practice:\n",
    "\n",
    "- Writing a literature synthesis to help us think through what we've read about a topic and get ideas for a project\n",
    "- Synthesizing our own views about a topic by connecting, contrasting, and evaluating papers\n",
    "- Using clear and simple language to write about complex topics.\n"
   ]
  },
  {
   "cell_type": "markdown",
   "metadata": {},
   "source": [
    "## Prerequisites\n",
    "\n",
    "- To follow along with this chapter, it would be best to have already started to have picked a very general topic of interest, and have started to survey the literature by reading many abstracts in that area (see Project Design) "
   ]
  },
  {
   "cell_type": "markdown",
   "metadata": {},
   "source": [
    "## Table of Content\n",
    "\n",
    "- [Functions of a literature synthesis](#Functions-of-a-literature_synthesis)\n",
    "- [The Brain Rain: scientific topics are narrow but audiences vary in knowledge and interest](#The-Brain-Rain:-scientific-topics-are-narrow-but-audiences-vary-in-knowledge-and-interest)\n",
    "- [Introductions as Brain Funnel](#The-Paper-Introduction-as-Brain-Funnel)\n",
    "    - [Building a Better Funnel](#Building-a-Better-Funnel)\n",
    "    - [Learning writing strategies from the literature](#Learning-writing-strategies-from-the-literature)\n",
    "- [Writing Strategies: Plagiarism vs. Summary and Synthesis](#Writing-Strategies:-Plagiarism-vs.-Summary-and-Synthesis)\n",
    "    - [Plagiarism](#Plagiarism)\n",
    "    - [Summarizing](#Summarizing)\n",
    "    - [Synthesis](#Synthesis)\n",
    "- [Writing to Think](#Writing-to-Think)"
   ]
  },
  {
   "cell_type": "markdown",
   "metadata": {},
   "source": [
    "### Functions of a literature synthesis\n",
    "\n",
    "Before we try to undertake a bioinformatic project that we hope will add a little bit of new knowledge to what's known about our topic, it's important that take some time to get a sense of what work has already been done. This step is essential so that we see how are work connects to past research, so we can puzzle out whether there are existing methods that would be a good fit for our question, and so we can avoid mistakes or misguided thinking that has already been frequently addressed in the literature. A guide to starting a reading of the literature was presented earlier in this chapter.\n",
    "\n",
    "Now that you've had an opportunity to read a lot of abstracts for scientific papers in an area that interests you, its time to start writing about the connections that you see between them, and how you see them relating to your topic. We can use the introductions to scientific papers you are reading to inform the style and structure of our literature synthesis. \n",
    "\n",
    "We'll talk about *how* to write a literature synthesis in a moment, but first let's consider why it's important to do so in the first place. Eventually, if you were to publish your research, the literature synthesis you write as part of the planning for your project will form the foundation of the Introduction section of your scientific manuscript. Let's consider what features of an introduction will make it effective or ineffective in helping readers to engage with our topic.\n",
    "\n",
    "<img src=\"./resources/brain_rain.png\" width=\"300\" align=\"left\" hspace=\"10\" description=\"A diagram showing brains raining downward. A large black barrier stretches out below the brains. The barrier has a single hole marked 'Project technical details'. Many brains have missed the hole and splattered against the barrier. Only one brain has passed through successfully.\"> \n",
    "\n",
    "### The Brain Rain: scientific topics are narrow but audiences vary in knowledge and interest\n",
    "\n",
    "Imagine your audience's diverse and varied interests, understandings, and outlooks as a rain of brains (a brain rain, if you will). Now imagine that you begin to present the technical details of your topic.\n",
    "\n",
    "We can represent which readers will understand this dry and abrupt beginning to your writing, and still be interested by your work by a solid black barrier with a single hole: only those falling brains that pass through this hole — representing readers who are already interested in and knowledgable about your topic — will make it to the other side without splattering against the barrier in a shower of pink goo. \n",
    "\n",
    "What a mess! We've only started writing and we've already lost most of our audience."
   ]
  },
  {
   "cell_type": "markdown",
   "metadata": {},
   "source": [
    "## The Paper Introduction as Brain Funnel\n",
    "\n",
    "Obviously, this is not an ideal situation!\n",
    "\n",
    "<img src=\"./resources/introduction_as_a_brain_funnel.png\" width=\"600\" align=\"left\"  description=\"A diagram showing brains raining downward. A rainbow colored funnel collects these falling brains and step-by-step funnels them towards the technical details of the project. The top level, the broadest part of the funnel represents the audiences current interests and knowledge. The next segment is a Hook that interests the audience in the topic, and information that increases the interest and importance of the subject. Next, the funnel narrows to a discussion of what's currently known about the topic, building towards one particular unsolved mystery, hypothesis, or opportunity that will form the core of your project. The next to last segment of the funnel is labelled Overview of Your Project. Finally, the same black landscape with a hole marked technical details is present. But now all the falling brains are being funneled into the hole, rather than splattering against the barrier. Three brains have passed through so far.\">\n",
    "\n",
    " If we want more readers to understand the technical details of our work, we need some way to gently guide more brains towards our topic, so that fewer smoosh themselves against the barrier - representing readers that lose interest or can't follow our writing.  \n",
    "\n",
    "\n",
    "We want our literature synthesis to have the form of a funnel like the one shown at the left: start with what your intended audience already knows and cares about. The more broadly interesting this section is, the more likely we are to catch reader's attention. Then, introduce statements that cause them to be increasingly interested in your general topic. For example, if writing a paper about microorganisms, one might discuss their huge biodiversity, specific examples of their roles in animal physiology, interesting metabolic strategies, etc. You never have to tell your audience, \"The reason we should care about microbes is because microbes are highly biodiverse.\" You can simply say, \"Microbes are highly diverse\" and trust that that this will interest readers. \n",
    "\n",
    "Once you've caused readers to become interested in your general topic, you want to start to funnel their attention more narrowly towards the specific question you want to answer with your project. In scientific papers, this next section of the funnel consists of descriptions of past work in the area. The papers that are discussed are not chosen randomly. Instead, they are carefully chosen because they are the ones that are most important for setting the stage for your question in particular. You can think about this part of the introduction like the part of the movie where you start to be introduced to different characters and plot points that slowly come together to reveal the story's main conflict.\n",
    "\n",
    "Now that readers are interested in your general topic, and have been led by you towards your general question, it is time to send them down the narrowest part of the funnel and introduce the specific question you will be asking. This is an opportunity for a little bit of drama or excitement - it's one of the 'big reveals' of your paper's introduction. When you read papers in the literature there will often be a key 'turning point' sentence at this point in the introduction. Many begin something like this:\n",
    "\n",
    "\"In this paper we show....\"\n",
    "\"Here we demonstrate that ...\"\n",
    "\"Using 1000 newly sequenced genomes, we ...\"\n",
    "\"In this paper we aim to test the hypothesis that ...\"\n",
    "\n",
    "From this point forward, you can safely transition into talking about methods, results and discussion. "
   ]
  },
  {
   "cell_type": "markdown",
   "metadata": {},
   "source": [
    "## Building a Better Funnel\n",
    "\n",
    "If we all agree that we want to build our introduction to interest readers and funnel them towards the central question and approach of our paper, we still have some big challenges ahead of us. It is easy to say, \"write things that will interest your readers in a topic.\", but that does not necessarily make it easy to do. Let's consider how we can use the papers we've already collected to learn some strategies for getting readers interested in our topic through our introduction section. \n",
    "\n",
    "### Learning writing strategies from the literature\n",
    "\n",
    "As you consider how you might guide readers toward your question, you may wish to re-read just the introduction section of some of the papers you were most excited about from your literature review. Where was the moment where they introduced the specific question they would be trying to answer in that paper? What strategies did they use in their writing to cause you to think that question was neat? \n",
    "\n",
    "Here are a few strategies I've noticed:\n",
    "\n",
    "<img src=\"./resources/relating_two_topics.png\" width=\"300\" align=\"left\"  description=\"A diagram of relating two topics. Boxes marked topic A and topic B. Arrows from topic A point to subtopics that in turn point to topic B. Arrows from topic B point to other subtopics that point at topic A.\">\n",
    "\n",
    "**Relating two topics** In the introduction, make a big deal about how much is known about some subtopic A. Also make a big deal out of the importance of subtopic B. Then, for the 'big reveal', point out that not very much is known about how A and B relate to each other. If pursuing this stategy, it's important to be fair to the existing literature, and to be aware that it can be very easy to miss papers that have been published, so one must be extremely careful if making claims that a topic has never been addressed. However, you should try to make judgements about which topics have been covered more or less, based on your reading of the literature. If a connection between A and B hasn't really been explored very extensively, it can be great to point that out.\n",
    "\n",
    "\n",
    "\n",
    "**Using a new technique to shed new light on an old question** In the introduction, get readers excited about an interesting biological topic A, and narrow in on a question that the field hasn't yet been able to fully answer. Let readers sit with that, and hopefully wish that we knew the answer. Then introduce an exciting method B that is enabling discoveries in other fields, but hasn't be used much to explore topic A. Finally, discuss how in this paper, your goal was to use that exciting new method B to try to answer the outstanding question in topic A.\n",
    "\n",
    "**Introducing a paper that addresses a longstanding disagreement**. Take a topic where different peer-reviewed papers disagree. Review the best arguments and evidence for each side of the disagreement. Finally, point out an opportunity you see to help resolve this disagreement (this will then be the focus of your paper). \n",
    "\n",
    "**Introducing a very surprising finding**. In papers where the authors found something really surprising, they'll sometimes use a strategy where in the introduction they point out a pattern that was thought to always be true. They'll go on for some time reviewing many studies that have found the same thing (the thing that their paper will ultimately challenge), and perhaps review the main theoretical reasons this finding was thought to always be true. They might interject a little bit of doubt by also pointing out any weaknesses in the evidence that caused people to hold a particular view. Finally, they will narrow in on the specific question they asked or approach they took that will ultimatly cause them (by the end of the paper) to hold a view different from the consensus. Of course, the most common reason for finding something very different from the consensus about a topic is to make a mistake. So if pursuing this strategy it's a very good idea to make sure you are carefully considering sources of error in your own work, and perhaps to talk over your findings with folks who work in that area of research to see if they can suggest any follow up tests. "
   ]
  },
  {
   "cell_type": "markdown",
   "metadata": {},
   "source": [
    "## Writing Strategies: Plagiarism *vs.* Summary and Synthesis"
   ]
  },
  {
   "cell_type": "markdown",
   "metadata": {},
   "source": [
    "Now that we have our overall strategy laid out - funnel readers from general interest down towards our specific question over the course of the introduction - and we have some more detailed tactics we might use to accomplish that (relate two topics, apply a new technique, etc), it's time to get down to the nuts and bolts of how we write about the literature.\n",
    "\n",
    "Scientific writing in a literature synthesis can take multiple different forms. \n",
    "\n",
    "At best, a literature synthesis can be a very individual reflection of what patterns you noticed, and what findings you thought were most important with regards to your specific project, as you've learned about the topic. Such writing is often also very fun, since you are really just having a conversation with your readers in which you share how you are thinking about this topic after studying it for a little while. \n",
    "\n",
    "I view this type of 'synthetic' writing as one end of a spectrum. To write in this way, we have to have first read a reasonable number of papers on our topic, and then thought about how they relate to one another and our project. Fun, personal, synthetic writing is a good goal when writing a literature synthesis. To understand the qualities of this type of writing and the process that produces it, it is useful to constrast synthesis with summarizing and plagiarism. The diagram below shows some key differences between unethical plagiarism, summary, and synthesis that we'll explore in more detail."
   ]
  },
  {
   "cell_type": "markdown",
   "metadata": {},
   "source": [
    "<img src=\"./resources/listing_vs_synthysis-01.jpg \" width=\"1000\"  description=\"A diagram of plagiarism, listing and synthesis as points on a continuum. Plagiarism shows a rainbow colored brain sleeping, while arrows from source documents point directly at the document we are writing. Text embedded in the image defines plagiarism as copying text directly from source documents, then paraphrasing or changing words. A label at the bottom of the column reads: 'Never use!'. The column for Summarizing shows purple, orange or blue brains thinking about purple orange and blue source papers, then adding one section per paper to the document they are writing. However, there is no exchange of information between papers. Embedded text defines Summarizing as reading, understanding and distilling key findings of each paper separately. A label at the bottom of the Summarizing column says 'Use Occasionally'. Synthesizing, the final column, shows all three source papers pointing at a brain. The brain is having a variety of reactions. From these questions, feelings and observations flow arrows pointing at conflict, contrast, and evaluation. From each of these sections, arrows point to different sections of the paper. Embedded text defines Synthesizing as finding deep patterns of relationships among papers in light of your questions. A label at the bottom of the Synthesis column says 'Use most of the time'.\">"
   ]
  },
  {
   "cell_type": "markdown",
   "metadata": {},
   "source": [
    "### Plagiarism \n",
    "\n",
    "<img src=\"./resources/plagiarism_icon.png\" width=\"300\" align=\"left\"  description=\"An icon for unethical plagiarism, cropped from the full banner up above. The image shows a rainbow colored brain sleeping, while arrows from source documents point directly at the document we are writing.\">\n",
    "\n",
    "In order to get to discuss the kinds of effective and ethical scientific writing approaches we do want to use, it can be useful to compare and contrast aspects of these better strategies with worse alternatives. This can help us understand what makes some writing processes effective, while others get you fired. As we do this, we want to think not just about the details of writing, but also about the psychology and 'headspace' we are in when we write in different ways. \n",
    "\n",
    "Often when we are writing about a topic that is new to us, we are afraid to take ownership of the claims we are making and the views we are putting forward. This fear can easily lead us to write in ways that are overly reliant on single sources. At worst, this problem can lead to plagiarism, in which text is directly copied from sources into a literature synthesis, and then modified or rephrased slightly. This approach should NEVER be used, and should be avoided at all costs. **Even if it means that you miss a deadline, or have to ask for an extension on a paper, it is much, *much* better to do so rather than trying to meet the deadline by plagiarizing**. \n",
    "\n",
    "Every scientist I know has on occasion missed deadlines, or not finished something they really wanted to finish. In contrast, plagiarising text can very easily lead to failing a class, being thrown out of a graduate lab, or being fired from a job. I've personally seen it happen twice, and in both cases it was awful. \n",
    "\n",
    "Folks in academic research react so strongly to plagiarism because once someone sees that work was done in this unethical way, they now must be paranoid about every single sentence in your writing, as well as the integrity of any research results that you contributed to, since any fabricated or plagiarized material that made it into publication could have devastating consequences for an entire research group. This makes it very impractical to actually work together on research in a productive way. \n",
    "\n",
    "However, as long as you are being ethical and transparent in your writing you don't have to paranoid - the strategies we will discuss will move us towards the opposite end of the spectrum as plagiarism, *and* make writing a lot more fun, creative, and personal. If you have any questions about your writing strategy, or are worried that some parts of your text might be overly reliant on single sources, it is always OK to show a research mentor or class instructor the process you are using to do your writing and to ask for feedback on that process. They may be able to suggest additional sources, or suggest changes to your writing process that will make things go more smoothly.\n",
    "\n",
    "Even if we don't have access to a mentor or class instructor, there are some things we can recognize about plagiarism that may help guide us towards the writing process we *do* want to use. In other words, our goal isn't so much to avoid plagiarism (though we absolutely cannot plagiarize in academic writing), but instead to work *towards* writing that is at the other end of the spectrum in terms of how we are thinking about the material. \n",
    "\n",
    "If we recognize that plagiarism often arises from fear of saying the wrong thing, it can help us to build better strategies. For example, even if we don't know everything about a topic — and no one ever knows *everything* about a topic — we probably know at least some basics. You can try writing down the basics that you do know and clearly understand first, explaining them in plain terms, like you would to a friend. Sometimes, getting back to what you *do* understand well can help set a better stage for your writing. You can then do a little more research on the topics that you don't understand as clearly, until you can also explain them in plain and relatively simple terms. Once you can do that, the specific language used in your source papers is mostly irrelevant - you understand the concepts and can explain them in a way that makes sense in the context of your literature synthesis. \n",
    "\n",
    "Leaving ethics aside, the best way to write something is always context-dependent. So even if some author in the literature is a better writer than we are in a general sense, writing from our own thoughts, and in our own words has huge advantages: the way *we* explain a concept will be consistent with the 'voice' we use throughout the paper, and it will be written to make sense in the specific context of *our* paper, not some other paper. In other words, don't be afraid to be yourself!\n",
    "\n",
    "With this in mind, let's consider what writing looks like as we start to focus on conveying our own understanding of concepts."
   ]
  },
  {
   "cell_type": "markdown",
   "metadata": {},
   "source": [
    "### Summarizing\n",
    "\n",
    "<img src=\"./resources/summarizing_icon.png\" width=\"300\" align=\"left\"  description=\"An icon for summarizing papers, cropped from the larger banner earlier in the chapter. The icon for summarizing shows purple, orange or blue brains thinking about purple orange and blue source papers, then adding one section per paper to the document they are writing. However, there is no exchange of information between papers.\">\n",
    "\n",
    "When we are summarizing past work in a literature synthesis, we are often reading individual papers, trying to understand them, and then spending some time away from them thinking about what they mean and how they relate to our project. When summarizing, we may be thinking about what parts of a complex paper are most important with regards to our question, and how we might explain those critical parts of the paper in a simple way.\n",
    "Ultimately, when summarizing, a single paper that we read might end up as a single sentence or perhaps a short paragraph of our final text. \n",
    "\n",
    "Unlike plagiarism, summarizing is a perfectly valid mode of academic writing. We are not relying on the specific language of the papers we are reading, but are instead using our own understanding to describe previous studies in our area of research. In a good summary, we may be exploring why each study was done, what methods they used, how their results relate to their key conclusions, etc. Because we are choosing what to mention and what to skip, we are making choices about what we think is important about each paper in light of our present question. As such, the summary that someone else would write about a paper for their project will probably be very different than the one we would write for our project - even if the source paper is the same! Good literature syntheses will often use a little bit of summary. \n",
    "\n",
    "Too much summary, however, can cause our literature synthesis to become terribly boring to write and to read. If there are only 3 key papers that have explored a very specific question, then summarizing those three papers, their methods, and their key findings is likely important. But if we carry on summarizing paper after paper after paper with no clear thread to connect them, it won't take long before readers tune out. Therefore we can think of summarizing like a seasoning: a little bit can be essential, but if that's all there is it makes a terrible meal."
   ]
  },
  {
   "cell_type": "markdown",
   "metadata": {},
   "source": [
    "### Synthesis\n",
    "\n",
    "<img src=\"./resources/synthesis_icon.png\" width=\"400\" align=\"left\"  description=\"An icon for summarizing papers, cropped from the larger banner earlier in the chapter. The icon for synthesizing shows all three source papers pointing at a brain. The brain is having a variety of reactions. From these questions, feelings and observations flow arrows pointing at conflict, contrast, and evaluation. From each of these sections, arrows point to different sections of the paper.\">\n",
    "\n",
    "If summarizing involves thinking about several papers, and then connecting our thoughts about the content of those papers at the level of paragraphs, synthesis involves connecting our thoughts about more than one paper at the level of sentences. \n",
    "\n",
    "In the diagram to the left illustrating synthesis, a brain is shown processing what it's read from three papers. Instead of thinking about each one separately, like when summarizing, we are instead considering their relationships to one another. In the diagram, our thoughts about the connections between papers are shown by bubbles showing conflict, comparison and evalauation. It  from our comparisons and evaluations of the papers *in comparison or connection to one another* that our synthesis emerges. \n",
    "\n",
    "Here are some questions we might ask as we synthesize these papers:\n",
    "\n",
    "- If multiple papers address the same question, do they agree on the answer?\n",
    "    \n",
    "- If their data disagree, do any of the authors provide a coherent explanation for why other researchers got a different answer? For example, if the best supported hypothesis is true, does it also explain the research findings of the less well supported hypotheses?\n",
    "    \n",
    "- Based on the explanation that best explains ALL the data (from each paper that studied this topic), which conclusion do you most agree with? Or do you think there are possibilities that seem reasonably likely that none of the authors have considered?\n",
    "    \n",
    "- Is there a claim made in paper after paper, with what feels like little evidence? If so, are you able to track down the trail of citations back to an original paper that produced evidence for the claim? Does the data from that paper support the condensed claims made in paper introductios? If the claim seems weakly supported, is there a way you could test it directly?\n",
    "    \n",
    "- Do the papers use similar or overlapping methods? Are those methods that you might use in your project?\n",
    "    \n",
    "- What do the authors of each paper think is important to emphasize? It's fairly common for two different scientists, presented with exactly the same data, to pull out different features of that data as especially interesting. For example, a specialist in metabolism might look at a genome and immediately start thinking about what metabolic pathways are present, whereas a comparative immunologist might focus on immune pathways.\n",
    "\n",
    "- What caused you to compare these specific papers rather than others on the topic? What connections do you see between them?\n",
    "    \n",
    "\n",
    "    \n",
    "As you can see, these questions that we are thinking about when writing synthesis are highly dependent on your own thoughts and scientific judgement. Two people, reading the same 10 papers will proabbly write totally different syntheses (albeit probably with some common themes)! That's part of why writing synthesis can be very fun, and also why I put it at the opposite end of the spectrum from plagiarism: instead of just copying text and then trying to mangle it so it isn't recognizable, without any real intellectual input, we are instead unmistakably bringing our own thoughts and ideas to the table. As always, fear is our biggest enemy here. If you've made it this far in the text, let me say now: your thoughts after reading the literature are \"good enough\" and you should try writing them down. Even if you are wrong in some particular, by showing how you are thinking, it is much easier to get constructive feedback that will improve your understanding of the topic. \n",
    "\n",
    "Of course, it is still science, and accuracy is important. Once you've written your summary or synthesis from your own thoughts about some papers, it is OK and indeed very important to *then* go back to the original papers and double check that your impressions were correct. In this way, reading and writing are not opposite processes, but instead form a cycle of iteration. You read once, formulate some ideas. \n",
    "\n",
    "Those ideas then give you a different lens with which to reread the papers you have already read, as well as others from the literature. With that new reading, new ideas may arise. After writing about them, more questions of what's been done in the literature may arise. \n",
    "\n",
    "Eventually, as you read new papers, you will start to recognize many of their citations, because they are to other foundational papers in the field that you have already read or skimmed. Usually when you get to this point it is a good sign that you are starting to gain a good working familiarity with the field. "
   ]
  },
  {
   "cell_type": "markdown",
   "metadata": {},
   "source": [
    "### Writing to Think\n",
    "\n",
    "When you read a finished scientific paper or grant, it can feel like your own ideas or first drafts are hopelessly disorganized. However, virtually every great paper began as terrible writing. Instead of thinking of writing only as a noun — as our final product — we can also think about writing as a *process* that we can use to explore ideas.\n",
    "\n",
    "Here's a common example: having read and thought about many papers on a topic you start writing a first draft of a literature synthesis. However, after several hours of work the text you have in front of you doesn't make much sense. There are some good ideas in there, but they aren't connected, and the text jumps around a lot without very good transitions. Is this a sign that you're bad at writing, or that you are on the wrong track? \n",
    "\n",
    "To me, this would be a very normal step in the process of writing a successful paper. I'd regard an afternoon spent producing text that looked like that an effective use of time early in the process of developing a project. Of course, we can't *leave* the writing in that state and have it be effective in its purpose. But as a starting point for organizing our ideas, it's OK if we have a lot of content, but not a lot of organization. In fact, sometimes you have to get a lot of the specific points you want to make out on the page before you figure out the overaching organization that will walk a reader through them.\n",
    "\n",
    "Later when you return to your writing, you can begin to organize or cluster similar topics. You might also read over what you wrote to remember the ideas you wanted to convey, then start fresh to write in a way that relates them more naturally. It's very typical for a first draft merely to lay out the raw materials for your synthesis, and for it to take another pass or two with fresh eyes before you can assemble them into a structure that makes sense. \n",
    "\n"
   ]
  },
  {
   "cell_type": "markdown",
   "metadata": {},
   "source": [
    "## Exercises\n",
    "\n",
    "1. **Brainstorming topics for synthesis** Read or skim some papers about your project that you think are related in some way (see project design for a guide), without taking any notes. Now put them away. Step away, and take a short break. When you come back, write down 3 or more relationships (comparison, contrast, conflict, shared methods, etc) you saw between the papers. Questions you are trying to understand work pretty well too. Try writing each out of these relationships as 1-2 complete sentences. For example, \"Paper 1 studied topic X using comparative methods, while paper 2 took an experimental approach. They reached opposite conclusions.\" or \"Papers 1,2, and 3 applied exciting new method X to clams, sponges, and corals. I want to apply it to my project analyzing shrimp.\". Did that feel OK? Hopefully it just felt very converational, like you were talking about the papers with a friend or colleague who was interested in the same topic.\n",
    "\n",
    "2. **Writing a synthesis paragraphs** From the list of relationships you wrote down in section 1, see if you can develop some paragraph topics that map to your themes. Pick one of them, and try writing out your thoughts as a paragraph. Again, don't refer back to notes at this stage. Just explain your thoughts about the papers like you would to a fried. When you mention one paper (Liu *et al.*, 2017) or another paper (Brown *et al*., 2022), you can refer to them with inline citations (Agrawal *et al*., 2010). Once you have drafted your paragraph, you may refer back to the papers and take notes to check what you wrote for accuracy. How did that feel?\n",
    "\n",
    "3. **Writing a simple summary**. Now that you've written a synthesis paragraph, try writing a couple of short paragraphs that simply summarize a couple of your papers, without relating them. Now compare how that felt to exercise 2. For many folks, this exercise will be easier (you're making a lot fewer judgements), but also less rewarding or motivating than the synthesis in exercise 2.\n",
    "\n",
    "4. **Notice patterns in past writing**. Look at scientific writing you've done in the past (e.g. for a class or previous project). See if you can identify passages that represent synthesis or summary, as well as any passages that seem like they are way too reliant on a single source. If you read the language of these different passages, are the synthesis sections more or less technical than the summary sections? Which is more fun to read? In my own writing and in reading many student papers, I often notice that summary sectons tend to have way more highly technical and jargon-y terms that are not necessary for conveying the message. In (relatively rare) cases where I've read clearly plagiarized material this problem is often much worse. I don't have a great way to describe this difference, but to me it sort of feels like the difference between how a scientist in a TV show talks (like they just got jumped in an alley by a walking thesaurus) vs. the way effective scientists talk when presenting their research, which tends to be very accessible to their target audience. Of course, the best scientific communicators can also add technical details when it is necessary to do so, or in response to technical questions.  Can you find any passages that represent summarizing and synthesis, or any that feel like they rely too heavily on a single source? Do you notice any differences in how they sound when you read them out loud? "
   ]
  },
  {
   "cell_type": "markdown",
   "metadata": {},
   "source": [
    "## Reading Responses & Feedback \n",
    "\n",
    "^Make this a hyperlink using Google Forms"
   ]
  },
  {
   "cell_type": "markdown",
   "metadata": {},
   "source": [
    "## Further Reading"
   ]
  },
  {
   "cell_type": "markdown",
   "metadata": {},
   "source": [
    "## References"
   ]
  }
 ],
 "metadata": {
  "kernelspec": {
   "display_name": "Python 3",
   "language": "python",
   "name": "python3"
  },
  "language_info": {
   "codemirror_mode": {
    "name": "ipython",
    "version": 3
   },
   "file_extension": ".py",
   "mimetype": "text/x-python",
   "name": "python",
   "nbconvert_exporter": "python",
   "pygments_lexer": "ipython3",
   "version": "3.8.8"
  }
 },
 "nbformat": 4,
 "nbformat_minor": 2
}
