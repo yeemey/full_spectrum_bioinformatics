{
 "cells": [
  {
   "cell_type": "markdown",
   "metadata": {},
   "source": [
    "# Managing a shared project with GitHub"
   ]
  },
  {
   "cell_type": "markdown",
   "metadata": {},
   "source": [
    "## In this section\n",
    "\n",
    "    - Learn how to update a shared project in GitHub using a branch to organize your changes, and labelling each major change with a commit message."
   ]
  },
  {
   "cell_type": "markdown",
   "metadata": {},
   "source": [
    "## Prerequisites\n",
    "\n",
    "    - Able to open a command line interface\n",
    "    - Familiar with command line interface basics (ls, cd, etc)\n",
    "    - Familiar with absolute and relative paths\n",
    "    - Git Installed, GitHub web account already set up, shared repository already exists\n",
    "      (see previous sections or the GitHub website for help with these steps)."
   ]
  },
  {
   "cell_type": "markdown",
   "metadata": {},
   "source": [
    "## Table of Content\n",
    "* [In this section](#In-this-section)\n",
    "* [Prerequisites](#Prerequisites)\n",
    "* [Main Text](#Main-text)\n",
    "* [Subheading](#Subheading)\n",
    "* [Subheading 2](#Subheading-2)"
   ]
  },
  {
   "cell_type": "markdown",
   "metadata": {},
   "source": [
    "## Managing project chaos\n",
    "\n",
    "Git is a version management system that can keep track of different versions of your code in a **code repository**. It lets you organize changes to your code into **commits** that are each labelled by what they do. That way, if you want to undo some changes but not others, you can remove those specific commits without removing others.\n",
    "\n",
    "GitHub is a website that lets you share git repositories of your code online, and collaboratively edit them with a team - all while organizing all team member's changes into labelled commits.  \n",
    "\n",
    "This ends up being extremely useful! Imagine that you are doing a genomic analysis project with a group. A team member is writing a new function to calculate k-mer content, while you are working on code to download genomes from NCBI. Along the way, you both also make some fixes to the existing code. Now you meet and have to try to combine your work. But which lines changed, and in which files? While its certainly possible to sort out, its time consuming, and very easy to make mistakes when combining your work. GitHub helps with this by being able to automatically merging changes from different team members (as long as they don't directly contradict or *conflict* with each other)."
   ]
  },
  {
   "cell_type": "markdown",
   "metadata": {},
   "source": [
    "### Installing Git\n",
    "The easiest way to install git differs a little bit between MacOSX and PC\n",
    "\n",
    "- xcode for MacOSX\n",
    "- Git BASH for Windows\n",
    "\n",
    "### Setting up GitHub\n",
    "\n",
    "- Creating a free account\n",
    "\n",
    "### Configuring your system to allow command line interaction with GitHub\n",
    "\n",
    "- Creating a private and public SSH key\n",
    "- Setting up ~/.ssh/config to use your keys\n",
    "- Creating a 'Personal Access Token'"
   ]
  },
  {
   "cell_type": "markdown",
   "metadata": {},
   "source": [
    "## Git basics\n",
    "\n",
    "\n",
    "To use a shared repository, we'll need the following commands:\n",
    "\n",
    "`git pull <source> <destination>` \n",
    "git pull brings any new changes at a remote `source` repository to a local `destination` repository. \n",
    "\n",
    "`git push <destination> <source>` \n",
    "git push uploads a local `source` branch to a remote `destination`.\n",
    "\n",
    "`git add <file>`\n",
    "starts git tracking changes to a local file on your computer.\n",
    "\n",
    "`git commit -m <message>`"
   ]
  },
  {
   "cell_type": "markdown",
   "metadata": {},
   "source": [
    "## Working with a shared repository on GitHub\n",
    "\n",
    "### Setup: create a fork on GitHub and set the  shared group repository as its `upstream`\n",
    "\n",
    "<img src=\"./resources/1_github_diagram_setup_only copy.png\" width=\"600\"  description=\"A workflow diagram of the first two setup steps when working with a shared GitHub repository. The top half of the diagram is in pink and marked 'Cloud' with a GitHub icon. The bottom half is in orange and marked 'Your Computer' with a laptop icon. The two sides are divided by a dashed line. The steps and their icons are labelled as follows: Setup Step 1. A pink cloud on the left marked Main Project 'upstream', main branch is connected by an arrow to a pink cloud on the right labelled Personal Fork 'origin', main branch. THe arrow connecting them is labelled Setup Step 1. Fork on GitHub website. \">\n",
    "\n",
    "Setup steps:\n",
    "\n",
    "1. Fork the main project\n",
    "2. `git clone git@github.com:<your_username>/<your_forked_repository_name>.git`\n",
    "3. `git remote add upstream git@github.com:<user>/<main_repository_name>.git`"
   ]
  },
  {
   "cell_type": "markdown",
   "metadata": {},
   "source": [
    "### Overview of the life cycle of a GitHub pull request\n",
    "\n",
    "For collaborative projects, the best way to make changes is through 'pull requests'. The basic idea is that each group member will make changes in their own local copy of the project, then \"push\" those changes up to their cloud copy or 'fork' of the project on the GitHub website. From there, they will request that the group incorporate the changes by issuing what is known as a \"pull request\". A different member of the group will then look over the changes, and if everything looks good merge the changes into the main project. This process means that at least 2 people will look at all changes, which can help prevent mistakes, and that each change is well documented.\n",
    "\n",
    "All in all, it takes a total of 7 steps to update your local and cloud projects, create a new branch of the project to work on, make and commit changes to your files, then push them back up to your fork of the project in the cloud, and finally request that the main group account incorporate your changes. \n",
    "\n",
    "This feels like a lot of commands the first time, and that is very normal! The first couple times, it can be very helpful to have someone familiar with the process walk you through it. However, I promise it gets easier with practice and repeatition. \n",
    "\n",
    "Below we will discuss in detail each step, what its doing, and why that makes sense. However, in case that's overwhelming, here's a short list of the commands we'll be using. The commands assume the shared project will be labelled `upstream`, your personal cloud copy or fork will be labelled `origin`, and the main branch will be labelled `main`. In this example, we're adding some data to a file called `my_file.txt`, so we've named our branch (i.e. the label for the topic we're working on) `add_data`.\n",
    "\n",
    "\n",
    "**Steps 1 & 2**: Update local and cloud copies\n",
    "\n",
    "1. `git pull upstream main`\n",
    "2. `git push origin main`\n",
    "\n",
    "**Step 3:** Create a branch called add_data and switch to it\n",
    "\n",
    "3. `git checkout -b add_data`\n",
    "\n",
    "**Steps 4 & 5:** Make our changes, add changed files, and commit the changes \n",
    "\n",
    "4. `git add my_file.txt`\n",
    "5. `git commit -m \"Updated my_file.txt\" to add additional data.\"`\n",
    "\n",
    "Repeat these steps as many times as needed to do the task that's the focus of this branch. \n",
    "\n",
    "**Step 6:** Push the branch with our changes up to the cloud.\n",
    "\n",
    "6. `git push origin add_data`\n",
    "\n",
    "**Step 7:** Issue a pull request.\n",
    "\n",
    "7. On GitHub, issue a pull request for our new branch.\n",
    "\n",
    "If you're doing more work, go back to step 1 to update your project and start a new branch for the next topic. Then, on the website, we will issue a \"pull request\" to ask the main, shared project to incorporate our changes using an automated `git pull` action.\n",
    "\n",
    "This whole process is shown in the diagram below: \n",
    "\n",
    "<img src=\"./resources/2_github_diagram_no_setup.png\" width=\"600\"  description=\"A workflow diagram of the life cycle of a GitHub pull request, showing 7 steps. The top half of the diagram is in pink and marked 'Cloud' with a GitHub icon. The bottom half is in orange and marked 'Your Computer' with a laptop icon. The two sides are divided by a dashed line. The steps and their icons are labelled as follows: Step 1. A pink cloud marked Main Project 'upstream' main branch is connected by an arrow to an orange box labelled Local Personal Project Fork, main branch. The arrow is labelled Step 1, git pull upstream main. Step 2. Another arrow connects the Local Personal Project Fork box to another pink cloud marked Personal Fork 'Origin', main branch. The arrow is labelled Step 2, git push origin main. Step 3. An arrow connects the Local Personal Project Fork, main branch orange box to a Local Personal Project Fork, add data branch box. The arrow is labelled Step 3 git checkout -b add_data. Step 4 & 5. A thin orange box below the add_data fork is labelled Commit 1. The box is marked with an arrow lablled with two steps: Step 4 git add my_file.txt and Step 5 git commit my_file.txt -m 'Added help info'. Underlined text says: repeat steps 4 and 5 for each change. Two additional thin orange boxes below the first are labelled Commit 2 and Commit 3. Step 6. An arrow connects the box for the add data branch to a pink cloud icon labelled add data that touches the personal fork cloud. The arrow is labelled git push origin add_data. Step 7. A dashed line connects the small add data branch cloud to the main project cloud. The dashed line is labelled Issue Pull Request on GitHub website.\">\n",
    "\n",
    "That's a lot, so let's walk through each step one by one."
   ]
  },
  {
   "cell_type": "markdown",
   "metadata": {},
   "source": [
    "### Steps 1 & 2. Updating your local and cloud repositories to the main project\n",
    "\n",
    "In collaborative projects, it's possible that someone on your team has made some improvements to the main project repository since the last time you worked on it. It greatly simplifies things if before you start making new changes, you update your local copy and your personal fork of the project on the GitHub website to match the main project. There are several ways to do this. For this guide, we will first use a `git pull` command to update our local `main` branch with any changes to the main project. Then we will use a `git push` to push our (now updated) local `main` branch up to our fork in the cloud. Note that in older repositories `main` used to be called `master`. If that is the case in your project, just replace `main` in the commands with `master` instead.\n",
    "\n",
    "Specifically, these commands will look as follows:\n",
    "\n",
    "**Step 1**. Update your local `main` branch from the `upstream` shared project repository\n",
    "`git pull upstream main`\n",
    "\n",
    "**Step 2**. Push changes in your local `main` branch up into your personal fork in GitHub.\n",
    " `git push origin master`\n",
    " \n",
    " Note that somewhat confusingly the syntax for `git pull` and `git push` is opposite. `git pull` has arguments `<source>` then `<destination>`, whereas `git push` has arguments `<destination>` then `<source>`. So in the first command we pull from `upstream` to `main`, but in the second we push changes into `origin` from `main`.\n",
    " \n",
    " If that worked then congratulations! Your project should now be up to date. We are now ready to create a new branch on which to make changes. The diagram below summarizes what we've done so far:"
   ]
  },
  {
   "cell_type": "markdown",
   "metadata": {},
   "source": [
    "<img src=\"./resources/3_github_diagram_no_setup_steps_1_to_2.png\" width=\"600\"  description=\"The same workflow diagram (divided between a pink 'cloud' section on top and an orange 'Your computer' section below) is labelled with two steps. Yellow highlighted text says: Update your main branch in your local copy and cloud repository.  The first two steps are shown as follows: Step 1. A pink cloud marked Main Project 'upstream' main branch is connected by an arrow to an orange box labelled Local Personal Project Fork, main branch. The arrow is labelled Step 1, git pull upstream main. Step 2. Another arrow connects the Local Personal Project Fork box to another pink cloud marked Personal Fork 'Origin', main branch. The arrow is labelled Step 2, git push origin main.\">"
   ]
  },
  {
   "cell_type": "markdown",
   "metadata": {},
   "source": [
    "### Step 3. Creating a branch to work on\n",
    "\n",
    "\n",
    " \n",
    " <img src=\"./resources/4_github_diagram_no_setup_steps_1_to_3.png\" width=\"600\"  description=\"TODO: describe 4_github_diagram_no_setup_steps_1_to_3.png\">\n",
    " \n",
    " "
   ]
  },
  {
   "cell_type": "markdown",
   "metadata": {},
   "source": [
    "### Steps 4 & 5. `add` files, Make changes & `commit` them \n",
    "\n",
    "<img src=\"./resources/5_github_diagram_steps_3_to_5.png\" width=\"600\"  description=\"TODO: describe 5_github_diagram_steps_3_to_5.png\">"
   ]
  },
  {
   "cell_type": "markdown",
   "metadata": {},
   "source": [
    "### Steps 6 & 7. Upload your changes and issue a pull request\n",
    "\n",
    "<img src=\"./resources/6_github_diagram_steps_6_and_7.png\" width=\"600\"  description=\"TODO: describe 6_github_diagram_steps_6_and_7.png\">"
   ]
  },
  {
   "cell_type": "markdown",
   "metadata": {},
   "source": [
    "## Showing Images\n",
    "An image **with description field for screen readers**\n",
    "\n",
    "<img src=\"./resources/card_back_tree_canopy-01.png\" width=\"400\"  description=\"A picture of a tree canopy, as seen from below. The canopy is thick with intertwining branches, and blue sky can be seen peeking out from between the backlit leaves.\">"
   ]
  },
  {
   "cell_type": "markdown",
   "metadata": {},
   "source": [
    "## Writing Mathematical Symbols\n",
    "A simple math symbol: (see https://sites.psu.edu/symbolcodes/codehtml/#math and https://www.keynotesupport.com/internet/special-characters-greek-letters-symbols.shtml\n",
    "\n",
    "y = &beta;<sub>0</sub>x<sub>0</sub>  + &beta;<sub>1</sub>x<sub>1</sub> + &beta;<sub>2</sub>x<sub>2</sub> + &beta;<sub>3"
   ]
  },
  {
   "cell_type": "markdown",
   "metadata": {},
   "source": [
    "## Jupyter Notebook Tricks and Tips\n",
    "Split cells with cntrl-shift-minus\n",
    "\n",
    "[https://www.dataquest.io/blog/jupyter-notebook-tips-tricks-shortcuts/](https://www.dataquest.io/blog/jupyter-notebook-tips-tricks-shortcuts/)"
   ]
  },
  {
   "cell_type": "markdown",
   "metadata": {},
   "source": [
    "## 4-color palette\n",
    "- Bright green ( RGB 146,249,11)\n",
    "- Orange (RGB 253,173,1)\n",
    "- Magenta (RGB 255,19,170)\n",
    "- Deep Blue (RGB 11,79,175)"
   ]
  },
  {
   "cell_type": "markdown",
   "metadata": {},
   "source": [
    "## Quickly generate tags for all .png images in the resources file that start like 1_first_diagram.png"
   ]
  },
  {
   "cell_type": "code",
   "execution_count": 1,
   "metadata": {},
   "outputs": [
    {
     "name": "stdout",
     "output_type": "stream",
     "text": [
      "<img src=\"./resources/1_github_diagram_setup_only copy.png\" width=\"400\"  description=\"TODO: describe 1_github_diagram_setup_only copy.png\">\n",
      "<img src=\"./resources/2_github_diagram_no_setup.png\" width=\"400\"  description=\"TODO: describe 2_github_diagram_no_setup.png\">\n",
      "<img src=\"./resources/3_github_diagram_no_setup_steps_1_to_2.png\" width=\"400\"  description=\"TODO: describe 3_github_diagram_no_setup_steps_1_to_2.png\">\n",
      "<img src=\"./resources/4_github_diagram_no_setup_steps_1_to_3.png\" width=\"400\"  description=\"TODO: describe 4_github_diagram_no_setup_steps_1_to_3.png\">\n",
      "<img src=\"./resources/5_github_diagram_steps_3_to_5.png\" width=\"400\"  description=\"TODO: describe 5_github_diagram_steps_3_to_5.png\">\n",
      "<img src=\"./resources/6_github_diagram_steps_6_and_7.png\" width=\"400\"  description=\"TODO: describe 6_github_diagram_steps_6_and_7.png\">\n"
     ]
    }
   ],
   "source": [
    "from os import listdir\n",
    "resources = listdir(\"./resources/\")\n",
    "resources = [r for r in resources if \"_\" in r and r.split(\"_\")[0].isnumeric()]\n",
    "resources.sort(key= lambda x:int(x.split(\"_\")[0]))\n",
    "for f in resources:\n",
    "    if not f[0].isdigit():\n",
    "        continue\n",
    "    if not f.endswith(\".png\"):\n",
    "        continue\n",
    "\n",
    "    print(f'<img src=\"./resources/{f}\" width=\"400\"  description=\"TODO: describe {f}\">')"
   ]
  },
  {
   "cell_type": "markdown",
   "metadata": {},
   "source": [
    "<img src=\"./resources/3_github_diagram_no_setup_steps_1_to_2.png\" width=\"400\"  description=\"TODO: describe 3_github_diagram_no_setup_steps_1_to_2.png\">"
   ]
  },
  {
   "cell_type": "markdown",
   "metadata": {},
   "source": [
    "<img src=\"./resources/4_github_diagram_no_setup_steps_1_to_3.png\" width=\"400\"  description=\"TODO: describe 4_github_diagram_no_setup_steps_1_to_3.png\">"
   ]
  },
  {
   "cell_type": "markdown",
   "metadata": {},
   "source": [
    "<img src=\"./resources/5_github_diagram_steps_3_to_5.png\" width=\"400\"  description=\"TODO: describe 5_github_diagram_steps_3_to_5.png\">"
   ]
  },
  {
   "cell_type": "markdown",
   "metadata": {},
   "source": [
    "<img src=\"./resources/6_github_diagram_steps_6_and_7.png\" width=\"400\"  description=\"TODO: describe 6_github_diagram_steps_6_and_7.png\">"
   ]
  },
  {
   "cell_type": "markdown",
   "metadata": {},
   "source": [
    "## Exercises"
   ]
  },
  {
   "cell_type": "markdown",
   "metadata": {},
   "source": [
    "## Reading Responses & Feedback \n",
    "\n",
    "^Make this a hyperlink using Google Forms"
   ]
  },
  {
   "cell_type": "markdown",
   "metadata": {},
   "source": [
    "## Further Reading"
   ]
  },
  {
   "cell_type": "code",
   "execution_count": 1,
   "metadata": {},
   "outputs": [
    {
     "name": "stdout",
     "output_type": "stream",
     "text": [
      "9223372036854775807\n"
     ]
    }
   ],
   "source": [
    "import sys\n",
    "print(sys.maxsize)"
   ]
  },
  {
   "cell_type": "markdown",
   "metadata": {},
   "source": [
    "## References"
   ]
  }
 ],
 "metadata": {
  "kernelspec": {
   "display_name": "Python 3",
   "language": "python",
   "name": "python3"
  },
  "language_info": {
   "codemirror_mode": {
    "name": "ipython",
    "version": 3
   },
   "file_extension": ".py",
   "mimetype": "text/x-python",
   "name": "python",
   "nbconvert_exporter": "python",
   "pygments_lexer": "ipython3",
   "version": "3.8.8"
  }
 },
 "nbformat": 4,
 "nbformat_minor": 2
}
