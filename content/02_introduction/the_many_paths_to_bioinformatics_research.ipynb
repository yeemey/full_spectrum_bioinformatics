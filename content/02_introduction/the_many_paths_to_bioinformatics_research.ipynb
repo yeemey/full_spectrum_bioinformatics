{
 "cells": [
  {
   "cell_type": "markdown",
   "metadata": {},
   "source": [
    "# The Many Paths to Bioinformatics Research"
   ]
  },
  {
   "cell_type": "markdown",
   "metadata": {},
   "source": [
    "## In this section\n",
    "    - Discuss the many forms that bioinformatics research takes\n",
    "    - Highlight some of the diverse paths that have been taken by folks who have contributed to bioinformatics"
   ]
  },
  {
   "cell_type": "markdown",
   "metadata": {},
   "source": [
    "## Prerequisites\n",
    "    - None"
   ]
  },
  {
   "cell_type": "markdown",
   "metadata": {},
   "source": [
    "## Table of Content"
   ]
  },
  {
   "cell_type": "markdown",
   "metadata": {},
   "source": [
    "## Bioinformatics and Related Fields\n",
    "\n",
    "\"Bioinformatics\" is in the title of this project, so before we get started we should probably lay out what it includes. \n",
    "\n",
    "Bioinformatics is very broad, and generally refers to the use of computational methods to organize and analyze large quantities of biological data. More specifically, any project that develops new software or algorithms to analyze biological data, or applies existing software or algorithms to data to answer biological questions can be considered bioinformatics. If someone is skilled in bioinformatics, they are assumed to be able to analyze large datasets in order to test biological hypotheses. \n",
    "\n",
    "There are a few closely related terms that it may be useful to contrast:\n",
    "\n",
    "**Computational Biology** is a closely related term that is used in several senses by different workers in the field. Depending on who you ask, it may be taken to imply a more applied approach than bioinformatics (e.g. more application of existing methods than development of new ones) or to have more of a focus on modeling biological systems, or to be focused on smaller datasets [3].\n",
    "\n",
    "**Biostatistics** is a term for statistical analysis of biological data. In medical professions, there may be an implication that folks designing or analyzing a large clinical study or public health intevention are doing 'biostatistics', whereas those working with genome sequence data (or other molecular data) are doing 'bioinformatics'. In practice the two fields are extremely closely related, and nearly all bioinformatic analysis includes statistical analysis of biological data. Nonetheless, it can be useful to consider the nuances of meaning if you are considering which job ads to apply for. \n",
    "\n",
    "**Data Analytics** is a term used in several fields to refer to analysis of data. In buisiness, data analysts may be assumed to be versed in application of various methods to visualize, analyze and interpret data. This is similar to a statistician, but typically implies a greater ability to process large data sets computationally. Conversely, Data analysts may not necessarily be experts in the type of mathematical proofs necessary to develop new statistical methods, nor experts in developing new computational tools. Of course, this is just an implication - in practice some data analysts have extensive statistical training, or programming expertise, or both. \n",
    "\n",
    "**Data Science** is similar to Data Analytics, but implies a greater emphasis on development of new methods and use of machine learning or artificial intelligence approaches.\n",
    "\n",
    "As you can see, the distinctions between these terms are fairly subtle. In my opinion their most important use is when figuring out what types of skills job ads are looking for. Otherwise, when you are doing your own research, you are allowed to freely move between learning and working in ways that could be labelled bioinformatics, biostatistics, computational biology, data analytics, or data science. All these fields, while a little different in emphasis, draw on similar ideas, and anything you learn in one area is likely to be at least somewhat useful in the others."
   ]
  },
  {
   "cell_type": "markdown",
   "metadata": {},
   "source": [
    "## Bioinformatics Began with Proteins \n",
    "\n",
    "Many important early advances in the history of Bioinformatics occurred even before it was clearly demonstrated that DNA was the genetic material (Gautier et al., 2019). Proteins — which catalyze or speed up many important reactions in our cells — were already known to have many important biological functions. Until the Hershey-Chase experiments in the  1950s it was not yet fully established that DNA was the genetic material, and many scientists assumed that proteins would be the basis for heredity. Early bioinformatics aimed to study these proteins far before DNA sequencing was available.  \n",
    "\n",
    "Proteins are composed of units called **amino acids**. Proteins were studied by determining the sequence of amino acids that composed them, and the 3D structure that those strings of amino acids folded up into. Both of these problems ended up being complex, and requiring the help of computers to solve them.\n",
    "\n",
    "Protein sequence could be studied for short amino acid sequences using Edman sequencing. In this approach, one amino acid after another is chewed off the end of an amino acid chain. Edman sequencing worked well, as long as amino acid chains were shorter than about 60 nucleotides. Longer amino acid chains had to first be chopped up into smaller chains of amino acids for sequencing. Once those small chunks of protein were sequenced, the resulting small sequences had to be lined up in order ('assembled') to form the full sequence. However, the smaller sequences \n",
    "\n",
    "The 3D structure of these proteins — how their amino acid chains folded up to make more complex shapes — were studied by x-ray crystallography. In this technique protein is purified out of the slurry of cell contents, made to form pure crystals, and then x-rays are blasted through the crystals. Just like light passing through a prism, the x-rays diffract, forming patterns that yield information about the structure of the proteins in the crystal.\n",
    "\n",
    "[Margaret Oakley Dayhoff](https://en.wikipedia.org/wiki/Margaret_Oakley_Dayhoff), a physical chemist, was a key leader in applying computational methods to the study of biology. She began the use of one letter codes to represent amino acids, which we will use extensively in this text. Along with Robert S. Ledley, she developed COMPROTEIN the first program for assembling (lining up correctly) short overlapping amino acid sequences produced by Edman sequencing into a full protein sequence. As more and more protein families were sequenced, Margaret Oakley Dayhoff helped to develop databases to store them. \n",
    "\n",
    "Finally, by comparing available protein sequences, Margaret Oakley Dayhoff was able to show that when one amino acid changed to another over evolution, there were certain types of changes or substitutions that were much more likely than others. For example, amino acids that are hydrophobic ('water fearing') tend to avoid water, much like oil in a salad dressing tends to avoid vinegar. Over evolution, Margaret Oakley Dayhoff found that hydrophobic amino acids were more likely to be replaced or *substituted* with other hydrophobic amino acids. She quantified these trends in a 20 x 20 table called the PAM matrix (or point accepted mutation) showing the likelihood of each amino acid being subsituted with each other one, an idea that is still used today (e.g. in the BLOSUM matrix commonly used in the popular BLAST tool that we will learn about later on in the text). \n",
    "\n",
    "For these and other contributions, Margaret Oakley Dayhoff has been called 'the mother of bioinformatics'. Indeed, \n",
    "\n",
    "Thus, far before large-scale DNA sequencing was possible, important advances in bioinformatics were already happening in the study of proteins. As DNA sequence data became more available in the 1970s and 1980s, this already existing subfield of biology exploded in popularity, and came to represent a major element of modern biology."
   ]
  },
  {
   "cell_type": "markdown",
   "metadata": {},
   "source": [
    "## The Rise of Genomics and High-throughput Techniques in Biology\n",
    "\n",
    "In the figure below (**Figure 1**), I've used Google's N-gram viewer to trace the use of several terms related to bioinformatics. The x-axis is the year, while the y-axis is the percentage of N-grams in the Google Books dataset that include Genomics, Transcriptomics, Metabolomics, Computational Biology and Biostatistics.\n",
    "\n",
    "Check out the timeline of the usage of different terms below. Notice anything?"
   ]
  },
  {
   "cell_type": "markdown",
   "metadata": {},
   "source": [
    "<img src=\"./resources/google_ngram_viewer_10_07_2021.png\" width=\"1000\"  description=\"A smoothed line plot from Google Books showing the frequency of the term 'Bioinformatics' relative to related terms like Genomics, Transcriptomics, Metabolomics, Computational Biology and Biostatistics. Before the 1990s, genomics and bioinformatics were relatively rarely used terms, whereas biostatistics was quite common. The rise in mentions of bioinformatics matches fairly closely the rise in mentions of genomics, but delayed by about 4 years or so. Mentions of the word bioinformatics also appear to mirror mentions of other high-throughput methods for generating biological data like transcriptomics, proteomics, and metabolomics\">\n",
    "\n",
    "**Figure 1. Frequency of mentions of the word bioinformatics in Google Books between 1980 and 2019**. This graph was generated in the [Google Books Ngram viewer](https://books.google.com/ngrams/graph?content=Bioinformatics%2CGenomics%2CBiostatistics%2CTranscriptomics%2CProteomics%2CMetabolomics%2CMetagenomics%2CComputational+Biology&year_start=1980&year_end=2019&case_insensitive=on&corpus=26&smoothing=2&direct_url=t4%3B%2CBioinformatics%3B%2Cc0%3B%2Cs0%3B%3BBioinformatics%3B%2Cc0%3B%3Bbioinformatics%3B%2Cc0%3B%3BBIOINFORMATICS%3B%2Cc0%3B.t4%3B%2CGenomics%3B%2Cc0%3B%2Cs0%3B%3Bgenomics%3B%2Cc0%3B%3BGenomics%3B%2Cc0%3B%3BGENOMICS%3B%2Cc0%3B.t4%3B%2CBiostatistics%3B%2Cc0%3B%2Cs0%3B%3BBiostatistics%3B%2Cc0%3B%3Bbiostatistics%3B%2Cc0%3B%3BBIOSTATISTICS%3B%2Cc0%3B.t4%3B%2CTranscriptomics%3B%2Cc0%3B%2Cs0%3B%3Btranscriptomics%3B%2Cc0%3B%3BTranscriptomics%3B%2Cc0%3B%3BTRANSCRIPTOMICS%3B%2Cc0%3B.t4%3B%2CProteomics%3B%2Cc0%3B%2Cs0%3B%3Bproteomics%3B%2Cc0%3B%3BProteomics%3B%2Cc0%3B%3BPROTEOMICS%3B%2Cc0%3B.t4%3B%2CMetabolomics%3B%2Cc0%3B%2Cs0%3B%3Bmetabolomics%3B%2Cc0%3B%3BMetabolomics%3B%2Cc0%3B%3BMETABOLOMICS%3B%2Cc0%3B.t4%3B%2CMetagenomics%3B%2Cc0%3B%2Cs0%3B%3Bmetagenomics%3B%2Cc0%3B%3BMetagenomics%3B%2Cc0%3B%3BMETAGENOMICS%3B%2Cc0%3B.t4%3B%2CComputational%20Biology%3B%2Cc0%3B%2Cs0%3B%3BComputational%20Biology%3B%2Cc0%3B%3Bcomputational%20biology%3B%2Cc0%3B%3BComputational%20biology%3B%2Cc0%3B%3BCOMPUTATIONAL%20BIOLOGY%3B%2Cc0#t4%3B%2CBioinformatics%3B%2Cc0%3B%2Cs0%3B%3BBioinformatics%3B%2Cc0%3B%3Bbioinformatics%3B%2Cc0%3B%3BBIOINFORMATICS%3B%2Cc0%3B.t4%3B%2CGenomics%3B%2Cc0%3B%2Cs0%3B%3Bgenomics%3B%2Cc0%3B%3BGenomics%3B%2Cc0%3B%3BGENOMICS%3B%2Cc0%3B.t4%3B%2CBiostatistics%3B%2Cc0%3B%2Cs0%3B%3BBiostatistics%3B%2Cc0%3B%3Bbiostatistics%3B%2Cc0%3B%3BBIOSTATISTICS%3B%2Cc0%3B.t4%3B%2CTranscriptomics%3B%2Cc0%3B%2Cs0%3B%3Btranscriptomics%3B%2Cc0%3B%3BTranscriptomics%3B%2Cc0%3B%3BTRANSCRIPTOMICS%3B%2Cc0%3B.t4%3B%2CProteomics%3B%2Cc0%3B%2Cs0%3B%3Bproteomics%3B%2Cc0%3B%3BProteomics%3B%2Cc0%3B%3BPROTEOMICS%3B%2Cc0%3B.t4%3B%2CMetabolomics%3B%2Cc0%3B%2Cs0%3B%3Bmetabolomics%3B%2Cc0%3B%3BMetabolomics%3B%2Cc0%3B%3BMETABOLOMICS%3B%2Cc0%3B.t4%3B%2CMetagenomics%3B%2Cc0%3B%2Cs0%3B%3Bmetagenomics%3B%2Cc0%3B%3BMetagenomics%3B%2Cc0%3B%3BMETAGENOMICS%3B%2Cc0%3B.t4%3B%2CComputational%20Biology%3B%2Cc0%3B%2Cs0%3B%3BComputational%20Biology%3B%2Cc0%3B%3Bcomputational%20biology%3B%2Cc0%3B%3BComputational%20biology%3B%2Cc0%3B%3BCOMPUTATIONAL%20BIOLOGY%3B%2Cc0) with case-insensitive search terms Bioinformatics,Genomics,Biostatistics,Transcriptomics,Proteomics,Metabolomics,Metagenomics and Computational Biology  "
   ]
  },
  {
   "cell_type": "markdown",
   "metadata": {},
   "source": [
    "To me, it is pretty noticeable that Biostatistics was already used fairly frequently before the 1980s - unsurprising given that the development of many statistical methods used today preceded the use of computers in biology. As genome sequencing became available — starting with manual viral genomes in the 1970s and 1980s, and accelerating with automated sequencing in the 1990s — already existing techniques in bioinformatics became essential to interpreting the influx of new DNA sequence data.  \n",
    "\n",
    "As you can see in the figure above, although Bioinformatics really started with the study of proteins, the widespread popular usage of the term Bioinformatics increased in usage in correlation with Genomics, but delayed by 5 years or so. Computational Biology increases in usage around the same time, but remains less commonly used as a descriptor overall. This correlation may have lead to the perception that Bioinformatics arose as a field to process DNA data. \n",
    "\n",
    "In recent decades (e.g. since 2000), other technologies have joined genomics as common methods for quickly generating large sets of data about biology. These include transcriptomics (the study of RNA transcripts that reflect which genes are 'on' or 'off'), proteomics (the study of proteins, which catalyze many reactions in cells), and metabolomics (the study of metabolites, or chemicals that are present inside cells and are involved in metabolism). As you can see, references to each of these terms has grown greatly since 2000.  \n",
    "\n",
    "Together, techniques like genomics, transcriptomics, proteomics, and metabolomics are sometimes called **high-throughput** methods in biology. The throughput of a method is how many samples you can reasonably process in a given amount of time. So all these high-throughput methods are united by their ability to rapidly generate large quantities of data from biological samples. Although the most popular techniques to sequence DNA or identify metabolites can change rapidly over time, the general need to analyze and interpret large quantities of biological data is unlikely to go away any time soon. \n",
    "\n",
    "The bioinformatic techniques we will practice in this text are quite general. We won't try to cover every important technique for analyzing different types of data. Instead, we will build a useful foundation of core techniques in python programming and bioinformatics that you can draw on when analyzing whatever type of data you encounter. We will also practice going from a general area of interest "
   ]
  },
  {
   "cell_type": "markdown",
   "metadata": {},
   "source": [
    "## The many paths to bioinformatics research\n",
    "\n",
    "[Margaret Oakley Dayhoff](https://en.wikipedia.org/wiki/Margaret_Oakley_Dayhoff), who we heard  Use of one letter codes to represent amino acids, first evolutionary tree calculated on a computer\n",
    "\n",
    "[Bernie Krauss](https://online.ucpress.edu/abt/article/78/9/783/18854/Review-Nature-s-Orchestra)\n",
    "Soundscape ecology of Sequoia National Park https://link.springer.com/article/10.1007/s10980-011-9639-6\n",
    "\n",
    "[Catherine Lozupone](https://en.wikipedia.org/wiki/Catherine_A._Lozupone)\n",
    "\n",
    "[Joe Thornton](https://en.wikipedia.org/wiki/Joseph_Thornton_(biologist))\n",
    "\n",
    "\n",
    "\n",
    "\n",
    "### Subheading\n",
    "\n",
    "An image **with description field for screen readers**"
   ]
  },
  {
   "cell_type": "markdown",
   "metadata": {},
   "source": []
  },
  {
   "cell_type": "markdown",
   "metadata": {},
   "source": [
    "## Exercises"
   ]
  },
  {
   "cell_type": "markdown",
   "metadata": {},
   "source": [
    "## Reading Responses & Feedback \n",
    "\n",
    "^Make this a hyperlink using Google Forms"
   ]
  },
  {
   "cell_type": "markdown",
   "metadata": {},
   "source": [
    "## Further Reading\n",
    "\n",
    "[International Society for Computational Biology (ISCB)](https://www.iscb.org/)\n",
    "\n",
    "[Black Women in Computational Biology Network](https://www.blackwomencompbio.org/blog)\n",
    "\n",
    "[500 Queer Scientists - Bioinformatics](https://500queerscientists.com/?s=&category=159&location=0)\n",
    "\n"
   ]
  },
  {
   "cell_type": "markdown",
   "metadata": {},
   "source": [
    "## References\n",
    "\n",
    "\n",
    "[1] \"Computational Biology vs. Bioinformatics\", Northeastern Graduate Blog https://www.northeastern.edu/graduate/blog/computational-biology-vs-bioinformatics/\n",
    "\n",
    "[2] Pearson, H. Prehistoric proteins: Raising the dead. Nature 483, 390–393 (2012). https://doi.org/10.1038/483390a https://www.nature.com/articles/483390a\n",
    "\n",
    "[3] Jeff Gauthier, Antony T Vincent, Steve J Charette, Nicolas Derome, A brief history of bioinformatics, Briefings in Bioinformatics, Volume 20, Issue 6, November 2019, Pages 1981–1996, https://doi.org/10.1093/bib/bby063\n"
   ]
  },
  {
   "cell_type": "code",
   "execution_count": null,
   "metadata": {},
   "outputs": [],
   "source": []
  }
 ],
 "metadata": {
  "kernelspec": {
   "display_name": "Python 3",
   "language": "python",
   "name": "python3"
  },
  "language_info": {
   "codemirror_mode": {
    "name": "ipython",
    "version": 3
   },
   "file_extension": ".py",
   "mimetype": "text/x-python",
   "name": "python",
   "nbconvert_exporter": "python",
   "pygments_lexer": "ipython3",
   "version": "3.8.8"
  }
 },
 "nbformat": 4,
 "nbformat_minor": 2
}
