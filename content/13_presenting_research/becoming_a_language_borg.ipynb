{
 "cells": [
  {
   "cell_type": "markdown",
   "id": "113b06b8",
   "metadata": {},
   "source": [
    "# Resistance is Futile: Becoming a Language Borg\n",
    "\n",
    "In Star Trek: The Next Generation, the Borg are cybernetic aliens that adopt the technology and knowledge of other species and cultures through a sinister process called Assimilation. When writing about our science, we won't be injecting other scientists with nanoprobes or robotically stating that \"Resistance is Futile.\" But as scientific communicators we do want to learn from and assimilate successful communication strategies used by others. In doing so, we can benefit from thinking just a little bit like The Borg."
   ]
  },
  {
   "cell_type": "markdown",
   "id": "3af8fcc8",
   "metadata": {},
   "source": [
    "## Templating\n",
    "\n",
    "In this chapter, we'll talk about a strategy called **templating** we can use to improve our writing. We'll talk about it mostly in the context of scientific writing, but its a useful way to analyze and understand writing techniques in any domain.\n",
    "\n",
    "The basic idea of templating is to take a specific example of effective scientific writing, then to abstract it into a general pattern that could be used in many different contexts, and finally to practice generating your own writing using that pattern. Let's break down each of these steps in turn:\n",
    "\n",
    "\n",
    "1. **Identify** a source. In this step, we'll find a piece of language — a sentence, paragraph, or maybe even whole chapter — that we find really clear or compelling. If you've been following along in this text, you could go back to some of the papers you liked best from your literature review, and re-read them to focus in on specific explanations that you liked.  It's a good idea to record citation info and a link to your source so you can find it later.\n",
    "\n",
    "\n",
    "2. **Study** the source. Write down some general notes about what you appreciate about the source writing, and what yout hink makes it effective. \n",
    "\n",
    "\n",
    "3. **Abstract** the source into a template. In this step, we'll try to understand what makes our source writing work. We'll then try to write a template that substitutes specific details of the language with more general placeholders. I usually use square brackets to indicate these placeholders. \n",
    "\n",
    "\n",
    "4. **Produce** your own examples. In this step you'll use your template to produce new writing about topics that aren't related to your source. If you're working on a bioinformatic project of your own, you might use these productions to experiment with where you could use this language strucutre in your own writing. Sometimes it's helpful to include an extra sentence or two for context. I find it most helpful to come up with two or three of these, just to get this new language pattern into muscle memory.\n",
    "\n",
    "These steps will be much clearer when you see them applied to a few examples."
   ]
  },
  {
   "cell_type": "markdown",
   "id": "a034d041",
   "metadata": {},
   "source": [
    "### Example 1. From Pinker 1997, \"Words and Rules in the Human Brain\".\n",
    "\n",
    "It's good to learn from the communication strategies of folks you both like and dislike. While I have very strong personal opinions about Steven Pinker, I also appreciate some of the writing strategies he uses in his scientific writing. \n",
    "\n",
    "**Source:**\n",
    "\n",
    "    \"Regular verbs have a natural control group — the irregular verbs, such as ring-rang\" \n",
    "    (Pinker 1997)\n",
    "\n",
    "**Notes:**\n",
    "    \n",
    "        I like that this sentence seamlessly includes a specific example of a category (irregular verbs in English), that readers might otherwise have difficulty bringing to mind. The dashed phrase feels dramatic when read, like a speaker is pausing for dramatic effect before going on to clue us in on the control \n",
    "\n",
    "**Template:**\n",
    "\n",
    "    [category X] has a [related category] — [category Y], such as [example of category Y]\n",
    "\n",
    "**Production:**\n",
    "\n",
    "\"for loops in python have a natural complement — iterable data structures, such as lists, dicts, and sets.\"\n",
    "\n",
    "\"Overgrowth of benthic algae on coral reefs has a natural solution — herbivores, such as *Diadema* urchins or Stoplight Parrotfish.\"\n",
    "\n",
    " \"While bird microbiomes differ in stability and richness from those of terrestrial mammals, it is challenging to determine if this is due to phylogeny, or has more to do with flight. Luckily, the microbiome of birds has a clear control group — that of flighted mammals, such as bats.\"\n",
    "    "
   ]
  },
  {
   "cell_type": "markdown",
   "id": "68dc9785",
   "metadata": {},
   "source": [
    "Now let's try a longer and more biological example.\n",
    "\n",
    "\n",
    "### Example 2. From [Blechman 2015](https://genomebiology.biomedcentral.com/counter/pdf/10.1186/s13059-015-0759-1.pdf), \"Host genetic variation impacts microbiome composition across human body sites\".\n",
    "\n",
    "**Source:**\n",
    "\n",
    "    \"We recognize at the outset that our sample size is an order of magnitude smaller than most genome-wide association studies (GWAS), precluding us from being able to perform a standard test of association between microbiome composition and each SNP. Therefore, instead, we used a pathway-based analysis, whereby we aggregated SNPs into pathways in order to learn about the biological functions and processes that underlie interactions between host genome and the microbiome. We note that this is a common analysis approach for genome-wide association data, driven by the rationale that complex traits are controlled by multiple genetic effects, which could originate in different genes, but are likely to aggregate in the same biological pathway or function.\"\n",
    "    \n",
    "    (Blechman 2015)\n",
    "\n",
    "**Notes:**\n",
    "    \n",
    "I like how this short paragraph answers a key objective the reader has. I zeroed in on the last sentence which both highlights when a technique is common in a field the reader may not be super familiar with (e.g. genomics approaches for a microbiome reader) and why it makes sense. Probably the 'we note that' could be dropped if needed, though it may serve to call attention to a point that could otherwise be missed. \n",
    "        \n",
    "I both like the overall structure of problem, then method, then why the method makes sense, and the specific way the method of pooling microbe-SNP associations into pathways is discussed, so I made separate templates for each.\n",
    "\n",
    "**Templates:**\n",
    "\n",
    "  We note that [strategy] is a common analysis approach for [data type], driven by the rationale that [rationale]\n",
    "  \n",
    "  We recognize [problem]. Therefore, [sentence about method you used]. [Explanation of why method makes sense to address problem]\n",
    "  \n",
    "\n",
    "**Productions:**\n",
    "\n",
    "\"All p-values for gene copy number - microbiome correlations were Bonferroni-corrected. We note that this is a common strategy for microbiome data, driven by the rationale that there is a much higher cost to false positives than false negatives, and therefore a stringent control for multiple comparisons is appropriate.\"\n",
    "\n",
    "\"We recognize that contamination is a common issue in microbiome studies. Therefore, all sequencing runs included both blanks and mock communities. This allowed us to check for contamination using the blanks, and to check accuracy by comparing the mock community sequence libraries against the known composition of those communities.\"\n",
    "\n",
    "    "
   ]
  },
  {
   "cell_type": "markdown",
   "id": "9b1a8124",
   "metadata": {},
   "source": [
    "## Templating vs. Plagiarism\n",
    "\n",
    "If you've had any instruction on academic writing, you know that it's critical to write in your own words and to cite your sources. Directly copying anyone else's language into an academic text is plagiarism. However, it is normal and extremely important to learn from effective writing, including by emulating language structures deployed by others.\n",
    "\n",
    "This might seem like a contradiction, but in fact follows a pretty clear pattern. An example from art might be helpful to clarify. If I like Van Gogh's \"Starry Night\", paint an exact replica, and then try to pass it off as my original work, that's plagiarism. If I like Van Gogh's \"Starry Night\", study the style and techniques that make the painting work and then try to apply them in my own work, that's templating.\n",
    "\n",
    "In this way the main difference between unethical plagiarism and templating is in the *degree of abstraction*. Instead of unethically using someone's exact words (often without understanding them very well), we're instead seeking to understand and assimilate the language structure underneath those words.\n",
    "\n",
    "In truth, I almost never use these templates or the productions from them *directly* when writing, but instead find that the act of writing them down and glancing at them from time to time helps to remind me of the toolbox of different ways an idea *could* be written."
   ]
  },
  {
   "cell_type": "markdown",
   "id": "e16bdfea",
   "metadata": {},
   "source": [
    "# Exercises\n",
    "\n",
    "1. Pick one of the papers you've read recently that you remember being clear or well-written. You might use one that you wrote about for your Literature Synthesis. Reread it, looking for sections or sentences that you liked. Pick one, and write some notes about why it works. Then, try to abstract it into a template, removing specific details and replacing them with general placeholders. Finally, write 3 productions (sentences) from your template. You might write these around things you already wanted to talk about for your research project.\n",
    "\n",
    "\n",
    "2. Read the titles of 10 papers in an area of research related to your project on Google Scholar or another database of peer-reviewed papers. Pick 2-3 that you like. Generate a template for each of them. Then, see if you can generate some possible titles for your project using these templates as examples. "
   ]
  },
  {
   "cell_type": "code",
   "execution_count": null,
   "id": "9d6392fe",
   "metadata": {},
   "outputs": [],
   "source": []
  }
 ],
 "metadata": {
  "kernelspec": {
   "display_name": "Python 3",
   "language": "python",
   "name": "python3"
  },
  "language_info": {
   "codemirror_mode": {
    "name": "ipython",
    "version": 3
   },
   "file_extension": ".py",
   "mimetype": "text/x-python",
   "name": "python",
   "nbconvert_exporter": "python",
   "pygments_lexer": "ipython3",
   "version": "3.8.8"
  }
 },
 "nbformat": 4,
 "nbformat_minor": 5
}
